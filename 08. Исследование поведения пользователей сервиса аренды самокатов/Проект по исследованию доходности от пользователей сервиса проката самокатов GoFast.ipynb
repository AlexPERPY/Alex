{
 "cells": [
  {
   "cell_type": "markdown",
   "id": "44a3edb5",
   "metadata": {},
   "source": [
    "# Проект по исследованию доходности от пользователей сервиса проката самокатов GoFast."
   ]
  },
  {
   "cell_type": "markdown",
   "id": "9f187342",
   "metadata": {},
   "source": [
    " В нашем распоряжении данные о некоторых пользователях из нескольких городов - о длительности их поездок, расстоянии, возрасте и наличии подписки. А также тарифы на пользование самокатом."
   ]
  },
  {
   "cell_type": "markdown",
   "id": "c99a54a2",
   "metadata": {},
   "source": [
    "Цель проекта - выявить, являются ли пользователи с подпиской более выгодными для компании."
   ]
  },
  {
   "cell_type": "markdown",
   "id": "ebae9b92",
   "metadata": {},
   "source": [
    "План выполнения проекта:\n",
    "\n",
    "    \n",
    "Шаг 1. Загрузка необходимых для работы библиотек и данных.\n",
    "* 1.2 Изучение общей информации о каждом датафрейме.\n",
    "\n",
    "Шаг 2. Предобработка данных:\n",
    "* 2.1 Приведем столбец date к типу даты pandas.\n",
    "* 2.2 Создадим новый столбец с номером месяца на основе столбца date.\n",
    "* 2.3 Проверим наличие пропущенных значений и дубликатов в датафреймах.\n",
    "\n",
    "Шаг 3. Исследовательский анализ данных - опишем и визуализируйте общую информацию о пользователях и поездках:\n",
    "* 3.1 частота встречаемости городов;\n",
    "* 3.2 соотношение пользователей с подпиской и без подписки;\n",
    "* 3.3 возраст пользователей;\n",
    "* 3.4 расстояние, которое пользователь преодолел за одну поездку;\n",
    "* 3.5 продолжительность поездок.\n",
    "\n",
    "Шаг 4. Объединим данные о пользователях, поездках и подписках в один датафрейм.\n",
    "* 4.1 Создадим ещё два датафрейма из датафрейма, созданного на этапе 4:\n",
    "c данными о пользователях без подписки;\n",
    "с данными о пользователях с подпиской.\n",
    "* 4.2 Визуализируем информацию о расстоянии и времени поездок для пользователей обеих категорий.\n",
    "\n",
    "Шаг 5. Подсчёт выручки\n",
    "* 5.1 Создайте датафрейм с агрегированными данными о поездках на основе датафрейма с объединёнными данными из шага 4: найдите суммарное расстояние, количество поездок и суммарное время для каждого пользователя за каждый месяц.\n",
    "* 5.2 В этот же датафрейм добавьте столбец с помесячной выручкой, которую принёс каждый пользователь. Для этого обратитесь к информации об условиях оплаты для подписчиков и тех, у кого нет подписки. Продолжительность каждой поездки в каждой строке исходного датафрейма для подсчёта стоимости округляется до следующего целого числа: например, значения \n",
    "\n",
    "Шаг 6. Проверка гипотез\n",
    "* 6.1 Важно понять, тратят ли пользователи с подпиской больше времени на поездки? \n",
    "* 6.2 Можно ли сказать, что среднее расстояние, которое проезжают пользователи с подпиской за одну поездку, не превышает 3130 метров?\n",
    "* 6.3 Будет ли помесячная выручка от пользователей с подпиской по месяцам выше, чем выручка от пользователей без подписки?\n",
    "* 6.4 Ответим на вопрос какой тест нам понадобился бы для проверки такой гипотезы: техническая команда сервиса обновила сервера, с которыми взаимодействует мобильное приложение. Она надеется, что из-за этого количество обращений в техподдержку значимо снизилось. Некоторый файл содержит для каждого пользователя данные о количестве обращений до обновления и после него. "
   ]
  },
  {
   "cell_type": "markdown",
   "id": "c42cbe00",
   "metadata": {},
   "source": [
    "#### Шаг 1. Загрузка данных"
   ]
  },
  {
   "cell_type": "markdown",
   "id": "863a3330",
   "metadata": {},
   "source": [
    "#####  Импортируем необходимые для исследования библиотеки."
   ]
  },
  {
   "cell_type": "code",
   "execution_count": 1,
   "id": "72576667",
   "metadata": {},
   "outputs": [],
   "source": [
    "from scipy import stats as st\n",
    "import pandas as pd\n",
    "import matplotlib.pyplot as plt\n",
    "import numpy as np\n",
    "from math import factorial\n",
    "import seaborn as sns"
   ]
  },
  {
   "cell_type": "markdown",
   "id": "438bd85c",
   "metadata": {},
   "source": [
    "#####  Сохраним датафреймы в переменных и посмотрим на первые несколько строк."
   ]
  },
  {
   "cell_type": "code",
   "execution_count": 2,
   "id": "eff9f206",
   "metadata": {},
   "outputs": [],
   "source": [
    "users_go = pd.read_csv('/datasets/users_go.csv')\n",
    "rides_go = pd.read_csv('/datasets/rides_go.csv')\n",
    "subscriptions_go = pd.read_csv('/datasets/subscriptions_go.csv')"
   ]
  },
  {
   "cell_type": "code",
   "execution_count": 3,
   "id": "212839b4",
   "metadata": {},
   "outputs": [
    {
     "name": "stdout",
     "output_type": "stream",
     "text": [
      "<class 'pandas.core.frame.DataFrame'>\n",
      "RangeIndex: 1565 entries, 0 to 1564\n",
      "Data columns (total 5 columns):\n",
      " #   Column             Non-Null Count  Dtype \n",
      "---  ------             --------------  ----- \n",
      " 0   user_id            1565 non-null   int64 \n",
      " 1   name               1565 non-null   object\n",
      " 2   age                1565 non-null   int64 \n",
      " 3   city               1565 non-null   object\n",
      " 4   subscription_type  1565 non-null   object\n",
      "dtypes: int64(2), object(3)\n",
      "memory usage: 61.3+ KB\n"
     ]
    }
   ],
   "source": [
    "users_go.info()"
   ]
  },
  {
   "cell_type": "code",
   "execution_count": 4,
   "id": "135932bb",
   "metadata": {},
   "outputs": [
    {
     "data": {
      "text/html": [
       "<div>\n",
       "<style scoped>\n",
       "    .dataframe tbody tr th:only-of-type {\n",
       "        vertical-align: middle;\n",
       "    }\n",
       "\n",
       "    .dataframe tbody tr th {\n",
       "        vertical-align: top;\n",
       "    }\n",
       "\n",
       "    .dataframe thead th {\n",
       "        text-align: right;\n",
       "    }\n",
       "</style>\n",
       "<table border=\"1\" class=\"dataframe\">\n",
       "  <thead>\n",
       "    <tr style=\"text-align: right;\">\n",
       "      <th></th>\n",
       "      <th>user_id</th>\n",
       "      <th>name</th>\n",
       "      <th>age</th>\n",
       "      <th>city</th>\n",
       "      <th>subscription_type</th>\n",
       "    </tr>\n",
       "  </thead>\n",
       "  <tbody>\n",
       "    <tr>\n",
       "      <th>0</th>\n",
       "      <td>1</td>\n",
       "      <td>Кира</td>\n",
       "      <td>22</td>\n",
       "      <td>Тюмень</td>\n",
       "      <td>ultra</td>\n",
       "    </tr>\n",
       "    <tr>\n",
       "      <th>1</th>\n",
       "      <td>2</td>\n",
       "      <td>Станислав</td>\n",
       "      <td>31</td>\n",
       "      <td>Омск</td>\n",
       "      <td>ultra</td>\n",
       "    </tr>\n",
       "    <tr>\n",
       "      <th>2</th>\n",
       "      <td>3</td>\n",
       "      <td>Алексей</td>\n",
       "      <td>20</td>\n",
       "      <td>Москва</td>\n",
       "      <td>ultra</td>\n",
       "    </tr>\n",
       "    <tr>\n",
       "      <th>3</th>\n",
       "      <td>4</td>\n",
       "      <td>Константин</td>\n",
       "      <td>26</td>\n",
       "      <td>Ростов-на-Дону</td>\n",
       "      <td>ultra</td>\n",
       "    </tr>\n",
       "    <tr>\n",
       "      <th>4</th>\n",
       "      <td>5</td>\n",
       "      <td>Адель</td>\n",
       "      <td>28</td>\n",
       "      <td>Омск</td>\n",
       "      <td>ultra</td>\n",
       "    </tr>\n",
       "  </tbody>\n",
       "</table>\n",
       "</div>"
      ],
      "text/plain": [
       "   user_id        name  age            city subscription_type\n",
       "0        1        Кира   22          Тюмень             ultra\n",
       "1        2   Станислав   31            Омск             ultra\n",
       "2        3     Алексей   20          Москва             ultra\n",
       "3        4  Константин   26  Ростов-на-Дону             ultra\n",
       "4        5       Адель   28            Омск             ultra"
      ]
     },
     "execution_count": 4,
     "metadata": {},
     "output_type": "execute_result"
    }
   ],
   "source": [
    "users_go.head(5)"
   ]
  },
  {
   "cell_type": "markdown",
   "id": "a9a17303",
   "metadata": {},
   "source": [
    "В users_go нет пропусков. Типы данных соответствуют содержимому."
   ]
  },
  {
   "cell_type": "code",
   "execution_count": 5,
   "id": "4cf640a7",
   "metadata": {},
   "outputs": [
    {
     "name": "stdout",
     "output_type": "stream",
     "text": [
      "<class 'pandas.core.frame.DataFrame'>\n",
      "RangeIndex: 18068 entries, 0 to 18067\n",
      "Data columns (total 4 columns):\n",
      " #   Column    Non-Null Count  Dtype  \n",
      "---  ------    --------------  -----  \n",
      " 0   user_id   18068 non-null  int64  \n",
      " 1   distance  18068 non-null  float64\n",
      " 2   duration  18068 non-null  float64\n",
      " 3   date      18068 non-null  object \n",
      "dtypes: float64(2), int64(1), object(1)\n",
      "memory usage: 564.8+ KB\n"
     ]
    }
   ],
   "source": [
    "rides_go.info()"
   ]
  },
  {
   "cell_type": "code",
   "execution_count": 6,
   "id": "8edd2db0",
   "metadata": {},
   "outputs": [
    {
     "data": {
      "text/html": [
       "<div>\n",
       "<style scoped>\n",
       "    .dataframe tbody tr th:only-of-type {\n",
       "        vertical-align: middle;\n",
       "    }\n",
       "\n",
       "    .dataframe tbody tr th {\n",
       "        vertical-align: top;\n",
       "    }\n",
       "\n",
       "    .dataframe thead th {\n",
       "        text-align: right;\n",
       "    }\n",
       "</style>\n",
       "<table border=\"1\" class=\"dataframe\">\n",
       "  <thead>\n",
       "    <tr style=\"text-align: right;\">\n",
       "      <th></th>\n",
       "      <th>user_id</th>\n",
       "      <th>distance</th>\n",
       "      <th>duration</th>\n",
       "      <th>date</th>\n",
       "    </tr>\n",
       "  </thead>\n",
       "  <tbody>\n",
       "    <tr>\n",
       "      <th>0</th>\n",
       "      <td>1</td>\n",
       "      <td>4409.919140</td>\n",
       "      <td>25.599769</td>\n",
       "      <td>2021-01-01</td>\n",
       "    </tr>\n",
       "    <tr>\n",
       "      <th>1</th>\n",
       "      <td>1</td>\n",
       "      <td>2617.592153</td>\n",
       "      <td>15.816871</td>\n",
       "      <td>2021-01-18</td>\n",
       "    </tr>\n",
       "    <tr>\n",
       "      <th>2</th>\n",
       "      <td>1</td>\n",
       "      <td>754.159807</td>\n",
       "      <td>6.232113</td>\n",
       "      <td>2021-04-20</td>\n",
       "    </tr>\n",
       "    <tr>\n",
       "      <th>3</th>\n",
       "      <td>1</td>\n",
       "      <td>2694.783254</td>\n",
       "      <td>18.511000</td>\n",
       "      <td>2021-08-11</td>\n",
       "    </tr>\n",
       "    <tr>\n",
       "      <th>4</th>\n",
       "      <td>1</td>\n",
       "      <td>4028.687306</td>\n",
       "      <td>26.265803</td>\n",
       "      <td>2021-08-28</td>\n",
       "    </tr>\n",
       "  </tbody>\n",
       "</table>\n",
       "</div>"
      ],
      "text/plain": [
       "   user_id     distance   duration        date\n",
       "0        1  4409.919140  25.599769  2021-01-01\n",
       "1        1  2617.592153  15.816871  2021-01-18\n",
       "2        1   754.159807   6.232113  2021-04-20\n",
       "3        1  2694.783254  18.511000  2021-08-11\n",
       "4        1  4028.687306  26.265803  2021-08-28"
      ]
     },
     "execution_count": 6,
     "metadata": {},
     "output_type": "execute_result"
    }
   ],
   "source": [
    "rides_go.head(5)"
   ]
  },
  {
   "cell_type": "code",
   "execution_count": 7,
   "id": "c959c970",
   "metadata": {},
   "outputs": [
    {
     "data": {
      "text/html": [
       "<div>\n",
       "<style scoped>\n",
       "    .dataframe tbody tr th:only-of-type {\n",
       "        vertical-align: middle;\n",
       "    }\n",
       "\n",
       "    .dataframe tbody tr th {\n",
       "        vertical-align: top;\n",
       "    }\n",
       "\n",
       "    .dataframe thead th {\n",
       "        text-align: right;\n",
       "    }\n",
       "</style>\n",
       "<table border=\"1\" class=\"dataframe\">\n",
       "  <thead>\n",
       "    <tr style=\"text-align: right;\">\n",
       "      <th></th>\n",
       "      <th>subscription_type</th>\n",
       "      <th>minute_price</th>\n",
       "      <th>start_ride_price</th>\n",
       "      <th>subscription_fee</th>\n",
       "    </tr>\n",
       "  </thead>\n",
       "  <tbody>\n",
       "    <tr>\n",
       "      <th>0</th>\n",
       "      <td>free</td>\n",
       "      <td>8</td>\n",
       "      <td>50</td>\n",
       "      <td>0</td>\n",
       "    </tr>\n",
       "    <tr>\n",
       "      <th>1</th>\n",
       "      <td>ultra</td>\n",
       "      <td>6</td>\n",
       "      <td>0</td>\n",
       "      <td>199</td>\n",
       "    </tr>\n",
       "  </tbody>\n",
       "</table>\n",
       "</div>"
      ],
      "text/plain": [
       "  subscription_type  minute_price  start_ride_price  subscription_fee\n",
       "0              free             8                50                 0\n",
       "1             ultra             6                 0               199"
      ]
     },
     "execution_count": 7,
     "metadata": {},
     "output_type": "execute_result"
    }
   ],
   "source": [
    "subscriptions_go.head(5)"
   ]
  },
  {
   "cell_type": "code",
   "execution_count": 8,
   "id": "8392e985",
   "metadata": {},
   "outputs": [
    {
     "name": "stdout",
     "output_type": "stream",
     "text": [
      "<class 'pandas.core.frame.DataFrame'>\n",
      "RangeIndex: 2 entries, 0 to 1\n",
      "Data columns (total 4 columns):\n",
      " #   Column             Non-Null Count  Dtype \n",
      "---  ------             --------------  ----- \n",
      " 0   subscription_type  2 non-null      object\n",
      " 1   minute_price       2 non-null      int64 \n",
      " 2   start_ride_price   2 non-null      int64 \n",
      " 3   subscription_fee   2 non-null      int64 \n",
      "dtypes: int64(3), object(1)\n",
      "memory usage: 192.0+ bytes\n"
     ]
    }
   ],
   "source": [
    "subscriptions_go.info()"
   ]
  },
  {
   "cell_type": "markdown",
   "id": "1c1cb7dd",
   "metadata": {},
   "source": [
    "Пропусков нет. Типы данных соответствуют содержимому."
   ]
  },
  {
   "cell_type": "markdown",
   "id": "e95ebca7",
   "metadata": {},
   "source": [
    "#### Шаг 2. Предобработка данных"
   ]
  },
  {
   "cell_type": "markdown",
   "id": "d66b4178",
   "metadata": {},
   "source": [
    "##### Проверим данные на пропуски и проведем изменение типов данных."
   ]
  },
  {
   "cell_type": "markdown",
   "id": "f2008d1d",
   "metadata": {},
   "source": [
    "В rides_go нет пропусков. Тип данных в столбце date не соответствуют содержимому. Изменим на datetime:"
   ]
  },
  {
   "cell_type": "code",
   "execution_count": 9,
   "id": "64948158",
   "metadata": {},
   "outputs": [
    {
     "name": "stdout",
     "output_type": "stream",
     "text": [
      "<class 'pandas.core.frame.DataFrame'>\n",
      "RangeIndex: 18068 entries, 0 to 18067\n",
      "Data columns (total 4 columns):\n",
      " #   Column    Non-Null Count  Dtype         \n",
      "---  ------    --------------  -----         \n",
      " 0   user_id   18068 non-null  int64         \n",
      " 1   distance  18068 non-null  float64       \n",
      " 2   duration  18068 non-null  float64       \n",
      " 3   date      18068 non-null  datetime64[ns]\n",
      "dtypes: datetime64[ns](1), float64(2), int64(1)\n",
      "memory usage: 564.8 KB\n"
     ]
    }
   ],
   "source": [
    "rides_go['date'] = pd.to_datetime(rides_go['date'], format=\"%Y-%m-%d\")\n",
    "rides_go.info()"
   ]
  },
  {
   "cell_type": "markdown",
   "id": "e50b74a3",
   "metadata": {},
   "source": [
    "Добавим столбец с номером месяца:"
   ]
  },
  {
   "cell_type": "code",
   "execution_count": 10,
   "id": "8d8fae82",
   "metadata": {},
   "outputs": [
    {
     "data": {
      "text/html": [
       "<div>\n",
       "<style scoped>\n",
       "    .dataframe tbody tr th:only-of-type {\n",
       "        vertical-align: middle;\n",
       "    }\n",
       "\n",
       "    .dataframe tbody tr th {\n",
       "        vertical-align: top;\n",
       "    }\n",
       "\n",
       "    .dataframe thead th {\n",
       "        text-align: right;\n",
       "    }\n",
       "</style>\n",
       "<table border=\"1\" class=\"dataframe\">\n",
       "  <thead>\n",
       "    <tr style=\"text-align: right;\">\n",
       "      <th></th>\n",
       "      <th>user_id</th>\n",
       "      <th>distance</th>\n",
       "      <th>duration</th>\n",
       "      <th>date</th>\n",
       "      <th>month_number</th>\n",
       "    </tr>\n",
       "  </thead>\n",
       "  <tbody>\n",
       "    <tr>\n",
       "      <th>0</th>\n",
       "      <td>1</td>\n",
       "      <td>4409.919140</td>\n",
       "      <td>25.599769</td>\n",
       "      <td>2021-01-01</td>\n",
       "      <td>1</td>\n",
       "    </tr>\n",
       "    <tr>\n",
       "      <th>1</th>\n",
       "      <td>1</td>\n",
       "      <td>2617.592153</td>\n",
       "      <td>15.816871</td>\n",
       "      <td>2021-01-18</td>\n",
       "      <td>1</td>\n",
       "    </tr>\n",
       "    <tr>\n",
       "      <th>2</th>\n",
       "      <td>1</td>\n",
       "      <td>754.159807</td>\n",
       "      <td>6.232113</td>\n",
       "      <td>2021-04-20</td>\n",
       "      <td>4</td>\n",
       "    </tr>\n",
       "    <tr>\n",
       "      <th>3</th>\n",
       "      <td>1</td>\n",
       "      <td>2694.783254</td>\n",
       "      <td>18.511000</td>\n",
       "      <td>2021-08-11</td>\n",
       "      <td>8</td>\n",
       "    </tr>\n",
       "    <tr>\n",
       "      <th>4</th>\n",
       "      <td>1</td>\n",
       "      <td>4028.687306</td>\n",
       "      <td>26.265803</td>\n",
       "      <td>2021-08-28</td>\n",
       "      <td>8</td>\n",
       "    </tr>\n",
       "  </tbody>\n",
       "</table>\n",
       "</div>"
      ],
      "text/plain": [
       "   user_id     distance   duration       date  month_number\n",
       "0        1  4409.919140  25.599769 2021-01-01             1\n",
       "1        1  2617.592153  15.816871 2021-01-18             1\n",
       "2        1   754.159807   6.232113 2021-04-20             4\n",
       "3        1  2694.783254  18.511000 2021-08-11             8\n",
       "4        1  4028.687306  26.265803 2021-08-28             8"
      ]
     },
     "execution_count": 10,
     "metadata": {},
     "output_type": "execute_result"
    }
   ],
   "source": [
    "rides_go['month_number'] = pd.DatetimeIndex(rides_go['date']).month\n",
    "rides_go.head()"
   ]
  },
  {
   "cell_type": "markdown",
   "id": "b10ec260",
   "metadata": {},
   "source": [
    "Проверить за какой период представлены данные, чтобы убедиться что данные за несколько лет не склеиются при агрегации по месяцам."
   ]
  },
  {
   "cell_type": "code",
   "execution_count": 11,
   "id": "030c8b21",
   "metadata": {},
   "outputs": [
    {
     "data": {
      "text/plain": [
       "Int64Index([2021, 2021, 2021, 2021, 2021, 2021, 2021, 2021, 2021, 2021,\n",
       "            ...\n",
       "            2021, 2021, 2021, 2021, 2021, 2021, 2021, 2021, 2021, 2021],\n",
       "           dtype='int64', name='date', length=18068)"
      ]
     },
     "execution_count": 11,
     "metadata": {},
     "output_type": "execute_result"
    }
   ],
   "source": [
    "pd.DatetimeIndex(rides_go['date']).year.sort_values()"
   ]
  },
  {
   "cell_type": "markdown",
   "id": "56bcceca",
   "metadata": {},
   "source": [
    "Данные предоставлены за 2021 год."
   ]
  },
  {
   "cell_type": "markdown",
   "id": "6c5b4ac4",
   "metadata": {},
   "source": [
    "В данных отсутствуют пропуски, что мы увидели при вызове метода info() для каждого фрейма."
   ]
  },
  {
   "cell_type": "markdown",
   "id": "d940dcec",
   "metadata": {},
   "source": [
    "##### Обработаем явные дубликаты в таблицах:"
   ]
  },
  {
   "cell_type": "markdown",
   "id": "27e5fd84",
   "metadata": {},
   "source": [
    "Проверим наличие явных дубликатов."
   ]
  },
  {
   "cell_type": "code",
   "execution_count": 12,
   "id": "bf4876bd",
   "metadata": {},
   "outputs": [
    {
     "data": {
      "text/plain": [
       "0       False\n",
       "1       False\n",
       "2       False\n",
       "3       False\n",
       "4       False\n",
       "        ...  \n",
       "1560     True\n",
       "1561     True\n",
       "1562     True\n",
       "1563     True\n",
       "1564     True\n",
       "Name: user_id, Length: 1565, dtype: bool"
      ]
     },
     "execution_count": 12,
     "metadata": {},
     "output_type": "execute_result"
    }
   ],
   "source": [
    "users_go['user_id'].duplicated()"
   ]
  },
  {
   "cell_type": "markdown",
   "id": "5920a900",
   "metadata": {},
   "source": [
    "Видим повторяющиеся значения, некоторые пользователи задублированы. Удалим дубликаты и проверим выполненную работу."
   ]
  },
  {
   "cell_type": "code",
   "execution_count": 13,
   "id": "9cf8fb7e",
   "metadata": {},
   "outputs": [],
   "source": [
    "users_go = users_go.drop_duplicates().reset_index(drop=True)"
   ]
  },
  {
   "cell_type": "code",
   "execution_count": 14,
   "id": "db74bcb7",
   "metadata": {},
   "outputs": [
    {
     "data": {
      "text/plain": [
       "user_id  name       age  city            subscription_type\n",
       "1        Кира       22   Тюмень          ultra                1\n",
       "1020     Камилла    32   Москва          free                 1\n",
       "1029     Игорь      21   Краснодар       free                 1\n",
       "1028     Вадим      17   Сочи            free                 1\n",
       "1027     Мария      21   Сочи            free                 1\n",
       "                                                             ..\n",
       "510      Роман      24   Ростов-на-Дону  ultra                1\n",
       "509      Ян         29   Москва          ultra                1\n",
       "508      Станислав  15   Тюмень          ultra                1\n",
       "507      Эвелина    27   Пятигорск       ultra                1\n",
       "1534     Альберт    25   Краснодар       free                 1\n",
       "Length: 1534, dtype: int64"
      ]
     },
     "execution_count": 14,
     "metadata": {},
     "output_type": "execute_result"
    }
   ],
   "source": [
    "users_go.value_counts()"
   ]
  },
  {
   "cell_type": "code",
   "execution_count": 15,
   "id": "12b315af",
   "metadata": {},
   "outputs": [
    {
     "data": {
      "text/plain": [
       "user_id  distance     duration   date        month_number\n",
       "1        748.690645   15.041884  2021-11-22  11              1\n",
       "1105     3232.037291  19.120140  2021-02-24  2               1\n",
       "         4661.122393  21.159450  2021-03-25  3               1\n",
       "         4468.509613  12.937019  2021-11-28  11              1\n",
       "         4057.692285  21.695055  2021-06-05  6               1\n",
       "                                                            ..\n",
       "645      4040.109793  17.100274  2021-11-26  11              1\n",
       "646      2635.251399  11.081349  2021-09-06  9               1\n",
       "         2853.140708  23.699278  2021-01-28  1               1\n",
       "         3442.376310  22.753041  2021-03-17  3               1\n",
       "1534     4928.173852  22.560373  2021-09-13  9               1\n",
       "Length: 18068, dtype: int64"
      ]
     },
     "execution_count": 15,
     "metadata": {},
     "output_type": "execute_result"
    }
   ],
   "source": [
    "rides_go.value_counts()"
   ]
  },
  {
   "cell_type": "markdown",
   "id": "60238a3e",
   "metadata": {},
   "source": [
    "В rides_go дубликатов нет."
   ]
  },
  {
   "cell_type": "markdown",
   "id": "bbdf57d7",
   "metadata": {},
   "source": [
    "##### Проверим столбцы с возрастом и расстоянием на аномальные значения:"
   ]
  },
  {
   "cell_type": "code",
   "execution_count": 16,
   "id": "f457872d",
   "metadata": {},
   "outputs": [
    {
     "data": {
      "text/html": [
       "<div>\n",
       "<style scoped>\n",
       "    .dataframe tbody tr th:only-of-type {\n",
       "        vertical-align: middle;\n",
       "    }\n",
       "\n",
       "    .dataframe tbody tr th {\n",
       "        vertical-align: top;\n",
       "    }\n",
       "\n",
       "    .dataframe thead th {\n",
       "        text-align: right;\n",
       "    }\n",
       "</style>\n",
       "<table border=\"1\" class=\"dataframe\">\n",
       "  <thead>\n",
       "    <tr style=\"text-align: right;\">\n",
       "      <th></th>\n",
       "      <th>user_id</th>\n",
       "      <th>name</th>\n",
       "      <th>age</th>\n",
       "      <th>city</th>\n",
       "      <th>subscription_type</th>\n",
       "    </tr>\n",
       "  </thead>\n",
       "  <tbody>\n",
       "    <tr>\n",
       "      <th>664</th>\n",
       "      <td>665</td>\n",
       "      <td>Герман</td>\n",
       "      <td>12</td>\n",
       "      <td>Сочи</td>\n",
       "      <td>ultra</td>\n",
       "    </tr>\n",
       "    <tr>\n",
       "      <th>66</th>\n",
       "      <td>67</td>\n",
       "      <td>Анастасия</td>\n",
       "      <td>12</td>\n",
       "      <td>Ростов-на-Дону</td>\n",
       "      <td>ultra</td>\n",
       "    </tr>\n",
       "    <tr>\n",
       "      <th>727</th>\n",
       "      <td>728</td>\n",
       "      <td>Вячеслав</td>\n",
       "      <td>12</td>\n",
       "      <td>Пятигорск</td>\n",
       "      <td>free</td>\n",
       "    </tr>\n",
       "    <tr>\n",
       "      <th>34</th>\n",
       "      <td>35</td>\n",
       "      <td>Руслан</td>\n",
       "      <td>12</td>\n",
       "      <td>Пятигорск</td>\n",
       "      <td>ultra</td>\n",
       "    </tr>\n",
       "    <tr>\n",
       "      <th>235</th>\n",
       "      <td>236</td>\n",
       "      <td>Владимир</td>\n",
       "      <td>13</td>\n",
       "      <td>Тюмень</td>\n",
       "      <td>ultra</td>\n",
       "    </tr>\n",
       "    <tr>\n",
       "      <th>...</th>\n",
       "      <td>...</td>\n",
       "      <td>...</td>\n",
       "      <td>...</td>\n",
       "      <td>...</td>\n",
       "      <td>...</td>\n",
       "    </tr>\n",
       "    <tr>\n",
       "      <th>383</th>\n",
       "      <td>384</td>\n",
       "      <td>Виктор</td>\n",
       "      <td>38</td>\n",
       "      <td>Омск</td>\n",
       "      <td>ultra</td>\n",
       "    </tr>\n",
       "    <tr>\n",
       "      <th>804</th>\n",
       "      <td>805</td>\n",
       "      <td>Петр</td>\n",
       "      <td>38</td>\n",
       "      <td>Тюмень</td>\n",
       "      <td>free</td>\n",
       "    </tr>\n",
       "    <tr>\n",
       "      <th>453</th>\n",
       "      <td>454</td>\n",
       "      <td>Вероника</td>\n",
       "      <td>38</td>\n",
       "      <td>Краснодар</td>\n",
       "      <td>ultra</td>\n",
       "    </tr>\n",
       "    <tr>\n",
       "      <th>961</th>\n",
       "      <td>962</td>\n",
       "      <td>Дмитрий</td>\n",
       "      <td>39</td>\n",
       "      <td>Москва</td>\n",
       "      <td>free</td>\n",
       "    </tr>\n",
       "    <tr>\n",
       "      <th>1201</th>\n",
       "      <td>1202</td>\n",
       "      <td>Ангелина</td>\n",
       "      <td>43</td>\n",
       "      <td>Москва</td>\n",
       "      <td>free</td>\n",
       "    </tr>\n",
       "  </tbody>\n",
       "</table>\n",
       "<p>1534 rows × 5 columns</p>\n",
       "</div>"
      ],
      "text/plain": [
       "      user_id       name  age            city subscription_type\n",
       "664       665     Герман   12            Сочи             ultra\n",
       "66         67  Анастасия   12  Ростов-на-Дону             ultra\n",
       "727       728   Вячеслав   12       Пятигорск              free\n",
       "34         35     Руслан   12       Пятигорск             ultra\n",
       "235       236   Владимир   13          Тюмень             ultra\n",
       "...       ...        ...  ...             ...               ...\n",
       "383       384     Виктор   38            Омск             ultra\n",
       "804       805       Петр   38          Тюмень              free\n",
       "453       454   Вероника   38       Краснодар             ultra\n",
       "961       962    Дмитрий   39          Москва              free\n",
       "1201     1202   Ангелина   43          Москва              free\n",
       "\n",
       "[1534 rows x 5 columns]"
      ]
     },
     "execution_count": 16,
     "metadata": {},
     "output_type": "execute_result"
    }
   ],
   "source": [
    "users_go.sort_values(by='age')"
   ]
  },
  {
   "cell_type": "markdown",
   "id": "a4a72bde",
   "metadata": {},
   "source": [
    "В столбце с возрастом аномальных значений нет."
   ]
  },
  {
   "cell_type": "code",
   "execution_count": 17,
   "id": "8bebad30",
   "metadata": {},
   "outputs": [
    {
     "data": {
      "text/html": [
       "<div>\n",
       "<style scoped>\n",
       "    .dataframe tbody tr th:only-of-type {\n",
       "        vertical-align: middle;\n",
       "    }\n",
       "\n",
       "    .dataframe tbody tr th {\n",
       "        vertical-align: top;\n",
       "    }\n",
       "\n",
       "    .dataframe thead th {\n",
       "        text-align: right;\n",
       "    }\n",
       "</style>\n",
       "<table border=\"1\" class=\"dataframe\">\n",
       "  <thead>\n",
       "    <tr style=\"text-align: right;\">\n",
       "      <th></th>\n",
       "      <th>user_id</th>\n",
       "      <th>distance</th>\n",
       "      <th>duration</th>\n",
       "      <th>date</th>\n",
       "      <th>month_number</th>\n",
       "    </tr>\n",
       "  </thead>\n",
       "  <tbody>\n",
       "    <tr>\n",
       "      <th>12013</th>\n",
       "      <td>1102</td>\n",
       "      <td>4602.122401</td>\n",
       "      <td>0.5</td>\n",
       "      <td>2021-08-01</td>\n",
       "      <td>8</td>\n",
       "    </tr>\n",
       "    <tr>\n",
       "      <th>17314</th>\n",
       "      <td>1483</td>\n",
       "      <td>4445.481070</td>\n",
       "      <td>0.5</td>\n",
       "      <td>2021-03-06</td>\n",
       "      <td>3</td>\n",
       "    </tr>\n",
       "    <tr>\n",
       "      <th>15029</th>\n",
       "      <td>1318</td>\n",
       "      <td>5894.633314</td>\n",
       "      <td>0.5</td>\n",
       "      <td>2021-03-28</td>\n",
       "      <td>3</td>\n",
       "    </tr>\n",
       "    <tr>\n",
       "      <th>7437</th>\n",
       "      <td>766</td>\n",
       "      <td>4539.088310</td>\n",
       "      <td>0.5</td>\n",
       "      <td>2021-12-22</td>\n",
       "      <td>12</td>\n",
       "    </tr>\n",
       "    <tr>\n",
       "      <th>12967</th>\n",
       "      <td>1172</td>\n",
       "      <td>4907.140751</td>\n",
       "      <td>0.5</td>\n",
       "      <td>2021-12-19</td>\n",
       "      <td>12</td>\n",
       "    </tr>\n",
       "    <tr>\n",
       "      <th>15015</th>\n",
       "      <td>1317</td>\n",
       "      <td>4593.389022</td>\n",
       "      <td>0.5</td>\n",
       "      <td>2021-07-16</td>\n",
       "      <td>7</td>\n",
       "    </tr>\n",
       "    <tr>\n",
       "      <th>13012</th>\n",
       "      <td>1176</td>\n",
       "      <td>4935.071045</td>\n",
       "      <td>0.5</td>\n",
       "      <td>2021-05-14</td>\n",
       "      <td>5</td>\n",
       "    </tr>\n",
       "    <tr>\n",
       "      <th>7508</th>\n",
       "      <td>772</td>\n",
       "      <td>4718.820996</td>\n",
       "      <td>0.5</td>\n",
       "      <td>2021-05-22</td>\n",
       "      <td>5</td>\n",
       "    </tr>\n",
       "    <tr>\n",
       "      <th>16589</th>\n",
       "      <td>1428</td>\n",
       "      <td>5059.187375</td>\n",
       "      <td>0.5</td>\n",
       "      <td>2021-05-06</td>\n",
       "      <td>5</td>\n",
       "    </tr>\n",
       "    <tr>\n",
       "      <th>9049</th>\n",
       "      <td>890</td>\n",
       "      <td>4848.485014</td>\n",
       "      <td>0.5</td>\n",
       "      <td>2021-11-20</td>\n",
       "      <td>11</td>\n",
       "    </tr>\n",
       "    <tr>\n",
       "      <th>7537</th>\n",
       "      <td>774</td>\n",
       "      <td>5488.141903</td>\n",
       "      <td>0.5</td>\n",
       "      <td>2021-05-27</td>\n",
       "      <td>5</td>\n",
       "    </tr>\n",
       "    <tr>\n",
       "      <th>16540</th>\n",
       "      <td>1425</td>\n",
       "      <td>5306.346398</td>\n",
       "      <td>0.5</td>\n",
       "      <td>2021-07-05</td>\n",
       "      <td>7</td>\n",
       "    </tr>\n",
       "    <tr>\n",
       "      <th>13266</th>\n",
       "      <td>1194</td>\n",
       "      <td>5636.253153</td>\n",
       "      <td>0.5</td>\n",
       "      <td>2021-11-20</td>\n",
       "      <td>11</td>\n",
       "    </tr>\n",
       "    <tr>\n",
       "      <th>10426</th>\n",
       "      <td>987</td>\n",
       "      <td>5375.139265</td>\n",
       "      <td>0.5</td>\n",
       "      <td>2021-03-16</td>\n",
       "      <td>3</td>\n",
       "    </tr>\n",
       "    <tr>\n",
       "      <th>11559</th>\n",
       "      <td>1069</td>\n",
       "      <td>5780.316092</td>\n",
       "      <td>0.5</td>\n",
       "      <td>2021-04-06</td>\n",
       "      <td>4</td>\n",
       "    </tr>\n",
       "    <tr>\n",
       "      <th>7612</th>\n",
       "      <td>780</td>\n",
       "      <td>6112.644835</td>\n",
       "      <td>0.5</td>\n",
       "      <td>2021-11-23</td>\n",
       "      <td>11</td>\n",
       "    </tr>\n",
       "    <tr>\n",
       "      <th>9077</th>\n",
       "      <td>893</td>\n",
       "      <td>4762.120493</td>\n",
       "      <td>0.5</td>\n",
       "      <td>2021-03-18</td>\n",
       "      <td>3</td>\n",
       "    </tr>\n",
       "    <tr>\n",
       "      <th>17909</th>\n",
       "      <td>1524</td>\n",
       "      <td>4103.998874</td>\n",
       "      <td>0.5</td>\n",
       "      <td>2021-06-18</td>\n",
       "      <td>6</td>\n",
       "    </tr>\n",
       "    <tr>\n",
       "      <th>16704</th>\n",
       "      <td>1436</td>\n",
       "      <td>5409.750250</td>\n",
       "      <td>0.5</td>\n",
       "      <td>2021-06-18</td>\n",
       "      <td>6</td>\n",
       "    </tr>\n",
       "    <tr>\n",
       "      <th>9698</th>\n",
       "      <td>937</td>\n",
       "      <td>4169.066800</td>\n",
       "      <td>0.5</td>\n",
       "      <td>2021-12-12</td>\n",
       "      <td>12</td>\n",
       "    </tr>\n",
       "    <tr>\n",
       "      <th>11853</th>\n",
       "      <td>1090</td>\n",
       "      <td>5121.403392</td>\n",
       "      <td>0.5</td>\n",
       "      <td>2021-09-29</td>\n",
       "      <td>9</td>\n",
       "    </tr>\n",
       "    <tr>\n",
       "      <th>6531</th>\n",
       "      <td>701</td>\n",
       "      <td>4196.445201</td>\n",
       "      <td>0.5</td>\n",
       "      <td>2021-08-31</td>\n",
       "      <td>8</td>\n",
       "    </tr>\n",
       "    <tr>\n",
       "      <th>15132</th>\n",
       "      <td>1325</td>\n",
       "      <td>4030.308008</td>\n",
       "      <td>0.5</td>\n",
       "      <td>2021-12-22</td>\n",
       "      <td>12</td>\n",
       "    </tr>\n",
       "    <tr>\n",
       "      <th>10229</th>\n",
       "      <td>973</td>\n",
       "      <td>5052.769411</td>\n",
       "      <td>0.5</td>\n",
       "      <td>2021-11-27</td>\n",
       "      <td>11</td>\n",
       "    </tr>\n",
       "    <tr>\n",
       "      <th>12354</th>\n",
       "      <td>1128</td>\n",
       "      <td>4703.905427</td>\n",
       "      <td>0.5</td>\n",
       "      <td>2021-09-23</td>\n",
       "      <td>9</td>\n",
       "    </tr>\n",
       "    <tr>\n",
       "      <th>11822</th>\n",
       "      <td>1088</td>\n",
       "      <td>4533.964591</td>\n",
       "      <td>0.5</td>\n",
       "      <td>2021-11-23</td>\n",
       "      <td>11</td>\n",
       "    </tr>\n",
       "    <tr>\n",
       "      <th>12412</th>\n",
       "      <td>1132</td>\n",
       "      <td>5466.110839</td>\n",
       "      <td>0.5</td>\n",
       "      <td>2021-11-10</td>\n",
       "      <td>11</td>\n",
       "    </tr>\n",
       "    <tr>\n",
       "      <th>16464</th>\n",
       "      <td>1421</td>\n",
       "      <td>5071.577248</td>\n",
       "      <td>0.5</td>\n",
       "      <td>2021-03-04</td>\n",
       "      <td>3</td>\n",
       "    </tr>\n",
       "    <tr>\n",
       "      <th>15112</th>\n",
       "      <td>1324</td>\n",
       "      <td>5537.095264</td>\n",
       "      <td>0.5</td>\n",
       "      <td>2021-09-16</td>\n",
       "      <td>9</td>\n",
       "    </tr>\n",
       "    <tr>\n",
       "      <th>16817</th>\n",
       "      <td>1444</td>\n",
       "      <td>5830.705170</td>\n",
       "      <td>0.5</td>\n",
       "      <td>2021-08-29</td>\n",
       "      <td>8</td>\n",
       "    </tr>\n",
       "  </tbody>\n",
       "</table>\n",
       "</div>"
      ],
      "text/plain": [
       "       user_id     distance  duration       date  month_number\n",
       "12013     1102  4602.122401       0.5 2021-08-01             8\n",
       "17314     1483  4445.481070       0.5 2021-03-06             3\n",
       "15029     1318  5894.633314       0.5 2021-03-28             3\n",
       "7437       766  4539.088310       0.5 2021-12-22            12\n",
       "12967     1172  4907.140751       0.5 2021-12-19            12\n",
       "15015     1317  4593.389022       0.5 2021-07-16             7\n",
       "13012     1176  4935.071045       0.5 2021-05-14             5\n",
       "7508       772  4718.820996       0.5 2021-05-22             5\n",
       "16589     1428  5059.187375       0.5 2021-05-06             5\n",
       "9049       890  4848.485014       0.5 2021-11-20            11\n",
       "7537       774  5488.141903       0.5 2021-05-27             5\n",
       "16540     1425  5306.346398       0.5 2021-07-05             7\n",
       "13266     1194  5636.253153       0.5 2021-11-20            11\n",
       "10426      987  5375.139265       0.5 2021-03-16             3\n",
       "11559     1069  5780.316092       0.5 2021-04-06             4\n",
       "7612       780  6112.644835       0.5 2021-11-23            11\n",
       "9077       893  4762.120493       0.5 2021-03-18             3\n",
       "17909     1524  4103.998874       0.5 2021-06-18             6\n",
       "16704     1436  5409.750250       0.5 2021-06-18             6\n",
       "9698       937  4169.066800       0.5 2021-12-12            12\n",
       "11853     1090  5121.403392       0.5 2021-09-29             9\n",
       "6531       701  4196.445201       0.5 2021-08-31             8\n",
       "15132     1325  4030.308008       0.5 2021-12-22            12\n",
       "10229      973  5052.769411       0.5 2021-11-27            11\n",
       "12354     1128  4703.905427       0.5 2021-09-23             9\n",
       "11822     1088  4533.964591       0.5 2021-11-23            11\n",
       "12412     1132  5466.110839       0.5 2021-11-10            11\n",
       "16464     1421  5071.577248       0.5 2021-03-04             3\n",
       "15112     1324  5537.095264       0.5 2021-09-16             9\n",
       "16817     1444  5830.705170       0.5 2021-08-29             8"
      ]
     },
     "execution_count": 17,
     "metadata": {},
     "output_type": "execute_result"
    }
   ],
   "source": [
    "rides_go.sort_values(by='duration').head(30)"
   ]
  },
  {
   "cell_type": "code",
   "execution_count": 18,
   "id": "68fcdcb6",
   "metadata": {},
   "outputs": [
    {
     "data": {
      "image/png": "[encoded data removed]",
      "text/plain": [
       "<Figure size 432x288 with 1 Axes>"
      ]
     },
     "metadata": {
      "needs_background": "light"
     },
     "output_type": "display_data"
    }
   ],
   "source": [
    "rides_min = rides_go.query('duration < 5')\n",
    "rides_min['duration'].hist().set(title='Длительность поездок менее 5 мин',xlabel='Время, мин')\n",
    "plt.show()"
   ]
  },
  {
   "cell_type": "markdown",
   "id": "42a8d06a",
   "metadata": {},
   "source": [
    "Почти 100 значений с продолжительностью 0,5 минут. Это меньше 1%, оставим как есть, это не повлияет на исследование."
   ]
  },
  {
   "cell_type": "markdown",
   "id": "212593c7",
   "metadata": {},
   "source": [
    "#### Шаг 3. Исследовательский анализ данных"
   ]
  },
  {
   "cell_type": "markdown",
   "id": "81287119",
   "metadata": {},
   "source": [
    "Опишите и визуализируйте общую информацию о пользователях и поездках:\n",
    "3.1 частота встречаемости городов;\n",
    "3.2 соотношение пользователей с подпиской и без подписки;\n",
    "3.3 возраст пользователей;\n",
    "3.4 расстояние, которое пользователь преодолел за одну поездку;\n",
    "3.5 продолжительность поездок."
   ]
  },
  {
   "cell_type": "markdown",
   "id": "c61bae0d",
   "metadata": {},
   "source": [
    "##### Посмотрим на частоту встречаемости городов среди пользователей:"
   ]
  },
  {
   "cell_type": "code",
   "execution_count": 19,
   "id": "ed077047",
   "metadata": {},
   "outputs": [
    {
     "data": {
      "text/plain": [
       "Пятигорск         219\n",
       "Екатеринбург      204\n",
       "Ростов-на-Дону    198\n",
       "Краснодар         193\n",
       "Сочи              189\n",
       "Омск              183\n",
       "Тюмень            180\n",
       "Москва            168\n",
       "Name: city, dtype: int64"
      ]
     },
     "execution_count": 19,
     "metadata": {},
     "output_type": "execute_result"
    }
   ],
   "source": [
    "city_frequency = users_go['city'].value_counts()\n",
    "city_frequency"
   ]
  },
  {
   "cell_type": "code",
   "execution_count": 20,
   "id": "699379ed",
   "metadata": {},
   "outputs": [
    {
     "data": {
      "image/png": "[encoded data removed]",
      "text/plain": [
       "<Figure size 720x576 with 1 Axes>"
      ]
     },
     "metadata": {
      "needs_background": "light"
     },
     "output_type": "display_data"
    }
   ],
   "source": [
    "city_frequency.plot(\n",
    "    kind = 'bar', \n",
    "    y = city_frequency,\n",
    "    figsize=(10,8), \n",
    "    title = 'Частота встречаемости городов среди пользователей');"
   ]
  },
  {
   "cell_type": "markdown",
   "id": "9dcaa536",
   "metadata": {},
   "source": [
    "ТОП 3 - Пятигорск, Екатеринбург и Ростов-н-Дону."
   ]
  },
  {
   "cell_type": "markdown",
   "id": "8afe70d0",
   "metadata": {},
   "source": [
    "##### Проверим  как соотносятся пользователи с подпиской и без подписки:"
   ]
  },
  {
   "cell_type": "code",
   "execution_count": 21,
   "id": "004cb255",
   "metadata": {},
   "outputs": [
    {
     "data": {
      "image/png": "[encoded data removed]",
      "text/plain": [
       "<Figure size 1080x504 with 1 Axes>"
      ]
     },
     "metadata": {},
     "output_type": "display_data"
    }
   ],
   "source": [
    "users_go['subscription_type'].value_counts().plot(\n",
    "    kind = 'pie',\n",
    "    autopct = '%1.0f%%',\n",
    "    figsize=(15,7), \n",
    "    title = 'Соотношение пользователей с подпиской и без подписки');"
   ]
  },
  {
   "cell_type": "code",
   "execution_count": 22,
   "id": "e34c0a25",
   "metadata": {},
   "outputs": [
    {
     "data": {
      "text/plain": [
       "free     835\n",
       "ultra    699\n",
       "Name: subscription_type, dtype: int64"
      ]
     },
     "execution_count": 22,
     "metadata": {},
     "output_type": "execute_result"
    }
   ],
   "source": [
    "users_go['subscription_type'].value_counts()"
   ]
  },
  {
   "cell_type": "markdown",
   "id": "7731178a",
   "metadata": {},
   "source": [
    "Пользователей без подписки больше - 835 человек, 54% от общего количества."
   ]
  },
  {
   "cell_type": "markdown",
   "id": "12ff2b02",
   "metadata": {},
   "source": [
    "##### Узнаем какой возраст встречается чаще других:"
   ]
  },
  {
   "cell_type": "code",
   "execution_count": 23,
   "id": "7105196a",
   "metadata": {},
   "outputs": [
    {
     "data": {
      "image/png": "[encoded data removed]",
      "text/plain": [
       "<Figure size 432x288 with 1 Axes>"
      ]
     },
     "metadata": {
      "needs_background": "light"
     },
     "output_type": "display_data"
    }
   ],
   "source": [
    "users_go['age'].hist(bins=30).set(title='Частота встречаемости возрастов',xlabel='Возраст')\n",
    "plt.show()"
   ]
  },
  {
   "cell_type": "markdown",
   "id": "fa7c0fe5",
   "metadata": {},
   "source": [
    "Пользователи по возрасту, ожидаемо, распределены нормально. Большинство пользователей возрастом около 25 лет."
   ]
  },
  {
   "cell_type": "markdown",
   "id": "4e16e4d5",
   "metadata": {},
   "source": [
    "##### Визуализируем данные о расстоянии, которое пользователь преодолел за одну поездку:"
   ]
  },
  {
   "cell_type": "code",
   "execution_count": 24,
   "id": "d118b22a",
   "metadata": {},
   "outputs": [
    {
     "data": {
      "image/png": "[encoded data removed]",
      "text/plain": [
       "<Figure size 432x288 with 1 Axes>"
      ]
     },
     "metadata": {
      "needs_background": "light"
     },
     "output_type": "display_data"
    }
   ],
   "source": [
    "rides_go['distance'].hist(bins=50).set(title='Расстояния, пройденные за одну поездку', xlabel='Расстояние, м')\n",
    "plt.show()"
   ]
  },
  {
   "cell_type": "markdown",
   "id": "cad96592",
   "metadata": {},
   "source": [
    "У графика явно выражены 2 вершины - около 700 метров и около 3100 метров."
   ]
  },
  {
   "cell_type": "code",
   "execution_count": 25,
   "id": "135cb466",
   "metadata": {},
   "outputs": [
    {
     "data": {
      "text/plain": [
       "count    18068.000000\n",
       "mean      3070.659976\n",
       "std       1116.831209\n",
       "min          0.855683\n",
       "25%       2543.226360\n",
       "50%       3133.609994\n",
       "75%       3776.222735\n",
       "max       7211.007745\n",
       "Name: distance, dtype: float64"
      ]
     },
     "execution_count": 25,
     "metadata": {},
     "output_type": "execute_result"
    }
   ],
   "source": [
    "rides_go['distance'].describe()"
   ]
  },
  {
   "cell_type": "markdown",
   "id": "c2ea88d2",
   "metadata": {},
   "source": [
    "Есть минимальные значения 0,85 м - возможно есть аномалии в данных, проверим:"
   ]
  },
  {
   "cell_type": "code",
   "execution_count": 26,
   "id": "be258987",
   "metadata": {
    "scrolled": true
   },
   "outputs": [
    {
     "data": {
      "text/html": [
       "<div>\n",
       "<style scoped>\n",
       "    .dataframe tbody tr th:only-of-type {\n",
       "        vertical-align: middle;\n",
       "    }\n",
       "\n",
       "    .dataframe tbody tr th {\n",
       "        vertical-align: top;\n",
       "    }\n",
       "\n",
       "    .dataframe thead th {\n",
       "        text-align: right;\n",
       "    }\n",
       "</style>\n",
       "<table border=\"1\" class=\"dataframe\">\n",
       "  <thead>\n",
       "    <tr style=\"text-align: right;\">\n",
       "      <th></th>\n",
       "      <th>user_id</th>\n",
       "      <th>distance</th>\n",
       "      <th>duration</th>\n",
       "      <th>date</th>\n",
       "      <th>month_number</th>\n",
       "    </tr>\n",
       "  </thead>\n",
       "  <tbody>\n",
       "    <tr>\n",
       "      <th>11555</th>\n",
       "      <td>1069</td>\n",
       "      <td>0.855683</td>\n",
       "      <td>10.001902</td>\n",
       "      <td>2021-01-31</td>\n",
       "      <td>1</td>\n",
       "    </tr>\n",
       "    <tr>\n",
       "      <th>9541</th>\n",
       "      <td>925</td>\n",
       "      <td>2.570787</td>\n",
       "      <td>3.011018</td>\n",
       "      <td>2021-10-19</td>\n",
       "      <td>10</td>\n",
       "    </tr>\n",
       "    <tr>\n",
       "      <th>13690</th>\n",
       "      <td>1223</td>\n",
       "      <td>4.329506</td>\n",
       "      <td>4.008958</td>\n",
       "      <td>2021-05-22</td>\n",
       "      <td>5</td>\n",
       "    </tr>\n",
       "    <tr>\n",
       "      <th>8658</th>\n",
       "      <td>861</td>\n",
       "      <td>6.784447</td>\n",
       "      <td>6.015656</td>\n",
       "      <td>2021-07-21</td>\n",
       "      <td>7</td>\n",
       "    </tr>\n",
       "    <tr>\n",
       "      <th>7841</th>\n",
       "      <td>796</td>\n",
       "      <td>7.097072</td>\n",
       "      <td>10.026614</td>\n",
       "      <td>2021-11-26</td>\n",
       "      <td>11</td>\n",
       "    </tr>\n",
       "    <tr>\n",
       "      <th>8906</th>\n",
       "      <td>880</td>\n",
       "      <td>11.283615</td>\n",
       "      <td>2.035632</td>\n",
       "      <td>2021-03-28</td>\n",
       "      <td>3</td>\n",
       "    </tr>\n",
       "    <tr>\n",
       "      <th>8324</th>\n",
       "      <td>835</td>\n",
       "      <td>12.233115</td>\n",
       "      <td>4.034952</td>\n",
       "      <td>2021-09-19</td>\n",
       "      <td>9</td>\n",
       "    </tr>\n",
       "    <tr>\n",
       "      <th>13940</th>\n",
       "      <td>1240</td>\n",
       "      <td>15.000606</td>\n",
       "      <td>10.045002</td>\n",
       "      <td>2021-08-20</td>\n",
       "      <td>8</td>\n",
       "    </tr>\n",
       "    <tr>\n",
       "      <th>15626</th>\n",
       "      <td>1364</td>\n",
       "      <td>15.366168</td>\n",
       "      <td>6.057623</td>\n",
       "      <td>2021-08-22</td>\n",
       "      <td>8</td>\n",
       "    </tr>\n",
       "    <tr>\n",
       "      <th>11862</th>\n",
       "      <td>1091</td>\n",
       "      <td>15.630873</td>\n",
       "      <td>13.044660</td>\n",
       "      <td>2021-03-29</td>\n",
       "      <td>3</td>\n",
       "    </tr>\n",
       "    <tr>\n",
       "      <th>17414</th>\n",
       "      <td>1489</td>\n",
       "      <td>22.314412</td>\n",
       "      <td>6.074381</td>\n",
       "      <td>2021-10-06</td>\n",
       "      <td>10</td>\n",
       "    </tr>\n",
       "    <tr>\n",
       "      <th>15104</th>\n",
       "      <td>1323</td>\n",
       "      <td>22.393227</td>\n",
       "      <td>7.061072</td>\n",
       "      <td>2021-10-25</td>\n",
       "      <td>10</td>\n",
       "    </tr>\n",
       "    <tr>\n",
       "      <th>6691</th>\n",
       "      <td>712</td>\n",
       "      <td>23.963062</td>\n",
       "      <td>2.053251</td>\n",
       "      <td>2021-11-22</td>\n",
       "      <td>11</td>\n",
       "    </tr>\n",
       "    <tr>\n",
       "      <th>9784</th>\n",
       "      <td>943</td>\n",
       "      <td>26.784378</td>\n",
       "      <td>5.053569</td>\n",
       "      <td>2021-12-29</td>\n",
       "      <td>12</td>\n",
       "    </tr>\n",
       "    <tr>\n",
       "      <th>17173</th>\n",
       "      <td>1471</td>\n",
       "      <td>27.965145</td>\n",
       "      <td>3.093217</td>\n",
       "      <td>2021-10-06</td>\n",
       "      <td>10</td>\n",
       "    </tr>\n",
       "    <tr>\n",
       "      <th>6611</th>\n",
       "      <td>707</td>\n",
       "      <td>28.793204</td>\n",
       "      <td>14.143966</td>\n",
       "      <td>2021-09-12</td>\n",
       "      <td>9</td>\n",
       "    </tr>\n",
       "    <tr>\n",
       "      <th>6850</th>\n",
       "      <td>724</td>\n",
       "      <td>30.473763</td>\n",
       "      <td>3.166221</td>\n",
       "      <td>2021-05-09</td>\n",
       "      <td>5</td>\n",
       "    </tr>\n",
       "    <tr>\n",
       "      <th>14676</th>\n",
       "      <td>1293</td>\n",
       "      <td>30.586955</td>\n",
       "      <td>9.096590</td>\n",
       "      <td>2021-01-14</td>\n",
       "      <td>1</td>\n",
       "    </tr>\n",
       "    <tr>\n",
       "      <th>15870</th>\n",
       "      <td>1381</td>\n",
       "      <td>31.391295</td>\n",
       "      <td>14.099130</td>\n",
       "      <td>2021-06-29</td>\n",
       "      <td>6</td>\n",
       "    </tr>\n",
       "    <tr>\n",
       "      <th>9128</th>\n",
       "      <td>896</td>\n",
       "      <td>31.803410</td>\n",
       "      <td>8.079509</td>\n",
       "      <td>2021-03-16</td>\n",
       "      <td>3</td>\n",
       "    </tr>\n",
       "    <tr>\n",
       "      <th>9927</th>\n",
       "      <td>952</td>\n",
       "      <td>34.287979</td>\n",
       "      <td>9.097966</td>\n",
       "      <td>2021-11-04</td>\n",
       "      <td>11</td>\n",
       "    </tr>\n",
       "    <tr>\n",
       "      <th>7389</th>\n",
       "      <td>762</td>\n",
       "      <td>35.061903</td>\n",
       "      <td>7.087655</td>\n",
       "      <td>2021-05-27</td>\n",
       "      <td>5</td>\n",
       "    </tr>\n",
       "    <tr>\n",
       "      <th>17646</th>\n",
       "      <td>1506</td>\n",
       "      <td>37.002836</td>\n",
       "      <td>4.170782</td>\n",
       "      <td>2021-06-27</td>\n",
       "      <td>6</td>\n",
       "    </tr>\n",
       "    <tr>\n",
       "      <th>9439</th>\n",
       "      <td>918</td>\n",
       "      <td>38.711151</td>\n",
       "      <td>11.165905</td>\n",
       "      <td>2021-06-08</td>\n",
       "      <td>6</td>\n",
       "    </tr>\n",
       "    <tr>\n",
       "      <th>13638</th>\n",
       "      <td>1219</td>\n",
       "      <td>40.287856</td>\n",
       "      <td>8.109876</td>\n",
       "      <td>2021-09-19</td>\n",
       "      <td>9</td>\n",
       "    </tr>\n",
       "    <tr>\n",
       "      <th>14081</th>\n",
       "      <td>1251</td>\n",
       "      <td>41.212830</td>\n",
       "      <td>2.224797</td>\n",
       "      <td>2021-04-15</td>\n",
       "      <td>4</td>\n",
       "    </tr>\n",
       "    <tr>\n",
       "      <th>16442</th>\n",
       "      <td>1419</td>\n",
       "      <td>41.282076</td>\n",
       "      <td>4.154808</td>\n",
       "      <td>2021-11-20</td>\n",
       "      <td>11</td>\n",
       "    </tr>\n",
       "    <tr>\n",
       "      <th>10349</th>\n",
       "      <td>982</td>\n",
       "      <td>43.690381</td>\n",
       "      <td>13.201648</td>\n",
       "      <td>2021-07-21</td>\n",
       "      <td>7</td>\n",
       "    </tr>\n",
       "    <tr>\n",
       "      <th>11566</th>\n",
       "      <td>1069</td>\n",
       "      <td>44.016496</td>\n",
       "      <td>13.110041</td>\n",
       "      <td>2021-06-20</td>\n",
       "      <td>6</td>\n",
       "    </tr>\n",
       "    <tr>\n",
       "      <th>16409</th>\n",
       "      <td>1417</td>\n",
       "      <td>44.728663</td>\n",
       "      <td>10.127796</td>\n",
       "      <td>2021-09-20</td>\n",
       "      <td>9</td>\n",
       "    </tr>\n",
       "    <tr>\n",
       "      <th>15607</th>\n",
       "      <td>1362</td>\n",
       "      <td>46.560533</td>\n",
       "      <td>2.253967</td>\n",
       "      <td>2021-09-22</td>\n",
       "      <td>9</td>\n",
       "    </tr>\n",
       "  </tbody>\n",
       "</table>\n",
       "</div>"
      ],
      "text/plain": [
       "       user_id   distance   duration       date  month_number\n",
       "11555     1069   0.855683  10.001902 2021-01-31             1\n",
       "9541       925   2.570787   3.011018 2021-10-19            10\n",
       "13690     1223   4.329506   4.008958 2021-05-22             5\n",
       "8658       861   6.784447   6.015656 2021-07-21             7\n",
       "7841       796   7.097072  10.026614 2021-11-26            11\n",
       "8906       880  11.283615   2.035632 2021-03-28             3\n",
       "8324       835  12.233115   4.034952 2021-09-19             9\n",
       "13940     1240  15.000606  10.045002 2021-08-20             8\n",
       "15626     1364  15.366168   6.057623 2021-08-22             8\n",
       "11862     1091  15.630873  13.044660 2021-03-29             3\n",
       "17414     1489  22.314412   6.074381 2021-10-06            10\n",
       "15104     1323  22.393227   7.061072 2021-10-25            10\n",
       "6691       712  23.963062   2.053251 2021-11-22            11\n",
       "9784       943  26.784378   5.053569 2021-12-29            12\n",
       "17173     1471  27.965145   3.093217 2021-10-06            10\n",
       "6611       707  28.793204  14.143966 2021-09-12             9\n",
       "6850       724  30.473763   3.166221 2021-05-09             5\n",
       "14676     1293  30.586955   9.096590 2021-01-14             1\n",
       "15870     1381  31.391295  14.099130 2021-06-29             6\n",
       "9128       896  31.803410   8.079509 2021-03-16             3\n",
       "9927       952  34.287979   9.097966 2021-11-04            11\n",
       "7389       762  35.061903   7.087655 2021-05-27             5\n",
       "17646     1506  37.002836   4.170782 2021-06-27             6\n",
       "9439       918  38.711151  11.165905 2021-06-08             6\n",
       "13638     1219  40.287856   8.109876 2021-09-19             9\n",
       "14081     1251  41.212830   2.224797 2021-04-15             4\n",
       "16442     1419  41.282076   4.154808 2021-11-20            11\n",
       "10349      982  43.690381  13.201648 2021-07-21             7\n",
       "11566     1069  44.016496  13.110041 2021-06-20             6\n",
       "16409     1417  44.728663  10.127796 2021-09-20             9\n",
       "15607     1362  46.560533   2.253967 2021-09-22             9"
      ]
     },
     "execution_count": 26,
     "metadata": {},
     "output_type": "execute_result"
    }
   ],
   "source": [
    "rides_go.query('distance < 50').sort_values(by='distance')"
   ]
  },
  {
   "cell_type": "markdown",
   "id": "44b38bc8",
   "metadata": {},
   "source": [
    "Расстояния не выглядят аномальными, возможно дейстаительно имела место быть такая короткая поездка - может быть пользователь передумал."
   ]
  },
  {
   "cell_type": "markdown",
   "id": "0403137b",
   "metadata": {},
   "source": [
    "##### Выявим  самые продолжительные поездки:"
   ]
  },
  {
   "cell_type": "code",
   "execution_count": 27,
   "id": "fa7cf589",
   "metadata": {},
   "outputs": [
    {
     "data": {
      "image/png": "[encoded data removed]",
      "text/plain": [
       "<Figure size 432x288 with 1 Axes>"
      ]
     },
     "metadata": {
      "needs_background": "light"
     },
     "output_type": "display_data"
    }
   ],
   "source": [
    "rides_go['duration'].hist(bins=50).set(title='Продолжительность поездок', xlabel='Время, мин')\n",
    "plt.show()"
   ]
  },
  {
   "cell_type": "markdown",
   "id": "77b1549e",
   "metadata": {},
   "source": [
    "На графике видим самые продолжительные поездки между 15 и 20 минутами."
   ]
  },
  {
   "cell_type": "code",
   "execution_count": 28,
   "id": "1115fa49",
   "metadata": {},
   "outputs": [
    {
     "data": {
      "text/plain": [
       "count    18068.000000\n",
       "mean        17.805011\n",
       "std          6.091051\n",
       "min          0.500000\n",
       "25%         13.597563\n",
       "50%         17.678395\n",
       "75%         21.724800\n",
       "max         40.823963\n",
       "Name: duration, dtype: float64"
      ]
     },
     "execution_count": 28,
     "metadata": {},
     "output_type": "execute_result"
    }
   ],
   "source": [
    "rides_go['duration'].describe()"
   ]
  },
  {
   "cell_type": "markdown",
   "id": "0baa19a5",
   "metadata": {},
   "source": [
    "Числовое описание данных показывает малый разброс данных, так как медиана почти равна среднему. А также аномально низкий min. Построим диаграмму boxplot для визуализации."
   ]
  },
  {
   "cell_type": "code",
   "execution_count": 29,
   "id": "f48dc217",
   "metadata": {},
   "outputs": [
    {
     "data": {
      "image/png": "[encoded data removed]",
      "text/plain": [
       "<Figure size 432x288 with 1 Axes>"
      ]
     },
     "metadata": {
      "needs_background": "light"
     },
     "output_type": "display_data"
    }
   ],
   "source": [
    "sns.boxplot(x=rides_go['duration'])\n",
    "plt.show()"
   ]
  },
  {
   "cell_type": "markdown",
   "id": "80c19597",
   "metadata": {},
   "source": [
    "На диаграмме видим, что основное количество поездок распределено по времени между 14 и 22 минутами. Также имеем небольшой выброс возле нуля - это некорректные данные, и ряд редких значений от 35 до 41 минуты."
   ]
  },
  {
   "cell_type": "markdown",
   "id": "4ef51331",
   "metadata": {},
   "source": [
    "#### Шаг 4. Объединение данных"
   ]
  },
  {
   "cell_type": "markdown",
   "id": "0d29542d",
   "metadata": {},
   "source": [
    "##### Объединим 3 таблицы в одну методом merge()."
   ]
  },
  {
   "cell_type": "code",
   "execution_count": 30,
   "id": "ba926d6c",
   "metadata": {},
   "outputs": [
    {
     "name": "stdout",
     "output_type": "stream",
     "text": [
      "<class 'pandas.core.frame.DataFrame'>\n",
      "Int64Index: 18068 entries, 0 to 18067\n",
      "Data columns (total 12 columns):\n",
      " #   Column             Non-Null Count  Dtype         \n",
      "---  ------             --------------  -----         \n",
      " 0   user_id            18068 non-null  int64         \n",
      " 1   name               18068 non-null  object        \n",
      " 2   age                18068 non-null  int64         \n",
      " 3   city               18068 non-null  object        \n",
      " 4   subscription_type  18068 non-null  object        \n",
      " 5   distance           18068 non-null  float64       \n",
      " 6   duration           18068 non-null  float64       \n",
      " 7   date               18068 non-null  datetime64[ns]\n",
      " 8   month_number       18068 non-null  int64         \n",
      " 9   minute_price       18068 non-null  int64         \n",
      " 10  start_ride_price   18068 non-null  int64         \n",
      " 11  subscription_fee   18068 non-null  int64         \n",
      "dtypes: datetime64[ns](1), float64(2), int64(6), object(3)\n",
      "memory usage: 1.8+ MB\n"
     ]
    }
   ],
   "source": [
    "data = users_go.merge(rides_go, on='user_id', how='left').merge(subscriptions_go, on='subscription_type', how='left')\n",
    "data.info()"
   ]
  },
  {
   "cell_type": "code",
   "execution_count": 31,
   "id": "87e2aec3",
   "metadata": {},
   "outputs": [
    {
     "data": {
      "text/plain": [
       "user_id              0\n",
       "name                 0\n",
       "age                  0\n",
       "city                 0\n",
       "subscription_type    0\n",
       "distance             0\n",
       "duration             0\n",
       "date                 0\n",
       "month_number         0\n",
       "minute_price         0\n",
       "start_ride_price     0\n",
       "subscription_fee     0\n",
       "dtype: int64"
      ]
     },
     "execution_count": 31,
     "metadata": {},
     "output_type": "execute_result"
    }
   ],
   "source": [
    "data.isna().sum()"
   ]
  },
  {
   "cell_type": "markdown",
   "id": "88839730",
   "metadata": {},
   "source": [
    "В получившейся таблице 18068 строк как и в users_go, по которой объединяли данные. Пропуски отсутствуют."
   ]
  },
  {
   "cell_type": "markdown",
   "id": "b01213aa",
   "metadata": {},
   "source": [
    "##### Создайте ещё два датафрейма :\n",
    "* с данными о пользователях с подпиской."
   ]
  },
  {
   "cell_type": "code",
   "execution_count": 32,
   "id": "217e1d3e",
   "metadata": {},
   "outputs": [
    {
     "data": {
      "text/html": [
       "<div>\n",
       "<style scoped>\n",
       "    .dataframe tbody tr th:only-of-type {\n",
       "        vertical-align: middle;\n",
       "    }\n",
       "\n",
       "    .dataframe tbody tr th {\n",
       "        vertical-align: top;\n",
       "    }\n",
       "\n",
       "    .dataframe thead th {\n",
       "        text-align: right;\n",
       "    }\n",
       "</style>\n",
       "<table border=\"1\" class=\"dataframe\">\n",
       "  <thead>\n",
       "    <tr style=\"text-align: right;\">\n",
       "      <th></th>\n",
       "      <th>user_id</th>\n",
       "      <th>name</th>\n",
       "      <th>age</th>\n",
       "      <th>city</th>\n",
       "      <th>subscription_type</th>\n",
       "      <th>distance</th>\n",
       "      <th>duration</th>\n",
       "      <th>date</th>\n",
       "      <th>month_number</th>\n",
       "      <th>minute_price</th>\n",
       "      <th>start_ride_price</th>\n",
       "      <th>subscription_fee</th>\n",
       "    </tr>\n",
       "  </thead>\n",
       "  <tbody>\n",
       "    <tr>\n",
       "      <th>6495</th>\n",
       "      <td>699</td>\n",
       "      <td>Оксана</td>\n",
       "      <td>22</td>\n",
       "      <td>Москва</td>\n",
       "      <td>ultra</td>\n",
       "      <td>3973.046497</td>\n",
       "      <td>24.671163</td>\n",
       "      <td>2021-08-29</td>\n",
       "      <td>8</td>\n",
       "      <td>6</td>\n",
       "      <td>0</td>\n",
       "      <td>199</td>\n",
       "    </tr>\n",
       "    <tr>\n",
       "      <th>6496</th>\n",
       "      <td>699</td>\n",
       "      <td>Оксана</td>\n",
       "      <td>22</td>\n",
       "      <td>Москва</td>\n",
       "      <td>ultra</td>\n",
       "      <td>3288.702563</td>\n",
       "      <td>15.892886</td>\n",
       "      <td>2021-09-12</td>\n",
       "      <td>9</td>\n",
       "      <td>6</td>\n",
       "      <td>0</td>\n",
       "      <td>199</td>\n",
       "    </tr>\n",
       "    <tr>\n",
       "      <th>6497</th>\n",
       "      <td>699</td>\n",
       "      <td>Оксана</td>\n",
       "      <td>22</td>\n",
       "      <td>Москва</td>\n",
       "      <td>ultra</td>\n",
       "      <td>3076.159348</td>\n",
       "      <td>14.389525</td>\n",
       "      <td>2021-09-26</td>\n",
       "      <td>9</td>\n",
       "      <td>6</td>\n",
       "      <td>0</td>\n",
       "      <td>199</td>\n",
       "    </tr>\n",
       "    <tr>\n",
       "      <th>6498</th>\n",
       "      <td>699</td>\n",
       "      <td>Оксана</td>\n",
       "      <td>22</td>\n",
       "      <td>Москва</td>\n",
       "      <td>ultra</td>\n",
       "      <td>4707.845501</td>\n",
       "      <td>15.839579</td>\n",
       "      <td>2021-10-17</td>\n",
       "      <td>10</td>\n",
       "      <td>6</td>\n",
       "      <td>0</td>\n",
       "      <td>199</td>\n",
       "    </tr>\n",
       "    <tr>\n",
       "      <th>6499</th>\n",
       "      <td>699</td>\n",
       "      <td>Оксана</td>\n",
       "      <td>22</td>\n",
       "      <td>Москва</td>\n",
       "      <td>ultra</td>\n",
       "      <td>3202.890770</td>\n",
       "      <td>25.217345</td>\n",
       "      <td>2021-12-03</td>\n",
       "      <td>12</td>\n",
       "      <td>6</td>\n",
       "      <td>0</td>\n",
       "      <td>199</td>\n",
       "    </tr>\n",
       "  </tbody>\n",
       "</table>\n",
       "</div>"
      ],
      "text/plain": [
       "      user_id    name  age    city subscription_type     distance   duration  \\\n",
       "6495      699  Оксана   22  Москва             ultra  3973.046497  24.671163   \n",
       "6496      699  Оксана   22  Москва             ultra  3288.702563  15.892886   \n",
       "6497      699  Оксана   22  Москва             ultra  3076.159348  14.389525   \n",
       "6498      699  Оксана   22  Москва             ultra  4707.845501  15.839579   \n",
       "6499      699  Оксана   22  Москва             ultra  3202.890770  25.217345   \n",
       "\n",
       "           date  month_number  minute_price  start_ride_price  \\\n",
       "6495 2021-08-29             8             6                 0   \n",
       "6496 2021-09-12             9             6                 0   \n",
       "6497 2021-09-26             9             6                 0   \n",
       "6498 2021-10-17            10             6                 0   \n",
       "6499 2021-12-03            12             6                 0   \n",
       "\n",
       "      subscription_fee  \n",
       "6495               199  \n",
       "6496               199  \n",
       "6497               199  \n",
       "6498               199  \n",
       "6499               199  "
      ]
     },
     "execution_count": 32,
     "metadata": {},
     "output_type": "execute_result"
    }
   ],
   "source": [
    "data_subscription_ultra = data.loc[data['subscription_type'] == 'ultra']\n",
    "data_subscription_ultra.tail(5)"
   ]
  },
  {
   "cell_type": "markdown",
   "id": "7b4513a9",
   "metadata": {},
   "source": [
    "* c данными о пользователях без подписки"
   ]
  },
  {
   "cell_type": "code",
   "execution_count": 33,
   "id": "90ff3e99",
   "metadata": {},
   "outputs": [
    {
     "data": {
      "text/html": [
       "<div>\n",
       "<style scoped>\n",
       "    .dataframe tbody tr th:only-of-type {\n",
       "        vertical-align: middle;\n",
       "    }\n",
       "\n",
       "    .dataframe tbody tr th {\n",
       "        vertical-align: top;\n",
       "    }\n",
       "\n",
       "    .dataframe thead th {\n",
       "        text-align: right;\n",
       "    }\n",
       "</style>\n",
       "<table border=\"1\" class=\"dataframe\">\n",
       "  <thead>\n",
       "    <tr style=\"text-align: right;\">\n",
       "      <th></th>\n",
       "      <th>user_id</th>\n",
       "      <th>name</th>\n",
       "      <th>age</th>\n",
       "      <th>city</th>\n",
       "      <th>subscription_type</th>\n",
       "      <th>distance</th>\n",
       "      <th>duration</th>\n",
       "      <th>date</th>\n",
       "      <th>month_number</th>\n",
       "      <th>minute_price</th>\n",
       "      <th>start_ride_price</th>\n",
       "      <th>subscription_fee</th>\n",
       "    </tr>\n",
       "  </thead>\n",
       "  <tbody>\n",
       "    <tr>\n",
       "      <th>18063</th>\n",
       "      <td>1534</td>\n",
       "      <td>Альберт</td>\n",
       "      <td>25</td>\n",
       "      <td>Краснодар</td>\n",
       "      <td>free</td>\n",
       "      <td>3781.098080</td>\n",
       "      <td>19.822962</td>\n",
       "      <td>2021-11-04</td>\n",
       "      <td>11</td>\n",
       "      <td>8</td>\n",
       "      <td>50</td>\n",
       "      <td>0</td>\n",
       "    </tr>\n",
       "    <tr>\n",
       "      <th>18064</th>\n",
       "      <td>1534</td>\n",
       "      <td>Альберт</td>\n",
       "      <td>25</td>\n",
       "      <td>Краснодар</td>\n",
       "      <td>free</td>\n",
       "      <td>2840.423057</td>\n",
       "      <td>21.409799</td>\n",
       "      <td>2021-11-16</td>\n",
       "      <td>11</td>\n",
       "      <td>8</td>\n",
       "      <td>50</td>\n",
       "      <td>0</td>\n",
       "    </tr>\n",
       "    <tr>\n",
       "      <th>18065</th>\n",
       "      <td>1534</td>\n",
       "      <td>Альберт</td>\n",
       "      <td>25</td>\n",
       "      <td>Краснодар</td>\n",
       "      <td>free</td>\n",
       "      <td>3826.185507</td>\n",
       "      <td>18.435051</td>\n",
       "      <td>2021-11-18</td>\n",
       "      <td>11</td>\n",
       "      <td>8</td>\n",
       "      <td>50</td>\n",
       "      <td>0</td>\n",
       "    </tr>\n",
       "    <tr>\n",
       "      <th>18066</th>\n",
       "      <td>1534</td>\n",
       "      <td>Альберт</td>\n",
       "      <td>25</td>\n",
       "      <td>Краснодар</td>\n",
       "      <td>free</td>\n",
       "      <td>2902.308661</td>\n",
       "      <td>16.674362</td>\n",
       "      <td>2021-11-27</td>\n",
       "      <td>11</td>\n",
       "      <td>8</td>\n",
       "      <td>50</td>\n",
       "      <td>0</td>\n",
       "    </tr>\n",
       "    <tr>\n",
       "      <th>18067</th>\n",
       "      <td>1534</td>\n",
       "      <td>Альберт</td>\n",
       "      <td>25</td>\n",
       "      <td>Краснодар</td>\n",
       "      <td>free</td>\n",
       "      <td>2371.711192</td>\n",
       "      <td>15.893917</td>\n",
       "      <td>2021-12-29</td>\n",
       "      <td>12</td>\n",
       "      <td>8</td>\n",
       "      <td>50</td>\n",
       "      <td>0</td>\n",
       "    </tr>\n",
       "  </tbody>\n",
       "</table>\n",
       "</div>"
      ],
      "text/plain": [
       "       user_id     name  age       city subscription_type     distance  \\\n",
       "18063     1534  Альберт   25  Краснодар              free  3781.098080   \n",
       "18064     1534  Альберт   25  Краснодар              free  2840.423057   \n",
       "18065     1534  Альберт   25  Краснодар              free  3826.185507   \n",
       "18066     1534  Альберт   25  Краснодар              free  2902.308661   \n",
       "18067     1534  Альберт   25  Краснодар              free  2371.711192   \n",
       "\n",
       "        duration       date  month_number  minute_price  start_ride_price  \\\n",
       "18063  19.822962 2021-11-04            11             8                50   \n",
       "18064  21.409799 2021-11-16            11             8                50   \n",
       "18065  18.435051 2021-11-18            11             8                50   \n",
       "18066  16.674362 2021-11-27            11             8                50   \n",
       "18067  15.893917 2021-12-29            12             8                50   \n",
       "\n",
       "       subscription_fee  \n",
       "18063                 0  \n",
       "18064                 0  \n",
       "18065                 0  \n",
       "18066                 0  \n",
       "18067                 0  "
      ]
     },
     "execution_count": 33,
     "metadata": {},
     "output_type": "execute_result"
    }
   ],
   "source": [
    "data_subscription_free = data.loc[data['subscription_type'] == 'free']\n",
    "data_subscription_free.tail(5)"
   ]
  },
  {
   "cell_type": "markdown",
   "id": "0d22fc57",
   "metadata": {},
   "source": [
    "##### Визуализируем информацию о расстоянии и времени поездок для пользователей обеих категорий."
   ]
  },
  {
   "cell_type": "code",
   "execution_count": 34,
   "id": "9f14cfc6",
   "metadata": {},
   "outputs": [
    {
     "data": {
      "image/png": "[encoded data removed]",
      "text/plain": [
       "<Figure size 432x288 with 1 Axes>"
      ]
     },
     "metadata": {
      "needs_background": "light"
     },
     "output_type": "display_data"
    }
   ],
   "source": [
    "data_subscription_free['distance'].hist(bins=100)\n",
    "data_subscription_ultra['distance'].hist(bins=100).set(title='Дистанции поездок без подписки и с подпиской')\n",
    "\n",
    "plt.show()"
   ]
  },
  {
   "cell_type": "markdown",
   "id": "d1c39977",
   "metadata": {},
   "source": [
    "Графики имеют похожие тенденции, выделяется большее количество коротких поездок у пользователей без подписки."
   ]
  },
  {
   "cell_type": "code",
   "execution_count": 35,
   "id": "6b6fa7f2",
   "metadata": {},
   "outputs": [
    {
     "data": {
      "image/png": "[encoded data removed]",
      "text/plain": [
       "<Figure size 432x288 with 1 Axes>"
      ]
     },
     "metadata": {
      "needs_background": "light"
     },
     "output_type": "display_data"
    }
   ],
   "source": [
    "data_subscription_ultra['duration'].hist(bins=100).set(title='Продолжительность поездок с подпиской')\n",
    "plt.show()"
   ]
  },
  {
   "cell_type": "markdown",
   "id": "bda9d957",
   "metadata": {},
   "source": [
    "Посмотрим на числовое описание данных о времени поездки для пользователей с подпиской:"
   ]
  },
  {
   "cell_type": "code",
   "execution_count": 36,
   "id": "9467c846",
   "metadata": {},
   "outputs": [
    {
     "data": {
      "text/plain": [
       "count    6500.000000\n",
       "mean       18.541985\n",
       "std         5.572048\n",
       "min         3.760353\n",
       "25%        14.524654\n",
       "50%        18.178153\n",
       "75%        21.884129\n",
       "max        40.823963\n",
       "Name: duration, dtype: float64"
      ]
     },
     "execution_count": 36,
     "metadata": {},
     "output_type": "execute_result"
    }
   ],
   "source": [
    "data_subscription_ultra['duration'].describe()"
   ]
  },
  {
   "cell_type": "code",
   "execution_count": 37,
   "id": "03737c34",
   "metadata": {},
   "outputs": [
    {
     "data": {
      "image/png": "[encoded data removed]",
      "text/plain": [
       "<Figure size 432x288 with 1 Axes>"
      ]
     },
     "metadata": {
      "needs_background": "light"
     },
     "output_type": "display_data"
    }
   ],
   "source": [
    "data_subscription_free['duration'].hist(bins=100).set(title='Продолжительность поездок без подписки')\n",
    "plt.show()"
   ]
  },
  {
   "cell_type": "markdown",
   "id": "05662f04",
   "metadata": {},
   "source": [
    "Посмотрим на числовое описание данных о времени поездки для пользователей без подписки:"
   ]
  },
  {
   "cell_type": "code",
   "execution_count": 38,
   "id": "a0794542",
   "metadata": {},
   "outputs": [
    {
     "data": {
      "text/plain": [
       "count    11568.000000\n",
       "mean        17.390909\n",
       "std          6.326803\n",
       "min          0.500000\n",
       "25%         12.958437\n",
       "50%         17.326890\n",
       "75%         21.594071\n",
       "max         34.948498\n",
       "Name: duration, dtype: float64"
      ]
     },
     "execution_count": 38,
     "metadata": {},
     "output_type": "execute_result"
    }
   ],
   "source": [
    "data_subscription_free['duration'].describe()"
   ]
  },
  {
   "cell_type": "markdown",
   "id": "453ff331",
   "metadata": {},
   "source": [
    "Тенденции на графиках идентичны, и в то же время есть различия:\n",
    "* минимальное время у пользователей с подпиской - выше. 3.76 мин против 0.5 у пользователей без подписки.\n",
    "* максимальное время у пользователей с подпиской - выше. 40.82 мин против 34.94 у пользователей без подписки.\n",
    "* разница между средним и медианой у пользователей с подпиской почти не заметна - что говорит о низких выбросах и соответственно о более стабильном использовании сервиса."
   ]
  },
  {
   "cell_type": "markdown",
   "id": "402d620f",
   "metadata": {},
   "source": [
    "#### Шаг 5. Подсчёт выручки"
   ]
  },
  {
   "cell_type": "markdown",
   "id": "a3171d2a",
   "metadata": {},
   "source": [
    "##### Создадим датафрейм с агрегированными данными о поездках на основе датафрейма с объединёнными данными и найдем:\n",
    "* суммарное расстояние; \n",
    "* количество поездок;\n",
    "* суммарное время для каждого пользователя за каждый месяц."
   ]
  },
  {
   "cell_type": "markdown",
   "id": "38a9e81a",
   "metadata": {},
   "source": [
    "Продолжительность каждой поездки в каждой строке исходного датафрейма для подсчёта стоимости округлим до следующего целого числа."
   ]
  },
  {
   "cell_type": "code",
   "execution_count": 39,
   "id": "ae210532",
   "metadata": {},
   "outputs": [],
   "source": [
    "data['duration'] = np.ceil(data['duration'])"
   ]
  },
  {
   "cell_type": "code",
   "execution_count": 40,
   "id": "efbe0e5a",
   "metadata": {},
   "outputs": [
    {
     "data": {
      "text/html": [
       "<div>\n",
       "<style scoped>\n",
       "    .dataframe tbody tr th:only-of-type {\n",
       "        vertical-align: middle;\n",
       "    }\n",
       "\n",
       "    .dataframe tbody tr th {\n",
       "        vertical-align: top;\n",
       "    }\n",
       "\n",
       "    .dataframe thead th {\n",
       "        text-align: right;\n",
       "    }\n",
       "</style>\n",
       "<table border=\"1\" class=\"dataframe\">\n",
       "  <thead>\n",
       "    <tr style=\"text-align: right;\">\n",
       "      <th></th>\n",
       "      <th></th>\n",
       "      <th>distance</th>\n",
       "      <th>duration</th>\n",
       "      <th>quantity</th>\n",
       "      <th>subscription_type</th>\n",
       "    </tr>\n",
       "    <tr>\n",
       "      <th>user_id</th>\n",
       "      <th>month_number</th>\n",
       "      <th></th>\n",
       "      <th></th>\n",
       "      <th></th>\n",
       "      <th></th>\n",
       "    </tr>\n",
       "  </thead>\n",
       "  <tbody>\n",
       "    <tr>\n",
       "      <th rowspan=\"5\" valign=\"top\">1</th>\n",
       "      <th>1</th>\n",
       "      <td>7027.511294</td>\n",
       "      <td>42.0</td>\n",
       "      <td>2</td>\n",
       "      <td>ultra</td>\n",
       "    </tr>\n",
       "    <tr>\n",
       "      <th>4</th>\n",
       "      <td>754.159807</td>\n",
       "      <td>7.0</td>\n",
       "      <td>1</td>\n",
       "      <td>ultra</td>\n",
       "    </tr>\n",
       "    <tr>\n",
       "      <th>8</th>\n",
       "      <td>6723.470560</td>\n",
       "      <td>46.0</td>\n",
       "      <td>2</td>\n",
       "      <td>ultra</td>\n",
       "    </tr>\n",
       "    <tr>\n",
       "      <th>10</th>\n",
       "      <td>5809.911100</td>\n",
       "      <td>32.0</td>\n",
       "      <td>2</td>\n",
       "      <td>ultra</td>\n",
       "    </tr>\n",
       "    <tr>\n",
       "      <th>11</th>\n",
       "      <td>7003.499363</td>\n",
       "      <td>56.0</td>\n",
       "      <td>3</td>\n",
       "      <td>ultra</td>\n",
       "    </tr>\n",
       "    <tr>\n",
       "      <th>...</th>\n",
       "      <th>...</th>\n",
       "      <td>...</td>\n",
       "      <td>...</td>\n",
       "      <td>...</td>\n",
       "      <td>...</td>\n",
       "    </tr>\n",
       "    <tr>\n",
       "      <th rowspan=\"5\" valign=\"top\">1534</th>\n",
       "      <th>6</th>\n",
       "      <td>3409.468534</td>\n",
       "      <td>26.0</td>\n",
       "      <td>2</td>\n",
       "      <td>free</td>\n",
       "    </tr>\n",
       "    <tr>\n",
       "      <th>8</th>\n",
       "      <td>7622.453034</td>\n",
       "      <td>48.0</td>\n",
       "      <td>2</td>\n",
       "      <td>free</td>\n",
       "    </tr>\n",
       "    <tr>\n",
       "      <th>9</th>\n",
       "      <td>4928.173852</td>\n",
       "      <td>23.0</td>\n",
       "      <td>1</td>\n",
       "      <td>free</td>\n",
       "    </tr>\n",
       "    <tr>\n",
       "      <th>11</th>\n",
       "      <td>13350.015305</td>\n",
       "      <td>78.0</td>\n",
       "      <td>4</td>\n",
       "      <td>free</td>\n",
       "    </tr>\n",
       "    <tr>\n",
       "      <th>12</th>\n",
       "      <td>2371.711192</td>\n",
       "      <td>16.0</td>\n",
       "      <td>1</td>\n",
       "      <td>free</td>\n",
       "    </tr>\n",
       "  </tbody>\n",
       "</table>\n",
       "<p>11331 rows × 4 columns</p>\n",
       "</div>"
      ],
      "text/plain": [
       "                          distance  duration  quantity subscription_type\n",
       "user_id month_number                                                    \n",
       "1       1              7027.511294      42.0         2             ultra\n",
       "        4               754.159807       7.0         1             ultra\n",
       "        8              6723.470560      46.0         2             ultra\n",
       "        10             5809.911100      32.0         2             ultra\n",
       "        11             7003.499363      56.0         3             ultra\n",
       "...                            ...       ...       ...               ...\n",
       "1534    6              3409.468534      26.0         2              free\n",
       "        8              7622.453034      48.0         2              free\n",
       "        9              4928.173852      23.0         1              free\n",
       "        11            13350.015305      78.0         4              free\n",
       "        12             2371.711192      16.0         1              free\n",
       "\n",
       "[11331 rows x 4 columns]"
      ]
     },
     "execution_count": 40,
     "metadata": {},
     "output_type": "execute_result"
    }
   ],
   "source": [
    "\n",
    "data_agg = pd.pivot_table(data,\n",
    "                                values=['distance', 'duration','name','subscription_type'], \n",
    "                                index=['user_id','month_number'], \n",
    "                                aggfunc={'distance': sum, 'duration': sum,'name': len, 'subscription_type':min})\n",
    "\n",
    "data_agg = data_agg.rename(columns={'user_id' : 'quantity','name' : 'quantity'})\n",
    "data_agg"
   ]
  },
  {
   "cell_type": "code",
   "execution_count": 41,
   "id": "bbe01668",
   "metadata": {},
   "outputs": [
    {
     "data": {
      "text/plain": [
       "distance             0\n",
       "duration             0\n",
       "quantity             0\n",
       "subscription_type    0\n",
       "dtype: int64"
      ]
     },
     "execution_count": 41,
     "metadata": {},
     "output_type": "execute_result"
    }
   ],
   "source": [
    "data_agg.isna().sum()"
   ]
  },
  {
   "cell_type": "markdown",
   "id": "cd7cd48c",
   "metadata": {},
   "source": [
    "Пропуски отсутствуют."
   ]
  },
  {
   "cell_type": "markdown",
   "id": "086b8263",
   "metadata": {},
   "source": [
    "##### Добавим столбец с помесячной выручкой, которую принёс каждый пользователь. Для этого обратимся к информации об условиях оплаты для подписчиков и тех, у кого нет подписки. "
   ]
  },
  {
   "cell_type": "code",
   "execution_count": 42,
   "id": "d6f8c805",
   "metadata": {},
   "outputs": [],
   "source": [
    "def user_revenue(data_agg):\n",
    "    if data_agg['subscription_type'] == 'ultra':\n",
    "        return 6*data_agg['duration']+199\n",
    "    elif data_agg['subscription_type'] == 'free':\n",
    "        return 50*data_agg['quantity']+8*data_agg['duration']\n",
    "            "
   ]
  },
  {
   "cell_type": "code",
   "execution_count": 43,
   "id": "932e1b5e",
   "metadata": {
    "scrolled": true
   },
   "outputs": [
    {
     "data": {
      "text/html": [
       "<div>\n",
       "<style scoped>\n",
       "    .dataframe tbody tr th:only-of-type {\n",
       "        vertical-align: middle;\n",
       "    }\n",
       "\n",
       "    .dataframe tbody tr th {\n",
       "        vertical-align: top;\n",
       "    }\n",
       "\n",
       "    .dataframe thead th {\n",
       "        text-align: right;\n",
       "    }\n",
       "</style>\n",
       "<table border=\"1\" class=\"dataframe\">\n",
       "  <thead>\n",
       "    <tr style=\"text-align: right;\">\n",
       "      <th></th>\n",
       "      <th></th>\n",
       "      <th>distance</th>\n",
       "      <th>duration</th>\n",
       "      <th>quantity</th>\n",
       "      <th>subscription_type</th>\n",
       "      <th>revenue</th>\n",
       "    </tr>\n",
       "    <tr>\n",
       "      <th>user_id</th>\n",
       "      <th>month_number</th>\n",
       "      <th></th>\n",
       "      <th></th>\n",
       "      <th></th>\n",
       "      <th></th>\n",
       "      <th></th>\n",
       "    </tr>\n",
       "  </thead>\n",
       "  <tbody>\n",
       "    <tr>\n",
       "      <th rowspan=\"5\" valign=\"top\">1</th>\n",
       "      <th>1</th>\n",
       "      <td>7027.511294</td>\n",
       "      <td>42.0</td>\n",
       "      <td>2</td>\n",
       "      <td>ultra</td>\n",
       "      <td>451.0</td>\n",
       "    </tr>\n",
       "    <tr>\n",
       "      <th>4</th>\n",
       "      <td>754.159807</td>\n",
       "      <td>7.0</td>\n",
       "      <td>1</td>\n",
       "      <td>ultra</td>\n",
       "      <td>241.0</td>\n",
       "    </tr>\n",
       "    <tr>\n",
       "      <th>8</th>\n",
       "      <td>6723.470560</td>\n",
       "      <td>46.0</td>\n",
       "      <td>2</td>\n",
       "      <td>ultra</td>\n",
       "      <td>475.0</td>\n",
       "    </tr>\n",
       "    <tr>\n",
       "      <th>10</th>\n",
       "      <td>5809.911100</td>\n",
       "      <td>32.0</td>\n",
       "      <td>2</td>\n",
       "      <td>ultra</td>\n",
       "      <td>391.0</td>\n",
       "    </tr>\n",
       "    <tr>\n",
       "      <th>11</th>\n",
       "      <td>7003.499363</td>\n",
       "      <td>56.0</td>\n",
       "      <td>3</td>\n",
       "      <td>ultra</td>\n",
       "      <td>535.0</td>\n",
       "    </tr>\n",
       "    <tr>\n",
       "      <th>...</th>\n",
       "      <th>...</th>\n",
       "      <td>...</td>\n",
       "      <td>...</td>\n",
       "      <td>...</td>\n",
       "      <td>...</td>\n",
       "      <td>...</td>\n",
       "    </tr>\n",
       "    <tr>\n",
       "      <th rowspan=\"5\" valign=\"top\">1534</th>\n",
       "      <th>6</th>\n",
       "      <td>3409.468534</td>\n",
       "      <td>26.0</td>\n",
       "      <td>2</td>\n",
       "      <td>free</td>\n",
       "      <td>308.0</td>\n",
       "    </tr>\n",
       "    <tr>\n",
       "      <th>8</th>\n",
       "      <td>7622.453034</td>\n",
       "      <td>48.0</td>\n",
       "      <td>2</td>\n",
       "      <td>free</td>\n",
       "      <td>484.0</td>\n",
       "    </tr>\n",
       "    <tr>\n",
       "      <th>9</th>\n",
       "      <td>4928.173852</td>\n",
       "      <td>23.0</td>\n",
       "      <td>1</td>\n",
       "      <td>free</td>\n",
       "      <td>234.0</td>\n",
       "    </tr>\n",
       "    <tr>\n",
       "      <th>11</th>\n",
       "      <td>13350.015305</td>\n",
       "      <td>78.0</td>\n",
       "      <td>4</td>\n",
       "      <td>free</td>\n",
       "      <td>824.0</td>\n",
       "    </tr>\n",
       "    <tr>\n",
       "      <th>12</th>\n",
       "      <td>2371.711192</td>\n",
       "      <td>16.0</td>\n",
       "      <td>1</td>\n",
       "      <td>free</td>\n",
       "      <td>178.0</td>\n",
       "    </tr>\n",
       "  </tbody>\n",
       "</table>\n",
       "<p>11331 rows × 5 columns</p>\n",
       "</div>"
      ],
      "text/plain": [
       "                          distance  duration  quantity subscription_type  \\\n",
       "user_id month_number                                                       \n",
       "1       1              7027.511294      42.0         2             ultra   \n",
       "        4               754.159807       7.0         1             ultra   \n",
       "        8              6723.470560      46.0         2             ultra   \n",
       "        10             5809.911100      32.0         2             ultra   \n",
       "        11             7003.499363      56.0         3             ultra   \n",
       "...                            ...       ...       ...               ...   \n",
       "1534    6              3409.468534      26.0         2              free   \n",
       "        8              7622.453034      48.0         2              free   \n",
       "        9              4928.173852      23.0         1              free   \n",
       "        11            13350.015305      78.0         4              free   \n",
       "        12             2371.711192      16.0         1              free   \n",
       "\n",
       "                      revenue  \n",
       "user_id month_number           \n",
       "1       1               451.0  \n",
       "        4               241.0  \n",
       "        8               475.0  \n",
       "        10              391.0  \n",
       "        11              535.0  \n",
       "...                       ...  \n",
       "1534    6               308.0  \n",
       "        8               484.0  \n",
       "        9               234.0  \n",
       "        11              824.0  \n",
       "        12              178.0  \n",
       "\n",
       "[11331 rows x 5 columns]"
      ]
     },
     "execution_count": 43,
     "metadata": {},
     "output_type": "execute_result"
    }
   ],
   "source": [
    "data_agg['revenue'] = data_agg.apply(user_revenue,axis=1)\n",
    "data_agg"
   ]
  },
  {
   "cell_type": "markdown",
   "id": "41545ac0",
   "metadata": {},
   "source": [
    "#### Шаг 6. Проверка гипотез"
   ]
  },
  {
   "cell_type": "markdown",
   "id": "49bf3da2",
   "metadata": {},
   "source": [
    "##### Нам нужно понять, тратят ли пользователи с подпиской больше времени на поездки? Если да, то пользователи с подпиской могут быть «выгоднее» для компании. Проверим гипотезу. Используем исходные данные о продолжительности каждой сессии — отдельно для подписчиков и тех, у кого нет подписки.\n",
    "\n",
    " * Нулевая гипотеза: время пользователей с подпиской равно времени пользователей без подписки.\n",
    " * Альтернативная гипотеза: время пользователей с подпиской больше времени пользователей без подписки."
   ]
  },
  {
   "cell_type": "code",
   "execution_count": 44,
   "id": "153e3a82",
   "metadata": {},
   "outputs": [
    {
     "name": "stdout",
     "output_type": "stream",
     "text": [
      "p-значение: 2.4959453720736625e-34\n",
      "Отвергаем нулевую гипотезу\n"
     ]
    }
   ],
   "source": [
    "alpha = 0.05 # критический уровень статистической значимости\n",
    "\n",
    "with_ultra = data.query('subscription_type==\"ultra\"')['duration']\n",
    "with_free = data.query('subscription_type==\"free\"')['duration']\n",
    "\n",
    "results = st.ttest_ind(\n",
    "    with_ultra, \n",
    "    with_free,alternative='greater')\n",
    "\n",
    "print('p-значение:', results.pvalue)\n",
    "\n",
    "if (results.pvalue < alpha):\n",
    "    print('Отвергаем нулевую гипотезу')\n",
    "else:\n",
    "    print('Не удалось отвергнуть нулевую гипотезу')"
   ]
  },
  {
   "cell_type": "code",
   "execution_count": 45,
   "id": "9d389166",
   "metadata": {},
   "outputs": [
    {
     "data": {
      "image/png": "[encoded data removed]",
      "text/plain": [
       "<Figure size 432x288 with 1 Axes>"
      ]
     },
     "metadata": {
      "needs_background": "light"
     },
     "output_type": "display_data"
    }
   ],
   "source": [
    "with_free.hist(bins=70)\n",
    "with_ultra.hist(bins=70)\n",
    "\n",
    "plt.show()"
   ]
  },
  {
   "cell_type": "markdown",
   "id": "3a67e95d",
   "metadata": {},
   "source": [
    "Вывод\n",
    "\n",
    "Мы отвергли гипотезу о том, что время поездки пользователей с подпиской равно времени поездки пользователей без подписки. На графике можем наблюдать, что время поездки пользователей с подпиской больше времени поездки пользователей без подписки."
   ]
  },
  {
   "cell_type": "markdown",
   "id": "5d7919fc",
   "metadata": {},
   "source": [
    "##### Расстояние одной поездки в 3130 метров — оптимальное с точки зрения износа самоката. Проверим, можно ли сказать, что среднее расстояние, которое проезжают пользователи с подпиской за одну поездку, не превышает 3130 метров? \n",
    "* нулевая гипотеза звучит так: расстояние, которое пользователи с подпиской в среднем проезжают за одну поездку равно 3130 метров.\n",
    "* альтернативная гипотеза: подписчики в среднем проезжают расстояние больше оптимального."
   ]
  },
  {
   "cell_type": "code",
   "execution_count": 46,
   "id": "7afada40",
   "metadata": {},
   "outputs": [
    {
     "name": "stdout",
     "output_type": "stream",
     "text": [
      "p-значение: 0.9195368847849785\n",
      "Не удалось отвергнуть нулевую гипотезу\n"
     ]
    }
   ],
   "source": [
    "alpha = 0.05 # критический уровень статистической значимости\n",
    "\n",
    "with_ultra_dist = data.query('subscription_type==\"ultra\"')['distance']\n",
    "distance = 3130\n",
    "\n",
    "results = st.ttest_1samp(\n",
    "    with_ultra_dist, \n",
    "    distance,alternative='greater')\n",
    "\n",
    "print('p-значение:', results.pvalue)\n",
    "\n",
    "if (results.pvalue < alpha):\n",
    "    print('Отвергаем нулевую гипотезу')\n",
    "else:\n",
    "    print('Не удалось отвергнуть нулевую гипотезу')"
   ]
  },
  {
   "cell_type": "code",
   "execution_count": 47,
   "id": "d11d4f75",
   "metadata": {},
   "outputs": [
    {
     "data": {
      "image/png": "[encoded data removed]",
      "text/plain": [
       "<Figure size 432x288 with 1 Axes>"
      ]
     },
     "metadata": {
      "needs_background": "light"
     },
     "output_type": "display_data"
    }
   ],
   "source": [
    "with_ultra_dist.hist(bins=50,range=(2500,4000))\n",
    "plt.show()"
   ]
  },
  {
   "cell_type": "markdown",
   "id": "bcf426ec",
   "metadata": {},
   "source": [
    "Вывод: нам не удалось отвергнуть нулевую гипотезу, мы можем утверждать что расстояние, которое пользователи с подпиской в среднем проезжают за одну поездку равно 3130 метров. - не превышающее оптимальное с точки зрения износа самоката."
   ]
  },
  {
   "cell_type": "markdown",
   "id": "eeea4db5",
   "metadata": {},
   "source": [
    "##### Проверим гипотезу о том, будет ли помесячная выручка от пользователей с подпиской по месяцам выше, чем выручка от пользователей без подписки. \n",
    "\n",
    "* нулевая гипотеза: помесячная выручка от пользователей с подпиской по месяцам равна выручке от пользователей без подписки.\n",
    "* альтернативная гипотеза: помесячная выручка от пользователей с подпиской по месяцам выше, чем выручка от пользователей без подписки."
   ]
  },
  {
   "cell_type": "code",
   "execution_count": 48,
   "id": "5f798f19",
   "metadata": {},
   "outputs": [
    {
     "name": "stdout",
     "output_type": "stream",
     "text": [
      "p-значение: 1.8850394384715216e-31\n",
      "Отвергаем нулевую гипотезу\n"
     ]
    }
   ],
   "source": [
    "alpha = 0.05 # критический уровень статистической значимости\n",
    "\n",
    "with_ultra = data_agg.query('subscription_type==\"ultra\"')['revenue']\n",
    "with_free = data_agg.query('subscription_type==\"free\"')['revenue']\n",
    "\n",
    "results = st.ttest_ind(\n",
    "    with_ultra, \n",
    "    with_free,alternative='greater')\n",
    "\n",
    "print('p-значение:', results.pvalue)\n",
    "\n",
    "if (results.pvalue < alpha):\n",
    "    print(\"Отвергаем нулевую гипотезу\")\n",
    "else:\n",
    "    print(\"Нулевая гипотеза верна\")"
   ]
  },
  {
   "cell_type": "markdown",
   "id": "79839169",
   "metadata": {},
   "source": [
    "Мы отвергли нулевую гипотезу в пользу альтернативной - помесячная выручка от пользователей с подпиской по месяцам выше, чем выручка от пользователей без подписки."
   ]
  },
  {
   "cell_type": "markdown",
   "id": "550ec32d",
   "metadata": {},
   "source": [
    "##### Представим такую ситуацию: техническая команда сервиса обновила сервера, с которыми взаимодействует мобильное приложение. Она надеется, что из-за этого количество обращений в техподдержку значимо снизилось. Некоторый файл содержит для каждого пользователя данные о количестве обращений до обновления и после него. \n",
    " * Для проверки этой гипотезы нам понадобился бы тест scipy.stats.ttest_rel с проверкой левосторонней гипотезы alternative='less'."
   ]
  },
  {
   "cell_type": "markdown",
   "id": "ec82cec7",
   "metadata": {},
   "source": [
    "#### Общий вывод.\n",
    "Нам передали данные о некоторых пользователях из нескольких городов, а также об их поездках, чтобы проанализировать данные и проверить некоторые гипотезы, которые могут помочь бизнесу вырасти.\n",
    "\n",
    "Мы проверили данные на пропуски, их не оказалось. Обработали явные дубликаты. Поменяли тип данных у столбца date на datetime, добавили столбец month_number с номером месяца и удалили аномальные значения из столбца duration.\n",
    "\n",
    "Провели исследовательский анализ данных:\n",
    "\n",
    "* выявили, что количество пользователей по городам распределено примерно одинаково, нет выдающихся значений. ТОП 3 по количеству пользователей - Пятигорск, Екатеринбург и Ростов-н-Дону. \n",
    "* пользователей без подписки больше, примерно на 120.\n",
    "* пользователи по возрасту, ожидаемо, распределены нормально. Большинство пользователей возрастом около 25 лет.\n",
    "* в основном пользователи проезжают около 700 метров и около 3100 метров.\n",
    "* чаще всего длительность поездки состовляет 15 - 20 минут.\n",
    "\n",
    "Объединили данные в одну таблицу. На основе объединенного датафрейма создали еще 2 датафрейма:\n",
    "\n",
    "* для пользователей с ultra подпиской\n",
    "* для пользователей с free подпиской\n",
    "Дальше визуализировали информацию о расстоянии и времени поездки для пользоватей каждого тарифа.Графики по расстоянию имеют похожие тенденции, выделяется большее количество коротких поездок у пользователей без подписки.Тенденции на графиках по времени - идентичны, стоит отметить что пользователи без подписки не ездят более 35 мин.\n",
    "\n",
    "Создали таблицу с агрегированными данными о поездках на основе датафрейма с объединёнными данными и найшли суммарное расстояние, количество поездок и суммарное время для каждого пользователя за каждый месяц.\n",
    "Добавили в датафрейм data_agg столбец с помесячной выручкой - revenue.\n",
    "\n",
    "Проверили гипотезы:\n",
    "\n",
    "1. Нам нужно было понять, тратят ли пользователи с подпиской больше времени на поездки? Если да, то пользователи с подпиской могут быть «выгоднее» для компании. Проверили гипотезу - пользователи с подпиской в среднем тратят больше времени на поездки чем пользователи без подписки.\n",
    "\n",
    "2. Расстояние одной поездки в 3130 метров — оптимальное с точки зрения износа самоката. Проверили, можно ли сказать, что среднее расстояние, которое проезжают пользователи с подпиской за одну поездку, не превышает 3130 метров? Вывод: нам не удалось отвергнуть нулевую гипотезу, мы можем утверждать что расстояние, которое пользователи с подпиской в среднем проезжают за одну поездку равно 3130 метров.\n",
    "\n",
    "3. Проверили гипотезу о том, будет ли помесячная выручка от пользователей с подпиской по месяцам выше, чем выручка от пользователей без подписки и получили вывод - средняя выручка пользователей с подпиской больше выручки пользователей без подписки.\n",
    "\n",
    "Исходя из проверенных гипотез мы выявили что в среднем подписчики проезжают больше по времени и расстоянию, а также средняя выручка от них выше. Поэтому пользователи с подпиской являются более выгодными для компании."
   ]
  }
 ],
 "metadata": {
  "ExecuteTimeLog": [
   {
    "duration": 58,
    "start_time": "2023-10-11T12:08:12.262Z"
   },
   {
    "duration": 478,
    "start_time": "2023-10-11T12:08:17.438Z"
   },
   {
    "duration": 274,
    "start_time": "2023-10-11T12:08:19.751Z"
   },
   {
    "duration": 471,
    "start_time": "2023-10-11T12:08:42.385Z"
   },
   {
    "duration": 188,
    "start_time": "2023-10-11T12:08:42.858Z"
   },
   {
    "duration": 71,
    "start_time": "2023-10-11T12:08:55.372Z"
   },
   {
    "duration": 113,
    "start_time": "2023-10-11T12:09:05.354Z"
   },
   {
    "duration": 407,
    "start_time": "2023-10-11T12:09:12.190Z"
   },
   {
    "duration": 86,
    "start_time": "2023-10-11T12:09:12.602Z"
   },
   {
    "duration": 24,
    "start_time": "2023-10-11T12:11:36.124Z"
   },
   {
    "duration": 461,
    "start_time": "2023-10-11T12:13:15.500Z"
   },
   {
    "duration": 93,
    "start_time": "2023-10-11T12:13:15.963Z"
   },
   {
    "duration": 250,
    "start_time": "2023-10-11T12:13:16.058Z"
   },
   {
    "duration": 9,
    "start_time": "2023-10-11T12:13:58.865Z"
   },
   {
    "duration": 430,
    "start_time": "2023-10-11T12:15:33.085Z"
   },
   {
    "duration": 82,
    "start_time": "2023-10-11T12:15:33.517Z"
   },
   {
    "duration": 36,
    "start_time": "2023-10-11T12:15:33.603Z"
   },
   {
    "duration": 21,
    "start_time": "2023-10-11T12:15:33.642Z"
   },
   {
    "duration": 70,
    "start_time": "2023-10-11T12:15:33.666Z"
   },
   {
    "duration": 12,
    "start_time": "2023-10-11T12:16:07.087Z"
   },
   {
    "duration": 20,
    "start_time": "2023-10-11T12:16:24.747Z"
   },
   {
    "duration": 12,
    "start_time": "2023-10-11T12:16:55.934Z"
   },
   {
    "duration": 12,
    "start_time": "2023-10-11T12:16:58.034Z"
   },
   {
    "duration": 479,
    "start_time": "2023-10-11T12:17:04.368Z"
   },
   {
    "duration": 93,
    "start_time": "2023-10-11T12:17:04.851Z"
   },
   {
    "duration": 71,
    "start_time": "2023-10-11T12:17:04.949Z"
   },
   {
    "duration": 38,
    "start_time": "2023-10-11T12:17:05.024Z"
   },
   {
    "duration": 50,
    "start_time": "2023-10-11T12:17:05.065Z"
   },
   {
    "duration": 32,
    "start_time": "2023-10-11T12:17:05.118Z"
   },
   {
    "duration": 510,
    "start_time": "2023-10-11T12:23:04.192Z"
   },
   {
    "duration": 90,
    "start_time": "2023-10-11T12:23:04.705Z"
   },
   {
    "duration": 21,
    "start_time": "2023-10-11T12:23:04.797Z"
   },
   {
    "duration": 34,
    "start_time": "2023-10-11T12:23:04.823Z"
   },
   {
    "duration": 23,
    "start_time": "2023-10-11T12:23:04.861Z"
   },
   {
    "duration": 13,
    "start_time": "2023-10-11T12:23:04.887Z"
   },
   {
    "duration": 36,
    "start_time": "2023-10-11T12:23:04.903Z"
   },
   {
    "duration": 12,
    "start_time": "2023-10-11T12:43:52.631Z"
   },
   {
    "duration": 19,
    "start_time": "2023-10-11T12:44:02.388Z"
   },
   {
    "duration": 88,
    "start_time": "2023-10-11T12:44:16.964Z"
   },
   {
    "duration": 21,
    "start_time": "2023-10-11T12:44:24.433Z"
   },
   {
    "duration": 31,
    "start_time": "2023-10-11T12:44:36.536Z"
   },
   {
    "duration": 23,
    "start_time": "2023-10-11T12:44:41.827Z"
   },
   {
    "duration": 516,
    "start_time": "2023-10-11T12:44:49.349Z"
   },
   {
    "duration": 101,
    "start_time": "2023-10-11T12:44:49.868Z"
   },
   {
    "duration": 13,
    "start_time": "2023-10-11T12:44:49.971Z"
   },
   {
    "duration": 71,
    "start_time": "2023-10-11T12:44:49.986Z"
   },
   {
    "duration": 336,
    "start_time": "2023-10-11T12:44:50.060Z"
   },
   {
    "duration": 65,
    "start_time": "2023-10-11T12:44:50.398Z"
   },
   {
    "duration": 118,
    "start_time": "2023-10-11T12:44:50.465Z"
   },
   {
    "duration": 153,
    "start_time": "2023-10-11T12:44:50.585Z"
   },
   {
    "duration": 20,
    "start_time": "2023-10-11T12:51:37.432Z"
   },
   {
    "duration": 26,
    "start_time": "2023-10-11T12:55:56.333Z"
   },
   {
    "duration": 7,
    "start_time": "2023-10-11T13:04:12.952Z"
   },
   {
    "duration": 6,
    "start_time": "2023-10-11T13:04:45.387Z"
   },
   {
    "duration": 474,
    "start_time": "2023-10-11T13:04:57.889Z"
   },
   {
    "duration": 99,
    "start_time": "2023-10-11T13:04:58.366Z"
   },
   {
    "duration": 13,
    "start_time": "2023-10-11T13:04:58.467Z"
   },
   {
    "duration": 34,
    "start_time": "2023-10-11T13:04:58.482Z"
   },
   {
    "duration": 45,
    "start_time": "2023-10-11T13:04:58.518Z"
   },
   {
    "duration": 91,
    "start_time": "2023-10-11T13:04:58.565Z"
   },
   {
    "duration": 99,
    "start_time": "2023-10-11T13:04:58.659Z"
   },
   {
    "duration": 112,
    "start_time": "2023-10-11T13:04:58.762Z"
   },
   {
    "duration": 143,
    "start_time": "2023-10-11T13:04:58.876Z"
   },
   {
    "duration": 161,
    "start_time": "2023-10-11T13:04:59.021Z"
   },
   {
    "duration": 63,
    "start_time": "2023-10-11T13:04:59.184Z"
   },
   {
    "duration": 13,
    "start_time": "2023-10-11T14:20:34.866Z"
   },
   {
    "duration": 434,
    "start_time": "2023-10-11T14:20:46.861Z"
   },
   {
    "duration": 87,
    "start_time": "2023-10-11T14:20:47.297Z"
   },
   {
    "duration": 14,
    "start_time": "2023-10-11T14:20:47.386Z"
   },
   {
    "duration": 45,
    "start_time": "2023-10-11T14:20:47.409Z"
   },
   {
    "duration": 25,
    "start_time": "2023-10-11T14:20:47.456Z"
   },
   {
    "duration": 43,
    "start_time": "2023-10-11T14:20:47.483Z"
   },
   {
    "duration": 48,
    "start_time": "2023-10-11T14:20:47.528Z"
   },
   {
    "duration": 55,
    "start_time": "2023-10-11T14:20:47.578Z"
   },
   {
    "duration": 55,
    "start_time": "2023-10-11T14:20:47.635Z"
   },
   {
    "duration": 36,
    "start_time": "2023-10-11T14:20:47.692Z"
   },
   {
    "duration": 17,
    "start_time": "2023-10-11T14:20:47.732Z"
   },
   {
    "duration": 25,
    "start_time": "2023-10-11T14:20:47.750Z"
   },
   {
    "duration": 7,
    "start_time": "2023-10-11T14:25:43.652Z"
   },
   {
    "duration": 6,
    "start_time": "2023-10-11T14:49:58.306Z"
   },
   {
    "duration": 5,
    "start_time": "2023-10-11T14:51:37.767Z"
   },
   {
    "duration": 5,
    "start_time": "2023-10-11T14:51:56.209Z"
   },
   {
    "duration": 7,
    "start_time": "2023-10-11T14:52:51.011Z"
   },
   {
    "duration": 450,
    "start_time": "2023-10-11T14:53:02.583Z"
   },
   {
    "duration": 71,
    "start_time": "2023-10-11T14:53:03.035Z"
   },
   {
    "duration": 13,
    "start_time": "2023-10-11T14:53:03.108Z"
   },
   {
    "duration": 81,
    "start_time": "2023-10-11T14:53:03.122Z"
   },
   {
    "duration": 168,
    "start_time": "2023-10-11T14:53:03.206Z"
   },
   {
    "duration": 133,
    "start_time": "2023-10-11T14:53:03.375Z"
   },
   {
    "duration": 71,
    "start_time": "2023-10-11T14:53:03.511Z"
   },
   {
    "duration": 60,
    "start_time": "2023-10-11T14:53:03.584Z"
   },
   {
    "duration": 72,
    "start_time": "2023-10-11T14:53:03.645Z"
   },
   {
    "duration": 30,
    "start_time": "2023-10-11T14:53:03.719Z"
   },
   {
    "duration": 22,
    "start_time": "2023-10-11T14:53:03.751Z"
   },
   {
    "duration": 35,
    "start_time": "2023-10-11T14:53:03.775Z"
   },
   {
    "duration": 8,
    "start_time": "2023-10-11T14:53:28.550Z"
   },
   {
    "duration": 2,
    "start_time": "2023-10-11T14:55:48.524Z"
   },
   {
    "duration": 51,
    "start_time": "2023-10-12T06:48:54.777Z"
   },
   {
    "duration": 404,
    "start_time": "2023-10-12T06:49:00.060Z"
   },
   {
    "duration": 203,
    "start_time": "2023-10-12T06:49:00.466Z"
   },
   {
    "duration": 12,
    "start_time": "2023-10-12T06:49:00.671Z"
   },
   {
    "duration": 165,
    "start_time": "2023-10-12T06:49:00.684Z"
   },
   {
    "duration": 38,
    "start_time": "2023-10-12T06:49:00.851Z"
   },
   {
    "duration": 48,
    "start_time": "2023-10-12T06:49:00.890Z"
   },
   {
    "duration": 74,
    "start_time": "2023-10-12T06:49:00.939Z"
   },
   {
    "duration": 57,
    "start_time": "2023-10-12T06:49:01.014Z"
   },
   {
    "duration": 50,
    "start_time": "2023-10-12T06:49:01.072Z"
   },
   {
    "duration": 27,
    "start_time": "2023-10-12T06:49:01.123Z"
   },
   {
    "duration": 30,
    "start_time": "2023-10-12T06:49:01.152Z"
   },
   {
    "duration": 14,
    "start_time": "2023-10-12T06:49:54.501Z"
   },
   {
    "duration": 10,
    "start_time": "2023-10-12T06:50:14.104Z"
   },
   {
    "duration": 4,
    "start_time": "2023-10-12T06:50:21.821Z"
   },
   {
    "duration": 10,
    "start_time": "2023-10-12T06:50:24.559Z"
   },
   {
    "duration": 92,
    "start_time": "2023-10-12T06:51:51.786Z"
   },
   {
    "duration": 415,
    "start_time": "2023-10-12T06:52:00.421Z"
   },
   {
    "duration": 69,
    "start_time": "2023-10-12T06:52:00.838Z"
   },
   {
    "duration": 11,
    "start_time": "2023-10-12T06:52:00.909Z"
   },
   {
    "duration": 59,
    "start_time": "2023-10-12T06:52:00.922Z"
   },
   {
    "duration": 167,
    "start_time": "2023-10-12T06:52:00.983Z"
   },
   {
    "duration": 168,
    "start_time": "2023-10-12T06:52:01.152Z"
   },
   {
    "duration": 169,
    "start_time": "2023-10-12T06:52:01.322Z"
   },
   {
    "duration": 179,
    "start_time": "2023-10-12T06:52:01.493Z"
   },
   {
    "duration": 63,
    "start_time": "2023-10-12T06:52:01.674Z"
   },
   {
    "duration": 80,
    "start_time": "2023-10-12T06:52:01.739Z"
   },
   {
    "duration": 73,
    "start_time": "2023-10-12T06:52:01.820Z"
   },
   {
    "duration": 371,
    "start_time": "2023-10-12T06:52:01.895Z"
   },
   {
    "duration": 58,
    "start_time": "2023-10-12T06:52:02.268Z"
   },
   {
    "duration": 20,
    "start_time": "2023-10-12T06:52:34.064Z"
   },
   {
    "duration": 503,
    "start_time": "2023-10-12T07:01:24.229Z"
   },
   {
    "duration": 129,
    "start_time": "2023-10-12T07:01:35.542Z"
   },
   {
    "duration": 182,
    "start_time": "2023-10-12T07:04:55.284Z"
   },
   {
    "duration": 14,
    "start_time": "2023-10-12T07:06:18.998Z"
   },
   {
    "duration": 375,
    "start_time": "2023-10-12T07:06:25.315Z"
   },
   {
    "duration": 68,
    "start_time": "2023-10-12T07:06:25.691Z"
   },
   {
    "duration": 10,
    "start_time": "2023-10-12T07:06:25.761Z"
   },
   {
    "duration": 79,
    "start_time": "2023-10-12T07:06:25.772Z"
   },
   {
    "duration": 55,
    "start_time": "2023-10-12T07:06:25.853Z"
   },
   {
    "duration": 15,
    "start_time": "2023-10-12T07:06:25.911Z"
   },
   {
    "duration": 23,
    "start_time": "2023-10-12T07:06:25.928Z"
   },
   {
    "duration": 24,
    "start_time": "2023-10-12T07:06:25.953Z"
   },
   {
    "duration": 34,
    "start_time": "2023-10-12T07:06:25.978Z"
   },
   {
    "duration": 22,
    "start_time": "2023-10-12T07:06:26.014Z"
   },
   {
    "duration": 33,
    "start_time": "2023-10-12T07:06:26.037Z"
   },
   {
    "duration": 15,
    "start_time": "2023-10-12T07:06:26.072Z"
   },
   {
    "duration": 24,
    "start_time": "2023-10-12T07:06:26.089Z"
   },
   {
    "duration": 37,
    "start_time": "2023-10-12T07:06:26.115Z"
   },
   {
    "duration": 312,
    "start_time": "2023-10-12T07:06:26.153Z"
   },
   {
    "duration": 705,
    "start_time": "2023-10-12T07:10:08.624Z"
   },
   {
    "duration": 75,
    "start_time": "2023-10-12T07:10:09.332Z"
   },
   {
    "duration": 13,
    "start_time": "2023-10-12T07:10:09.408Z"
   },
   {
    "duration": 86,
    "start_time": "2023-10-12T07:10:09.423Z"
   },
   {
    "duration": 28,
    "start_time": "2023-10-12T07:10:09.511Z"
   },
   {
    "duration": 18,
    "start_time": "2023-10-12T07:10:09.541Z"
   },
   {
    "duration": 82,
    "start_time": "2023-10-12T07:10:09.560Z"
   },
   {
    "duration": 33,
    "start_time": "2023-10-12T07:10:09.643Z"
   },
   {
    "duration": 24,
    "start_time": "2023-10-12T07:10:09.678Z"
   },
   {
    "duration": 17,
    "start_time": "2023-10-12T07:10:09.704Z"
   },
   {
    "duration": 36,
    "start_time": "2023-10-12T07:10:09.722Z"
   },
   {
    "duration": 33,
    "start_time": "2023-10-12T07:10:09.759Z"
   },
   {
    "duration": 23,
    "start_time": "2023-10-12T07:10:09.793Z"
   },
   {
    "duration": 49,
    "start_time": "2023-10-12T07:10:09.819Z"
   },
   {
    "duration": 147,
    "start_time": "2023-10-12T07:10:09.869Z"
   },
   {
    "duration": 72,
    "start_time": "2023-10-12T07:13:06.825Z"
   },
   {
    "duration": 147,
    "start_time": "2023-10-12T07:13:16.373Z"
   },
   {
    "duration": 142,
    "start_time": "2023-10-12T07:14:14.571Z"
   },
   {
    "duration": 10,
    "start_time": "2023-10-12T07:14:47.133Z"
   },
   {
    "duration": 155,
    "start_time": "2023-10-12T07:15:00.714Z"
   },
   {
    "duration": 11,
    "start_time": "2023-10-12T07:15:14.679Z"
   },
   {
    "duration": 8,
    "start_time": "2023-10-12T07:15:20.052Z"
   },
   {
    "duration": 189,
    "start_time": "2023-10-12T07:15:24.215Z"
   },
   {
    "duration": 161,
    "start_time": "2023-10-12T07:15:28.827Z"
   },
   {
    "duration": 8,
    "start_time": "2023-10-12T07:16:48.367Z"
   },
   {
    "duration": 8,
    "start_time": "2023-10-12T07:17:07.304Z"
   },
   {
    "duration": 4,
    "start_time": "2023-10-12T07:17:11.170Z"
   },
   {
    "duration": 139,
    "start_time": "2023-10-12T07:17:23.141Z"
   },
   {
    "duration": 659,
    "start_time": "2023-10-12T07:18:16.565Z"
   },
   {
    "duration": 80,
    "start_time": "2023-10-12T07:18:17.226Z"
   },
   {
    "duration": 15,
    "start_time": "2023-10-12T07:18:17.308Z"
   },
   {
    "duration": 18,
    "start_time": "2023-10-12T07:18:17.325Z"
   },
   {
    "duration": 23,
    "start_time": "2023-10-12T07:18:17.344Z"
   },
   {
    "duration": 19,
    "start_time": "2023-10-12T07:18:17.369Z"
   },
   {
    "duration": 7,
    "start_time": "2023-10-12T07:18:17.390Z"
   },
   {
    "duration": 26,
    "start_time": "2023-10-12T07:18:17.399Z"
   },
   {
    "duration": 52,
    "start_time": "2023-10-12T07:18:17.427Z"
   },
   {
    "duration": 13,
    "start_time": "2023-10-12T07:18:17.482Z"
   },
   {
    "duration": 19,
    "start_time": "2023-10-12T07:18:17.497Z"
   },
   {
    "duration": 24,
    "start_time": "2023-10-12T07:18:17.518Z"
   },
   {
    "duration": 13,
    "start_time": "2023-10-12T07:18:17.544Z"
   },
   {
    "duration": 38,
    "start_time": "2023-10-12T07:18:17.559Z"
   },
   {
    "duration": 172,
    "start_time": "2023-10-12T07:18:17.599Z"
   },
   {
    "duration": 97,
    "start_time": "2023-10-12T07:19:34.613Z"
   },
   {
    "duration": 93,
    "start_time": "2023-10-12T07:19:42.594Z"
   },
   {
    "duration": 116,
    "start_time": "2023-10-12T07:19:45.618Z"
   },
   {
    "duration": 140,
    "start_time": "2023-10-12T07:19:48.620Z"
   },
   {
    "duration": 94,
    "start_time": "2023-10-12T07:19:52.968Z"
   },
   {
    "duration": 148,
    "start_time": "2023-10-12T07:22:39.916Z"
   },
   {
    "duration": 152,
    "start_time": "2023-10-12T07:22:49.408Z"
   },
   {
    "duration": 72,
    "start_time": "2023-10-12T07:23:10.817Z"
   },
   {
    "duration": 158,
    "start_time": "2023-10-12T07:23:27.308Z"
   },
   {
    "duration": 163,
    "start_time": "2023-10-12T07:29:43.657Z"
   },
   {
    "duration": 620,
    "start_time": "2023-10-12T07:30:59.567Z"
   },
   {
    "duration": 70,
    "start_time": "2023-10-12T07:31:00.189Z"
   },
   {
    "duration": 18,
    "start_time": "2023-10-12T07:31:00.261Z"
   },
   {
    "duration": 62,
    "start_time": "2023-10-12T07:31:00.281Z"
   },
   {
    "duration": 133,
    "start_time": "2023-10-12T07:31:00.345Z"
   },
   {
    "duration": 39,
    "start_time": "2023-10-12T07:31:00.480Z"
   },
   {
    "duration": 39,
    "start_time": "2023-10-12T07:31:00.521Z"
   },
   {
    "duration": 51,
    "start_time": "2023-10-12T07:31:00.562Z"
   },
   {
    "duration": 46,
    "start_time": "2023-10-12T07:31:00.615Z"
   },
   {
    "duration": 47,
    "start_time": "2023-10-12T07:31:00.663Z"
   },
   {
    "duration": 48,
    "start_time": "2023-10-12T07:31:00.712Z"
   },
   {
    "duration": 53,
    "start_time": "2023-10-12T07:31:00.761Z"
   },
   {
    "duration": 44,
    "start_time": "2023-10-12T07:31:00.816Z"
   },
   {
    "duration": 52,
    "start_time": "2023-10-12T07:31:00.862Z"
   },
   {
    "duration": 161,
    "start_time": "2023-10-12T07:31:00.916Z"
   },
   {
    "duration": 103,
    "start_time": "2023-10-12T07:31:01.078Z"
   },
   {
    "duration": 178,
    "start_time": "2023-10-12T07:31:01.182Z"
   },
   {
    "duration": 179,
    "start_time": "2023-10-12T07:31:01.361Z"
   },
   {
    "duration": 120,
    "start_time": "2023-10-12T07:32:59.127Z"
   },
   {
    "duration": 599,
    "start_time": "2023-10-12T07:33:24.100Z"
   },
   {
    "duration": 69,
    "start_time": "2023-10-12T07:33:24.701Z"
   },
   {
    "duration": 12,
    "start_time": "2023-10-12T07:33:24.771Z"
   },
   {
    "duration": 27,
    "start_time": "2023-10-12T07:33:24.785Z"
   },
   {
    "duration": 15,
    "start_time": "2023-10-12T07:33:24.813Z"
   },
   {
    "duration": 8,
    "start_time": "2023-10-12T07:33:24.829Z"
   },
   {
    "duration": 26,
    "start_time": "2023-10-12T07:33:24.838Z"
   },
   {
    "duration": 16,
    "start_time": "2023-10-12T07:33:24.865Z"
   },
   {
    "duration": 26,
    "start_time": "2023-10-12T07:33:24.882Z"
   },
   {
    "duration": 33,
    "start_time": "2023-10-12T07:33:24.909Z"
   },
   {
    "duration": 12,
    "start_time": "2023-10-12T07:33:24.944Z"
   },
   {
    "duration": 5,
    "start_time": "2023-10-12T07:33:24.957Z"
   },
   {
    "duration": 16,
    "start_time": "2023-10-12T07:33:24.963Z"
   },
   {
    "duration": 21,
    "start_time": "2023-10-12T07:33:24.981Z"
   },
   {
    "duration": 163,
    "start_time": "2023-10-12T07:33:25.003Z"
   },
   {
    "duration": 107,
    "start_time": "2023-10-12T07:33:25.168Z"
   },
   {
    "duration": 175,
    "start_time": "2023-10-12T07:33:25.276Z"
   },
   {
    "duration": 184,
    "start_time": "2023-10-12T07:33:25.452Z"
   },
   {
    "duration": 220,
    "start_time": "2023-10-12T07:38:41.030Z"
   },
   {
    "duration": 12,
    "start_time": "2023-10-12T07:41:40.748Z"
   },
   {
    "duration": 15,
    "start_time": "2023-10-12T07:42:25.866Z"
   },
   {
    "duration": 14,
    "start_time": "2023-10-12T07:42:48.547Z"
   },
   {
    "duration": 15,
    "start_time": "2023-10-12T07:45:07.164Z"
   },
   {
    "duration": 593,
    "start_time": "2023-10-12T08:00:35.152Z"
   },
   {
    "duration": 450,
    "start_time": "2023-10-12T08:01:32.410Z"
   },
   {
    "duration": 115,
    "start_time": "2023-10-12T08:01:46.898Z"
   },
   {
    "duration": 161,
    "start_time": "2023-10-12T08:04:05.161Z"
   },
   {
    "duration": 4,
    "start_time": "2023-10-12T08:05:23.560Z"
   },
   {
    "duration": 16,
    "start_time": "2023-10-12T08:05:53.392Z"
   },
   {
    "duration": 603,
    "start_time": "2023-10-12T08:09:57.388Z"
   },
   {
    "duration": 73,
    "start_time": "2023-10-12T08:09:57.993Z"
   },
   {
    "duration": 12,
    "start_time": "2023-10-12T08:09:58.068Z"
   },
   {
    "duration": 38,
    "start_time": "2023-10-12T08:09:58.081Z"
   },
   {
    "duration": 43,
    "start_time": "2023-10-12T08:09:58.121Z"
   },
   {
    "duration": 23,
    "start_time": "2023-10-12T08:09:58.166Z"
   },
   {
    "duration": 18,
    "start_time": "2023-10-12T08:09:58.191Z"
   },
   {
    "duration": 27,
    "start_time": "2023-10-12T08:09:58.211Z"
   },
   {
    "duration": 14,
    "start_time": "2023-10-12T08:09:58.240Z"
   },
   {
    "duration": 9,
    "start_time": "2023-10-12T08:09:58.256Z"
   },
   {
    "duration": 10,
    "start_time": "2023-10-12T08:09:58.266Z"
   },
   {
    "duration": 7,
    "start_time": "2023-10-12T08:09:58.278Z"
   },
   {
    "duration": 27,
    "start_time": "2023-10-12T08:09:58.286Z"
   },
   {
    "duration": 24,
    "start_time": "2023-10-12T08:09:58.315Z"
   },
   {
    "duration": 19,
    "start_time": "2023-10-12T08:09:58.340Z"
   },
   {
    "duration": 17,
    "start_time": "2023-10-12T08:09:58.361Z"
   },
   {
    "duration": 142,
    "start_time": "2023-10-12T08:09:58.380Z"
   },
   {
    "duration": 16,
    "start_time": "2023-10-12T08:09:58.524Z"
   },
   {
    "duration": 181,
    "start_time": "2023-10-12T08:09:58.549Z"
   },
   {
    "duration": 120,
    "start_time": "2023-10-12T08:09:58.731Z"
   },
   {
    "duration": 191,
    "start_time": "2023-10-12T08:09:58.853Z"
   },
   {
    "duration": 248,
    "start_time": "2023-10-12T08:09:59.046Z"
   },
   {
    "duration": 182,
    "start_time": "2023-10-12T08:09:59.295Z"
   },
   {
    "duration": 43,
    "start_time": "2023-10-12T08:21:30.676Z"
   },
   {
    "duration": 24,
    "start_time": "2023-10-12T08:21:40.918Z"
   },
   {
    "duration": 18,
    "start_time": "2023-10-12T08:27:39.501Z"
   },
   {
    "duration": 19,
    "start_time": "2023-10-12T08:27:53.893Z"
   },
   {
    "duration": 17,
    "start_time": "2023-10-12T08:28:30.076Z"
   },
   {
    "duration": 676,
    "start_time": "2023-10-12T08:31:43.559Z"
   },
   {
    "duration": 68,
    "start_time": "2023-10-12T08:31:44.238Z"
   },
   {
    "duration": 11,
    "start_time": "2023-10-12T08:31:44.308Z"
   },
   {
    "duration": 33,
    "start_time": "2023-10-12T08:31:44.321Z"
   },
   {
    "duration": 26,
    "start_time": "2023-10-12T08:31:44.356Z"
   },
   {
    "duration": 11,
    "start_time": "2023-10-12T08:31:44.384Z"
   },
   {
    "duration": 8,
    "start_time": "2023-10-12T08:31:44.396Z"
   },
   {
    "duration": 11,
    "start_time": "2023-10-12T08:31:44.406Z"
   },
   {
    "duration": 72,
    "start_time": "2023-10-12T08:31:44.419Z"
   },
   {
    "duration": 37,
    "start_time": "2023-10-12T08:31:44.493Z"
   },
   {
    "duration": 36,
    "start_time": "2023-10-12T08:31:44.532Z"
   },
   {
    "duration": 7,
    "start_time": "2023-10-12T08:31:44.569Z"
   },
   {
    "duration": 28,
    "start_time": "2023-10-12T08:31:44.578Z"
   },
   {
    "duration": 32,
    "start_time": "2023-10-12T08:31:44.608Z"
   },
   {
    "duration": 29,
    "start_time": "2023-10-12T08:31:44.642Z"
   },
   {
    "duration": 15,
    "start_time": "2023-10-12T08:31:44.672Z"
   },
   {
    "duration": 133,
    "start_time": "2023-10-12T08:31:44.689Z"
   },
   {
    "duration": 15,
    "start_time": "2023-10-12T08:31:44.824Z"
   },
   {
    "duration": 156,
    "start_time": "2023-10-12T08:31:44.841Z"
   },
   {
    "duration": 115,
    "start_time": "2023-10-12T08:31:44.999Z"
   },
   {
    "duration": 189,
    "start_time": "2023-10-12T08:31:45.116Z"
   },
   {
    "duration": 237,
    "start_time": "2023-10-12T08:31:45.306Z"
   },
   {
    "duration": 184,
    "start_time": "2023-10-12T08:31:45.545Z"
   },
   {
    "duration": 25,
    "start_time": "2023-10-12T08:31:45.730Z"
   },
   {
    "duration": 15,
    "start_time": "2023-10-12T08:31:45.757Z"
   },
   {
    "duration": 37,
    "start_time": "2023-10-12T08:31:45.774Z"
   },
   {
    "duration": 50,
    "start_time": "2023-10-12T11:32:41.754Z"
   },
   {
    "duration": 831,
    "start_time": "2023-10-12T11:32:46.908Z"
   },
   {
    "duration": 328,
    "start_time": "2023-10-12T11:32:47.742Z"
   },
   {
    "duration": 16,
    "start_time": "2023-10-12T11:32:48.072Z"
   },
   {
    "duration": 19,
    "start_time": "2023-10-12T11:32:48.090Z"
   },
   {
    "duration": 26,
    "start_time": "2023-10-12T11:32:48.110Z"
   },
   {
    "duration": 74,
    "start_time": "2023-10-12T11:32:48.138Z"
   },
   {
    "duration": 22,
    "start_time": "2023-10-12T11:32:48.214Z"
   },
   {
    "duration": 37,
    "start_time": "2023-10-12T11:32:48.238Z"
   },
   {
    "duration": 59,
    "start_time": "2023-10-12T11:32:48.277Z"
   },
   {
    "duration": 17,
    "start_time": "2023-10-12T11:32:48.338Z"
   },
   {
    "duration": 43,
    "start_time": "2023-10-12T11:32:48.357Z"
   },
   {
    "duration": 39,
    "start_time": "2023-10-12T11:32:48.402Z"
   },
   {
    "duration": 35,
    "start_time": "2023-10-12T11:32:48.443Z"
   },
   {
    "duration": 45,
    "start_time": "2023-10-12T11:32:48.480Z"
   },
   {
    "duration": 19,
    "start_time": "2023-10-12T11:32:48.526Z"
   },
   {
    "duration": 27,
    "start_time": "2023-10-12T11:32:48.547Z"
   },
   {
    "duration": 147,
    "start_time": "2023-10-12T11:32:48.575Z"
   },
   {
    "duration": 19,
    "start_time": "2023-10-12T11:32:48.724Z"
   },
   {
    "duration": 189,
    "start_time": "2023-10-12T11:32:48.744Z"
   },
   {
    "duration": 172,
    "start_time": "2023-10-12T11:32:48.935Z"
   },
   {
    "duration": 214,
    "start_time": "2023-10-12T11:32:49.109Z"
   },
   {
    "duration": 271,
    "start_time": "2023-10-12T11:32:49.325Z"
   },
   {
    "duration": 206,
    "start_time": "2023-10-12T11:32:49.598Z"
   },
   {
    "duration": 33,
    "start_time": "2023-10-12T11:32:49.806Z"
   },
   {
    "duration": 33,
    "start_time": "2023-10-12T11:32:49.840Z"
   },
   {
    "duration": 21,
    "start_time": "2023-10-12T11:32:49.875Z"
   },
   {
    "duration": 172,
    "start_time": "2023-10-12T11:32:49.899Z"
   },
   {
    "duration": 271,
    "start_time": "2023-10-12T11:33:38.864Z"
   },
   {
    "duration": 159,
    "start_time": "2023-10-12T11:33:55.124Z"
   },
   {
    "duration": 166,
    "start_time": "2023-10-12T11:33:57.758Z"
   },
   {
    "duration": 171,
    "start_time": "2023-10-12T11:34:44.089Z"
   },
   {
    "duration": 177,
    "start_time": "2023-10-12T11:34:59.473Z"
   },
   {
    "duration": 207,
    "start_time": "2023-10-12T11:35:56.995Z"
   },
   {
    "duration": 365,
    "start_time": "2023-10-12T11:36:00.968Z"
   },
   {
    "duration": 272,
    "start_time": "2023-10-12T11:36:11.953Z"
   },
   {
    "duration": 283,
    "start_time": "2023-10-12T11:37:24.506Z"
   },
   {
    "duration": 255,
    "start_time": "2023-10-12T11:37:29.730Z"
   },
   {
    "duration": 706,
    "start_time": "2023-10-12T11:39:35.498Z"
   },
   {
    "duration": 72,
    "start_time": "2023-10-12T11:39:36.207Z"
   },
   {
    "duration": 15,
    "start_time": "2023-10-12T11:39:36.282Z"
   },
   {
    "duration": 109,
    "start_time": "2023-10-12T11:39:36.299Z"
   },
   {
    "duration": 38,
    "start_time": "2023-10-12T11:39:36.410Z"
   },
   {
    "duration": 32,
    "start_time": "2023-10-12T11:39:36.450Z"
   },
   {
    "duration": 27,
    "start_time": "2023-10-12T11:39:36.484Z"
   },
   {
    "duration": 59,
    "start_time": "2023-10-12T11:39:36.512Z"
   },
   {
    "duration": 45,
    "start_time": "2023-10-12T11:39:36.573Z"
   },
   {
    "duration": 22,
    "start_time": "2023-10-12T11:39:36.621Z"
   },
   {
    "duration": 20,
    "start_time": "2023-10-12T11:39:36.645Z"
   },
   {
    "duration": 21,
    "start_time": "2023-10-12T11:39:36.667Z"
   },
   {
    "duration": 37,
    "start_time": "2023-10-12T11:39:36.690Z"
   },
   {
    "duration": 50,
    "start_time": "2023-10-12T11:39:36.729Z"
   },
   {
    "duration": 14,
    "start_time": "2023-10-12T11:39:36.781Z"
   },
   {
    "duration": 45,
    "start_time": "2023-10-12T11:39:36.797Z"
   },
   {
    "duration": 201,
    "start_time": "2023-10-12T11:39:36.844Z"
   },
   {
    "duration": 27,
    "start_time": "2023-10-12T11:39:37.047Z"
   },
   {
    "duration": 185,
    "start_time": "2023-10-12T11:39:37.076Z"
   },
   {
    "duration": 134,
    "start_time": "2023-10-12T11:39:37.263Z"
   },
   {
    "duration": 204,
    "start_time": "2023-10-12T11:39:37.399Z"
   },
   {
    "duration": 280,
    "start_time": "2023-10-12T11:39:37.605Z"
   },
   {
    "duration": 249,
    "start_time": "2023-10-12T11:39:37.888Z"
   },
   {
    "duration": 38,
    "start_time": "2023-10-12T11:39:38.139Z"
   },
   {
    "duration": 28,
    "start_time": "2023-10-12T11:39:38.179Z"
   },
   {
    "duration": 42,
    "start_time": "2023-10-12T11:39:38.209Z"
   },
   {
    "duration": 309,
    "start_time": "2023-10-12T11:39:38.253Z"
   },
   {
    "duration": 301,
    "start_time": "2023-10-12T11:39:38.566Z"
   },
   {
    "duration": 333,
    "start_time": "2023-10-12T11:39:38.870Z"
   },
   {
    "duration": 261,
    "start_time": "2023-10-12T11:39:39.205Z"
   },
   {
    "duration": 108,
    "start_time": "2023-10-12T11:48:56.888Z"
   },
   {
    "duration": 14,
    "start_time": "2023-10-12T11:49:14.719Z"
   },
   {
    "duration": 102,
    "start_time": "2023-10-12T11:49:44.004Z"
   },
   {
    "duration": 151,
    "start_time": "2023-10-12T11:50:13.459Z"
   },
   {
    "duration": 132,
    "start_time": "2023-10-12T11:50:18.375Z"
   },
   {
    "duration": 21,
    "start_time": "2023-10-12T11:50:24.036Z"
   },
   {
    "duration": 738,
    "start_time": "2023-10-12T11:52:55.237Z"
   },
   {
    "duration": 73,
    "start_time": "2023-10-12T11:52:55.978Z"
   },
   {
    "duration": 15,
    "start_time": "2023-10-12T11:52:56.053Z"
   },
   {
    "duration": 45,
    "start_time": "2023-10-12T11:52:56.071Z"
   },
   {
    "duration": 13,
    "start_time": "2023-10-12T11:52:56.118Z"
   },
   {
    "duration": 22,
    "start_time": "2023-10-12T11:52:56.133Z"
   },
   {
    "duration": 37,
    "start_time": "2023-10-12T11:52:56.157Z"
   },
   {
    "duration": 34,
    "start_time": "2023-10-12T11:52:56.196Z"
   },
   {
    "duration": 48,
    "start_time": "2023-10-12T11:52:56.232Z"
   },
   {
    "duration": 23,
    "start_time": "2023-10-12T11:52:56.282Z"
   },
   {
    "duration": 13,
    "start_time": "2023-10-12T11:52:56.308Z"
   },
   {
    "duration": 13,
    "start_time": "2023-10-12T11:52:56.323Z"
   },
   {
    "duration": 18,
    "start_time": "2023-10-12T11:52:56.338Z"
   },
   {
    "duration": 36,
    "start_time": "2023-10-12T11:52:56.359Z"
   },
   {
    "duration": 14,
    "start_time": "2023-10-12T11:52:56.397Z"
   },
   {
    "duration": 121,
    "start_time": "2023-10-12T11:52:56.413Z"
   },
   {
    "duration": 183,
    "start_time": "2023-10-12T11:52:56.536Z"
   },
   {
    "duration": 18,
    "start_time": "2023-10-12T11:52:56.721Z"
   },
   {
    "duration": 178,
    "start_time": "2023-10-12T11:52:56.756Z"
   },
   {
    "duration": 174,
    "start_time": "2023-10-12T11:52:56.936Z"
   },
   {
    "duration": 206,
    "start_time": "2023-10-12T11:52:57.112Z"
   },
   {
    "duration": 281,
    "start_time": "2023-10-12T11:52:57.320Z"
   },
   {
    "duration": 200,
    "start_time": "2023-10-12T11:52:57.603Z"
   },
   {
    "duration": 29,
    "start_time": "2023-10-12T11:52:57.805Z"
   },
   {
    "duration": 35,
    "start_time": "2023-10-12T11:52:57.837Z"
   },
   {
    "duration": 70,
    "start_time": "2023-10-12T11:52:57.874Z"
   },
   {
    "duration": 291,
    "start_time": "2023-10-12T11:52:57.947Z"
   },
   {
    "duration": 282,
    "start_time": "2023-10-12T11:52:58.240Z"
   },
   {
    "duration": 299,
    "start_time": "2023-10-12T11:52:58.524Z"
   },
   {
    "duration": 351,
    "start_time": "2023-10-12T11:52:58.826Z"
   },
   {
    "duration": 26,
    "start_time": "2023-10-12T11:52:59.179Z"
   },
   {
    "duration": 23,
    "start_time": "2023-10-12T11:55:32.224Z"
   },
   {
    "duration": 29,
    "start_time": "2023-10-12T11:57:37.162Z"
   },
   {
    "duration": 27,
    "start_time": "2023-10-12T11:59:05.497Z"
   },
   {
    "duration": 27,
    "start_time": "2023-10-12T12:00:16.415Z"
   },
   {
    "duration": 787,
    "start_time": "2023-10-12T12:01:01.013Z"
   },
   {
    "duration": 72,
    "start_time": "2023-10-12T12:01:01.803Z"
   },
   {
    "duration": 69,
    "start_time": "2023-10-12T12:01:01.877Z"
   },
   {
    "duration": 103,
    "start_time": "2023-10-12T12:01:01.949Z"
   },
   {
    "duration": 56,
    "start_time": "2023-10-12T12:01:02.054Z"
   },
   {
    "duration": 71,
    "start_time": "2023-10-12T12:01:02.112Z"
   },
   {
    "duration": 45,
    "start_time": "2023-10-12T12:01:02.185Z"
   },
   {
    "duration": 58,
    "start_time": "2023-10-12T12:01:02.231Z"
   },
   {
    "duration": 74,
    "start_time": "2023-10-12T12:01:02.291Z"
   },
   {
    "duration": 34,
    "start_time": "2023-10-12T12:01:02.368Z"
   },
   {
    "duration": 38,
    "start_time": "2023-10-12T12:01:02.404Z"
   },
   {
    "duration": 25,
    "start_time": "2023-10-12T12:01:02.445Z"
   },
   {
    "duration": 43,
    "start_time": "2023-10-12T12:01:02.472Z"
   },
   {
    "duration": 36,
    "start_time": "2023-10-12T12:01:02.518Z"
   },
   {
    "duration": 17,
    "start_time": "2023-10-12T12:01:02.556Z"
   },
   {
    "duration": 62,
    "start_time": "2023-10-12T12:01:02.575Z"
   },
   {
    "duration": 158,
    "start_time": "2023-10-12T12:01:02.639Z"
   },
   {
    "duration": 19,
    "start_time": "2023-10-12T12:01:02.798Z"
   },
   {
    "duration": 249,
    "start_time": "2023-10-12T12:01:02.819Z"
   },
   {
    "duration": 129,
    "start_time": "2023-10-12T12:01:03.070Z"
   },
   {
    "duration": 214,
    "start_time": "2023-10-12T12:01:03.201Z"
   },
   {
    "duration": 290,
    "start_time": "2023-10-12T12:01:03.417Z"
   },
   {
    "duration": 209,
    "start_time": "2023-10-12T12:01:03.709Z"
   },
   {
    "duration": 28,
    "start_time": "2023-10-12T12:01:03.919Z"
   },
   {
    "duration": 152,
    "start_time": "2023-10-12T12:01:03.957Z"
   },
   {
    "duration": 15,
    "start_time": "2023-10-12T12:01:04.110Z"
   },
   {
    "duration": 283,
    "start_time": "2023-10-12T12:01:04.127Z"
   },
   {
    "duration": 267,
    "start_time": "2023-10-12T12:01:04.411Z"
   },
   {
    "duration": 278,
    "start_time": "2023-10-12T12:01:04.680Z"
   },
   {
    "duration": 255,
    "start_time": "2023-10-12T12:01:04.960Z"
   },
   {
    "duration": 102,
    "start_time": "2023-10-12T12:01:05.217Z"
   },
   {
    "duration": 30,
    "start_time": "2023-10-12T12:01:13.425Z"
   },
   {
    "duration": 4,
    "start_time": "2023-10-12T12:03:59.381Z"
   },
   {
    "duration": 5,
    "start_time": "2023-10-12T12:04:24.500Z"
   },
   {
    "duration": 760,
    "start_time": "2023-10-12T12:04:30.105Z"
   },
   {
    "duration": 74,
    "start_time": "2023-10-12T12:04:30.868Z"
   },
   {
    "duration": 150,
    "start_time": "2023-10-12T12:04:30.945Z"
   },
   {
    "duration": 80,
    "start_time": "2023-10-12T12:04:31.098Z"
   },
   {
    "duration": 43,
    "start_time": "2023-10-12T12:04:31.180Z"
   },
   {
    "duration": 69,
    "start_time": "2023-10-12T12:04:31.225Z"
   },
   {
    "duration": 48,
    "start_time": "2023-10-12T12:04:31.296Z"
   },
   {
    "duration": 68,
    "start_time": "2023-10-12T12:04:31.346Z"
   },
   {
    "duration": 61,
    "start_time": "2023-10-12T12:04:31.416Z"
   },
   {
    "duration": 86,
    "start_time": "2023-10-12T12:04:31.480Z"
   },
   {
    "duration": 59,
    "start_time": "2023-10-12T12:04:31.568Z"
   },
   {
    "duration": 43,
    "start_time": "2023-10-12T12:04:31.629Z"
   },
   {
    "duration": 68,
    "start_time": "2023-10-12T12:04:31.674Z"
   },
   {
    "duration": 200,
    "start_time": "2023-10-12T12:04:31.744Z"
   },
   {
    "duration": 62,
    "start_time": "2023-10-12T12:04:31.946Z"
   },
   {
    "duration": 93,
    "start_time": "2023-10-12T12:04:32.010Z"
   },
   {
    "duration": 175,
    "start_time": "2023-10-12T12:04:32.105Z"
   },
   {
    "duration": 19,
    "start_time": "2023-10-12T12:04:32.281Z"
   },
   {
    "duration": 220,
    "start_time": "2023-10-12T12:04:32.303Z"
   },
   {
    "duration": 135,
    "start_time": "2023-10-12T12:04:32.525Z"
   },
   {
    "duration": 216,
    "start_time": "2023-10-12T12:04:32.662Z"
   },
   {
    "duration": 284,
    "start_time": "2023-10-12T12:04:32.880Z"
   },
   {
    "duration": 200,
    "start_time": "2023-10-12T12:04:33.167Z"
   },
   {
    "duration": 29,
    "start_time": "2023-10-12T12:04:33.369Z"
   },
   {
    "duration": 29,
    "start_time": "2023-10-12T12:04:33.401Z"
   },
   {
    "duration": 38,
    "start_time": "2023-10-12T12:04:33.432Z"
   },
   {
    "duration": 276,
    "start_time": "2023-10-12T12:04:33.473Z"
   },
   {
    "duration": 275,
    "start_time": "2023-10-12T12:04:33.758Z"
   },
   {
    "duration": 288,
    "start_time": "2023-10-12T12:04:34.036Z"
   },
   {
    "duration": 269,
    "start_time": "2023-10-12T12:04:34.326Z"
   },
   {
    "duration": 31,
    "start_time": "2023-10-12T12:04:34.597Z"
   },
   {
    "duration": 4,
    "start_time": "2023-10-12T12:04:34.629Z"
   },
   {
    "duration": 27,
    "start_time": "2023-10-12T12:10:08.493Z"
   },
   {
    "duration": 29,
    "start_time": "2023-10-12T12:11:07.538Z"
   },
   {
    "duration": 6,
    "start_time": "2023-10-12T12:12:13.100Z"
   },
   {
    "duration": 157,
    "start_time": "2023-10-12T12:15:02.964Z"
   },
   {
    "duration": 91,
    "start_time": "2023-10-12T12:15:08.515Z"
   },
   {
    "duration": 20,
    "start_time": "2023-10-12T12:15:43.609Z"
   },
   {
    "duration": 30,
    "start_time": "2023-10-12T12:15:53.265Z"
   },
   {
    "duration": 32,
    "start_time": "2023-10-12T12:16:01.278Z"
   },
   {
    "duration": 736,
    "start_time": "2023-10-12T12:47:54.752Z"
   },
   {
    "duration": 77,
    "start_time": "2023-10-12T12:47:55.490Z"
   },
   {
    "duration": 15,
    "start_time": "2023-10-12T12:47:55.569Z"
   },
   {
    "duration": 28,
    "start_time": "2023-10-12T12:47:55.586Z"
   },
   {
    "duration": 14,
    "start_time": "2023-10-12T12:47:55.616Z"
   },
   {
    "duration": 34,
    "start_time": "2023-10-12T12:47:55.632Z"
   },
   {
    "duration": 24,
    "start_time": "2023-10-12T12:47:55.668Z"
   },
   {
    "duration": 24,
    "start_time": "2023-10-12T12:47:55.694Z"
   },
   {
    "duration": 53,
    "start_time": "2023-10-12T12:47:55.720Z"
   },
   {
    "duration": 36,
    "start_time": "2023-10-12T12:47:55.775Z"
   },
   {
    "duration": 13,
    "start_time": "2023-10-12T12:47:55.813Z"
   },
   {
    "duration": 29,
    "start_time": "2023-10-12T12:47:55.827Z"
   },
   {
    "duration": 21,
    "start_time": "2023-10-12T12:47:55.858Z"
   },
   {
    "duration": 26,
    "start_time": "2023-10-12T12:47:55.882Z"
   },
   {
    "duration": 15,
    "start_time": "2023-10-12T12:47:55.910Z"
   },
   {
    "duration": 39,
    "start_time": "2023-10-12T12:47:55.928Z"
   },
   {
    "duration": 162,
    "start_time": "2023-10-12T12:47:55.970Z"
   },
   {
    "duration": 35,
    "start_time": "2023-10-12T12:47:56.135Z"
   },
   {
    "duration": 189,
    "start_time": "2023-10-12T12:47:56.172Z"
   },
   {
    "duration": 141,
    "start_time": "2023-10-12T12:47:56.363Z"
   },
   {
    "duration": 219,
    "start_time": "2023-10-12T12:47:56.506Z"
   },
   {
    "duration": 304,
    "start_time": "2023-10-12T12:47:56.726Z"
   },
   {
    "duration": 196,
    "start_time": "2023-10-12T12:47:57.032Z"
   },
   {
    "duration": 36,
    "start_time": "2023-10-12T12:47:57.230Z"
   },
   {
    "duration": 51,
    "start_time": "2023-10-12T12:47:57.268Z"
   },
   {
    "duration": 33,
    "start_time": "2023-10-12T12:47:57.321Z"
   },
   {
    "duration": 283,
    "start_time": "2023-10-12T12:47:57.356Z"
   },
   {
    "duration": 273,
    "start_time": "2023-10-12T12:47:57.641Z"
   },
   {
    "duration": 315,
    "start_time": "2023-10-12T12:47:57.916Z"
   },
   {
    "duration": 271,
    "start_time": "2023-10-12T12:47:58.234Z"
   },
   {
    "duration": 27,
    "start_time": "2023-10-12T12:47:58.507Z"
   },
   {
    "duration": 45,
    "start_time": "2023-10-12T12:47:58.536Z"
   },
   {
    "duration": 87,
    "start_time": "2023-10-12T12:47:58.583Z"
   },
   {
    "duration": 0,
    "start_time": "2023-10-12T12:47:58.672Z"
   },
   {
    "duration": 6,
    "start_time": "2023-10-12T12:48:22.807Z"
   },
   {
    "duration": 44,
    "start_time": "2023-10-12T13:01:08.040Z"
   },
   {
    "duration": 5,
    "start_time": "2023-10-12T13:01:33.812Z"
   },
   {
    "duration": 732,
    "start_time": "2023-10-12T13:01:46.857Z"
   },
   {
    "duration": 75,
    "start_time": "2023-10-12T13:01:47.592Z"
   },
   {
    "duration": 14,
    "start_time": "2023-10-12T13:01:47.669Z"
   },
   {
    "duration": 50,
    "start_time": "2023-10-12T13:01:47.685Z"
   },
   {
    "duration": 61,
    "start_time": "2023-10-12T13:01:47.737Z"
   },
   {
    "duration": 18,
    "start_time": "2023-10-12T13:01:47.800Z"
   },
   {
    "duration": 56,
    "start_time": "2023-10-12T13:01:47.820Z"
   },
   {
    "duration": 38,
    "start_time": "2023-10-12T13:01:47.878Z"
   },
   {
    "duration": 47,
    "start_time": "2023-10-12T13:01:47.918Z"
   },
   {
    "duration": 38,
    "start_time": "2023-10-12T13:01:47.968Z"
   },
   {
    "duration": 28,
    "start_time": "2023-10-12T13:01:48.008Z"
   },
   {
    "duration": 22,
    "start_time": "2023-10-12T13:01:48.038Z"
   },
   {
    "duration": 45,
    "start_time": "2023-10-12T13:01:48.062Z"
   },
   {
    "duration": 65,
    "start_time": "2023-10-12T13:01:48.108Z"
   },
   {
    "duration": 43,
    "start_time": "2023-10-12T13:01:48.175Z"
   },
   {
    "duration": 37,
    "start_time": "2023-10-12T13:01:48.220Z"
   },
   {
    "duration": 167,
    "start_time": "2023-10-12T13:01:48.259Z"
   },
   {
    "duration": 29,
    "start_time": "2023-10-12T13:01:48.428Z"
   },
   {
    "duration": 175,
    "start_time": "2023-10-12T13:01:48.459Z"
   },
   {
    "duration": 139,
    "start_time": "2023-10-12T13:01:48.636Z"
   },
   {
    "duration": 230,
    "start_time": "2023-10-12T13:01:48.777Z"
   },
   {
    "duration": 353,
    "start_time": "2023-10-12T13:01:49.010Z"
   },
   {
    "duration": 206,
    "start_time": "2023-10-12T13:01:49.365Z"
   },
   {
    "duration": 29,
    "start_time": "2023-10-12T13:01:49.572Z"
   },
   {
    "duration": 19,
    "start_time": "2023-10-12T13:01:49.603Z"
   },
   {
    "duration": 40,
    "start_time": "2023-10-12T13:01:49.624Z"
   },
   {
    "duration": 286,
    "start_time": "2023-10-12T13:01:49.666Z"
   },
   {
    "duration": 276,
    "start_time": "2023-10-12T13:01:49.958Z"
   },
   {
    "duration": 292,
    "start_time": "2023-10-12T13:01:50.236Z"
   },
   {
    "duration": 273,
    "start_time": "2023-10-12T13:01:50.530Z"
   },
   {
    "duration": 31,
    "start_time": "2023-10-12T13:01:50.805Z"
   },
   {
    "duration": 19,
    "start_time": "2023-10-12T13:01:50.838Z"
   },
   {
    "duration": 122,
    "start_time": "2023-10-12T13:01:50.860Z"
   },
   {
    "duration": 26,
    "start_time": "2023-10-12T13:06:16.866Z"
   },
   {
    "duration": 30,
    "start_time": "2023-10-12T13:06:24.817Z"
   },
   {
    "duration": 875,
    "start_time": "2023-10-13T08:43:59.986Z"
   },
   {
    "duration": 397,
    "start_time": "2023-10-13T08:44:00.863Z"
   },
   {
    "duration": 15,
    "start_time": "2023-10-13T08:44:01.262Z"
   },
   {
    "duration": 76,
    "start_time": "2023-10-13T08:44:01.279Z"
   },
   {
    "duration": 141,
    "start_time": "2023-10-13T08:44:01.358Z"
   },
   {
    "duration": 83,
    "start_time": "2023-10-13T08:44:01.501Z"
   },
   {
    "duration": 110,
    "start_time": "2023-10-13T08:44:01.585Z"
   },
   {
    "duration": 140,
    "start_time": "2023-10-13T08:44:01.697Z"
   },
   {
    "duration": 180,
    "start_time": "2023-10-13T08:44:01.839Z"
   },
   {
    "duration": 81,
    "start_time": "2023-10-13T08:44:02.021Z"
   },
   {
    "duration": 78,
    "start_time": "2023-10-13T08:44:02.104Z"
   },
   {
    "duration": 95,
    "start_time": "2023-10-13T08:44:02.184Z"
   },
   {
    "duration": 85,
    "start_time": "2023-10-13T08:44:02.281Z"
   },
   {
    "duration": 132,
    "start_time": "2023-10-13T08:44:02.370Z"
   },
   {
    "duration": 145,
    "start_time": "2023-10-13T08:44:02.504Z"
   },
   {
    "duration": 57,
    "start_time": "2023-10-13T08:44:02.651Z"
   },
   {
    "duration": 161,
    "start_time": "2023-10-13T08:44:02.710Z"
   },
   {
    "duration": 24,
    "start_time": "2023-10-13T08:44:02.872Z"
   },
   {
    "duration": 203,
    "start_time": "2023-10-13T08:44:02.898Z"
   },
   {
    "duration": 119,
    "start_time": "2023-10-13T08:44:03.103Z"
   },
   {
    "duration": 188,
    "start_time": "2023-10-13T08:44:03.224Z"
   },
   {
    "duration": 248,
    "start_time": "2023-10-13T08:44:03.416Z"
   },
   {
    "duration": 214,
    "start_time": "2023-10-13T08:44:03.666Z"
   },
   {
    "duration": 34,
    "start_time": "2023-10-13T08:44:03.882Z"
   },
   {
    "duration": 64,
    "start_time": "2023-10-13T08:44:03.918Z"
   },
   {
    "duration": 76,
    "start_time": "2023-10-13T08:44:03.984Z"
   },
   {
    "duration": 351,
    "start_time": "2023-10-13T08:44:04.062Z"
   },
   {
    "duration": 282,
    "start_time": "2023-10-13T08:44:04.414Z"
   },
   {
    "duration": 265,
    "start_time": "2023-10-13T08:44:04.698Z"
   },
   {
    "duration": 259,
    "start_time": "2023-10-13T08:44:04.965Z"
   },
   {
    "duration": 41,
    "start_time": "2023-10-13T08:44:05.225Z"
   },
   {
    "duration": 3,
    "start_time": "2023-10-13T08:44:05.268Z"
   },
   {
    "duration": 126,
    "start_time": "2023-10-13T08:44:05.272Z"
   },
   {
    "duration": 3,
    "start_time": "2023-10-13T09:14:27.291Z"
   },
   {
    "duration": 139,
    "start_time": "2023-10-13T09:16:43.249Z"
   },
   {
    "duration": 11,
    "start_time": "2023-10-13T09:17:03.892Z"
   },
   {
    "duration": 12,
    "start_time": "2023-10-13T09:17:48.848Z"
   },
   {
    "duration": 669,
    "start_time": "2023-10-13T09:17:53.774Z"
   },
   {
    "duration": 84,
    "start_time": "2023-10-13T09:17:54.445Z"
   },
   {
    "duration": 12,
    "start_time": "2023-10-13T09:17:54.532Z"
   },
   {
    "duration": 41,
    "start_time": "2023-10-13T09:17:54.546Z"
   },
   {
    "duration": 15,
    "start_time": "2023-10-13T09:17:54.589Z"
   },
   {
    "duration": 10,
    "start_time": "2023-10-13T09:17:54.606Z"
   },
   {
    "duration": 19,
    "start_time": "2023-10-13T09:17:54.618Z"
   },
   {
    "duration": 16,
    "start_time": "2023-10-13T09:17:54.639Z"
   },
   {
    "duration": 16,
    "start_time": "2023-10-13T09:17:54.656Z"
   },
   {
    "duration": 11,
    "start_time": "2023-10-13T09:17:54.674Z"
   },
   {
    "duration": 19,
    "start_time": "2023-10-13T09:17:54.687Z"
   },
   {
    "duration": 6,
    "start_time": "2023-10-13T09:17:54.707Z"
   },
   {
    "duration": 12,
    "start_time": "2023-10-13T09:17:54.717Z"
   },
   {
    "duration": 24,
    "start_time": "2023-10-13T09:17:54.745Z"
   },
   {
    "duration": 13,
    "start_time": "2023-10-13T09:17:54.771Z"
   },
   {
    "duration": 25,
    "start_time": "2023-10-13T09:17:54.786Z"
   },
   {
    "duration": 160,
    "start_time": "2023-10-13T09:17:54.813Z"
   },
   {
    "duration": 17,
    "start_time": "2023-10-13T09:17:54.974Z"
   },
   {
    "duration": 423,
    "start_time": "2023-10-13T09:17:54.993Z"
   },
   {
    "duration": 101,
    "start_time": "2023-10-13T09:17:55.418Z"
   },
   {
    "duration": 182,
    "start_time": "2023-10-13T09:17:55.520Z"
   },
   {
    "duration": 233,
    "start_time": "2023-10-13T09:17:55.703Z"
   },
   {
    "duration": 168,
    "start_time": "2023-10-13T09:17:55.937Z"
   },
   {
    "duration": 22,
    "start_time": "2023-10-13T09:17:56.107Z"
   },
   {
    "duration": 21,
    "start_time": "2023-10-13T09:17:56.130Z"
   },
   {
    "duration": 13,
    "start_time": "2023-10-13T09:17:56.152Z"
   },
   {
    "duration": 260,
    "start_time": "2023-10-13T09:17:56.166Z"
   },
   {
    "duration": 238,
    "start_time": "2023-10-13T09:17:56.428Z"
   },
   {
    "duration": 245,
    "start_time": "2023-10-13T09:17:56.667Z"
   },
   {
    "duration": 246,
    "start_time": "2023-10-13T09:17:56.913Z"
   },
   {
    "duration": 25,
    "start_time": "2023-10-13T09:17:57.161Z"
   },
   {
    "duration": 3,
    "start_time": "2023-10-13T09:17:57.187Z"
   },
   {
    "duration": 14,
    "start_time": "2023-10-13T09:17:57.191Z"
   },
   {
    "duration": 158,
    "start_time": "2023-10-13T09:17:57.207Z"
   },
   {
    "duration": 44,
    "start_time": "2023-10-13T11:40:55.084Z"
   },
   {
    "duration": 826,
    "start_time": "2023-10-13T11:41:04.325Z"
   },
   {
    "duration": 195,
    "start_time": "2023-10-13T11:41:05.153Z"
   },
   {
    "duration": 11,
    "start_time": "2023-10-13T11:41:05.350Z"
   },
   {
    "duration": 23,
    "start_time": "2023-10-13T11:41:05.363Z"
   },
   {
    "duration": 58,
    "start_time": "2023-10-13T11:41:05.387Z"
   },
   {
    "duration": 78,
    "start_time": "2023-10-13T11:41:05.447Z"
   },
   {
    "duration": 33,
    "start_time": "2023-10-13T11:41:05.526Z"
   },
   {
    "duration": 33,
    "start_time": "2023-10-13T11:41:05.560Z"
   },
   {
    "duration": 38,
    "start_time": "2023-10-13T11:41:05.595Z"
   },
   {
    "duration": 53,
    "start_time": "2023-10-13T11:41:05.635Z"
   },
   {
    "duration": 27,
    "start_time": "2023-10-13T11:41:05.689Z"
   },
   {
    "duration": 12,
    "start_time": "2023-10-13T11:41:05.717Z"
   },
   {
    "duration": 20,
    "start_time": "2023-10-13T11:41:05.730Z"
   },
   {
    "duration": 22,
    "start_time": "2023-10-13T11:41:05.751Z"
   },
   {
    "duration": 11,
    "start_time": "2023-10-13T11:41:05.775Z"
   },
   {
    "duration": 14,
    "start_time": "2023-10-13T11:41:05.787Z"
   },
   {
    "duration": 139,
    "start_time": "2023-10-13T11:41:05.803Z"
   },
   {
    "duration": 15,
    "start_time": "2023-10-13T11:41:05.944Z"
   },
   {
    "duration": 142,
    "start_time": "2023-10-13T11:41:05.960Z"
   },
   {
    "duration": 101,
    "start_time": "2023-10-13T11:41:06.104Z"
   },
   {
    "duration": 177,
    "start_time": "2023-10-13T11:41:06.206Z"
   },
   {
    "duration": 213,
    "start_time": "2023-10-13T11:41:06.385Z"
   },
   {
    "duration": 155,
    "start_time": "2023-10-13T11:41:06.599Z"
   },
   {
    "duration": 24,
    "start_time": "2023-10-13T11:41:06.756Z"
   },
   {
    "duration": 15,
    "start_time": "2023-10-13T11:41:06.781Z"
   },
   {
    "duration": 13,
    "start_time": "2023-10-13T11:41:06.798Z"
   },
   {
    "duration": 227,
    "start_time": "2023-10-13T11:41:06.813Z"
   },
   {
    "duration": 209,
    "start_time": "2023-10-13T11:41:07.043Z"
   },
   {
    "duration": 220,
    "start_time": "2023-10-13T11:41:07.254Z"
   },
   {
    "duration": 207,
    "start_time": "2023-10-13T11:41:07.475Z"
   },
   {
    "duration": 25,
    "start_time": "2023-10-13T11:41:07.684Z"
   },
   {
    "duration": 3,
    "start_time": "2023-10-13T11:41:07.711Z"
   },
   {
    "duration": 24,
    "start_time": "2023-10-13T11:41:07.716Z"
   },
   {
    "duration": 132,
    "start_time": "2023-10-13T11:41:07.741Z"
   },
   {
    "duration": 25,
    "start_time": "2023-10-13T11:41:46.825Z"
   },
   {
    "duration": 14,
    "start_time": "2023-10-13T11:42:36.661Z"
   },
   {
    "duration": 30,
    "start_time": "2023-10-13T11:42:45.687Z"
   },
   {
    "duration": 3,
    "start_time": "2023-10-13T11:44:31.412Z"
   },
   {
    "duration": 1910,
    "start_time": "2023-10-13T11:44:36.732Z"
   },
   {
    "duration": 30,
    "start_time": "2023-10-13T11:45:14.723Z"
   },
   {
    "duration": 604,
    "start_time": "2023-10-13T11:45:24.246Z"
   },
   {
    "duration": 66,
    "start_time": "2023-10-13T11:45:24.851Z"
   },
   {
    "duration": 9,
    "start_time": "2023-10-13T11:45:24.919Z"
   },
   {
    "duration": 29,
    "start_time": "2023-10-13T11:45:24.930Z"
   },
   {
    "duration": 30,
    "start_time": "2023-10-13T11:45:24.961Z"
   },
   {
    "duration": 35,
    "start_time": "2023-10-13T11:45:24.992Z"
   },
   {
    "duration": 58,
    "start_time": "2023-10-13T11:45:25.029Z"
   },
   {
    "duration": 38,
    "start_time": "2023-10-13T11:45:25.088Z"
   },
   {
    "duration": 35,
    "start_time": "2023-10-13T11:45:25.128Z"
   },
   {
    "duration": 38,
    "start_time": "2023-10-13T11:45:25.165Z"
   },
   {
    "duration": 23,
    "start_time": "2023-10-13T11:45:25.205Z"
   },
   {
    "duration": 9,
    "start_time": "2023-10-13T11:45:25.229Z"
   },
   {
    "duration": 14,
    "start_time": "2023-10-13T11:45:25.240Z"
   },
   {
    "duration": 39,
    "start_time": "2023-10-13T11:45:25.255Z"
   },
   {
    "duration": 27,
    "start_time": "2023-10-13T11:45:25.296Z"
   },
   {
    "duration": 13,
    "start_time": "2023-10-13T11:45:25.324Z"
   },
   {
    "duration": 118,
    "start_time": "2023-10-13T11:45:25.339Z"
   },
   {
    "duration": 15,
    "start_time": "2023-10-13T11:45:25.458Z"
   },
   {
    "duration": 153,
    "start_time": "2023-10-13T11:45:25.475Z"
   },
   {
    "duration": 93,
    "start_time": "2023-10-13T11:45:25.629Z"
   },
   {
    "duration": 162,
    "start_time": "2023-10-13T11:45:25.723Z"
   },
   {
    "duration": 211,
    "start_time": "2023-10-13T11:45:25.886Z"
   },
   {
    "duration": 158,
    "start_time": "2023-10-13T11:45:26.099Z"
   },
   {
    "duration": 26,
    "start_time": "2023-10-13T11:45:26.259Z"
   },
   {
    "duration": 15,
    "start_time": "2023-10-13T11:45:26.286Z"
   },
   {
    "duration": 16,
    "start_time": "2023-10-13T11:45:26.302Z"
   },
   {
    "duration": 217,
    "start_time": "2023-10-13T11:45:26.340Z"
   },
   {
    "duration": 237,
    "start_time": "2023-10-13T11:45:26.560Z"
   },
   {
    "duration": 214,
    "start_time": "2023-10-13T11:45:26.798Z"
   },
   {
    "duration": 200,
    "start_time": "2023-10-13T11:45:27.013Z"
   },
   {
    "duration": 37,
    "start_time": "2023-10-13T11:45:27.215Z"
   },
   {
    "duration": 3,
    "start_time": "2023-10-13T11:45:27.254Z"
   },
   {
    "duration": 7,
    "start_time": "2023-10-13T11:45:27.258Z"
   },
   {
    "duration": 2424,
    "start_time": "2023-10-13T11:45:27.266Z"
   },
   {
    "duration": 20,
    "start_time": "2023-10-13T11:56:12.851Z"
   },
   {
    "duration": 94,
    "start_time": "2023-10-13T11:56:28.262Z"
   },
   {
    "duration": 103,
    "start_time": "2023-10-13T11:56:49.748Z"
   },
   {
    "duration": 584,
    "start_time": "2023-10-13T11:58:03.676Z"
   },
   {
    "duration": 66,
    "start_time": "2023-10-13T11:58:04.262Z"
   },
   {
    "duration": 40,
    "start_time": "2023-10-13T11:58:04.329Z"
   },
   {
    "duration": 23,
    "start_time": "2023-10-13T11:58:04.371Z"
   },
   {
    "duration": 28,
    "start_time": "2023-10-13T11:58:04.396Z"
   },
   {
    "duration": 18,
    "start_time": "2023-10-13T11:58:04.426Z"
   },
   {
    "duration": 42,
    "start_time": "2023-10-13T11:58:04.445Z"
   },
   {
    "duration": 34,
    "start_time": "2023-10-13T11:58:04.488Z"
   },
   {
    "duration": 23,
    "start_time": "2023-10-13T11:58:04.523Z"
   },
   {
    "duration": 15,
    "start_time": "2023-10-13T11:58:04.548Z"
   },
   {
    "duration": 37,
    "start_time": "2023-10-13T11:58:04.564Z"
   },
   {
    "duration": 19,
    "start_time": "2023-10-13T11:58:04.603Z"
   },
   {
    "duration": 18,
    "start_time": "2023-10-13T11:58:04.623Z"
   },
   {
    "duration": 34,
    "start_time": "2023-10-13T11:58:04.644Z"
   },
   {
    "duration": 17,
    "start_time": "2023-10-13T11:58:04.680Z"
   },
   {
    "duration": 18,
    "start_time": "2023-10-13T11:58:04.699Z"
   },
   {
    "duration": 128,
    "start_time": "2023-10-13T11:58:04.718Z"
   },
   {
    "duration": 14,
    "start_time": "2023-10-13T11:58:04.847Z"
   },
   {
    "duration": 134,
    "start_time": "2023-10-13T11:58:04.862Z"
   },
   {
    "duration": 100,
    "start_time": "2023-10-13T11:58:04.997Z"
   },
   {
    "duration": 160,
    "start_time": "2023-10-13T11:58:05.098Z"
   },
   {
    "duration": 194,
    "start_time": "2023-10-13T11:58:05.259Z"
   },
   {
    "duration": 152,
    "start_time": "2023-10-13T11:58:05.455Z"
   },
   {
    "duration": 23,
    "start_time": "2023-10-13T11:58:05.609Z"
   },
   {
    "duration": 18,
    "start_time": "2023-10-13T11:58:05.640Z"
   },
   {
    "duration": 18,
    "start_time": "2023-10-13T11:58:05.660Z"
   },
   {
    "duration": 226,
    "start_time": "2023-10-13T11:58:05.679Z"
   },
   {
    "duration": 208,
    "start_time": "2023-10-13T11:58:05.907Z"
   },
   {
    "duration": 225,
    "start_time": "2023-10-13T11:58:06.117Z"
   },
   {
    "duration": 209,
    "start_time": "2023-10-13T11:58:06.343Z"
   },
   {
    "duration": 99,
    "start_time": "2023-10-13T11:58:06.554Z"
   },
   {
    "duration": 3,
    "start_time": "2023-10-13T11:58:06.654Z"
   },
   {
    "duration": 17,
    "start_time": "2023-10-13T11:58:06.658Z"
   },
   {
    "duration": 1733,
    "start_time": "2023-10-13T11:58:06.676Z"
   },
   {
    "duration": 883,
    "start_time": "2023-10-13T11:58:46.799Z"
   },
   {
    "duration": 3,
    "start_time": "2023-10-13T11:59:25.216Z"
   },
   {
    "duration": 15,
    "start_time": "2023-10-13T11:59:29.972Z"
   },
   {
    "duration": 625,
    "start_time": "2023-10-13T11:59:36.254Z"
   },
   {
    "duration": 66,
    "start_time": "2023-10-13T11:59:36.881Z"
   },
   {
    "duration": 11,
    "start_time": "2023-10-13T11:59:36.948Z"
   },
   {
    "duration": 33,
    "start_time": "2023-10-13T11:59:36.961Z"
   },
   {
    "duration": 26,
    "start_time": "2023-10-13T11:59:36.996Z"
   },
   {
    "duration": 8,
    "start_time": "2023-10-13T11:59:37.024Z"
   },
   {
    "duration": 7,
    "start_time": "2023-10-13T11:59:37.034Z"
   },
   {
    "duration": 15,
    "start_time": "2023-10-13T11:59:37.042Z"
   },
   {
    "duration": 29,
    "start_time": "2023-10-13T11:59:37.059Z"
   },
   {
    "duration": 14,
    "start_time": "2023-10-13T11:59:37.091Z"
   },
   {
    "duration": 10,
    "start_time": "2023-10-13T11:59:37.107Z"
   },
   {
    "duration": 4,
    "start_time": "2023-10-13T11:59:37.118Z"
   },
   {
    "duration": 9,
    "start_time": "2023-10-13T11:59:37.124Z"
   },
   {
    "duration": 22,
    "start_time": "2023-10-13T11:59:37.139Z"
   },
   {
    "duration": 10,
    "start_time": "2023-10-13T11:59:37.163Z"
   },
   {
    "duration": 29,
    "start_time": "2023-10-13T11:59:37.174Z"
   },
   {
    "duration": 116,
    "start_time": "2023-10-13T11:59:37.204Z"
   },
   {
    "duration": 26,
    "start_time": "2023-10-13T11:59:37.321Z"
   },
   {
    "duration": 136,
    "start_time": "2023-10-13T11:59:37.348Z"
   },
   {
    "duration": 94,
    "start_time": "2023-10-13T11:59:37.485Z"
   },
   {
    "duration": 172,
    "start_time": "2023-10-13T11:59:37.580Z"
   },
   {
    "duration": 196,
    "start_time": "2023-10-13T11:59:37.753Z"
   },
   {
    "duration": 154,
    "start_time": "2023-10-13T11:59:37.951Z"
   },
   {
    "duration": 22,
    "start_time": "2023-10-13T11:59:38.106Z"
   },
   {
    "duration": 15,
    "start_time": "2023-10-13T11:59:38.139Z"
   },
   {
    "duration": 12,
    "start_time": "2023-10-13T11:59:38.155Z"
   },
   {
    "duration": 212,
    "start_time": "2023-10-13T11:59:38.168Z"
   },
   {
    "duration": 215,
    "start_time": "2023-10-13T11:59:38.382Z"
   },
   {
    "duration": 215,
    "start_time": "2023-10-13T11:59:38.599Z"
   },
   {
    "duration": 199,
    "start_time": "2023-10-13T11:59:38.816Z"
   },
   {
    "duration": 899,
    "start_time": "2023-10-13T11:59:39.017Z"
   },
   {
    "duration": 3,
    "start_time": "2023-10-13T11:59:39.917Z"
   },
   {
    "duration": 4,
    "start_time": "2023-10-13T11:59:39.921Z"
   },
   {
    "duration": 146,
    "start_time": "2023-10-13T11:59:39.926Z"
   },
   {
    "duration": 613,
    "start_time": "2023-10-13T12:00:33.605Z"
   },
   {
    "duration": 67,
    "start_time": "2023-10-13T12:00:34.220Z"
   },
   {
    "duration": 10,
    "start_time": "2023-10-13T12:00:34.288Z"
   },
   {
    "duration": 12,
    "start_time": "2023-10-13T12:00:34.299Z"
   },
   {
    "duration": 9,
    "start_time": "2023-10-13T12:00:34.313Z"
   },
   {
    "duration": 8,
    "start_time": "2023-10-13T12:00:34.323Z"
   },
   {
    "duration": 6,
    "start_time": "2023-10-13T12:00:34.332Z"
   },
   {
    "duration": 9,
    "start_time": "2023-10-13T12:00:34.339Z"
   },
   {
    "duration": 12,
    "start_time": "2023-10-13T12:00:34.349Z"
   },
   {
    "duration": 9,
    "start_time": "2023-10-13T12:00:34.362Z"
   },
   {
    "duration": 10,
    "start_time": "2023-10-13T12:00:34.372Z"
   },
   {
    "duration": 4,
    "start_time": "2023-10-13T12:00:34.383Z"
   },
   {
    "duration": 9,
    "start_time": "2023-10-13T12:00:34.389Z"
   },
   {
    "duration": 56,
    "start_time": "2023-10-13T12:00:34.401Z"
   },
   {
    "duration": 12,
    "start_time": "2023-10-13T12:00:34.458Z"
   },
   {
    "duration": 17,
    "start_time": "2023-10-13T12:00:34.471Z"
   },
   {
    "duration": 132,
    "start_time": "2023-10-13T12:00:34.489Z"
   },
   {
    "duration": 23,
    "start_time": "2023-10-13T12:00:34.622Z"
   },
   {
    "duration": 133,
    "start_time": "2023-10-13T12:00:34.646Z"
   },
   {
    "duration": 97,
    "start_time": "2023-10-13T12:00:34.781Z"
   },
   {
    "duration": 151,
    "start_time": "2023-10-13T12:00:34.879Z"
   },
   {
    "duration": 203,
    "start_time": "2023-10-13T12:00:35.031Z"
   },
   {
    "duration": 152,
    "start_time": "2023-10-13T12:00:35.235Z"
   },
   {
    "duration": 22,
    "start_time": "2023-10-13T12:00:35.389Z"
   },
   {
    "duration": 15,
    "start_time": "2023-10-13T12:00:35.412Z"
   },
   {
    "duration": 14,
    "start_time": "2023-10-13T12:00:35.440Z"
   },
   {
    "duration": 209,
    "start_time": "2023-10-13T12:00:35.456Z"
   },
   {
    "duration": 203,
    "start_time": "2023-10-13T12:00:35.667Z"
   },
   {
    "duration": 212,
    "start_time": "2023-10-13T12:00:35.872Z"
   },
   {
    "duration": 205,
    "start_time": "2023-10-13T12:00:36.086Z"
   },
   {
    "duration": 883,
    "start_time": "2023-10-13T12:00:36.292Z"
   },
   {
    "duration": 3,
    "start_time": "2023-10-13T12:00:37.177Z"
   },
   {
    "duration": 3,
    "start_time": "2023-10-13T12:00:37.182Z"
   },
   {
    "duration": 608,
    "start_time": "2023-10-13T12:00:59.262Z"
   },
   {
    "duration": 196,
    "start_time": "2023-10-13T12:00:59.872Z"
   },
   {
    "duration": 10,
    "start_time": "2023-10-13T12:01:00.070Z"
   },
   {
    "duration": 318,
    "start_time": "2023-10-13T12:01:00.082Z"
   },
   {
    "duration": 209,
    "start_time": "2023-10-13T12:01:00.402Z"
   },
   {
    "duration": 212,
    "start_time": "2023-10-13T12:01:00.613Z"
   },
   {
    "duration": 49,
    "start_time": "2023-10-13T12:01:00.826Z"
   },
   {
    "duration": 44,
    "start_time": "2023-10-13T12:01:00.876Z"
   },
   {
    "duration": 48,
    "start_time": "2023-10-13T12:01:00.922Z"
   },
   {
    "duration": 46,
    "start_time": "2023-10-13T12:01:00.971Z"
   },
   {
    "duration": 58,
    "start_time": "2023-10-13T12:01:01.018Z"
   },
   {
    "duration": 28,
    "start_time": "2023-10-13T12:01:01.078Z"
   },
   {
    "duration": 37,
    "start_time": "2023-10-13T12:01:01.108Z"
   },
   {
    "duration": 49,
    "start_time": "2023-10-13T12:01:01.148Z"
   },
   {
    "duration": 43,
    "start_time": "2023-10-13T12:01:01.199Z"
   },
   {
    "duration": 232,
    "start_time": "2023-10-13T12:01:01.244Z"
   },
   {
    "duration": 169,
    "start_time": "2023-10-13T12:01:01.478Z"
   },
   {
    "duration": 16,
    "start_time": "2023-10-13T12:01:01.649Z"
   },
   {
    "duration": 160,
    "start_time": "2023-10-13T12:01:01.666Z"
   },
   {
    "duration": 115,
    "start_time": "2023-10-13T12:01:01.828Z"
   },
   {
    "duration": 169,
    "start_time": "2023-10-13T12:01:01.945Z"
   },
   {
    "duration": 214,
    "start_time": "2023-10-13T12:01:02.115Z"
   },
   {
    "duration": 202,
    "start_time": "2023-10-13T12:01:02.331Z"
   },
   {
    "duration": 32,
    "start_time": "2023-10-13T12:01:02.534Z"
   },
   {
    "duration": 19,
    "start_time": "2023-10-13T12:01:02.568Z"
   },
   {
    "duration": 19,
    "start_time": "2023-10-13T12:01:02.589Z"
   },
   {
    "duration": 248,
    "start_time": "2023-10-13T12:01:02.609Z"
   },
   {
    "duration": 241,
    "start_time": "2023-10-13T12:01:02.859Z"
   },
   {
    "duration": 226,
    "start_time": "2023-10-13T12:01:03.101Z"
   },
   {
    "duration": 213,
    "start_time": "2023-10-13T12:01:03.328Z"
   },
   {
    "duration": 935,
    "start_time": "2023-10-13T12:01:03.542Z"
   },
   {
    "duration": 3,
    "start_time": "2023-10-13T12:01:04.479Z"
   },
   {
    "duration": 19,
    "start_time": "2023-10-13T12:01:04.484Z"
   },
   {
    "duration": 8,
    "start_time": "2023-10-13T12:06:42.918Z"
   },
   {
    "duration": 611,
    "start_time": "2023-10-13T12:06:47.388Z"
   },
   {
    "duration": 190,
    "start_time": "2023-10-13T12:06:48.000Z"
   },
   {
    "duration": 10,
    "start_time": "2023-10-13T12:06:48.191Z"
   },
   {
    "duration": 24,
    "start_time": "2023-10-13T12:06:48.203Z"
   },
   {
    "duration": 15,
    "start_time": "2023-10-13T12:06:48.229Z"
   },
   {
    "duration": 30,
    "start_time": "2023-10-13T12:06:48.245Z"
   },
   {
    "duration": 19,
    "start_time": "2023-10-13T12:06:48.276Z"
   },
   {
    "duration": 20,
    "start_time": "2023-10-13T12:06:48.297Z"
   },
   {
    "duration": 27,
    "start_time": "2023-10-13T12:06:48.318Z"
   },
   {
    "duration": 15,
    "start_time": "2023-10-13T12:06:48.347Z"
   },
   {
    "duration": 22,
    "start_time": "2023-10-13T12:06:48.363Z"
   },
   {
    "duration": 6,
    "start_time": "2023-10-13T12:06:48.386Z"
   },
   {
    "duration": 32,
    "start_time": "2023-10-13T12:06:48.393Z"
   },
   {
    "duration": 42,
    "start_time": "2023-10-13T12:06:48.427Z"
   },
   {
    "duration": 11,
    "start_time": "2023-10-13T12:06:48.471Z"
   },
   {
    "duration": 40,
    "start_time": "2023-10-13T12:06:48.483Z"
   },
   {
    "duration": 110,
    "start_time": "2023-10-13T12:06:48.524Z"
   },
   {
    "duration": 15,
    "start_time": "2023-10-13T12:06:48.639Z"
   },
   {
    "duration": 132,
    "start_time": "2023-10-13T12:06:48.655Z"
   },
   {
    "duration": 97,
    "start_time": "2023-10-13T12:06:48.789Z"
   },
   {
    "duration": 155,
    "start_time": "2023-10-13T12:06:48.888Z"
   },
   {
    "duration": 189,
    "start_time": "2023-10-13T12:06:49.044Z"
   },
   {
    "duration": 155,
    "start_time": "2023-10-13T12:06:49.235Z"
   },
   {
    "duration": 22,
    "start_time": "2023-10-13T12:06:49.392Z"
   },
   {
    "duration": 30,
    "start_time": "2023-10-13T12:06:49.416Z"
   },
   {
    "duration": 11,
    "start_time": "2023-10-13T12:06:49.448Z"
   },
   {
    "duration": 206,
    "start_time": "2023-10-13T12:06:49.461Z"
   },
   {
    "duration": 209,
    "start_time": "2023-10-13T12:06:49.669Z"
   },
   {
    "duration": 211,
    "start_time": "2023-10-13T12:06:49.879Z"
   },
   {
    "duration": 204,
    "start_time": "2023-10-13T12:06:50.091Z"
   },
   {
    "duration": 871,
    "start_time": "2023-10-13T12:06:50.297Z"
   },
   {
    "duration": 3,
    "start_time": "2023-10-13T12:06:51.170Z"
   },
   {
    "duration": 17,
    "start_time": "2023-10-13T12:06:51.174Z"
   },
   {
    "duration": 202,
    "start_time": "2023-10-13T12:06:51.192Z"
   },
   {
    "duration": 150,
    "start_time": "2023-10-13T12:06:58.061Z"
   },
   {
    "duration": 157,
    "start_time": "2023-10-13T12:08:27.803Z"
   },
   {
    "duration": 154,
    "start_time": "2023-10-13T12:08:59.733Z"
   },
   {
    "duration": 73,
    "start_time": "2023-10-13T12:21:03.139Z"
   },
   {
    "duration": 878,
    "start_time": "2023-10-13T12:21:17.292Z"
   },
   {
    "duration": 627,
    "start_time": "2023-10-13T12:21:25.201Z"
   },
   {
    "duration": 67,
    "start_time": "2023-10-13T12:21:25.830Z"
   },
   {
    "duration": 10,
    "start_time": "2023-10-13T12:21:25.898Z"
   },
   {
    "duration": 15,
    "start_time": "2023-10-13T12:21:25.910Z"
   },
   {
    "duration": 10,
    "start_time": "2023-10-13T12:21:25.927Z"
   },
   {
    "duration": 8,
    "start_time": "2023-10-13T12:21:25.939Z"
   },
   {
    "duration": 7,
    "start_time": "2023-10-13T12:21:25.949Z"
   },
   {
    "duration": 11,
    "start_time": "2023-10-13T12:21:25.957Z"
   },
   {
    "duration": 12,
    "start_time": "2023-10-13T12:21:25.969Z"
   },
   {
    "duration": 9,
    "start_time": "2023-10-13T12:21:25.984Z"
   },
   {
    "duration": 14,
    "start_time": "2023-10-13T12:21:25.995Z"
   },
   {
    "duration": 32,
    "start_time": "2023-10-13T12:21:26.010Z"
   },
   {
    "duration": 44,
    "start_time": "2023-10-13T12:21:26.043Z"
   },
   {
    "duration": 64,
    "start_time": "2023-10-13T12:21:26.088Z"
   },
   {
    "duration": 23,
    "start_time": "2023-10-13T12:21:26.154Z"
   },
   {
    "duration": 32,
    "start_time": "2023-10-13T12:21:26.179Z"
   },
   {
    "duration": 188,
    "start_time": "2023-10-13T12:21:26.213Z"
   },
   {
    "duration": 15,
    "start_time": "2023-10-13T12:21:26.402Z"
   },
   {
    "duration": 145,
    "start_time": "2023-10-13T12:21:26.419Z"
   },
   {
    "duration": 97,
    "start_time": "2023-10-13T12:21:26.565Z"
   },
   {
    "duration": 154,
    "start_time": "2023-10-13T12:21:26.664Z"
   },
   {
    "duration": 198,
    "start_time": "2023-10-13T12:21:26.820Z"
   },
   {
    "duration": 152,
    "start_time": "2023-10-13T12:21:27.019Z"
   },
   {
    "duration": 21,
    "start_time": "2023-10-13T12:21:27.172Z"
   },
   {
    "duration": 12,
    "start_time": "2023-10-13T12:21:27.195Z"
   },
   {
    "duration": 12,
    "start_time": "2023-10-13T12:21:27.209Z"
   },
   {
    "duration": 220,
    "start_time": "2023-10-13T12:21:27.221Z"
   },
   {
    "duration": 217,
    "start_time": "2023-10-13T12:21:27.444Z"
   },
   {
    "duration": 203,
    "start_time": "2023-10-13T12:21:27.662Z"
   },
   {
    "duration": 201,
    "start_time": "2023-10-13T12:21:27.866Z"
   },
   {
    "duration": 871,
    "start_time": "2023-10-13T12:21:28.068Z"
   },
   {
    "duration": 3,
    "start_time": "2023-10-13T12:21:28.940Z"
   },
   {
    "duration": 32,
    "start_time": "2023-10-13T12:21:28.944Z"
   },
   {
    "duration": 231,
    "start_time": "2023-10-13T12:21:28.978Z"
   },
   {
    "duration": 1041,
    "start_time": "2023-10-13T12:40:21.317Z"
   },
   {
    "duration": 117,
    "start_time": "2023-10-13T12:40:22.360Z"
   },
   {
    "duration": 14,
    "start_time": "2023-10-13T12:40:22.479Z"
   },
   {
    "duration": 24,
    "start_time": "2023-10-13T12:40:22.494Z"
   },
   {
    "duration": 13,
    "start_time": "2023-10-13T12:40:22.521Z"
   },
   {
    "duration": 20,
    "start_time": "2023-10-13T12:40:22.536Z"
   },
   {
    "duration": 8,
    "start_time": "2023-10-13T12:40:22.558Z"
   },
   {
    "duration": 10,
    "start_time": "2023-10-13T12:40:22.568Z"
   },
   {
    "duration": 17,
    "start_time": "2023-10-13T12:40:22.580Z"
   },
   {
    "duration": 14,
    "start_time": "2023-10-13T12:40:22.599Z"
   },
   {
    "duration": 28,
    "start_time": "2023-10-13T12:40:22.615Z"
   },
   {
    "duration": 5,
    "start_time": "2023-10-13T12:40:22.645Z"
   },
   {
    "duration": 31,
    "start_time": "2023-10-13T12:40:22.651Z"
   },
   {
    "duration": 39,
    "start_time": "2023-10-13T12:40:22.686Z"
   },
   {
    "duration": 12,
    "start_time": "2023-10-13T12:40:22.727Z"
   },
   {
    "duration": 13,
    "start_time": "2023-10-13T12:40:22.740Z"
   },
   {
    "duration": 121,
    "start_time": "2023-10-13T12:40:22.755Z"
   },
   {
    "duration": 15,
    "start_time": "2023-10-13T12:40:22.877Z"
   },
   {
    "duration": 149,
    "start_time": "2023-10-13T12:40:22.894Z"
   },
   {
    "duration": 100,
    "start_time": "2023-10-13T12:40:23.045Z"
   },
   {
    "duration": 161,
    "start_time": "2023-10-13T12:40:23.147Z"
   },
   {
    "duration": 175,
    "start_time": "2023-10-13T12:40:23.310Z"
   },
   {
    "duration": 172,
    "start_time": "2023-10-13T12:40:23.487Z"
   },
   {
    "duration": 24,
    "start_time": "2023-10-13T12:40:23.660Z"
   },
   {
    "duration": 27,
    "start_time": "2023-10-13T12:40:23.685Z"
   },
   {
    "duration": 16,
    "start_time": "2023-10-13T12:40:23.713Z"
   },
   {
    "duration": 205,
    "start_time": "2023-10-13T12:40:23.731Z"
   },
   {
    "duration": 210,
    "start_time": "2023-10-13T12:40:23.939Z"
   },
   {
    "duration": 267,
    "start_time": "2023-10-13T12:40:24.151Z"
   },
   {
    "duration": 203,
    "start_time": "2023-10-13T12:40:24.420Z"
   },
   {
    "duration": 935,
    "start_time": "2023-10-13T12:40:24.625Z"
   },
   {
    "duration": 4,
    "start_time": "2023-10-13T12:40:25.562Z"
   },
   {
    "duration": 16,
    "start_time": "2023-10-13T12:40:25.567Z"
   },
   {
    "duration": 174,
    "start_time": "2023-10-13T12:40:25.584Z"
   },
   {
    "duration": 10,
    "start_time": "2023-10-13T12:53:39.967Z"
   },
   {
    "duration": 10,
    "start_time": "2023-10-13T12:56:16.384Z"
   },
   {
    "duration": 8,
    "start_time": "2023-10-13T13:10:19.868Z"
   },
   {
    "duration": 10,
    "start_time": "2023-10-13T13:34:25.429Z"
   },
   {
    "duration": 11,
    "start_time": "2023-10-13T13:34:31.590Z"
   },
   {
    "duration": 8,
    "start_time": "2023-10-13T13:35:20.601Z"
   },
   {
    "duration": 962,
    "start_time": "2023-10-13T13:45:19.834Z"
   },
   {
    "duration": 79,
    "start_time": "2023-10-13T13:45:20.798Z"
   },
   {
    "duration": 10,
    "start_time": "2023-10-13T13:45:20.878Z"
   },
   {
    "duration": 14,
    "start_time": "2023-10-13T13:45:20.889Z"
   },
   {
    "duration": 9,
    "start_time": "2023-10-13T13:45:20.905Z"
   },
   {
    "duration": 7,
    "start_time": "2023-10-13T13:45:20.915Z"
   },
   {
    "duration": 7,
    "start_time": "2023-10-13T13:45:20.923Z"
   },
   {
    "duration": 12,
    "start_time": "2023-10-13T13:45:20.931Z"
   },
   {
    "duration": 13,
    "start_time": "2023-10-13T13:45:20.945Z"
   },
   {
    "duration": 8,
    "start_time": "2023-10-13T13:45:20.960Z"
   },
   {
    "duration": 10,
    "start_time": "2023-10-13T13:45:20.969Z"
   },
   {
    "duration": 4,
    "start_time": "2023-10-13T13:45:20.980Z"
   },
   {
    "duration": 13,
    "start_time": "2023-10-13T13:45:20.985Z"
   },
   {
    "duration": 48,
    "start_time": "2023-10-13T13:45:21.000Z"
   },
   {
    "duration": 11,
    "start_time": "2023-10-13T13:45:21.050Z"
   },
   {
    "duration": 15,
    "start_time": "2023-10-13T13:45:21.063Z"
   },
   {
    "duration": 131,
    "start_time": "2023-10-13T13:45:21.079Z"
   },
   {
    "duration": 28,
    "start_time": "2023-10-13T13:45:21.212Z"
   },
   {
    "duration": 134,
    "start_time": "2023-10-13T13:45:21.242Z"
   },
   {
    "duration": 101,
    "start_time": "2023-10-13T13:45:21.378Z"
   },
   {
    "duration": 164,
    "start_time": "2023-10-13T13:45:21.480Z"
   },
   {
    "duration": 164,
    "start_time": "2023-10-13T13:45:21.646Z"
   },
   {
    "duration": 161,
    "start_time": "2023-10-13T13:45:21.812Z"
   },
   {
    "duration": 23,
    "start_time": "2023-10-13T13:45:21.974Z"
   },
   {
    "duration": 14,
    "start_time": "2023-10-13T13:45:21.998Z"
   },
   {
    "duration": 36,
    "start_time": "2023-10-13T13:45:22.013Z"
   },
   {
    "duration": 202,
    "start_time": "2023-10-13T13:45:22.050Z"
   },
   {
    "duration": 231,
    "start_time": "2023-10-13T13:45:22.253Z"
   },
   {
    "duration": 293,
    "start_time": "2023-10-13T13:45:22.485Z"
   },
   {
    "duration": 204,
    "start_time": "2023-10-13T13:45:22.779Z"
   },
   {
    "duration": 906,
    "start_time": "2023-10-13T13:45:22.985Z"
   },
   {
    "duration": 3,
    "start_time": "2023-10-13T13:45:23.893Z"
   },
   {
    "duration": 24,
    "start_time": "2023-10-13T13:45:23.898Z"
   },
   {
    "duration": 178,
    "start_time": "2023-10-13T13:45:23.923Z"
   },
   {
    "duration": 10,
    "start_time": "2023-10-13T13:45:24.102Z"
   },
   {
    "duration": 9,
    "start_time": "2023-10-13T13:45:24.114Z"
   },
   {
    "duration": 18,
    "start_time": "2023-10-13T13:45:24.124Z"
   },
   {
    "duration": 934,
    "start_time": "2023-10-13T14:34:21.166Z"
   },
   {
    "duration": 83,
    "start_time": "2023-10-13T14:34:22.102Z"
   },
   {
    "duration": 11,
    "start_time": "2023-10-13T14:34:22.186Z"
   },
   {
    "duration": 28,
    "start_time": "2023-10-13T14:34:22.198Z"
   },
   {
    "duration": 27,
    "start_time": "2023-10-13T14:34:22.228Z"
   },
   {
    "duration": 30,
    "start_time": "2023-10-13T14:34:22.256Z"
   },
   {
    "duration": 22,
    "start_time": "2023-10-13T14:34:22.288Z"
   },
   {
    "duration": 23,
    "start_time": "2023-10-13T14:34:22.311Z"
   },
   {
    "duration": 26,
    "start_time": "2023-10-13T14:34:22.335Z"
   },
   {
    "duration": 10,
    "start_time": "2023-10-13T14:34:22.364Z"
   },
   {
    "duration": 9,
    "start_time": "2023-10-13T14:34:22.375Z"
   },
   {
    "duration": 4,
    "start_time": "2023-10-13T14:34:22.385Z"
   },
   {
    "duration": 24,
    "start_time": "2023-10-13T14:34:22.390Z"
   },
   {
    "duration": 34,
    "start_time": "2023-10-13T14:34:22.416Z"
   },
   {
    "duration": 14,
    "start_time": "2023-10-13T14:34:22.451Z"
   },
   {
    "duration": 26,
    "start_time": "2023-10-13T14:34:22.467Z"
   },
   {
    "duration": 145,
    "start_time": "2023-10-13T14:34:22.494Z"
   },
   {
    "duration": 14,
    "start_time": "2023-10-13T14:34:22.641Z"
   },
   {
    "duration": 135,
    "start_time": "2023-10-13T14:34:22.657Z"
   },
   {
    "duration": 101,
    "start_time": "2023-10-13T14:34:22.794Z"
   },
   {
    "duration": 157,
    "start_time": "2023-10-13T14:34:22.896Z"
   },
   {
    "duration": 157,
    "start_time": "2023-10-13T14:34:23.055Z"
   },
   {
    "duration": 154,
    "start_time": "2023-10-13T14:34:23.213Z"
   },
   {
    "duration": 22,
    "start_time": "2023-10-13T14:34:23.368Z"
   },
   {
    "duration": 19,
    "start_time": "2023-10-13T14:34:23.391Z"
   },
   {
    "duration": 22,
    "start_time": "2023-10-13T14:34:23.411Z"
   },
   {
    "duration": 224,
    "start_time": "2023-10-13T14:34:23.439Z"
   },
   {
    "duration": 220,
    "start_time": "2023-10-13T14:34:23.666Z"
   },
   {
    "duration": 285,
    "start_time": "2023-10-13T14:34:23.888Z"
   },
   {
    "duration": 213,
    "start_time": "2023-10-13T14:34:24.174Z"
   },
   {
    "duration": 927,
    "start_time": "2023-10-13T14:34:24.388Z"
   },
   {
    "duration": 3,
    "start_time": "2023-10-13T14:34:25.316Z"
   },
   {
    "duration": 31,
    "start_time": "2023-10-13T14:34:25.320Z"
   },
   {
    "duration": 211,
    "start_time": "2023-10-13T14:34:25.352Z"
   },
   {
    "duration": 10,
    "start_time": "2023-10-13T14:34:25.564Z"
   },
   {
    "duration": 58,
    "start_time": "2023-10-13T14:34:25.575Z"
   },
   {
    "duration": 23,
    "start_time": "2023-10-13T14:34:25.635Z"
   },
   {
    "duration": 109,
    "start_time": "2023-10-13T14:38:45.658Z"
   },
   {
    "duration": 156,
    "start_time": "2023-10-13T14:39:25.138Z"
   },
   {
    "duration": 669,
    "start_time": "2023-10-13T14:40:43.286Z"
   },
   {
    "duration": 1318,
    "start_time": "2023-10-13T14:41:54.606Z"
   },
   {
    "duration": 132,
    "start_time": "2023-10-13T14:42:12.861Z"
   },
   {
    "duration": 1032,
    "start_time": "2023-10-13T14:42:18.833Z"
   },
   {
    "duration": 1017,
    "start_time": "2023-10-13T14:42:48.297Z"
   },
   {
    "duration": 5,
    "start_time": "2023-10-13T14:45:10.803Z"
   },
   {
    "duration": 1077,
    "start_time": "2023-10-15T18:48:53.618Z"
   },
   {
    "duration": 116,
    "start_time": "2023-10-15T18:48:54.697Z"
   },
   {
    "duration": 10,
    "start_time": "2023-10-15T18:48:54.815Z"
   },
   {
    "duration": 15,
    "start_time": "2023-10-15T18:48:54.827Z"
   },
   {
    "duration": 22,
    "start_time": "2023-10-15T18:48:54.843Z"
   },
   {
    "duration": 8,
    "start_time": "2023-10-15T18:48:54.867Z"
   },
   {
    "duration": 9,
    "start_time": "2023-10-15T18:48:54.877Z"
   },
   {
    "duration": 35,
    "start_time": "2023-10-15T18:48:54.887Z"
   },
   {
    "duration": 20,
    "start_time": "2023-10-15T18:48:54.924Z"
   },
   {
    "duration": 12,
    "start_time": "2023-10-15T18:48:54.947Z"
   },
   {
    "duration": 11,
    "start_time": "2023-10-15T18:48:54.960Z"
   },
   {
    "duration": 5,
    "start_time": "2023-10-15T18:48:54.972Z"
   },
   {
    "duration": 11,
    "start_time": "2023-10-15T18:48:54.979Z"
   },
   {
    "duration": 20,
    "start_time": "2023-10-15T18:48:54.992Z"
   },
   {
    "duration": 49,
    "start_time": "2023-10-15T18:48:55.014Z"
   },
   {
    "duration": 23,
    "start_time": "2023-10-15T18:48:55.065Z"
   },
   {
    "duration": 133,
    "start_time": "2023-10-15T18:48:55.090Z"
   },
   {
    "duration": 33,
    "start_time": "2023-10-15T18:48:55.225Z"
   },
   {
    "duration": 139,
    "start_time": "2023-10-15T18:48:55.260Z"
   },
   {
    "duration": 109,
    "start_time": "2023-10-15T18:48:55.401Z"
   },
   {
    "duration": 191,
    "start_time": "2023-10-15T18:48:55.511Z"
   },
   {
    "duration": 183,
    "start_time": "2023-10-15T18:48:55.704Z"
   },
   {
    "duration": 190,
    "start_time": "2023-10-15T18:48:55.889Z"
   },
   {
    "duration": 24,
    "start_time": "2023-10-15T18:48:56.080Z"
   },
   {
    "duration": 15,
    "start_time": "2023-10-15T18:48:56.105Z"
   },
   {
    "duration": 37,
    "start_time": "2023-10-15T18:48:56.121Z"
   },
   {
    "duration": 258,
    "start_time": "2023-10-15T18:48:56.160Z"
   },
   {
    "duration": 253,
    "start_time": "2023-10-15T18:48:56.421Z"
   },
   {
    "duration": 343,
    "start_time": "2023-10-15T18:48:56.677Z"
   },
   {
    "duration": 261,
    "start_time": "2023-10-15T18:48:57.023Z"
   },
   {
    "duration": 888,
    "start_time": "2023-10-15T18:48:57.285Z"
   },
   {
    "duration": 3,
    "start_time": "2023-10-15T18:48:58.174Z"
   },
   {
    "duration": 80,
    "start_time": "2023-10-15T18:48:58.179Z"
   },
   {
    "duration": 249,
    "start_time": "2023-10-15T18:48:58.261Z"
   },
   {
    "duration": 12,
    "start_time": "2023-10-15T18:48:58.511Z"
   },
   {
    "duration": 12,
    "start_time": "2023-10-15T18:48:58.524Z"
   },
   {
    "duration": 10,
    "start_time": "2023-10-15T18:48:58.558Z"
   },
   {
    "duration": 17,
    "start_time": "2023-10-15T20:08:41.106Z"
   },
   {
    "duration": 5,
    "start_time": "2023-10-16T08:00:41.056Z"
   },
   {
    "duration": 2,
    "start_time": "2023-10-16T08:00:42.431Z"
   },
   {
    "duration": 1213,
    "start_time": "2023-10-16T08:17:22.712Z"
   },
   {
    "duration": 372,
    "start_time": "2023-10-16T08:17:23.927Z"
   },
   {
    "duration": 15,
    "start_time": "2023-10-16T08:17:24.301Z"
   },
   {
    "duration": 30,
    "start_time": "2023-10-16T08:17:24.318Z"
   },
   {
    "duration": 49,
    "start_time": "2023-10-16T08:17:24.350Z"
   },
   {
    "duration": 29,
    "start_time": "2023-10-16T08:17:24.401Z"
   },
   {
    "duration": 12,
    "start_time": "2023-10-16T08:17:24.432Z"
   },
   {
    "duration": 16,
    "start_time": "2023-10-16T08:17:24.446Z"
   },
   {
    "duration": 20,
    "start_time": "2023-10-16T08:17:24.463Z"
   },
   {
    "duration": 11,
    "start_time": "2023-10-16T08:17:24.486Z"
   },
   {
    "duration": 20,
    "start_time": "2023-10-16T08:17:24.498Z"
   },
   {
    "duration": 20,
    "start_time": "2023-10-16T08:17:24.520Z"
   },
   {
    "duration": 38,
    "start_time": "2023-10-16T08:17:24.542Z"
   },
   {
    "duration": 34,
    "start_time": "2023-10-16T08:17:24.581Z"
   },
   {
    "duration": 13,
    "start_time": "2023-10-16T08:17:24.616Z"
   },
   {
    "duration": 17,
    "start_time": "2023-10-16T08:17:24.631Z"
   },
   {
    "duration": 142,
    "start_time": "2023-10-16T08:17:24.650Z"
   },
   {
    "duration": 17,
    "start_time": "2023-10-16T08:17:24.795Z"
   },
   {
    "duration": 183,
    "start_time": "2023-10-16T08:17:24.814Z"
   },
   {
    "duration": 125,
    "start_time": "2023-10-16T08:17:24.998Z"
   },
   {
    "duration": 197,
    "start_time": "2023-10-16T08:17:25.125Z"
   },
   {
    "duration": 193,
    "start_time": "2023-10-16T08:17:25.323Z"
   },
   {
    "duration": 165,
    "start_time": "2023-10-16T08:17:25.517Z"
   },
   {
    "duration": 23,
    "start_time": "2023-10-16T08:17:25.684Z"
   },
   {
    "duration": 16,
    "start_time": "2023-10-16T08:17:25.708Z"
   },
   {
    "duration": 15,
    "start_time": "2023-10-16T08:17:25.745Z"
   },
   {
    "duration": 238,
    "start_time": "2023-10-16T08:17:25.761Z"
   },
   {
    "duration": 237,
    "start_time": "2023-10-16T08:17:26.002Z"
   },
   {
    "duration": 324,
    "start_time": "2023-10-16T08:17:26.241Z"
   },
   {
    "duration": 238,
    "start_time": "2023-10-16T08:17:26.566Z"
   },
   {
    "duration": 858,
    "start_time": "2023-10-16T08:17:26.806Z"
   },
   {
    "duration": 4,
    "start_time": "2023-10-16T08:17:27.665Z"
   },
   {
    "duration": 43,
    "start_time": "2023-10-16T08:17:27.670Z"
   },
   {
    "duration": 164,
    "start_time": "2023-10-16T08:17:27.714Z"
   },
   {
    "duration": 10,
    "start_time": "2023-10-16T08:17:27.879Z"
   },
   {
    "duration": 9,
    "start_time": "2023-10-16T08:17:27.891Z"
   },
   {
    "duration": 10,
    "start_time": "2023-10-16T08:17:27.902Z"
   },
   {
    "duration": 6,
    "start_time": "2023-10-16T08:21:27.919Z"
   },
   {
    "duration": 6,
    "start_time": "2023-10-16T08:23:31.426Z"
   },
   {
    "duration": 6,
    "start_time": "2023-10-16T08:24:16.111Z"
   },
   {
    "duration": 394,
    "start_time": "2023-10-16T08:24:45.466Z"
   },
   {
    "duration": 6,
    "start_time": "2023-10-16T08:25:51.240Z"
   },
   {
    "duration": 5,
    "start_time": "2023-10-16T08:26:37.948Z"
   },
   {
    "duration": 4,
    "start_time": "2023-10-16T08:26:45.680Z"
   },
   {
    "duration": 979,
    "start_time": "2023-10-16T08:26:56.785Z"
   },
   {
    "duration": 113,
    "start_time": "2023-10-16T08:26:57.766Z"
   },
   {
    "duration": 10,
    "start_time": "2023-10-16T08:26:57.881Z"
   },
   {
    "duration": 31,
    "start_time": "2023-10-16T08:26:57.893Z"
   },
   {
    "duration": 12,
    "start_time": "2023-10-16T08:26:57.926Z"
   },
   {
    "duration": 12,
    "start_time": "2023-10-16T08:26:57.939Z"
   },
   {
    "duration": 13,
    "start_time": "2023-10-16T08:26:57.952Z"
   },
   {
    "duration": 10,
    "start_time": "2023-10-16T08:26:57.967Z"
   },
   {
    "duration": 15,
    "start_time": "2023-10-16T08:26:57.979Z"
   },
   {
    "duration": 9,
    "start_time": "2023-10-16T08:26:57.997Z"
   },
   {
    "duration": 8,
    "start_time": "2023-10-16T08:26:58.007Z"
   },
   {
    "duration": 5,
    "start_time": "2023-10-16T08:26:58.016Z"
   },
   {
    "duration": 22,
    "start_time": "2023-10-16T08:26:58.022Z"
   },
   {
    "duration": 11,
    "start_time": "2023-10-16T08:26:58.046Z"
   },
   {
    "duration": 29,
    "start_time": "2023-10-16T08:26:58.058Z"
   },
   {
    "duration": 12,
    "start_time": "2023-10-16T08:26:58.089Z"
   },
   {
    "duration": 13,
    "start_time": "2023-10-16T08:26:58.102Z"
   },
   {
    "duration": 146,
    "start_time": "2023-10-16T08:26:58.117Z"
   },
   {
    "duration": 15,
    "start_time": "2023-10-16T08:26:58.264Z"
   },
   {
    "duration": 145,
    "start_time": "2023-10-16T08:26:58.280Z"
   },
   {
    "duration": 104,
    "start_time": "2023-10-16T08:26:58.427Z"
   },
   {
    "duration": 180,
    "start_time": "2023-10-16T08:26:58.533Z"
   },
   {
    "duration": 186,
    "start_time": "2023-10-16T08:26:58.715Z"
   },
   {
    "duration": 177,
    "start_time": "2023-10-16T08:26:58.903Z"
   },
   {
    "duration": 24,
    "start_time": "2023-10-16T08:26:59.082Z"
   },
   {
    "duration": 33,
    "start_time": "2023-10-16T08:26:59.108Z"
   },
   {
    "duration": 22,
    "start_time": "2023-10-16T08:26:59.143Z"
   },
   {
    "duration": 226,
    "start_time": "2023-10-16T08:26:59.169Z"
   },
   {
    "duration": 238,
    "start_time": "2023-10-16T08:26:59.397Z"
   },
   {
    "duration": 308,
    "start_time": "2023-10-16T08:26:59.637Z"
   },
   {
    "duration": 247,
    "start_time": "2023-10-16T08:26:59.947Z"
   },
   {
    "duration": 1848,
    "start_time": "2023-10-16T08:27:00.197Z"
   },
   {
    "duration": 3,
    "start_time": "2023-10-16T08:27:02.047Z"
   },
   {
    "duration": 60,
    "start_time": "2023-10-16T08:27:02.051Z"
   },
   {
    "duration": 171,
    "start_time": "2023-10-16T08:27:02.113Z"
   },
   {
    "duration": 10,
    "start_time": "2023-10-16T08:27:02.286Z"
   },
   {
    "duration": 23,
    "start_time": "2023-10-16T08:27:02.298Z"
   },
   {
    "duration": 34,
    "start_time": "2023-10-16T08:27:02.323Z"
   },
   {
    "duration": 2,
    "start_time": "2023-10-16T08:57:05.966Z"
   },
   {
    "duration": 60,
    "start_time": "2023-10-16T08:57:20.569Z"
   },
   {
    "duration": 125,
    "start_time": "2023-10-16T08:59:38.942Z"
   },
   {
    "duration": 18,
    "start_time": "2023-10-16T09:00:05.132Z"
   },
   {
    "duration": 994,
    "start_time": "2023-10-16T09:00:16.471Z"
   },
   {
    "duration": 119,
    "start_time": "2023-10-16T09:00:17.466Z"
   },
   {
    "duration": 11,
    "start_time": "2023-10-16T09:00:17.587Z"
   },
   {
    "duration": 38,
    "start_time": "2023-10-16T09:00:17.600Z"
   },
   {
    "duration": 27,
    "start_time": "2023-10-16T09:00:17.639Z"
   },
   {
    "duration": 33,
    "start_time": "2023-10-16T09:00:17.667Z"
   },
   {
    "duration": 50,
    "start_time": "2023-10-16T09:00:17.702Z"
   },
   {
    "duration": 61,
    "start_time": "2023-10-16T09:00:17.753Z"
   },
   {
    "duration": 36,
    "start_time": "2023-10-16T09:00:17.816Z"
   },
   {
    "duration": 45,
    "start_time": "2023-10-16T09:00:17.855Z"
   },
   {
    "duration": 31,
    "start_time": "2023-10-16T09:00:17.902Z"
   },
   {
    "duration": 47,
    "start_time": "2023-10-16T09:00:17.934Z"
   },
   {
    "duration": 47,
    "start_time": "2023-10-16T09:00:17.982Z"
   },
   {
    "duration": 21,
    "start_time": "2023-10-16T09:00:18.031Z"
   },
   {
    "duration": 43,
    "start_time": "2023-10-16T09:00:18.054Z"
   },
   {
    "duration": 48,
    "start_time": "2023-10-16T09:00:18.099Z"
   },
   {
    "duration": 94,
    "start_time": "2023-10-16T09:00:18.149Z"
   },
   {
    "duration": 153,
    "start_time": "2023-10-16T09:00:18.244Z"
   },
   {
    "duration": 15,
    "start_time": "2023-10-16T09:00:18.399Z"
   },
   {
    "duration": 26,
    "start_time": "2023-10-16T09:00:18.415Z"
   },
   {
    "duration": 207,
    "start_time": "2023-10-16T09:00:18.443Z"
   },
   {
    "duration": 113,
    "start_time": "2023-10-16T09:00:18.651Z"
   },
   {
    "duration": 177,
    "start_time": "2023-10-16T09:00:18.766Z"
   },
   {
    "duration": 179,
    "start_time": "2023-10-16T09:00:18.945Z"
   },
   {
    "duration": 204,
    "start_time": "2023-10-16T09:00:19.126Z"
   },
   {
    "duration": 33,
    "start_time": "2023-10-16T09:00:19.332Z"
   },
   {
    "duration": 34,
    "start_time": "2023-10-16T09:00:19.368Z"
   },
   {
    "duration": 15,
    "start_time": "2023-10-16T09:00:19.405Z"
   },
   {
    "duration": 252,
    "start_time": "2023-10-16T09:00:19.422Z"
   },
   {
    "duration": 308,
    "start_time": "2023-10-16T09:00:19.676Z"
   },
   {
    "duration": 230,
    "start_time": "2023-10-16T09:00:19.986Z"
   },
   {
    "duration": 235,
    "start_time": "2023-10-16T09:00:20.218Z"
   },
   {
    "duration": 1595,
    "start_time": "2023-10-16T09:00:20.455Z"
   },
   {
    "duration": 4,
    "start_time": "2023-10-16T09:00:22.052Z"
   },
   {
    "duration": 12,
    "start_time": "2023-10-16T09:00:22.058Z"
   },
   {
    "duration": 391,
    "start_time": "2023-10-16T09:00:22.071Z"
   },
   {
    "duration": 12,
    "start_time": "2023-10-16T09:00:22.464Z"
   },
   {
    "duration": 73,
    "start_time": "2023-10-16T09:00:22.478Z"
   },
   {
    "duration": 21,
    "start_time": "2023-10-16T09:00:22.552Z"
   },
   {
    "duration": 111,
    "start_time": "2023-10-16T09:04:09.270Z"
   },
   {
    "duration": 1162,
    "start_time": "2023-10-16T09:04:24.035Z"
   },
   {
    "duration": 125,
    "start_time": "2023-10-16T09:04:25.199Z"
   },
   {
    "duration": 12,
    "start_time": "2023-10-16T09:04:25.326Z"
   },
   {
    "duration": 29,
    "start_time": "2023-10-16T09:04:25.340Z"
   },
   {
    "duration": 18,
    "start_time": "2023-10-16T09:04:25.371Z"
   },
   {
    "duration": 10,
    "start_time": "2023-10-16T09:04:25.391Z"
   },
   {
    "duration": 16,
    "start_time": "2023-10-16T09:04:25.403Z"
   },
   {
    "duration": 19,
    "start_time": "2023-10-16T09:04:25.421Z"
   },
   {
    "duration": 59,
    "start_time": "2023-10-16T09:04:25.442Z"
   },
   {
    "duration": 138,
    "start_time": "2023-10-16T09:04:25.505Z"
   },
   {
    "duration": 21,
    "start_time": "2023-10-16T09:04:25.646Z"
   },
   {
    "duration": 45,
    "start_time": "2023-10-16T09:04:25.669Z"
   },
   {
    "duration": 27,
    "start_time": "2023-10-16T09:04:25.715Z"
   },
   {
    "duration": 29,
    "start_time": "2023-10-16T09:04:25.744Z"
   },
   {
    "duration": 30,
    "start_time": "2023-10-16T09:04:25.775Z"
   },
   {
    "duration": 13,
    "start_time": "2023-10-16T09:04:25.807Z"
   },
   {
    "duration": 24,
    "start_time": "2023-10-16T09:04:25.822Z"
   },
   {
    "duration": 141,
    "start_time": "2023-10-16T09:04:25.848Z"
   },
   {
    "duration": 122,
    "start_time": "2023-10-16T09:04:25.991Z"
   },
   {
    "duration": 0,
    "start_time": "2023-10-16T09:04:26.115Z"
   },
   {
    "duration": 0,
    "start_time": "2023-10-16T09:04:26.117Z"
   },
   {
    "duration": 0,
    "start_time": "2023-10-16T09:04:26.118Z"
   },
   {
    "duration": 1,
    "start_time": "2023-10-16T09:04:26.119Z"
   },
   {
    "duration": 0,
    "start_time": "2023-10-16T09:04:26.121Z"
   },
   {
    "duration": 0,
    "start_time": "2023-10-16T09:04:26.122Z"
   },
   {
    "duration": 0,
    "start_time": "2023-10-16T09:04:26.123Z"
   },
   {
    "duration": 0,
    "start_time": "2023-10-16T09:04:26.125Z"
   },
   {
    "duration": 0,
    "start_time": "2023-10-16T09:04:26.145Z"
   },
   {
    "duration": 1,
    "start_time": "2023-10-16T09:04:26.146Z"
   },
   {
    "duration": 0,
    "start_time": "2023-10-16T09:04:26.148Z"
   },
   {
    "duration": 0,
    "start_time": "2023-10-16T09:04:26.150Z"
   },
   {
    "duration": 0,
    "start_time": "2023-10-16T09:04:26.151Z"
   },
   {
    "duration": 0,
    "start_time": "2023-10-16T09:04:26.152Z"
   },
   {
    "duration": 0,
    "start_time": "2023-10-16T09:04:26.154Z"
   },
   {
    "duration": 0,
    "start_time": "2023-10-16T09:04:26.155Z"
   },
   {
    "duration": 0,
    "start_time": "2023-10-16T09:04:26.156Z"
   },
   {
    "duration": 0,
    "start_time": "2023-10-16T09:04:26.157Z"
   },
   {
    "duration": 0,
    "start_time": "2023-10-16T09:04:26.158Z"
   },
   {
    "duration": 0,
    "start_time": "2023-10-16T09:04:26.159Z"
   },
   {
    "duration": 16,
    "start_time": "2023-10-16T09:04:55.970Z"
   },
   {
    "duration": 1064,
    "start_time": "2023-10-16T09:06:46.508Z"
   },
   {
    "duration": 118,
    "start_time": "2023-10-16T09:06:47.574Z"
   },
   {
    "duration": 12,
    "start_time": "2023-10-16T09:06:47.693Z"
   },
   {
    "duration": 60,
    "start_time": "2023-10-16T09:06:47.708Z"
   },
   {
    "duration": 14,
    "start_time": "2023-10-16T09:06:47.770Z"
   },
   {
    "duration": 9,
    "start_time": "2023-10-16T09:06:47.785Z"
   },
   {
    "duration": 26,
    "start_time": "2023-10-16T09:06:47.795Z"
   },
   {
    "duration": 13,
    "start_time": "2023-10-16T09:06:47.823Z"
   },
   {
    "duration": 18,
    "start_time": "2023-10-16T09:06:47.838Z"
   },
   {
    "duration": 10,
    "start_time": "2023-10-16T09:06:47.859Z"
   },
   {
    "duration": 6,
    "start_time": "2023-10-16T09:06:47.871Z"
   },
   {
    "duration": 18,
    "start_time": "2023-10-16T09:06:47.878Z"
   },
   {
    "duration": 26,
    "start_time": "2023-10-16T09:06:47.898Z"
   },
   {
    "duration": 11,
    "start_time": "2023-10-16T09:06:47.925Z"
   },
   {
    "duration": 21,
    "start_time": "2023-10-16T09:06:47.938Z"
   },
   {
    "duration": 11,
    "start_time": "2023-10-16T09:06:47.961Z"
   },
   {
    "duration": 17,
    "start_time": "2023-10-16T09:06:47.973Z"
   },
   {
    "duration": 156,
    "start_time": "2023-10-16T09:06:47.991Z"
   },
   {
    "duration": 154,
    "start_time": "2023-10-16T09:06:48.148Z"
   },
   {
    "duration": 108,
    "start_time": "2023-10-16T09:06:48.304Z"
   },
   {
    "duration": 215,
    "start_time": "2023-10-16T09:06:48.414Z"
   },
   {
    "duration": 213,
    "start_time": "2023-10-16T09:06:48.631Z"
   },
   {
    "duration": 200,
    "start_time": "2023-10-16T09:06:48.846Z"
   },
   {
    "duration": 25,
    "start_time": "2023-10-16T09:06:49.047Z"
   },
   {
    "duration": 16,
    "start_time": "2023-10-16T09:06:49.074Z"
   },
   {
    "duration": 14,
    "start_time": "2023-10-16T09:06:49.092Z"
   },
   {
    "duration": 262,
    "start_time": "2023-10-16T09:06:49.108Z"
   },
   {
    "duration": 245,
    "start_time": "2023-10-16T09:06:49.374Z"
   },
   {
    "duration": 319,
    "start_time": "2023-10-16T09:06:49.620Z"
   },
   {
    "duration": 256,
    "start_time": "2023-10-16T09:06:49.944Z"
   },
   {
    "duration": 831,
    "start_time": "2023-10-16T09:06:50.202Z"
   },
   {
    "duration": 10,
    "start_time": "2023-10-16T09:06:51.035Z"
   },
   {
    "duration": 36,
    "start_time": "2023-10-16T09:06:51.047Z"
   },
   {
    "duration": 181,
    "start_time": "2023-10-16T09:06:51.085Z"
   },
   {
    "duration": 14,
    "start_time": "2023-10-16T09:06:51.268Z"
   },
   {
    "duration": 42,
    "start_time": "2023-10-16T09:06:51.284Z"
   },
   {
    "duration": 28,
    "start_time": "2023-10-16T09:06:51.328Z"
   },
   {
    "duration": 128,
    "start_time": "2023-10-16T09:12:52.195Z"
   },
   {
    "duration": 5,
    "start_time": "2023-10-16T09:13:29.925Z"
   },
   {
    "duration": 96,
    "start_time": "2023-10-16T09:16:18.820Z"
   },
   {
    "duration": 272,
    "start_time": "2023-10-16T09:16:27.218Z"
   },
   {
    "duration": 133,
    "start_time": "2023-10-16T09:16:55.006Z"
   },
   {
    "duration": 13,
    "start_time": "2023-10-16T09:17:14.882Z"
   },
   {
    "duration": 5,
    "start_time": "2023-10-16T09:18:13.909Z"
   },
   {
    "duration": 142,
    "start_time": "2023-10-16T09:19:07.046Z"
   },
   {
    "duration": 18,
    "start_time": "2023-10-16T09:19:27.430Z"
   },
   {
    "duration": 14,
    "start_time": "2023-10-16T09:20:30.980Z"
   },
   {
    "duration": 16,
    "start_time": "2023-10-16T09:20:34.941Z"
   },
   {
    "duration": 11,
    "start_time": "2023-10-16T09:20:58.092Z"
   },
   {
    "duration": 1158,
    "start_time": "2023-10-16T09:21:04.440Z"
   },
   {
    "duration": 124,
    "start_time": "2023-10-16T09:21:05.600Z"
   },
   {
    "duration": 12,
    "start_time": "2023-10-16T09:21:05.726Z"
   },
   {
    "duration": 40,
    "start_time": "2023-10-16T09:21:05.741Z"
   },
   {
    "duration": 45,
    "start_time": "2023-10-16T09:21:05.783Z"
   },
   {
    "duration": 42,
    "start_time": "2023-10-16T09:21:05.830Z"
   },
   {
    "duration": 57,
    "start_time": "2023-10-16T09:21:05.874Z"
   },
   {
    "duration": 53,
    "start_time": "2023-10-16T09:21:05.933Z"
   },
   {
    "duration": 38,
    "start_time": "2023-10-16T09:21:05.988Z"
   },
   {
    "duration": 31,
    "start_time": "2023-10-16T09:21:06.028Z"
   },
   {
    "duration": 16,
    "start_time": "2023-10-16T09:21:06.060Z"
   },
   {
    "duration": 25,
    "start_time": "2023-10-16T09:21:06.077Z"
   },
   {
    "duration": 32,
    "start_time": "2023-10-16T09:21:06.103Z"
   },
   {
    "duration": 33,
    "start_time": "2023-10-16T09:21:06.137Z"
   },
   {
    "duration": 27,
    "start_time": "2023-10-16T09:21:06.172Z"
   },
   {
    "duration": 113,
    "start_time": "2023-10-16T09:21:06.201Z"
   },
   {
    "duration": 159,
    "start_time": "2023-10-16T09:21:06.316Z"
   },
   {
    "duration": 493,
    "start_time": "2023-10-16T09:21:06.477Z"
   },
   {
    "duration": 6,
    "start_time": "2023-10-16T09:21:06.972Z"
   },
   {
    "duration": 130,
    "start_time": "2023-10-16T09:21:06.979Z"
   },
   {
    "duration": 0,
    "start_time": "2023-10-16T09:21:07.111Z"
   },
   {
    "duration": 0,
    "start_time": "2023-10-16T09:21:07.112Z"
   },
   {
    "duration": 0,
    "start_time": "2023-10-16T09:21:07.113Z"
   },
   {
    "duration": 0,
    "start_time": "2023-10-16T09:21:07.114Z"
   },
   {
    "duration": 0,
    "start_time": "2023-10-16T09:21:07.115Z"
   },
   {
    "duration": 0,
    "start_time": "2023-10-16T09:21:07.116Z"
   },
   {
    "duration": 0,
    "start_time": "2023-10-16T09:21:07.117Z"
   },
   {
    "duration": 0,
    "start_time": "2023-10-16T09:21:07.119Z"
   },
   {
    "duration": 0,
    "start_time": "2023-10-16T09:21:07.120Z"
   },
   {
    "duration": 0,
    "start_time": "2023-10-16T09:21:07.121Z"
   },
   {
    "duration": 0,
    "start_time": "2023-10-16T09:21:07.144Z"
   },
   {
    "duration": 0,
    "start_time": "2023-10-16T09:21:07.145Z"
   },
   {
    "duration": 0,
    "start_time": "2023-10-16T09:21:07.146Z"
   },
   {
    "duration": 0,
    "start_time": "2023-10-16T09:21:07.147Z"
   },
   {
    "duration": 0,
    "start_time": "2023-10-16T09:21:07.148Z"
   },
   {
    "duration": 0,
    "start_time": "2023-10-16T09:21:07.149Z"
   },
   {
    "duration": 0,
    "start_time": "2023-10-16T09:21:07.150Z"
   },
   {
    "duration": 0,
    "start_time": "2023-10-16T09:21:07.151Z"
   },
   {
    "duration": 5,
    "start_time": "2023-10-16T09:24:10.242Z"
   },
   {
    "duration": 10,
    "start_time": "2023-10-16T09:24:16.893Z"
   },
   {
    "duration": 8,
    "start_time": "2023-10-16T09:24:57.115Z"
   },
   {
    "duration": 137,
    "start_time": "2023-10-16T09:26:22.204Z"
   },
   {
    "duration": 133,
    "start_time": "2023-10-16T09:26:47.257Z"
   },
   {
    "duration": 143,
    "start_time": "2023-10-16T09:26:59.321Z"
   },
   {
    "duration": 161,
    "start_time": "2023-10-16T09:27:02.446Z"
   },
   {
    "duration": 149,
    "start_time": "2023-10-16T09:27:07.059Z"
   },
   {
    "duration": 139,
    "start_time": "2023-10-16T09:27:11.197Z"
   },
   {
    "duration": 1027,
    "start_time": "2023-10-16T09:27:14.727Z"
   },
   {
    "duration": 449,
    "start_time": "2023-10-16T09:27:19.959Z"
   },
   {
    "duration": 219,
    "start_time": "2023-10-16T09:27:23.878Z"
   },
   {
    "duration": 270,
    "start_time": "2023-10-16T09:27:32.997Z"
   },
   {
    "duration": 178,
    "start_time": "2023-10-16T09:27:39.434Z"
   },
   {
    "duration": 186,
    "start_time": "2023-10-16T09:27:47.237Z"
   },
   {
    "duration": 142,
    "start_time": "2023-10-16T09:28:00.371Z"
   },
   {
    "duration": 145,
    "start_time": "2023-10-16T09:29:21.480Z"
   },
   {
    "duration": 1115,
    "start_time": "2023-10-16T09:30:30.440Z"
   },
   {
    "duration": 130,
    "start_time": "2023-10-16T09:30:31.558Z"
   },
   {
    "duration": 16,
    "start_time": "2023-10-16T09:30:31.690Z"
   },
   {
    "duration": 55,
    "start_time": "2023-10-16T09:30:31.709Z"
   },
   {
    "duration": 122,
    "start_time": "2023-10-16T09:30:31.766Z"
   },
   {
    "duration": 31,
    "start_time": "2023-10-16T09:30:31.890Z"
   },
   {
    "duration": 72,
    "start_time": "2023-10-16T09:30:31.923Z"
   },
   {
    "duration": 41,
    "start_time": "2023-10-16T09:30:31.997Z"
   },
   {
    "duration": 106,
    "start_time": "2023-10-16T09:30:32.040Z"
   },
   {
    "duration": 37,
    "start_time": "2023-10-16T09:30:32.150Z"
   },
   {
    "duration": 27,
    "start_time": "2023-10-16T09:30:32.188Z"
   },
   {
    "duration": 32,
    "start_time": "2023-10-16T09:30:32.217Z"
   },
   {
    "duration": 24,
    "start_time": "2023-10-16T09:30:32.254Z"
   },
   {
    "duration": 59,
    "start_time": "2023-10-16T09:30:32.280Z"
   },
   {
    "duration": 51,
    "start_time": "2023-10-16T09:30:32.341Z"
   },
   {
    "duration": 25,
    "start_time": "2023-10-16T09:30:32.394Z"
   },
   {
    "duration": 49,
    "start_time": "2023-10-16T09:30:32.420Z"
   },
   {
    "duration": 227,
    "start_time": "2023-10-16T09:30:32.471Z"
   },
   {
    "duration": 6,
    "start_time": "2023-10-16T09:30:32.700Z"
   },
   {
    "duration": 205,
    "start_time": "2023-10-16T09:30:32.708Z"
   },
   {
    "duration": 147,
    "start_time": "2023-10-16T09:30:32.915Z"
   },
   {
    "duration": 191,
    "start_time": "2023-10-16T09:30:33.065Z"
   },
   {
    "duration": 203,
    "start_time": "2023-10-16T09:30:33.258Z"
   },
   {
    "duration": 210,
    "start_time": "2023-10-16T09:30:33.463Z"
   },
   {
    "duration": 24,
    "start_time": "2023-10-16T09:30:33.675Z"
   },
   {
    "duration": 26,
    "start_time": "2023-10-16T09:30:33.701Z"
   },
   {
    "duration": 31,
    "start_time": "2023-10-16T09:30:33.728Z"
   },
   {
    "duration": 262,
    "start_time": "2023-10-16T09:30:33.762Z"
   },
   {
    "duration": 393,
    "start_time": "2023-10-16T09:30:34.026Z"
   },
   {
    "duration": 389,
    "start_time": "2023-10-16T09:30:34.421Z"
   },
   {
    "duration": 268,
    "start_time": "2023-10-16T09:30:34.812Z"
   },
   {
    "duration": 907,
    "start_time": "2023-10-16T09:30:35.082Z"
   },
   {
    "duration": 3,
    "start_time": "2023-10-16T09:30:35.992Z"
   },
   {
    "duration": 26,
    "start_time": "2023-10-16T09:30:35.997Z"
   },
   {
    "duration": 192,
    "start_time": "2023-10-16T09:30:36.025Z"
   },
   {
    "duration": 12,
    "start_time": "2023-10-16T09:30:36.219Z"
   },
   {
    "duration": 30,
    "start_time": "2023-10-16T09:30:36.232Z"
   },
   {
    "duration": 51,
    "start_time": "2023-10-16T09:30:36.264Z"
   },
   {
    "duration": 129,
    "start_time": "2023-10-16T09:31:33.964Z"
   },
   {
    "duration": 517,
    "start_time": "2023-10-16T09:31:37.413Z"
   },
   {
    "duration": 740,
    "start_time": "2023-10-16T09:31:57.342Z"
   },
   {
    "duration": 119,
    "start_time": "2023-10-16T09:32:16.357Z"
   },
   {
    "duration": 5,
    "start_time": "2023-10-16T09:33:19.787Z"
   },
   {
    "duration": 93,
    "start_time": "2023-10-16T09:34:40.199Z"
   },
   {
    "duration": 85,
    "start_time": "2023-10-16T09:35:58.159Z"
   },
   {
    "duration": 55,
    "start_time": "2023-10-16T11:15:16.415Z"
   },
   {
    "duration": 1390,
    "start_time": "2023-10-16T11:15:21.748Z"
   },
   {
    "duration": 391,
    "start_time": "2023-10-16T11:15:23.140Z"
   },
   {
    "duration": 14,
    "start_time": "2023-10-16T11:15:23.533Z"
   },
   {
    "duration": 23,
    "start_time": "2023-10-16T11:15:23.550Z"
   },
   {
    "duration": 14,
    "start_time": "2023-10-16T11:15:23.575Z"
   },
   {
    "duration": 10,
    "start_time": "2023-10-16T11:15:23.591Z"
   },
   {
    "duration": 21,
    "start_time": "2023-10-16T11:15:23.603Z"
   },
   {
    "duration": 27,
    "start_time": "2023-10-16T11:15:23.626Z"
   },
   {
    "duration": 36,
    "start_time": "2023-10-16T11:15:23.655Z"
   },
   {
    "duration": 23,
    "start_time": "2023-10-16T11:15:23.695Z"
   },
   {
    "duration": 21,
    "start_time": "2023-10-16T11:15:23.720Z"
   },
   {
    "duration": 23,
    "start_time": "2023-10-16T11:15:23.742Z"
   },
   {
    "duration": 27,
    "start_time": "2023-10-16T11:15:23.767Z"
   },
   {
    "duration": 23,
    "start_time": "2023-10-16T11:15:23.796Z"
   },
   {
    "duration": 94,
    "start_time": "2023-10-16T11:15:23.821Z"
   },
   {
    "duration": 25,
    "start_time": "2023-10-16T11:15:23.917Z"
   },
   {
    "duration": 48,
    "start_time": "2023-10-16T11:15:23.943Z"
   },
   {
    "duration": 171,
    "start_time": "2023-10-16T11:15:23.993Z"
   },
   {
    "duration": 7,
    "start_time": "2023-10-16T11:15:24.166Z"
   },
   {
    "duration": 178,
    "start_time": "2023-10-16T11:15:24.174Z"
   },
   {
    "duration": 114,
    "start_time": "2023-10-16T11:15:24.356Z"
   },
   {
    "duration": 7,
    "start_time": "2023-10-16T11:15:24.472Z"
   },
   {
    "duration": 202,
    "start_time": "2023-10-16T11:15:24.481Z"
   },
   {
    "duration": 221,
    "start_time": "2023-10-16T11:15:24.685Z"
   },
   {
    "duration": 215,
    "start_time": "2023-10-16T11:15:24.908Z"
   },
   {
    "duration": 37,
    "start_time": "2023-10-16T11:15:25.125Z"
   },
   {
    "duration": 18,
    "start_time": "2023-10-16T11:15:25.164Z"
   },
   {
    "duration": 24,
    "start_time": "2023-10-16T11:15:25.185Z"
   },
   {
    "duration": 278,
    "start_time": "2023-10-16T11:15:25.211Z"
   },
   {
    "duration": 290,
    "start_time": "2023-10-16T11:15:25.491Z"
   },
   {
    "duration": 357,
    "start_time": "2023-10-16T11:15:25.783Z"
   },
   {
    "duration": 265,
    "start_time": "2023-10-16T11:15:26.142Z"
   },
   {
    "duration": 904,
    "start_time": "2023-10-16T11:15:26.409Z"
   },
   {
    "duration": 4,
    "start_time": "2023-10-16T11:15:27.315Z"
   },
   {
    "duration": 22,
    "start_time": "2023-10-16T11:15:27.320Z"
   },
   {
    "duration": 186,
    "start_time": "2023-10-16T11:15:27.344Z"
   },
   {
    "duration": 26,
    "start_time": "2023-10-16T11:15:27.532Z"
   },
   {
    "duration": 18,
    "start_time": "2023-10-16T11:15:27.560Z"
   },
   {
    "duration": 47,
    "start_time": "2023-10-16T11:15:27.580Z"
   },
   {
    "duration": 170,
    "start_time": "2023-10-16T11:15:44.115Z"
   },
   {
    "duration": 206,
    "start_time": "2023-10-16T11:18:14.841Z"
   },
   {
    "duration": 170,
    "start_time": "2023-10-16T11:18:20.415Z"
   },
   {
    "duration": 202,
    "start_time": "2023-10-16T11:18:26.047Z"
   },
   {
    "duration": 12,
    "start_time": "2023-10-16T11:19:07.436Z"
   },
   {
    "duration": 18,
    "start_time": "2023-10-16T11:22:02.027Z"
   },
   {
    "duration": 14,
    "start_time": "2023-10-16T11:22:11.854Z"
   },
   {
    "duration": 22,
    "start_time": "2023-10-16T11:23:15.722Z"
   },
   {
    "duration": 19,
    "start_time": "2023-10-16T11:23:39.443Z"
   },
   {
    "duration": 13,
    "start_time": "2023-10-16T11:24:00.321Z"
   },
   {
    "duration": 14,
    "start_time": "2023-10-16T11:24:09.269Z"
   },
   {
    "duration": 14,
    "start_time": "2023-10-16T11:24:38.123Z"
   },
   {
    "duration": 16,
    "start_time": "2023-10-16T11:24:45.400Z"
   },
   {
    "duration": 25,
    "start_time": "2023-10-16T11:25:38.657Z"
   },
   {
    "duration": 25,
    "start_time": "2023-10-16T11:26:07.984Z"
   },
   {
    "duration": 1233,
    "start_time": "2023-10-16T11:27:23.087Z"
   },
   {
    "duration": 138,
    "start_time": "2023-10-16T11:27:24.323Z"
   },
   {
    "duration": 18,
    "start_time": "2023-10-16T11:27:24.464Z"
   },
   {
    "duration": 104,
    "start_time": "2023-10-16T11:27:24.486Z"
   },
   {
    "duration": 191,
    "start_time": "2023-10-16T11:27:24.592Z"
   },
   {
    "duration": 219,
    "start_time": "2023-10-16T11:27:24.785Z"
   },
   {
    "duration": 127,
    "start_time": "2023-10-16T11:27:25.006Z"
   },
   {
    "duration": 56,
    "start_time": "2023-10-16T11:27:25.136Z"
   },
   {
    "duration": 39,
    "start_time": "2023-10-16T11:27:25.194Z"
   },
   {
    "duration": 33,
    "start_time": "2023-10-16T11:27:25.237Z"
   },
   {
    "duration": 88,
    "start_time": "2023-10-16T11:27:25.272Z"
   },
   {
    "duration": 60,
    "start_time": "2023-10-16T11:27:25.363Z"
   },
   {
    "duration": 40,
    "start_time": "2023-10-16T11:27:25.425Z"
   },
   {
    "duration": 106,
    "start_time": "2023-10-16T11:27:25.468Z"
   },
   {
    "duration": 294,
    "start_time": "2023-10-16T11:27:25.577Z"
   },
   {
    "duration": 15,
    "start_time": "2023-10-16T11:27:25.873Z"
   },
   {
    "duration": 22,
    "start_time": "2023-10-16T11:27:25.891Z"
   },
   {
    "duration": 170,
    "start_time": "2023-10-16T11:27:25.915Z"
   },
   {
    "duration": 7,
    "start_time": "2023-10-16T11:27:26.087Z"
   },
   {
    "duration": 182,
    "start_time": "2023-10-16T11:27:26.096Z"
   },
   {
    "duration": 119,
    "start_time": "2023-10-16T11:27:26.280Z"
   },
   {
    "duration": 7,
    "start_time": "2023-10-16T11:27:26.401Z"
   },
   {
    "duration": 186,
    "start_time": "2023-10-16T11:27:26.410Z"
   },
   {
    "duration": 212,
    "start_time": "2023-10-16T11:27:26.598Z"
   },
   {
    "duration": 12,
    "start_time": "2023-10-16T11:27:26.812Z"
   },
   {
    "duration": 35,
    "start_time": "2023-10-16T11:27:26.825Z"
   },
   {
    "duration": 222,
    "start_time": "2023-10-16T11:27:26.862Z"
   },
   {
    "duration": 30,
    "start_time": "2023-10-16T11:27:27.088Z"
   },
   {
    "duration": 92,
    "start_time": "2023-10-16T11:27:27.120Z"
   },
   {
    "duration": 90,
    "start_time": "2023-10-16T11:27:27.214Z"
   },
   {
    "duration": 266,
    "start_time": "2023-10-16T11:27:27.307Z"
   },
   {
    "duration": 384,
    "start_time": "2023-10-16T11:27:27.575Z"
   },
   {
    "duration": 326,
    "start_time": "2023-10-16T11:27:27.961Z"
   },
   {
    "duration": 290,
    "start_time": "2023-10-16T11:27:28.289Z"
   },
   {
    "duration": 1031,
    "start_time": "2023-10-16T11:27:28.581Z"
   },
   {
    "duration": 4,
    "start_time": "2023-10-16T11:27:29.614Z"
   },
   {
    "duration": 60,
    "start_time": "2023-10-16T11:27:29.620Z"
   },
   {
    "duration": 194,
    "start_time": "2023-10-16T11:27:29.682Z"
   },
   {
    "duration": 14,
    "start_time": "2023-10-16T11:27:29.878Z"
   },
   {
    "duration": 46,
    "start_time": "2023-10-16T11:27:29.894Z"
   },
   {
    "duration": 38,
    "start_time": "2023-10-16T11:27:29.943Z"
   },
   {
    "duration": 9,
    "start_time": "2023-10-16T11:29:27.202Z"
   },
   {
    "duration": 204,
    "start_time": "2023-10-16T11:32:04.025Z"
   },
   {
    "duration": 207,
    "start_time": "2023-10-16T11:32:49.462Z"
   },
   {
    "duration": 197,
    "start_time": "2023-10-16T11:33:09.435Z"
   },
   {
    "duration": 1181,
    "start_time": "2023-10-16T11:34:26.607Z"
   },
   {
    "duration": 150,
    "start_time": "2023-10-16T11:34:27.790Z"
   },
   {
    "duration": 14,
    "start_time": "2023-10-16T11:34:27.942Z"
   },
   {
    "duration": 21,
    "start_time": "2023-10-16T11:34:27.958Z"
   },
   {
    "duration": 29,
    "start_time": "2023-10-16T11:34:27.981Z"
   },
   {
    "duration": 10,
    "start_time": "2023-10-16T11:34:28.012Z"
   },
   {
    "duration": 28,
    "start_time": "2023-10-16T11:34:28.024Z"
   },
   {
    "duration": 26,
    "start_time": "2023-10-16T11:34:28.053Z"
   },
   {
    "duration": 29,
    "start_time": "2023-10-16T11:34:28.081Z"
   },
   {
    "duration": 13,
    "start_time": "2023-10-16T11:34:28.113Z"
   },
   {
    "duration": 24,
    "start_time": "2023-10-16T11:34:28.128Z"
   },
   {
    "duration": 22,
    "start_time": "2023-10-16T11:34:28.154Z"
   },
   {
    "duration": 17,
    "start_time": "2023-10-16T11:34:28.178Z"
   },
   {
    "duration": 32,
    "start_time": "2023-10-16T11:34:28.197Z"
   },
   {
    "duration": 34,
    "start_time": "2023-10-16T11:34:28.231Z"
   },
   {
    "duration": 29,
    "start_time": "2023-10-16T11:34:28.267Z"
   },
   {
    "duration": 35,
    "start_time": "2023-10-16T11:34:28.299Z"
   },
   {
    "duration": 161,
    "start_time": "2023-10-16T11:34:28.337Z"
   },
   {
    "duration": 7,
    "start_time": "2023-10-16T11:34:28.501Z"
   },
   {
    "duration": 203,
    "start_time": "2023-10-16T11:34:28.510Z"
   },
   {
    "duration": 130,
    "start_time": "2023-10-16T11:34:28.716Z"
   },
   {
    "duration": 10,
    "start_time": "2023-10-16T11:34:28.855Z"
   },
   {
    "duration": 204,
    "start_time": "2023-10-16T11:34:28.866Z"
   },
   {
    "duration": 212,
    "start_time": "2023-10-16T11:34:29.072Z"
   },
   {
    "duration": 10,
    "start_time": "2023-10-16T11:34:29.286Z"
   },
   {
    "duration": 42,
    "start_time": "2023-10-16T11:34:29.297Z"
   },
   {
    "duration": 197,
    "start_time": "2023-10-16T11:34:29.341Z"
   },
   {
    "duration": 38,
    "start_time": "2023-10-16T11:34:29.542Z"
   },
   {
    "duration": 18,
    "start_time": "2023-10-16T11:34:29.582Z"
   },
   {
    "duration": 22,
    "start_time": "2023-10-16T11:34:29.602Z"
   },
   {
    "duration": 292,
    "start_time": "2023-10-16T11:34:29.626Z"
   },
   {
    "duration": 361,
    "start_time": "2023-10-16T11:34:29.920Z"
   },
   {
    "duration": 279,
    "start_time": "2023-10-16T11:34:30.284Z"
   },
   {
    "duration": 276,
    "start_time": "2023-10-16T11:34:30.565Z"
   },
   {
    "duration": 931,
    "start_time": "2023-10-16T11:34:30.843Z"
   },
   {
    "duration": 5,
    "start_time": "2023-10-16T11:34:31.775Z"
   },
   {
    "duration": 120,
    "start_time": "2023-10-16T11:34:31.782Z"
   },
   {
    "duration": 285,
    "start_time": "2023-10-16T11:34:31.905Z"
   },
   {
    "duration": 14,
    "start_time": "2023-10-16T11:34:32.192Z"
   },
   {
    "duration": 44,
    "start_time": "2023-10-16T11:34:32.208Z"
   },
   {
    "duration": 53,
    "start_time": "2023-10-16T11:34:32.254Z"
   },
   {
    "duration": 32,
    "start_time": "2023-10-16T11:35:14.297Z"
   },
   {
    "duration": 12,
    "start_time": "2023-10-16T11:37:10.684Z"
   },
   {
    "duration": 70,
    "start_time": "2023-10-16T11:41:01.570Z"
   },
   {
    "duration": 27,
    "start_time": "2023-10-16T11:42:23.303Z"
   },
   {
    "duration": 386,
    "start_time": "2023-10-16T11:46:11.160Z"
   },
   {
    "duration": 496,
    "start_time": "2023-10-16T11:46:27.473Z"
   },
   {
    "duration": 266,
    "start_time": "2023-10-16T12:05:13.637Z"
   },
   {
    "duration": 279,
    "start_time": "2023-10-16T12:05:18.561Z"
   },
   {
    "duration": 392,
    "start_time": "2023-10-16T12:06:09.724Z"
   },
   {
    "duration": 576,
    "start_time": "2023-10-16T12:06:36.562Z"
   },
   {
    "duration": 280,
    "start_time": "2023-10-16T12:07:06.205Z"
   },
   {
    "duration": 275,
    "start_time": "2023-10-16T12:07:19.413Z"
   },
   {
    "duration": 17,
    "start_time": "2023-10-16T12:09:34.673Z"
   },
   {
    "duration": 9,
    "start_time": "2023-10-16T12:09:47.673Z"
   },
   {
    "duration": 66,
    "start_time": "2023-10-16T12:14:30.578Z"
   },
   {
    "duration": 1402,
    "start_time": "2023-10-16T12:14:37.206Z"
   },
   {
    "duration": 90,
    "start_time": "2023-10-16T12:14:38.611Z"
   },
   {
    "duration": 16,
    "start_time": "2023-10-16T12:14:38.704Z"
   },
   {
    "duration": 18,
    "start_time": "2023-10-16T12:14:38.722Z"
   },
   {
    "duration": 30,
    "start_time": "2023-10-16T12:14:38.742Z"
   },
   {
    "duration": 11,
    "start_time": "2023-10-16T12:14:38.775Z"
   },
   {
    "duration": 29,
    "start_time": "2023-10-16T12:14:38.788Z"
   },
   {
    "duration": 28,
    "start_time": "2023-10-16T12:14:38.818Z"
   },
   {
    "duration": 43,
    "start_time": "2023-10-16T12:14:38.849Z"
   },
   {
    "duration": 16,
    "start_time": "2023-10-16T12:14:38.895Z"
   },
   {
    "duration": 10,
    "start_time": "2023-10-16T12:14:38.913Z"
   },
   {
    "duration": 24,
    "start_time": "2023-10-16T12:14:38.925Z"
   },
   {
    "duration": 23,
    "start_time": "2023-10-16T12:14:38.951Z"
   },
   {
    "duration": 27,
    "start_time": "2023-10-16T12:14:38.977Z"
   },
   {
    "duration": 45,
    "start_time": "2023-10-16T12:14:39.006Z"
   },
   {
    "duration": 20,
    "start_time": "2023-10-16T12:14:39.053Z"
   },
   {
    "duration": 37,
    "start_time": "2023-10-16T12:14:39.075Z"
   },
   {
    "duration": 160,
    "start_time": "2023-10-16T12:14:39.115Z"
   },
   {
    "duration": 7,
    "start_time": "2023-10-16T12:14:39.277Z"
   },
   {
    "duration": 189,
    "start_time": "2023-10-16T12:14:39.286Z"
   },
   {
    "duration": 117,
    "start_time": "2023-10-16T12:14:39.476Z"
   },
   {
    "duration": 7,
    "start_time": "2023-10-16T12:14:39.595Z"
   },
   {
    "duration": 199,
    "start_time": "2023-10-16T12:14:39.604Z"
   },
   {
    "duration": 218,
    "start_time": "2023-10-16T12:14:39.805Z"
   },
   {
    "duration": 10,
    "start_time": "2023-10-16T12:14:40.025Z"
   },
   {
    "duration": 35,
    "start_time": "2023-10-16T12:14:40.037Z"
   },
   {
    "duration": 208,
    "start_time": "2023-10-16T12:14:40.073Z"
   },
   {
    "duration": 31,
    "start_time": "2023-10-16T12:14:40.284Z"
   },
   {
    "duration": 12,
    "start_time": "2023-10-16T12:14:40.318Z"
   },
   {
    "duration": 20,
    "start_time": "2023-10-16T12:14:40.357Z"
   },
   {
    "duration": 29,
    "start_time": "2023-10-16T12:14:40.379Z"
   },
   {
    "duration": 513,
    "start_time": "2023-10-16T12:14:40.411Z"
   },
   {
    "duration": 273,
    "start_time": "2023-10-16T12:14:40.926Z"
   },
   {
    "duration": 9,
    "start_time": "2023-10-16T12:14:41.201Z"
   },
   {
    "duration": 292,
    "start_time": "2023-10-16T12:14:41.212Z"
   },
   {
    "duration": 10,
    "start_time": "2023-10-16T12:14:41.506Z"
   },
   {
    "duration": 971,
    "start_time": "2023-10-16T12:14:41.519Z"
   },
   {
    "duration": 4,
    "start_time": "2023-10-16T12:14:42.492Z"
   },
   {
    "duration": 8,
    "start_time": "2023-10-16T12:14:42.498Z"
   },
   {
    "duration": 213,
    "start_time": "2023-10-16T12:14:42.508Z"
   },
   {
    "duration": 13,
    "start_time": "2023-10-16T12:14:42.723Z"
   },
   {
    "duration": 27,
    "start_time": "2023-10-16T12:14:42.737Z"
   },
   {
    "duration": 51,
    "start_time": "2023-10-16T12:14:42.765Z"
   },
   {
    "duration": 4,
    "start_time": "2023-10-16T12:25:22.518Z"
   },
   {
    "duration": 1377,
    "start_time": "2023-10-16T12:25:27.817Z"
   },
   {
    "duration": 77,
    "start_time": "2023-10-16T12:25:29.197Z"
   },
   {
    "duration": 13,
    "start_time": "2023-10-16T12:25:29.276Z"
   },
   {
    "duration": 36,
    "start_time": "2023-10-16T12:25:29.291Z"
   },
   {
    "duration": 32,
    "start_time": "2023-10-16T12:25:29.331Z"
   },
   {
    "duration": 25,
    "start_time": "2023-10-16T12:25:29.366Z"
   },
   {
    "duration": 62,
    "start_time": "2023-10-16T12:25:29.393Z"
   },
   {
    "duration": 80,
    "start_time": "2023-10-16T12:25:29.458Z"
   },
   {
    "duration": 44,
    "start_time": "2023-10-16T12:25:29.540Z"
   },
   {
    "duration": 52,
    "start_time": "2023-10-16T12:25:29.586Z"
   },
   {
    "duration": 36,
    "start_time": "2023-10-16T12:25:29.640Z"
   },
   {
    "duration": 61,
    "start_time": "2023-10-16T12:25:29.678Z"
   },
   {
    "duration": 35,
    "start_time": "2023-10-16T12:25:29.741Z"
   },
   {
    "duration": 31,
    "start_time": "2023-10-16T12:25:29.780Z"
   },
   {
    "duration": 53,
    "start_time": "2023-10-16T12:25:29.813Z"
   },
   {
    "duration": 17,
    "start_time": "2023-10-16T12:25:29.868Z"
   },
   {
    "duration": 50,
    "start_time": "2023-10-16T12:25:29.887Z"
   },
   {
    "duration": 157,
    "start_time": "2023-10-16T12:25:29.939Z"
   },
   {
    "duration": 7,
    "start_time": "2023-10-16T12:25:30.098Z"
   },
   {
    "duration": 289,
    "start_time": "2023-10-16T12:25:30.107Z"
   },
   {
    "duration": 113,
    "start_time": "2023-10-16T12:25:30.398Z"
   },
   {
    "duration": 7,
    "start_time": "2023-10-16T12:25:30.513Z"
   },
   {
    "duration": 223,
    "start_time": "2023-10-16T12:25:30.522Z"
   },
   {
    "duration": 216,
    "start_time": "2023-10-16T12:25:30.746Z"
   },
   {
    "duration": 9,
    "start_time": "2023-10-16T12:25:30.964Z"
   },
   {
    "duration": 90,
    "start_time": "2023-10-16T12:25:30.975Z"
   },
   {
    "duration": 241,
    "start_time": "2023-10-16T12:25:31.067Z"
   },
   {
    "duration": 51,
    "start_time": "2023-10-16T12:25:31.310Z"
   },
   {
    "duration": 38,
    "start_time": "2023-10-16T12:25:31.363Z"
   },
   {
    "duration": 44,
    "start_time": "2023-10-16T12:25:31.404Z"
   },
   {
    "duration": 53,
    "start_time": "2023-10-16T12:25:31.451Z"
   },
   {
    "duration": 559,
    "start_time": "2023-10-16T12:25:31.506Z"
   },
   {
    "duration": 296,
    "start_time": "2023-10-16T12:25:32.067Z"
   },
   {
    "duration": 10,
    "start_time": "2023-10-16T12:25:32.365Z"
   },
   {
    "duration": 305,
    "start_time": "2023-10-16T12:25:32.377Z"
   },
   {
    "duration": 10,
    "start_time": "2023-10-16T12:25:32.684Z"
   },
   {
    "duration": 74,
    "start_time": "2023-10-16T12:25:32.696Z"
   },
   {
    "duration": 960,
    "start_time": "2023-10-16T12:25:32.772Z"
   },
   {
    "duration": 4,
    "start_time": "2023-10-16T12:25:33.734Z"
   },
   {
    "duration": 199,
    "start_time": "2023-10-16T12:25:33.740Z"
   },
   {
    "duration": 20,
    "start_time": "2023-10-16T12:25:33.945Z"
   },
   {
    "duration": 66,
    "start_time": "2023-10-16T12:25:33.967Z"
   },
   {
    "duration": 36,
    "start_time": "2023-10-16T12:25:34.035Z"
   },
   {
    "duration": 935,
    "start_time": "2023-10-16T12:26:09.522Z"
   },
   {
    "duration": 5,
    "start_time": "2023-10-16T12:28:30.593Z"
   },
   {
    "duration": 1442,
    "start_time": "2023-10-16T12:30:58.469Z"
   },
   {
    "duration": 75,
    "start_time": "2023-10-16T12:30:59.914Z"
   },
   {
    "duration": 14,
    "start_time": "2023-10-16T12:30:59.991Z"
   },
   {
    "duration": 112,
    "start_time": "2023-10-16T12:31:00.008Z"
   },
   {
    "duration": 59,
    "start_time": "2023-10-16T12:31:00.122Z"
   },
   {
    "duration": 44,
    "start_time": "2023-10-16T12:31:00.184Z"
   },
   {
    "duration": 99,
    "start_time": "2023-10-16T12:31:00.230Z"
   },
   {
    "duration": 75,
    "start_time": "2023-10-16T12:31:00.332Z"
   },
   {
    "duration": 70,
    "start_time": "2023-10-16T12:31:00.410Z"
   },
   {
    "duration": 49,
    "start_time": "2023-10-16T12:31:00.485Z"
   },
   {
    "duration": 65,
    "start_time": "2023-10-16T12:31:00.536Z"
   },
   {
    "duration": 80,
    "start_time": "2023-10-16T12:31:00.603Z"
   },
   {
    "duration": 55,
    "start_time": "2023-10-16T12:31:00.685Z"
   },
   {
    "duration": 91,
    "start_time": "2023-10-16T12:31:00.741Z"
   },
   {
    "duration": 91,
    "start_time": "2023-10-16T12:31:00.835Z"
   },
   {
    "duration": 96,
    "start_time": "2023-10-16T12:31:00.927Z"
   },
   {
    "duration": 89,
    "start_time": "2023-10-16T12:31:01.025Z"
   },
   {
    "duration": 202,
    "start_time": "2023-10-16T12:31:01.116Z"
   },
   {
    "duration": 7,
    "start_time": "2023-10-16T12:31:01.320Z"
   },
   {
    "duration": 230,
    "start_time": "2023-10-16T12:31:01.329Z"
   },
   {
    "duration": 118,
    "start_time": "2023-10-16T12:31:01.561Z"
   },
   {
    "duration": 48,
    "start_time": "2023-10-16T12:31:01.681Z"
   },
   {
    "duration": 214,
    "start_time": "2023-10-16T12:31:01.731Z"
   },
   {
    "duration": 234,
    "start_time": "2023-10-16T12:31:01.947Z"
   },
   {
    "duration": 10,
    "start_time": "2023-10-16T12:31:02.183Z"
   },
   {
    "duration": 65,
    "start_time": "2023-10-16T12:31:02.195Z"
   },
   {
    "duration": 307,
    "start_time": "2023-10-16T12:31:02.262Z"
   },
   {
    "duration": 32,
    "start_time": "2023-10-16T12:31:02.572Z"
   },
   {
    "duration": 15,
    "start_time": "2023-10-16T12:31:02.606Z"
   },
   {
    "duration": 84,
    "start_time": "2023-10-16T12:31:02.623Z"
   },
   {
    "duration": 24,
    "start_time": "2023-10-16T12:31:02.709Z"
   },
   {
    "duration": 534,
    "start_time": "2023-10-16T12:31:02.736Z"
   },
   {
    "duration": 293,
    "start_time": "2023-10-16T12:31:03.273Z"
   },
   {
    "duration": 11,
    "start_time": "2023-10-16T12:31:03.568Z"
   },
   {
    "duration": 343,
    "start_time": "2023-10-16T12:31:03.581Z"
   },
   {
    "duration": 9,
    "start_time": "2023-10-16T12:31:03.926Z"
   },
   {
    "duration": 19,
    "start_time": "2023-10-16T12:31:03.937Z"
   },
   {
    "duration": 994,
    "start_time": "2023-10-16T12:31:03.958Z"
   },
   {
    "duration": 4,
    "start_time": "2023-10-16T12:31:04.957Z"
   },
   {
    "duration": 190,
    "start_time": "2023-10-16T12:31:04.963Z"
   },
   {
    "duration": 13,
    "start_time": "2023-10-16T12:31:05.157Z"
   },
   {
    "duration": 38,
    "start_time": "2023-10-16T12:31:05.172Z"
   },
   {
    "duration": 28,
    "start_time": "2023-10-16T12:31:05.211Z"
   },
   {
    "duration": 12,
    "start_time": "2023-10-16T12:41:39.814Z"
   },
   {
    "duration": 13,
    "start_time": "2023-10-16T12:41:59.512Z"
   },
   {
    "duration": 110,
    "start_time": "2023-10-16T12:42:49.776Z"
   },
   {
    "duration": 17,
    "start_time": "2023-10-16T12:43:18.430Z"
   },
   {
    "duration": 15,
    "start_time": "2023-10-16T12:44:08.414Z"
   },
   {
    "duration": 1340,
    "start_time": "2023-10-16T12:44:15.926Z"
   },
   {
    "duration": 77,
    "start_time": "2023-10-16T12:44:17.268Z"
   },
   {
    "duration": 15,
    "start_time": "2023-10-16T12:44:17.347Z"
   },
   {
    "duration": 29,
    "start_time": "2023-10-16T12:44:17.365Z"
   },
   {
    "duration": 14,
    "start_time": "2023-10-16T12:44:17.396Z"
   },
   {
    "duration": 91,
    "start_time": "2023-10-16T12:44:17.413Z"
   },
   {
    "duration": 11,
    "start_time": "2023-10-16T12:44:17.506Z"
   },
   {
    "duration": 17,
    "start_time": "2023-10-16T12:44:17.518Z"
   },
   {
    "duration": 37,
    "start_time": "2023-10-16T12:44:17.537Z"
   },
   {
    "duration": 13,
    "start_time": "2023-10-16T12:44:17.577Z"
   },
   {
    "duration": 12,
    "start_time": "2023-10-16T12:44:17.592Z"
   },
   {
    "duration": 7,
    "start_time": "2023-10-16T12:44:17.606Z"
   },
   {
    "duration": 10,
    "start_time": "2023-10-16T12:44:17.614Z"
   },
   {
    "duration": 38,
    "start_time": "2023-10-16T12:44:17.625Z"
   },
   {
    "duration": 39,
    "start_time": "2023-10-16T12:44:17.665Z"
   },
   {
    "duration": 16,
    "start_time": "2023-10-16T12:44:17.705Z"
   },
   {
    "duration": 34,
    "start_time": "2023-10-16T12:44:17.723Z"
   },
   {
    "duration": 164,
    "start_time": "2023-10-16T12:44:17.759Z"
   },
   {
    "duration": 7,
    "start_time": "2023-10-16T12:44:17.925Z"
   },
   {
    "duration": 197,
    "start_time": "2023-10-16T12:44:17.933Z"
   },
   {
    "duration": 112,
    "start_time": "2023-10-16T12:44:18.132Z"
   },
   {
    "duration": 16,
    "start_time": "2023-10-16T12:44:18.246Z"
   },
   {
    "duration": 182,
    "start_time": "2023-10-16T12:44:18.264Z"
   },
   {
    "duration": 226,
    "start_time": "2023-10-16T12:44:18.448Z"
   },
   {
    "duration": 11,
    "start_time": "2023-10-16T12:44:18.676Z"
   },
   {
    "duration": 27,
    "start_time": "2023-10-16T12:44:18.689Z"
   },
   {
    "duration": 269,
    "start_time": "2023-10-16T12:44:18.718Z"
   },
   {
    "duration": 40,
    "start_time": "2023-10-16T12:44:18.991Z"
   },
   {
    "duration": 31,
    "start_time": "2023-10-16T12:44:19.033Z"
   },
   {
    "duration": 37,
    "start_time": "2023-10-16T12:44:19.065Z"
   },
   {
    "duration": 20,
    "start_time": "2023-10-16T12:44:19.104Z"
   },
   {
    "duration": 540,
    "start_time": "2023-10-16T12:44:19.126Z"
   },
   {
    "duration": 300,
    "start_time": "2023-10-16T12:44:19.668Z"
   },
   {
    "duration": 10,
    "start_time": "2023-10-16T12:44:19.970Z"
   },
   {
    "duration": 324,
    "start_time": "2023-10-16T12:44:19.982Z"
   },
   {
    "duration": 9,
    "start_time": "2023-10-16T12:44:20.307Z"
   },
   {
    "duration": 58,
    "start_time": "2023-10-16T12:44:20.318Z"
   },
   {
    "duration": 1017,
    "start_time": "2023-10-16T12:44:20.378Z"
   },
   {
    "duration": 3,
    "start_time": "2023-10-16T12:44:21.397Z"
   },
   {
    "duration": 233,
    "start_time": "2023-10-16T12:44:21.402Z"
   },
   {
    "duration": 21,
    "start_time": "2023-10-16T12:44:21.637Z"
   },
   {
    "duration": 261,
    "start_time": "2023-10-16T12:44:21.660Z"
   },
   {
    "duration": 0,
    "start_time": "2023-10-16T12:44:21.923Z"
   },
   {
    "duration": 0,
    "start_time": "2023-10-16T12:44:21.925Z"
   },
   {
    "duration": 394,
    "start_time": "2023-10-16T12:48:12.166Z"
   },
   {
    "duration": 547,
    "start_time": "2023-10-16T12:48:20.736Z"
   },
   {
    "duration": 12,
    "start_time": "2023-10-16T12:54:13.199Z"
   },
   {
    "duration": 9,
    "start_time": "2023-10-16T13:02:15.920Z"
   },
   {
    "duration": 13,
    "start_time": "2023-10-16T13:03:28.959Z"
   },
   {
    "duration": 190,
    "start_time": "2023-10-16T13:03:49.045Z"
   },
   {
    "duration": 236,
    "start_time": "2023-10-16T13:05:28.855Z"
   },
   {
    "duration": 191,
    "start_time": "2023-10-16T13:05:33.757Z"
   },
   {
    "duration": 183,
    "start_time": "2023-10-16T13:05:38.309Z"
   },
   {
    "duration": 250,
    "start_time": "2023-10-16T13:05:46.519Z"
   },
   {
    "duration": 179,
    "start_time": "2023-10-16T13:06:20.119Z"
   },
   {
    "duration": 219,
    "start_time": "2023-10-16T13:06:43.168Z"
   },
   {
    "duration": 217,
    "start_time": "2023-10-16T13:07:03.329Z"
   },
   {
    "duration": 347,
    "start_time": "2023-10-16T13:07:22.492Z"
   },
   {
    "duration": 118,
    "start_time": "2023-10-16T13:08:40.432Z"
   },
   {
    "duration": 1318,
    "start_time": "2023-10-16T13:10:37.312Z"
   },
   {
    "duration": 79,
    "start_time": "2023-10-16T13:10:38.633Z"
   },
   {
    "duration": 15,
    "start_time": "2023-10-16T13:10:38.714Z"
   },
   {
    "duration": 55,
    "start_time": "2023-10-16T13:10:38.732Z"
   },
   {
    "duration": 33,
    "start_time": "2023-10-16T13:10:38.789Z"
   },
   {
    "duration": 16,
    "start_time": "2023-10-16T13:10:38.824Z"
   },
   {
    "duration": 36,
    "start_time": "2023-10-16T13:10:38.842Z"
   },
   {
    "duration": 65,
    "start_time": "2023-10-16T13:10:38.881Z"
   },
   {
    "duration": 82,
    "start_time": "2023-10-16T13:10:38.948Z"
   },
   {
    "duration": 31,
    "start_time": "2023-10-16T13:10:39.037Z"
   },
   {
    "duration": 47,
    "start_time": "2023-10-16T13:10:39.070Z"
   },
   {
    "duration": 56,
    "start_time": "2023-10-16T13:10:39.120Z"
   },
   {
    "duration": 31,
    "start_time": "2023-10-16T13:10:39.178Z"
   },
   {
    "duration": 19,
    "start_time": "2023-10-16T13:10:39.211Z"
   },
   {
    "duration": 28,
    "start_time": "2023-10-16T13:10:39.232Z"
   },
   {
    "duration": 16,
    "start_time": "2023-10-16T13:10:39.262Z"
   },
   {
    "duration": 17,
    "start_time": "2023-10-16T13:10:39.280Z"
   },
   {
    "duration": 179,
    "start_time": "2023-10-16T13:10:39.298Z"
   },
   {
    "duration": 7,
    "start_time": "2023-10-16T13:10:39.480Z"
   },
   {
    "duration": 190,
    "start_time": "2023-10-16T13:10:39.489Z"
   },
   {
    "duration": 125,
    "start_time": "2023-10-16T13:10:39.681Z"
   },
   {
    "duration": 7,
    "start_time": "2023-10-16T13:10:39.809Z"
   },
   {
    "duration": 194,
    "start_time": "2023-10-16T13:10:39.819Z"
   },
   {
    "duration": 230,
    "start_time": "2023-10-16T13:10:40.015Z"
   },
   {
    "duration": 17,
    "start_time": "2023-10-16T13:10:40.247Z"
   },
   {
    "duration": 26,
    "start_time": "2023-10-16T13:10:40.266Z"
   },
   {
    "duration": 220,
    "start_time": "2023-10-16T13:10:40.294Z"
   },
   {
    "duration": 39,
    "start_time": "2023-10-16T13:10:40.517Z"
   },
   {
    "duration": 12,
    "start_time": "2023-10-16T13:10:40.558Z"
   },
   {
    "duration": 23,
    "start_time": "2023-10-16T13:10:40.571Z"
   },
   {
    "duration": 17,
    "start_time": "2023-10-16T13:10:40.595Z"
   },
   {
    "duration": 537,
    "start_time": "2023-10-16T13:10:40.613Z"
   },
   {
    "duration": 296,
    "start_time": "2023-10-16T13:10:41.156Z"
   },
   {
    "duration": 10,
    "start_time": "2023-10-16T13:10:41.457Z"
   },
   {
    "duration": 272,
    "start_time": "2023-10-16T13:10:41.469Z"
   },
   {
    "duration": 21,
    "start_time": "2023-10-16T13:10:41.743Z"
   },
   {
    "duration": 11,
    "start_time": "2023-10-16T13:10:41.765Z"
   },
   {
    "duration": 1074,
    "start_time": "2023-10-16T13:10:41.778Z"
   },
   {
    "duration": 6,
    "start_time": "2023-10-16T13:10:42.858Z"
   },
   {
    "duration": 248,
    "start_time": "2023-10-16T13:10:42.867Z"
   },
   {
    "duration": 12,
    "start_time": "2023-10-16T13:10:43.117Z"
   },
   {
    "duration": 416,
    "start_time": "2023-10-16T13:10:43.131Z"
   },
   {
    "duration": 14,
    "start_time": "2023-10-16T13:10:43.549Z"
   },
   {
    "duration": 375,
    "start_time": "2023-10-16T13:10:43.565Z"
   },
   {
    "duration": 22,
    "start_time": "2023-10-16T13:10:43.941Z"
   },
   {
    "duration": 19,
    "start_time": "2023-10-16T13:26:45.854Z"
   },
   {
    "duration": 13,
    "start_time": "2023-10-16T13:29:31.606Z"
   },
   {
    "duration": 1583,
    "start_time": "2023-10-16T13:37:31.924Z"
   },
   {
    "duration": 77,
    "start_time": "2023-10-16T13:37:33.510Z"
   },
   {
    "duration": 15,
    "start_time": "2023-10-16T13:37:33.589Z"
   },
   {
    "duration": 108,
    "start_time": "2023-10-16T13:37:33.606Z"
   },
   {
    "duration": 20,
    "start_time": "2023-10-16T13:37:33.716Z"
   },
   {
    "duration": 10,
    "start_time": "2023-10-16T13:37:33.738Z"
   },
   {
    "duration": 28,
    "start_time": "2023-10-16T13:37:33.750Z"
   },
   {
    "duration": 14,
    "start_time": "2023-10-16T13:37:33.780Z"
   },
   {
    "duration": 24,
    "start_time": "2023-10-16T13:37:33.796Z"
   },
   {
    "duration": 12,
    "start_time": "2023-10-16T13:37:33.823Z"
   },
   {
    "duration": 8,
    "start_time": "2023-10-16T13:37:33.837Z"
   },
   {
    "duration": 13,
    "start_time": "2023-10-16T13:37:33.856Z"
   },
   {
    "duration": 16,
    "start_time": "2023-10-16T13:37:33.871Z"
   },
   {
    "duration": 32,
    "start_time": "2023-10-16T13:37:33.889Z"
   },
   {
    "duration": 38,
    "start_time": "2023-10-16T13:37:33.924Z"
   },
   {
    "duration": 15,
    "start_time": "2023-10-16T13:37:33.964Z"
   },
   {
    "duration": 37,
    "start_time": "2023-10-16T13:37:33.981Z"
   },
   {
    "duration": 159,
    "start_time": "2023-10-16T13:37:34.020Z"
   },
   {
    "duration": 6,
    "start_time": "2023-10-16T13:37:34.182Z"
   },
   {
    "duration": 189,
    "start_time": "2023-10-16T13:37:34.190Z"
   },
   {
    "duration": 116,
    "start_time": "2023-10-16T13:37:34.381Z"
   },
   {
    "duration": 6,
    "start_time": "2023-10-16T13:37:34.499Z"
   },
   {
    "duration": 190,
    "start_time": "2023-10-16T13:37:34.507Z"
   },
   {
    "duration": 234,
    "start_time": "2023-10-16T13:37:34.699Z"
   },
   {
    "duration": 10,
    "start_time": "2023-10-16T13:37:34.935Z"
   },
   {
    "duration": 24,
    "start_time": "2023-10-16T13:37:34.957Z"
   },
   {
    "duration": 238,
    "start_time": "2023-10-16T13:37:34.983Z"
   },
   {
    "duration": 38,
    "start_time": "2023-10-16T13:37:35.226Z"
   },
   {
    "duration": 12,
    "start_time": "2023-10-16T13:37:35.266Z"
   },
   {
    "duration": 74,
    "start_time": "2023-10-16T13:37:35.280Z"
   },
   {
    "duration": 44,
    "start_time": "2023-10-16T13:37:35.356Z"
   },
   {
    "duration": 533,
    "start_time": "2023-10-16T13:37:35.403Z"
   },
   {
    "duration": 279,
    "start_time": "2023-10-16T13:37:35.938Z"
   },
   {
    "duration": 9,
    "start_time": "2023-10-16T13:37:36.219Z"
   },
   {
    "duration": 294,
    "start_time": "2023-10-16T13:37:36.230Z"
   },
   {
    "duration": 10,
    "start_time": "2023-10-16T13:37:36.526Z"
   },
   {
    "duration": 19,
    "start_time": "2023-10-16T13:37:36.538Z"
   },
   {
    "duration": 1135,
    "start_time": "2023-10-16T13:37:36.559Z"
   },
   {
    "duration": 5,
    "start_time": "2023-10-16T13:37:37.696Z"
   },
   {
    "duration": 194,
    "start_time": "2023-10-16T13:37:37.703Z"
   },
   {
    "duration": 12,
    "start_time": "2023-10-16T13:37:37.899Z"
   },
   {
    "duration": 415,
    "start_time": "2023-10-16T13:37:37.913Z"
   },
   {
    "duration": 10,
    "start_time": "2023-10-16T13:37:38.329Z"
   },
   {
    "duration": 330,
    "start_time": "2023-10-16T13:37:38.357Z"
   },
   {
    "duration": 12,
    "start_time": "2023-10-16T13:37:38.689Z"
   },
   {
    "duration": 1232,
    "start_time": "2023-10-16T16:53:19.823Z"
   },
   {
    "duration": 68,
    "start_time": "2023-10-16T16:53:21.059Z"
   },
   {
    "duration": 12,
    "start_time": "2023-10-16T16:53:21.129Z"
   },
   {
    "duration": 19,
    "start_time": "2023-10-16T16:53:21.143Z"
   },
   {
    "duration": 19,
    "start_time": "2023-10-16T16:53:21.164Z"
   },
   {
    "duration": 18,
    "start_time": "2023-10-16T16:53:21.185Z"
   },
   {
    "duration": 13,
    "start_time": "2023-10-16T16:53:21.205Z"
   },
   {
    "duration": 26,
    "start_time": "2023-10-16T16:53:21.220Z"
   },
   {
    "duration": 39,
    "start_time": "2023-10-16T16:53:21.248Z"
   },
   {
    "duration": 13,
    "start_time": "2023-10-16T16:53:21.291Z"
   },
   {
    "duration": 7,
    "start_time": "2023-10-16T16:53:21.306Z"
   },
   {
    "duration": 9,
    "start_time": "2023-10-16T16:53:21.314Z"
   },
   {
    "duration": 30,
    "start_time": "2023-10-16T16:53:21.325Z"
   },
   {
    "duration": 39,
    "start_time": "2023-10-16T16:53:21.356Z"
   },
   {
    "duration": 29,
    "start_time": "2023-10-16T16:53:21.396Z"
   },
   {
    "duration": 14,
    "start_time": "2023-10-16T16:53:21.427Z"
   },
   {
    "duration": 47,
    "start_time": "2023-10-16T16:53:21.443Z"
   },
   {
    "duration": 160,
    "start_time": "2023-10-16T16:53:21.492Z"
   },
   {
    "duration": 7,
    "start_time": "2023-10-16T16:53:21.654Z"
   },
   {
    "duration": 184,
    "start_time": "2023-10-16T16:53:21.663Z"
   },
   {
    "duration": 114,
    "start_time": "2023-10-16T16:53:21.849Z"
   },
   {
    "duration": 6,
    "start_time": "2023-10-16T16:53:21.964Z"
   },
   {
    "duration": 176,
    "start_time": "2023-10-16T16:53:21.972Z"
   },
   {
    "duration": 199,
    "start_time": "2023-10-16T16:53:22.150Z"
   },
   {
    "duration": 11,
    "start_time": "2023-10-16T16:53:22.351Z"
   },
   {
    "duration": 15,
    "start_time": "2023-10-16T16:53:22.364Z"
   },
   {
    "duration": 211,
    "start_time": "2023-10-16T16:53:22.380Z"
   },
   {
    "duration": 51,
    "start_time": "2023-10-16T16:53:22.597Z"
   },
   {
    "duration": 14,
    "start_time": "2023-10-16T16:53:22.651Z"
   },
   {
    "duration": 35,
    "start_time": "2023-10-16T16:53:22.666Z"
   },
   {
    "duration": 34,
    "start_time": "2023-10-16T16:53:22.704Z"
   },
   {
    "duration": 490,
    "start_time": "2023-10-16T16:53:22.740Z"
   },
   {
    "duration": 260,
    "start_time": "2023-10-16T16:53:23.232Z"
   },
   {
    "duration": 10,
    "start_time": "2023-10-16T16:53:23.494Z"
   },
   {
    "duration": 281,
    "start_time": "2023-10-16T16:53:23.505Z"
   },
   {
    "duration": 19,
    "start_time": "2023-10-16T16:53:23.788Z"
   },
   {
    "duration": 6,
    "start_time": "2023-10-16T16:53:23.813Z"
   },
   {
    "duration": 899,
    "start_time": "2023-10-16T16:53:23.821Z"
   },
   {
    "duration": 6,
    "start_time": "2023-10-16T16:53:24.723Z"
   },
   {
    "duration": 205,
    "start_time": "2023-10-16T16:53:24.731Z"
   },
   {
    "duration": 17,
    "start_time": "2023-10-16T16:53:24.938Z"
   },
   {
    "duration": 407,
    "start_time": "2023-10-16T16:53:24.957Z"
   },
   {
    "duration": 9,
    "start_time": "2023-10-16T16:53:25.367Z"
   },
   {
    "duration": 313,
    "start_time": "2023-10-16T16:53:25.378Z"
   },
   {
    "duration": 13,
    "start_time": "2023-10-16T16:53:25.693Z"
   },
   {
    "duration": 8,
    "start_time": "2023-10-16T16:55:15.622Z"
   },
   {
    "duration": 4,
    "start_time": "2023-10-16T16:55:27.963Z"
   },
   {
    "duration": 4,
    "start_time": "2023-10-16T17:18:47.044Z"
   },
   {
    "duration": 213,
    "start_time": "2023-10-16T17:18:53.803Z"
   },
   {
    "duration": 9,
    "start_time": "2023-10-16T17:19:49.451Z"
   },
   {
    "duration": 243,
    "start_time": "2023-10-16T17:20:19.658Z"
   },
   {
    "duration": 9,
    "start_time": "2023-10-16T17:20:22.276Z"
   },
   {
    "duration": 47,
    "start_time": "2023-10-16T18:31:28.334Z"
   },
   {
    "duration": 1331,
    "start_time": "2023-10-16T18:31:34.225Z"
   },
   {
    "duration": 201,
    "start_time": "2023-10-16T18:31:35.558Z"
   },
   {
    "duration": 12,
    "start_time": "2023-10-16T18:31:35.760Z"
   },
   {
    "duration": 128,
    "start_time": "2023-10-16T18:31:35.774Z"
   },
   {
    "duration": 296,
    "start_time": "2023-10-16T18:31:35.904Z"
   },
   {
    "duration": 104,
    "start_time": "2023-10-16T18:31:36.201Z"
   },
   {
    "duration": 28,
    "start_time": "2023-10-16T18:31:36.307Z"
   },
   {
    "duration": 25,
    "start_time": "2023-10-16T18:31:36.337Z"
   },
   {
    "duration": 65,
    "start_time": "2023-10-16T18:31:36.364Z"
   },
   {
    "duration": 120,
    "start_time": "2023-10-16T18:31:36.432Z"
   },
   {
    "duration": 68,
    "start_time": "2023-10-16T18:31:36.554Z"
   },
   {
    "duration": 106,
    "start_time": "2023-10-16T18:31:36.624Z"
   },
   {
    "duration": 61,
    "start_time": "2023-10-16T18:31:36.732Z"
   },
   {
    "duration": 84,
    "start_time": "2023-10-16T18:31:36.795Z"
   },
   {
    "duration": 68,
    "start_time": "2023-10-16T18:31:36.881Z"
   },
   {
    "duration": 15,
    "start_time": "2023-10-16T18:31:36.951Z"
   },
   {
    "duration": 20,
    "start_time": "2023-10-16T18:31:36.967Z"
   },
   {
    "duration": 138,
    "start_time": "2023-10-16T18:31:36.988Z"
   },
   {
    "duration": 6,
    "start_time": "2023-10-16T18:31:37.127Z"
   },
   {
    "duration": 180,
    "start_time": "2023-10-16T18:31:37.134Z"
   },
   {
    "duration": 96,
    "start_time": "2023-10-16T18:31:37.315Z"
   },
   {
    "duration": 35,
    "start_time": "2023-10-16T18:31:37.413Z"
   },
   {
    "duration": 322,
    "start_time": "2023-10-16T18:31:37.450Z"
   },
   {
    "duration": 263,
    "start_time": "2023-10-16T18:31:37.774Z"
   },
   {
    "duration": 148,
    "start_time": "2023-10-16T18:31:38.039Z"
   },
   {
    "duration": 135,
    "start_time": "2023-10-16T18:31:38.188Z"
   },
   {
    "duration": 278,
    "start_time": "2023-10-16T18:31:38.325Z"
   },
   {
    "duration": 29,
    "start_time": "2023-10-16T18:31:38.606Z"
   },
   {
    "duration": 9,
    "start_time": "2023-10-16T18:31:38.636Z"
   },
   {
    "duration": 25,
    "start_time": "2023-10-16T18:31:38.647Z"
   },
   {
    "duration": 37,
    "start_time": "2023-10-16T18:31:38.673Z"
   },
   {
    "duration": 473,
    "start_time": "2023-10-16T18:31:38.712Z"
   },
   {
    "duration": 274,
    "start_time": "2023-10-16T18:31:39.187Z"
   },
   {
    "duration": 8,
    "start_time": "2023-10-16T18:31:39.463Z"
   },
   {
    "duration": 265,
    "start_time": "2023-10-16T18:31:39.473Z"
   },
   {
    "duration": 10,
    "start_time": "2023-10-16T18:31:39.740Z"
   },
   {
    "duration": 5,
    "start_time": "2023-10-16T18:31:39.752Z"
   },
   {
    "duration": 909,
    "start_time": "2023-10-16T18:31:39.759Z"
   },
   {
    "duration": 6,
    "start_time": "2023-10-16T18:31:40.670Z"
   },
   {
    "duration": 32,
    "start_time": "2023-10-16T18:31:40.677Z"
   },
   {
    "duration": 170,
    "start_time": "2023-10-16T18:31:40.711Z"
   },
   {
    "duration": 12,
    "start_time": "2023-10-16T18:31:40.884Z"
   },
   {
    "duration": 370,
    "start_time": "2023-10-16T18:31:40.898Z"
   },
   {
    "duration": 8,
    "start_time": "2023-10-16T18:31:41.269Z"
   },
   {
    "duration": 351,
    "start_time": "2023-10-16T18:31:41.279Z"
   },
   {
    "duration": 11,
    "start_time": "2023-10-16T18:31:41.632Z"
   },
   {
    "duration": 9,
    "start_time": "2023-10-16T18:34:19.523Z"
   },
   {
    "duration": 96,
    "start_time": "2023-10-16T18:34:51.837Z"
   },
   {
    "duration": 102,
    "start_time": "2023-10-16T18:36:27.285Z"
   },
   {
    "duration": 97,
    "start_time": "2023-10-16T18:36:48.878Z"
   },
   {
    "duration": 3,
    "start_time": "2023-10-16T18:44:28.749Z"
   },
   {
    "duration": 1223,
    "start_time": "2023-10-16T18:45:05.230Z"
   },
   {
    "duration": 70,
    "start_time": "2023-10-16T18:45:06.455Z"
   },
   {
    "duration": 11,
    "start_time": "2023-10-16T18:45:06.527Z"
   },
   {
    "duration": 21,
    "start_time": "2023-10-16T18:45:06.540Z"
   },
   {
    "duration": 11,
    "start_time": "2023-10-16T18:45:06.563Z"
   },
   {
    "duration": 8,
    "start_time": "2023-10-16T18:45:06.575Z"
   },
   {
    "duration": 9,
    "start_time": "2023-10-16T18:45:06.584Z"
   },
   {
    "duration": 11,
    "start_time": "2023-10-16T18:45:06.595Z"
   },
   {
    "duration": 15,
    "start_time": "2023-10-16T18:45:06.624Z"
   },
   {
    "duration": 11,
    "start_time": "2023-10-16T18:45:06.642Z"
   },
   {
    "duration": 11,
    "start_time": "2023-10-16T18:45:06.654Z"
   },
   {
    "duration": 14,
    "start_time": "2023-10-16T18:45:06.666Z"
   },
   {
    "duration": 21,
    "start_time": "2023-10-16T18:45:06.682Z"
   },
   {
    "duration": 19,
    "start_time": "2023-10-16T18:45:06.705Z"
   },
   {
    "duration": 27,
    "start_time": "2023-10-16T18:45:06.725Z"
   },
   {
    "duration": 11,
    "start_time": "2023-10-16T18:45:06.754Z"
   },
   {
    "duration": 41,
    "start_time": "2023-10-16T18:45:06.766Z"
   },
   {
    "duration": 149,
    "start_time": "2023-10-16T18:45:06.809Z"
   },
   {
    "duration": 6,
    "start_time": "2023-10-16T18:45:06.960Z"
   },
   {
    "duration": 159,
    "start_time": "2023-10-16T18:45:06.967Z"
   },
   {
    "duration": 103,
    "start_time": "2023-10-16T18:45:07.128Z"
   },
   {
    "duration": 7,
    "start_time": "2023-10-16T18:45:07.233Z"
   },
   {
    "duration": 162,
    "start_time": "2023-10-16T18:45:07.241Z"
   },
   {
    "duration": 208,
    "start_time": "2023-10-16T18:45:07.405Z"
   },
   {
    "duration": 17,
    "start_time": "2023-10-16T18:45:07.615Z"
   },
   {
    "duration": 16,
    "start_time": "2023-10-16T18:45:07.634Z"
   },
   {
    "duration": 206,
    "start_time": "2023-10-16T18:45:07.652Z"
   },
   {
    "duration": 7,
    "start_time": "2023-10-16T18:45:07.861Z"
   },
   {
    "duration": 106,
    "start_time": "2023-10-16T18:45:07.869Z"
   },
   {
    "duration": 26,
    "start_time": "2023-10-16T18:45:07.977Z"
   },
   {
    "duration": 19,
    "start_time": "2023-10-16T18:45:08.005Z"
   },
   {
    "duration": 15,
    "start_time": "2023-10-16T18:45:08.026Z"
   },
   {
    "duration": 16,
    "start_time": "2023-10-16T18:45:08.042Z"
   },
   {
    "duration": 458,
    "start_time": "2023-10-16T18:45:08.060Z"
   },
   {
    "duration": 247,
    "start_time": "2023-10-16T18:45:08.524Z"
   },
   {
    "duration": 9,
    "start_time": "2023-10-16T18:45:08.773Z"
   },
   {
    "duration": 276,
    "start_time": "2023-10-16T18:45:08.784Z"
   },
   {
    "duration": 10,
    "start_time": "2023-10-16T18:45:09.062Z"
   },
   {
    "duration": 3,
    "start_time": "2023-10-16T18:45:09.074Z"
   },
   {
    "duration": 838,
    "start_time": "2023-10-16T18:45:09.079Z"
   },
   {
    "duration": 10,
    "start_time": "2023-10-16T18:45:09.919Z"
   },
   {
    "duration": 5,
    "start_time": "2023-10-16T18:45:09.930Z"
   },
   {
    "duration": 149,
    "start_time": "2023-10-16T18:45:09.937Z"
   },
   {
    "duration": 10,
    "start_time": "2023-10-16T18:45:10.088Z"
   },
   {
    "duration": 390,
    "start_time": "2023-10-16T18:45:10.100Z"
   },
   {
    "duration": 9,
    "start_time": "2023-10-16T18:45:10.492Z"
   },
   {
    "duration": 293,
    "start_time": "2023-10-16T18:45:10.503Z"
   },
   {
    "duration": 12,
    "start_time": "2023-10-16T18:45:10.798Z"
   },
   {
    "duration": 11,
    "start_time": "2023-10-16T18:46:55.455Z"
   },
   {
    "duration": 8,
    "start_time": "2023-10-16T18:47:43.009Z"
   },
   {
    "duration": 12,
    "start_time": "2023-10-16T18:53:33.119Z"
   },
   {
    "duration": 1155,
    "start_time": "2023-10-16T18:53:55.970Z"
   },
   {
    "duration": 69,
    "start_time": "2023-10-16T18:53:57.127Z"
   },
   {
    "duration": 12,
    "start_time": "2023-10-16T18:53:57.197Z"
   },
   {
    "duration": 14,
    "start_time": "2023-10-16T18:53:57.211Z"
   },
   {
    "duration": 13,
    "start_time": "2023-10-16T18:53:57.226Z"
   },
   {
    "duration": 14,
    "start_time": "2023-10-16T18:53:57.240Z"
   },
   {
    "duration": 19,
    "start_time": "2023-10-16T18:53:57.256Z"
   },
   {
    "duration": 11,
    "start_time": "2023-10-16T18:53:57.276Z"
   },
   {
    "duration": 18,
    "start_time": "2023-10-16T18:53:57.288Z"
   },
   {
    "duration": 15,
    "start_time": "2023-10-16T18:53:57.309Z"
   },
   {
    "duration": 6,
    "start_time": "2023-10-16T18:53:57.326Z"
   },
   {
    "duration": 4,
    "start_time": "2023-10-16T18:53:57.334Z"
   },
   {
    "duration": 5,
    "start_time": "2023-10-16T18:53:57.340Z"
   },
   {
    "duration": 21,
    "start_time": "2023-10-16T18:53:57.347Z"
   },
   {
    "duration": 58,
    "start_time": "2023-10-16T18:53:57.370Z"
   },
   {
    "duration": 12,
    "start_time": "2023-10-16T18:53:57.429Z"
   },
   {
    "duration": 25,
    "start_time": "2023-10-16T18:53:57.442Z"
   },
   {
    "duration": 155,
    "start_time": "2023-10-16T18:53:57.469Z"
   },
   {
    "duration": 5,
    "start_time": "2023-10-16T18:53:57.626Z"
   },
   {
    "duration": 222,
    "start_time": "2023-10-16T18:53:57.633Z"
   },
   {
    "duration": 108,
    "start_time": "2023-10-16T18:53:57.857Z"
   },
   {
    "duration": 6,
    "start_time": "2023-10-16T18:53:57.966Z"
   },
   {
    "duration": 176,
    "start_time": "2023-10-16T18:53:57.973Z"
   },
   {
    "duration": 189,
    "start_time": "2023-10-16T18:53:58.150Z"
   },
   {
    "duration": 8,
    "start_time": "2023-10-16T18:53:58.341Z"
   },
   {
    "duration": 69,
    "start_time": "2023-10-16T18:53:58.350Z"
   },
   {
    "duration": 190,
    "start_time": "2023-10-16T18:53:58.420Z"
   },
   {
    "duration": 12,
    "start_time": "2023-10-16T18:53:58.613Z"
   },
   {
    "duration": 193,
    "start_time": "2023-10-16T18:53:58.626Z"
   },
   {
    "duration": 26,
    "start_time": "2023-10-16T18:53:58.821Z"
   },
   {
    "duration": 8,
    "start_time": "2023-10-16T18:53:58.849Z"
   },
   {
    "duration": 81,
    "start_time": "2023-10-16T18:53:58.859Z"
   },
   {
    "duration": 21,
    "start_time": "2023-10-16T18:53:58.942Z"
   },
   {
    "duration": 427,
    "start_time": "2023-10-16T18:53:58.965Z"
   },
   {
    "duration": 249,
    "start_time": "2023-10-16T18:53:59.393Z"
   },
   {
    "duration": 8,
    "start_time": "2023-10-16T18:53:59.643Z"
   },
   {
    "duration": 363,
    "start_time": "2023-10-16T18:53:59.652Z"
   },
   {
    "duration": 13,
    "start_time": "2023-10-16T18:54:00.017Z"
   },
   {
    "duration": 260,
    "start_time": "2023-10-16T18:54:00.032Z"
   },
   {
    "duration": 1017,
    "start_time": "2023-10-16T18:54:00.294Z"
   },
   {
    "duration": 12,
    "start_time": "2023-10-16T18:54:01.312Z"
   },
   {
    "duration": 157,
    "start_time": "2023-10-16T18:54:01.325Z"
   },
   {
    "duration": 190,
    "start_time": "2023-10-16T18:54:01.484Z"
   },
   {
    "duration": 12,
    "start_time": "2023-10-16T18:54:01.675Z"
   },
   {
    "duration": 500,
    "start_time": "2023-10-16T18:54:01.689Z"
   },
   {
    "duration": 13,
    "start_time": "2023-10-16T18:54:02.191Z"
   },
   {
    "duration": 355,
    "start_time": "2023-10-16T18:54:02.206Z"
   },
   {
    "duration": 11,
    "start_time": "2023-10-16T18:54:02.563Z"
   },
   {
    "duration": 259,
    "start_time": "2023-10-16T18:55:39.809Z"
   },
   {
    "duration": 10,
    "start_time": "2023-10-16T18:55:45.983Z"
   },
   {
    "duration": 174,
    "start_time": "2023-10-16T18:56:29.777Z"
   },
   {
    "duration": 201,
    "start_time": "2023-10-16T18:56:57.111Z"
   },
   {
    "duration": 184,
    "start_time": "2023-10-16T18:57:06.115Z"
   },
   {
    "duration": 158,
    "start_time": "2023-10-16T18:57:12.249Z"
   },
   {
    "duration": 160,
    "start_time": "2023-10-16T19:00:12.683Z"
   },
   {
    "duration": 173,
    "start_time": "2023-10-16T19:00:37.526Z"
   },
   {
    "duration": 124,
    "start_time": "2023-10-16T19:01:52.621Z"
   },
   {
    "duration": 200,
    "start_time": "2023-10-16T19:02:37.637Z"
   },
   {
    "duration": 195,
    "start_time": "2023-10-16T19:03:18.409Z"
   },
   {
    "duration": 234,
    "start_time": "2023-10-16T19:03:56.932Z"
   },
   {
    "duration": 116,
    "start_time": "2023-10-16T19:04:08.491Z"
   },
   {
    "duration": 12,
    "start_time": "2023-10-16T19:05:54.577Z"
   },
   {
    "duration": 12,
    "start_time": "2023-10-16T19:05:58.937Z"
   },
   {
    "duration": 90,
    "start_time": "2023-10-16T19:06:29.920Z"
   },
   {
    "duration": 103,
    "start_time": "2023-10-16T19:06:58.796Z"
   },
   {
    "duration": 315,
    "start_time": "2023-10-16T19:08:46.855Z"
   },
   {
    "duration": 248,
    "start_time": "2023-10-16T19:08:51.333Z"
   },
   {
    "duration": 271,
    "start_time": "2023-10-16T19:09:08.336Z"
   },
   {
    "duration": 1197,
    "start_time": "2023-10-16T19:11:15.943Z"
   },
   {
    "duration": 71,
    "start_time": "2023-10-16T19:11:17.142Z"
   },
   {
    "duration": 11,
    "start_time": "2023-10-16T19:11:17.215Z"
   },
   {
    "duration": 40,
    "start_time": "2023-10-16T19:11:17.228Z"
   },
   {
    "duration": 19,
    "start_time": "2023-10-16T19:11:17.269Z"
   },
   {
    "duration": 17,
    "start_time": "2023-10-16T19:11:17.289Z"
   },
   {
    "duration": 37,
    "start_time": "2023-10-16T19:11:17.307Z"
   },
   {
    "duration": 23,
    "start_time": "2023-10-16T19:11:17.345Z"
   },
   {
    "duration": 22,
    "start_time": "2023-10-16T19:11:17.369Z"
   },
   {
    "duration": 11,
    "start_time": "2023-10-16T19:11:17.393Z"
   },
   {
    "duration": 6,
    "start_time": "2023-10-16T19:11:17.406Z"
   },
   {
    "duration": 26,
    "start_time": "2023-10-16T19:11:17.413Z"
   },
   {
    "duration": 6,
    "start_time": "2023-10-16T19:11:17.440Z"
   },
   {
    "duration": 12,
    "start_time": "2023-10-16T19:11:17.447Z"
   },
   {
    "duration": 36,
    "start_time": "2023-10-16T19:11:17.460Z"
   },
   {
    "duration": 12,
    "start_time": "2023-10-16T19:11:17.498Z"
   },
   {
    "duration": 21,
    "start_time": "2023-10-16T19:11:17.511Z"
   },
   {
    "duration": 137,
    "start_time": "2023-10-16T19:11:17.534Z"
   },
   {
    "duration": 5,
    "start_time": "2023-10-16T19:11:17.673Z"
   },
   {
    "duration": 174,
    "start_time": "2023-10-16T19:11:17.680Z"
   },
   {
    "duration": 116,
    "start_time": "2023-10-16T19:11:17.856Z"
   },
   {
    "duration": 6,
    "start_time": "2023-10-16T19:11:17.974Z"
   },
   {
    "duration": 170,
    "start_time": "2023-10-16T19:11:17.982Z"
   },
   {
    "duration": 196,
    "start_time": "2023-10-16T19:11:18.154Z"
   },
   {
    "duration": 8,
    "start_time": "2023-10-16T19:11:18.352Z"
   },
   {
    "duration": 21,
    "start_time": "2023-10-16T19:11:18.361Z"
   },
   {
    "duration": 191,
    "start_time": "2023-10-16T19:11:18.384Z"
   },
   {
    "duration": 9,
    "start_time": "2023-10-16T19:11:18.578Z"
   },
   {
    "duration": 111,
    "start_time": "2023-10-16T19:11:18.589Z"
   },
   {
    "duration": 37,
    "start_time": "2023-10-16T19:11:18.701Z"
   },
   {
    "duration": 11,
    "start_time": "2023-10-16T19:11:18.740Z"
   },
   {
    "duration": 30,
    "start_time": "2023-10-16T19:11:18.752Z"
   },
   {
    "duration": 23,
    "start_time": "2023-10-16T19:11:18.784Z"
   },
   {
    "duration": 442,
    "start_time": "2023-10-16T19:11:18.808Z"
   },
   {
    "duration": 248,
    "start_time": "2023-10-16T19:11:19.252Z"
   },
   {
    "duration": 9,
    "start_time": "2023-10-16T19:11:19.501Z"
   },
   {
    "duration": 246,
    "start_time": "2023-10-16T19:11:19.512Z"
   },
   {
    "duration": 9,
    "start_time": "2023-10-16T19:11:19.759Z"
   },
   {
    "duration": 31,
    "start_time": "2023-10-16T19:11:19.769Z"
   },
   {
    "duration": 866,
    "start_time": "2023-10-16T19:11:19.802Z"
   },
   {
    "duration": 7,
    "start_time": "2023-10-16T19:11:20.669Z"
   },
   {
    "duration": 12,
    "start_time": "2023-10-16T19:11:20.677Z"
   },
   {
    "duration": 163,
    "start_time": "2023-10-16T19:11:20.690Z"
   },
   {
    "duration": 11,
    "start_time": "2023-10-16T19:11:20.855Z"
   },
   {
    "duration": 326,
    "start_time": "2023-10-16T19:11:20.868Z"
   },
   {
    "duration": 10,
    "start_time": "2023-10-16T19:11:21.195Z"
   },
   {
    "duration": 295,
    "start_time": "2023-10-16T19:11:21.207Z"
   },
   {
    "duration": 20,
    "start_time": "2023-10-16T19:11:21.504Z"
   },
   {
    "duration": 1456,
    "start_time": "2023-10-17T08:27:42.253Z"
   },
   {
    "duration": 209,
    "start_time": "2023-10-17T08:27:43.712Z"
   },
   {
    "duration": 14,
    "start_time": "2023-10-17T08:27:43.923Z"
   },
   {
    "duration": 27,
    "start_time": "2023-10-17T08:27:43.940Z"
   },
   {
    "duration": 13,
    "start_time": "2023-10-17T08:27:43.969Z"
   },
   {
    "duration": 9,
    "start_time": "2023-10-17T08:27:43.984Z"
   },
   {
    "duration": 29,
    "start_time": "2023-10-17T08:27:43.994Z"
   },
   {
    "duration": 29,
    "start_time": "2023-10-17T08:27:44.025Z"
   },
   {
    "duration": 29,
    "start_time": "2023-10-17T08:27:44.056Z"
   },
   {
    "duration": 19,
    "start_time": "2023-10-17T08:27:44.087Z"
   },
   {
    "duration": 10,
    "start_time": "2023-10-17T08:27:44.108Z"
   },
   {
    "duration": 8,
    "start_time": "2023-10-17T08:27:44.120Z"
   },
   {
    "duration": 19,
    "start_time": "2023-10-17T08:27:44.130Z"
   },
   {
    "duration": 20,
    "start_time": "2023-10-17T08:27:44.150Z"
   },
   {
    "duration": 27,
    "start_time": "2023-10-17T08:27:44.172Z"
   },
   {
    "duration": 12,
    "start_time": "2023-10-17T08:27:44.201Z"
   },
   {
    "duration": 33,
    "start_time": "2023-10-17T08:27:44.214Z"
   },
   {
    "duration": 154,
    "start_time": "2023-10-17T08:27:44.248Z"
   },
   {
    "duration": 5,
    "start_time": "2023-10-17T08:27:44.404Z"
   },
   {
    "duration": 174,
    "start_time": "2023-10-17T08:27:44.411Z"
   },
   {
    "duration": 110,
    "start_time": "2023-10-17T08:27:44.587Z"
   },
   {
    "duration": 6,
    "start_time": "2023-10-17T08:27:44.699Z"
   },
   {
    "duration": 184,
    "start_time": "2023-10-17T08:27:44.706Z"
   },
   {
    "duration": 225,
    "start_time": "2023-10-17T08:27:44.891Z"
   },
   {
    "duration": 10,
    "start_time": "2023-10-17T08:27:45.119Z"
   },
   {
    "duration": 54,
    "start_time": "2023-10-17T08:27:45.131Z"
   },
   {
    "duration": 255,
    "start_time": "2023-10-17T08:27:45.187Z"
   },
   {
    "duration": 9,
    "start_time": "2023-10-17T08:27:45.449Z"
   },
   {
    "duration": 121,
    "start_time": "2023-10-17T08:27:45.460Z"
   },
   {
    "duration": 29,
    "start_time": "2023-10-17T08:27:45.583Z"
   },
   {
    "duration": 10,
    "start_time": "2023-10-17T08:27:45.614Z"
   },
   {
    "duration": 35,
    "start_time": "2023-10-17T08:27:45.626Z"
   },
   {
    "duration": 15,
    "start_time": "2023-10-17T08:27:45.663Z"
   },
   {
    "duration": 496,
    "start_time": "2023-10-17T08:27:45.679Z"
   },
   {
    "duration": 291,
    "start_time": "2023-10-17T08:27:46.177Z"
   },
   {
    "duration": 9,
    "start_time": "2023-10-17T08:27:46.469Z"
   },
   {
    "duration": 283,
    "start_time": "2023-10-17T08:27:46.480Z"
   },
   {
    "duration": 11,
    "start_time": "2023-10-17T08:27:46.765Z"
   },
   {
    "duration": 20,
    "start_time": "2023-10-17T08:27:46.778Z"
   },
   {
    "duration": 1001,
    "start_time": "2023-10-17T08:27:46.800Z"
   },
   {
    "duration": 7,
    "start_time": "2023-10-17T08:27:47.803Z"
   },
   {
    "duration": 33,
    "start_time": "2023-10-17T08:27:47.811Z"
   },
   {
    "duration": 209,
    "start_time": "2023-10-17T08:27:47.846Z"
   },
   {
    "duration": 13,
    "start_time": "2023-10-17T08:27:48.056Z"
   },
   {
    "duration": 346,
    "start_time": "2023-10-17T08:27:48.071Z"
   },
   {
    "duration": 10,
    "start_time": "2023-10-17T08:27:48.419Z"
   },
   {
    "duration": 319,
    "start_time": "2023-10-17T08:27:48.431Z"
   },
   {
    "duration": 12,
    "start_time": "2023-10-17T08:27:48.752Z"
   },
   {
    "duration": 66,
    "start_time": "2023-10-17T09:55:47.362Z"
   },
   {
    "duration": 1519,
    "start_time": "2023-10-17T09:55:53.517Z"
   },
   {
    "duration": 206,
    "start_time": "2023-10-17T09:55:55.038Z"
   },
   {
    "duration": 12,
    "start_time": "2023-10-17T09:55:55.246Z"
   },
   {
    "duration": 57,
    "start_time": "2023-10-17T09:55:55.260Z"
   },
   {
    "duration": 12,
    "start_time": "2023-10-17T09:55:55.319Z"
   },
   {
    "duration": 13,
    "start_time": "2023-10-17T09:55:55.332Z"
   },
   {
    "duration": 25,
    "start_time": "2023-10-17T09:55:55.346Z"
   },
   {
    "duration": 22,
    "start_time": "2023-10-17T09:55:55.372Z"
   },
   {
    "duration": 51,
    "start_time": "2023-10-17T09:55:55.396Z"
   },
   {
    "duration": 11,
    "start_time": "2023-10-17T09:55:55.449Z"
   },
   {
    "duration": 6,
    "start_time": "2023-10-17T09:55:55.462Z"
   },
   {
    "duration": 15,
    "start_time": "2023-10-17T09:55:55.470Z"
   },
   {
    "duration": 23,
    "start_time": "2023-10-17T09:55:55.486Z"
   },
   {
    "duration": 15,
    "start_time": "2023-10-17T09:55:55.512Z"
   },
   {
    "duration": 24,
    "start_time": "2023-10-17T09:55:55.529Z"
   },
   {
    "duration": 13,
    "start_time": "2023-10-17T09:55:55.555Z"
   },
   {
    "duration": 50,
    "start_time": "2023-10-17T09:55:55.570Z"
   },
   {
    "duration": 159,
    "start_time": "2023-10-17T09:55:55.621Z"
   },
   {
    "duration": 5,
    "start_time": "2023-10-17T09:55:55.782Z"
   },
   {
    "duration": 175,
    "start_time": "2023-10-17T09:55:55.801Z"
   },
   {
    "duration": 114,
    "start_time": "2023-10-17T09:55:55.979Z"
   },
   {
    "duration": 8,
    "start_time": "2023-10-17T09:55:56.101Z"
   },
   {
    "duration": 195,
    "start_time": "2023-10-17T09:55:56.111Z"
   },
   {
    "duration": 221,
    "start_time": "2023-10-17T09:55:56.308Z"
   },
   {
    "duration": 10,
    "start_time": "2023-10-17T09:55:56.531Z"
   },
   {
    "duration": 28,
    "start_time": "2023-10-17T09:55:56.543Z"
   },
   {
    "duration": 228,
    "start_time": "2023-10-17T09:55:56.573Z"
   },
   {
    "duration": 11,
    "start_time": "2023-10-17T09:55:56.808Z"
   },
   {
    "duration": 126,
    "start_time": "2023-10-17T09:55:56.821Z"
   },
   {
    "duration": 27,
    "start_time": "2023-10-17T09:55:56.949Z"
   },
   {
    "duration": 26,
    "start_time": "2023-10-17T09:55:56.978Z"
   },
   {
    "duration": 22,
    "start_time": "2023-10-17T09:55:57.006Z"
   },
   {
    "duration": 17,
    "start_time": "2023-10-17T09:55:57.030Z"
   },
   {
    "duration": 500,
    "start_time": "2023-10-17T09:55:57.049Z"
   },
   {
    "duration": 304,
    "start_time": "2023-10-17T09:55:57.551Z"
   },
   {
    "duration": 8,
    "start_time": "2023-10-17T09:55:57.857Z"
   },
   {
    "duration": 279,
    "start_time": "2023-10-17T09:55:57.867Z"
   },
   {
    "duration": 9,
    "start_time": "2023-10-17T09:55:58.148Z"
   },
   {
    "duration": 4,
    "start_time": "2023-10-17T09:55:58.159Z"
   },
   {
    "duration": 1004,
    "start_time": "2023-10-17T09:55:58.165Z"
   },
   {
    "duration": 7,
    "start_time": "2023-10-17T09:55:59.170Z"
   },
   {
    "duration": 6,
    "start_time": "2023-10-17T09:55:59.179Z"
   },
   {
    "duration": 170,
    "start_time": "2023-10-17T09:55:59.201Z"
   },
   {
    "duration": 12,
    "start_time": "2023-10-17T09:55:59.373Z"
   },
   {
    "duration": 336,
    "start_time": "2023-10-17T09:55:59.386Z"
   },
   {
    "duration": 10,
    "start_time": "2023-10-17T09:55:59.724Z"
   },
   {
    "duration": 328,
    "start_time": "2023-10-17T09:55:59.736Z"
   },
   {
    "duration": 13,
    "start_time": "2023-10-17T09:56:00.065Z"
   },
   {
    "duration": 8,
    "start_time": "2023-10-17T09:57:51.485Z"
   },
   {
    "duration": 1252,
    "start_time": "2023-10-17T10:15:40.892Z"
   },
   {
    "duration": 71,
    "start_time": "2023-10-17T10:15:42.146Z"
   },
   {
    "duration": 13,
    "start_time": "2023-10-17T10:15:42.219Z"
   },
   {
    "duration": 45,
    "start_time": "2023-10-17T10:15:42.234Z"
   },
   {
    "duration": 41,
    "start_time": "2023-10-17T10:15:42.281Z"
   },
   {
    "duration": 123,
    "start_time": "2023-10-17T10:15:42.323Z"
   },
   {
    "duration": 35,
    "start_time": "2023-10-17T10:15:42.448Z"
   },
   {
    "duration": 26,
    "start_time": "2023-10-17T10:15:42.484Z"
   },
   {
    "duration": 44,
    "start_time": "2023-10-17T10:15:42.511Z"
   },
   {
    "duration": 13,
    "start_time": "2023-10-17T10:15:42.559Z"
   },
   {
    "duration": 28,
    "start_time": "2023-10-17T10:15:42.573Z"
   },
   {
    "duration": 32,
    "start_time": "2023-10-17T10:15:42.603Z"
   },
   {
    "duration": 28,
    "start_time": "2023-10-17T10:15:42.637Z"
   },
   {
    "duration": 28,
    "start_time": "2023-10-17T10:15:42.667Z"
   },
   {
    "duration": 46,
    "start_time": "2023-10-17T10:15:42.697Z"
   },
   {
    "duration": 55,
    "start_time": "2023-10-17T10:15:42.745Z"
   },
   {
    "duration": 16,
    "start_time": "2023-10-17T10:15:42.802Z"
   },
   {
    "duration": 143,
    "start_time": "2023-10-17T10:15:42.820Z"
   },
   {
    "duration": 6,
    "start_time": "2023-10-17T10:15:42.964Z"
   },
   {
    "duration": 198,
    "start_time": "2023-10-17T10:15:42.971Z"
   },
   {
    "duration": 107,
    "start_time": "2023-10-17T10:15:43.171Z"
   },
   {
    "duration": 9,
    "start_time": "2023-10-17T10:15:43.280Z"
   },
   {
    "duration": 204,
    "start_time": "2023-10-17T10:15:43.291Z"
   },
   {
    "duration": 203,
    "start_time": "2023-10-17T10:15:43.497Z"
   },
   {
    "duration": 9,
    "start_time": "2023-10-17T10:15:43.702Z"
   },
   {
    "duration": 38,
    "start_time": "2023-10-17T10:15:43.712Z"
   },
   {
    "duration": 224,
    "start_time": "2023-10-17T10:15:43.752Z"
   },
   {
    "duration": 20,
    "start_time": "2023-10-17T10:15:43.981Z"
   },
   {
    "duration": 120,
    "start_time": "2023-10-17T10:15:44.003Z"
   },
   {
    "duration": 29,
    "start_time": "2023-10-17T10:15:44.125Z"
   },
   {
    "duration": 25,
    "start_time": "2023-10-17T10:15:44.156Z"
   },
   {
    "duration": 43,
    "start_time": "2023-10-17T10:15:44.182Z"
   },
   {
    "duration": 45,
    "start_time": "2023-10-17T10:15:44.226Z"
   },
   {
    "duration": 521,
    "start_time": "2023-10-17T10:15:44.273Z"
   },
   {
    "duration": 268,
    "start_time": "2023-10-17T10:15:44.796Z"
   },
   {
    "duration": 9,
    "start_time": "2023-10-17T10:15:45.065Z"
   },
   {
    "duration": 375,
    "start_time": "2023-10-17T10:15:45.076Z"
   },
   {
    "duration": 9,
    "start_time": "2023-10-17T10:15:45.453Z"
   },
   {
    "duration": 32,
    "start_time": "2023-10-17T10:15:45.463Z"
   },
   {
    "duration": 883,
    "start_time": "2023-10-17T10:15:45.497Z"
   },
   {
    "duration": 7,
    "start_time": "2023-10-17T10:15:46.382Z"
   },
   {
    "duration": 3,
    "start_time": "2023-10-17T10:15:46.402Z"
   },
   {
    "duration": 173,
    "start_time": "2023-10-17T10:15:46.407Z"
   },
   {
    "duration": 23,
    "start_time": "2023-10-17T10:15:46.583Z"
   },
   {
    "duration": 309,
    "start_time": "2023-10-17T10:15:46.608Z"
   },
   {
    "duration": 10,
    "start_time": "2023-10-17T10:15:46.919Z"
   },
   {
    "duration": 303,
    "start_time": "2023-10-17T10:15:46.930Z"
   },
   {
    "duration": 12,
    "start_time": "2023-10-17T10:15:47.235Z"
   },
   {
    "duration": 1317,
    "start_time": "2023-10-17T17:03:12.051Z"
   },
   {
    "duration": 194,
    "start_time": "2023-10-17T17:03:13.370Z"
   },
   {
    "duration": 12,
    "start_time": "2023-10-17T17:03:13.565Z"
   },
   {
    "duration": 16,
    "start_time": "2023-10-17T17:03:13.580Z"
   },
   {
    "duration": 10,
    "start_time": "2023-10-17T17:03:13.597Z"
   },
   {
    "duration": 14,
    "start_time": "2023-10-17T17:03:13.608Z"
   },
   {
    "duration": 14,
    "start_time": "2023-10-17T17:03:13.623Z"
   },
   {
    "duration": 17,
    "start_time": "2023-10-17T17:03:13.638Z"
   },
   {
    "duration": 29,
    "start_time": "2023-10-17T17:03:13.657Z"
   },
   {
    "duration": 8,
    "start_time": "2023-10-17T17:03:13.689Z"
   },
   {
    "duration": 5,
    "start_time": "2023-10-17T17:03:13.699Z"
   },
   {
    "duration": 113,
    "start_time": "2023-10-17T17:03:13.705Z"
   },
   {
    "duration": 27,
    "start_time": "2023-10-17T17:03:13.820Z"
   },
   {
    "duration": 13,
    "start_time": "2023-10-17T17:03:13.849Z"
   },
   {
    "duration": 23,
    "start_time": "2023-10-17T17:03:13.863Z"
   },
   {
    "duration": 14,
    "start_time": "2023-10-17T17:03:13.887Z"
   },
   {
    "duration": 38,
    "start_time": "2023-10-17T17:03:13.902Z"
   },
   {
    "duration": 140,
    "start_time": "2023-10-17T17:03:13.942Z"
   },
   {
    "duration": 5,
    "start_time": "2023-10-17T17:03:14.083Z"
   },
   {
    "duration": 148,
    "start_time": "2023-10-17T17:03:14.089Z"
   },
   {
    "duration": 83,
    "start_time": "2023-10-17T17:03:14.240Z"
   },
   {
    "duration": 17,
    "start_time": "2023-10-17T17:03:14.324Z"
   },
   {
    "duration": 150,
    "start_time": "2023-10-17T17:03:14.342Z"
   },
   {
    "duration": 177,
    "start_time": "2023-10-17T17:03:14.494Z"
   },
   {
    "duration": 8,
    "start_time": "2023-10-17T17:03:14.673Z"
   },
   {
    "duration": 17,
    "start_time": "2023-10-17T17:03:14.682Z"
   },
   {
    "duration": 178,
    "start_time": "2023-10-17T17:03:14.700Z"
   },
   {
    "duration": 7,
    "start_time": "2023-10-17T17:03:14.881Z"
   },
   {
    "duration": 93,
    "start_time": "2023-10-17T17:03:14.889Z"
   },
   {
    "duration": 23,
    "start_time": "2023-10-17T17:03:14.983Z"
   },
   {
    "duration": 8,
    "start_time": "2023-10-17T17:03:15.007Z"
   },
   {
    "duration": 34,
    "start_time": "2023-10-17T17:03:15.016Z"
   },
   {
    "duration": 13,
    "start_time": "2023-10-17T17:03:15.051Z"
   },
   {
    "duration": 368,
    "start_time": "2023-10-17T17:03:15.065Z"
   },
   {
    "duration": 223,
    "start_time": "2023-10-17T17:03:15.439Z"
   },
   {
    "duration": 8,
    "start_time": "2023-10-17T17:03:15.664Z"
   },
   {
    "duration": 205,
    "start_time": "2023-10-17T17:03:15.673Z"
   },
   {
    "duration": 7,
    "start_time": "2023-10-17T17:03:15.879Z"
   },
   {
    "duration": 3,
    "start_time": "2023-10-17T17:03:15.888Z"
   },
   {
    "duration": 894,
    "start_time": "2023-10-17T17:03:15.893Z"
   },
   {
    "duration": 5,
    "start_time": "2023-10-17T17:03:16.788Z"
   },
   {
    "duration": 13,
    "start_time": "2023-10-17T17:03:16.794Z"
   },
   {
    "duration": 152,
    "start_time": "2023-10-17T17:03:16.808Z"
   },
   {
    "duration": 11,
    "start_time": "2023-10-17T17:03:16.962Z"
   },
   {
    "duration": 244,
    "start_time": "2023-10-17T17:03:16.974Z"
   },
   {
    "duration": 8,
    "start_time": "2023-10-17T17:03:17.220Z"
   },
   {
    "duration": 226,
    "start_time": "2023-10-17T17:03:17.240Z"
   },
   {
    "duration": 10,
    "start_time": "2023-10-17T17:03:17.468Z"
   }
  ],
  "kernelspec": {
   "display_name": "Python 3 (ipykernel)",
   "language": "python",
   "name": "python3"
  },
  "language_info": {
   "codemirror_mode": {
    "name": "ipython",
    "version": 3
   },
   "file_extension": ".py",
   "mimetype": "text/x-python",
   "name": "python",
   "nbconvert_exporter": "python",
   "pygments_lexer": "ipython3",
   "version": "3.9.5"
  },
  "toc": {
   "base_numbering": 1,
   "nav_menu": {},
   "number_sections": true,
   "sideBar": true,
   "skip_h1_title": true,
   "title_cell": "Table of Contents",
   "title_sidebar": "Contents",
   "toc_cell": false,
   "toc_position": {
    "height": "calc(100% - 180px)",
    "left": "10px",
    "top": "150px",
    "width": "307px"
   },
   "toc_section_display": true,
   "toc_window_display": true
  }
 },
 "nbformat": 4,
 "nbformat_minor": 5
}
