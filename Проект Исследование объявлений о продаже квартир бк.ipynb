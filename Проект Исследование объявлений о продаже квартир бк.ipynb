{
 "cells": [
  {
   "cell_type": "markdown",
   "metadata": {},
   "source": [
    "# Исследование объявлений о продаже квартир\n",
    "\n",
    "В вашем распоряжении данные сервиса Яндекс.Недвижимость — архив объявлений о продаже квартир в Санкт-Петербурге и соседних населённых пунктов за несколько лет. Нужно научиться определять рыночную стоимость объектов недвижимости. Ваша задача — установить параметры. Это позволит построить автоматизированную систему: она отследит аномалии и мошенническую деятельность. \n",
    "\n",
    "По каждой квартире на продажу доступны два вида данных. Первые вписаны пользователем, вторые — получены автоматически на основе картографических данных. Например, расстояние до центра, аэропорта, ближайшего парка и водоёма. "
   ]
  },
  {
   "cell_type": "markdown",
   "metadata": {},
   "source": [
    "### Откройте файл с данными и изучите общую информацию. "
   ]
  },
  {
   "cell_type": "code",
   "execution_count": 1,
   "metadata": {},
   "outputs": [
    {
     "name": "stdout",
     "output_type": "stream",
     "text": [
      "<class 'pandas.core.frame.DataFrame'>\n",
      "RangeIndex: 23699 entries, 0 to 23698\n",
      "Data columns (total 22 columns):\n",
      " #   Column                Non-Null Count  Dtype  \n",
      "---  ------                --------------  -----  \n",
      " 0   total_images          23699 non-null  int64  \n",
      " 1   last_price            23699 non-null  float64\n",
      " 2   total_area            23699 non-null  float64\n",
      " 3   first_day_exposition  23699 non-null  object \n",
      " 4   rooms                 23699 non-null  int64  \n",
      " 5   ceiling_height        14504 non-null  float64\n",
      " 6   floors_total          23613 non-null  float64\n",
      " 7   living_area           21796 non-null  float64\n",
      " 8   floor                 23699 non-null  int64  \n",
      " 9   is_apartment          2775 non-null   object \n",
      " 10  studio                23699 non-null  bool   \n",
      " 11  open_plan             23699 non-null  bool   \n",
      " 12  kitchen_area          21421 non-null  float64\n",
      " 13  balcony               12180 non-null  float64\n",
      " 14  locality_name         23650 non-null  object \n",
      " 15  airports_nearest      18157 non-null  float64\n",
      " 16  cityCenters_nearest   18180 non-null  float64\n",
      " 17  parks_around3000      18181 non-null  float64\n",
      " 18  parks_nearest         8079 non-null   float64\n",
      " 19  ponds_around3000      18181 non-null  float64\n",
      " 20  ponds_nearest         9110 non-null   float64\n",
      " 21  days_exposition       20518 non-null  float64\n",
      "dtypes: bool(2), float64(14), int64(3), object(3)\n",
      "memory usage: 3.7+ MB\n"
     ]
    }
   ],
   "source": [
    "import pandas as pd\n",
    "import matplotlib.pyplot as plt\n",
    "import seaborn as sns\n",
    "pd.set_option('display.max_columns', None)\n",
    "\n",
    "data = pd.read_csv('/datasets/real_estate_data.csv', sep=\"\\t\")\n",
    "data.info()\n"
   ]
  },
  {
   "cell_type": "code",
   "execution_count": 2,
   "metadata": {},
   "outputs": [
    {
     "data": {
      "text/plain": [
       "(23699, 22)"
      ]
     },
     "execution_count": 2,
     "metadata": {},
     "output_type": "execute_result"
    }
   ],
   "source": [
    "data.shape"
   ]
  },
  {
   "cell_type": "code",
   "execution_count": 3,
   "metadata": {},
   "outputs": [
    {
     "data": {
      "text/html": [
       "<div>\n",
       "<style scoped>\n",
       "    .dataframe tbody tr th:only-of-type {\n",
       "        vertical-align: middle;\n",
       "    }\n",
       "\n",
       "    .dataframe tbody tr th {\n",
       "        vertical-align: top;\n",
       "    }\n",
       "\n",
       "    .dataframe thead th {\n",
       "        text-align: right;\n",
       "    }\n",
       "</style>\n",
       "<table border=\"1\" class=\"dataframe\">\n",
       "  <thead>\n",
       "    <tr style=\"text-align: right;\">\n",
       "      <th></th>\n",
       "      <th>total_images</th>\n",
       "      <th>last_price</th>\n",
       "      <th>total_area</th>\n",
       "      <th>first_day_exposition</th>\n",
       "      <th>rooms</th>\n",
       "      <th>ceiling_height</th>\n",
       "      <th>floors_total</th>\n",
       "      <th>living_area</th>\n",
       "      <th>floor</th>\n",
       "      <th>is_apartment</th>\n",
       "      <th>studio</th>\n",
       "      <th>open_plan</th>\n",
       "      <th>kitchen_area</th>\n",
       "      <th>balcony</th>\n",
       "      <th>locality_name</th>\n",
       "      <th>airports_nearest</th>\n",
       "      <th>cityCenters_nearest</th>\n",
       "      <th>parks_around3000</th>\n",
       "      <th>parks_nearest</th>\n",
       "      <th>ponds_around3000</th>\n",
       "      <th>ponds_nearest</th>\n",
       "      <th>days_exposition</th>\n",
       "    </tr>\n",
       "  </thead>\n",
       "  <tbody>\n",
       "    <tr>\n",
       "      <th>0</th>\n",
       "      <td>20</td>\n",
       "      <td>13000000.0</td>\n",
       "      <td>108.0</td>\n",
       "      <td>2019-03-07T00:00:00</td>\n",
       "      <td>3</td>\n",
       "      <td>2.70</td>\n",
       "      <td>16.0</td>\n",
       "      <td>51.0</td>\n",
       "      <td>8</td>\n",
       "      <td>NaN</td>\n",
       "      <td>False</td>\n",
       "      <td>False</td>\n",
       "      <td>25.0</td>\n",
       "      <td>NaN</td>\n",
       "      <td>Санкт-Петербург</td>\n",
       "      <td>18863.0</td>\n",
       "      <td>16028.0</td>\n",
       "      <td>1.0</td>\n",
       "      <td>482.0</td>\n",
       "      <td>2.0</td>\n",
       "      <td>755.0</td>\n",
       "      <td>NaN</td>\n",
       "    </tr>\n",
       "    <tr>\n",
       "      <th>1</th>\n",
       "      <td>7</td>\n",
       "      <td>3350000.0</td>\n",
       "      <td>40.4</td>\n",
       "      <td>2018-12-04T00:00:00</td>\n",
       "      <td>1</td>\n",
       "      <td>NaN</td>\n",
       "      <td>11.0</td>\n",
       "      <td>18.6</td>\n",
       "      <td>1</td>\n",
       "      <td>NaN</td>\n",
       "      <td>False</td>\n",
       "      <td>False</td>\n",
       "      <td>11.0</td>\n",
       "      <td>2.0</td>\n",
       "      <td>посёлок Шушары</td>\n",
       "      <td>12817.0</td>\n",
       "      <td>18603.0</td>\n",
       "      <td>0.0</td>\n",
       "      <td>NaN</td>\n",
       "      <td>0.0</td>\n",
       "      <td>NaN</td>\n",
       "      <td>81.0</td>\n",
       "    </tr>\n",
       "    <tr>\n",
       "      <th>2</th>\n",
       "      <td>10</td>\n",
       "      <td>5196000.0</td>\n",
       "      <td>56.0</td>\n",
       "      <td>2015-08-20T00:00:00</td>\n",
       "      <td>2</td>\n",
       "      <td>NaN</td>\n",
       "      <td>5.0</td>\n",
       "      <td>34.3</td>\n",
       "      <td>4</td>\n",
       "      <td>NaN</td>\n",
       "      <td>False</td>\n",
       "      <td>False</td>\n",
       "      <td>8.3</td>\n",
       "      <td>0.0</td>\n",
       "      <td>Санкт-Петербург</td>\n",
       "      <td>21741.0</td>\n",
       "      <td>13933.0</td>\n",
       "      <td>1.0</td>\n",
       "      <td>90.0</td>\n",
       "      <td>2.0</td>\n",
       "      <td>574.0</td>\n",
       "      <td>558.0</td>\n",
       "    </tr>\n",
       "    <tr>\n",
       "      <th>3</th>\n",
       "      <td>0</td>\n",
       "      <td>64900000.0</td>\n",
       "      <td>159.0</td>\n",
       "      <td>2015-07-24T00:00:00</td>\n",
       "      <td>3</td>\n",
       "      <td>NaN</td>\n",
       "      <td>14.0</td>\n",
       "      <td>NaN</td>\n",
       "      <td>9</td>\n",
       "      <td>NaN</td>\n",
       "      <td>False</td>\n",
       "      <td>False</td>\n",
       "      <td>NaN</td>\n",
       "      <td>0.0</td>\n",
       "      <td>Санкт-Петербург</td>\n",
       "      <td>28098.0</td>\n",
       "      <td>6800.0</td>\n",
       "      <td>2.0</td>\n",
       "      <td>84.0</td>\n",
       "      <td>3.0</td>\n",
       "      <td>234.0</td>\n",
       "      <td>424.0</td>\n",
       "    </tr>\n",
       "    <tr>\n",
       "      <th>4</th>\n",
       "      <td>2</td>\n",
       "      <td>10000000.0</td>\n",
       "      <td>100.0</td>\n",
       "      <td>2018-06-19T00:00:00</td>\n",
       "      <td>2</td>\n",
       "      <td>3.03</td>\n",
       "      <td>14.0</td>\n",
       "      <td>32.0</td>\n",
       "      <td>13</td>\n",
       "      <td>NaN</td>\n",
       "      <td>False</td>\n",
       "      <td>False</td>\n",
       "      <td>41.0</td>\n",
       "      <td>NaN</td>\n",
       "      <td>Санкт-Петербург</td>\n",
       "      <td>31856.0</td>\n",
       "      <td>8098.0</td>\n",
       "      <td>2.0</td>\n",
       "      <td>112.0</td>\n",
       "      <td>1.0</td>\n",
       "      <td>48.0</td>\n",
       "      <td>121.0</td>\n",
       "    </tr>\n",
       "  </tbody>\n",
       "</table>\n",
       "</div>"
      ],
      "text/plain": [
       "   total_images  last_price  total_area first_day_exposition  rooms  \\\n",
       "0            20  13000000.0       108.0  2019-03-07T00:00:00      3   \n",
       "1             7   3350000.0        40.4  2018-12-04T00:00:00      1   \n",
       "2            10   5196000.0        56.0  2015-08-20T00:00:00      2   \n",
       "3             0  64900000.0       159.0  2015-07-24T00:00:00      3   \n",
       "4             2  10000000.0       100.0  2018-06-19T00:00:00      2   \n",
       "\n",
       "   ceiling_height  floors_total  living_area  floor is_apartment  studio  \\\n",
       "0            2.70          16.0         51.0      8          NaN   False   \n",
       "1             NaN          11.0         18.6      1          NaN   False   \n",
       "2             NaN           5.0         34.3      4          NaN   False   \n",
       "3             NaN          14.0          NaN      9          NaN   False   \n",
       "4            3.03          14.0         32.0     13          NaN   False   \n",
       "\n",
       "   open_plan  kitchen_area  balcony    locality_name  airports_nearest  \\\n",
       "0      False          25.0      NaN  Санкт-Петербург           18863.0   \n",
       "1      False          11.0      2.0   посёлок Шушары           12817.0   \n",
       "2      False           8.3      0.0  Санкт-Петербург           21741.0   \n",
       "3      False           NaN      0.0  Санкт-Петербург           28098.0   \n",
       "4      False          41.0      NaN  Санкт-Петербург           31856.0   \n",
       "\n",
       "   cityCenters_nearest  parks_around3000  parks_nearest  ponds_around3000  \\\n",
       "0              16028.0               1.0          482.0               2.0   \n",
       "1              18603.0               0.0            NaN               0.0   \n",
       "2              13933.0               1.0           90.0               2.0   \n",
       "3               6800.0               2.0           84.0               3.0   \n",
       "4               8098.0               2.0          112.0               1.0   \n",
       "\n",
       "   ponds_nearest  days_exposition  \n",
       "0          755.0              NaN  \n",
       "1            NaN             81.0  \n",
       "2          574.0            558.0  \n",
       "3          234.0            424.0  \n",
       "4           48.0            121.0  "
      ]
     },
     "execution_count": 3,
     "metadata": {},
     "output_type": "execute_result"
    }
   ],
   "source": [
    "data.head(5)"
   ]
  },
  {
   "cell_type": "markdown",
   "metadata": {},
   "source": [
    "* приведем в соответствие стилю наименование столбцов:"
   ]
  },
  {
   "cell_type": "code",
   "execution_count": 4,
   "metadata": {},
   "outputs": [
    {
     "data": {
      "text/plain": [
       "Index(['total_images', 'last_price', 'total_area', 'first_day_exposition',\n",
       "       'rooms', 'ceiling_height', 'floors_total', 'living_area', 'floor',\n",
       "       'is_apartment', 'studio', 'open_plan', 'kitchen_area', 'balcony',\n",
       "       'locality_name', 'airports_nearest', 'city_centers_nearest',\n",
       "       'parks_around_3000', 'parks_nearest', 'ponds_around_3000',\n",
       "       'ponds_nearest', 'days_exposition'],\n",
       "      dtype='object')"
      ]
     },
     "execution_count": 4,
     "metadata": {},
     "output_type": "execute_result"
    }
   ],
   "source": [
    "data = data.rename(\n",
    "    columns={'parks_around3000':'parks_around_3000', \n",
    "             'ponds_around3000':'ponds_around_3000', \n",
    "             'cityCenters_nearest':'city_centers_nearest'}\n",
    ")\n",
    "#проверим изменения\n",
    "data.columns"
   ]
  },
  {
   "cell_type": "code",
   "execution_count": 5,
   "metadata": {},
   "outputs": [
    {
     "data": {
      "text/plain": [
       "array([[<AxesSubplot:title={'center':'total_images'}>,\n",
       "        <AxesSubplot:title={'center':'last_price'}>,\n",
       "        <AxesSubplot:title={'center':'total_area'}>,\n",
       "        <AxesSubplot:title={'center':'rooms'}>],\n",
       "       [<AxesSubplot:title={'center':'ceiling_height'}>,\n",
       "        <AxesSubplot:title={'center':'floors_total'}>,\n",
       "        <AxesSubplot:title={'center':'living_area'}>,\n",
       "        <AxesSubplot:title={'center':'floor'}>],\n",
       "       [<AxesSubplot:title={'center':'kitchen_area'}>,\n",
       "        <AxesSubplot:title={'center':'balcony'}>,\n",
       "        <AxesSubplot:title={'center':'airports_nearest'}>,\n",
       "        <AxesSubplot:title={'center':'city_centers_nearest'}>],\n",
       "       [<AxesSubplot:title={'center':'parks_around_3000'}>,\n",
       "        <AxesSubplot:title={'center':'parks_nearest'}>,\n",
       "        <AxesSubplot:title={'center':'ponds_around_3000'}>,\n",
       "        <AxesSubplot:title={'center':'ponds_nearest'}>],\n",
       "       [<AxesSubplot:title={'center':'days_exposition'}>, <AxesSubplot:>,\n",
       "        <AxesSubplot:>, <AxesSubplot:>]], dtype=object)"
      ]
     },
     "execution_count": 5,
     "metadata": {},
     "output_type": "execute_result"
    },
    {
     "data": {
      "image/png": "[encoded data removed]",
      "text/plain": [
       "<Figure size 1080x1440 with 20 Axes>"
      ]
     },
     "metadata": {
      "needs_background": "light"
     },
     "output_type": "display_data"
    }
   ],
   "source": [
    "#строим гистограмму для всех числовых столбцов data\n",
    "data.hist(figsize=(15,20))"
   ]
  },
  {
   "cell_type": "markdown",
   "metadata": {},
   "source": [
    "Выводы по гистограммам:\n",
    "\n",
    "        + total_images - есть квартиры, проданные без фотографий.\n",
    "        + last_price - гистограмма не информативна, нужно детально изучить столбец.\n",
    "        + total_area - в основном продаются квартиры с общей площадью до 100 кв.м, что похоже на реальность.\n",
    "        + rooms - в основном продаются квартиры до 5 комнат, что похоже на реальность.\n",
    "        + ceiling_height - гистограмма не информативна, нужно заполнить пропуски и посмотреть на распределение.\n",
    "        + floors_total - в большинстве домов до 10-ти этажей, что похоже на реальность. \n",
    "        + living_area - в основном продаются квартиры с жилой площадью менее 100 кв.м, что похоже на реальность.\n",
    "        + floor - пик гистограммы ниже 10, похоже на реальность, прослеживается связь с floors_total.\n",
    "        + kitchen_area - в основном площадь кухни меньше 25 кв. м, похоже на реальность.\n",
    "        + balcony - в данных есть пропуски, тк квартиры могут быть и без балконов.\n",
    "        + airports_nearest, city_centers_nearest,parks_nearest,ponds_nearest -распределение нормальное,похоже на реальность.\n",
    "        + parks_around_3000,ponds_around_3000 -больше всего значений около 0 и уменьшение значений к 3,похоже на реальность.\n",
    "        + days_exposition - пик значений меньше 100, похоже на реальность."
   ]
  },
  {
   "cell_type": "markdown",
   "metadata": {},
   "source": [
    "### Предобработка данных"
   ]
  },
  {
   "cell_type": "markdown",
   "metadata": {},
   "source": [
    "#### Посчитаем пропущенные значения в данных."
   ]
  },
  {
   "cell_type": "code",
   "execution_count": 6,
   "metadata": {},
   "outputs": [
    {
     "data": {
      "text/plain": [
       "total_images                0\n",
       "last_price                  0\n",
       "total_area                  0\n",
       "first_day_exposition        0\n",
       "rooms                       0\n",
       "ceiling_height           9195\n",
       "floors_total               86\n",
       "living_area              1903\n",
       "floor                       0\n",
       "is_apartment            20924\n",
       "studio                      0\n",
       "open_plan                   0\n",
       "kitchen_area             2278\n",
       "balcony                 11519\n",
       "locality_name              49\n",
       "airports_nearest         5542\n",
       "city_centers_nearest     5519\n",
       "parks_around_3000        5518\n",
       "parks_nearest           15620\n",
       "ponds_around_3000        5518\n",
       "ponds_nearest           14589\n",
       "days_exposition          3181\n",
       "dtype: int64"
      ]
     },
     "execution_count": 6,
     "metadata": {},
     "output_type": "execute_result"
    }
   ],
   "source": [
    "data.isna().sum()"
   ]
  },
  {
   "cell_type": "markdown",
   "metadata": {},
   "source": [
    "#### Тип данных в floors_total заменим на int так как количество этажей это целое число, пропуски заменим на \"0\". Пропущенных значений в 'locality_name' меньше 1% - заменим пропущенные значения в названии локации на 'unknown'. Это не повлияет на чистоту данных для анализа. "
   ]
  },
  {
   "cell_type": "code",
   "execution_count": 7,
   "metadata": {},
   "outputs": [
    {
     "data": {
      "text/plain": [
       "0"
      ]
     },
     "metadata": {},
     "output_type": "display_data"
    },
    {
     "data": {
      "text/plain": [
       "0"
      ]
     },
     "metadata": {},
     "output_type": "display_data"
    }
   ],
   "source": [
    "data['floors_total'] = data['floors_total'].fillna(0)\n",
    "data['floors_total'] = data['floors_total'].astype('int')\n",
    "\n",
    "#заменим пропущенные значения в количестве этажей и названии локации на 'unknown'\n",
    "columns_to_replace = ['locality_name']\n",
    "for column in columns_to_replace:\n",
    "    data[column] = data[column].fillna('unknown')\n",
    "#проверим сколько пропусков осталось\n",
    "display(data['floors_total'].isna().sum(), data['locality_name'].isna().sum())"
   ]
  },
  {
   "cell_type": "markdown",
   "metadata": {},
   "source": [
    "#### Если пользователь не указал число балконов,скорее всего в его квартире их нет, меняем пропуски на 0."
   ]
  },
  {
   "cell_type": "code",
   "execution_count": 8,
   "metadata": {},
   "outputs": [
    {
     "data": {
      "text/plain": [
       "0"
      ]
     },
     "execution_count": 8,
     "metadata": {},
     "output_type": "execute_result"
    }
   ],
   "source": [
    "#меняем пропуски на 0.\n",
    "data['balcony'] = data['balcony'].fillna(value=0)\n",
    "data['balcony'].isna().sum()"
   ]
  },
  {
   "cell_type": "code",
   "execution_count": 9,
   "metadata": {},
   "outputs": [],
   "source": [
    "data['balcony'] = data['balcony'].astype('int')"
   ]
  },
  {
   "cell_type": "markdown",
   "metadata": {},
   "source": [
    "#### Проущенные значения в столбцах airports_nearest, cityCenters_nearest, ponds_nearest - это ошибка выгрузки геоданных. В этих столбцах пропуски заполним медианой по сгруппированным значениям."
   ]
  },
  {
   "cell_type": "markdown",
   "metadata": {},
   "source": [
    "#### Тип данных в first_day_exposition заменим на datetime для дальнейшего анализа."
   ]
  },
  {
   "cell_type": "code",
   "execution_count": 10,
   "metadata": {},
   "outputs": [
    {
     "data": {
      "text/plain": [
       "0   2019-03-07\n",
       "1   2018-12-04\n",
       "2   2015-08-20\n",
       "3   2015-07-24\n",
       "4   2018-06-19\n",
       "Name: first_day_exposition, dtype: datetime64[ns]"
      ]
     },
     "execution_count": 10,
     "metadata": {},
     "output_type": "execute_result"
    }
   ],
   "source": [
    "data['first_day_exposition'] = pd.to_datetime(data['first_day_exposition'],format=\"%Y-%m-%dT%H:%M\")\n",
    "data['first_day_exposition'].head(5)"
   ]
  },
  {
   "cell_type": "markdown",
   "metadata": {},
   "source": [
    "#### В 'is_apartment' должны содержатся булевы значения, пропуски - скорее всего не заполненные пользователем поля, заменим на False. Тип данных заменим на 'bool'."
   ]
  },
  {
   "cell_type": "code",
   "execution_count": 11,
   "metadata": {},
   "outputs": [
    {
     "data": {
      "text/plain": [
       "array([nan, False, True], dtype=object)"
      ]
     },
     "metadata": {},
     "output_type": "display_data"
    },
    {
     "data": {
      "text/plain": [
       "array([False,  True])"
      ]
     },
     "execution_count": 11,
     "metadata": {},
     "output_type": "execute_result"
    }
   ],
   "source": [
    "#в 'is_apartment'пропуски заменим на False.\n",
    "display(data['is_apartment'].unique())\n",
    "data['is_apartment'] = data['is_apartment'].fillna(value=False)\n",
    "\n",
    "data['is_apartment'].astype(bool)\n",
    "data['is_apartment'].unique()"
   ]
  },
  {
   "cell_type": "markdown",
   "metadata": {},
   "source": [
    "#### Проверим, есть ли в данных явные дубликаты"
   ]
  },
  {
   "cell_type": "code",
   "execution_count": 12,
   "metadata": {},
   "outputs": [
    {
     "data": {
      "text/plain": [
       "0"
      ]
     },
     "execution_count": 12,
     "metadata": {},
     "output_type": "execute_result"
    }
   ],
   "source": [
    "data.duplicated().sum()"
   ]
  },
  {
   "cell_type": "markdown",
   "metadata": {},
   "source": [
    "#### Обработаем неявные дубликаты в 'locality_name' методом replace(). Удалим тип городского поселения и оставим только названия."
   ]
  },
  {
   "cell_type": "code",
   "execution_count": 13,
   "metadata": {},
   "outputs": [
    {
     "name": "stdout",
     "output_type": "stream",
     "text": [
      "['Санкт-Петербург' 'посёлок Шушары' 'городской посёлок Янино-1'\n",
      " 'посёлок Парголово' 'посёлок Мурино' 'Ломоносов' 'Сертолово' 'Петергоф'\n",
      " 'Пушкин' 'деревня Кудрово' 'Коммунар' 'Колпино'\n",
      " 'поселок городского типа Красный Бор' 'Гатчина' 'поселок Мурино'\n",
      " 'деревня Фёдоровское' 'Выборг' 'Кронштадт' 'Кировск'\n",
      " 'деревня Новое Девяткино' 'посёлок Металлострой'\n",
      " 'посёлок городского типа Лебяжье' 'посёлок городского типа Сиверский'\n",
      " 'поселок Молодцово' 'поселок городского типа Кузьмоловский'\n",
      " 'садовое товарищество Новая Ропша' 'Павловск' 'деревня Пикколово'\n",
      " 'Всеволожск' 'Волхов' 'Кингисепп' 'Приозерск' 'Сестрорецк'\n",
      " 'деревня Куттузи' 'посёлок Аннино' 'поселок городского типа Ефимовский'\n",
      " 'посёлок Плодовое' 'деревня Заклинье' 'поселок Торковичи'\n",
      " 'поселок Первомайское' 'Красное Село' 'посёлок Понтонный' 'Сясьстрой'\n",
      " 'деревня Старая' 'деревня Лесколово' 'посёлок Новый Свет' 'Сланцы'\n",
      " 'село Путилово' 'Ивангород' 'Мурино' 'Шлиссельбург' 'Никольское'\n",
      " 'Зеленогорск' 'Сосновый Бор' 'поселок Новый Свет' 'деревня Оржицы'\n",
      " 'деревня Кальтино' 'Кудрово' 'поселок Романовка' 'посёлок Бугры'\n",
      " 'поселок Бугры' 'поселок городского типа Рощино' 'Кириши' 'Луга'\n",
      " 'Волосово' 'Отрадное' 'село Павлово' 'поселок Оредеж' 'село Копорье'\n",
      " 'посёлок городского типа Красный Бор' 'посёлок Молодёжное' 'Тихвин'\n",
      " 'посёлок Победа' 'деревня Нурма' 'поселок городского типа Синявино'\n",
      " 'Тосно' 'посёлок городского типа Кузьмоловский' 'посёлок Стрельна'\n",
      " 'Бокситогорск' 'посёлок Александровская' 'деревня Лопухинка' 'Пикалёво'\n",
      " 'поселок Терволово' 'поселок городского типа Советский' 'Подпорожье'\n",
      " 'посёлок Петровское' 'посёлок городского типа Токсово' 'поселок Сельцо'\n",
      " 'посёлок городского типа Вырица' 'деревня Кипень' 'деревня Келози'\n",
      " 'деревня Вартемяги' 'посёлок Тельмана' 'поселок Севастьяново'\n",
      " 'городской поселок Большая Ижора' 'unknown' 'городской посёлок Павлово'\n",
      " 'деревня Агалатово' 'посёлок Новогорелово'\n",
      " 'городской посёлок Лесогорский' 'деревня Лаголово' 'поселок Цвелодубово'\n",
      " 'поселок городского типа Рахья' 'поселок городского типа Вырица'\n",
      " 'деревня Белогорка' 'поселок Заводской' 'городской посёлок Новоселье'\n",
      " 'деревня Большие Колпаны' 'деревня Горбунки' 'деревня Батово'\n",
      " 'деревня Заневка' 'деревня Иссад' 'Приморск'\n",
      " 'городской посёлок Фёдоровское' 'деревня Мистолово' 'Новая Ладога'\n",
      " 'поселок Зимитицы' 'поселок Барышево' 'деревня Разметелево'\n",
      " 'поселок городского типа имени Свердлова' 'деревня Пеники'\n",
      " 'поселок Рябово' 'деревня Пудомяги' 'поселок станции Корнево'\n",
      " 'деревня Низино' 'деревня Бегуницы' 'посёлок Поляны'\n",
      " 'городской посёлок Мга' 'поселок Елизаветино'\n",
      " 'посёлок городского типа Кузнечное' 'деревня Колтуши'\n",
      " 'поселок Запорожское' 'посёлок городского типа Рощино'\n",
      " 'деревня Гостилицы' 'деревня Малое Карлино' 'посёлок Мичуринское'\n",
      " 'посёлок городского типа имени Морозова' 'посёлок Песочный'\n",
      " 'посёлок Сосново' 'деревня Аро' 'поселок Ильичёво'\n",
      " 'посёлок городского типа Тайцы' 'деревня Малое Верево' 'деревня Извара'\n",
      " 'поселок станции Вещево' 'село Паша' 'деревня Калитино'\n",
      " 'посёлок городского типа Ульяновка' 'деревня Чудской Бор'\n",
      " 'поселок городского типа Дубровка' 'деревня Мины' 'поселок Войсковицы'\n",
      " 'посёлок городского типа имени Свердлова' 'деревня Коркино'\n",
      " 'посёлок Ропша' 'поселок городского типа Приладожский' 'посёлок Щеглово'\n",
      " 'посёлок Гаврилово' 'Лодейное Поле' 'деревня Рабитицы'\n",
      " 'поселок городского типа Никольский' 'деревня Кузьмолово'\n",
      " 'деревня Малые Колпаны' 'поселок Тельмана' 'посёлок Петро-Славянка'\n",
      " 'городской посёлок Назия' 'посёлок Репино' 'посёлок Ильичёво'\n",
      " 'поселок Углово' 'поселок Старая Малукса' 'садовое товарищество Рахья'\n",
      " 'поселок Аннино' 'поселок Победа' 'деревня Меньково'\n",
      " 'деревня Старые Бегуницы' 'посёлок Сапёрный' 'поселок Семрино'\n",
      " 'поселок Гаврилово' 'поселок Глажево' 'поселок Кобринское'\n",
      " 'деревня Гарболово' 'деревня Юкки' 'поселок станции Приветнинское'\n",
      " 'деревня Мануйлово' 'деревня Пчева' 'поселок Поляны' 'поселок Цвылёво'\n",
      " 'поселок Мельниково' 'посёлок Пудость' 'посёлок Усть-Луга' 'Светогорск'\n",
      " 'Любань' 'поселок Селезнёво' 'поселок городского типа Рябово'\n",
      " 'Каменногорск' 'деревня Кривко' 'поселок Глебычево' 'деревня Парицы'\n",
      " 'поселок Жилпосёлок' 'посёлок городского типа Мга'\n",
      " 'городской поселок Янино-1' 'посёлок Войскорово' 'село Никольское'\n",
      " 'посёлок Терволово' 'поселок Стеклянный' 'посёлок городского типа Важины'\n",
      " 'посёлок Мыза-Ивановка' 'село Русско-Высоцкое'\n",
      " 'поселок городского типа Лебяжье' 'поселок городского типа Форносово'\n",
      " 'село Старая Ладога' 'поселок Житково' 'городской посёлок Виллози'\n",
      " 'деревня Лампово' 'деревня Шпаньково' 'деревня Лаврики' 'посёлок Сумино'\n",
      " 'посёлок Возрождение' 'деревня Старосиверская' 'посёлок Кикерино'\n",
      " 'поселок Возрождение' 'деревня Старое Хинколово' 'посёлок Пригородный'\n",
      " 'посёлок Торфяное' 'городской посёлок Будогощь' 'поселок Суходолье'\n",
      " 'поселок Красная Долина' 'деревня Хапо-Ое'\n",
      " 'поселок городского типа Дружная Горка' 'поселок Лисий Нос'\n",
      " 'деревня Яльгелево' 'посёлок Стеклянный' 'село Рождествено'\n",
      " 'деревня Старополье' 'посёлок Левашово' 'деревня Сяськелево'\n",
      " 'деревня Камышовка'\n",
      " 'садоводческое некоммерческое товарищество Лесная Поляна'\n",
      " 'деревня Хязельки' 'поселок Жилгородок' 'посёлок городского типа Павлово'\n",
      " 'деревня Ялгино' 'поселок Новый Учхоз' 'городской посёлок Рощино'\n",
      " 'поселок Гончарово' 'поселок Почап' 'посёлок Сапёрное'\n",
      " 'посёлок Платформа 69-й километр' 'поселок Каложицы' 'деревня Фалилеево'\n",
      " 'деревня Пельгора' 'поселок городского типа Лесогорский'\n",
      " 'деревня Торошковичи' 'посёлок Белоостров' 'посёлок Алексеевка'\n",
      " 'поселок Серебрянский' 'поселок Лукаши' 'поселок Петровское'\n",
      " 'деревня Щеглово' 'поселок Мичуринское' 'деревня Тарасово'\n",
      " 'поселок Кингисеппский' 'посёлок при железнодорожной станции Вещево'\n",
      " 'поселок Ушаки' 'деревня Котлы' 'деревня Сижно' 'деревня Торосово'\n",
      " 'посёлок Форт Красная Горка' 'поселок городского типа Токсово'\n",
      " 'деревня Новолисино' 'посёлок станции Громово' 'деревня Глинка'\n",
      " 'посёлок Мельниково' 'поселок городского типа Назия'\n",
      " 'деревня Старая Пустошь' 'поселок Коммунары' 'поселок Починок'\n",
      " 'посёлок городского типа Вознесенье' 'деревня Разбегаево'\n",
      " 'посёлок городского типа Рябово' 'поселок Гладкое'\n",
      " 'посёлок при железнодорожной станции Приветнинское' 'поселок Тёсово-4'\n",
      " 'посёлок Жилгородок' 'деревня Бор' 'посёлок Коробицыно'\n",
      " 'деревня Большая Вруда' 'деревня Курковицы' 'посёлок Лисий Нос'\n",
      " 'городской посёлок Советский' 'посёлок Кобралово' 'деревня Суоранда'\n",
      " 'поселок Кобралово' 'поселок городского типа Кондратьево'\n",
      " 'коттеджный поселок Счастье' 'поселок Любань' 'деревня Реброво'\n",
      " 'деревня Зимитицы' 'деревня Тойворово' 'поселок Семиозерье'\n",
      " 'поселок Лесное' 'поселок Совхозный' 'поселок Усть-Луга'\n",
      " 'посёлок Ленинское' 'посёлок Суйда' 'посёлок городского типа Форносово'\n",
      " 'деревня Нижние Осельки' 'посёлок станции Свирь' 'поселок Перово'\n",
      " 'Высоцк' 'поселок Гарболово' 'село Шум' 'поселок Котельский'\n",
      " 'поселок станции Лужайка' 'деревня Большая Пустомержа'\n",
      " 'поселок Красносельское' 'деревня Вахнова Кара' 'деревня Пижма'\n",
      " 'коттеджный поселок Кивеннапа Север' 'поселок Коробицыно'\n",
      " 'поселок Ромашки' 'посёлок Перово' 'деревня Каськово' 'деревня Куровицы'\n",
      " 'посёлок Плоское' 'поселок Сумино'\n",
      " 'поселок городского типа Большая Ижора' 'поселок Кирпичное'\n",
      " 'деревня Ям-Тесово' 'деревня Раздолье' 'деревня Терпилицы'\n",
      " 'посёлок Шугозеро' 'деревня Ваганово' 'поселок Пушное'\n",
      " 'садовое товарищество Садко' 'посёлок Усть-Ижора' 'деревня Выскатка'\n",
      " 'городской посёлок Свирьстрой' 'поселок Громово' 'деревня Кисельня'\n",
      " 'посёлок Старая Малукса' 'деревня Трубников Бор' 'поселок Калитино'\n",
      " 'посёлок Высокоключевой' 'садовое товарищество Приладожский'\n",
      " 'посёлок Пансионат Зелёный Бор' 'деревня Ненимяки'\n",
      " 'поселок Пансионат Зелёный Бор' 'деревня Снегирёвка' 'деревня Рапполово'\n",
      " 'деревня Пустынка' 'поселок Рабитицы' 'деревня Большой Сабск'\n",
      " 'деревня Русско' 'деревня Лупполово' 'деревня Большое Рейзино'\n",
      " 'деревня Малая Романовка' 'поселок Дружноселье' 'поселок Пчевжа'\n",
      " 'поселок Володарское' 'деревня Нижняя' 'коттеджный посёлок Лесное'\n",
      " 'деревня Тихковицы' 'деревня Борисова Грива' 'посёлок Дзержинского']\n",
      "365\n"
     ]
    }
   ],
   "source": [
    "print(data['locality_name'].unique())\n",
    "print(len(data['locality_name'].unique()))"
   ]
  },
  {
   "cell_type": "code",
   "execution_count": 14,
   "metadata": {
    "scrolled": true
   },
   "outputs": [
    {
     "name": "stdout",
     "output_type": "stream",
     "text": [
      "['Санкт-Петербург' ' Шушары' '  Янино-1' ' Парголово' ' Мурино'\n",
      " 'Ломоносов' 'Сертолово' 'Петергоф' 'Пушкин' ' Кудрово' 'Коммунар'\n",
      " 'Колпино' ' Красный Бор' 'Гатчина' ' Федоровское' 'Выборг' 'Кронштадт'\n",
      " 'Кировск' ' Новое Девяткино' ' Металлострой' ' Лебяжье' ' Сиверский'\n",
      " ' Молодцово' ' Кузьмоловский' ' Новая Ропша' 'Павловск' ' Пикколово'\n",
      " 'Всеволожск' 'Волхов' 'Кингисепп' 'Приозерск' 'Сестрорецк' ' Куттузи'\n",
      " ' Аннино' ' Ефимовский' ' Плодовое' ' Заклинье' ' Торковичи'\n",
      " ' Первомайское' 'Красное Село' ' Понтонный' 'Сясьстрой' ' Старая'\n",
      " ' Лесколово' ' Новый Свет' 'Сланцы' ' Путилово' 'Ивангород' 'Мурино'\n",
      " 'Шлиссельбург' 'Никольское' 'Зеленогорск' 'Сосновый Бор' ' Оржицы'\n",
      " ' Кальтино' 'Кудрово' ' Романовка' ' Бугры' ' Рощино' 'Кириши' 'Луга'\n",
      " 'Волосово' 'Отрадное' ' Павлово' ' Оредеж' ' Копорье' ' Молодежное'\n",
      " 'Тихвин' ' Победа' ' Нурма' ' Синявино' 'Тосно' ' Стрельна'\n",
      " 'Бокситогорск' ' Александровская' ' Лопухинка' 'Пикалево' ' Терволово'\n",
      " ' Советский' 'Подпорожье' ' Петровское' ' Токсово' ' Сельцо' ' Вырица'\n",
      " ' Кипень' ' Келози' ' Вартемяги' ' Тельмана' ' Севастьяново'\n",
      " '  Большая Ижора' 'unknown' '  Павлово' ' Агалатово' ' Новогорелово'\n",
      " '  Лесогорский' ' Лаголово' ' Цвелодубово' ' Рахья' ' Белогорка'\n",
      " ' Заводской' '  Новоселье' ' Большие Колпаны' ' Горбунки' ' Батово'\n",
      " ' Заневка' ' Иссад' 'Приморск' '  Федоровское' ' Мистолово'\n",
      " 'Новая Ладога' ' Зимитицы' ' Барышево' ' Разметелево' ' имени Свердлова'\n",
      " ' Пеники' ' Рябово' ' Пудомяги' '  Корнево' ' Низино' ' Бегуницы'\n",
      " ' Поляны' '  Мга' ' Елизаветино' ' Кузнечное' ' Колтуши' ' Запорожское'\n",
      " ' Гостилицы' ' Малое Карлино' ' Мичуринское' ' имени Морозова'\n",
      " ' Песочный' ' Сосново' ' Аро' ' Ильичево' ' Тайцы' ' Малое Верево'\n",
      " ' Извара' '  Вещево' ' Паша' ' Калитино' ' Ульяновка' ' Чудской Бор'\n",
      " ' Дубровка' ' Мины' ' Войсковицы' ' Коркино' ' Ропша' ' Приладожский'\n",
      " ' Щеглово' ' Гаврилово' 'Лодейное Поле' ' Рабитицы' ' Никольский'\n",
      " ' Кузьмолово' ' Малые Колпаны' ' Петро-Славянка' '  Назия' ' Репино'\n",
      " ' Углово' ' Старая Малукса' ' Меньково' ' Старые Бегуницы' ' Саперный'\n",
      " ' Семрино' ' Глажево' ' Кобринское' ' Гарболово' ' Юкки'\n",
      " '  Приветнинское' ' Мануйлово' ' Пчева' ' Цвылево' ' Мельниково'\n",
      " ' Пудость' ' Усть-Луга' 'Светогорск' 'Любань' ' Селезнево' 'Каменногорск'\n",
      " ' Кривко' ' Глебычево' ' Парицы' ' Жил' ' Мга' ' Войскорово'\n",
      " ' Никольское' ' Стеклянный' ' Важины' ' Мыза-Ивановка' ' Русско-Высоцкое'\n",
      " ' Форносово' ' Старая Ладога' ' Житково' '  Виллози' ' Лампово'\n",
      " ' Шпаньково' ' Лаврики' ' Сумино' ' Возрождение' ' Старосиверская'\n",
      " ' Кикерино' ' Старое Хинколово' ' Пригородный' ' Торфяное' '  Будогощь'\n",
      " ' Суходолье' ' Красная Долина' ' Хапо-Ое' ' Дружная Горка' ' Лисий Нос'\n",
      " ' Яльгелево' ' Рождествено' ' Старополье' ' Левашово' ' Сяськелево'\n",
      " ' Камышовка' ' Лесная Поляна' ' Хязельки' ' Жилгородок' ' Ялгино'\n",
      " ' Новый Учхоз' '  Рощино' ' Гончарово' ' Почап' ' Саперное'\n",
      " ' Платформа 69-й километр' ' Каложицы' ' Фалилеево' ' Пельгора'\n",
      " ' Лесогорский' ' Торошковичи' ' Белоостров' ' Алексеевка' ' Серебрянский'\n",
      " ' Лукаши' ' Тарасово' ' Кингисеппский' ' при железнодорожной  Вещево'\n",
      " ' Ушаки' ' Котлы' ' Сижно' ' Торосово' ' Форт Красная Горка'\n",
      " ' Новолисино' '  Громово' ' Глинка' ' Назия' ' Старая Пустошь'\n",
      " ' Коммунары' ' Починок' ' Вознесенье' ' Разбегаево' ' Гладкое'\n",
      " ' при железнодорожной  Приветнинское' ' Тесово-4' ' Бор' ' Коробицыно'\n",
      " ' Большая Вруда' ' Курковицы' '  Советский' ' Кобралово' ' Суоранда'\n",
      " ' Кондратьево' ' Счастье' ' Любань' ' Реброво' ' Тойворово' ' Семиозерье'\n",
      " ' Лесное' ' Совхозный' ' Ленинское' ' Суйда' ' Нижние Осельки' '  Свирь'\n",
      " ' Перово' 'Высоцк' ' Шум' ' Котельский' '  Лужайка' ' Большая Пустомержа'\n",
      " ' Красносельское' ' Вахнова Кара' ' Пижма' ' Кивеннапа Север' ' Ромашки'\n",
      " ' Каськово' ' Куровицы' ' Плоское' ' Большая Ижора' ' Кирпичное'\n",
      " ' Ям-Тесово' ' Раздолье' ' Терпилицы' ' Шугозеро' ' Ваганово' ' Пушное'\n",
      " ' Садко' ' Усть-Ижора' ' Выскатка' '  Свирьстрой' ' Громово' ' Кисельня'\n",
      " ' Трубников Бор' ' Высокоключевой' ' Пансионат Зеленый Бор' ' Ненимяки'\n",
      " ' Снегиревка' ' Рапполово' ' Пустынка' ' Большой Сабск' ' Русско'\n",
      " ' Лупполово' ' Большое Рейзино' ' Малая Романовка' ' Дружноселье'\n",
      " ' Пчевжа' ' Володарское' ' Нижняя' ' Тихковицы' ' Борисова Грива'\n",
      " ' Дзержинского']\n",
      "321\n"
     ]
    }
   ],
   "source": [
    "data['locality_name'] = (\n",
    "    data['locality_name']\n",
    "    .str.replace('ё', 'е')\n",
    "    .replace(['поселок городского типа', 'коттеджный поселок',\n",
    "              'городской посeлок','поселок','деревня','село',\n",
    "              'садовое товарищество','станции','садоводческое некоммерческое товарищество','городской' ], '', regex=True)\n",
    ") \n",
    "print(data['locality_name'].unique())\n",
    "print(len(data['locality_name'].unique()))"
   ]
  },
  {
   "cell_type": "code",
   "execution_count": 15,
   "metadata": {},
   "outputs": [
    {
     "data": {
      "text/plain": [
       "0"
      ]
     },
     "execution_count": 15,
     "metadata": {},
     "output_type": "execute_result"
    }
   ],
   "source": [
    "data['locality_name'].isna().sum()"
   ]
  },
  {
   "cell_type": "markdown",
   "metadata": {},
   "source": [
    "### Посчитайте и добавьте в таблицу новые столбцы"
   ]
  },
  {
   "cell_type": "markdown",
   "metadata": {},
   "source": [
    "#### Добавим столбец с ценой одного квадратного метра и округлим значения до 2-х знаков после запятой."
   ]
  },
  {
   "cell_type": "code",
   "execution_count": 16,
   "metadata": {},
   "outputs": [
    {
     "data": {
      "text/plain": [
       "0    120370.37\n",
       "1     82920.79\n",
       "2     92785.71\n",
       "3    408176.10\n",
       "4    100000.00\n",
       "Name: one_m_price, dtype: float64"
      ]
     },
     "execution_count": 16,
     "metadata": {},
     "output_type": "execute_result"
    }
   ],
   "source": [
    "data['one_m_price'] = data['last_price']/data['total_area']\n",
    "data['one_m_price'] = round(data['one_m_price'], 2)\n",
    "data['one_m_price'].head(5)"
   ]
  },
  {
   "cell_type": "markdown",
   "metadata": {},
   "source": [
    "#### Добавим столбец с днем недели публикации объявления (0 — понедельник, 1 — вторник и так далее)."
   ]
  },
  {
   "cell_type": "code",
   "execution_count": 17,
   "metadata": {},
   "outputs": [
    {
     "data": {
      "text/plain": [
       "0    3\n",
       "1    1\n",
       "2    3\n",
       "3    4\n",
       "4    1\n",
       "Name: weekday_publication, dtype: int64"
      ]
     },
     "execution_count": 17,
     "metadata": {},
     "output_type": "execute_result"
    }
   ],
   "source": [
    "data['weekday_publication'] = pd.DatetimeIndex(data['first_day_exposition']).weekday\n",
    "data['weekday_publication'].head(5)"
   ]
  },
  {
   "cell_type": "markdown",
   "metadata": {},
   "source": [
    "#### Добавим столбец с номером месяца публикации объявления."
   ]
  },
  {
   "cell_type": "code",
   "execution_count": 18,
   "metadata": {},
   "outputs": [
    {
     "data": {
      "text/plain": [
       "0     3\n",
       "1    12\n",
       "2     8\n",
       "3     7\n",
       "4     6\n",
       "Name: month_publication, dtype: int64"
      ]
     },
     "execution_count": 18,
     "metadata": {},
     "output_type": "execute_result"
    }
   ],
   "source": [
    "data['month_publication'] = pd.DatetimeIndex(data['first_day_exposition']).month\n",
    "data['month_publication'].head(5)"
   ]
  },
  {
   "cell_type": "markdown",
   "metadata": {},
   "source": [
    "#### Добавим столбец с годом публикации объявления."
   ]
  },
  {
   "cell_type": "code",
   "execution_count": 19,
   "metadata": {},
   "outputs": [
    {
     "data": {
      "text/plain": [
       "0    2019\n",
       "1    2018\n",
       "2    2015\n",
       "3    2015\n",
       "4    2018\n",
       "Name: year_publication, dtype: int64"
      ]
     },
     "execution_count": 19,
     "metadata": {},
     "output_type": "execute_result"
    }
   ],
   "source": [
    "data['year_publication'] = pd.DatetimeIndex(data['first_day_exposition']).year\n",
    "data['year_publication'].head(5)"
   ]
  },
  {
   "cell_type": "markdown",
   "metadata": {},
   "source": [
    "#### Добавим столбец с типом этажа квартиры (значения — «первый», «последний», «другой»)"
   ]
  },
  {
   "cell_type": "code",
   "execution_count": 20,
   "metadata": {},
   "outputs": [
    {
     "data": {
      "text/plain": [
       "другой       17446\n",
       "последний     3336\n",
       "первый        2917\n",
       "Name: floor_type, dtype: int64"
      ]
     },
     "execution_count": 20,
     "metadata": {},
     "output_type": "execute_result"
    }
   ],
   "source": [
    "\n",
    "def floor_type(data):\n",
    "    if data['floor'] == 1:\n",
    "        return 'первый'\n",
    "    elif data['floor'] == data['floors_total']:\n",
    "        return 'последний'\n",
    "    else:\n",
    "        return 'другой'\n",
    "    \n",
    "data['floor_type'] = data.apply(floor_type,axis=1)\n",
    "data['floor_type'].value_counts()"
   ]
  },
  {
   "cell_type": "markdown",
   "metadata": {},
   "source": [
    "#### Добавим столбец с расстоянием до центра города в километрах (переведем из м в км и округлим до ближайших целых значений)."
   ]
  },
  {
   "cell_type": "code",
   "execution_count": 21,
   "metadata": {},
   "outputs": [
    {
     "data": {
      "text/plain": [
       "0    16.0\n",
       "1    19.0\n",
       "2    14.0\n",
       "3     7.0\n",
       "4     8.0\n",
       "Name: city_centers_nearest_km, dtype: float64"
      ]
     },
     "execution_count": 21,
     "metadata": {},
     "output_type": "execute_result"
    }
   ],
   "source": [
    "data['city_centers_nearest_km'] = data['city_centers_nearest']/1000\n",
    "data['city_centers_nearest_km'] = round(data['city_centers_nearest_km'])\n",
    "data['city_centers_nearest_km'].head(5)"
   ]
  },
  {
   "cell_type": "markdown",
   "metadata": {},
   "source": [
    "### Проведите исследовательский анализ данных"
   ]
  },
  {
   "cell_type": "markdown",
   "metadata": {},
   "source": [
    "#### Изучим общую площадь квартир."
   ]
  },
  {
   "cell_type": "markdown",
   "metadata": {},
   "source": [
    "* Построим гистограмму по столбцу total_area"
   ]
  },
  {
   "cell_type": "code",
   "execution_count": 22,
   "metadata": {},
   "outputs": [
    {
     "data": {
      "text/plain": [
       "<AxesSubplot:>"
      ]
     },
     "execution_count": 22,
     "metadata": {},
     "output_type": "execute_result"
    },
    {
     "data": {
      "image/png": "[encoded data removed]",
      "text/plain": [
       "<Figure size 432x288 with 1 Axes>"
      ]
     },
     "metadata": {
      "needs_background": "light"
     },
     "output_type": "display_data"
    }
   ],
   "source": [
    "data['total_area'].hist(bins=30)"
   ]
  },
  {
   "cell_type": "markdown",
   "metadata": {},
   "source": [
    "* Нулевых значений и пропусков нет."
   ]
  },
  {
   "cell_type": "markdown",
   "metadata": {},
   "source": [
    "* Посмотрим числовое описание столбца 'total_area':"
   ]
  },
  {
   "cell_type": "code",
   "execution_count": 23,
   "metadata": {},
   "outputs": [
    {
     "data": {
      "text/plain": [
       "count    23699.000000\n",
       "mean        60.348651\n",
       "std         35.654083\n",
       "min         12.000000\n",
       "25%         40.000000\n",
       "50%         52.000000\n",
       "75%         69.900000\n",
       "max        900.000000\n",
       "Name: total_area, dtype: float64"
      ]
     },
     "execution_count": 23,
     "metadata": {},
     "output_type": "execute_result"
    }
   ],
   "source": [
    "data['total_area'].describe()"
   ]
  },
  {
   "cell_type": "markdown",
   "metadata": {},
   "source": [
    "Аномальных значений в столбце 'total_area' не выявлено."
   ]
  },
  {
   "cell_type": "markdown",
   "metadata": {},
   "source": [
    "#### Изучим жилую площадь квартир."
   ]
  },
  {
   "cell_type": "code",
   "execution_count": 24,
   "metadata": {},
   "outputs": [
    {
     "data": {
      "text/plain": [
       "<AxesSubplot:>"
      ]
     },
     "execution_count": 24,
     "metadata": {},
     "output_type": "execute_result"
    },
    {
     "data": {
      "image/png": "[encoded data removed]",
      "text/plain": [
       "<Figure size 432x288 with 1 Axes>"
      ]
     },
     "metadata": {
      "needs_background": "light"
     },
     "output_type": "display_data"
    }
   ],
   "source": [
    "data['living_area'].hist(bins=30)"
   ]
  },
  {
   "cell_type": "markdown",
   "metadata": {},
   "source": [
    "* Распределение не нормальное, в столбце есть пропуски. Посмотрим числовое описание столбца 'living_area'."
   ]
  },
  {
   "cell_type": "code",
   "execution_count": 25,
   "metadata": {},
   "outputs": [
    {
     "data": {
      "text/plain": [
       "count    21796.000000\n",
       "mean        34.457852\n",
       "std         22.030445\n",
       "min          2.000000\n",
       "25%         18.600000\n",
       "50%         30.000000\n",
       "75%         42.300000\n",
       "max        409.700000\n",
       "Name: living_area, dtype: float64"
      ]
     },
     "execution_count": 25,
     "metadata": {},
     "output_type": "execute_result"
    }
   ],
   "source": [
    "data['living_area'].describe()"
   ]
  },
  {
   "cell_type": "markdown",
   "metadata": {},
   "source": [
    "* Максимальное значение в 409,7 кв м и минимальное в 2 кв м. Посмотрим первые 15 значений от 2 кв м и более:"
   ]
  },
  {
   "cell_type": "code",
   "execution_count": 26,
   "metadata": {},
   "outputs": [
    {
     "data": {
      "text/html": [
       "<div>\n",
       "<style scoped>\n",
       "    .dataframe tbody tr th:only-of-type {\n",
       "        vertical-align: middle;\n",
       "    }\n",
       "\n",
       "    .dataframe tbody tr th {\n",
       "        vertical-align: top;\n",
       "    }\n",
       "\n",
       "    .dataframe thead th {\n",
       "        text-align: right;\n",
       "    }\n",
       "</style>\n",
       "<table border=\"1\" class=\"dataframe\">\n",
       "  <thead>\n",
       "    <tr style=\"text-align: right;\">\n",
       "      <th></th>\n",
       "      <th>total_images</th>\n",
       "      <th>last_price</th>\n",
       "      <th>total_area</th>\n",
       "      <th>first_day_exposition</th>\n",
       "      <th>rooms</th>\n",
       "      <th>ceiling_height</th>\n",
       "      <th>floors_total</th>\n",
       "      <th>living_area</th>\n",
       "      <th>floor</th>\n",
       "      <th>is_apartment</th>\n",
       "      <th>studio</th>\n",
       "      <th>open_plan</th>\n",
       "      <th>kitchen_area</th>\n",
       "      <th>balcony</th>\n",
       "      <th>locality_name</th>\n",
       "      <th>airports_nearest</th>\n",
       "      <th>city_centers_nearest</th>\n",
       "      <th>parks_around_3000</th>\n",
       "      <th>parks_nearest</th>\n",
       "      <th>ponds_around_3000</th>\n",
       "      <th>ponds_nearest</th>\n",
       "      <th>days_exposition</th>\n",
       "      <th>one_m_price</th>\n",
       "      <th>weekday_publication</th>\n",
       "      <th>month_publication</th>\n",
       "      <th>year_publication</th>\n",
       "      <th>floor_type</th>\n",
       "      <th>city_centers_nearest_km</th>\n",
       "    </tr>\n",
       "  </thead>\n",
       "  <tbody>\n",
       "    <tr>\n",
       "      <th>13915</th>\n",
       "      <td>20</td>\n",
       "      <td>6350000.0</td>\n",
       "      <td>52.0</td>\n",
       "      <td>2018-02-06</td>\n",
       "      <td>2</td>\n",
       "      <td>3.00</td>\n",
       "      <td>6</td>\n",
       "      <td>2.0</td>\n",
       "      <td>2</td>\n",
       "      <td>False</td>\n",
       "      <td>False</td>\n",
       "      <td>False</td>\n",
       "      <td>9.0</td>\n",
       "      <td>0</td>\n",
       "      <td>Санкт-Петербург</td>\n",
       "      <td>32453.0</td>\n",
       "      <td>6521.0</td>\n",
       "      <td>0.0</td>\n",
       "      <td>NaN</td>\n",
       "      <td>1.0</td>\n",
       "      <td>1012.0</td>\n",
       "      <td>91.0</td>\n",
       "      <td>122115.38</td>\n",
       "      <td>1</td>\n",
       "      <td>2</td>\n",
       "      <td>2018</td>\n",
       "      <td>другой</td>\n",
       "      <td>7.0</td>\n",
       "    </tr>\n",
       "    <tr>\n",
       "      <th>21758</th>\n",
       "      <td>0</td>\n",
       "      <td>2330000.0</td>\n",
       "      <td>23.0</td>\n",
       "      <td>2018-01-01</td>\n",
       "      <td>0</td>\n",
       "      <td>NaN</td>\n",
       "      <td>24</td>\n",
       "      <td>2.0</td>\n",
       "      <td>22</td>\n",
       "      <td>False</td>\n",
       "      <td>True</td>\n",
       "      <td>False</td>\n",
       "      <td>NaN</td>\n",
       "      <td>0</td>\n",
       "      <td>Мурино</td>\n",
       "      <td>NaN</td>\n",
       "      <td>NaN</td>\n",
       "      <td>NaN</td>\n",
       "      <td>NaN</td>\n",
       "      <td>NaN</td>\n",
       "      <td>NaN</td>\n",
       "      <td>66.0</td>\n",
       "      <td>101304.35</td>\n",
       "      <td>0</td>\n",
       "      <td>1</td>\n",
       "      <td>2018</td>\n",
       "      <td>другой</td>\n",
       "      <td>NaN</td>\n",
       "    </tr>\n",
       "    <tr>\n",
       "      <th>23574</th>\n",
       "      <td>14</td>\n",
       "      <td>64990000.0</td>\n",
       "      <td>139.0</td>\n",
       "      <td>2015-11-24</td>\n",
       "      <td>3</td>\n",
       "      <td>3.00</td>\n",
       "      <td>8</td>\n",
       "      <td>3.0</td>\n",
       "      <td>8</td>\n",
       "      <td>False</td>\n",
       "      <td>False</td>\n",
       "      <td>False</td>\n",
       "      <td>16.0</td>\n",
       "      <td>1</td>\n",
       "      <td>Санкт-Петербург</td>\n",
       "      <td>33255.0</td>\n",
       "      <td>5975.0</td>\n",
       "      <td>1.0</td>\n",
       "      <td>630.0</td>\n",
       "      <td>3.0</td>\n",
       "      <td>100.0</td>\n",
       "      <td>280.0</td>\n",
       "      <td>467553.96</td>\n",
       "      <td>1</td>\n",
       "      <td>11</td>\n",
       "      <td>2015</td>\n",
       "      <td>последний</td>\n",
       "      <td>6.0</td>\n",
       "    </tr>\n",
       "    <tr>\n",
       "      <th>3242</th>\n",
       "      <td>7</td>\n",
       "      <td>4440000.0</td>\n",
       "      <td>41.0</td>\n",
       "      <td>2017-07-02</td>\n",
       "      <td>1</td>\n",
       "      <td>NaN</td>\n",
       "      <td>17</td>\n",
       "      <td>3.0</td>\n",
       "      <td>17</td>\n",
       "      <td>False</td>\n",
       "      <td>False</td>\n",
       "      <td>False</td>\n",
       "      <td>11.0</td>\n",
       "      <td>0</td>\n",
       "      <td>Санкт-Петербург</td>\n",
       "      <td>19272.0</td>\n",
       "      <td>13073.0</td>\n",
       "      <td>0.0</td>\n",
       "      <td>NaN</td>\n",
       "      <td>0.0</td>\n",
       "      <td>NaN</td>\n",
       "      <td>216.0</td>\n",
       "      <td>108292.68</td>\n",
       "      <td>6</td>\n",
       "      <td>7</td>\n",
       "      <td>2017</td>\n",
       "      <td>последний</td>\n",
       "      <td>13.0</td>\n",
       "    </tr>\n",
       "    <tr>\n",
       "      <th>17582</th>\n",
       "      <td>11</td>\n",
       "      <td>2680000.0</td>\n",
       "      <td>22.0</td>\n",
       "      <td>2018-08-11</td>\n",
       "      <td>0</td>\n",
       "      <td>NaN</td>\n",
       "      <td>25</td>\n",
       "      <td>5.0</td>\n",
       "      <td>8</td>\n",
       "      <td>False</td>\n",
       "      <td>True</td>\n",
       "      <td>False</td>\n",
       "      <td>NaN</td>\n",
       "      <td>2</td>\n",
       "      <td>Санкт-Петербург</td>\n",
       "      <td>22735.0</td>\n",
       "      <td>11618.0</td>\n",
       "      <td>1.0</td>\n",
       "      <td>835.0</td>\n",
       "      <td>1.0</td>\n",
       "      <td>652.0</td>\n",
       "      <td>70.0</td>\n",
       "      <td>121818.18</td>\n",
       "      <td>5</td>\n",
       "      <td>8</td>\n",
       "      <td>2018</td>\n",
       "      <td>другой</td>\n",
       "      <td>12.0</td>\n",
       "    </tr>\n",
       "    <tr>\n",
       "      <th>21943</th>\n",
       "      <td>15</td>\n",
       "      <td>6100000.0</td>\n",
       "      <td>77.6</td>\n",
       "      <td>2019-02-28</td>\n",
       "      <td>4</td>\n",
       "      <td>2.50</td>\n",
       "      <td>9</td>\n",
       "      <td>5.4</td>\n",
       "      <td>1</td>\n",
       "      <td>False</td>\n",
       "      <td>False</td>\n",
       "      <td>False</td>\n",
       "      <td>9.8</td>\n",
       "      <td>0</td>\n",
       "      <td>Санкт-Петербург</td>\n",
       "      <td>29338.0</td>\n",
       "      <td>11270.0</td>\n",
       "      <td>1.0</td>\n",
       "      <td>584.0</td>\n",
       "      <td>0.0</td>\n",
       "      <td>NaN</td>\n",
       "      <td>33.0</td>\n",
       "      <td>78608.25</td>\n",
       "      <td>3</td>\n",
       "      <td>2</td>\n",
       "      <td>2019</td>\n",
       "      <td>первый</td>\n",
       "      <td>11.0</td>\n",
       "    </tr>\n",
       "    <tr>\n",
       "      <th>16431</th>\n",
       "      <td>13</td>\n",
       "      <td>3799000.0</td>\n",
       "      <td>31.0</td>\n",
       "      <td>2018-04-12</td>\n",
       "      <td>1</td>\n",
       "      <td>2.60</td>\n",
       "      <td>5</td>\n",
       "      <td>6.0</td>\n",
       "      <td>1</td>\n",
       "      <td>False</td>\n",
       "      <td>False</td>\n",
       "      <td>False</td>\n",
       "      <td>17.0</td>\n",
       "      <td>0</td>\n",
       "      <td>Санкт-Петербург</td>\n",
       "      <td>32177.0</td>\n",
       "      <td>4826.0</td>\n",
       "      <td>1.0</td>\n",
       "      <td>430.0</td>\n",
       "      <td>0.0</td>\n",
       "      <td>NaN</td>\n",
       "      <td>168.0</td>\n",
       "      <td>122548.39</td>\n",
       "      <td>3</td>\n",
       "      <td>4</td>\n",
       "      <td>2018</td>\n",
       "      <td>первый</td>\n",
       "      <td>5.0</td>\n",
       "    </tr>\n",
       "    <tr>\n",
       "      <th>19251</th>\n",
       "      <td>19</td>\n",
       "      <td>4050000.0</td>\n",
       "      <td>33.0</td>\n",
       "      <td>2018-10-15</td>\n",
       "      <td>1</td>\n",
       "      <td>2.50</td>\n",
       "      <td>22</td>\n",
       "      <td>6.5</td>\n",
       "      <td>21</td>\n",
       "      <td>False</td>\n",
       "      <td>False</td>\n",
       "      <td>False</td>\n",
       "      <td>18.0</td>\n",
       "      <td>0</td>\n",
       "      <td>Санкт-Петербург</td>\n",
       "      <td>9258.0</td>\n",
       "      <td>10592.0</td>\n",
       "      <td>1.0</td>\n",
       "      <td>458.0</td>\n",
       "      <td>0.0</td>\n",
       "      <td>NaN</td>\n",
       "      <td>44.0</td>\n",
       "      <td>122727.27</td>\n",
       "      <td>0</td>\n",
       "      <td>10</td>\n",
       "      <td>2018</td>\n",
       "      <td>другой</td>\n",
       "      <td>11.0</td>\n",
       "    </tr>\n",
       "    <tr>\n",
       "      <th>23208</th>\n",
       "      <td>12</td>\n",
       "      <td>4800000.0</td>\n",
       "      <td>37.0</td>\n",
       "      <td>2016-02-24</td>\n",
       "      <td>1</td>\n",
       "      <td>NaN</td>\n",
       "      <td>14</td>\n",
       "      <td>8.0</td>\n",
       "      <td>11</td>\n",
       "      <td>False</td>\n",
       "      <td>False</td>\n",
       "      <td>False</td>\n",
       "      <td>22.0</td>\n",
       "      <td>0</td>\n",
       "      <td>Санкт-Петербург</td>\n",
       "      <td>27838.0</td>\n",
       "      <td>12387.0</td>\n",
       "      <td>2.0</td>\n",
       "      <td>358.0</td>\n",
       "      <td>1.0</td>\n",
       "      <td>950.0</td>\n",
       "      <td>139.0</td>\n",
       "      <td>129729.73</td>\n",
       "      <td>2</td>\n",
       "      <td>2</td>\n",
       "      <td>2016</td>\n",
       "      <td>другой</td>\n",
       "      <td>12.0</td>\n",
       "    </tr>\n",
       "    <tr>\n",
       "      <th>20994</th>\n",
       "      <td>7</td>\n",
       "      <td>8900000.0</td>\n",
       "      <td>50.6</td>\n",
       "      <td>2018-10-22</td>\n",
       "      <td>2</td>\n",
       "      <td>2.50</td>\n",
       "      <td>7</td>\n",
       "      <td>8.0</td>\n",
       "      <td>3</td>\n",
       "      <td>False</td>\n",
       "      <td>False</td>\n",
       "      <td>False</td>\n",
       "      <td>31.0</td>\n",
       "      <td>0</td>\n",
       "      <td>Санкт-Петербург</td>\n",
       "      <td>12771.0</td>\n",
       "      <td>8301.0</td>\n",
       "      <td>1.0</td>\n",
       "      <td>173.0</td>\n",
       "      <td>3.0</td>\n",
       "      <td>126.0</td>\n",
       "      <td>NaN</td>\n",
       "      <td>175889.33</td>\n",
       "      <td>0</td>\n",
       "      <td>10</td>\n",
       "      <td>2018</td>\n",
       "      <td>другой</td>\n",
       "      <td>8.0</td>\n",
       "    </tr>\n",
       "    <tr>\n",
       "      <th>114</th>\n",
       "      <td>5</td>\n",
       "      <td>4000000.0</td>\n",
       "      <td>21.4</td>\n",
       "      <td>2019-02-07</td>\n",
       "      <td>1</td>\n",
       "      <td>2.90</td>\n",
       "      <td>8</td>\n",
       "      <td>8.3</td>\n",
       "      <td>7</td>\n",
       "      <td>False</td>\n",
       "      <td>False</td>\n",
       "      <td>False</td>\n",
       "      <td>6.3</td>\n",
       "      <td>0</td>\n",
       "      <td>Санкт-Петербург</td>\n",
       "      <td>27089.0</td>\n",
       "      <td>5791.0</td>\n",
       "      <td>2.0</td>\n",
       "      <td>488.0</td>\n",
       "      <td>1.0</td>\n",
       "      <td>286.0</td>\n",
       "      <td>NaN</td>\n",
       "      <td>186915.89</td>\n",
       "      <td>3</td>\n",
       "      <td>2</td>\n",
       "      <td>2019</td>\n",
       "      <td>другой</td>\n",
       "      <td>6.0</td>\n",
       "    </tr>\n",
       "    <tr>\n",
       "      <th>2309</th>\n",
       "      <td>10</td>\n",
       "      <td>4200000.0</td>\n",
       "      <td>62.4</td>\n",
       "      <td>2017-06-15</td>\n",
       "      <td>2</td>\n",
       "      <td>2.60</td>\n",
       "      <td>9</td>\n",
       "      <td>8.4</td>\n",
       "      <td>6</td>\n",
       "      <td>False</td>\n",
       "      <td>False</td>\n",
       "      <td>False</td>\n",
       "      <td>41.0</td>\n",
       "      <td>2</td>\n",
       "      <td>Шушары</td>\n",
       "      <td>23662.0</td>\n",
       "      <td>29448.0</td>\n",
       "      <td>0.0</td>\n",
       "      <td>NaN</td>\n",
       "      <td>0.0</td>\n",
       "      <td>NaN</td>\n",
       "      <td>111.0</td>\n",
       "      <td>67307.69</td>\n",
       "      <td>3</td>\n",
       "      <td>6</td>\n",
       "      <td>2017</td>\n",
       "      <td>другой</td>\n",
       "      <td>29.0</td>\n",
       "    </tr>\n",
       "    <tr>\n",
       "      <th>21505</th>\n",
       "      <td>9</td>\n",
       "      <td>4100000.0</td>\n",
       "      <td>35.3</td>\n",
       "      <td>2018-01-10</td>\n",
       "      <td>1</td>\n",
       "      <td>2.75</td>\n",
       "      <td>27</td>\n",
       "      <td>8.5</td>\n",
       "      <td>11</td>\n",
       "      <td>False</td>\n",
       "      <td>False</td>\n",
       "      <td>False</td>\n",
       "      <td>16.1</td>\n",
       "      <td>2</td>\n",
       "      <td>Санкт-Петербург</td>\n",
       "      <td>33977.0</td>\n",
       "      <td>15076.0</td>\n",
       "      <td>0.0</td>\n",
       "      <td>NaN</td>\n",
       "      <td>0.0</td>\n",
       "      <td>NaN</td>\n",
       "      <td>60.0</td>\n",
       "      <td>116147.31</td>\n",
       "      <td>2</td>\n",
       "      <td>1</td>\n",
       "      <td>2018</td>\n",
       "      <td>другой</td>\n",
       "      <td>15.0</td>\n",
       "    </tr>\n",
       "    <tr>\n",
       "      <th>17248</th>\n",
       "      <td>20</td>\n",
       "      <td>5300000.0</td>\n",
       "      <td>33.0</td>\n",
       "      <td>2017-04-14</td>\n",
       "      <td>1</td>\n",
       "      <td>2.70</td>\n",
       "      <td>22</td>\n",
       "      <td>8.9</td>\n",
       "      <td>16</td>\n",
       "      <td>False</td>\n",
       "      <td>False</td>\n",
       "      <td>False</td>\n",
       "      <td>16.1</td>\n",
       "      <td>1</td>\n",
       "      <td>Санкт-Петербург</td>\n",
       "      <td>33803.0</td>\n",
       "      <td>13671.0</td>\n",
       "      <td>0.0</td>\n",
       "      <td>NaN</td>\n",
       "      <td>0.0</td>\n",
       "      <td>NaN</td>\n",
       "      <td>216.0</td>\n",
       "      <td>160606.06</td>\n",
       "      <td>4</td>\n",
       "      <td>4</td>\n",
       "      <td>2017</td>\n",
       "      <td>другой</td>\n",
       "      <td>14.0</td>\n",
       "    </tr>\n",
       "    <tr>\n",
       "      <th>680</th>\n",
       "      <td>14</td>\n",
       "      <td>7200000.0</td>\n",
       "      <td>43.0</td>\n",
       "      <td>2017-10-31</td>\n",
       "      <td>1</td>\n",
       "      <td>NaN</td>\n",
       "      <td>8</td>\n",
       "      <td>9.0</td>\n",
       "      <td>2</td>\n",
       "      <td>False</td>\n",
       "      <td>False</td>\n",
       "      <td>False</td>\n",
       "      <td>23.0</td>\n",
       "      <td>0</td>\n",
       "      <td>Санкт-Петербург</td>\n",
       "      <td>23900.0</td>\n",
       "      <td>5232.0</td>\n",
       "      <td>1.0</td>\n",
       "      <td>2137.0</td>\n",
       "      <td>1.0</td>\n",
       "      <td>933.0</td>\n",
       "      <td>296.0</td>\n",
       "      <td>167441.86</td>\n",
       "      <td>1</td>\n",
       "      <td>10</td>\n",
       "      <td>2017</td>\n",
       "      <td>другой</td>\n",
       "      <td>5.0</td>\n",
       "    </tr>\n",
       "  </tbody>\n",
       "</table>\n",
       "</div>"
      ],
      "text/plain": [
       "       total_images  last_price  total_area first_day_exposition  rooms  \\\n",
       "13915            20   6350000.0        52.0           2018-02-06      2   \n",
       "21758             0   2330000.0        23.0           2018-01-01      0   \n",
       "23574            14  64990000.0       139.0           2015-11-24      3   \n",
       "3242              7   4440000.0        41.0           2017-07-02      1   \n",
       "17582            11   2680000.0        22.0           2018-08-11      0   \n",
       "21943            15   6100000.0        77.6           2019-02-28      4   \n",
       "16431            13   3799000.0        31.0           2018-04-12      1   \n",
       "19251            19   4050000.0        33.0           2018-10-15      1   \n",
       "23208            12   4800000.0        37.0           2016-02-24      1   \n",
       "20994             7   8900000.0        50.6           2018-10-22      2   \n",
       "114               5   4000000.0        21.4           2019-02-07      1   \n",
       "2309             10   4200000.0        62.4           2017-06-15      2   \n",
       "21505             9   4100000.0        35.3           2018-01-10      1   \n",
       "17248            20   5300000.0        33.0           2017-04-14      1   \n",
       "680              14   7200000.0        43.0           2017-10-31      1   \n",
       "\n",
       "       ceiling_height  floors_total  living_area  floor  is_apartment  studio  \\\n",
       "13915            3.00             6          2.0      2         False   False   \n",
       "21758             NaN            24          2.0     22         False    True   \n",
       "23574            3.00             8          3.0      8         False   False   \n",
       "3242              NaN            17          3.0     17         False   False   \n",
       "17582             NaN            25          5.0      8         False    True   \n",
       "21943            2.50             9          5.4      1         False   False   \n",
       "16431            2.60             5          6.0      1         False   False   \n",
       "19251            2.50            22          6.5     21         False   False   \n",
       "23208             NaN            14          8.0     11         False   False   \n",
       "20994            2.50             7          8.0      3         False   False   \n",
       "114              2.90             8          8.3      7         False   False   \n",
       "2309             2.60             9          8.4      6         False   False   \n",
       "21505            2.75            27          8.5     11         False   False   \n",
       "17248            2.70            22          8.9     16         False   False   \n",
       "680               NaN             8          9.0      2         False   False   \n",
       "\n",
       "       open_plan  kitchen_area  balcony    locality_name  airports_nearest  \\\n",
       "13915      False           9.0        0  Санкт-Петербург           32453.0   \n",
       "21758      False           NaN        0           Мурино               NaN   \n",
       "23574      False          16.0        1  Санкт-Петербург           33255.0   \n",
       "3242       False          11.0        0  Санкт-Петербург           19272.0   \n",
       "17582      False           NaN        2  Санкт-Петербург           22735.0   \n",
       "21943      False           9.8        0  Санкт-Петербург           29338.0   \n",
       "16431      False          17.0        0  Санкт-Петербург           32177.0   \n",
       "19251      False          18.0        0  Санкт-Петербург            9258.0   \n",
       "23208      False          22.0        0  Санкт-Петербург           27838.0   \n",
       "20994      False          31.0        0  Санкт-Петербург           12771.0   \n",
       "114        False           6.3        0  Санкт-Петербург           27089.0   \n",
       "2309       False          41.0        2           Шушары           23662.0   \n",
       "21505      False          16.1        2  Санкт-Петербург           33977.0   \n",
       "17248      False          16.1        1  Санкт-Петербург           33803.0   \n",
       "680        False          23.0        0  Санкт-Петербург           23900.0   \n",
       "\n",
       "       city_centers_nearest  parks_around_3000  parks_nearest  \\\n",
       "13915                6521.0                0.0            NaN   \n",
       "21758                   NaN                NaN            NaN   \n",
       "23574                5975.0                1.0          630.0   \n",
       "3242                13073.0                0.0            NaN   \n",
       "17582               11618.0                1.0          835.0   \n",
       "21943               11270.0                1.0          584.0   \n",
       "16431                4826.0                1.0          430.0   \n",
       "19251               10592.0                1.0          458.0   \n",
       "23208               12387.0                2.0          358.0   \n",
       "20994                8301.0                1.0          173.0   \n",
       "114                  5791.0                2.0          488.0   \n",
       "2309                29448.0                0.0            NaN   \n",
       "21505               15076.0                0.0            NaN   \n",
       "17248               13671.0                0.0            NaN   \n",
       "680                  5232.0                1.0         2137.0   \n",
       "\n",
       "       ponds_around_3000  ponds_nearest  days_exposition  one_m_price  \\\n",
       "13915                1.0         1012.0             91.0    122115.38   \n",
       "21758                NaN            NaN             66.0    101304.35   \n",
       "23574                3.0          100.0            280.0    467553.96   \n",
       "3242                 0.0            NaN            216.0    108292.68   \n",
       "17582                1.0          652.0             70.0    121818.18   \n",
       "21943                0.0            NaN             33.0     78608.25   \n",
       "16431                0.0            NaN            168.0    122548.39   \n",
       "19251                0.0            NaN             44.0    122727.27   \n",
       "23208                1.0          950.0            139.0    129729.73   \n",
       "20994                3.0          126.0              NaN    175889.33   \n",
       "114                  1.0          286.0              NaN    186915.89   \n",
       "2309                 0.0            NaN            111.0     67307.69   \n",
       "21505                0.0            NaN             60.0    116147.31   \n",
       "17248                0.0            NaN            216.0    160606.06   \n",
       "680                  1.0          933.0            296.0    167441.86   \n",
       "\n",
       "       weekday_publication  month_publication  year_publication floor_type  \\\n",
       "13915                    1                  2              2018     другой   \n",
       "21758                    0                  1              2018     другой   \n",
       "23574                    1                 11              2015  последний   \n",
       "3242                     6                  7              2017  последний   \n",
       "17582                    5                  8              2018     другой   \n",
       "21943                    3                  2              2019     первый   \n",
       "16431                    3                  4              2018     первый   \n",
       "19251                    0                 10              2018     другой   \n",
       "23208                    2                  2              2016     другой   \n",
       "20994                    0                 10              2018     другой   \n",
       "114                      3                  2              2019     другой   \n",
       "2309                     3                  6              2017     другой   \n",
       "21505                    2                  1              2018     другой   \n",
       "17248                    4                  4              2017     другой   \n",
       "680                      1                 10              2017     другой   \n",
       "\n",
       "       city_centers_nearest_km  \n",
       "13915                      7.0  \n",
       "21758                      NaN  \n",
       "23574                      6.0  \n",
       "3242                      13.0  \n",
       "17582                     12.0  \n",
       "21943                     11.0  \n",
       "16431                      5.0  \n",
       "19251                     11.0  \n",
       "23208                     12.0  \n",
       "20994                      8.0  \n",
       "114                        6.0  \n",
       "2309                      29.0  \n",
       "21505                     15.0  \n",
       "17248                     14.0  \n",
       "680                        5.0  "
      ]
     },
     "execution_count": 26,
     "metadata": {},
     "output_type": "execute_result"
    }
   ],
   "source": [
    "data.loc[data['living_area'] < 18.6].sort_values('living_area').head(15)"
   ]
  },
  {
   "cell_type": "markdown",
   "metadata": {},
   "source": [
    "* Данные квартир с жилой площадью меньше 6 кв м выглядят неправдоподобными, их всего 6 строк - удалим их."
   ]
  },
  {
   "cell_type": "code",
   "execution_count": 27,
   "metadata": {},
   "outputs": [
    {
     "data": {
      "text/html": [
       "<div>\n",
       "<style scoped>\n",
       "    .dataframe tbody tr th:only-of-type {\n",
       "        vertical-align: middle;\n",
       "    }\n",
       "\n",
       "    .dataframe tbody tr th {\n",
       "        vertical-align: top;\n",
       "    }\n",
       "\n",
       "    .dataframe thead th {\n",
       "        text-align: right;\n",
       "    }\n",
       "</style>\n",
       "<table border=\"1\" class=\"dataframe\">\n",
       "  <thead>\n",
       "    <tr style=\"text-align: right;\">\n",
       "      <th></th>\n",
       "      <th>total_images</th>\n",
       "      <th>last_price</th>\n",
       "      <th>total_area</th>\n",
       "      <th>first_day_exposition</th>\n",
       "      <th>rooms</th>\n",
       "      <th>ceiling_height</th>\n",
       "      <th>floors_total</th>\n",
       "      <th>living_area</th>\n",
       "      <th>floor</th>\n",
       "      <th>is_apartment</th>\n",
       "      <th>studio</th>\n",
       "      <th>open_plan</th>\n",
       "      <th>kitchen_area</th>\n",
       "      <th>balcony</th>\n",
       "      <th>locality_name</th>\n",
       "      <th>airports_nearest</th>\n",
       "      <th>city_centers_nearest</th>\n",
       "      <th>parks_around_3000</th>\n",
       "      <th>parks_nearest</th>\n",
       "      <th>ponds_around_3000</th>\n",
       "      <th>ponds_nearest</th>\n",
       "      <th>days_exposition</th>\n",
       "      <th>one_m_price</th>\n",
       "      <th>weekday_publication</th>\n",
       "      <th>month_publication</th>\n",
       "      <th>year_publication</th>\n",
       "      <th>floor_type</th>\n",
       "      <th>city_centers_nearest_km</th>\n",
       "    </tr>\n",
       "  </thead>\n",
       "  <tbody>\n",
       "    <tr>\n",
       "      <th>8601</th>\n",
       "      <td>0</td>\n",
       "      <td>4400000.0</td>\n",
       "      <td>60.2</td>\n",
       "      <td>2018-12-27</td>\n",
       "      <td>4</td>\n",
       "      <td>2.50</td>\n",
       "      <td>5</td>\n",
       "      <td>0.0</td>\n",
       "      <td>4</td>\n",
       "      <td>False</td>\n",
       "      <td>False</td>\n",
       "      <td>False</td>\n",
       "      <td>5.0</td>\n",
       "      <td>1</td>\n",
       "      <td>Ломоносов</td>\n",
       "      <td>47993.0</td>\n",
       "      <td>51418.0</td>\n",
       "      <td>0.0</td>\n",
       "      <td>NaN</td>\n",
       "      <td>0.0</td>\n",
       "      <td>NaN</td>\n",
       "      <td>21.0</td>\n",
       "      <td>73089.70</td>\n",
       "      <td>3</td>\n",
       "      <td>12</td>\n",
       "      <td>2018</td>\n",
       "      <td>другой</td>\n",
       "      <td>51.0</td>\n",
       "    </tr>\n",
       "    <tr>\n",
       "      <th>12469</th>\n",
       "      <td>0</td>\n",
       "      <td>7300000.0</td>\n",
       "      <td>72.0</td>\n",
       "      <td>2018-07-24</td>\n",
       "      <td>3</td>\n",
       "      <td>2.95</td>\n",
       "      <td>5</td>\n",
       "      <td>0.0</td>\n",
       "      <td>3</td>\n",
       "      <td>False</td>\n",
       "      <td>False</td>\n",
       "      <td>False</td>\n",
       "      <td>8.7</td>\n",
       "      <td>0</td>\n",
       "      <td>Санкт-Петербург</td>\n",
       "      <td>15972.0</td>\n",
       "      <td>8968.0</td>\n",
       "      <td>0.0</td>\n",
       "      <td>NaN</td>\n",
       "      <td>0.0</td>\n",
       "      <td>NaN</td>\n",
       "      <td>60.0</td>\n",
       "      <td>101388.89</td>\n",
       "      <td>1</td>\n",
       "      <td>7</td>\n",
       "      <td>2018</td>\n",
       "      <td>другой</td>\n",
       "      <td>9.0</td>\n",
       "    </tr>\n",
       "    <tr>\n",
       "      <th>20184</th>\n",
       "      <td>0</td>\n",
       "      <td>8600000.0</td>\n",
       "      <td>51.7</td>\n",
       "      <td>2018-09-14</td>\n",
       "      <td>3</td>\n",
       "      <td>2.55</td>\n",
       "      <td>14</td>\n",
       "      <td>0.0</td>\n",
       "      <td>7</td>\n",
       "      <td>False</td>\n",
       "      <td>False</td>\n",
       "      <td>False</td>\n",
       "      <td>6.5</td>\n",
       "      <td>0</td>\n",
       "      <td>Санкт-Петербург</td>\n",
       "      <td>29567.0</td>\n",
       "      <td>13763.0</td>\n",
       "      <td>1.0</td>\n",
       "      <td>765.0</td>\n",
       "      <td>1.0</td>\n",
       "      <td>756.0</td>\n",
       "      <td>11.0</td>\n",
       "      <td>166344.29</td>\n",
       "      <td>4</td>\n",
       "      <td>9</td>\n",
       "      <td>2018</td>\n",
       "      <td>другой</td>\n",
       "      <td>14.0</td>\n",
       "    </tr>\n",
       "    <tr>\n",
       "      <th>2030</th>\n",
       "      <td>0</td>\n",
       "      <td>14500000.0</td>\n",
       "      <td>107.0</td>\n",
       "      <td>2018-12-16</td>\n",
       "      <td>3</td>\n",
       "      <td>NaN</td>\n",
       "      <td>16</td>\n",
       "      <td>0.0</td>\n",
       "      <td>8</td>\n",
       "      <td>False</td>\n",
       "      <td>False</td>\n",
       "      <td>False</td>\n",
       "      <td>27.0</td>\n",
       "      <td>0</td>\n",
       "      <td>Санкт-Петербург</td>\n",
       "      <td>39408.0</td>\n",
       "      <td>11111.0</td>\n",
       "      <td>0.0</td>\n",
       "      <td>NaN</td>\n",
       "      <td>0.0</td>\n",
       "      <td>NaN</td>\n",
       "      <td>75.0</td>\n",
       "      <td>135514.02</td>\n",
       "      <td>6</td>\n",
       "      <td>12</td>\n",
       "      <td>2018</td>\n",
       "      <td>другой</td>\n",
       "      <td>11.0</td>\n",
       "    </tr>\n",
       "    <tr>\n",
       "      <th>12452</th>\n",
       "      <td>0</td>\n",
       "      <td>4600000.0</td>\n",
       "      <td>35.0</td>\n",
       "      <td>2019-04-05</td>\n",
       "      <td>1</td>\n",
       "      <td>2.50</td>\n",
       "      <td>18</td>\n",
       "      <td>0.0</td>\n",
       "      <td>3</td>\n",
       "      <td>False</td>\n",
       "      <td>False</td>\n",
       "      <td>False</td>\n",
       "      <td>8.0</td>\n",
       "      <td>0</td>\n",
       "      <td>Санкт-Петербург</td>\n",
       "      <td>15791.0</td>\n",
       "      <td>10629.0</td>\n",
       "      <td>0.0</td>\n",
       "      <td>NaN</td>\n",
       "      <td>1.0</td>\n",
       "      <td>1141.0</td>\n",
       "      <td>5.0</td>\n",
       "      <td>131428.57</td>\n",
       "      <td>4</td>\n",
       "      <td>4</td>\n",
       "      <td>2019</td>\n",
       "      <td>другой</td>\n",
       "      <td>11.0</td>\n",
       "    </tr>\n",
       "    <tr>\n",
       "      <th>6407</th>\n",
       "      <td>0</td>\n",
       "      <td>2550000.0</td>\n",
       "      <td>58.5</td>\n",
       "      <td>2018-10-23</td>\n",
       "      <td>3</td>\n",
       "      <td>2.60</td>\n",
       "      <td>2</td>\n",
       "      <td>0.0</td>\n",
       "      <td>2</td>\n",
       "      <td>False</td>\n",
       "      <td>False</td>\n",
       "      <td>False</td>\n",
       "      <td>6.5</td>\n",
       "      <td>0</td>\n",
       "      <td>Рахья</td>\n",
       "      <td>NaN</td>\n",
       "      <td>NaN</td>\n",
       "      <td>NaN</td>\n",
       "      <td>NaN</td>\n",
       "      <td>NaN</td>\n",
       "      <td>NaN</td>\n",
       "      <td>104.0</td>\n",
       "      <td>43589.74</td>\n",
       "      <td>1</td>\n",
       "      <td>10</td>\n",
       "      <td>2018</td>\n",
       "      <td>последний</td>\n",
       "      <td>NaN</td>\n",
       "    </tr>\n",
       "    <tr>\n",
       "      <th>6408</th>\n",
       "      <td>0</td>\n",
       "      <td>2450000.0</td>\n",
       "      <td>27.0</td>\n",
       "      <td>2017-11-07</td>\n",
       "      <td>0</td>\n",
       "      <td>NaN</td>\n",
       "      <td>23</td>\n",
       "      <td>0.0</td>\n",
       "      <td>22</td>\n",
       "      <td>False</td>\n",
       "      <td>True</td>\n",
       "      <td>False</td>\n",
       "      <td>NaN</td>\n",
       "      <td>0</td>\n",
       "      <td>Мурино</td>\n",
       "      <td>NaN</td>\n",
       "      <td>NaN</td>\n",
       "      <td>NaN</td>\n",
       "      <td>NaN</td>\n",
       "      <td>NaN</td>\n",
       "      <td>NaN</td>\n",
       "      <td>66.0</td>\n",
       "      <td>90740.74</td>\n",
       "      <td>1</td>\n",
       "      <td>11</td>\n",
       "      <td>2017</td>\n",
       "      <td>другой</td>\n",
       "      <td>NaN</td>\n",
       "    </tr>\n",
       "    <tr>\n",
       "      <th>12412</th>\n",
       "      <td>0</td>\n",
       "      <td>3300000.0</td>\n",
       "      <td>27.0</td>\n",
       "      <td>2017-08-15</td>\n",
       "      <td>0</td>\n",
       "      <td>NaN</td>\n",
       "      <td>25</td>\n",
       "      <td>0.0</td>\n",
       "      <td>22</td>\n",
       "      <td>False</td>\n",
       "      <td>False</td>\n",
       "      <td>True</td>\n",
       "      <td>NaN</td>\n",
       "      <td>0</td>\n",
       "      <td>Санкт-Петербург</td>\n",
       "      <td>12199.0</td>\n",
       "      <td>12111.0</td>\n",
       "      <td>0.0</td>\n",
       "      <td>NaN</td>\n",
       "      <td>1.0</td>\n",
       "      <td>337.0</td>\n",
       "      <td>161.0</td>\n",
       "      <td>122222.22</td>\n",
       "      <td>1</td>\n",
       "      <td>8</td>\n",
       "      <td>2017</td>\n",
       "      <td>другой</td>\n",
       "      <td>12.0</td>\n",
       "    </tr>\n",
       "    <tr>\n",
       "      <th>2006</th>\n",
       "      <td>0</td>\n",
       "      <td>10140000.0</td>\n",
       "      <td>72.0</td>\n",
       "      <td>2017-06-25</td>\n",
       "      <td>2</td>\n",
       "      <td>NaN</td>\n",
       "      <td>3</td>\n",
       "      <td>0.0</td>\n",
       "      <td>3</td>\n",
       "      <td>False</td>\n",
       "      <td>False</td>\n",
       "      <td>False</td>\n",
       "      <td>10.0</td>\n",
       "      <td>0</td>\n",
       "      <td>Санкт-Петербург</td>\n",
       "      <td>24492.0</td>\n",
       "      <td>3286.0</td>\n",
       "      <td>2.0</td>\n",
       "      <td>155.0</td>\n",
       "      <td>1.0</td>\n",
       "      <td>657.0</td>\n",
       "      <td>71.0</td>\n",
       "      <td>140833.33</td>\n",
       "      <td>6</td>\n",
       "      <td>6</td>\n",
       "      <td>2017</td>\n",
       "      <td>последний</td>\n",
       "      <td>3.0</td>\n",
       "    </tr>\n",
       "    <tr>\n",
       "      <th>12484</th>\n",
       "      <td>0</td>\n",
       "      <td>3650000.0</td>\n",
       "      <td>29.0</td>\n",
       "      <td>2017-02-12</td>\n",
       "      <td>1</td>\n",
       "      <td>NaN</td>\n",
       "      <td>9</td>\n",
       "      <td>0.0</td>\n",
       "      <td>9</td>\n",
       "      <td>False</td>\n",
       "      <td>False</td>\n",
       "      <td>False</td>\n",
       "      <td>6.7</td>\n",
       "      <td>0</td>\n",
       "      <td>Санкт-Петербург</td>\n",
       "      <td>17049.0</td>\n",
       "      <td>13072.0</td>\n",
       "      <td>0.0</td>\n",
       "      <td>NaN</td>\n",
       "      <td>0.0</td>\n",
       "      <td>NaN</td>\n",
       "      <td>30.0</td>\n",
       "      <td>125862.07</td>\n",
       "      <td>6</td>\n",
       "      <td>2</td>\n",
       "      <td>2017</td>\n",
       "      <td>последний</td>\n",
       "      <td>13.0</td>\n",
       "    </tr>\n",
       "    <tr>\n",
       "      <th>20233</th>\n",
       "      <td>0</td>\n",
       "      <td>2450000.0</td>\n",
       "      <td>25.0</td>\n",
       "      <td>2017-10-01</td>\n",
       "      <td>1</td>\n",
       "      <td>NaN</td>\n",
       "      <td>9</td>\n",
       "      <td>0.0</td>\n",
       "      <td>3</td>\n",
       "      <td>False</td>\n",
       "      <td>False</td>\n",
       "      <td>False</td>\n",
       "      <td>NaN</td>\n",
       "      <td>0</td>\n",
       "      <td>Кудрово</td>\n",
       "      <td>NaN</td>\n",
       "      <td>NaN</td>\n",
       "      <td>NaN</td>\n",
       "      <td>NaN</td>\n",
       "      <td>NaN</td>\n",
       "      <td>NaN</td>\n",
       "      <td>59.0</td>\n",
       "      <td>98000.00</td>\n",
       "      <td>6</td>\n",
       "      <td>10</td>\n",
       "      <td>2017</td>\n",
       "      <td>другой</td>\n",
       "      <td>NaN</td>\n",
       "    </tr>\n",
       "    <tr>\n",
       "      <th>6431</th>\n",
       "      <td>0</td>\n",
       "      <td>4900000.0</td>\n",
       "      <td>56.5</td>\n",
       "      <td>2018-10-31</td>\n",
       "      <td>3</td>\n",
       "      <td>2.50</td>\n",
       "      <td>5</td>\n",
       "      <td>0.0</td>\n",
       "      <td>5</td>\n",
       "      <td>False</td>\n",
       "      <td>False</td>\n",
       "      <td>False</td>\n",
       "      <td>7.6</td>\n",
       "      <td>1</td>\n",
       "      <td>Санкт-Петербург</td>\n",
       "      <td>36321.0</td>\n",
       "      <td>9400.0</td>\n",
       "      <td>1.0</td>\n",
       "      <td>585.0</td>\n",
       "      <td>0.0</td>\n",
       "      <td>NaN</td>\n",
       "      <td>60.0</td>\n",
       "      <td>86725.66</td>\n",
       "      <td>2</td>\n",
       "      <td>10</td>\n",
       "      <td>2018</td>\n",
       "      <td>последний</td>\n",
       "      <td>9.0</td>\n",
       "    </tr>\n",
       "    <tr>\n",
       "      <th>12333</th>\n",
       "      <td>0</td>\n",
       "      <td>10000000.0</td>\n",
       "      <td>80.0</td>\n",
       "      <td>2017-01-21</td>\n",
       "      <td>3</td>\n",
       "      <td>NaN</td>\n",
       "      <td>5</td>\n",
       "      <td>0.0</td>\n",
       "      <td>2</td>\n",
       "      <td>False</td>\n",
       "      <td>False</td>\n",
       "      <td>False</td>\n",
       "      <td>9.0</td>\n",
       "      <td>0</td>\n",
       "      <td>Санкт-Петербург</td>\n",
       "      <td>22506.0</td>\n",
       "      <td>2048.0</td>\n",
       "      <td>0.0</td>\n",
       "      <td>NaN</td>\n",
       "      <td>2.0</td>\n",
       "      <td>569.0</td>\n",
       "      <td>3.0</td>\n",
       "      <td>125000.00</td>\n",
       "      <td>5</td>\n",
       "      <td>1</td>\n",
       "      <td>2017</td>\n",
       "      <td>другой</td>\n",
       "      <td>2.0</td>\n",
       "    </tr>\n",
       "    <tr>\n",
       "      <th>6468</th>\n",
       "      <td>0</td>\n",
       "      <td>4200000.0</td>\n",
       "      <td>44.3</td>\n",
       "      <td>2017-11-10</td>\n",
       "      <td>2</td>\n",
       "      <td>2.50</td>\n",
       "      <td>5</td>\n",
       "      <td>0.0</td>\n",
       "      <td>4</td>\n",
       "      <td>False</td>\n",
       "      <td>False</td>\n",
       "      <td>False</td>\n",
       "      <td>7.0</td>\n",
       "      <td>1</td>\n",
       "      <td>Санкт-Петербург</td>\n",
       "      <td>45304.0</td>\n",
       "      <td>18875.0</td>\n",
       "      <td>0.0</td>\n",
       "      <td>NaN</td>\n",
       "      <td>1.0</td>\n",
       "      <td>592.0</td>\n",
       "      <td>74.0</td>\n",
       "      <td>94808.13</td>\n",
       "      <td>4</td>\n",
       "      <td>11</td>\n",
       "      <td>2017</td>\n",
       "      <td>другой</td>\n",
       "      <td>19.0</td>\n",
       "    </tr>\n",
       "    <tr>\n",
       "      <th>20324</th>\n",
       "      <td>0</td>\n",
       "      <td>2300000.0</td>\n",
       "      <td>49.0</td>\n",
       "      <td>2019-02-11</td>\n",
       "      <td>2</td>\n",
       "      <td>2.50</td>\n",
       "      <td>5</td>\n",
       "      <td>0.0</td>\n",
       "      <td>5</td>\n",
       "      <td>False</td>\n",
       "      <td>False</td>\n",
       "      <td>False</td>\n",
       "      <td>8.4</td>\n",
       "      <td>0</td>\n",
       "      <td>Сиверский</td>\n",
       "      <td>NaN</td>\n",
       "      <td>NaN</td>\n",
       "      <td>NaN</td>\n",
       "      <td>NaN</td>\n",
       "      <td>NaN</td>\n",
       "      <td>NaN</td>\n",
       "      <td>45.0</td>\n",
       "      <td>46938.78</td>\n",
       "      <td>0</td>\n",
       "      <td>2</td>\n",
       "      <td>2019</td>\n",
       "      <td>последний</td>\n",
       "      <td>NaN</td>\n",
       "    </tr>\n",
       "  </tbody>\n",
       "</table>\n",
       "</div>"
      ],
      "text/plain": [
       "       total_images  last_price  total_area first_day_exposition  rooms  \\\n",
       "8601              0   4400000.0        60.2           2018-12-27      4   \n",
       "12469             0   7300000.0        72.0           2018-07-24      3   \n",
       "20184             0   8600000.0        51.7           2018-09-14      3   \n",
       "2030              0  14500000.0       107.0           2018-12-16      3   \n",
       "12452             0   4600000.0        35.0           2019-04-05      1   \n",
       "6407              0   2550000.0        58.5           2018-10-23      3   \n",
       "6408              0   2450000.0        27.0           2017-11-07      0   \n",
       "12412             0   3300000.0        27.0           2017-08-15      0   \n",
       "2006              0  10140000.0        72.0           2017-06-25      2   \n",
       "12484             0   3650000.0        29.0           2017-02-12      1   \n",
       "20233             0   2450000.0        25.0           2017-10-01      1   \n",
       "6431              0   4900000.0        56.5           2018-10-31      3   \n",
       "12333             0  10000000.0        80.0           2017-01-21      3   \n",
       "6468              0   4200000.0        44.3           2017-11-10      2   \n",
       "20324             0   2300000.0        49.0           2019-02-11      2   \n",
       "\n",
       "       ceiling_height  floors_total living_area  floor  is_apartment  studio  \\\n",
       "8601             2.50             5         0.0      4         False   False   \n",
       "12469            2.95             5         0.0      3         False   False   \n",
       "20184            2.55            14         0.0      7         False   False   \n",
       "2030              NaN            16         0.0      8         False   False   \n",
       "12452            2.50            18         0.0      3         False   False   \n",
       "6407             2.60             2         0.0      2         False   False   \n",
       "6408              NaN            23         0.0     22         False    True   \n",
       "12412             NaN            25         0.0     22         False   False   \n",
       "2006              NaN             3         0.0      3         False   False   \n",
       "12484             NaN             9         0.0      9         False   False   \n",
       "20233             NaN             9         0.0      3         False   False   \n",
       "6431             2.50             5         0.0      5         False   False   \n",
       "12333             NaN             5         0.0      2         False   False   \n",
       "6468             2.50             5         0.0      4         False   False   \n",
       "20324            2.50             5         0.0      5         False   False   \n",
       "\n",
       "       open_plan  kitchen_area  balcony    locality_name  airports_nearest  \\\n",
       "8601       False           5.0        1        Ломоносов           47993.0   \n",
       "12469      False           8.7        0  Санкт-Петербург           15972.0   \n",
       "20184      False           6.5        0  Санкт-Петербург           29567.0   \n",
       "2030       False          27.0        0  Санкт-Петербург           39408.0   \n",
       "12452      False           8.0        0  Санкт-Петербург           15791.0   \n",
       "6407       False           6.5        0            Рахья               NaN   \n",
       "6408       False           NaN        0           Мурино               NaN   \n",
       "12412       True           NaN        0  Санкт-Петербург           12199.0   \n",
       "2006       False          10.0        0  Санкт-Петербург           24492.0   \n",
       "12484      False           6.7        0  Санкт-Петербург           17049.0   \n",
       "20233      False           NaN        0          Кудрово               NaN   \n",
       "6431       False           7.6        1  Санкт-Петербург           36321.0   \n",
       "12333      False           9.0        0  Санкт-Петербург           22506.0   \n",
       "6468       False           7.0        1  Санкт-Петербург           45304.0   \n",
       "20324      False           8.4        0        Сиверский               NaN   \n",
       "\n",
       "       city_centers_nearest  parks_around_3000  parks_nearest  \\\n",
       "8601                51418.0                0.0            NaN   \n",
       "12469                8968.0                0.0            NaN   \n",
       "20184               13763.0                1.0          765.0   \n",
       "2030                11111.0                0.0            NaN   \n",
       "12452               10629.0                0.0            NaN   \n",
       "6407                    NaN                NaN            NaN   \n",
       "6408                    NaN                NaN            NaN   \n",
       "12412               12111.0                0.0            NaN   \n",
       "2006                 3286.0                2.0          155.0   \n",
       "12484               13072.0                0.0            NaN   \n",
       "20233                   NaN                NaN            NaN   \n",
       "6431                 9400.0                1.0          585.0   \n",
       "12333                2048.0                0.0            NaN   \n",
       "6468                18875.0                0.0            NaN   \n",
       "20324                   NaN                NaN            NaN   \n",
       "\n",
       "       ponds_around_3000  ponds_nearest  days_exposition  one_m_price  \\\n",
       "8601                 0.0            NaN             21.0     73089.70   \n",
       "12469                0.0            NaN             60.0    101388.89   \n",
       "20184                1.0          756.0             11.0    166344.29   \n",
       "2030                 0.0            NaN             75.0    135514.02   \n",
       "12452                1.0         1141.0              5.0    131428.57   \n",
       "6407                 NaN            NaN            104.0     43589.74   \n",
       "6408                 NaN            NaN             66.0     90740.74   \n",
       "12412                1.0          337.0            161.0    122222.22   \n",
       "2006                 1.0          657.0             71.0    140833.33   \n",
       "12484                0.0            NaN             30.0    125862.07   \n",
       "20233                NaN            NaN             59.0     98000.00   \n",
       "6431                 0.0            NaN             60.0     86725.66   \n",
       "12333                2.0          569.0              3.0    125000.00   \n",
       "6468                 1.0          592.0             74.0     94808.13   \n",
       "20324                NaN            NaN             45.0     46938.78   \n",
       "\n",
       "       weekday_publication  month_publication  year_publication floor_type  \\\n",
       "8601                     3                 12              2018     другой   \n",
       "12469                    1                  7              2018     другой   \n",
       "20184                    4                  9              2018     другой   \n",
       "2030                     6                 12              2018     другой   \n",
       "12452                    4                  4              2019     другой   \n",
       "6407                     1                 10              2018  последний   \n",
       "6408                     1                 11              2017     другой   \n",
       "12412                    1                  8              2017     другой   \n",
       "2006                     6                  6              2017  последний   \n",
       "12484                    6                  2              2017  последний   \n",
       "20233                    6                 10              2017     другой   \n",
       "6431                     2                 10              2018  последний   \n",
       "12333                    5                  1              2017     другой   \n",
       "6468                     4                 11              2017     другой   \n",
       "20324                    0                  2              2019  последний   \n",
       "\n",
       "       city_centers_nearest_km  \n",
       "8601                      51.0  \n",
       "12469                      9.0  \n",
       "20184                     14.0  \n",
       "2030                      11.0  \n",
       "12452                     11.0  \n",
       "6407                       NaN  \n",
       "6408                       NaN  \n",
       "12412                     12.0  \n",
       "2006                       3.0  \n",
       "12484                     13.0  \n",
       "20233                      NaN  \n",
       "6431                       9.0  \n",
       "12333                      2.0  \n",
       "6468                      19.0  \n",
       "20324                      NaN  "
      ]
     },
     "execution_count": 27,
     "metadata": {},
     "output_type": "execute_result"
    }
   ],
   "source": [
    "data['living_area'] = data.loc[data['living_area'] > 5.4]\n",
    "data.loc[data['living_area'] < 18.6].sort_values('living_area').head(15)"
   ]
  },
  {
   "cell_type": "markdown",
   "metadata": {},
   "source": [
    "* Посчитаем количество пропусков в столбце."
   ]
  },
  {
   "cell_type": "code",
   "execution_count": 28,
   "metadata": {},
   "outputs": [
    {
     "data": {
      "text/plain": [
       "1909"
      ]
     },
     "execution_count": 28,
     "metadata": {},
     "output_type": "execute_result"
    }
   ],
   "source": [
    "data['living_area'].isna().sum()"
   ]
  },
  {
   "cell_type": "markdown",
   "metadata": {},
   "source": [
    "* Заполнить пропуски можно медианным значением жилой площади, исходя из количества комнат. Для этого сначала проведем исследования столбца 'rooms'. Количество комнат изучено и проставлено верно. Заполним пропуски медианным значением жилой площади, исходя из количества комнат:"
   ]
  },
  {
   "cell_type": "code",
   "execution_count": 29,
   "metadata": {},
   "outputs": [
    {
     "data": {
      "text/plain": [
       "0"
      ]
     },
     "execution_count": 29,
     "metadata": {},
     "output_type": "execute_result"
    }
   ],
   "source": [
    "data.loc[data['living_area'].isna() ,'living_area'] = data.loc[data['rooms'] ,'living_area'].median()\n",
    "data['living_area'].isna().sum()\n"
   ]
  },
  {
   "cell_type": "code",
   "execution_count": 30,
   "metadata": {},
   "outputs": [
    {
     "data": {
      "text/plain": [
       "0        20.0\n",
       "1         7.0\n",
       "2        10.0\n",
       "3         7.0\n",
       "4         2.0\n",
       "         ... \n",
       "23694     9.0\n",
       "23695    14.0\n",
       "23696    18.0\n",
       "23697     7.0\n",
       "23698     4.0\n",
       "Name: living_area, Length: 23699, dtype: float64"
      ]
     },
     "execution_count": 30,
     "metadata": {},
     "output_type": "execute_result"
    }
   ],
   "source": [
    "data['living_area'].astype(float)"
   ]
  },
  {
   "cell_type": "markdown",
   "metadata": {},
   "source": [
    "#### Изучим столбец  'rooms'."
   ]
  },
  {
   "cell_type": "code",
   "execution_count": 31,
   "metadata": {},
   "outputs": [
    {
     "data": {
      "text/plain": [
       "<AxesSubplot:>"
      ]
     },
     "execution_count": 31,
     "metadata": {},
     "output_type": "execute_result"
    },
    {
     "data": {
      "image/png": "[encoded data removed]",
      "text/plain": [
       "<Figure size 432x288 with 1 Axes>"
      ]
     },
     "metadata": {
      "needs_background": "light"
     },
     "output_type": "display_data"
    }
   ],
   "source": [
    "data['rooms'].hist()"
   ]
  },
  {
   "cell_type": "markdown",
   "metadata": {},
   "source": [
    "Пропусков нет, есть строки с 0. Предположительно это студии или открытые планировки. Проверим гипотезу - сравним количество студий и открытых планировок с количеством нулей в столбце:"
   ]
  },
  {
   "cell_type": "code",
   "execution_count": 32,
   "metadata": {},
   "outputs": [
    {
     "name": "stdout",
     "output_type": "stream",
     "text": [
      "216\n",
      "197\n"
     ]
    }
   ],
   "source": [
    "print(len(data.query('studio == True or open_plan == True')))\n",
    "print(len(data.query('rooms == 0')))"
   ]
  },
  {
   "cell_type": "markdown",
   "metadata": {},
   "source": [
    "Значения не равны, в целом студия подразумевает объединенное пространство и \"0\" комнат, посмотрим что входит в studio:"
   ]
  },
  {
   "cell_type": "code",
   "execution_count": 33,
   "metadata": {},
   "outputs": [
    {
     "name": "stdout",
     "output_type": "stream",
     "text": [
      "0    138\n",
      "1     11\n",
      "Name: rooms, dtype: int64\n"
     ]
    }
   ],
   "source": [
    "print(data.query('studio == True')['rooms'].value_counts())\n"
   ]
  },
  {
   "cell_type": "markdown",
   "metadata": {},
   "source": [
    "Заменим 11 значений на \"0\" для однообразия данных:"
   ]
  },
  {
   "cell_type": "code",
   "execution_count": 34,
   "metadata": {},
   "outputs": [
    {
     "name": "stdout",
     "output_type": "stream",
     "text": [
      "0    149\n",
      "Name: rooms, dtype: int64\n"
     ]
    }
   ],
   "source": [
    "data.loc[(data['rooms'] == 1) & (data['studio']==True),'rooms'] = 0\n",
    "print(data.query('studio == True')['rooms'].value_counts())"
   ]
  },
  {
   "cell_type": "markdown",
   "metadata": {},
   "source": [
    "#### Изучим столбец kitchen_area."
   ]
  },
  {
   "cell_type": "code",
   "execution_count": 35,
   "metadata": {},
   "outputs": [
    {
     "name": "stdout",
     "output_type": "stream",
     "text": [
      "2278\n"
     ]
    },
    {
     "data": {
      "image/png": "[encoded data removed]",
      "text/plain": [
       "<Figure size 432x288 with 1 Axes>"
      ]
     },
     "metadata": {
      "needs_background": "light"
     },
     "output_type": "display_data"
    }
   ],
   "source": [
    "data['kitchen_area'].hist()\n",
    "print(data['kitchen_area'].isna().sum())"
   ]
  },
  {
   "cell_type": "markdown",
   "metadata": {},
   "source": [
    "* Есть 2278 пропущенных значений. Поступим как и с living_area - заполним пропуски медианными значениями по количеству комнат."
   ]
  },
  {
   "cell_type": "code",
   "execution_count": 36,
   "metadata": {},
   "outputs": [
    {
     "data": {
      "text/plain": [
       "0"
      ]
     },
     "execution_count": 36,
     "metadata": {},
     "output_type": "execute_result"
    }
   ],
   "source": [
    "data.loc[data['kitchen_area'].isna() ,'kitchen_area'] = data.loc[data['rooms'] ,'kitchen_area'].median()\n",
    "data['kitchen_area'].isna().sum()"
   ]
  },
  {
   "cell_type": "markdown",
   "metadata": {},
   "source": [
    "#### Изучим столбец last_price."
   ]
  },
  {
   "cell_type": "code",
   "execution_count": 37,
   "metadata": {},
   "outputs": [
    {
     "name": "stdout",
     "output_type": "stream",
     "text": [
      "0\n"
     ]
    },
    {
     "data": {
      "image/png": "[encoded data removed]",
      "text/plain": [
       "<Figure size 432x288 with 1 Axes>"
      ]
     },
     "metadata": {
      "needs_background": "light"
     },
     "output_type": "display_data"
    }
   ],
   "source": [
    "data['last_price'].hist()\n",
    "print(data['last_price'].isna().sum())"
   ]
  },
  {
   "cell_type": "markdown",
   "metadata": {},
   "source": [
    "Пропущенных значений нет, гистограмма не информативна, посмотрим числовое описание данных:"
   ]
  },
  {
   "cell_type": "code",
   "execution_count": 38,
   "metadata": {},
   "outputs": [
    {
     "data": {
      "text/plain": [
       "count        23699\n",
       "mean       6541549\n",
       "std       10887013\n",
       "min          12190\n",
       "25%        3400000\n",
       "50%        4650000\n",
       "75%        6800000\n",
       "max      763000000\n",
       "Name: last_price, dtype: object"
      ]
     },
     "execution_count": 38,
     "metadata": {},
     "output_type": "execute_result"
    }
   ],
   "source": [
    "\n",
    "data['last_price'].describe().apply(\"{0:.0f}\".format)\n"
   ]
  },
  {
   "cell_type": "markdown",
   "metadata": {},
   "source": [
    "Минимальное значение = 12190, возможно это просто ошибка пользователя, посмотрим 10 минимальных значений 'last_price':"
   ]
  },
  {
   "cell_type": "code",
   "execution_count": 39,
   "metadata": {},
   "outputs": [
    {
     "data": {
      "text/plain": [
       "8793      12190.0\n",
       "17456    430000.0\n",
       "14911    430000.0\n",
       "16274    440000.0\n",
       "17676    450000.0\n",
       "16219    450000.0\n",
       "9581     450000.0\n",
       "5698     450000.0\n",
       "21912    470000.0\n",
       "18867    470000.0\n",
       "Name: last_price, dtype: float64"
      ]
     },
     "execution_count": 39,
     "metadata": {},
     "output_type": "execute_result"
    }
   ],
   "source": [
    "data['last_price'].sort_values().head(10)"
   ]
  },
  {
   "cell_type": "markdown",
   "metadata": {},
   "source": [
    "Аномальное значение одно - 12190, вероятно пользователь не поставил нули. Заменим вручную:"
   ]
  },
  {
   "cell_type": "code",
   "execution_count": 40,
   "metadata": {},
   "outputs": [
    {
     "data": {
      "text/plain": [
       "430000.0"
      ]
     },
     "execution_count": 40,
     "metadata": {},
     "output_type": "execute_result"
    }
   ],
   "source": [
    "data.loc[8793,'last_price'] = 12190000\n",
    "data['last_price'].min()"
   ]
  },
  {
   "cell_type": "markdown",
   "metadata": {},
   "source": [
    "#### Изучим столбец ceiling_height."
   ]
  },
  {
   "cell_type": "markdown",
   "metadata": {},
   "source": [
    "Построим гистограммы для всех значений потолков, и для часто условно реальных:"
   ]
  },
  {
   "cell_type": "code",
   "execution_count": 41,
   "metadata": {},
   "outputs": [
    {
     "data": {
      "image/png": "[encoded data removed]",
      "text/plain": [
       "<Figure size 432x288 with 1 Axes>"
      ]
     },
     "metadata": {
      "needs_background": "light"
     },
     "output_type": "display_data"
    },
    {
     "data": {
      "text/plain": [
       "9195"
      ]
     },
     "execution_count": 41,
     "metadata": {},
     "output_type": "execute_result"
    },
    {
     "data": {
      "image/png": "[encoded data removed]",
      "text/plain": [
       "<Figure size 432x288 with 1 Axes>"
      ]
     },
     "metadata": {
      "needs_background": "light"
     },
     "output_type": "display_data"
    }
   ],
   "source": [
    "\n",
    "data['ceiling_height'].hist(bins=20).set(title='Высота потолков всех квартир')\n",
    "plt.show()\n",
    "\n",
    "data['ceiling_height'].hist(bins=20, range=(2, 10)).set(title='Высота потолков от 2 до 10')\n",
    "data['ceiling_height'].isna().sum()"
   ]
  },
  {
   "cell_type": "code",
   "execution_count": 42,
   "metadata": {},
   "outputs": [
    {
     "data": {
      "text/plain": [
       "count    14504.000000\n",
       "mean         2.771499\n",
       "std          1.261056\n",
       "min          1.000000\n",
       "25%          2.520000\n",
       "50%          2.650000\n",
       "75%          2.800000\n",
       "max        100.000000\n",
       "Name: ceiling_height, dtype: float64"
      ]
     },
     "metadata": {},
     "output_type": "display_data"
    }
   ],
   "source": [
    "display(data['ceiling_height'].describe())"
   ]
  },
  {
   "cell_type": "markdown",
   "metadata": {},
   "source": [
    " Как видим на второй гистограмме - высота потолков ниже 2.5 м практически не встречается, как и высота выше 4.8 м. Заменим эти значения на медиану столбца. Выроятная причина ошибок в данных - ошибка пользователя при вводе значений, а также могли неверно выгрузится большие значения - например высота 25 м могла быть высотой 2.5 м, ввиду маленького количества таких значений - просто заменим их на медиану."
   ]
  },
  {
   "cell_type": "code",
   "execution_count": 43,
   "metadata": {},
   "outputs": [],
   "source": [
    "data.loc[data['ceiling_height'] < 2.5, 'ceiling_height'] = data['ceiling_height'].median()\n",
    "data.loc[data['ceiling_height'] > 4.8, 'ceiling_height'] = data['ceiling_height'].median()"
   ]
  },
  {
   "cell_type": "code",
   "execution_count": 44,
   "metadata": {},
   "outputs": [
    {
     "data": {
      "text/plain": [
       "count    14504.000000\n",
       "mean         2.726360\n",
       "std          0.268772\n",
       "min          2.500000\n",
       "25%          2.520000\n",
       "50%          2.650000\n",
       "75%          2.800000\n",
       "max          4.800000\n",
       "Name: ceiling_height, dtype: float64"
      ]
     },
     "metadata": {},
     "output_type": "display_data"
    }
   ],
   "source": [
    "display(data['ceiling_height'].describe())"
   ]
  },
  {
   "cell_type": "code",
   "execution_count": 45,
   "metadata": {},
   "outputs": [
    {
     "data": {
      "text/plain": [
       "9195"
      ]
     },
     "execution_count": 45,
     "metadata": {},
     "output_type": "execute_result"
    }
   ],
   "source": [
    "data['ceiling_height'].isna().sum()"
   ]
  },
  {
   "cell_type": "markdown",
   "metadata": {},
   "source": [
    "Пропущенные значения заполним медианой."
   ]
  },
  {
   "cell_type": "code",
   "execution_count": 46,
   "metadata": {},
   "outputs": [
    {
     "data": {
      "text/plain": [
       "0"
      ]
     },
     "execution_count": 46,
     "metadata": {},
     "output_type": "execute_result"
    }
   ],
   "source": [
    "data['ceiling_height'] = data['ceiling_height'].fillna(data['ceiling_height'].median())\n",
    "data['ceiling_height'].isna().sum()"
   ]
  },
  {
   "cell_type": "markdown",
   "metadata": {},
   "source": [
    "#### Изучим столбец floor_type."
   ]
  },
  {
   "cell_type": "code",
   "execution_count": 47,
   "metadata": {},
   "outputs": [
    {
     "data": {
      "text/plain": [
       "0"
      ]
     },
     "execution_count": 47,
     "metadata": {},
     "output_type": "execute_result"
    },
    {
     "data": {
      "image/png": "[encoded data removed]",
      "text/plain": [
       "<Figure size 432x288 with 1 Axes>"
      ]
     },
     "metadata": {
      "needs_background": "light"
     },
     "output_type": "display_data"
    }
   ],
   "source": [
    "data['floor_type'].hist(bins=5)\n",
    "data['floor_type'].isna().sum()"
   ]
  },
  {
   "cell_type": "markdown",
   "metadata": {},
   "source": [
    "Распределение по типам соответствует ожиданиям - больше всего \"другой\". Пропуски отсутствуют."
   ]
  },
  {
   "cell_type": "markdown",
   "metadata": {},
   "source": [
    "#### Изучим столбец floors_total."
   ]
  },
  {
   "cell_type": "code",
   "execution_count": 48,
   "metadata": {},
   "outputs": [
    {
     "data": {
      "text/plain": [
       "0"
      ]
     },
     "execution_count": 48,
     "metadata": {},
     "output_type": "execute_result"
    },
    {
     "data": {
      "image/png": "[encoded data removed]",
      "text/plain": [
       "<Figure size 432x288 with 1 Axes>"
      ]
     },
     "metadata": {
      "needs_background": "light"
     },
     "output_type": "display_data"
    }
   ],
   "source": [
    "data['floors_total'].hist()\n",
    "data['floors_total'].isna().sum()"
   ]
  },
  {
   "cell_type": "markdown",
   "metadata": {},
   "source": [
    "Распределение по этажам без аномалий. Пропуски отсутствуют."
   ]
  },
  {
   "cell_type": "markdown",
   "metadata": {},
   "source": [
    "#### Изучим столбец city_centers_nearest."
   ]
  },
  {
   "cell_type": "code",
   "execution_count": 49,
   "metadata": {},
   "outputs": [
    {
     "data": {
      "text/plain": [
       "5519"
      ]
     },
     "execution_count": 49,
     "metadata": {},
     "output_type": "execute_result"
    },
    {
     "data": {
      "image/png": "[encoded data removed]",
      "text/plain": [
       "<Figure size 432x288 with 1 Axes>"
      ]
     },
     "metadata": {
      "needs_background": "light"
     },
     "output_type": "display_data"
    }
   ],
   "source": [
    "data['city_centers_nearest'].hist()\n",
    "data['city_centers_nearest'].isna().sum()"
   ]
  },
  {
   "cell_type": "code",
   "execution_count": 50,
   "metadata": {},
   "outputs": [
    {
     "name": "stdout",
     "output_type": "stream",
     "text": [
      "count    18180.00\n",
      "mean     14191.28\n",
      "std       8608.39\n",
      "min        181.00\n",
      "25%       9238.00\n",
      "50%      13098.50\n",
      "75%      16293.00\n",
      "max      65968.00\n",
      "Name: city_centers_nearest, dtype: object\n"
     ]
    },
    {
     "data": {
      "text/plain": [
       "5519"
      ]
     },
     "execution_count": 50,
     "metadata": {},
     "output_type": "execute_result"
    }
   ],
   "source": [
    "print(data['city_centers_nearest'].describe().apply(\"{0:.2f}\".format))\n",
    "data['city_centers_nearest'].isna().sum()"
   ]
  },
  {
   "cell_type": "markdown",
   "metadata": {},
   "source": [
    "Заполним пропуски медианой по населенным пунктам:"
   ]
  },
  {
   "cell_type": "code",
   "execution_count": 51,
   "metadata": {},
   "outputs": [
    {
     "name": "stderr",
     "output_type": "stream",
     "text": [
      "/opt/conda/lib/python3.9/site-packages/numpy/lib/nanfunctions.py:1117: RuntimeWarning: Mean of empty slice\n",
      "  return np.nanmean(a, axis, out=out, keepdims=keepdims)\n",
      "/opt/conda/lib/python3.9/site-packages/numpy/lib/nanfunctions.py:1117: RuntimeWarning: Mean of empty slice\n",
      "  return np.nanmean(a, axis, out=out, keepdims=keepdims)\n",
      "/opt/conda/lib/python3.9/site-packages/numpy/lib/nanfunctions.py:1117: RuntimeWarning: Mean of empty slice\n",
      "  return np.nanmean(a, axis, out=out, keepdims=keepdims)\n",
      "/opt/conda/lib/python3.9/site-packages/numpy/lib/nanfunctions.py:1117: RuntimeWarning: Mean of empty slice\n",
      "  return np.nanmean(a, axis, out=out, keepdims=keepdims)\n",
      "/opt/conda/lib/python3.9/site-packages/numpy/lib/nanfunctions.py:1117: RuntimeWarning: Mean of empty slice\n",
      "  return np.nanmean(a, axis, out=out, keepdims=keepdims)\n",
      "/opt/conda/lib/python3.9/site-packages/numpy/lib/nanfunctions.py:1117: RuntimeWarning: Mean of empty slice\n",
      "  return np.nanmean(a, axis, out=out, keepdims=keepdims)\n",
      "/opt/conda/lib/python3.9/site-packages/numpy/lib/nanfunctions.py:1117: RuntimeWarning: Mean of empty slice\n",
      "  return np.nanmean(a, axis, out=out, keepdims=keepdims)\n",
      "/opt/conda/lib/python3.9/site-packages/numpy/lib/nanfunctions.py:1117: RuntimeWarning: Mean of empty slice\n",
      "  return np.nanmean(a, axis, out=out, keepdims=keepdims)\n",
      "/opt/conda/lib/python3.9/site-packages/numpy/lib/nanfunctions.py:1117: RuntimeWarning: Mean of empty slice\n",
      "  return np.nanmean(a, axis, out=out, keepdims=keepdims)\n",
      "/opt/conda/lib/python3.9/site-packages/numpy/lib/nanfunctions.py:1117: RuntimeWarning: Mean of empty slice\n",
      "  return np.nanmean(a, axis, out=out, keepdims=keepdims)\n",
      "/opt/conda/lib/python3.9/site-packages/numpy/lib/nanfunctions.py:1117: RuntimeWarning: Mean of empty slice\n",
      "  return np.nanmean(a, axis, out=out, keepdims=keepdims)\n",
      "/opt/conda/lib/python3.9/site-packages/numpy/lib/nanfunctions.py:1117: RuntimeWarning: Mean of empty slice\n",
      "  return np.nanmean(a, axis, out=out, keepdims=keepdims)\n",
      "/opt/conda/lib/python3.9/site-packages/numpy/lib/nanfunctions.py:1117: RuntimeWarning: Mean of empty slice\n",
      "  return np.nanmean(a, axis, out=out, keepdims=keepdims)\n",
      "/opt/conda/lib/python3.9/site-packages/numpy/lib/nanfunctions.py:1117: RuntimeWarning: Mean of empty slice\n",
      "  return np.nanmean(a, axis, out=out, keepdims=keepdims)\n",
      "/opt/conda/lib/python3.9/site-packages/numpy/lib/nanfunctions.py:1117: RuntimeWarning: Mean of empty slice\n",
      "  return np.nanmean(a, axis, out=out, keepdims=keepdims)\n",
      "/opt/conda/lib/python3.9/site-packages/numpy/lib/nanfunctions.py:1117: RuntimeWarning: Mean of empty slice\n",
      "  return np.nanmean(a, axis, out=out, keepdims=keepdims)\n",
      "/opt/conda/lib/python3.9/site-packages/numpy/lib/nanfunctions.py:1117: RuntimeWarning: Mean of empty slice\n",
      "  return np.nanmean(a, axis, out=out, keepdims=keepdims)\n",
      "/opt/conda/lib/python3.9/site-packages/numpy/lib/nanfunctions.py:1117: RuntimeWarning: Mean of empty slice\n",
      "  return np.nanmean(a, axis, out=out, keepdims=keepdims)\n",
      "/opt/conda/lib/python3.9/site-packages/numpy/lib/nanfunctions.py:1117: RuntimeWarning: Mean of empty slice\n",
      "  return np.nanmean(a, axis, out=out, keepdims=keepdims)\n",
      "/opt/conda/lib/python3.9/site-packages/numpy/lib/nanfunctions.py:1117: RuntimeWarning: Mean of empty slice\n",
      "  return np.nanmean(a, axis, out=out, keepdims=keepdims)\n",
      "/opt/conda/lib/python3.9/site-packages/numpy/lib/nanfunctions.py:1117: RuntimeWarning: Mean of empty slice\n",
      "  return np.nanmean(a, axis, out=out, keepdims=keepdims)\n",
      "/opt/conda/lib/python3.9/site-packages/numpy/lib/nanfunctions.py:1117: RuntimeWarning: Mean of empty slice\n",
      "  return np.nanmean(a, axis, out=out, keepdims=keepdims)\n",
      "/opt/conda/lib/python3.9/site-packages/numpy/lib/nanfunctions.py:1117: RuntimeWarning: Mean of empty slice\n",
      "  return np.nanmean(a, axis, out=out, keepdims=keepdims)\n",
      "/opt/conda/lib/python3.9/site-packages/numpy/lib/nanfunctions.py:1117: RuntimeWarning: Mean of empty slice\n",
      "  return np.nanmean(a, axis, out=out, keepdims=keepdims)\n",
      "/opt/conda/lib/python3.9/site-packages/numpy/lib/nanfunctions.py:1117: RuntimeWarning: Mean of empty slice\n",
      "  return np.nanmean(a, axis, out=out, keepdims=keepdims)\n",
      "/opt/conda/lib/python3.9/site-packages/numpy/lib/nanfunctions.py:1117: RuntimeWarning: Mean of empty slice\n",
      "  return np.nanmean(a, axis, out=out, keepdims=keepdims)\n",
      "/opt/conda/lib/python3.9/site-packages/numpy/lib/nanfunctions.py:1117: RuntimeWarning: Mean of empty slice\n",
      "  return np.nanmean(a, axis, out=out, keepdims=keepdims)\n",
      "/opt/conda/lib/python3.9/site-packages/numpy/lib/nanfunctions.py:1117: RuntimeWarning: Mean of empty slice\n",
      "  return np.nanmean(a, axis, out=out, keepdims=keepdims)\n",
      "/opt/conda/lib/python3.9/site-packages/numpy/lib/nanfunctions.py:1117: RuntimeWarning: Mean of empty slice\n",
      "  return np.nanmean(a, axis, out=out, keepdims=keepdims)\n",
      "/opt/conda/lib/python3.9/site-packages/numpy/lib/nanfunctions.py:1117: RuntimeWarning: Mean of empty slice\n",
      "  return np.nanmean(a, axis, out=out, keepdims=keepdims)\n",
      "/opt/conda/lib/python3.9/site-packages/numpy/lib/nanfunctions.py:1117: RuntimeWarning: Mean of empty slice\n",
      "  return np.nanmean(a, axis, out=out, keepdims=keepdims)\n",
      "/opt/conda/lib/python3.9/site-packages/numpy/lib/nanfunctions.py:1117: RuntimeWarning: Mean of empty slice\n",
      "  return np.nanmean(a, axis, out=out, keepdims=keepdims)\n",
      "/opt/conda/lib/python3.9/site-packages/numpy/lib/nanfunctions.py:1117: RuntimeWarning: Mean of empty slice\n",
      "  return np.nanmean(a, axis, out=out, keepdims=keepdims)\n",
      "/opt/conda/lib/python3.9/site-packages/numpy/lib/nanfunctions.py:1117: RuntimeWarning: Mean of empty slice\n",
      "  return np.nanmean(a, axis, out=out, keepdims=keepdims)\n",
      "/opt/conda/lib/python3.9/site-packages/numpy/lib/nanfunctions.py:1117: RuntimeWarning: Mean of empty slice\n",
      "  return np.nanmean(a, axis, out=out, keepdims=keepdims)\n",
      "/opt/conda/lib/python3.9/site-packages/numpy/lib/nanfunctions.py:1117: RuntimeWarning: Mean of empty slice\n",
      "  return np.nanmean(a, axis, out=out, keepdims=keepdims)\n",
      "/opt/conda/lib/python3.9/site-packages/numpy/lib/nanfunctions.py:1117: RuntimeWarning: Mean of empty slice\n",
      "  return np.nanmean(a, axis, out=out, keepdims=keepdims)\n",
      "/opt/conda/lib/python3.9/site-packages/numpy/lib/nanfunctions.py:1117: RuntimeWarning: Mean of empty slice\n",
      "  return np.nanmean(a, axis, out=out, keepdims=keepdims)\n",
      "/opt/conda/lib/python3.9/site-packages/numpy/lib/nanfunctions.py:1117: RuntimeWarning: Mean of empty slice\n",
      "  return np.nanmean(a, axis, out=out, keepdims=keepdims)\n",
      "/opt/conda/lib/python3.9/site-packages/numpy/lib/nanfunctions.py:1117: RuntimeWarning: Mean of empty slice\n",
      "  return np.nanmean(a, axis, out=out, keepdims=keepdims)\n",
      "/opt/conda/lib/python3.9/site-packages/numpy/lib/nanfunctions.py:1117: RuntimeWarning: Mean of empty slice\n",
      "  return np.nanmean(a, axis, out=out, keepdims=keepdims)\n",
      "/opt/conda/lib/python3.9/site-packages/numpy/lib/nanfunctions.py:1117: RuntimeWarning: Mean of empty slice\n",
      "  return np.nanmean(a, axis, out=out, keepdims=keepdims)\n",
      "/opt/conda/lib/python3.9/site-packages/numpy/lib/nanfunctions.py:1117: RuntimeWarning: Mean of empty slice\n",
      "  return np.nanmean(a, axis, out=out, keepdims=keepdims)\n",
      "/opt/conda/lib/python3.9/site-packages/numpy/lib/nanfunctions.py:1117: RuntimeWarning: Mean of empty slice\n",
      "  return np.nanmean(a, axis, out=out, keepdims=keepdims)\n",
      "/opt/conda/lib/python3.9/site-packages/numpy/lib/nanfunctions.py:1117: RuntimeWarning: Mean of empty slice\n",
      "  return np.nanmean(a, axis, out=out, keepdims=keepdims)\n",
      "/opt/conda/lib/python3.9/site-packages/numpy/lib/nanfunctions.py:1117: RuntimeWarning: Mean of empty slice\n",
      "  return np.nanmean(a, axis, out=out, keepdims=keepdims)\n",
      "/opt/conda/lib/python3.9/site-packages/numpy/lib/nanfunctions.py:1117: RuntimeWarning: Mean of empty slice\n",
      "  return np.nanmean(a, axis, out=out, keepdims=keepdims)\n",
      "/opt/conda/lib/python3.9/site-packages/numpy/lib/nanfunctions.py:1117: RuntimeWarning: Mean of empty slice\n",
      "  return np.nanmean(a, axis, out=out, keepdims=keepdims)\n",
      "/opt/conda/lib/python3.9/site-packages/numpy/lib/nanfunctions.py:1117: RuntimeWarning: Mean of empty slice\n",
      "  return np.nanmean(a, axis, out=out, keepdims=keepdims)\n",
      "/opt/conda/lib/python3.9/site-packages/numpy/lib/nanfunctions.py:1117: RuntimeWarning: Mean of empty slice\n",
      "  return np.nanmean(a, axis, out=out, keepdims=keepdims)\n",
      "/opt/conda/lib/python3.9/site-packages/numpy/lib/nanfunctions.py:1117: RuntimeWarning: Mean of empty slice\n",
      "  return np.nanmean(a, axis, out=out, keepdims=keepdims)\n",
      "/opt/conda/lib/python3.9/site-packages/numpy/lib/nanfunctions.py:1117: RuntimeWarning: Mean of empty slice\n",
      "  return np.nanmean(a, axis, out=out, keepdims=keepdims)\n",
      "/opt/conda/lib/python3.9/site-packages/numpy/lib/nanfunctions.py:1117: RuntimeWarning: Mean of empty slice\n",
      "  return np.nanmean(a, axis, out=out, keepdims=keepdims)\n",
      "/opt/conda/lib/python3.9/site-packages/numpy/lib/nanfunctions.py:1117: RuntimeWarning: Mean of empty slice\n",
      "  return np.nanmean(a, axis, out=out, keepdims=keepdims)\n",
      "/opt/conda/lib/python3.9/site-packages/numpy/lib/nanfunctions.py:1117: RuntimeWarning: Mean of empty slice\n",
      "  return np.nanmean(a, axis, out=out, keepdims=keepdims)\n",
      "/opt/conda/lib/python3.9/site-packages/numpy/lib/nanfunctions.py:1117: RuntimeWarning: Mean of empty slice\n",
      "  return np.nanmean(a, axis, out=out, keepdims=keepdims)\n",
      "/opt/conda/lib/python3.9/site-packages/numpy/lib/nanfunctions.py:1117: RuntimeWarning: Mean of empty slice\n",
      "  return np.nanmean(a, axis, out=out, keepdims=keepdims)\n",
      "/opt/conda/lib/python3.9/site-packages/numpy/lib/nanfunctions.py:1117: RuntimeWarning: Mean of empty slice\n",
      "  return np.nanmean(a, axis, out=out, keepdims=keepdims)\n",
      "/opt/conda/lib/python3.9/site-packages/numpy/lib/nanfunctions.py:1117: RuntimeWarning: Mean of empty slice\n",
      "  return np.nanmean(a, axis, out=out, keepdims=keepdims)\n",
      "/opt/conda/lib/python3.9/site-packages/numpy/lib/nanfunctions.py:1117: RuntimeWarning: Mean of empty slice\n",
      "  return np.nanmean(a, axis, out=out, keepdims=keepdims)\n",
      "/opt/conda/lib/python3.9/site-packages/numpy/lib/nanfunctions.py:1117: RuntimeWarning: Mean of empty slice\n",
      "  return np.nanmean(a, axis, out=out, keepdims=keepdims)\n",
      "/opt/conda/lib/python3.9/site-packages/numpy/lib/nanfunctions.py:1117: RuntimeWarning: Mean of empty slice\n",
      "  return np.nanmean(a, axis, out=out, keepdims=keepdims)\n",
      "/opt/conda/lib/python3.9/site-packages/numpy/lib/nanfunctions.py:1117: RuntimeWarning: Mean of empty slice\n",
      "  return np.nanmean(a, axis, out=out, keepdims=keepdims)\n",
      "/opt/conda/lib/python3.9/site-packages/numpy/lib/nanfunctions.py:1117: RuntimeWarning: Mean of empty slice\n",
      "  return np.nanmean(a, axis, out=out, keepdims=keepdims)\n",
      "/opt/conda/lib/python3.9/site-packages/numpy/lib/nanfunctions.py:1117: RuntimeWarning: Mean of empty slice\n",
      "  return np.nanmean(a, axis, out=out, keepdims=keepdims)\n",
      "/opt/conda/lib/python3.9/site-packages/numpy/lib/nanfunctions.py:1117: RuntimeWarning: Mean of empty slice\n",
      "  return np.nanmean(a, axis, out=out, keepdims=keepdims)\n",
      "/opt/conda/lib/python3.9/site-packages/numpy/lib/nanfunctions.py:1117: RuntimeWarning: Mean of empty slice\n",
      "  return np.nanmean(a, axis, out=out, keepdims=keepdims)\n",
      "/opt/conda/lib/python3.9/site-packages/numpy/lib/nanfunctions.py:1117: RuntimeWarning: Mean of empty slice\n",
      "  return np.nanmean(a, axis, out=out, keepdims=keepdims)\n",
      "/opt/conda/lib/python3.9/site-packages/numpy/lib/nanfunctions.py:1117: RuntimeWarning: Mean of empty slice\n",
      "  return np.nanmean(a, axis, out=out, keepdims=keepdims)\n",
      "/opt/conda/lib/python3.9/site-packages/numpy/lib/nanfunctions.py:1117: RuntimeWarning: Mean of empty slice\n",
      "  return np.nanmean(a, axis, out=out, keepdims=keepdims)\n",
      "/opt/conda/lib/python3.9/site-packages/numpy/lib/nanfunctions.py:1117: RuntimeWarning: Mean of empty slice\n",
      "  return np.nanmean(a, axis, out=out, keepdims=keepdims)\n",
      "/opt/conda/lib/python3.9/site-packages/numpy/lib/nanfunctions.py:1117: RuntimeWarning: Mean of empty slice\n",
      "  return np.nanmean(a, axis, out=out, keepdims=keepdims)\n",
      "/opt/conda/lib/python3.9/site-packages/numpy/lib/nanfunctions.py:1117: RuntimeWarning: Mean of empty slice\n",
      "  return np.nanmean(a, axis, out=out, keepdims=keepdims)\n",
      "/opt/conda/lib/python3.9/site-packages/numpy/lib/nanfunctions.py:1117: RuntimeWarning: Mean of empty slice\n",
      "  return np.nanmean(a, axis, out=out, keepdims=keepdims)\n",
      "/opt/conda/lib/python3.9/site-packages/numpy/lib/nanfunctions.py:1117: RuntimeWarning: Mean of empty slice\n",
      "  return np.nanmean(a, axis, out=out, keepdims=keepdims)\n",
      "/opt/conda/lib/python3.9/site-packages/numpy/lib/nanfunctions.py:1117: RuntimeWarning: Mean of empty slice\n",
      "  return np.nanmean(a, axis, out=out, keepdims=keepdims)\n",
      "/opt/conda/lib/python3.9/site-packages/numpy/lib/nanfunctions.py:1117: RuntimeWarning: Mean of empty slice\n",
      "  return np.nanmean(a, axis, out=out, keepdims=keepdims)\n",
      "/opt/conda/lib/python3.9/site-packages/numpy/lib/nanfunctions.py:1117: RuntimeWarning: Mean of empty slice\n",
      "  return np.nanmean(a, axis, out=out, keepdims=keepdims)\n",
      "/opt/conda/lib/python3.9/site-packages/numpy/lib/nanfunctions.py:1117: RuntimeWarning: Mean of empty slice\n",
      "  return np.nanmean(a, axis, out=out, keepdims=keepdims)\n",
      "/opt/conda/lib/python3.9/site-packages/numpy/lib/nanfunctions.py:1117: RuntimeWarning: Mean of empty slice\n",
      "  return np.nanmean(a, axis, out=out, keepdims=keepdims)\n",
      "/opt/conda/lib/python3.9/site-packages/numpy/lib/nanfunctions.py:1117: RuntimeWarning: Mean of empty slice\n",
      "  return np.nanmean(a, axis, out=out, keepdims=keepdims)\n",
      "/opt/conda/lib/python3.9/site-packages/numpy/lib/nanfunctions.py:1117: RuntimeWarning: Mean of empty slice\n",
      "  return np.nanmean(a, axis, out=out, keepdims=keepdims)\n",
      "/opt/conda/lib/python3.9/site-packages/numpy/lib/nanfunctions.py:1117: RuntimeWarning: Mean of empty slice\n",
      "  return np.nanmean(a, axis, out=out, keepdims=keepdims)\n",
      "/opt/conda/lib/python3.9/site-packages/numpy/lib/nanfunctions.py:1117: RuntimeWarning: Mean of empty slice\n",
      "  return np.nanmean(a, axis, out=out, keepdims=keepdims)\n",
      "/opt/conda/lib/python3.9/site-packages/numpy/lib/nanfunctions.py:1117: RuntimeWarning: Mean of empty slice\n",
      "  return np.nanmean(a, axis, out=out, keepdims=keepdims)\n",
      "/opt/conda/lib/python3.9/site-packages/numpy/lib/nanfunctions.py:1117: RuntimeWarning: Mean of empty slice\n",
      "  return np.nanmean(a, axis, out=out, keepdims=keepdims)\n",
      "/opt/conda/lib/python3.9/site-packages/numpy/lib/nanfunctions.py:1117: RuntimeWarning: Mean of empty slice\n",
      "  return np.nanmean(a, axis, out=out, keepdims=keepdims)\n",
      "/opt/conda/lib/python3.9/site-packages/numpy/lib/nanfunctions.py:1117: RuntimeWarning: Mean of empty slice\n",
      "  return np.nanmean(a, axis, out=out, keepdims=keepdims)\n",
      "/opt/conda/lib/python3.9/site-packages/numpy/lib/nanfunctions.py:1117: RuntimeWarning: Mean of empty slice\n",
      "  return np.nanmean(a, axis, out=out, keepdims=keepdims)\n",
      "/opt/conda/lib/python3.9/site-packages/numpy/lib/nanfunctions.py:1117: RuntimeWarning: Mean of empty slice\n",
      "  return np.nanmean(a, axis, out=out, keepdims=keepdims)\n",
      "/opt/conda/lib/python3.9/site-packages/numpy/lib/nanfunctions.py:1117: RuntimeWarning: Mean of empty slice\n",
      "  return np.nanmean(a, axis, out=out, keepdims=keepdims)\n",
      "/opt/conda/lib/python3.9/site-packages/numpy/lib/nanfunctions.py:1117: RuntimeWarning: Mean of empty slice\n",
      "  return np.nanmean(a, axis, out=out, keepdims=keepdims)\n",
      "/opt/conda/lib/python3.9/site-packages/numpy/lib/nanfunctions.py:1117: RuntimeWarning: Mean of empty slice\n",
      "  return np.nanmean(a, axis, out=out, keepdims=keepdims)\n",
      "/opt/conda/lib/python3.9/site-packages/numpy/lib/nanfunctions.py:1117: RuntimeWarning: Mean of empty slice\n",
      "  return np.nanmean(a, axis, out=out, keepdims=keepdims)\n",
      "/opt/conda/lib/python3.9/site-packages/numpy/lib/nanfunctions.py:1117: RuntimeWarning: Mean of empty slice\n",
      "  return np.nanmean(a, axis, out=out, keepdims=keepdims)\n",
      "/opt/conda/lib/python3.9/site-packages/numpy/lib/nanfunctions.py:1117: RuntimeWarning: Mean of empty slice\n",
      "  return np.nanmean(a, axis, out=out, keepdims=keepdims)\n",
      "/opt/conda/lib/python3.9/site-packages/numpy/lib/nanfunctions.py:1117: RuntimeWarning: Mean of empty slice\n",
      "  return np.nanmean(a, axis, out=out, keepdims=keepdims)\n",
      "/opt/conda/lib/python3.9/site-packages/numpy/lib/nanfunctions.py:1117: RuntimeWarning: Mean of empty slice\n",
      "  return np.nanmean(a, axis, out=out, keepdims=keepdims)\n",
      "/opt/conda/lib/python3.9/site-packages/numpy/lib/nanfunctions.py:1117: RuntimeWarning: Mean of empty slice\n",
      "  return np.nanmean(a, axis, out=out, keepdims=keepdims)\n",
      "/opt/conda/lib/python3.9/site-packages/numpy/lib/nanfunctions.py:1117: RuntimeWarning: Mean of empty slice\n",
      "  return np.nanmean(a, axis, out=out, keepdims=keepdims)\n",
      "/opt/conda/lib/python3.9/site-packages/numpy/lib/nanfunctions.py:1117: RuntimeWarning: Mean of empty slice\n",
      "  return np.nanmean(a, axis, out=out, keepdims=keepdims)\n",
      "/opt/conda/lib/python3.9/site-packages/numpy/lib/nanfunctions.py:1117: RuntimeWarning: Mean of empty slice\n",
      "  return np.nanmean(a, axis, out=out, keepdims=keepdims)\n",
      "/opt/conda/lib/python3.9/site-packages/numpy/lib/nanfunctions.py:1117: RuntimeWarning: Mean of empty slice\n",
      "  return np.nanmean(a, axis, out=out, keepdims=keepdims)\n",
      "/opt/conda/lib/python3.9/site-packages/numpy/lib/nanfunctions.py:1117: RuntimeWarning: Mean of empty slice\n",
      "  return np.nanmean(a, axis, out=out, keepdims=keepdims)\n",
      "/opt/conda/lib/python3.9/site-packages/numpy/lib/nanfunctions.py:1117: RuntimeWarning: Mean of empty slice\n",
      "  return np.nanmean(a, axis, out=out, keepdims=keepdims)\n",
      "/opt/conda/lib/python3.9/site-packages/numpy/lib/nanfunctions.py:1117: RuntimeWarning: Mean of empty slice\n",
      "  return np.nanmean(a, axis, out=out, keepdims=keepdims)\n",
      "/opt/conda/lib/python3.9/site-packages/numpy/lib/nanfunctions.py:1117: RuntimeWarning: Mean of empty slice\n",
      "  return np.nanmean(a, axis, out=out, keepdims=keepdims)\n",
      "/opt/conda/lib/python3.9/site-packages/numpy/lib/nanfunctions.py:1117: RuntimeWarning: Mean of empty slice\n",
      "  return np.nanmean(a, axis, out=out, keepdims=keepdims)\n",
      "/opt/conda/lib/python3.9/site-packages/numpy/lib/nanfunctions.py:1117: RuntimeWarning: Mean of empty slice\n",
      "  return np.nanmean(a, axis, out=out, keepdims=keepdims)\n",
      "/opt/conda/lib/python3.9/site-packages/numpy/lib/nanfunctions.py:1117: RuntimeWarning: Mean of empty slice\n",
      "  return np.nanmean(a, axis, out=out, keepdims=keepdims)\n",
      "/opt/conda/lib/python3.9/site-packages/numpy/lib/nanfunctions.py:1117: RuntimeWarning: Mean of empty slice\n",
      "  return np.nanmean(a, axis, out=out, keepdims=keepdims)\n",
      "/opt/conda/lib/python3.9/site-packages/numpy/lib/nanfunctions.py:1117: RuntimeWarning: Mean of empty slice\n",
      "  return np.nanmean(a, axis, out=out, keepdims=keepdims)\n",
      "/opt/conda/lib/python3.9/site-packages/numpy/lib/nanfunctions.py:1117: RuntimeWarning: Mean of empty slice\n",
      "  return np.nanmean(a, axis, out=out, keepdims=keepdims)\n",
      "/opt/conda/lib/python3.9/site-packages/numpy/lib/nanfunctions.py:1117: RuntimeWarning: Mean of empty slice\n",
      "  return np.nanmean(a, axis, out=out, keepdims=keepdims)\n",
      "/opt/conda/lib/python3.9/site-packages/numpy/lib/nanfunctions.py:1117: RuntimeWarning: Mean of empty slice\n",
      "  return np.nanmean(a, axis, out=out, keepdims=keepdims)\n",
      "/opt/conda/lib/python3.9/site-packages/numpy/lib/nanfunctions.py:1117: RuntimeWarning: Mean of empty slice\n",
      "  return np.nanmean(a, axis, out=out, keepdims=keepdims)\n",
      "/opt/conda/lib/python3.9/site-packages/numpy/lib/nanfunctions.py:1117: RuntimeWarning: Mean of empty slice\n",
      "  return np.nanmean(a, axis, out=out, keepdims=keepdims)\n",
      "/opt/conda/lib/python3.9/site-packages/numpy/lib/nanfunctions.py:1117: RuntimeWarning: Mean of empty slice\n",
      "  return np.nanmean(a, axis, out=out, keepdims=keepdims)\n",
      "/opt/conda/lib/python3.9/site-packages/numpy/lib/nanfunctions.py:1117: RuntimeWarning: Mean of empty slice\n",
      "  return np.nanmean(a, axis, out=out, keepdims=keepdims)\n",
      "/opt/conda/lib/python3.9/site-packages/numpy/lib/nanfunctions.py:1117: RuntimeWarning: Mean of empty slice\n",
      "  return np.nanmean(a, axis, out=out, keepdims=keepdims)\n",
      "/opt/conda/lib/python3.9/site-packages/numpy/lib/nanfunctions.py:1117: RuntimeWarning: Mean of empty slice\n",
      "  return np.nanmean(a, axis, out=out, keepdims=keepdims)\n",
      "/opt/conda/lib/python3.9/site-packages/numpy/lib/nanfunctions.py:1117: RuntimeWarning: Mean of empty slice\n",
      "  return np.nanmean(a, axis, out=out, keepdims=keepdims)\n",
      "/opt/conda/lib/python3.9/site-packages/numpy/lib/nanfunctions.py:1117: RuntimeWarning: Mean of empty slice\n",
      "  return np.nanmean(a, axis, out=out, keepdims=keepdims)\n",
      "/opt/conda/lib/python3.9/site-packages/numpy/lib/nanfunctions.py:1117: RuntimeWarning: Mean of empty slice\n",
      "  return np.nanmean(a, axis, out=out, keepdims=keepdims)\n",
      "/opt/conda/lib/python3.9/site-packages/numpy/lib/nanfunctions.py:1117: RuntimeWarning: Mean of empty slice\n",
      "  return np.nanmean(a, axis, out=out, keepdims=keepdims)\n",
      "/opt/conda/lib/python3.9/site-packages/numpy/lib/nanfunctions.py:1117: RuntimeWarning: Mean of empty slice\n",
      "  return np.nanmean(a, axis, out=out, keepdims=keepdims)\n",
      "/opt/conda/lib/python3.9/site-packages/numpy/lib/nanfunctions.py:1117: RuntimeWarning: Mean of empty slice\n",
      "  return np.nanmean(a, axis, out=out, keepdims=keepdims)\n",
      "/opt/conda/lib/python3.9/site-packages/numpy/lib/nanfunctions.py:1117: RuntimeWarning: Mean of empty slice\n",
      "  return np.nanmean(a, axis, out=out, keepdims=keepdims)\n",
      "/opt/conda/lib/python3.9/site-packages/numpy/lib/nanfunctions.py:1117: RuntimeWarning: Mean of empty slice\n",
      "  return np.nanmean(a, axis, out=out, keepdims=keepdims)\n",
      "/opt/conda/lib/python3.9/site-packages/numpy/lib/nanfunctions.py:1117: RuntimeWarning: Mean of empty slice\n",
      "  return np.nanmean(a, axis, out=out, keepdims=keepdims)\n",
      "/opt/conda/lib/python3.9/site-packages/numpy/lib/nanfunctions.py:1117: RuntimeWarning: Mean of empty slice\n",
      "  return np.nanmean(a, axis, out=out, keepdims=keepdims)\n",
      "/opt/conda/lib/python3.9/site-packages/numpy/lib/nanfunctions.py:1117: RuntimeWarning: Mean of empty slice\n",
      "  return np.nanmean(a, axis, out=out, keepdims=keepdims)\n",
      "/opt/conda/lib/python3.9/site-packages/numpy/lib/nanfunctions.py:1117: RuntimeWarning: Mean of empty slice\n",
      "  return np.nanmean(a, axis, out=out, keepdims=keepdims)\n",
      "/opt/conda/lib/python3.9/site-packages/numpy/lib/nanfunctions.py:1117: RuntimeWarning: Mean of empty slice\n",
      "  return np.nanmean(a, axis, out=out, keepdims=keepdims)\n",
      "/opt/conda/lib/python3.9/site-packages/numpy/lib/nanfunctions.py:1117: RuntimeWarning: Mean of empty slice\n",
      "  return np.nanmean(a, axis, out=out, keepdims=keepdims)\n",
      "/opt/conda/lib/python3.9/site-packages/numpy/lib/nanfunctions.py:1117: RuntimeWarning: Mean of empty slice\n",
      "  return np.nanmean(a, axis, out=out, keepdims=keepdims)\n",
      "/opt/conda/lib/python3.9/site-packages/numpy/lib/nanfunctions.py:1117: RuntimeWarning: Mean of empty slice\n",
      "  return np.nanmean(a, axis, out=out, keepdims=keepdims)\n",
      "/opt/conda/lib/python3.9/site-packages/numpy/lib/nanfunctions.py:1117: RuntimeWarning: Mean of empty slice\n",
      "  return np.nanmean(a, axis, out=out, keepdims=keepdims)\n",
      "/opt/conda/lib/python3.9/site-packages/numpy/lib/nanfunctions.py:1117: RuntimeWarning: Mean of empty slice\n",
      "  return np.nanmean(a, axis, out=out, keepdims=keepdims)\n",
      "/opt/conda/lib/python3.9/site-packages/numpy/lib/nanfunctions.py:1117: RuntimeWarning: Mean of empty slice\n",
      "  return np.nanmean(a, axis, out=out, keepdims=keepdims)\n",
      "/opt/conda/lib/python3.9/site-packages/numpy/lib/nanfunctions.py:1117: RuntimeWarning: Mean of empty slice\n",
      "  return np.nanmean(a, axis, out=out, keepdims=keepdims)\n",
      "/opt/conda/lib/python3.9/site-packages/numpy/lib/nanfunctions.py:1117: RuntimeWarning: Mean of empty slice\n",
      "  return np.nanmean(a, axis, out=out, keepdims=keepdims)\n",
      "/opt/conda/lib/python3.9/site-packages/numpy/lib/nanfunctions.py:1117: RuntimeWarning: Mean of empty slice\n",
      "  return np.nanmean(a, axis, out=out, keepdims=keepdims)\n",
      "/opt/conda/lib/python3.9/site-packages/numpy/lib/nanfunctions.py:1117: RuntimeWarning: Mean of empty slice\n",
      "  return np.nanmean(a, axis, out=out, keepdims=keepdims)\n",
      "/opt/conda/lib/python3.9/site-packages/numpy/lib/nanfunctions.py:1117: RuntimeWarning: Mean of empty slice\n",
      "  return np.nanmean(a, axis, out=out, keepdims=keepdims)\n",
      "/opt/conda/lib/python3.9/site-packages/numpy/lib/nanfunctions.py:1117: RuntimeWarning: Mean of empty slice\n",
      "  return np.nanmean(a, axis, out=out, keepdims=keepdims)\n",
      "/opt/conda/lib/python3.9/site-packages/numpy/lib/nanfunctions.py:1117: RuntimeWarning: Mean of empty slice\n",
      "  return np.nanmean(a, axis, out=out, keepdims=keepdims)\n",
      "/opt/conda/lib/python3.9/site-packages/numpy/lib/nanfunctions.py:1117: RuntimeWarning: Mean of empty slice\n",
      "  return np.nanmean(a, axis, out=out, keepdims=keepdims)\n",
      "/opt/conda/lib/python3.9/site-packages/numpy/lib/nanfunctions.py:1117: RuntimeWarning: Mean of empty slice\n",
      "  return np.nanmean(a, axis, out=out, keepdims=keepdims)\n",
      "/opt/conda/lib/python3.9/site-packages/numpy/lib/nanfunctions.py:1117: RuntimeWarning: Mean of empty slice\n",
      "  return np.nanmean(a, axis, out=out, keepdims=keepdims)\n",
      "/opt/conda/lib/python3.9/site-packages/numpy/lib/nanfunctions.py:1117: RuntimeWarning: Mean of empty slice\n",
      "  return np.nanmean(a, axis, out=out, keepdims=keepdims)\n",
      "/opt/conda/lib/python3.9/site-packages/numpy/lib/nanfunctions.py:1117: RuntimeWarning: Mean of empty slice\n",
      "  return np.nanmean(a, axis, out=out, keepdims=keepdims)\n",
      "/opt/conda/lib/python3.9/site-packages/numpy/lib/nanfunctions.py:1117: RuntimeWarning: Mean of empty slice\n",
      "  return np.nanmean(a, axis, out=out, keepdims=keepdims)\n",
      "/opt/conda/lib/python3.9/site-packages/numpy/lib/nanfunctions.py:1117: RuntimeWarning: Mean of empty slice\n",
      "  return np.nanmean(a, axis, out=out, keepdims=keepdims)\n",
      "/opt/conda/lib/python3.9/site-packages/numpy/lib/nanfunctions.py:1117: RuntimeWarning: Mean of empty slice\n",
      "  return np.nanmean(a, axis, out=out, keepdims=keepdims)\n",
      "/opt/conda/lib/python3.9/site-packages/numpy/lib/nanfunctions.py:1117: RuntimeWarning: Mean of empty slice\n",
      "  return np.nanmean(a, axis, out=out, keepdims=keepdims)\n",
      "/opt/conda/lib/python3.9/site-packages/numpy/lib/nanfunctions.py:1117: RuntimeWarning: Mean of empty slice\n",
      "  return np.nanmean(a, axis, out=out, keepdims=keepdims)\n",
      "/opt/conda/lib/python3.9/site-packages/numpy/lib/nanfunctions.py:1117: RuntimeWarning: Mean of empty slice\n",
      "  return np.nanmean(a, axis, out=out, keepdims=keepdims)\n",
      "/opt/conda/lib/python3.9/site-packages/numpy/lib/nanfunctions.py:1117: RuntimeWarning: Mean of empty slice\n",
      "  return np.nanmean(a, axis, out=out, keepdims=keepdims)\n",
      "/opt/conda/lib/python3.9/site-packages/numpy/lib/nanfunctions.py:1117: RuntimeWarning: Mean of empty slice\n",
      "  return np.nanmean(a, axis, out=out, keepdims=keepdims)\n",
      "/opt/conda/lib/python3.9/site-packages/numpy/lib/nanfunctions.py:1117: RuntimeWarning: Mean of empty slice\n",
      "  return np.nanmean(a, axis, out=out, keepdims=keepdims)\n",
      "/opt/conda/lib/python3.9/site-packages/numpy/lib/nanfunctions.py:1117: RuntimeWarning: Mean of empty slice\n",
      "  return np.nanmean(a, axis, out=out, keepdims=keepdims)\n",
      "/opt/conda/lib/python3.9/site-packages/numpy/lib/nanfunctions.py:1117: RuntimeWarning: Mean of empty slice\n",
      "  return np.nanmean(a, axis, out=out, keepdims=keepdims)\n",
      "/opt/conda/lib/python3.9/site-packages/numpy/lib/nanfunctions.py:1117: RuntimeWarning: Mean of empty slice\n",
      "  return np.nanmean(a, axis, out=out, keepdims=keepdims)\n",
      "/opt/conda/lib/python3.9/site-packages/numpy/lib/nanfunctions.py:1117: RuntimeWarning: Mean of empty slice\n",
      "  return np.nanmean(a, axis, out=out, keepdims=keepdims)\n",
      "/opt/conda/lib/python3.9/site-packages/numpy/lib/nanfunctions.py:1117: RuntimeWarning: Mean of empty slice\n",
      "  return np.nanmean(a, axis, out=out, keepdims=keepdims)\n",
      "/opt/conda/lib/python3.9/site-packages/numpy/lib/nanfunctions.py:1117: RuntimeWarning: Mean of empty slice\n",
      "  return np.nanmean(a, axis, out=out, keepdims=keepdims)\n",
      "/opt/conda/lib/python3.9/site-packages/numpy/lib/nanfunctions.py:1117: RuntimeWarning: Mean of empty slice\n",
      "  return np.nanmean(a, axis, out=out, keepdims=keepdims)\n",
      "/opt/conda/lib/python3.9/site-packages/numpy/lib/nanfunctions.py:1117: RuntimeWarning: Mean of empty slice\n",
      "  return np.nanmean(a, axis, out=out, keepdims=keepdims)\n",
      "/opt/conda/lib/python3.9/site-packages/numpy/lib/nanfunctions.py:1117: RuntimeWarning: Mean of empty slice\n",
      "  return np.nanmean(a, axis, out=out, keepdims=keepdims)\n",
      "/opt/conda/lib/python3.9/site-packages/numpy/lib/nanfunctions.py:1117: RuntimeWarning: Mean of empty slice\n",
      "  return np.nanmean(a, axis, out=out, keepdims=keepdims)\n",
      "/opt/conda/lib/python3.9/site-packages/numpy/lib/nanfunctions.py:1117: RuntimeWarning: Mean of empty slice\n",
      "  return np.nanmean(a, axis, out=out, keepdims=keepdims)\n",
      "/opt/conda/lib/python3.9/site-packages/numpy/lib/nanfunctions.py:1117: RuntimeWarning: Mean of empty slice\n",
      "  return np.nanmean(a, axis, out=out, keepdims=keepdims)\n",
      "/opt/conda/lib/python3.9/site-packages/numpy/lib/nanfunctions.py:1117: RuntimeWarning: Mean of empty slice\n",
      "  return np.nanmean(a, axis, out=out, keepdims=keepdims)\n",
      "/opt/conda/lib/python3.9/site-packages/numpy/lib/nanfunctions.py:1117: RuntimeWarning: Mean of empty slice\n",
      "  return np.nanmean(a, axis, out=out, keepdims=keepdims)\n",
      "/opt/conda/lib/python3.9/site-packages/numpy/lib/nanfunctions.py:1117: RuntimeWarning: Mean of empty slice\n",
      "  return np.nanmean(a, axis, out=out, keepdims=keepdims)\n",
      "/opt/conda/lib/python3.9/site-packages/numpy/lib/nanfunctions.py:1117: RuntimeWarning: Mean of empty slice\n",
      "  return np.nanmean(a, axis, out=out, keepdims=keepdims)\n",
      "/opt/conda/lib/python3.9/site-packages/numpy/lib/nanfunctions.py:1117: RuntimeWarning: Mean of empty slice\n",
      "  return np.nanmean(a, axis, out=out, keepdims=keepdims)\n",
      "/opt/conda/lib/python3.9/site-packages/numpy/lib/nanfunctions.py:1117: RuntimeWarning: Mean of empty slice\n",
      "  return np.nanmean(a, axis, out=out, keepdims=keepdims)\n",
      "/opt/conda/lib/python3.9/site-packages/numpy/lib/nanfunctions.py:1117: RuntimeWarning: Mean of empty slice\n",
      "  return np.nanmean(a, axis, out=out, keepdims=keepdims)\n",
      "/opt/conda/lib/python3.9/site-packages/numpy/lib/nanfunctions.py:1117: RuntimeWarning: Mean of empty slice\n",
      "  return np.nanmean(a, axis, out=out, keepdims=keepdims)\n",
      "/opt/conda/lib/python3.9/site-packages/numpy/lib/nanfunctions.py:1117: RuntimeWarning: Mean of empty slice\n",
      "  return np.nanmean(a, axis, out=out, keepdims=keepdims)\n",
      "/opt/conda/lib/python3.9/site-packages/numpy/lib/nanfunctions.py:1117: RuntimeWarning: Mean of empty slice\n",
      "  return np.nanmean(a, axis, out=out, keepdims=keepdims)\n",
      "/opt/conda/lib/python3.9/site-packages/numpy/lib/nanfunctions.py:1117: RuntimeWarning: Mean of empty slice\n",
      "  return np.nanmean(a, axis, out=out, keepdims=keepdims)\n",
      "/opt/conda/lib/python3.9/site-packages/numpy/lib/nanfunctions.py:1117: RuntimeWarning: Mean of empty slice\n",
      "  return np.nanmean(a, axis, out=out, keepdims=keepdims)\n",
      "/opt/conda/lib/python3.9/site-packages/numpy/lib/nanfunctions.py:1117: RuntimeWarning: Mean of empty slice\n",
      "  return np.nanmean(a, axis, out=out, keepdims=keepdims)\n",
      "/opt/conda/lib/python3.9/site-packages/numpy/lib/nanfunctions.py:1117: RuntimeWarning: Mean of empty slice\n",
      "  return np.nanmean(a, axis, out=out, keepdims=keepdims)\n",
      "/opt/conda/lib/python3.9/site-packages/numpy/lib/nanfunctions.py:1117: RuntimeWarning: Mean of empty slice\n",
      "  return np.nanmean(a, axis, out=out, keepdims=keepdims)\n",
      "/opt/conda/lib/python3.9/site-packages/numpy/lib/nanfunctions.py:1117: RuntimeWarning: Mean of empty slice\n",
      "  return np.nanmean(a, axis, out=out, keepdims=keepdims)\n",
      "/opt/conda/lib/python3.9/site-packages/numpy/lib/nanfunctions.py:1117: RuntimeWarning: Mean of empty slice\n",
      "  return np.nanmean(a, axis, out=out, keepdims=keepdims)\n",
      "/opt/conda/lib/python3.9/site-packages/numpy/lib/nanfunctions.py:1117: RuntimeWarning: Mean of empty slice\n",
      "  return np.nanmean(a, axis, out=out, keepdims=keepdims)\n",
      "/opt/conda/lib/python3.9/site-packages/numpy/lib/nanfunctions.py:1117: RuntimeWarning: Mean of empty slice\n",
      "  return np.nanmean(a, axis, out=out, keepdims=keepdims)\n",
      "/opt/conda/lib/python3.9/site-packages/numpy/lib/nanfunctions.py:1117: RuntimeWarning: Mean of empty slice\n",
      "  return np.nanmean(a, axis, out=out, keepdims=keepdims)\n",
      "/opt/conda/lib/python3.9/site-packages/numpy/lib/nanfunctions.py:1117: RuntimeWarning: Mean of empty slice\n",
      "  return np.nanmean(a, axis, out=out, keepdims=keepdims)\n",
      "/opt/conda/lib/python3.9/site-packages/numpy/lib/nanfunctions.py:1117: RuntimeWarning: Mean of empty slice\n",
      "  return np.nanmean(a, axis, out=out, keepdims=keepdims)\n",
      "/opt/conda/lib/python3.9/site-packages/numpy/lib/nanfunctions.py:1117: RuntimeWarning: Mean of empty slice\n",
      "  return np.nanmean(a, axis, out=out, keepdims=keepdims)\n",
      "/opt/conda/lib/python3.9/site-packages/numpy/lib/nanfunctions.py:1117: RuntimeWarning: Mean of empty slice\n",
      "  return np.nanmean(a, axis, out=out, keepdims=keepdims)\n",
      "/opt/conda/lib/python3.9/site-packages/numpy/lib/nanfunctions.py:1117: RuntimeWarning: Mean of empty slice\n",
      "  return np.nanmean(a, axis, out=out, keepdims=keepdims)\n",
      "/opt/conda/lib/python3.9/site-packages/numpy/lib/nanfunctions.py:1117: RuntimeWarning: Mean of empty slice\n",
      "  return np.nanmean(a, axis, out=out, keepdims=keepdims)\n",
      "/opt/conda/lib/python3.9/site-packages/numpy/lib/nanfunctions.py:1117: RuntimeWarning: Mean of empty slice\n",
      "  return np.nanmean(a, axis, out=out, keepdims=keepdims)\n",
      "/opt/conda/lib/python3.9/site-packages/numpy/lib/nanfunctions.py:1117: RuntimeWarning: Mean of empty slice\n",
      "  return np.nanmean(a, axis, out=out, keepdims=keepdims)\n",
      "/opt/conda/lib/python3.9/site-packages/numpy/lib/nanfunctions.py:1117: RuntimeWarning: Mean of empty slice\n",
      "  return np.nanmean(a, axis, out=out, keepdims=keepdims)\n",
      "/opt/conda/lib/python3.9/site-packages/numpy/lib/nanfunctions.py:1117: RuntimeWarning: Mean of empty slice\n",
      "  return np.nanmean(a, axis, out=out, keepdims=keepdims)\n",
      "/opt/conda/lib/python3.9/site-packages/numpy/lib/nanfunctions.py:1117: RuntimeWarning: Mean of empty slice\n",
      "  return np.nanmean(a, axis, out=out, keepdims=keepdims)\n",
      "/opt/conda/lib/python3.9/site-packages/numpy/lib/nanfunctions.py:1117: RuntimeWarning: Mean of empty slice\n",
      "  return np.nanmean(a, axis, out=out, keepdims=keepdims)\n",
      "/opt/conda/lib/python3.9/site-packages/numpy/lib/nanfunctions.py:1117: RuntimeWarning: Mean of empty slice\n",
      "  return np.nanmean(a, axis, out=out, keepdims=keepdims)\n",
      "/opt/conda/lib/python3.9/site-packages/numpy/lib/nanfunctions.py:1117: RuntimeWarning: Mean of empty slice\n",
      "  return np.nanmean(a, axis, out=out, keepdims=keepdims)\n",
      "/opt/conda/lib/python3.9/site-packages/numpy/lib/nanfunctions.py:1117: RuntimeWarning: Mean of empty slice\n",
      "  return np.nanmean(a, axis, out=out, keepdims=keepdims)\n",
      "/opt/conda/lib/python3.9/site-packages/numpy/lib/nanfunctions.py:1117: RuntimeWarning: Mean of empty slice\n",
      "  return np.nanmean(a, axis, out=out, keepdims=keepdims)\n",
      "/opt/conda/lib/python3.9/site-packages/numpy/lib/nanfunctions.py:1117: RuntimeWarning: Mean of empty slice\n",
      "  return np.nanmean(a, axis, out=out, keepdims=keepdims)\n",
      "/opt/conda/lib/python3.9/site-packages/numpy/lib/nanfunctions.py:1117: RuntimeWarning: Mean of empty slice\n",
      "  return np.nanmean(a, axis, out=out, keepdims=keepdims)\n",
      "/opt/conda/lib/python3.9/site-packages/numpy/lib/nanfunctions.py:1117: RuntimeWarning: Mean of empty slice\n",
      "  return np.nanmean(a, axis, out=out, keepdims=keepdims)\n",
      "/opt/conda/lib/python3.9/site-packages/numpy/lib/nanfunctions.py:1117: RuntimeWarning: Mean of empty slice\n",
      "  return np.nanmean(a, axis, out=out, keepdims=keepdims)\n",
      "/opt/conda/lib/python3.9/site-packages/numpy/lib/nanfunctions.py:1117: RuntimeWarning: Mean of empty slice\n",
      "  return np.nanmean(a, axis, out=out, keepdims=keepdims)\n",
      "/opt/conda/lib/python3.9/site-packages/numpy/lib/nanfunctions.py:1117: RuntimeWarning: Mean of empty slice\n",
      "  return np.nanmean(a, axis, out=out, keepdims=keepdims)\n",
      "/opt/conda/lib/python3.9/site-packages/numpy/lib/nanfunctions.py:1117: RuntimeWarning: Mean of empty slice\n",
      "  return np.nanmean(a, axis, out=out, keepdims=keepdims)\n",
      "/opt/conda/lib/python3.9/site-packages/numpy/lib/nanfunctions.py:1117: RuntimeWarning: Mean of empty slice\n",
      "  return np.nanmean(a, axis, out=out, keepdims=keepdims)\n",
      "/opt/conda/lib/python3.9/site-packages/numpy/lib/nanfunctions.py:1117: RuntimeWarning: Mean of empty slice\n",
      "  return np.nanmean(a, axis, out=out, keepdims=keepdims)\n",
      "/opt/conda/lib/python3.9/site-packages/numpy/lib/nanfunctions.py:1117: RuntimeWarning: Mean of empty slice\n",
      "  return np.nanmean(a, axis, out=out, keepdims=keepdims)\n",
      "/opt/conda/lib/python3.9/site-packages/numpy/lib/nanfunctions.py:1117: RuntimeWarning: Mean of empty slice\n",
      "  return np.nanmean(a, axis, out=out, keepdims=keepdims)\n",
      "/opt/conda/lib/python3.9/site-packages/numpy/lib/nanfunctions.py:1117: RuntimeWarning: Mean of empty slice\n",
      "  return np.nanmean(a, axis, out=out, keepdims=keepdims)\n",
      "/opt/conda/lib/python3.9/site-packages/numpy/lib/nanfunctions.py:1117: RuntimeWarning: Mean of empty slice\n",
      "  return np.nanmean(a, axis, out=out, keepdims=keepdims)\n",
      "/opt/conda/lib/python3.9/site-packages/numpy/lib/nanfunctions.py:1117: RuntimeWarning: Mean of empty slice\n",
      "  return np.nanmean(a, axis, out=out, keepdims=keepdims)\n",
      "/opt/conda/lib/python3.9/site-packages/numpy/lib/nanfunctions.py:1117: RuntimeWarning: Mean of empty slice\n",
      "  return np.nanmean(a, axis, out=out, keepdims=keepdims)\n",
      "/opt/conda/lib/python3.9/site-packages/numpy/lib/nanfunctions.py:1117: RuntimeWarning: Mean of empty slice\n",
      "  return np.nanmean(a, axis, out=out, keepdims=keepdims)\n",
      "/opt/conda/lib/python3.9/site-packages/numpy/lib/nanfunctions.py:1117: RuntimeWarning: Mean of empty slice\n",
      "  return np.nanmean(a, axis, out=out, keepdims=keepdims)\n",
      "/opt/conda/lib/python3.9/site-packages/numpy/lib/nanfunctions.py:1117: RuntimeWarning: Mean of empty slice\n",
      "  return np.nanmean(a, axis, out=out, keepdims=keepdims)\n",
      "/opt/conda/lib/python3.9/site-packages/numpy/lib/nanfunctions.py:1117: RuntimeWarning: Mean of empty slice\n",
      "  return np.nanmean(a, axis, out=out, keepdims=keepdims)\n",
      "/opt/conda/lib/python3.9/site-packages/numpy/lib/nanfunctions.py:1117: RuntimeWarning: Mean of empty slice\n",
      "  return np.nanmean(a, axis, out=out, keepdims=keepdims)\n",
      "/opt/conda/lib/python3.9/site-packages/numpy/lib/nanfunctions.py:1117: RuntimeWarning: Mean of empty slice\n",
      "  return np.nanmean(a, axis, out=out, keepdims=keepdims)\n",
      "/opt/conda/lib/python3.9/site-packages/numpy/lib/nanfunctions.py:1117: RuntimeWarning: Mean of empty slice\n",
      "  return np.nanmean(a, axis, out=out, keepdims=keepdims)\n",
      "/opt/conda/lib/python3.9/site-packages/numpy/lib/nanfunctions.py:1117: RuntimeWarning: Mean of empty slice\n",
      "  return np.nanmean(a, axis, out=out, keepdims=keepdims)\n",
      "/opt/conda/lib/python3.9/site-packages/numpy/lib/nanfunctions.py:1117: RuntimeWarning: Mean of empty slice\n",
      "  return np.nanmean(a, axis, out=out, keepdims=keepdims)\n",
      "/opt/conda/lib/python3.9/site-packages/numpy/lib/nanfunctions.py:1117: RuntimeWarning: Mean of empty slice\n",
      "  return np.nanmean(a, axis, out=out, keepdims=keepdims)\n",
      "/opt/conda/lib/python3.9/site-packages/numpy/lib/nanfunctions.py:1117: RuntimeWarning: Mean of empty slice\n",
      "  return np.nanmean(a, axis, out=out, keepdims=keepdims)\n",
      "/opt/conda/lib/python3.9/site-packages/numpy/lib/nanfunctions.py:1117: RuntimeWarning: Mean of empty slice\n",
      "  return np.nanmean(a, axis, out=out, keepdims=keepdims)\n",
      "/opt/conda/lib/python3.9/site-packages/numpy/lib/nanfunctions.py:1117: RuntimeWarning: Mean of empty slice\n",
      "  return np.nanmean(a, axis, out=out, keepdims=keepdims)\n",
      "/opt/conda/lib/python3.9/site-packages/numpy/lib/nanfunctions.py:1117: RuntimeWarning: Mean of empty slice\n",
      "  return np.nanmean(a, axis, out=out, keepdims=keepdims)\n",
      "/opt/conda/lib/python3.9/site-packages/numpy/lib/nanfunctions.py:1117: RuntimeWarning: Mean of empty slice\n",
      "  return np.nanmean(a, axis, out=out, keepdims=keepdims)\n",
      "/opt/conda/lib/python3.9/site-packages/numpy/lib/nanfunctions.py:1117: RuntimeWarning: Mean of empty slice\n",
      "  return np.nanmean(a, axis, out=out, keepdims=keepdims)\n",
      "/opt/conda/lib/python3.9/site-packages/numpy/lib/nanfunctions.py:1117: RuntimeWarning: Mean of empty slice\n",
      "  return np.nanmean(a, axis, out=out, keepdims=keepdims)\n",
      "/opt/conda/lib/python3.9/site-packages/numpy/lib/nanfunctions.py:1117: RuntimeWarning: Mean of empty slice\n",
      "  return np.nanmean(a, axis, out=out, keepdims=keepdims)\n",
      "/opt/conda/lib/python3.9/site-packages/numpy/lib/nanfunctions.py:1117: RuntimeWarning: Mean of empty slice\n",
      "  return np.nanmean(a, axis, out=out, keepdims=keepdims)\n",
      "/opt/conda/lib/python3.9/site-packages/numpy/lib/nanfunctions.py:1117: RuntimeWarning: Mean of empty slice\n",
      "  return np.nanmean(a, axis, out=out, keepdims=keepdims)\n",
      "/opt/conda/lib/python3.9/site-packages/numpy/lib/nanfunctions.py:1117: RuntimeWarning: Mean of empty slice\n",
      "  return np.nanmean(a, axis, out=out, keepdims=keepdims)\n",
      "/opt/conda/lib/python3.9/site-packages/numpy/lib/nanfunctions.py:1117: RuntimeWarning: Mean of empty slice\n",
      "  return np.nanmean(a, axis, out=out, keepdims=keepdims)\n",
      "/opt/conda/lib/python3.9/site-packages/numpy/lib/nanfunctions.py:1117: RuntimeWarning: Mean of empty slice\n",
      "  return np.nanmean(a, axis, out=out, keepdims=keepdims)\n",
      "/opt/conda/lib/python3.9/site-packages/numpy/lib/nanfunctions.py:1117: RuntimeWarning: Mean of empty slice\n",
      "  return np.nanmean(a, axis, out=out, keepdims=keepdims)\n",
      "/opt/conda/lib/python3.9/site-packages/numpy/lib/nanfunctions.py:1117: RuntimeWarning: Mean of empty slice\n",
      "  return np.nanmean(a, axis, out=out, keepdims=keepdims)\n",
      "/opt/conda/lib/python3.9/site-packages/numpy/lib/nanfunctions.py:1117: RuntimeWarning: Mean of empty slice\n",
      "  return np.nanmean(a, axis, out=out, keepdims=keepdims)\n",
      "/opt/conda/lib/python3.9/site-packages/numpy/lib/nanfunctions.py:1117: RuntimeWarning: Mean of empty slice\n",
      "  return np.nanmean(a, axis, out=out, keepdims=keepdims)\n",
      "/opt/conda/lib/python3.9/site-packages/numpy/lib/nanfunctions.py:1117: RuntimeWarning: Mean of empty slice\n",
      "  return np.nanmean(a, axis, out=out, keepdims=keepdims)\n",
      "/opt/conda/lib/python3.9/site-packages/numpy/lib/nanfunctions.py:1117: RuntimeWarning: Mean of empty slice\n",
      "  return np.nanmean(a, axis, out=out, keepdims=keepdims)\n",
      "/opt/conda/lib/python3.9/site-packages/numpy/lib/nanfunctions.py:1117: RuntimeWarning: Mean of empty slice\n",
      "  return np.nanmean(a, axis, out=out, keepdims=keepdims)\n",
      "/opt/conda/lib/python3.9/site-packages/numpy/lib/nanfunctions.py:1117: RuntimeWarning: Mean of empty slice\n",
      "  return np.nanmean(a, axis, out=out, keepdims=keepdims)\n",
      "/opt/conda/lib/python3.9/site-packages/numpy/lib/nanfunctions.py:1117: RuntimeWarning: Mean of empty slice\n",
      "  return np.nanmean(a, axis, out=out, keepdims=keepdims)\n",
      "/opt/conda/lib/python3.9/site-packages/numpy/lib/nanfunctions.py:1117: RuntimeWarning: Mean of empty slice\n",
      "  return np.nanmean(a, axis, out=out, keepdims=keepdims)\n",
      "/opt/conda/lib/python3.9/site-packages/numpy/lib/nanfunctions.py:1117: RuntimeWarning: Mean of empty slice\n",
      "  return np.nanmean(a, axis, out=out, keepdims=keepdims)\n",
      "/opt/conda/lib/python3.9/site-packages/numpy/lib/nanfunctions.py:1117: RuntimeWarning: Mean of empty slice\n",
      "  return np.nanmean(a, axis, out=out, keepdims=keepdims)\n",
      "/opt/conda/lib/python3.9/site-packages/numpy/lib/nanfunctions.py:1117: RuntimeWarning: Mean of empty slice\n",
      "  return np.nanmean(a, axis, out=out, keepdims=keepdims)\n",
      "/opt/conda/lib/python3.9/site-packages/numpy/lib/nanfunctions.py:1117: RuntimeWarning: Mean of empty slice\n",
      "  return np.nanmean(a, axis, out=out, keepdims=keepdims)\n",
      "/opt/conda/lib/python3.9/site-packages/numpy/lib/nanfunctions.py:1117: RuntimeWarning: Mean of empty slice\n",
      "  return np.nanmean(a, axis, out=out, keepdims=keepdims)\n",
      "/opt/conda/lib/python3.9/site-packages/numpy/lib/nanfunctions.py:1117: RuntimeWarning: Mean of empty slice\n",
      "  return np.nanmean(a, axis, out=out, keepdims=keepdims)\n",
      "/opt/conda/lib/python3.9/site-packages/numpy/lib/nanfunctions.py:1117: RuntimeWarning: Mean of empty slice\n",
      "  return np.nanmean(a, axis, out=out, keepdims=keepdims)\n",
      "/opt/conda/lib/python3.9/site-packages/numpy/lib/nanfunctions.py:1117: RuntimeWarning: Mean of empty slice\n",
      "  return np.nanmean(a, axis, out=out, keepdims=keepdims)\n",
      "/opt/conda/lib/python3.9/site-packages/numpy/lib/nanfunctions.py:1117: RuntimeWarning: Mean of empty slice\n",
      "  return np.nanmean(a, axis, out=out, keepdims=keepdims)\n",
      "/opt/conda/lib/python3.9/site-packages/numpy/lib/nanfunctions.py:1117: RuntimeWarning: Mean of empty slice\n",
      "  return np.nanmean(a, axis, out=out, keepdims=keepdims)\n",
      "/opt/conda/lib/python3.9/site-packages/numpy/lib/nanfunctions.py:1117: RuntimeWarning: Mean of empty slice\n",
      "  return np.nanmean(a, axis, out=out, keepdims=keepdims)\n",
      "/opt/conda/lib/python3.9/site-packages/numpy/lib/nanfunctions.py:1117: RuntimeWarning: Mean of empty slice\n",
      "  return np.nanmean(a, axis, out=out, keepdims=keepdims)\n",
      "/opt/conda/lib/python3.9/site-packages/numpy/lib/nanfunctions.py:1117: RuntimeWarning: Mean of empty slice\n",
      "  return np.nanmean(a, axis, out=out, keepdims=keepdims)\n",
      "/opt/conda/lib/python3.9/site-packages/numpy/lib/nanfunctions.py:1117: RuntimeWarning: Mean of empty slice\n",
      "  return np.nanmean(a, axis, out=out, keepdims=keepdims)\n",
      "/opt/conda/lib/python3.9/site-packages/numpy/lib/nanfunctions.py:1117: RuntimeWarning: Mean of empty slice\n",
      "  return np.nanmean(a, axis, out=out, keepdims=keepdims)\n",
      "/opt/conda/lib/python3.9/site-packages/numpy/lib/nanfunctions.py:1117: RuntimeWarning: Mean of empty slice\n",
      "  return np.nanmean(a, axis, out=out, keepdims=keepdims)\n",
      "/opt/conda/lib/python3.9/site-packages/numpy/lib/nanfunctions.py:1117: RuntimeWarning: Mean of empty slice\n",
      "  return np.nanmean(a, axis, out=out, keepdims=keepdims)\n",
      "/opt/conda/lib/python3.9/site-packages/numpy/lib/nanfunctions.py:1117: RuntimeWarning: Mean of empty slice\n",
      "  return np.nanmean(a, axis, out=out, keepdims=keepdims)\n",
      "/opt/conda/lib/python3.9/site-packages/numpy/lib/nanfunctions.py:1117: RuntimeWarning: Mean of empty slice\n",
      "  return np.nanmean(a, axis, out=out, keepdims=keepdims)\n",
      "/opt/conda/lib/python3.9/site-packages/numpy/lib/nanfunctions.py:1117: RuntimeWarning: Mean of empty slice\n",
      "  return np.nanmean(a, axis, out=out, keepdims=keepdims)\n",
      "/opt/conda/lib/python3.9/site-packages/numpy/lib/nanfunctions.py:1117: RuntimeWarning: Mean of empty slice\n",
      "  return np.nanmean(a, axis, out=out, keepdims=keepdims)\n",
      "/opt/conda/lib/python3.9/site-packages/numpy/lib/nanfunctions.py:1117: RuntimeWarning: Mean of empty slice\n",
      "  return np.nanmean(a, axis, out=out, keepdims=keepdims)\n",
      "/opt/conda/lib/python3.9/site-packages/numpy/lib/nanfunctions.py:1117: RuntimeWarning: Mean of empty slice\n",
      "  return np.nanmean(a, axis, out=out, keepdims=keepdims)\n",
      "/opt/conda/lib/python3.9/site-packages/numpy/lib/nanfunctions.py:1117: RuntimeWarning: Mean of empty slice\n",
      "  return np.nanmean(a, axis, out=out, keepdims=keepdims)\n",
      "/opt/conda/lib/python3.9/site-packages/numpy/lib/nanfunctions.py:1117: RuntimeWarning: Mean of empty slice\n",
      "  return np.nanmean(a, axis, out=out, keepdims=keepdims)\n",
      "/opt/conda/lib/python3.9/site-packages/numpy/lib/nanfunctions.py:1117: RuntimeWarning: Mean of empty slice\n",
      "  return np.nanmean(a, axis, out=out, keepdims=keepdims)\n",
      "/opt/conda/lib/python3.9/site-packages/numpy/lib/nanfunctions.py:1117: RuntimeWarning: Mean of empty slice\n",
      "  return np.nanmean(a, axis, out=out, keepdims=keepdims)\n",
      "/opt/conda/lib/python3.9/site-packages/numpy/lib/nanfunctions.py:1117: RuntimeWarning: Mean of empty slice\n",
      "  return np.nanmean(a, axis, out=out, keepdims=keepdims)\n",
      "/opt/conda/lib/python3.9/site-packages/numpy/lib/nanfunctions.py:1117: RuntimeWarning: Mean of empty slice\n",
      "  return np.nanmean(a, axis, out=out, keepdims=keepdims)\n",
      "/opt/conda/lib/python3.9/site-packages/numpy/lib/nanfunctions.py:1117: RuntimeWarning: Mean of empty slice\n",
      "  return np.nanmean(a, axis, out=out, keepdims=keepdims)\n",
      "/opt/conda/lib/python3.9/site-packages/numpy/lib/nanfunctions.py:1117: RuntimeWarning: Mean of empty slice\n",
      "  return np.nanmean(a, axis, out=out, keepdims=keepdims)\n",
      "/opt/conda/lib/python3.9/site-packages/numpy/lib/nanfunctions.py:1117: RuntimeWarning: Mean of empty slice\n",
      "  return np.nanmean(a, axis, out=out, keepdims=keepdims)\n",
      "/opt/conda/lib/python3.9/site-packages/numpy/lib/nanfunctions.py:1117: RuntimeWarning: Mean of empty slice\n",
      "  return np.nanmean(a, axis, out=out, keepdims=keepdims)\n",
      "/opt/conda/lib/python3.9/site-packages/numpy/lib/nanfunctions.py:1117: RuntimeWarning: Mean of empty slice\n",
      "  return np.nanmean(a, axis, out=out, keepdims=keepdims)\n",
      "/opt/conda/lib/python3.9/site-packages/numpy/lib/nanfunctions.py:1117: RuntimeWarning: Mean of empty slice\n",
      "  return np.nanmean(a, axis, out=out, keepdims=keepdims)\n",
      "/opt/conda/lib/python3.9/site-packages/numpy/lib/nanfunctions.py:1117: RuntimeWarning: Mean of empty slice\n",
      "  return np.nanmean(a, axis, out=out, keepdims=keepdims)\n"
     ]
    },
    {
     "data": {
      "text/plain": [
       "4863"
      ]
     },
     "execution_count": 51,
     "metadata": {},
     "output_type": "execute_result"
    }
   ],
   "source": [
    "for name in data['locality_name'].unique():\n",
    "        median_with_name = data.loc[data['locality_name']==name,'city_centers_nearest'].median()\n",
    "        data.loc[(data['city_centers_nearest'].isna()) & (data['locality_name']==name),'city_centers_nearest'] = median_with_name\n",
    "\n",
    "data['city_centers_nearest'].isna().sum()"
   ]
  },
  {
   "cell_type": "markdown",
   "metadata": {},
   "source": [
    "Осталось еще 4863 пропуска, их заполним общей медианой:"
   ]
  },
  {
   "cell_type": "code",
   "execution_count": 52,
   "metadata": {},
   "outputs": [
    {
     "data": {
      "text/plain": [
       "4863"
      ]
     },
     "execution_count": 52,
     "metadata": {},
     "output_type": "execute_result"
    }
   ],
   "source": [
    "\n",
    "data['city_centers_nearest'].fillna(data['city_centers_nearest'].median())\n",
    "\n",
    "data['city_centers_nearest'].isna().sum()"
   ]
  },
  {
   "cell_type": "markdown",
   "metadata": {},
   "source": [
    "#### Изучим столбец parks_nearest."
   ]
  },
  {
   "cell_type": "code",
   "execution_count": 53,
   "metadata": {},
   "outputs": [
    {
     "data": {
      "text/plain": [
       "15620"
      ]
     },
     "execution_count": 53,
     "metadata": {},
     "output_type": "execute_result"
    },
    {
     "data": {
      "image/png": "[encoded data removed]",
      "text/plain": [
       "<Figure size 432x288 with 1 Axes>"
      ]
     },
     "metadata": {
      "needs_background": "light"
     },
     "output_type": "display_data"
    }
   ],
   "source": [
    "data['parks_nearest'].hist()\n",
    "data['parks_nearest'].isna().sum()"
   ]
  },
  {
   "cell_type": "code",
   "execution_count": 54,
   "metadata": {},
   "outputs": [
    {
     "name": "stdout",
     "output_type": "stream",
     "text": [
      "count    8079.00\n",
      "mean      490.80\n",
      "std       342.32\n",
      "min         1.00\n",
      "25%       288.00\n",
      "50%       455.00\n",
      "75%       612.00\n",
      "max      3190.00\n",
      "Name: parks_nearest, dtype: object\n"
     ]
    },
    {
     "data": {
      "text/plain": [
       "15620"
      ]
     },
     "execution_count": 54,
     "metadata": {},
     "output_type": "execute_result"
    }
   ],
   "source": [
    "print(data['parks_nearest'].describe().apply(\"{0:.2f}\".format))\n",
    "data['parks_nearest'].isna().sum()"
   ]
  },
  {
   "cell_type": "markdown",
   "metadata": {},
   "source": [
    "Обнаружили 10757 пропусков. Чтобы понять что нимим делать, проверим столбец parks_around_3000:"
   ]
  },
  {
   "cell_type": "code",
   "execution_count": 55,
   "metadata": {},
   "outputs": [
    {
     "name": "stdout",
     "output_type": "stream",
     "text": [
      "count    18181.00\n",
      "mean         0.61\n",
      "std          0.80\n",
      "min          0.00\n",
      "25%          0.00\n",
      "50%          0.00\n",
      "75%          1.00\n",
      "max          3.00\n",
      "Name: parks_around_3000, dtype: object\n"
     ]
    },
    {
     "data": {
      "text/plain": [
       "5518"
      ]
     },
     "execution_count": 55,
     "metadata": {},
     "output_type": "execute_result"
    }
   ],
   "source": [
    "print(data['parks_around_3000'].describe().apply(\"{0:.2f}\".format))\n",
    "data['parks_around_3000'].isna().sum()"
   ]
  },
  {
   "cell_type": "markdown",
   "metadata": {},
   "source": [
    "Обнаружили 655 пропусков. Вероятнее всего пользователи не заполнили эти значения, тк у них не было парков в округе 3000 м. Заполним общей медианой, то есть нулем:"
   ]
  },
  {
   "cell_type": "code",
   "execution_count": 56,
   "metadata": {},
   "outputs": [
    {
     "data": {
      "text/plain": [
       "0"
      ]
     },
     "execution_count": 56,
     "metadata": {},
     "output_type": "execute_result"
    }
   ],
   "source": [
    "data['parks_around_3000'] = data['parks_around_3000'].fillna(0)\n",
    "data['parks_around_3000'].isna().sum()"
   ]
  },
  {
   "cell_type": "markdown",
   "metadata": {},
   "source": [
    "Теперь заполним пропуски в parks_nearest медианными значениями по parks_around_3000:"
   ]
  },
  {
   "cell_type": "code",
   "execution_count": 57,
   "metadata": {},
   "outputs": [
    {
     "data": {
      "text/plain": [
       "0"
      ]
     },
     "execution_count": 57,
     "metadata": {},
     "output_type": "execute_result"
    }
   ],
   "source": [
    "for value in data['parks_around_3000'].unique():\n",
    "        median_value = data.loc[data['parks_around_3000']==value,'parks_nearest'].median()\n",
    "        data.loc[(data['parks_nearest'].isna()) & (data['parks_around_3000']==value),'parks_nearest'] = median_value\n",
    "data['parks_nearest'].isna().sum()"
   ]
  },
  {
   "cell_type": "markdown",
   "metadata": {},
   "source": [
    "#### Изучим столбец days_exposition и выясним как быстро продаются квартиры."
   ]
  },
  {
   "cell_type": "code",
   "execution_count": 58,
   "metadata": {},
   "outputs": [
    {
     "data": {
      "text/plain": [
       "3181"
      ]
     },
     "execution_count": 58,
     "metadata": {},
     "output_type": "execute_result"
    },
    {
     "data": {
      "image/png": "[encoded data removed]",
      "text/plain": [
       "<Figure size 432x288 with 1 Axes>"
      ]
     },
     "metadata": {
      "needs_background": "light"
     },
     "output_type": "display_data"
    }
   ],
   "source": [
    "data['days_exposition'].hist()\n",
    "data['days_exposition'].isna().sum()"
   ]
  },
  {
   "cell_type": "markdown",
   "metadata": {},
   "source": [
    "Большинство квартир продается за 180 дней, также есть 3181 пропуск, пропуски - вероятно еще не снятые с продажи объявления, посмотрим на числовое описание данных:"
   ]
  },
  {
   "cell_type": "code",
   "execution_count": 59,
   "metadata": {},
   "outputs": [
    {
     "data": {
      "text/plain": [
       "count    20518.000000\n",
       "mean       180.888634\n",
       "std        219.727988\n",
       "min          1.000000\n",
       "25%         45.000000\n",
       "50%         95.000000\n",
       "75%        232.000000\n",
       "max       1580.000000\n",
       "Name: days_exposition, dtype: float64"
      ]
     },
     "execution_count": 59,
     "metadata": {},
     "output_type": "execute_result"
    }
   ],
   "source": [
    "data['days_exposition'].describe()"
   ]
  },
  {
   "cell_type": "markdown",
   "metadata": {},
   "source": [
    "В среднем квартиры продаются 180 дней, при этом медиана равна 95. "
   ]
  },
  {
   "cell_type": "markdown",
   "metadata": {},
   "source": [
    "Построим еще одну гистограмму, посмотрим на взаимосвязь пропусков и дня опубликования обьявления:"
   ]
  },
  {
   "cell_type": "code",
   "execution_count": 60,
   "metadata": {},
   "outputs": [
    {
     "data": {
      "text/plain": [
       "<AxesSubplot:>"
      ]
     },
     "execution_count": 60,
     "metadata": {},
     "output_type": "execute_result"
    },
    {
     "data": {
      "image/png": "[encoded data removed]",
      "text/plain": [
       "<Figure size 432x288 with 1 Axes>"
      ]
     },
     "metadata": {
      "needs_background": "light"
     },
     "output_type": "display_data"
    }
   ],
   "source": [
    "days_nan = data.query('days_exposition.isna()')\n",
    "days_nan['first_day_exposition'].hist(bins=50)"
   ]
  },
  {
   "cell_type": "markdown",
   "metadata": {},
   "source": [
    "Количество пропусков возрастает с датой - пропуски это объявления в продаже. Заменим их на медиану столбца, чтобы не искажать исследование."
   ]
  },
  {
   "cell_type": "code",
   "execution_count": 61,
   "metadata": {},
   "outputs": [
    {
     "data": {
      "text/plain": [
       "0"
      ]
     },
     "execution_count": 61,
     "metadata": {},
     "output_type": "execute_result"
    }
   ],
   "source": [
    "data['days_exposition'] = data['days_exposition'].fillna(158)\n",
    "data['days_exposition'].isna().sum()"
   ]
  },
  {
   "cell_type": "code",
   "execution_count": 62,
   "metadata": {},
   "outputs": [
    {
     "data": {
      "text/plain": [
       "<AxesSubplot:>"
      ]
     },
     "execution_count": 62,
     "metadata": {},
     "output_type": "execute_result"
    },
    {
     "data": {
      "image/png": "[encoded data removed]",
      "text/plain": [
       "<Figure size 432x288 with 1 Axes>"
      ]
     },
     "metadata": {
      "needs_background": "light"
     },
     "output_type": "display_data"
    }
   ],
   "source": [
    "data['days_exposition'].hist(bins=10)"
   ]
  },
  {
   "cell_type": "markdown",
   "metadata": {},
   "source": [
    "Вывод: большинство квартир продается в первые 300 дней размещения объявления. Также есть необычно долгие продажи свыше 1400 дней."
   ]
  },
  {
   "cell_type": "markdown",
   "metadata": {},
   "source": [
    "#### Изучим, какие параметры больше всего влияют на продажу.\n",
    "Построим матрицу корреляции для наглядного отображения зависимости продажи от разных факторов:"
   ]
  },
  {
   "cell_type": "code",
   "execution_count": 63,
   "metadata": {},
   "outputs": [
    {
     "data": {
      "text/html": [
       "<style  type=\"text/css\" >\n",
       "#T_c010a_row0_col0,#T_c010a_row1_col1,#T_c010a_row2_col2,#T_c010a_row3_col3,#T_c010a_row4_col4,#T_c010a_row5_col5,#T_c010a_row6_col6,#T_c010a_row7_col7,#T_c010a_row8_col8,#T_c010a_row9_col9,#T_c010a_row10_col10,#T_c010a_row11_col11,#T_c010a_row12_col12,#T_c010a_row13_col13,#T_c010a_row13_col23,#T_c010a_row14_col14,#T_c010a_row15_col15,#T_c010a_row16_col16,#T_c010a_row17_col17,#T_c010a_row18_col18,#T_c010a_row19_col19,#T_c010a_row20_col20,#T_c010a_row21_col21,#T_c010a_row22_col22,#T_c010a_row23_col13,#T_c010a_row23_col23{\n",
       "            background-color:  #b40426;\n",
       "            color:  #f1f1f1;\n",
       "        }#T_c010a_row0_col1,#T_c010a_row9_col16,#T_c010a_row16_col3{\n",
       "            background-color:  #90b2fe;\n",
       "            color:  #000000;\n",
       "        }#T_c010a_row0_col2,#T_c010a_row3_col19{\n",
       "            background-color:  #9abbff;\n",
       "            color:  #000000;\n",
       "        }#T_c010a_row0_col3,#T_c010a_row6_col10,#T_c010a_row11_col19,#T_c010a_row12_col17,#T_c010a_row17_col23,#T_c010a_row21_col17{\n",
       "            background-color:  #92b4fe;\n",
       "            color:  #000000;\n",
       "        }#T_c010a_row0_col4,#T_c010a_row6_col13,#T_c010a_row17_col13,#T_c010a_row22_col23{\n",
       "            background-color:  #93b5fe;\n",
       "            color:  #000000;\n",
       "        }#T_c010a_row0_col5,#T_c010a_row6_col1,#T_c010a_row6_col16,#T_c010a_row7_col1,#T_c010a_row11_col4,#T_c010a_row13_col16,#T_c010a_row21_col2,#T_c010a_row21_col5,#T_c010a_row23_col5,#T_c010a_row23_col16{\n",
       "            background-color:  #7a9df8;\n",
       "            color:  #000000;\n",
       "        }#T_c010a_row0_col6,#T_c010a_row2_col0,#T_c010a_row8_col10,#T_c010a_row9_col10,#T_c010a_row11_col8,#T_c010a_row13_col6,#T_c010a_row21_col10{\n",
       "            background-color:  #6c8ff1;\n",
       "            color:  #000000;\n",
       "        }#T_c010a_row0_col7,#T_c010a_row5_col20,#T_c010a_row6_col20,#T_c010a_row15_col1,#T_c010a_row15_col19,#T_c010a_row18_col7,#T_c010a_row21_col20{\n",
       "            background-color:  #455cce;\n",
       "            color:  #f1f1f1;\n",
       "        }#T_c010a_row0_col8{\n",
       "            background-color:  #5b7ae5;\n",
       "            color:  #000000;\n",
       "        }#T_c010a_row0_col9,#T_c010a_row8_col12,#T_c010a_row11_col7,#T_c010a_row14_col5,#T_c010a_row15_col2,#T_c010a_row21_col0{\n",
       "            background-color:  #4b64d5;\n",
       "            color:  #f1f1f1;\n",
       "        }#T_c010a_row0_col10,#T_c010a_row8_col23,#T_c010a_row18_col1,#T_c010a_row21_col23{\n",
       "            background-color:  #88abfd;\n",
       "            color:  #000000;\n",
       "        }#T_c010a_row0_col11,#T_c010a_row1_col8,#T_c010a_row2_col6,#T_c010a_row9_col3,#T_c010a_row10_col13,#T_c010a_row11_col9,#T_c010a_row12_col11,#T_c010a_row14_col13,#T_c010a_row22_col10{\n",
       "            background-color:  #5d7ce6;\n",
       "            color:  #000000;\n",
       "        }#T_c010a_row0_col12,#T_c010a_row1_col9,#T_c010a_row1_col11,#T_c010a_row21_col11{\n",
       "            background-color:  #506bda;\n",
       "            color:  #000000;\n",
       "        }#T_c010a_row0_col13,#T_c010a_row0_col23,#T_c010a_row16_col21,#T_c010a_row23_col21{\n",
       "            background-color:  #7da0f9;\n",
       "            color:  #000000;\n",
       "        }#T_c010a_row0_col14,#T_c010a_row8_col15{\n",
       "            background-color:  #d9dce1;\n",
       "            color:  #000000;\n",
       "        }#T_c010a_row0_col15,#T_c010a_row12_col23,#T_c010a_row18_col15,#T_c010a_row19_col4{\n",
       "            background-color:  #cedaeb;\n",
       "            color:  #000000;\n",
       "        }#T_c010a_row0_col16,#T_c010a_row6_col23,#T_c010a_row7_col13,#T_c010a_row8_col13,#T_c010a_row9_col13,#T_c010a_row14_col10,#T_c010a_row20_col23,#T_c010a_row21_col16{\n",
       "            background-color:  #8caffe;\n",
       "            color:  #000000;\n",
       "        }#T_c010a_row0_col17,#T_c010a_row9_col17,#T_c010a_row9_col19,#T_c010a_row20_col13,#T_c010a_row20_col17,#T_c010a_row22_col19{\n",
       "            background-color:  #8db0fe;\n",
       "            color:  #000000;\n",
       "        }#T_c010a_row0_col18,#T_c010a_row11_col18{\n",
       "            background-color:  #aac7fd;\n",
       "            color:  #000000;\n",
       "        }#T_c010a_row0_col19,#T_c010a_row15_col17,#T_c010a_row16_col15{\n",
       "            background-color:  #aec9fc;\n",
       "            color:  #000000;\n",
       "        }#T_c010a_row0_col20,#T_c010a_row4_col23,#T_c010a_row6_col7,#T_c010a_row7_col20,#T_c010a_row14_col20{\n",
       "            background-color:  #3e51c5;\n",
       "            color:  #f1f1f1;\n",
       "        }#T_c010a_row0_col21,#T_c010a_row2_col21,#T_c010a_row7_col2,#T_c010a_row12_col16,#T_c010a_row12_col19,#T_c010a_row12_col21,#T_c010a_row17_col5{\n",
       "            background-color:  #81a4fb;\n",
       "            color:  #000000;\n",
       "        }#T_c010a_row0_col22,#T_c010a_row1_col4,#T_c010a_row22_col14{\n",
       "            background-color:  #cdd9ec;\n",
       "            color:  #000000;\n",
       "        }#T_c010a_row1_col0,#T_c010a_row20_col10{\n",
       "            background-color:  #6a8bef;\n",
       "            color:  #000000;\n",
       "        }#T_c010a_row1_col2{\n",
       "            background-color:  #f6a586;\n",
       "            color:  #000000;\n",
       "        }#T_c010a_row1_col3,#T_c010a_row14_col16{\n",
       "            background-color:  #d8dce2;\n",
       "            color:  #000000;\n",
       "        }#T_c010a_row1_col5,#T_c010a_row19_col0,#T_c010a_row19_col17,#T_c010a_row20_col1,#T_c010a_row21_col1,#T_c010a_row21_col22{\n",
       "            background-color:  #7396f5;\n",
       "            color:  #000000;\n",
       "        }#T_c010a_row1_col6,#T_c010a_row8_col1,#T_c010a_row12_col1,#T_c010a_row17_col6{\n",
       "            background-color:  #6b8df0;\n",
       "            color:  #000000;\n",
       "        }#T_c010a_row1_col7,#T_c010a_row1_col12,#T_c010a_row2_col7{\n",
       "            background-color:  #4a63d3;\n",
       "            color:  #f1f1f1;\n",
       "        }#T_c010a_row1_col10,#T_c010a_row2_col4,#T_c010a_row10_col14{\n",
       "            background-color:  #e4d9d2;\n",
       "            color:  #000000;\n",
       "        }#T_c010a_row1_col13,#T_c010a_row1_col23,#T_c010a_row10_col9,#T_c010a_row10_col12,#T_c010a_row14_col0,#T_c010a_row15_col12,#T_c010a_row15_col16,#T_c010a_row16_col5,#T_c010a_row17_col11,#T_c010a_row22_col12{\n",
       "            background-color:  #5470de;\n",
       "            color:  #000000;\n",
       "        }#T_c010a_row1_col14{\n",
       "            background-color:  #edd1c2;\n",
       "            color:  #000000;\n",
       "        }#T_c010a_row1_col15,#T_c010a_row15_col23,#T_c010a_row17_col14,#T_c010a_row23_col14{\n",
       "            background-color:  #bad0f8;\n",
       "            color:  #000000;\n",
       "        }#T_c010a_row1_col16,#T_c010a_row13_col14,#T_c010a_row13_col22,#T_c010a_row23_col22{\n",
       "            background-color:  #b7cff9;\n",
       "            color:  #000000;\n",
       "        }#T_c010a_row1_col17,#T_c010a_row6_col4,#T_c010a_row12_col6,#T_c010a_row18_col21,#T_c010a_row20_col5,#T_c010a_row22_col5{\n",
       "            background-color:  #799cf8;\n",
       "            color:  #000000;\n",
       "        }#T_c010a_row1_col18{\n",
       "            background-color:  #c0d4f5;\n",
       "            color:  #000000;\n",
       "        }#T_c010a_row1_col19,#T_c010a_row2_col3{\n",
       "            background-color:  #ed8366;\n",
       "            color:  #000000;\n",
       "        }#T_c010a_row1_col20,#T_c010a_row3_col7,#T_c010a_row4_col11,#T_c010a_row12_col20,#T_c010a_row16_col20{\n",
       "            background-color:  #4257c9;\n",
       "            color:  #f1f1f1;\n",
       "        }#T_c010a_row1_col21,#T_c010a_row3_col17,#T_c010a_row4_col21,#T_c010a_row7_col21,#T_c010a_row8_col21,#T_c010a_row10_col21,#T_c010a_row15_col21{\n",
       "            background-color:  #80a3fa;\n",
       "            color:  #000000;\n",
       "        }#T_c010a_row1_col22,#T_c010a_row3_col16,#T_c010a_row5_col18,#T_c010a_row19_col15{\n",
       "            background-color:  #a6c4fe;\n",
       "            color:  #000000;\n",
       "        }#T_c010a_row2_col1{\n",
       "            background-color:  #f7a889;\n",
       "            color:  #000000;\n",
       "        }#T_c010a_row2_col5{\n",
       "            background-color:  #6180e9;\n",
       "            color:  #000000;\n",
       "        }#T_c010a_row2_col8,#T_c010a_row12_col9,#T_c010a_row15_col3,#T_c010a_row15_col4,#T_c010a_row17_col10,#T_c010a_row19_col7,#T_c010a_row22_col11{\n",
       "            background-color:  #4f69d9;\n",
       "            color:  #000000;\n",
       "        }#T_c010a_row2_col9,#T_c010a_row2_col12,#T_c010a_row3_col11,#T_c010a_row12_col0,#T_c010a_row16_col7,#T_c010a_row17_col0{\n",
       "            background-color:  #4961d2;\n",
       "            color:  #f1f1f1;\n",
       "        }#T_c010a_row2_col10{\n",
       "            background-color:  #f5c1a9;\n",
       "            color:  #000000;\n",
       "        }#T_c010a_row2_col11,#T_c010a_row8_col9,#T_c010a_row14_col12,#T_c010a_row15_col10,#T_c010a_row17_col9,#T_c010a_row20_col12,#T_c010a_row23_col9{\n",
       "            background-color:  #516ddb;\n",
       "            color:  #000000;\n",
       "        }#T_c010a_row2_col13,#T_c010a_row2_col23,#T_c010a_row5_col0,#T_c010a_row9_col12,#T_c010a_row10_col7,#T_c010a_row14_col9,#T_c010a_row16_col6,#T_c010a_row20_col11{\n",
       "            background-color:  #4e68d8;\n",
       "            color:  #000000;\n",
       "        }#T_c010a_row2_col14,#T_c010a_row13_col15{\n",
       "            background-color:  #eed0c0;\n",
       "            color:  #000000;\n",
       "        }#T_c010a_row2_col15,#T_c010a_row2_col16,#T_c010a_row15_col22,#T_c010a_row16_col4,#T_c010a_row17_col22,#T_c010a_row19_col18{\n",
       "            background-color:  #b9d0f9;\n",
       "            color:  #000000;\n",
       "        }#T_c010a_row2_col17,#T_c010a_row10_col17,#T_c010a_row11_col1,#T_c010a_row20_col3,#T_c010a_row21_col3{\n",
       "            background-color:  #7597f6;\n",
       "            color:  #000000;\n",
       "        }#T_c010a_row2_col18,#T_c010a_row19_col2{\n",
       "            background-color:  #cbd8ee;\n",
       "            color:  #000000;\n",
       "        }#T_c010a_row2_col19,#T_c010a_row3_col1,#T_c010a_row10_col4,#T_c010a_row12_col15,#T_c010a_row20_col15{\n",
       "            background-color:  #d6dce4;\n",
       "            color:  #000000;\n",
       "        }#T_c010a_row2_col20,#T_c010a_row3_col20,#T_c010a_row4_col13,#T_c010a_row8_col0,#T_c010a_row8_col7,#T_c010a_row8_col20,#T_c010a_row9_col7,#T_c010a_row11_col20,#T_c010a_row13_col3,#T_c010a_row17_col20,#T_c010a_row18_col0,#T_c010a_row22_col20{\n",
       "            background-color:  #4055c8;\n",
       "            color:  #f1f1f1;\n",
       "        }#T_c010a_row2_col22,#T_c010a_row18_col2{\n",
       "            background-color:  #9ebeff;\n",
       "            color:  #000000;\n",
       "        }#T_c010a_row3_col0,#T_c010a_row17_col4,#T_c010a_row18_col5,#T_c010a_row19_col8,#T_c010a_row21_col6{\n",
       "            background-color:  #688aef;\n",
       "            color:  #000000;\n",
       "        }#T_c010a_row3_col2{\n",
       "            background-color:  #ec8165;\n",
       "            color:  #000000;\n",
       "        }#T_c010a_row3_col4,#T_c010a_row10_col15,#T_c010a_row14_col4{\n",
       "            background-color:  #c6d6f1;\n",
       "            color:  #000000;\n",
       "        }#T_c010a_row3_col5,#T_c010a_row3_col6,#T_c010a_row3_col8,#T_c010a_row3_col9,#T_c010a_row4_col12,#T_c010a_row4_col20,#T_c010a_row5_col3,#T_c010a_row5_col7,#T_c010a_row13_col0,#T_c010a_row13_col1,#T_c010a_row13_col2,#T_c010a_row13_col4,#T_c010a_row13_col10,#T_c010a_row13_col19,#T_c010a_row14_col11,#T_c010a_row14_col15,#T_c010a_row15_col14,#T_c010a_row16_col17,#T_c010a_row17_col16,#T_c010a_row18_col20,#T_c010a_row18_col22,#T_c010a_row19_col13,#T_c010a_row19_col23,#T_c010a_row22_col18,#T_c010a_row22_col21,#T_c010a_row23_col4,#T_c010a_row23_col10{\n",
       "            background-color:  #3b4cc0;\n",
       "            color:  #f1f1f1;\n",
       "        }#T_c010a_row3_col10{\n",
       "            background-color:  #b5cdfa;\n",
       "            color:  #000000;\n",
       "        }#T_c010a_row3_col12,#T_c010a_row10_col20,#T_c010a_row15_col7,#T_c010a_row19_col20,#T_c010a_row20_col7{\n",
       "            background-color:  #3f53c6;\n",
       "            color:  #f1f1f1;\n",
       "        }#T_c010a_row3_col13,#T_c010a_row7_col11,#T_c010a_row9_col11,#T_c010a_row11_col0{\n",
       "            background-color:  #5875e1;\n",
       "            color:  #000000;\n",
       "        }#T_c010a_row3_col14{\n",
       "            background-color:  #ead5c9;\n",
       "            color:  #000000;\n",
       "        }#T_c010a_row3_col15{\n",
       "            background-color:  #bed2f6;\n",
       "            color:  #000000;\n",
       "        }#T_c010a_row3_col18,#T_c010a_row4_col10{\n",
       "            background-color:  #c7d7f0;\n",
       "            color:  #000000;\n",
       "        }#T_c010a_row3_col21,#T_c010a_row13_col21,#T_c010a_row14_col21,#T_c010a_row15_col6,#T_c010a_row19_col21,#T_c010a_row20_col4{\n",
       "            background-color:  #7ea1fa;\n",
       "            color:  #000000;\n",
       "        }#T_c010a_row3_col22,#T_c010a_row4_col22,#T_c010a_row10_col22,#T_c010a_row14_col22{\n",
       "            background-color:  #a5c3fe;\n",
       "            color:  #000000;\n",
       "        }#T_c010a_row3_col23,#T_c010a_row10_col11,#T_c010a_row10_col23,#T_c010a_row14_col8,#T_c010a_row17_col1,#T_c010a_row21_col9{\n",
       "            background-color:  #5a78e4;\n",
       "            color:  #000000;\n",
       "        }#T_c010a_row4_col0,#T_c010a_row15_col9,#T_c010a_row18_col6{\n",
       "            background-color:  #5977e3;\n",
       "            color:  #000000;\n",
       "        }#T_c010a_row4_col1,#T_c010a_row10_col18{\n",
       "            background-color:  #c1d4f4;\n",
       "            color:  #000000;\n",
       "        }#T_c010a_row4_col2{\n",
       "            background-color:  #dedcdb;\n",
       "            color:  #000000;\n",
       "        }#T_c010a_row4_col3,#T_c010a_row10_col3,#T_c010a_row16_col19{\n",
       "            background-color:  #bcd2f7;\n",
       "            color:  #000000;\n",
       "        }#T_c010a_row4_col5,#T_c010a_row6_col9,#T_c010a_row12_col8,#T_c010a_row15_col11,#T_c010a_row17_col2,#T_c010a_row18_col8{\n",
       "            background-color:  #5e7de7;\n",
       "            color:  #000000;\n",
       "        }#T_c010a_row4_col6,#T_c010a_row16_col9,#T_c010a_row17_col12,#T_c010a_row19_col9,#T_c010a_row19_col11{\n",
       "            background-color:  #5572df;\n",
       "            color:  #000000;\n",
       "        }#T_c010a_row4_col7,#T_c010a_row7_col12,#T_c010a_row8_col11,#T_c010a_row20_col9{\n",
       "            background-color:  #5673e0;\n",
       "            color:  #000000;\n",
       "        }#T_c010a_row4_col8,#T_c010a_row8_col2,#T_c010a_row12_col3,#T_c010a_row16_col8,#T_c010a_row17_col8,#T_c010a_row21_col8,#T_c010a_row22_col6{\n",
       "            background-color:  #6485ec;\n",
       "            color:  #000000;\n",
       "        }#T_c010a_row4_col9,#T_c010a_row6_col0,#T_c010a_row7_col9,#T_c010a_row13_col9,#T_c010a_row21_col12{\n",
       "            background-color:  #536edd;\n",
       "            color:  #000000;\n",
       "        }#T_c010a_row4_col14{\n",
       "            background-color:  #f2cbb7;\n",
       "            color:  #000000;\n",
       "        }#T_c010a_row4_col15,#T_c010a_row5_col19,#T_c010a_row5_col22,#T_c010a_row7_col22,#T_c010a_row12_col22,#T_c010a_row19_col22{\n",
       "            background-color:  #b2ccfb;\n",
       "            color:  #000000;\n",
       "        }#T_c010a_row4_col16,#T_c010a_row15_col13,#T_c010a_row16_col18,#T_c010a_row19_col16{\n",
       "            background-color:  #bfd3f6;\n",
       "            color:  #000000;\n",
       "        }#T_c010a_row4_col17,#T_c010a_row5_col12,#T_c010a_row6_col2{\n",
       "            background-color:  #7295f4;\n",
       "            color:  #000000;\n",
       "        }#T_c010a_row4_col18{\n",
       "            background-color:  #c5d6f2;\n",
       "            color:  #000000;\n",
       "        }#T_c010a_row4_col19,#T_c010a_row9_col14{\n",
       "            background-color:  #d2dbe8;\n",
       "            color:  #000000;\n",
       "        }#T_c010a_row5_col1,#T_c010a_row11_col3,#T_c010a_row12_col2{\n",
       "            background-color:  #7093f3;\n",
       "            color:  #000000;\n",
       "        }#T_c010a_row5_col2,#T_c010a_row7_col8,#T_c010a_row14_col17,#T_c010a_row20_col8{\n",
       "            background-color:  #6384eb;\n",
       "            color:  #000000;\n",
       "        }#T_c010a_row5_col4,#T_c010a_row6_col8,#T_c010a_row9_col1,#T_c010a_row9_col2,#T_c010a_row12_col4,#T_c010a_row17_col19{\n",
       "            background-color:  #6f92f3;\n",
       "            color:  #000000;\n",
       "        }#T_c010a_row5_col6{\n",
       "            background-color:  #f7a98b;\n",
       "            color:  #000000;\n",
       "        }#T_c010a_row5_col8,#T_c010a_row7_col10,#T_c010a_row11_col10,#T_c010a_row16_col13,#T_c010a_row20_col2,#T_c010a_row22_col4{\n",
       "            background-color:  #779af7;\n",
       "            color:  #000000;\n",
       "        }#T_c010a_row5_col9,#T_c010a_row9_col8,#T_c010a_row13_col11,#T_c010a_row22_col2,#T_c010a_row23_col8,#T_c010a_row23_col11{\n",
       "            background-color:  #6282ea;\n",
       "            color:  #000000;\n",
       "        }#T_c010a_row5_col10,#T_c010a_row5_col17,#T_c010a_row7_col4,#T_c010a_row22_col17{\n",
       "            background-color:  #98b9ff;\n",
       "            color:  #000000;\n",
       "        }#T_c010a_row5_col11,#T_c010a_row6_col21,#T_c010a_row9_col4,#T_c010a_row19_col3,#T_c010a_row21_col4{\n",
       "            background-color:  #85a8fc;\n",
       "            color:  #000000;\n",
       "        }#T_c010a_row5_col13,#T_c010a_row7_col19,#T_c010a_row11_col6,#T_c010a_row23_col17{\n",
       "            background-color:  #97b8ff;\n",
       "            color:  #000000;\n",
       "        }#T_c010a_row5_col14,#T_c010a_row14_col18{\n",
       "            background-color:  #bbd1f8;\n",
       "            color:  #000000;\n",
       "        }#T_c010a_row5_col15{\n",
       "            background-color:  #e6d7cf;\n",
       "            color:  #000000;\n",
       "        }#T_c010a_row5_col16,#T_c010a_row7_col5,#T_c010a_row8_col6,#T_c010a_row9_col6,#T_c010a_row12_col10,#T_c010a_row15_col8{\n",
       "            background-color:  #6e90f2;\n",
       "            color:  #000000;\n",
       "        }#T_c010a_row5_col21,#T_c010a_row6_col11,#T_c010a_row9_col5,#T_c010a_row11_col16,#T_c010a_row18_col10,#T_c010a_row22_col16{\n",
       "            background-color:  #84a7fc;\n",
       "            color:  #000000;\n",
       "        }#T_c010a_row5_col23,#T_c010a_row7_col17,#T_c010a_row8_col16,#T_c010a_row8_col17,#T_c010a_row8_col19,#T_c010a_row20_col16{\n",
       "            background-color:  #8fb1fe;\n",
       "            color:  #000000;\n",
       "        }#T_c010a_row6_col3,#T_c010a_row7_col0,#T_c010a_row8_col3,#T_c010a_row18_col9,#T_c010a_row18_col12,#T_c010a_row22_col9{\n",
       "            background-color:  #4c66d6;\n",
       "            color:  #000000;\n",
       "        }#T_c010a_row6_col5{\n",
       "            background-color:  #f6a283;\n",
       "            color:  #000000;\n",
       "        }#T_c010a_row6_col12,#T_c010a_row10_col0,#T_c010a_row20_col6,#T_c010a_row22_col8{\n",
       "            background-color:  #6788ee;\n",
       "            color:  #000000;\n",
       "        }#T_c010a_row6_col14{\n",
       "            background-color:  #c4d5f3;\n",
       "            color:  #000000;\n",
       "        }#T_c010a_row6_col15{\n",
       "            background-color:  #e0dbd8;\n",
       "            color:  #000000;\n",
       "        }#T_c010a_row6_col17,#T_c010a_row7_col16,#T_c010a_row11_col17,#T_c010a_row12_col5,#T_c010a_row22_col13{\n",
       "            background-color:  #94b6ff;\n",
       "            color:  #000000;\n",
       "        }#T_c010a_row6_col18{\n",
       "            background-color:  #a9c6fd;\n",
       "            color:  #000000;\n",
       "        }#T_c010a_row6_col19,#T_c010a_row12_col18{\n",
       "            background-color:  #adc9fd;\n",
       "            color:  #000000;\n",
       "        }#T_c010a_row6_col22,#T_c010a_row11_col22,#T_c010a_row14_col2{\n",
       "            background-color:  #b1cbfc;\n",
       "            color:  #000000;\n",
       "        }#T_c010a_row7_col3,#T_c010a_row16_col23,#T_c010a_row22_col0{\n",
       "            background-color:  #7699f6;\n",
       "            color:  #000000;\n",
       "        }#T_c010a_row7_col6,#T_c010a_row11_col12,#T_c010a_row14_col23{\n",
       "            background-color:  #5f7fe8;\n",
       "            color:  #000000;\n",
       "        }#T_c010a_row7_col14,#T_c010a_row9_col15{\n",
       "            background-color:  #d7dce3;\n",
       "            color:  #000000;\n",
       "        }#T_c010a_row7_col15,#T_c010a_row19_col10,#T_c010a_row20_col14{\n",
       "            background-color:  #d3dbe7;\n",
       "            color:  #000000;\n",
       "        }#T_c010a_row7_col18,#T_c010a_row8_col22,#T_c010a_row10_col16{\n",
       "            background-color:  #b3cdfb;\n",
       "            color:  #000000;\n",
       "        }#T_c010a_row7_col23,#T_c010a_row10_col6,#T_c010a_row19_col6,#T_c010a_row21_col19{\n",
       "            background-color:  #8badfd;\n",
       "            color:  #000000;\n",
       "        }#T_c010a_row8_col4,#T_c010a_row9_col21{\n",
       "            background-color:  #86a9fc;\n",
       "            color:  #000000;\n",
       "        }#T_c010a_row8_col5,#T_c010a_row9_col23,#T_c010a_row20_col19,#T_c010a_row21_col13{\n",
       "            background-color:  #89acfd;\n",
       "            color:  #000000;\n",
       "        }#T_c010a_row8_col14,#T_c010a_row12_col13{\n",
       "            background-color:  #cfdaea;\n",
       "            color:  #000000;\n",
       "        }#T_c010a_row8_col18,#T_c010a_row9_col18,#T_c010a_row9_col22,#T_c010a_row14_col1,#T_c010a_row20_col18,#T_c010a_row21_col18{\n",
       "            background-color:  #abc8fd;\n",
       "            color:  #000000;\n",
       "        }#T_c010a_row9_col0,#T_c010a_row13_col7,#T_c010a_row13_col20,#T_c010a_row16_col11,#T_c010a_row16_col12,#T_c010a_row17_col7,#T_c010a_row21_col7,#T_c010a_row23_col7{\n",
       "            background-color:  #4358cb;\n",
       "            color:  #f1f1f1;\n",
       "        }#T_c010a_row9_col20,#T_c010a_row15_col20,#T_c010a_row22_col7,#T_c010a_row23_col3,#T_c010a_row23_col20{\n",
       "            background-color:  #445acc;\n",
       "            color:  #f1f1f1;\n",
       "        }#T_c010a_row10_col1{\n",
       "            background-color:  #e7d7ce;\n",
       "            color:  #000000;\n",
       "        }#T_c010a_row10_col2{\n",
       "            background-color:  #f6bda2;\n",
       "            color:  #000000;\n",
       "        }#T_c010a_row10_col5{\n",
       "            background-color:  #a2c1ff;\n",
       "            color:  #000000;\n",
       "        }#T_c010a_row10_col8,#T_c010a_row13_col8,#T_c010a_row17_col3,#T_c010a_row22_col1,#T_c010a_row22_col3,#T_c010a_row23_col6{\n",
       "            background-color:  #6687ed;\n",
       "            color:  #000000;\n",
       "        }#T_c010a_row10_col19{\n",
       "            background-color:  #e1dad6;\n",
       "            color:  #000000;\n",
       "        }#T_c010a_row11_col2,#T_c010a_row18_col13,#T_c010a_row18_col17,#T_c010a_row18_col23{\n",
       "            background-color:  #7b9ff9;\n",
       "            color:  #000000;\n",
       "        }#T_c010a_row11_col5,#T_c010a_row13_col12,#T_c010a_row15_col18,#T_c010a_row16_col2,#T_c010a_row16_col22,#T_c010a_row23_col12{\n",
       "            background-color:  #a7c5fe;\n",
       "            color:  #000000;\n",
       "        }#T_c010a_row11_col13{\n",
       "            background-color:  #9dbdff;\n",
       "            color:  #000000;\n",
       "        }#T_c010a_row11_col14{\n",
       "            background-color:  #cad8ef;\n",
       "            color:  #000000;\n",
       "        }#T_c010a_row11_col15{\n",
       "            background-color:  #dcdddd;\n",
       "            color:  #000000;\n",
       "        }#T_c010a_row11_col21,#T_c010a_row13_col5,#T_c010a_row17_col21,#T_c010a_row20_col21{\n",
       "            background-color:  #82a6fb;\n",
       "            color:  #000000;\n",
       "        }#T_c010a_row11_col23,#T_c010a_row15_col5{\n",
       "            background-color:  #9bbcff;\n",
       "            color:  #000000;\n",
       "        }#T_c010a_row12_col7,#T_c010a_row14_col6,#T_c010a_row16_col0,#T_c010a_row18_col11,#T_c010a_row19_col12,#T_c010a_row20_col0{\n",
       "            background-color:  #465ecf;\n",
       "            color:  #f1f1f1;\n",
       "        }#T_c010a_row12_col14,#T_c010a_row14_col19,#T_c010a_row21_col14,#T_c010a_row21_col15{\n",
       "            background-color:  #d4dbe6;\n",
       "            color:  #000000;\n",
       "        }#T_c010a_row13_col17,#T_c010a_row16_col10,#T_c010a_row18_col3,#T_c010a_row18_col19{\n",
       "            background-color:  #96b7ff;\n",
       "            color:  #000000;\n",
       "        }#T_c010a_row13_col18,#T_c010a_row14_col3,#T_c010a_row23_col18{\n",
       "            background-color:  #a3c2fe;\n",
       "            color:  #000000;\n",
       "        }#T_c010a_row14_col7{\n",
       "            background-color:  #485fd1;\n",
       "            color:  #f1f1f1;\n",
       "        }#T_c010a_row15_col0{\n",
       "            background-color:  #3d50c3;\n",
       "            color:  #f1f1f1;\n",
       "        }#T_c010a_row16_col1,#T_c010a_row17_col18{\n",
       "            background-color:  #a1c0ff;\n",
       "            color:  #000000;\n",
       "        }#T_c010a_row16_col14{\n",
       "            background-color:  #f5c2aa;\n",
       "            color:  #000000;\n",
       "        }#T_c010a_row17_col15{\n",
       "            background-color:  #e5d8d1;\n",
       "            color:  #000000;\n",
       "        }#T_c010a_row18_col4,#T_c010a_row18_col16,#T_c010a_row19_col5{\n",
       "            background-color:  #9fbfff;\n",
       "            color:  #000000;\n",
       "        }#T_c010a_row18_col14{\n",
       "            background-color:  #dbdcde;\n",
       "            color:  #000000;\n",
       "        }#T_c010a_row19_col1{\n",
       "            background-color:  #f08b6e;\n",
       "            color:  #000000;\n",
       "        }#T_c010a_row19_col14{\n",
       "            background-color:  #f4c5ad;\n",
       "            color:  #000000;\n",
       "        }#T_c010a_row20_col22{\n",
       "            background-color:  #afcafc;\n",
       "            color:  #000000;\n",
       "        }#T_c010a_row22_col15{\n",
       "            background-color:  #dadce0;\n",
       "            color:  #000000;\n",
       "        }#T_c010a_row23_col0,#T_c010a_row23_col1,#T_c010a_row23_col2,#T_c010a_row23_col19{\n",
       "            background-color:  #3c4ec2;\n",
       "            color:  #f1f1f1;\n",
       "        }#T_c010a_row23_col15{\n",
       "            background-color:  #ecd3c5;\n",
       "            color:  #000000;\n",
       "        }</style><table id=\"T_c010a_\" ><thead>    <tr>        <th class=\"blank level0\" ></th>        <th class=\"col_heading level0 col0\" >total_images</th>        <th class=\"col_heading level0 col1\" >last_price</th>        <th class=\"col_heading level0 col2\" >total_area</th>        <th class=\"col_heading level0 col3\" >rooms</th>        <th class=\"col_heading level0 col4\" >ceiling_height</th>        <th class=\"col_heading level0 col5\" >floors_total</th>        <th class=\"col_heading level0 col6\" >floor</th>        <th class=\"col_heading level0 col7\" >is_apartment</th>        <th class=\"col_heading level0 col8\" >studio</th>        <th class=\"col_heading level0 col9\" >open_plan</th>        <th class=\"col_heading level0 col10\" >kitchen_area</th>        <th class=\"col_heading level0 col11\" >balcony</th>        <th class=\"col_heading level0 col12\" >airports_nearest</th>        <th class=\"col_heading level0 col13\" >city_centers_nearest</th>        <th class=\"col_heading level0 col14\" >parks_around_3000</th>        <th class=\"col_heading level0 col15\" >parks_nearest</th>        <th class=\"col_heading level0 col16\" >ponds_around_3000</th>        <th class=\"col_heading level0 col17\" >ponds_nearest</th>        <th class=\"col_heading level0 col18\" >days_exposition</th>        <th class=\"col_heading level0 col19\" >one_m_price</th>        <th class=\"col_heading level0 col20\" >weekday_publication</th>        <th class=\"col_heading level0 col21\" >month_publication</th>        <th class=\"col_heading level0 col22\" >year_publication</th>        <th class=\"col_heading level0 col23\" >city_centers_nearest_km</th>    </tr></thead><tbody>\n",
       "                <tr>\n",
       "                        <th id=\"T_c010a_level0_row0\" class=\"row_heading level0 row0\" >total_images</th>\n",
       "                        <td id=\"T_c010a_row0_col0\" class=\"data row0 col0\" >1.000000</td>\n",
       "                        <td id=\"T_c010a_row0_col1\" class=\"data row0 col1\" >0.104449</td>\n",
       "                        <td id=\"T_c010a_row0_col2\" class=\"data row0 col2\" >0.115352</td>\n",
       "                        <td id=\"T_c010a_row0_col3\" class=\"data row0 col3\" >0.099539</td>\n",
       "                        <td id=\"T_c010a_row0_col4\" class=\"data row0 col4\" >0.050425</td>\n",
       "                        <td id=\"T_c010a_row0_col5\" class=\"data row0 col5\" >0.014896</td>\n",
       "                        <td id=\"T_c010a_row0_col6\" class=\"data row0 col6\" >0.031340</td>\n",
       "                        <td id=\"T_c010a_row0_col7\" class=\"data row0 col7\" >0.010532</td>\n",
       "                        <td id=\"T_c010a_row0_col8\" class=\"data row0 col8\" >-0.029303</td>\n",
       "                        <td id=\"T_c010a_row0_col9\" class=\"data row0 col9\" >-0.024407</td>\n",
       "                        <td id=\"T_c010a_row0_col10\" class=\"data row0 col10\" >0.097017</td>\n",
       "                        <td id=\"T_c010a_row0_col11\" class=\"data row0 col11\" >0.048903</td>\n",
       "                        <td id=\"T_c010a_row0_col12\" class=\"data row0 col12\" >-0.002298</td>\n",
       "                        <td id=\"T_c010a_row0_col13\" class=\"data row0 col13\" >-0.053288</td>\n",
       "                        <td id=\"T_c010a_row0_col14\" class=\"data row0 col14\" >0.037085</td>\n",
       "                        <td id=\"T_c010a_row0_col15\" class=\"data row0 col15\" >-0.041067</td>\n",
       "                        <td id=\"T_c010a_row0_col16\" class=\"data row0 col16\" >-0.011553</td>\n",
       "                        <td id=\"T_c010a_row0_col17\" class=\"data row0 col17\" >-0.003034</td>\n",
       "                        <td id=\"T_c010a_row0_col18\" class=\"data row0 col18\" >-0.028904</td>\n",
       "                        <td id=\"T_c010a_row0_col19\" class=\"data row0 col19\" >0.132780</td>\n",
       "                        <td id=\"T_c010a_row0_col20\" class=\"data row0 col20\" >-0.010433</td>\n",
       "                        <td id=\"T_c010a_row0_col21\" class=\"data row0 col21\" >0.005043</td>\n",
       "                        <td id=\"T_c010a_row0_col22\" class=\"data row0 col22\" >0.140411</td>\n",
       "                        <td id=\"T_c010a_row0_col23\" class=\"data row0 col23\" >-0.047120</td>\n",
       "            </tr>\n",
       "            <tr>\n",
       "                        <th id=\"T_c010a_level0_row1\" class=\"row_heading level0 row1\" >last_price</th>\n",
       "                        <td id=\"T_c010a_row1_col0\" class=\"data row1 col0\" >0.104449</td>\n",
       "                        <td id=\"T_c010a_row1_col1\" class=\"data row1 col1\" >1.000000</td>\n",
       "                        <td id=\"T_c010a_row1_col2\" class=\"data row1 col2\" >0.653741</td>\n",
       "                        <td id=\"T_c010a_row1_col3\" class=\"data row1 col3\" >0.363261</td>\n",
       "                        <td id=\"T_c010a_row1_col4\" class=\"data row1 col4\" >0.277370</td>\n",
       "                        <td id=\"T_c010a_row1_col5\" class=\"data row1 col5\" >-0.006992</td>\n",
       "                        <td id=\"T_c010a_row1_col6\" class=\"data row1 col6\" >0.026760</td>\n",
       "                        <td id=\"T_c010a_row1_col7\" class=\"data row1 col7\" >0.026955</td>\n",
       "                        <td id=\"T_c010a_row1_col8\" class=\"data row1 col8\" >-0.025366</td>\n",
       "                        <td id=\"T_c010a_row1_col9\" class=\"data row1 col9\" >-0.008805</td>\n",
       "                        <td id=\"T_c010a_row1_col10\" class=\"data row1 col10\" >0.441694</td>\n",
       "                        <td id=\"T_c010a_row1_col11\" class=\"data row1 col11\" >0.008530</td>\n",
       "                        <td id=\"T_c010a_row1_col12\" class=\"data row1 col12\" >-0.026205</td>\n",
       "                        <td id=\"T_c010a_row1_col13\" class=\"data row1 col13\" >-0.212229</td>\n",
       "                        <td id=\"T_c010a_row1_col14\" class=\"data row1 col14\" >0.197874</td>\n",
       "                        <td id=\"T_c010a_row1_col15\" class=\"data row1 col15\" >-0.165907</td>\n",
       "                        <td id=\"T_c010a_row1_col16\" class=\"data row1 col16\" >0.159951</td>\n",
       "                        <td id=\"T_c010a_row1_col17\" class=\"data row1 col17\" >-0.084809</td>\n",
       "                        <td id=\"T_c010a_row1_col18\" class=\"data row1 col18\" >0.072793</td>\n",
       "                        <td id=\"T_c010a_row1_col19\" class=\"data row1 col19\" >0.736407</td>\n",
       "                        <td id=\"T_c010a_row1_col20\" class=\"data row1 col20\" >0.001535</td>\n",
       "                        <td id=\"T_c010a_row1_col21\" class=\"data row1 col21\" >0.002733</td>\n",
       "                        <td id=\"T_c010a_row1_col22\" class=\"data row1 col22\" >-0.043015</td>\n",
       "                        <td id=\"T_c010a_row1_col23\" class=\"data row1 col23\" >-0.207030</td>\n",
       "            </tr>\n",
       "            <tr>\n",
       "                        <th id=\"T_c010a_level0_row2\" class=\"row_heading level0 row2\" >total_area</th>\n",
       "                        <td id=\"T_c010a_row2_col0\" class=\"data row2 col0\" >0.115352</td>\n",
       "                        <td id=\"T_c010a_row2_col1\" class=\"data row2 col1\" >0.653741</td>\n",
       "                        <td id=\"T_c010a_row2_col2\" class=\"data row2 col2\" >1.000000</td>\n",
       "                        <td id=\"T_c010a_row2_col3\" class=\"data row2 col3\" >0.758267</td>\n",
       "                        <td id=\"T_c010a_row2_col4\" class=\"data row2 col4\" >0.389680</td>\n",
       "                        <td id=\"T_c010a_row2_col5\" class=\"data row2 col5\" >-0.075629</td>\n",
       "                        <td id=\"T_c010a_row2_col6\" class=\"data row2 col6\" >-0.024754</td>\n",
       "                        <td id=\"T_c010a_row2_col7\" class=\"data row2 col7\" >0.029633</td>\n",
       "                        <td id=\"T_c010a_row2_col8\" class=\"data row2 col8\" >-0.072653</td>\n",
       "                        <td id=\"T_c010a_row2_col9\" class=\"data row2 col9\" >-0.034885</td>\n",
       "                        <td id=\"T_c010a_row2_col10\" class=\"data row2 col10\" >0.568073</td>\n",
       "                        <td id=\"T_c010a_row2_col11\" class=\"data row2 col11\" >0.009941</td>\n",
       "                        <td id=\"T_c010a_row2_col12\" class=\"data row2 col12\" >-0.030753</td>\n",
       "                        <td id=\"T_c010a_row2_col13\" class=\"data row2 col13\" >-0.239633</td>\n",
       "                        <td id=\"T_c010a_row2_col14\" class=\"data row2 col14\" >0.200211</td>\n",
       "                        <td id=\"T_c010a_row2_col15\" class=\"data row2 col15\" >-0.170807</td>\n",
       "                        <td id=\"T_c010a_row2_col16\" class=\"data row2 col16\" >0.162346</td>\n",
       "                        <td id=\"T_c010a_row2_col17\" class=\"data row2 col17\" >-0.097969</td>\n",
       "                        <td id=\"T_c010a_row2_col18\" class=\"data row2 col18\" >0.128996</td>\n",
       "                        <td id=\"T_c010a_row2_col19\" class=\"data row2 col19\" >0.301960</td>\n",
       "                        <td id=\"T_c010a_row2_col20\" class=\"data row2 col20\" >-0.004695</td>\n",
       "                        <td id=\"T_c010a_row2_col21\" class=\"data row2 col21\" >0.004920</td>\n",
       "                        <td id=\"T_c010a_row2_col22\" class=\"data row2 col22\" >-0.079912</td>\n",
       "                        <td id=\"T_c010a_row2_col23\" class=\"data row2 col23\" >-0.231255</td>\n",
       "            </tr>\n",
       "            <tr>\n",
       "                        <th id=\"T_c010a_level0_row3\" class=\"row_heading level0 row3\" >rooms</th>\n",
       "                        <td id=\"T_c010a_row3_col0\" class=\"data row3 col0\" >0.099539</td>\n",
       "                        <td id=\"T_c010a_row3_col1\" class=\"data row3 col1\" >0.363261</td>\n",
       "                        <td id=\"T_c010a_row3_col2\" class=\"data row3 col2\" >0.758267</td>\n",
       "                        <td id=\"T_c010a_row3_col3\" class=\"data row3 col3\" >1.000000</td>\n",
       "                        <td id=\"T_c010a_row3_col4\" class=\"data row3 col4\" >0.248580</td>\n",
       "                        <td id=\"T_c010a_row3_col5\" class=\"data row3 col5\" >-0.226148</td>\n",
       "                        <td id=\"T_c010a_row3_col6\" class=\"data row3 col6\" >-0.150994</td>\n",
       "                        <td id=\"T_c010a_row3_col7\" class=\"data row3 col7\" >0.000419</td>\n",
       "                        <td id=\"T_c010a_row3_col8\" class=\"data row3 col8\" >-0.152602</td>\n",
       "                        <td id=\"T_c010a_row3_col9\" class=\"data row3 col9\" >-0.087423</td>\n",
       "                        <td id=\"T_c010a_row3_col10\" class=\"data row3 col10\" >0.251079</td>\n",
       "                        <td id=\"T_c010a_row3_col11\" class=\"data row3 col11\" >-0.015815</td>\n",
       "                        <td id=\"T_c010a_row3_col12\" class=\"data row3 col12\" >-0.061304</td>\n",
       "                        <td id=\"T_c010a_row3_col13\" class=\"data row3 col13\" >-0.197521</td>\n",
       "                        <td id=\"T_c010a_row3_col14\" class=\"data row3 col14\" >0.157562</td>\n",
       "                        <td id=\"T_c010a_row3_col15\" class=\"data row3 col15\" >-0.141627</td>\n",
       "                        <td id=\"T_c010a_row3_col16\" class=\"data row3 col16\" >0.092652</td>\n",
       "                        <td id=\"T_c010a_row3_col17\" class=\"data row3 col17\" >-0.057642</td>\n",
       "                        <td id=\"T_c010a_row3_col18\" class=\"data row3 col18\" >0.111473</td>\n",
       "                        <td id=\"T_c010a_row3_col19\" class=\"data row3 col19\" >0.055371</td>\n",
       "                        <td id=\"T_c010a_row3_col20\" class=\"data row3 col20\" >-0.004060</td>\n",
       "                        <td id=\"T_c010a_row3_col21\" class=\"data row3 col21\" >-0.004305</td>\n",
       "                        <td id=\"T_c010a_row3_col22\" class=\"data row3 col22\" >-0.054781</td>\n",
       "                        <td id=\"T_c010a_row3_col23\" class=\"data row3 col23\" >-0.184297</td>\n",
       "            </tr>\n",
       "            <tr>\n",
       "                        <th id=\"T_c010a_level0_row4\" class=\"row_heading level0 row4\" >ceiling_height</th>\n",
       "                        <td id=\"T_c010a_row4_col0\" class=\"data row4 col0\" >0.050425</td>\n",
       "                        <td id=\"T_c010a_row4_col1\" class=\"data row4 col1\" >0.277370</td>\n",
       "                        <td id=\"T_c010a_row4_col2\" class=\"data row4 col2\" >0.389680</td>\n",
       "                        <td id=\"T_c010a_row4_col3\" class=\"data row4 col3\" >0.248580</td>\n",
       "                        <td id=\"T_c010a_row4_col4\" class=\"data row4 col4\" >1.000000</td>\n",
       "                        <td id=\"T_c010a_row4_col5\" class=\"data row4 col5\" >-0.084568</td>\n",
       "                        <td id=\"T_c010a_row4_col6\" class=\"data row4 col6\" >-0.047942</td>\n",
       "                        <td id=\"T_c010a_row4_col7\" class=\"data row4 col7\" >0.068149</td>\n",
       "                        <td id=\"T_c010a_row4_col8\" class=\"data row4 col8\" >0.003667</td>\n",
       "                        <td id=\"T_c010a_row4_col9\" class=\"data row4 col9\" >-0.001902</td>\n",
       "                        <td id=\"T_c010a_row4_col10\" class=\"data row4 col10\" >0.319910</td>\n",
       "                        <td id=\"T_c010a_row4_col11\" class=\"data row4 col11\" >-0.042965</td>\n",
       "                        <td id=\"T_c010a_row4_col12\" class=\"data row4 col12\" >-0.082013</td>\n",
       "                        <td id=\"T_c010a_row4_col13\" class=\"data row4 col13\" >-0.298367</td>\n",
       "                        <td id=\"T_c010a_row4_col14\" class=\"data row4 col14\" >0.246898</td>\n",
       "                        <td id=\"T_c010a_row4_col15\" class=\"data row4 col15\" >-0.208373</td>\n",
       "                        <td id=\"T_c010a_row4_col16\" class=\"data row4 col16\" >0.190878</td>\n",
       "                        <td id=\"T_c010a_row4_col17\" class=\"data row4 col17\" >-0.109466</td>\n",
       "                        <td id=\"T_c010a_row4_col18\" class=\"data row4 col18\" >0.097047</td>\n",
       "                        <td id=\"T_c010a_row4_col19\" class=\"data row4 col19\" >0.282665</td>\n",
       "                        <td id=\"T_c010a_row4_col20\" class=\"data row4 col20\" >-0.024850</td>\n",
       "                        <td id=\"T_c010a_row4_col21\" class=\"data row4 col21\" >-0.001333</td>\n",
       "                        <td id=\"T_c010a_row4_col22\" class=\"data row4 col22\" >-0.052138</td>\n",
       "                        <td id=\"T_c010a_row4_col23\" class=\"data row4 col23\" >-0.298235</td>\n",
       "            </tr>\n",
       "            <tr>\n",
       "                        <th id=\"T_c010a_level0_row5\" class=\"row_heading level0 row5\" >floors_total</th>\n",
       "                        <td id=\"T_c010a_row5_col0\" class=\"data row5 col0\" >0.014896</td>\n",
       "                        <td id=\"T_c010a_row5_col1\" class=\"data row5 col1\" >-0.006992</td>\n",
       "                        <td id=\"T_c010a_row5_col2\" class=\"data row5 col2\" >-0.075629</td>\n",
       "                        <td id=\"T_c010a_row5_col3\" class=\"data row5 col3\" >-0.226148</td>\n",
       "                        <td id=\"T_c010a_row5_col4\" class=\"data row5 col4\" >-0.084568</td>\n",
       "                        <td id=\"T_c010a_row5_col5\" class=\"data row5 col5\" >1.000000</td>\n",
       "                        <td id=\"T_c010a_row5_col6\" class=\"data row5 col6\" >0.667070</td>\n",
       "                        <td id=\"T_c010a_row5_col7\" class=\"data row5 col7\" >-0.025958</td>\n",
       "                        <td id=\"T_c010a_row5_col8\" class=\"data row5 col8\" >0.066999</td>\n",
       "                        <td id=\"T_c010a_row5_col9\" class=\"data row5 col9\" >0.050863</td>\n",
       "                        <td id=\"T_c010a_row5_col10\" class=\"data row5 col10\" >0.152825</td>\n",
       "                        <td id=\"T_c010a_row5_col11\" class=\"data row5 col11\" >0.175188</td>\n",
       "                        <td id=\"T_c010a_row5_col12\" class=\"data row5 col12\" >0.106608</td>\n",
       "                        <td id=\"T_c010a_row5_col13\" class=\"data row5 col13\" >0.046627</td>\n",
       "                        <td id=\"T_c010a_row5_col14\" class=\"data row5 col14\" >-0.158245</td>\n",
       "                        <td id=\"T_c010a_row5_col15\" class=\"data row5 col15\" >0.130362</td>\n",
       "                        <td id=\"T_c010a_row5_col16\" class=\"data row5 col16\" >-0.122079</td>\n",
       "                        <td id=\"T_c010a_row5_col17\" class=\"data row5 col17\" >0.039854</td>\n",
       "                        <td id=\"T_c010a_row5_col18\" class=\"data row5 col18\" >-0.045957</td>\n",
       "                        <td id=\"T_c010a_row5_col19\" class=\"data row5 col19\" >0.146509</td>\n",
       "                        <td id=\"T_c010a_row5_col20\" class=\"data row5 col20\" >0.011918</td>\n",
       "                        <td id=\"T_c010a_row5_col21\" class=\"data row5 col21\" >0.016538</td>\n",
       "                        <td id=\"T_c010a_row5_col22\" class=\"data row5 col22\" >0.009269</td>\n",
       "                        <td id=\"T_c010a_row5_col23\" class=\"data row5 col23\" >0.017722</td>\n",
       "            </tr>\n",
       "            <tr>\n",
       "                        <th id=\"T_c010a_level0_row6\" class=\"row_heading level0 row6\" >floor</th>\n",
       "                        <td id=\"T_c010a_row6_col0\" class=\"data row6 col0\" >0.031340</td>\n",
       "                        <td id=\"T_c010a_row6_col1\" class=\"data row6 col1\" >0.026760</td>\n",
       "                        <td id=\"T_c010a_row6_col2\" class=\"data row6 col2\" >-0.024754</td>\n",
       "                        <td id=\"T_c010a_row6_col3\" class=\"data row6 col3\" >-0.150994</td>\n",
       "                        <td id=\"T_c010a_row6_col4\" class=\"data row6 col4\" >-0.047942</td>\n",
       "                        <td id=\"T_c010a_row6_col5\" class=\"data row6 col5\" >0.667070</td>\n",
       "                        <td id=\"T_c010a_row6_col6\" class=\"data row6 col6\" >1.000000</td>\n",
       "                        <td id=\"T_c010a_row6_col7\" class=\"data row6 col7\" >-0.013294</td>\n",
       "                        <td id=\"T_c010a_row6_col8\" class=\"data row6 col8\" >0.036940</td>\n",
       "                        <td id=\"T_c010a_row6_col9\" class=\"data row6 col9\" >0.035824</td>\n",
       "                        <td id=\"T_c010a_row6_col10\" class=\"data row6 col10\" >0.127991</td>\n",
       "                        <td id=\"T_c010a_row6_col11\" class=\"data row6 col11\" >0.168567</td>\n",
       "                        <td id=\"T_c010a_row6_col12\" class=\"data row6 col12\" >0.071597</td>\n",
       "                        <td id=\"T_c010a_row6_col13\" class=\"data row6 col13\" >0.030864</td>\n",
       "                        <td id=\"T_c010a_row6_col14\" class=\"data row6 col14\" >-0.105212</td>\n",
       "                        <td id=\"T_c010a_row6_col15\" class=\"data row6 col15\" >0.088400</td>\n",
       "                        <td id=\"T_c010a_row6_col16\" class=\"data row6 col16\" >-0.076312</td>\n",
       "                        <td id=\"T_c010a_row6_col17\" class=\"data row6 col17\" >0.024850</td>\n",
       "                        <td id=\"T_c010a_row6_col18\" class=\"data row6 col18\" >-0.035254</td>\n",
       "                        <td id=\"T_c010a_row6_col19\" class=\"data row6 col19\" >0.129068</td>\n",
       "                        <td id=\"T_c010a_row6_col20\" class=\"data row6 col20\" >0.012347</td>\n",
       "                        <td id=\"T_c010a_row6_col21\" class=\"data row6 col21\" >0.019387</td>\n",
       "                        <td id=\"T_c010a_row6_col22\" class=\"data row6 col22\" >0.004915</td>\n",
       "                        <td id=\"T_c010a_row6_col23\" class=\"data row6 col23\" >0.008574</td>\n",
       "            </tr>\n",
       "            <tr>\n",
       "                        <th id=\"T_c010a_level0_row7\" class=\"row_heading level0 row7\" >is_apartment</th>\n",
       "                        <td id=\"T_c010a_row7_col0\" class=\"data row7 col0\" >0.010532</td>\n",
       "                        <td id=\"T_c010a_row7_col1\" class=\"data row7 col1\" >0.026955</td>\n",
       "                        <td id=\"T_c010a_row7_col2\" class=\"data row7 col2\" >0.029633</td>\n",
       "                        <td id=\"T_c010a_row7_col3\" class=\"data row7 col3\" >0.000419</td>\n",
       "                        <td id=\"T_c010a_row7_col4\" class=\"data row7 col4\" >0.068149</td>\n",
       "                        <td id=\"T_c010a_row7_col5\" class=\"data row7 col5\" >-0.025958</td>\n",
       "                        <td id=\"T_c010a_row7_col6\" class=\"data row7 col6\" >-0.013294</td>\n",
       "                        <td id=\"T_c010a_row7_col7\" class=\"data row7 col7\" >1.000000</td>\n",
       "                        <td id=\"T_c010a_row7_col8\" class=\"data row7 col8\" >-0.003657</td>\n",
       "                        <td id=\"T_c010a_row7_col9\" class=\"data row7 col9\" >-0.002448</td>\n",
       "                        <td id=\"T_c010a_row7_col10\" class=\"data row7 col10\" >0.041742</td>\n",
       "                        <td id=\"T_c010a_row7_col11\" class=\"data row7 col11\" >0.033022</td>\n",
       "                        <td id=\"T_c010a_row7_col12\" class=\"data row7 col12\" >0.016470</td>\n",
       "                        <td id=\"T_c010a_row7_col13\" class=\"data row7 col13\" >0.004758</td>\n",
       "                        <td id=\"T_c010a_row7_col14\" class=\"data row7 col14\" >0.021559</td>\n",
       "                        <td id=\"T_c010a_row7_col15\" class=\"data row7 col15\" >-0.006997</td>\n",
       "                        <td id=\"T_c010a_row7_col16\" class=\"data row7 col16\" >0.023989</td>\n",
       "                        <td id=\"T_c010a_row7_col17\" class=\"data row7 col17\" >0.003357</td>\n",
       "                        <td id=\"T_c010a_row7_col18\" class=\"data row7 col18\" >0.012753</td>\n",
       "                        <td id=\"T_c010a_row7_col19\" class=\"data row7 col19\" >0.044725</td>\n",
       "                        <td id=\"T_c010a_row7_col20\" class=\"data row7 col20\" >-0.009492</td>\n",
       "                        <td id=\"T_c010a_row7_col21\" class=\"data row7 col21\" >0.002369</td>\n",
       "                        <td id=\"T_c010a_row7_col22\" class=\"data row7 col22\" >0.009413</td>\n",
       "                        <td id=\"T_c010a_row7_col23\" class=\"data row7 col23\" >0.003555</td>\n",
       "            </tr>\n",
       "            <tr>\n",
       "                        <th id=\"T_c010a_level0_row8\" class=\"row_heading level0 row8\" >studio</th>\n",
       "                        <td id=\"T_c010a_row8_col0\" class=\"data row8 col0\" >-0.029303</td>\n",
       "                        <td id=\"T_c010a_row8_col1\" class=\"data row8 col1\" >-0.025366</td>\n",
       "                        <td id=\"T_c010a_row8_col2\" class=\"data row8 col2\" >-0.072653</td>\n",
       "                        <td id=\"T_c010a_row8_col3\" class=\"data row8 col3\" >-0.152602</td>\n",
       "                        <td id=\"T_c010a_row8_col4\" class=\"data row8 col4\" >0.003667</td>\n",
       "                        <td id=\"T_c010a_row8_col5\" class=\"data row8 col5\" >0.066999</td>\n",
       "                        <td id=\"T_c010a_row8_col6\" class=\"data row8 col6\" >0.036940</td>\n",
       "                        <td id=\"T_c010a_row8_col7\" class=\"data row8 col7\" >-0.003657</td>\n",
       "                        <td id=\"T_c010a_row8_col8\" class=\"data row8 col8\" >1.000000</td>\n",
       "                        <td id=\"T_c010a_row8_col9\" class=\"data row8 col9\" >-0.004235</td>\n",
       "                        <td id=\"T_c010a_row8_col10\" class=\"data row8 col10\" >0.005508</td>\n",
       "                        <td id=\"T_c010a_row8_col11\" class=\"data row8 col11\" >0.028899</td>\n",
       "                        <td id=\"T_c010a_row8_col12\" class=\"data row8 col12\" >-0.021876</td>\n",
       "                        <td id=\"T_c010a_row8_col13\" class=\"data row8 col13\" >0.005170</td>\n",
       "                        <td id=\"T_c010a_row8_col14\" class=\"data row8 col14\" >-0.032014</td>\n",
       "                        <td id=\"T_c010a_row8_col15\" class=\"data row8 col15\" >0.033676</td>\n",
       "                        <td id=\"T_c010a_row8_col16\" class=\"data row8 col16\" >0.000939</td>\n",
       "                        <td id=\"T_c010a_row8_col17\" class=\"data row8 col17\" >0.002606</td>\n",
       "                        <td id=\"T_c010a_row8_col18\" class=\"data row8 col18\" >-0.021017</td>\n",
       "                        <td id=\"T_c010a_row8_col19\" class=\"data row8 col19\" >0.015636</td>\n",
       "                        <td id=\"T_c010a_row8_col20\" class=\"data row8 col20\" >-0.000843</td>\n",
       "                        <td id=\"T_c010a_row8_col21\" class=\"data row8 col21\" >0.000976</td>\n",
       "                        <td id=\"T_c010a_row8_col22\" class=\"data row8 col22\" >0.011961</td>\n",
       "                        <td id=\"T_c010a_row8_col23\" class=\"data row8 col23\" >-0.007468</td>\n",
       "            </tr>\n",
       "            <tr>\n",
       "                        <th id=\"T_c010a_level0_row9\" class=\"row_heading level0 row9\" >open_plan</th>\n",
       "                        <td id=\"T_c010a_row9_col0\" class=\"data row9 col0\" >-0.024407</td>\n",
       "                        <td id=\"T_c010a_row9_col1\" class=\"data row9 col1\" >-0.008805</td>\n",
       "                        <td id=\"T_c010a_row9_col2\" class=\"data row9 col2\" >-0.034885</td>\n",
       "                        <td id=\"T_c010a_row9_col3\" class=\"data row9 col3\" >-0.087423</td>\n",
       "                        <td id=\"T_c010a_row9_col4\" class=\"data row9 col4\" >-0.001902</td>\n",
       "                        <td id=\"T_c010a_row9_col5\" class=\"data row9 col5\" >0.050863</td>\n",
       "                        <td id=\"T_c010a_row9_col6\" class=\"data row9 col6\" >0.035824</td>\n",
       "                        <td id=\"T_c010a_row9_col7\" class=\"data row9 col7\" >-0.002448</td>\n",
       "                        <td id=\"T_c010a_row9_col8\" class=\"data row9 col8\" >-0.004235</td>\n",
       "                        <td id=\"T_c010a_row9_col9\" class=\"data row9 col9\" >1.000000</td>\n",
       "                        <td id=\"T_c010a_row9_col10\" class=\"data row9 col10\" >0.003687</td>\n",
       "                        <td id=\"T_c010a_row9_col11\" class=\"data row9 col11\" >0.032639</td>\n",
       "                        <td id=\"T_c010a_row9_col12\" class=\"data row9 col12\" >-0.013583</td>\n",
       "                        <td id=\"T_c010a_row9_col13\" class=\"data row9 col13\" >0.001684</td>\n",
       "                        <td id=\"T_c010a_row9_col14\" class=\"data row9 col14\" >-0.016378</td>\n",
       "                        <td id=\"T_c010a_row9_col15\" class=\"data row9 col15\" >0.020282</td>\n",
       "                        <td id=\"T_c010a_row9_col16\" class=\"data row9 col16\" >0.008455</td>\n",
       "                        <td id=\"T_c010a_row9_col17\" class=\"data row9 col17\" >-0.003328</td>\n",
       "                        <td id=\"T_c010a_row9_col18\" class=\"data row9 col18\" >-0.023289</td>\n",
       "                        <td id=\"T_c010a_row9_col19\" class=\"data row9 col19\" >0.008266</td>\n",
       "                        <td id=\"T_c010a_row9_col20\" class=\"data row9 col20\" >0.011042</td>\n",
       "                        <td id=\"T_c010a_row9_col21\" class=\"data row9 col21\" >0.025765</td>\n",
       "                        <td id=\"T_c010a_row9_col22\" class=\"data row9 col22\" >-0.021095</td>\n",
       "                        <td id=\"T_c010a_row9_col23\" class=\"data row9 col23\" >-0.003802</td>\n",
       "            </tr>\n",
       "            <tr>\n",
       "                        <th id=\"T_c010a_level0_row10\" class=\"row_heading level0 row10\" >kitchen_area</th>\n",
       "                        <td id=\"T_c010a_row10_col0\" class=\"data row10 col0\" >0.097017</td>\n",
       "                        <td id=\"T_c010a_row10_col1\" class=\"data row10 col1\" >0.441694</td>\n",
       "                        <td id=\"T_c010a_row10_col2\" class=\"data row10 col2\" >0.568073</td>\n",
       "                        <td id=\"T_c010a_row10_col3\" class=\"data row10 col3\" >0.251079</td>\n",
       "                        <td id=\"T_c010a_row10_col4\" class=\"data row10 col4\" >0.319910</td>\n",
       "                        <td id=\"T_c010a_row10_col5\" class=\"data row10 col5\" >0.152825</td>\n",
       "                        <td id=\"T_c010a_row10_col6\" class=\"data row10 col6\" >0.127991</td>\n",
       "                        <td id=\"T_c010a_row10_col7\" class=\"data row10 col7\" >0.041742</td>\n",
       "                        <td id=\"T_c010a_row10_col8\" class=\"data row10 col8\" >0.005508</td>\n",
       "                        <td id=\"T_c010a_row10_col9\" class=\"data row10 col9\" >0.003687</td>\n",
       "                        <td id=\"T_c010a_row10_col10\" class=\"data row10 col10\" >1.000000</td>\n",
       "                        <td id=\"T_c010a_row10_col11\" class=\"data row10 col11\" >0.041434</td>\n",
       "                        <td id=\"T_c010a_row10_col12\" class=\"data row10 col12\" >0.007830</td>\n",
       "                        <td id=\"T_c010a_row10_col13\" class=\"data row10 col13\" >-0.179296</td>\n",
       "                        <td id=\"T_c010a_row10_col14\" class=\"data row10 col14\" >0.112443</td>\n",
       "                        <td id=\"T_c010a_row10_col15\" class=\"data row10 col15\" >-0.093421</td>\n",
       "                        <td id=\"T_c010a_row10_col16\" class=\"data row10 col16\" >0.143909</td>\n",
       "                        <td id=\"T_c010a_row10_col17\" class=\"data row10 col17\" >-0.099964</td>\n",
       "                        <td id=\"T_c010a_row10_col18\" class=\"data row10 col18\" >0.082285</td>\n",
       "                        <td id=\"T_c010a_row10_col19\" class=\"data row10 col19\" >0.362633</td>\n",
       "                        <td id=\"T_c010a_row10_col20\" class=\"data row10 col20\" >-0.007296</td>\n",
       "                        <td id=\"T_c010a_row10_col21\" class=\"data row10 col21\" >0.002024</td>\n",
       "                        <td id=\"T_c010a_row10_col22\" class=\"data row10 col22\" >-0.051881</td>\n",
       "                        <td id=\"T_c010a_row10_col23\" class=\"data row10 col23\" >-0.183002</td>\n",
       "            </tr>\n",
       "            <tr>\n",
       "                        <th id=\"T_c010a_level0_row11\" class=\"row_heading level0 row11\" >balcony</th>\n",
       "                        <td id=\"T_c010a_row11_col0\" class=\"data row11 col0\" >0.048903</td>\n",
       "                        <td id=\"T_c010a_row11_col1\" class=\"data row11 col1\" >0.008530</td>\n",
       "                        <td id=\"T_c010a_row11_col2\" class=\"data row11 col2\" >0.009941</td>\n",
       "                        <td id=\"T_c010a_row11_col3\" class=\"data row11 col3\" >-0.015815</td>\n",
       "                        <td id=\"T_c010a_row11_col4\" class=\"data row11 col4\" >-0.042965</td>\n",
       "                        <td id=\"T_c010a_row11_col5\" class=\"data row11 col5\" >0.175188</td>\n",
       "                        <td id=\"T_c010a_row11_col6\" class=\"data row11 col6\" >0.168567</td>\n",
       "                        <td id=\"T_c010a_row11_col7\" class=\"data row11 col7\" >0.033022</td>\n",
       "                        <td id=\"T_c010a_row11_col8\" class=\"data row11 col8\" >0.028899</td>\n",
       "                        <td id=\"T_c010a_row11_col9\" class=\"data row11 col9\" >0.032639</td>\n",
       "                        <td id=\"T_c010a_row11_col10\" class=\"data row11 col10\" >0.041434</td>\n",
       "                        <td id=\"T_c010a_row11_col11\" class=\"data row11 col11\" >1.000000</td>\n",
       "                        <td id=\"T_c010a_row11_col12\" class=\"data row11 col12\" >0.048984</td>\n",
       "                        <td id=\"T_c010a_row11_col13\" class=\"data row11 col13\" >0.067215</td>\n",
       "                        <td id=\"T_c010a_row11_col14\" class=\"data row11 col14\" >-0.069781</td>\n",
       "                        <td id=\"T_c010a_row11_col15\" class=\"data row11 col15\" >0.053351</td>\n",
       "                        <td id=\"T_c010a_row11_col16\" class=\"data row11 col16\" >-0.039604</td>\n",
       "                        <td id=\"T_c010a_row11_col17\" class=\"data row11 col17\" >0.020077</td>\n",
       "                        <td id=\"T_c010a_row11_col18\" class=\"data row11 col18\" >-0.025547</td>\n",
       "                        <td id=\"T_c010a_row11_col19\" class=\"data row11 col19\" >0.023376</td>\n",
       "                        <td id=\"T_c010a_row11_col20\" class=\"data row11 col20\" >-0.001496</td>\n",
       "                        <td id=\"T_c010a_row11_col21\" class=\"data row11 col21\" >0.009340</td>\n",
       "                        <td id=\"T_c010a_row11_col22\" class=\"data row11 col22\" >0.004570</td>\n",
       "                        <td id=\"T_c010a_row11_col23\" class=\"data row11 col23\" >0.065277</td>\n",
       "            </tr>\n",
       "            <tr>\n",
       "                        <th id=\"T_c010a_level0_row12\" class=\"row_heading level0 row12\" >airports_nearest</th>\n",
       "                        <td id=\"T_c010a_row12_col0\" class=\"data row12 col0\" >-0.002298</td>\n",
       "                        <td id=\"T_c010a_row12_col1\" class=\"data row12 col1\" >-0.026205</td>\n",
       "                        <td id=\"T_c010a_row12_col2\" class=\"data row12 col2\" >-0.030753</td>\n",
       "                        <td id=\"T_c010a_row12_col3\" class=\"data row12 col3\" >-0.061304</td>\n",
       "                        <td id=\"T_c010a_row12_col4\" class=\"data row12 col4\" >-0.082013</td>\n",
       "                        <td id=\"T_c010a_row12_col5\" class=\"data row12 col5\" >0.106608</td>\n",
       "                        <td id=\"T_c010a_row12_col6\" class=\"data row12 col6\" >0.071597</td>\n",
       "                        <td id=\"T_c010a_row12_col7\" class=\"data row12 col7\" >0.016470</td>\n",
       "                        <td id=\"T_c010a_row12_col8\" class=\"data row12 col8\" >-0.021876</td>\n",
       "                        <td id=\"T_c010a_row12_col9\" class=\"data row12 col9\" >-0.013583</td>\n",
       "                        <td id=\"T_c010a_row12_col10\" class=\"data row12 col10\" >0.007830</td>\n",
       "                        <td id=\"T_c010a_row12_col11\" class=\"data row12 col11\" >0.048984</td>\n",
       "                        <td id=\"T_c010a_row12_col12\" class=\"data row12 col12\" >1.000000</td>\n",
       "                        <td id=\"T_c010a_row12_col13\" class=\"data row12 col13\" >0.272065</td>\n",
       "                        <td id=\"T_c010a_row12_col14\" class=\"data row12 col14\" >0.000759</td>\n",
       "                        <td id=\"T_c010a_row12_col15\" class=\"data row12 col15\" >0.010087</td>\n",
       "                        <td id=\"T_c010a_row12_col16\" class=\"data row12 col16\" >-0.049583</td>\n",
       "                        <td id=\"T_c010a_row12_col17\" class=\"data row12 col17\" >0.014049</td>\n",
       "                        <td id=\"T_c010a_row12_col18\" class=\"data row12 col18\" >-0.016777</td>\n",
       "                        <td id=\"T_c010a_row12_col19\" class=\"data row12 col19\" >-0.038734</td>\n",
       "                        <td id=\"T_c010a_row12_col20\" class=\"data row12 col20\" >0.001361</td>\n",
       "                        <td id=\"T_c010a_row12_col21\" class=\"data row12 col21\" >0.006555</td>\n",
       "                        <td id=\"T_c010a_row12_col22\" class=\"data row12 col22\" >0.008969</td>\n",
       "                        <td id=\"T_c010a_row12_col23\" class=\"data row12 col23\" >0.272642</td>\n",
       "            </tr>\n",
       "            <tr>\n",
       "                        <th id=\"T_c010a_level0_row13\" class=\"row_heading level0 row13\" >city_centers_nearest</th>\n",
       "                        <td id=\"T_c010a_row13_col0\" class=\"data row13 col0\" >-0.053288</td>\n",
       "                        <td id=\"T_c010a_row13_col1\" class=\"data row13 col1\" >-0.212229</td>\n",
       "                        <td id=\"T_c010a_row13_col2\" class=\"data row13 col2\" >-0.239633</td>\n",
       "                        <td id=\"T_c010a_row13_col3\" class=\"data row13 col3\" >-0.197521</td>\n",
       "                        <td id=\"T_c010a_row13_col4\" class=\"data row13 col4\" >-0.298367</td>\n",
       "                        <td id=\"T_c010a_row13_col5\" class=\"data row13 col5\" >0.046627</td>\n",
       "                        <td id=\"T_c010a_row13_col6\" class=\"data row13 col6\" >0.030864</td>\n",
       "                        <td id=\"T_c010a_row13_col7\" class=\"data row13 col7\" >0.004758</td>\n",
       "                        <td id=\"T_c010a_row13_col8\" class=\"data row13 col8\" >0.005170</td>\n",
       "                        <td id=\"T_c010a_row13_col9\" class=\"data row13 col9\" >0.001684</td>\n",
       "                        <td id=\"T_c010a_row13_col10\" class=\"data row13 col10\" >-0.179296</td>\n",
       "                        <td id=\"T_c010a_row13_col11\" class=\"data row13 col11\" >0.067215</td>\n",
       "                        <td id=\"T_c010a_row13_col12\" class=\"data row13 col12\" >0.272065</td>\n",
       "                        <td id=\"T_c010a_row13_col13\" class=\"data row13 col13\" >1.000000</td>\n",
       "                        <td id=\"T_c010a_row13_col14\" class=\"data row13 col14\" >-0.179081</td>\n",
       "                        <td id=\"T_c010a_row13_col15\" class=\"data row13 col15\" >0.199936</td>\n",
       "                        <td id=\"T_c010a_row13_col16\" class=\"data row13 col16\" >-0.074642</td>\n",
       "                        <td id=\"T_c010a_row13_col17\" class=\"data row13 col17\" >0.028903</td>\n",
       "                        <td id=\"T_c010a_row13_col18\" class=\"data row13 col18\" >-0.058736</td>\n",
       "                        <td id=\"T_c010a_row13_col19\" class=\"data row13 col19\" >-0.325824</td>\n",
       "                        <td id=\"T_c010a_row13_col20\" class=\"data row13 col20\" >0.006619</td>\n",
       "                        <td id=\"T_c010a_row13_col21\" class=\"data row13 col21\" >-0.006218</td>\n",
       "                        <td id=\"T_c010a_row13_col22\" class=\"data row13 col22\" >0.033660</td>\n",
       "                        <td id=\"T_c010a_row13_col23\" class=\"data row13 col23\" >0.999452</td>\n",
       "            </tr>\n",
       "            <tr>\n",
       "                        <th id=\"T_c010a_level0_row14\" class=\"row_heading level0 row14\" >parks_around_3000</th>\n",
       "                        <td id=\"T_c010a_row14_col0\" class=\"data row14 col0\" >0.037085</td>\n",
       "                        <td id=\"T_c010a_row14_col1\" class=\"data row14 col1\" >0.197874</td>\n",
       "                        <td id=\"T_c010a_row14_col2\" class=\"data row14 col2\" >0.200211</td>\n",
       "                        <td id=\"T_c010a_row14_col3\" class=\"data row14 col3\" >0.157562</td>\n",
       "                        <td id=\"T_c010a_row14_col4\" class=\"data row14 col4\" >0.246898</td>\n",
       "                        <td id=\"T_c010a_row14_col5\" class=\"data row14 col5\" >-0.158245</td>\n",
       "                        <td id=\"T_c010a_row14_col6\" class=\"data row14 col6\" >-0.105212</td>\n",
       "                        <td id=\"T_c010a_row14_col7\" class=\"data row14 col7\" >0.021559</td>\n",
       "                        <td id=\"T_c010a_row14_col8\" class=\"data row14 col8\" >-0.032014</td>\n",
       "                        <td id=\"T_c010a_row14_col9\" class=\"data row14 col9\" >-0.016378</td>\n",
       "                        <td id=\"T_c010a_row14_col10\" class=\"data row14 col10\" >0.112443</td>\n",
       "                        <td id=\"T_c010a_row14_col11\" class=\"data row14 col11\" >-0.069781</td>\n",
       "                        <td id=\"T_c010a_row14_col12\" class=\"data row14 col12\" >0.000759</td>\n",
       "                        <td id=\"T_c010a_row14_col13\" class=\"data row14 col13\" >-0.179081</td>\n",
       "                        <td id=\"T_c010a_row14_col14\" class=\"data row14 col14\" >1.000000</td>\n",
       "                        <td id=\"T_c010a_row14_col15\" class=\"data row14 col15\" >-0.880498</td>\n",
       "                        <td id=\"T_c010a_row14_col16\" class=\"data row14 col16\" >0.304316</td>\n",
       "                        <td id=\"T_c010a_row14_col17\" class=\"data row14 col17\" >-0.167103</td>\n",
       "                        <td id=\"T_c010a_row14_col18\" class=\"data row14 col18\" >0.051119</td>\n",
       "                        <td id=\"T_c010a_row14_col19\" class=\"data row14 col19\" >0.291687</td>\n",
       "                        <td id=\"T_c010a_row14_col20\" class=\"data row14 col20\" >-0.011262</td>\n",
       "                        <td id=\"T_c010a_row14_col21\" class=\"data row14 col21\" >-0.002624</td>\n",
       "                        <td id=\"T_c010a_row14_col22\" class=\"data row14 col22\" >-0.048969</td>\n",
       "                        <td id=\"T_c010a_row14_col23\" class=\"data row14 col23\" >-0.162450</td>\n",
       "            </tr>\n",
       "            <tr>\n",
       "                        <th id=\"T_c010a_level0_row15\" class=\"row_heading level0 row15\" >parks_nearest</th>\n",
       "                        <td id=\"T_c010a_row15_col0\" class=\"data row15 col0\" >-0.041067</td>\n",
       "                        <td id=\"T_c010a_row15_col1\" class=\"data row15 col1\" >-0.165907</td>\n",
       "                        <td id=\"T_c010a_row15_col2\" class=\"data row15 col2\" >-0.170807</td>\n",
       "                        <td id=\"T_c010a_row15_col3\" class=\"data row15 col3\" >-0.141627</td>\n",
       "                        <td id=\"T_c010a_row15_col4\" class=\"data row15 col4\" >-0.208373</td>\n",
       "                        <td id=\"T_c010a_row15_col5\" class=\"data row15 col5\" >0.130362</td>\n",
       "                        <td id=\"T_c010a_row15_col6\" class=\"data row15 col6\" >0.088400</td>\n",
       "                        <td id=\"T_c010a_row15_col7\" class=\"data row15 col7\" >-0.006997</td>\n",
       "                        <td id=\"T_c010a_row15_col8\" class=\"data row15 col8\" >0.033676</td>\n",
       "                        <td id=\"T_c010a_row15_col9\" class=\"data row15 col9\" >0.020282</td>\n",
       "                        <td id=\"T_c010a_row15_col10\" class=\"data row15 col10\" >-0.093421</td>\n",
       "                        <td id=\"T_c010a_row15_col11\" class=\"data row15 col11\" >0.053351</td>\n",
       "                        <td id=\"T_c010a_row15_col12\" class=\"data row15 col12\" >0.010087</td>\n",
       "                        <td id=\"T_c010a_row15_col13\" class=\"data row15 col13\" >0.199936</td>\n",
       "                        <td id=\"T_c010a_row15_col14\" class=\"data row15 col14\" >-0.880498</td>\n",
       "                        <td id=\"T_c010a_row15_col15\" class=\"data row15 col15\" >1.000000</td>\n",
       "                        <td id=\"T_c010a_row15_col16\" class=\"data row15 col16\" >-0.229066</td>\n",
       "                        <td id=\"T_c010a_row15_col17\" class=\"data row15 col17\" >0.119624</td>\n",
       "                        <td id=\"T_c010a_row15_col18\" class=\"data row15 col18\" >-0.037420</td>\n",
       "                        <td id=\"T_c010a_row15_col19\" class=\"data row15 col19\" >-0.275869</td>\n",
       "                        <td id=\"T_c010a_row15_col20\" class=\"data row15 col20\" >0.008693</td>\n",
       "                        <td id=\"T_c010a_row15_col21\" class=\"data row15 col21\" >0.000319</td>\n",
       "                        <td id=\"T_c010a_row15_col22\" class=\"data row15 col22\" >0.038415</td>\n",
       "                        <td id=\"T_c010a_row15_col23\" class=\"data row15 col23\" >0.181328</td>\n",
       "            </tr>\n",
       "            <tr>\n",
       "                        <th id=\"T_c010a_level0_row16\" class=\"row_heading level0 row16\" >ponds_around_3000</th>\n",
       "                        <td id=\"T_c010a_row16_col0\" class=\"data row16 col0\" >-0.011553</td>\n",
       "                        <td id=\"T_c010a_row16_col1\" class=\"data row16 col1\" >0.159951</td>\n",
       "                        <td id=\"T_c010a_row16_col2\" class=\"data row16 col2\" >0.162346</td>\n",
       "                        <td id=\"T_c010a_row16_col3\" class=\"data row16 col3\" >0.092652</td>\n",
       "                        <td id=\"T_c010a_row16_col4\" class=\"data row16 col4\" >0.190878</td>\n",
       "                        <td id=\"T_c010a_row16_col5\" class=\"data row16 col5\" >-0.122079</td>\n",
       "                        <td id=\"T_c010a_row16_col6\" class=\"data row16 col6\" >-0.076312</td>\n",
       "                        <td id=\"T_c010a_row16_col7\" class=\"data row16 col7\" >0.023989</td>\n",
       "                        <td id=\"T_c010a_row16_col8\" class=\"data row16 col8\" >0.000939</td>\n",
       "                        <td id=\"T_c010a_row16_col9\" class=\"data row16 col9\" >0.008455</td>\n",
       "                        <td id=\"T_c010a_row16_col10\" class=\"data row16 col10\" >0.143909</td>\n",
       "                        <td id=\"T_c010a_row16_col11\" class=\"data row16 col11\" >-0.039604</td>\n",
       "                        <td id=\"T_c010a_row16_col12\" class=\"data row16 col12\" >-0.049583</td>\n",
       "                        <td id=\"T_c010a_row16_col13\" class=\"data row16 col13\" >-0.074642</td>\n",
       "                        <td id=\"T_c010a_row16_col14\" class=\"data row16 col14\" >0.304316</td>\n",
       "                        <td id=\"T_c010a_row16_col15\" class=\"data row16 col15\" >-0.229066</td>\n",
       "                        <td id=\"T_c010a_row16_col16\" class=\"data row16 col16\" >1.000000</td>\n",
       "                        <td id=\"T_c010a_row16_col17\" class=\"data row16 col17\" >-0.341840</td>\n",
       "                        <td id=\"T_c010a_row16_col18\" class=\"data row16 col18\" >0.066827</td>\n",
       "                        <td id=\"T_c010a_row16_col19\" class=\"data row16 col19\" >0.191039</td>\n",
       "                        <td id=\"T_c010a_row16_col20\" class=\"data row16 col20\" >0.002286</td>\n",
       "                        <td id=\"T_c010a_row16_col21\" class=\"data row16 col21\" >-0.008007</td>\n",
       "                        <td id=\"T_c010a_row16_col22\" class=\"data row16 col22\" >-0.038808</td>\n",
       "                        <td id=\"T_c010a_row16_col23\" class=\"data row16 col23\" >-0.076162</td>\n",
       "            </tr>\n",
       "            <tr>\n",
       "                        <th id=\"T_c010a_level0_row17\" class=\"row_heading level0 row17\" >ponds_nearest</th>\n",
       "                        <td id=\"T_c010a_row17_col0\" class=\"data row17 col0\" >-0.003034</td>\n",
       "                        <td id=\"T_c010a_row17_col1\" class=\"data row17 col1\" >-0.084809</td>\n",
       "                        <td id=\"T_c010a_row17_col2\" class=\"data row17 col2\" >-0.097969</td>\n",
       "                        <td id=\"T_c010a_row17_col3\" class=\"data row17 col3\" >-0.057642</td>\n",
       "                        <td id=\"T_c010a_row17_col4\" class=\"data row17 col4\" >-0.109466</td>\n",
       "                        <td id=\"T_c010a_row17_col5\" class=\"data row17 col5\" >0.039854</td>\n",
       "                        <td id=\"T_c010a_row17_col6\" class=\"data row17 col6\" >0.024850</td>\n",
       "                        <td id=\"T_c010a_row17_col7\" class=\"data row17 col7\" >0.003357</td>\n",
       "                        <td id=\"T_c010a_row17_col8\" class=\"data row17 col8\" >0.002606</td>\n",
       "                        <td id=\"T_c010a_row17_col9\" class=\"data row17 col9\" >-0.003328</td>\n",
       "                        <td id=\"T_c010a_row17_col10\" class=\"data row17 col10\" >-0.099964</td>\n",
       "                        <td id=\"T_c010a_row17_col11\" class=\"data row17 col11\" >0.020077</td>\n",
       "                        <td id=\"T_c010a_row17_col12\" class=\"data row17 col12\" >0.014049</td>\n",
       "                        <td id=\"T_c010a_row17_col13\" class=\"data row17 col13\" >0.028903</td>\n",
       "                        <td id=\"T_c010a_row17_col14\" class=\"data row17 col14\" >-0.167103</td>\n",
       "                        <td id=\"T_c010a_row17_col15\" class=\"data row17 col15\" >0.119624</td>\n",
       "                        <td id=\"T_c010a_row17_col16\" class=\"data row17 col16\" >-0.341840</td>\n",
       "                        <td id=\"T_c010a_row17_col17\" class=\"data row17 col17\" >1.000000</td>\n",
       "                        <td id=\"T_c010a_row17_col18\" class=\"data row17 col18\" >-0.071080</td>\n",
       "                        <td id=\"T_c010a_row17_col19\" class=\"data row17 col19\" >-0.104974</td>\n",
       "                        <td id=\"T_c010a_row17_col20\" class=\"data row17 col20\" >-0.002499</td>\n",
       "                        <td id=\"T_c010a_row17_col21\" class=\"data row17 col21\" >0.012222</td>\n",
       "                        <td id=\"T_c010a_row17_col22\" class=\"data row17 col22\" >0.038233</td>\n",
       "                        <td id=\"T_c010a_row17_col23\" class=\"data row17 col23\" >0.031047</td>\n",
       "            </tr>\n",
       "            <tr>\n",
       "                        <th id=\"T_c010a_level0_row18\" class=\"row_heading level0 row18\" >days_exposition</th>\n",
       "                        <td id=\"T_c010a_row18_col0\" class=\"data row18 col0\" >-0.028904</td>\n",
       "                        <td id=\"T_c010a_row18_col1\" class=\"data row18 col1\" >0.072793</td>\n",
       "                        <td id=\"T_c010a_row18_col2\" class=\"data row18 col2\" >0.128996</td>\n",
       "                        <td id=\"T_c010a_row18_col3\" class=\"data row18 col3\" >0.111473</td>\n",
       "                        <td id=\"T_c010a_row18_col4\" class=\"data row18 col4\" >0.097047</td>\n",
       "                        <td id=\"T_c010a_row18_col5\" class=\"data row18 col5\" >-0.045957</td>\n",
       "                        <td id=\"T_c010a_row18_col6\" class=\"data row18 col6\" >-0.035254</td>\n",
       "                        <td id=\"T_c010a_row18_col7\" class=\"data row18 col7\" >0.012753</td>\n",
       "                        <td id=\"T_c010a_row18_col8\" class=\"data row18 col8\" >-0.021017</td>\n",
       "                        <td id=\"T_c010a_row18_col9\" class=\"data row18 col9\" >-0.023289</td>\n",
       "                        <td id=\"T_c010a_row18_col10\" class=\"data row18 col10\" >0.082285</td>\n",
       "                        <td id=\"T_c010a_row18_col11\" class=\"data row18 col11\" >-0.025547</td>\n",
       "                        <td id=\"T_c010a_row18_col12\" class=\"data row18 col12\" >-0.016777</td>\n",
       "                        <td id=\"T_c010a_row18_col13\" class=\"data row18 col13\" >-0.058736</td>\n",
       "                        <td id=\"T_c010a_row18_col14\" class=\"data row18 col14\" >0.051119</td>\n",
       "                        <td id=\"T_c010a_row18_col15\" class=\"data row18 col15\" >-0.037420</td>\n",
       "                        <td id=\"T_c010a_row18_col16\" class=\"data row18 col16\" >0.066827</td>\n",
       "                        <td id=\"T_c010a_row18_col17\" class=\"data row18 col17\" >-0.071080</td>\n",
       "                        <td id=\"T_c010a_row18_col18\" class=\"data row18 col18\" >1.000000</td>\n",
       "                        <td id=\"T_c010a_row18_col19\" class=\"data row18 col19\" >0.039762</td>\n",
       "                        <td id=\"T_c010a_row18_col20\" class=\"data row18 col20\" >-0.021834</td>\n",
       "                        <td id=\"T_c010a_row18_col21\" class=\"data row18 col21\" >-0.022762</td>\n",
       "                        <td id=\"T_c010a_row18_col22\" class=\"data row18 col22\" >-0.543189</td>\n",
       "                        <td id=\"T_c010a_row18_col23\" class=\"data row18 col23\" >-0.055109</td>\n",
       "            </tr>\n",
       "            <tr>\n",
       "                        <th id=\"T_c010a_level0_row19\" class=\"row_heading level0 row19\" >one_m_price</th>\n",
       "                        <td id=\"T_c010a_row19_col0\" class=\"data row19 col0\" >0.132780</td>\n",
       "                        <td id=\"T_c010a_row19_col1\" class=\"data row19 col1\" >0.736407</td>\n",
       "                        <td id=\"T_c010a_row19_col2\" class=\"data row19 col2\" >0.301960</td>\n",
       "                        <td id=\"T_c010a_row19_col3\" class=\"data row19 col3\" >0.055371</td>\n",
       "                        <td id=\"T_c010a_row19_col4\" class=\"data row19 col4\" >0.282665</td>\n",
       "                        <td id=\"T_c010a_row19_col5\" class=\"data row19 col5\" >0.146509</td>\n",
       "                        <td id=\"T_c010a_row19_col6\" class=\"data row19 col6\" >0.129068</td>\n",
       "                        <td id=\"T_c010a_row19_col7\" class=\"data row19 col7\" >0.044725</td>\n",
       "                        <td id=\"T_c010a_row19_col8\" class=\"data row19 col8\" >0.015636</td>\n",
       "                        <td id=\"T_c010a_row19_col9\" class=\"data row19 col9\" >0.008266</td>\n",
       "                        <td id=\"T_c010a_row19_col10\" class=\"data row19 col10\" >0.362633</td>\n",
       "                        <td id=\"T_c010a_row19_col11\" class=\"data row19 col11\" >0.023376</td>\n",
       "                        <td id=\"T_c010a_row19_col12\" class=\"data row19 col12\" >-0.038734</td>\n",
       "                        <td id=\"T_c010a_row19_col13\" class=\"data row19 col13\" >-0.325824</td>\n",
       "                        <td id=\"T_c010a_row19_col14\" class=\"data row19 col14\" >0.291687</td>\n",
       "                        <td id=\"T_c010a_row19_col15\" class=\"data row19 col15\" >-0.275869</td>\n",
       "                        <td id=\"T_c010a_row19_col16\" class=\"data row19 col16\" >0.191039</td>\n",
       "                        <td id=\"T_c010a_row19_col17\" class=\"data row19 col17\" >-0.104974</td>\n",
       "                        <td id=\"T_c010a_row19_col18\" class=\"data row19 col18\" >0.039762</td>\n",
       "                        <td id=\"T_c010a_row19_col19\" class=\"data row19 col19\" >1.000000</td>\n",
       "                        <td id=\"T_c010a_row19_col20\" class=\"data row19 col20\" >-0.007272</td>\n",
       "                        <td id=\"T_c010a_row19_col21\" class=\"data row19 col21\" >-0.001995</td>\n",
       "                        <td id=\"T_c010a_row19_col22\" class=\"data row19 col22\" >0.008516</td>\n",
       "                        <td id=\"T_c010a_row19_col23\" class=\"data row19 col23\" >-0.318677</td>\n",
       "            </tr>\n",
       "            <tr>\n",
       "                        <th id=\"T_c010a_level0_row20\" class=\"row_heading level0 row20\" >weekday_publication</th>\n",
       "                        <td id=\"T_c010a_row20_col0\" class=\"data row20 col0\" >-0.010433</td>\n",
       "                        <td id=\"T_c010a_row20_col1\" class=\"data row20 col1\" >0.001535</td>\n",
       "                        <td id=\"T_c010a_row20_col2\" class=\"data row20 col2\" >-0.004695</td>\n",
       "                        <td id=\"T_c010a_row20_col3\" class=\"data row20 col3\" >-0.004060</td>\n",
       "                        <td id=\"T_c010a_row20_col4\" class=\"data row20 col4\" >-0.024850</td>\n",
       "                        <td id=\"T_c010a_row20_col5\" class=\"data row20 col5\" >0.011918</td>\n",
       "                        <td id=\"T_c010a_row20_col6\" class=\"data row20 col6\" >0.012347</td>\n",
       "                        <td id=\"T_c010a_row20_col7\" class=\"data row20 col7\" >-0.009492</td>\n",
       "                        <td id=\"T_c010a_row20_col8\" class=\"data row20 col8\" >-0.000843</td>\n",
       "                        <td id=\"T_c010a_row20_col9\" class=\"data row20 col9\" >0.011042</td>\n",
       "                        <td id=\"T_c010a_row20_col10\" class=\"data row20 col10\" >-0.007296</td>\n",
       "                        <td id=\"T_c010a_row20_col11\" class=\"data row20 col11\" >-0.001496</td>\n",
       "                        <td id=\"T_c010a_row20_col12\" class=\"data row20 col12\" >0.001361</td>\n",
       "                        <td id=\"T_c010a_row20_col13\" class=\"data row20 col13\" >0.006619</td>\n",
       "                        <td id=\"T_c010a_row20_col14\" class=\"data row20 col14\" >-0.011262</td>\n",
       "                        <td id=\"T_c010a_row20_col15\" class=\"data row20 col15\" >0.008693</td>\n",
       "                        <td id=\"T_c010a_row20_col16\" class=\"data row20 col16\" >0.002286</td>\n",
       "                        <td id=\"T_c010a_row20_col17\" class=\"data row20 col17\" >-0.002499</td>\n",
       "                        <td id=\"T_c010a_row20_col18\" class=\"data row20 col18\" >-0.021834</td>\n",
       "                        <td id=\"T_c010a_row20_col19\" class=\"data row20 col19\" >-0.007272</td>\n",
       "                        <td id=\"T_c010a_row20_col20\" class=\"data row20 col20\" >1.000000</td>\n",
       "                        <td id=\"T_c010a_row20_col21\" class=\"data row20 col21\" >0.011496</td>\n",
       "                        <td id=\"T_c010a_row20_col22\" class=\"data row20 col22\" >-0.004799</td>\n",
       "                        <td id=\"T_c010a_row20_col23\" class=\"data row20 col23\" >0.008685</td>\n",
       "            </tr>\n",
       "            <tr>\n",
       "                        <th id=\"T_c010a_level0_row21\" class=\"row_heading level0 row21\" >month_publication</th>\n",
       "                        <td id=\"T_c010a_row21_col0\" class=\"data row21 col0\" >0.005043</td>\n",
       "                        <td id=\"T_c010a_row21_col1\" class=\"data row21 col1\" >0.002733</td>\n",
       "                        <td id=\"T_c010a_row21_col2\" class=\"data row21 col2\" >0.004920</td>\n",
       "                        <td id=\"T_c010a_row21_col3\" class=\"data row21 col3\" >-0.004305</td>\n",
       "                        <td id=\"T_c010a_row21_col4\" class=\"data row21 col4\" >-0.001333</td>\n",
       "                        <td id=\"T_c010a_row21_col5\" class=\"data row21 col5\" >0.016538</td>\n",
       "                        <td id=\"T_c010a_row21_col6\" class=\"data row21 col6\" >0.019387</td>\n",
       "                        <td id=\"T_c010a_row21_col7\" class=\"data row21 col7\" >0.002369</td>\n",
       "                        <td id=\"T_c010a_row21_col8\" class=\"data row21 col8\" >0.000976</td>\n",
       "                        <td id=\"T_c010a_row21_col9\" class=\"data row21 col9\" >0.025765</td>\n",
       "                        <td id=\"T_c010a_row21_col10\" class=\"data row21 col10\" >0.002024</td>\n",
       "                        <td id=\"T_c010a_row21_col11\" class=\"data row21 col11\" >0.009340</td>\n",
       "                        <td id=\"T_c010a_row21_col12\" class=\"data row21 col12\" >0.006555</td>\n",
       "                        <td id=\"T_c010a_row21_col13\" class=\"data row21 col13\" >-0.006218</td>\n",
       "                        <td id=\"T_c010a_row21_col14\" class=\"data row21 col14\" >-0.002624</td>\n",
       "                        <td id=\"T_c010a_row21_col15\" class=\"data row21 col15\" >0.000319</td>\n",
       "                        <td id=\"T_c010a_row21_col16\" class=\"data row21 col16\" >-0.008007</td>\n",
       "                        <td id=\"T_c010a_row21_col17\" class=\"data row21 col17\" >0.012222</td>\n",
       "                        <td id=\"T_c010a_row21_col18\" class=\"data row21 col18\" >-0.022762</td>\n",
       "                        <td id=\"T_c010a_row21_col19\" class=\"data row21 col19\" >-0.001995</td>\n",
       "                        <td id=\"T_c010a_row21_col20\" class=\"data row21 col20\" >0.011496</td>\n",
       "                        <td id=\"T_c010a_row21_col21\" class=\"data row21 col21\" >1.000000</td>\n",
       "                        <td id=\"T_c010a_row21_col22\" class=\"data row21 col22\" >-0.269642</td>\n",
       "                        <td id=\"T_c010a_row21_col23\" class=\"data row21 col23\" >-0.009073</td>\n",
       "            </tr>\n",
       "            <tr>\n",
       "                        <th id=\"T_c010a_level0_row22\" class=\"row_heading level0 row22\" >year_publication</th>\n",
       "                        <td id=\"T_c010a_row22_col0\" class=\"data row22 col0\" >0.140411</td>\n",
       "                        <td id=\"T_c010a_row22_col1\" class=\"data row22 col1\" >-0.043015</td>\n",
       "                        <td id=\"T_c010a_row22_col2\" class=\"data row22 col2\" >-0.079912</td>\n",
       "                        <td id=\"T_c010a_row22_col3\" class=\"data row22 col3\" >-0.054781</td>\n",
       "                        <td id=\"T_c010a_row22_col4\" class=\"data row22 col4\" >-0.052138</td>\n",
       "                        <td id=\"T_c010a_row22_col5\" class=\"data row22 col5\" >0.009269</td>\n",
       "                        <td id=\"T_c010a_row22_col6\" class=\"data row22 col6\" >0.004915</td>\n",
       "                        <td id=\"T_c010a_row22_col7\" class=\"data row22 col7\" >0.009413</td>\n",
       "                        <td id=\"T_c010a_row22_col8\" class=\"data row22 col8\" >0.011961</td>\n",
       "                        <td id=\"T_c010a_row22_col9\" class=\"data row22 col9\" >-0.021095</td>\n",
       "                        <td id=\"T_c010a_row22_col10\" class=\"data row22 col10\" >-0.051881</td>\n",
       "                        <td id=\"T_c010a_row22_col11\" class=\"data row22 col11\" >0.004570</td>\n",
       "                        <td id=\"T_c010a_row22_col12\" class=\"data row22 col12\" >0.008969</td>\n",
       "                        <td id=\"T_c010a_row22_col13\" class=\"data row22 col13\" >0.033660</td>\n",
       "                        <td id=\"T_c010a_row22_col14\" class=\"data row22 col14\" >-0.048969</td>\n",
       "                        <td id=\"T_c010a_row22_col15\" class=\"data row22 col15\" >0.038415</td>\n",
       "                        <td id=\"T_c010a_row22_col16\" class=\"data row22 col16\" >-0.038808</td>\n",
       "                        <td id=\"T_c010a_row22_col17\" class=\"data row22 col17\" >0.038233</td>\n",
       "                        <td id=\"T_c010a_row22_col18\" class=\"data row22 col18\" >-0.543189</td>\n",
       "                        <td id=\"T_c010a_row22_col19\" class=\"data row22 col19\" >0.008516</td>\n",
       "                        <td id=\"T_c010a_row22_col20\" class=\"data row22 col20\" >-0.004799</td>\n",
       "                        <td id=\"T_c010a_row22_col21\" class=\"data row22 col21\" >-0.269642</td>\n",
       "                        <td id=\"T_c010a_row22_col22\" class=\"data row22 col22\" >1.000000</td>\n",
       "                        <td id=\"T_c010a_row22_col23\" class=\"data row22 col23\" >0.032509</td>\n",
       "            </tr>\n",
       "            <tr>\n",
       "                        <th id=\"T_c010a_level0_row23\" class=\"row_heading level0 row23\" >city_centers_nearest_km</th>\n",
       "                        <td id=\"T_c010a_row23_col0\" class=\"data row23 col0\" >-0.047120</td>\n",
       "                        <td id=\"T_c010a_row23_col1\" class=\"data row23 col1\" >-0.207030</td>\n",
       "                        <td id=\"T_c010a_row23_col2\" class=\"data row23 col2\" >-0.231255</td>\n",
       "                        <td id=\"T_c010a_row23_col3\" class=\"data row23 col3\" >-0.184297</td>\n",
       "                        <td id=\"T_c010a_row23_col4\" class=\"data row23 col4\" >-0.298235</td>\n",
       "                        <td id=\"T_c010a_row23_col5\" class=\"data row23 col5\" >0.017722</td>\n",
       "                        <td id=\"T_c010a_row23_col6\" class=\"data row23 col6\" >0.008574</td>\n",
       "                        <td id=\"T_c010a_row23_col7\" class=\"data row23 col7\" >0.003555</td>\n",
       "                        <td id=\"T_c010a_row23_col8\" class=\"data row23 col8\" >-0.007468</td>\n",
       "                        <td id=\"T_c010a_row23_col9\" class=\"data row23 col9\" >-0.003802</td>\n",
       "                        <td id=\"T_c010a_row23_col10\" class=\"data row23 col10\" >-0.183002</td>\n",
       "                        <td id=\"T_c010a_row23_col11\" class=\"data row23 col11\" >0.065277</td>\n",
       "                        <td id=\"T_c010a_row23_col12\" class=\"data row23 col12\" >0.272642</td>\n",
       "                        <td id=\"T_c010a_row23_col13\" class=\"data row23 col13\" >0.999452</td>\n",
       "                        <td id=\"T_c010a_row23_col14\" class=\"data row23 col14\" >-0.162450</td>\n",
       "                        <td id=\"T_c010a_row23_col15\" class=\"data row23 col15\" >0.181328</td>\n",
       "                        <td id=\"T_c010a_row23_col16\" class=\"data row23 col16\" >-0.076162</td>\n",
       "                        <td id=\"T_c010a_row23_col17\" class=\"data row23 col17\" >0.031047</td>\n",
       "                        <td id=\"T_c010a_row23_col18\" class=\"data row23 col18\" >-0.055109</td>\n",
       "                        <td id=\"T_c010a_row23_col19\" class=\"data row23 col19\" >-0.318677</td>\n",
       "                        <td id=\"T_c010a_row23_col20\" class=\"data row23 col20\" >0.008685</td>\n",
       "                        <td id=\"T_c010a_row23_col21\" class=\"data row23 col21\" >-0.009073</td>\n",
       "                        <td id=\"T_c010a_row23_col22\" class=\"data row23 col22\" >0.032509</td>\n",
       "                        <td id=\"T_c010a_row23_col23\" class=\"data row23 col23\" >1.000000</td>\n",
       "            </tr>\n",
       "    </tbody></table>"
      ],
      "text/plain": [
       "<pandas.io.formats.style.Styler at 0x7f9f06006b80>"
      ]
     },
     "execution_count": 63,
     "metadata": {},
     "output_type": "execute_result"
    }
   ],
   "source": [
    "corr_matrix = data.corr()\n",
    "corr_matrix.style.background_gradient(cmap='coolwarm')"
   ]
  },
  {
   "cell_type": "markdown",
   "metadata": {},
   "source": [
    "На матрице корреляции мы видим, что общая стоимость квартиры зависит от:\n",
    "* общая площадь - корреляция 0,65;\n",
    "\n",
    "При это общая стоимость квартиры имеет слабую зависимость от:\n",
    "* площади кухни - корреляция 0,44;\n",
    "* количества комнат - корреляция 0,36;\n",
    "\n",
    "Общая стоимость квартиры абсолютно не зависит от даты размещения (день недели, месяц, год)."
   ]
  },
  {
   "cell_type": "markdown",
   "metadata": {},
   "source": [
    "Также проверим зависит ли цена продажи от жилой площади^"
   ]
  },
  {
   "cell_type": "code",
   "execution_count": 64,
   "metadata": {},
   "outputs": [
    {
     "name": "stdout",
     "output_type": "stream",
     "text": [
      "0.09855341465516723\n"
     ]
    }
   ],
   "source": [
    "print(data['last_price'].corr(data['living_area'].astype(float)))"
   ]
  },
  {
   "cell_type": "markdown",
   "metadata": {},
   "source": [
    "Вывод общая стоимость квартиры абсолютно не зависит от жилой площади с корреляцией 0,09."
   ]
  },
  {
   "cell_type": "markdown",
   "metadata": {},
   "source": [
    "Также проверим зависит ли цена продажи от этажа, на котором расположена квартира (первый, последний, другой). Для этого создадим категории этжей и сводную таблицу."
   ]
  },
  {
   "cell_type": "code",
   "execution_count": 65,
   "metadata": {},
   "outputs": [
    {
     "data": {
      "text/html": [
       "<div>\n",
       "<style scoped>\n",
       "    .dataframe tbody tr th:only-of-type {\n",
       "        vertical-align: middle;\n",
       "    }\n",
       "\n",
       "    .dataframe tbody tr th {\n",
       "        vertical-align: top;\n",
       "    }\n",
       "\n",
       "    .dataframe thead th {\n",
       "        text-align: right;\n",
       "    }\n",
       "</style>\n",
       "<table border=\"1\" class=\"dataframe\">\n",
       "  <thead>\n",
       "    <tr style=\"text-align: right;\">\n",
       "      <th></th>\n",
       "      <th>last_price</th>\n",
       "    </tr>\n",
       "    <tr>\n",
       "      <th>floor_type</th>\n",
       "      <th></th>\n",
       "    </tr>\n",
       "  </thead>\n",
       "  <tbody>\n",
       "    <tr>\n",
       "      <th>другой</th>\n",
       "      <td>4850000.0</td>\n",
       "    </tr>\n",
       "    <tr>\n",
       "      <th>первый</th>\n",
       "      <td>3900000.0</td>\n",
       "    </tr>\n",
       "    <tr>\n",
       "      <th>последний</th>\n",
       "      <td>4300000.0</td>\n",
       "    </tr>\n",
       "  </tbody>\n",
       "</table>\n",
       "</div>"
      ],
      "text/plain": [
       "            last_price\n",
       "floor_type            \n",
       "другой       4850000.0\n",
       "первый       3900000.0\n",
       "последний    4300000.0"
      ]
     },
     "execution_count": 65,
     "metadata": {},
     "output_type": "execute_result"
    }
   ],
   "source": [
    "\n",
    "floor_type_last = data.pivot_table(index='floor_type',values='last_price',aggfunc='median')\n",
    "\n",
    "floor_type_last"
   ]
  },
  {
   "cell_type": "markdown",
   "metadata": {},
   "source": [
    " Вывод: квартиры на первом этаже значительно дешевле чем на других."
   ]
  },
  {
   "cell_type": "markdown",
   "metadata": {},
   "source": [
    "#### Посчитаем среднюю цену одного квадратного метра в 10 населённых пунктах с наибольшим числом объявлений.\n",
    "Построим сводную таблицу с количеством объявлений и средней ценой квадратного метра для этих населенных пунктов. Выделим населённые пункты с самой высокой и низкой стоимостью квадратного метра."
   ]
  },
  {
   "cell_type": "code",
   "execution_count": 66,
   "metadata": {},
   "outputs": [
    {
     "name": "stdout",
     "output_type": "stream",
     "text": [
      "     locality_name           mean\n",
      "0  Санкт-Петербург  114849.008793\n",
      "1           Мурино   85681.762572\n",
      "2           Шушары   78677.364318\n",
      "3       Всеволожск   68654.473970\n",
      "4           Пушкин  103125.819377\n",
      "5          Колпино   75424.579112\n",
      "6        Парголово   90175.913089\n",
      "7          Гатчина   68746.146515\n",
      "8          Кудрово   92473.547559\n",
      "9           Выборг   58141.909325\n",
      "Вывод:\n",
      "Наибольшая стоимость кв. м в г. Санкт-Петербург : 114849.00879333376\n",
      "Наименьшая стоимость кв. м в г. Выборг : 58141.909324894514\n"
     ]
    }
   ],
   "source": [
    "last_price_top = data['locality_name'].value_counts().head(10)\n",
    "last_price_top = last_price_top.reset_index().rename(columns = {'locality_name':'mean','index':'locality_name'})\n",
    "last_price_top_mean = []\n",
    "for name in last_price_top['locality_name']:\n",
    "    last_price_top_mean.append(data.query('locality_name == @name')['one_m_price'].mean())\n",
    "last_price_top['mean'] = last_price_top_mean\n",
    "print(last_price_top)\n",
    "print('Вывод:')\n",
    "print('Наибольшая стоимость кв. м в г.',last_price_top.loc[0,'locality_name'],':', last_price_top.loc[0,'mean'])\n",
    "print('Наименьшая стоимость кв. м в г.',last_price_top.loc[9,'locality_name'],':', last_price_top.loc[9,'mean'])\n"
   ]
  },
  {
   "cell_type": "markdown",
   "metadata": {},
   "source": [
    "#### Выделим квартиры в Санкт-Петербурге и вычислим среднюю цену каждого километра. \n",
    "Изучим, как стоимость объектов зависит от расстояния до центра города. Построим сводную таблицу по средней стоимости 1 кв. м в зависимости от расстояния от центра:"
   ]
  },
  {
   "cell_type": "code",
   "execution_count": 67,
   "metadata": {
    "scrolled": true
   },
   "outputs": [
    {
     "data": {
      "text/html": [
       "<div>\n",
       "<style scoped>\n",
       "    .dataframe tbody tr th:only-of-type {\n",
       "        vertical-align: middle;\n",
       "    }\n",
       "\n",
       "    .dataframe tbody tr th {\n",
       "        vertical-align: top;\n",
       "    }\n",
       "\n",
       "    .dataframe thead th {\n",
       "        text-align: right;\n",
       "    }\n",
       "</style>\n",
       "<table border=\"1\" class=\"dataframe\">\n",
       "  <thead>\n",
       "    <tr style=\"text-align: right;\">\n",
       "      <th></th>\n",
       "      <th>city_centers_nearest_km</th>\n",
       "      <th>one_m_price</th>\n",
       "    </tr>\n",
       "  </thead>\n",
       "  <tbody>\n",
       "    <tr>\n",
       "      <th>0</th>\n",
       "      <td>0.0</td>\n",
       "      <td>245833.530370</td>\n",
       "    </tr>\n",
       "    <tr>\n",
       "      <th>1</th>\n",
       "      <td>1.0</td>\n",
       "      <td>177005.407604</td>\n",
       "    </tr>\n",
       "    <tr>\n",
       "      <th>2</th>\n",
       "      <td>2.0</td>\n",
       "      <td>157849.007290</td>\n",
       "    </tr>\n",
       "    <tr>\n",
       "      <th>3</th>\n",
       "      <td>3.0</td>\n",
       "      <td>121387.453743</td>\n",
       "    </tr>\n",
       "    <tr>\n",
       "      <th>4</th>\n",
       "      <td>4.0</td>\n",
       "      <td>133282.874738</td>\n",
       "    </tr>\n",
       "    <tr>\n",
       "      <th>5</th>\n",
       "      <td>5.0</td>\n",
       "      <td>140509.789022</td>\n",
       "    </tr>\n",
       "    <tr>\n",
       "      <th>6</th>\n",
       "      <td>6.0</td>\n",
       "      <td>151012.193673</td>\n",
       "    </tr>\n",
       "    <tr>\n",
       "      <th>7</th>\n",
       "      <td>7.0</td>\n",
       "      <td>156176.879524</td>\n",
       "    </tr>\n",
       "    <tr>\n",
       "      <th>8</th>\n",
       "      <td>8.0</td>\n",
       "      <td>125671.442864</td>\n",
       "    </tr>\n",
       "    <tr>\n",
       "      <th>9</th>\n",
       "      <td>9.0</td>\n",
       "      <td>113131.041939</td>\n",
       "    </tr>\n",
       "    <tr>\n",
       "      <th>10</th>\n",
       "      <td>10.0</td>\n",
       "      <td>112727.516968</td>\n",
       "    </tr>\n",
       "    <tr>\n",
       "      <th>11</th>\n",
       "      <td>11.0</td>\n",
       "      <td>108630.835357</td>\n",
       "    </tr>\n",
       "    <tr>\n",
       "      <th>12</th>\n",
       "      <td>12.0</td>\n",
       "      <td>107488.734106</td>\n",
       "    </tr>\n",
       "    <tr>\n",
       "      <th>13</th>\n",
       "      <td>13.0</td>\n",
       "      <td>108148.127893</td>\n",
       "    </tr>\n",
       "    <tr>\n",
       "      <th>14</th>\n",
       "      <td>14.0</td>\n",
       "      <td>104252.384949</td>\n",
       "    </tr>\n",
       "    <tr>\n",
       "      <th>15</th>\n",
       "      <td>15.0</td>\n",
       "      <td>104231.976231</td>\n",
       "    </tr>\n",
       "    <tr>\n",
       "      <th>16</th>\n",
       "      <td>16.0</td>\n",
       "      <td>100542.613929</td>\n",
       "    </tr>\n",
       "    <tr>\n",
       "      <th>17</th>\n",
       "      <td>17.0</td>\n",
       "      <td>96597.652288</td>\n",
       "    </tr>\n",
       "    <tr>\n",
       "      <th>18</th>\n",
       "      <td>18.0</td>\n",
       "      <td>96362.263870</td>\n",
       "    </tr>\n",
       "    <tr>\n",
       "      <th>19</th>\n",
       "      <td>19.0</td>\n",
       "      <td>98652.735732</td>\n",
       "    </tr>\n",
       "    <tr>\n",
       "      <th>20</th>\n",
       "      <td>20.0</td>\n",
       "      <td>103045.181837</td>\n",
       "    </tr>\n",
       "    <tr>\n",
       "      <th>21</th>\n",
       "      <td>21.0</td>\n",
       "      <td>94469.584444</td>\n",
       "    </tr>\n",
       "    <tr>\n",
       "      <th>22</th>\n",
       "      <td>22.0</td>\n",
       "      <td>91330.425099</td>\n",
       "    </tr>\n",
       "    <tr>\n",
       "      <th>23</th>\n",
       "      <td>23.0</td>\n",
       "      <td>91828.517765</td>\n",
       "    </tr>\n",
       "    <tr>\n",
       "      <th>24</th>\n",
       "      <td>24.0</td>\n",
       "      <td>85736.904615</td>\n",
       "    </tr>\n",
       "    <tr>\n",
       "      <th>25</th>\n",
       "      <td>25.0</td>\n",
       "      <td>91531.371154</td>\n",
       "    </tr>\n",
       "    <tr>\n",
       "      <th>26</th>\n",
       "      <td>26.0</td>\n",
       "      <td>89285.877170</td>\n",
       "    </tr>\n",
       "    <tr>\n",
       "      <th>27</th>\n",
       "      <td>27.0</td>\n",
       "      <td>132115.710000</td>\n",
       "    </tr>\n",
       "    <tr>\n",
       "      <th>28</th>\n",
       "      <td>28.0</td>\n",
       "      <td>81161.914286</td>\n",
       "    </tr>\n",
       "    <tr>\n",
       "      <th>29</th>\n",
       "      <td>29.0</td>\n",
       "      <td>72953.365000</td>\n",
       "    </tr>\n",
       "  </tbody>\n",
       "</table>\n",
       "</div>"
      ],
      "text/plain": [
       "    city_centers_nearest_km    one_m_price\n",
       "0                       0.0  245833.530370\n",
       "1                       1.0  177005.407604\n",
       "2                       2.0  157849.007290\n",
       "3                       3.0  121387.453743\n",
       "4                       4.0  133282.874738\n",
       "5                       5.0  140509.789022\n",
       "6                       6.0  151012.193673\n",
       "7                       7.0  156176.879524\n",
       "8                       8.0  125671.442864\n",
       "9                       9.0  113131.041939\n",
       "10                     10.0  112727.516968\n",
       "11                     11.0  108630.835357\n",
       "12                     12.0  107488.734106\n",
       "13                     13.0  108148.127893\n",
       "14                     14.0  104252.384949\n",
       "15                     15.0  104231.976231\n",
       "16                     16.0  100542.613929\n",
       "17                     17.0   96597.652288\n",
       "18                     18.0   96362.263870\n",
       "19                     19.0   98652.735732\n",
       "20                     20.0  103045.181837\n",
       "21                     21.0   94469.584444\n",
       "22                     22.0   91330.425099\n",
       "23                     23.0   91828.517765\n",
       "24                     24.0   85736.904615\n",
       "25                     25.0   91531.371154\n",
       "26                     26.0   89285.877170\n",
       "27                     27.0  132115.710000\n",
       "28                     28.0   81161.914286\n",
       "29                     29.0   72953.365000"
      ]
     },
     "execution_count": 67,
     "metadata": {},
     "output_type": "execute_result"
    }
   ],
   "source": [
    "spb_apartment = data.query('locality_name == \"Санкт-Петербург\"')\n",
    "spb_apartment_pivot = spb_apartment.pivot_table(index='city_centers_nearest_km', \n",
    "                                              values='one_m_price', aggfunc='mean').reset_index()\n",
    "spb_apartment_pivot"
   ]
  },
  {
   "cell_type": "markdown",
   "metadata": {},
   "source": [
    "Построим график зависимости стоимости жилья от расстояния до центра города:"
   ]
  },
  {
   "cell_type": "code",
   "execution_count": 68,
   "metadata": {},
   "outputs": [
    {
     "data": {
      "text/plain": [
       "<AxesSubplot:title={'center':'Зависимость стоимости жилья от расстояния до центра города'}, xlabel='city_centers_nearest_km'>"
      ]
     },
     "execution_count": 68,
     "metadata": {},
     "output_type": "execute_result"
    },
    {
     "data": {
      "image/png": "[encoded data removed]",
      "text/plain": [
       "<Figure size 432x288 with 1 Axes>"
      ]
     },
     "metadata": {
      "needs_background": "light"
     },
     "output_type": "display_data"
    }
   ],
   "source": [
    "spb_apartment_pivot.plot(x='city_centers_nearest_km', y='one_m_price', kind= 'bar', \n",
    "                        grid=True,\n",
    "                      title='Зависимость стоимости жилья от расстояния до центра города')"
   ]
  },
  {
   "cell_type": "markdown",
   "metadata": {},
   "source": [
    "Вывод:\n",
    "\n",
    "Средняя цена за 1 кв.м падает при удалении от центра. В центре стоимость жилья составляет почти 250 000 руб. за 1 кв.м, а на расстоянии 29 км - падает до 75 000 руб. за 1 кв.м."
   ]
  },
  {
   "cell_type": "markdown",
   "metadata": {},
   "source": [
    "### Общий вывод"
   ]
  },
  {
   "cell_type": "markdown",
   "metadata": {},
   "source": [
    "Для анализа нам были предоставлены данные по продажам квартир. По каждой квартире на продажу доступны два вида данных. Первые вписаны пользователем, вторые — получены автоматически на основе картографических данных. Например, расстояние до центра, аэропорта и других объектов — эти данные автоматически получены из геосервисов. Количество парков и водоёмов также заполняется без участия пользователя. \n",
    "\n",
    "На этапе предобработки данных было выявлено:\n",
    "* несоответствие стилю наименование столбцов - привели наименования к snake_style;\n",
    "* пропуски в ceiling_height - заменили медианным значением;\n",
    "* пропуски в floors_total и balcony - заменили на 0;\n",
    "* пропуски в living_area и kitchen_area - заменили медианой по сгрупированным значениям площади;\n",
    "* пропуски в is_apartment заменили на False, и изменили тип данных на bool;\n",
    "\n",
    "Вероятная причина пропусков значений в столбцах - ошибки при выгрузке и из-за некорректного заполнения данных пользователем. \n",
    "\n",
    "Заменили тип данных в first_day_exposition на datetime.\n",
    "\n",
    "Обработали неявные дубликаты в столбце locality_name - удалили типы населенных пунктов из названий. Дубликаты появились из-за некорректного заполнения данных пользователем.\n",
    "\n",
    "В таблицу были добавлены новые столбцы со следующими параметрами:\n",
    "* цена одного квадратного метра;\n",
    "* ень недели публикации объявления (0 — понедельник, 1 — вторник и так далее);\n",
    "* месяц публикации объявления;\n",
    "* год публикации объявления;\n",
    "* тип этажа квартиры (значения — «первый», «последний», «другой»);\n",
    "* расстояние до центра города в километрах.\n",
    "\n",
    "Исследование показало, что большинство квартир продается в первые 300 дней размещения объявления. Также есть необычно долгие продажи свыше 1400 дней, но их количество очень мало. Также мы выяснили, что общая стоимость квартиры выше в зависимости от общей площади и этажа - на этаже кроме первого - квартиры дороже.При этом общая стоимость квартиры имеет слабую зависимость от площади кухни и количества комнат и абсолютно не зависит от жилой площади и даты размещения (день недели, месяц, год).\n",
    "\n",
    "Также стоимость квартир зависит от местонахождения квартиры:\n",
    "Наибольшая стоимость кв. м в г. Санкт-Петербург : 114 849 руб.\n",
    "Наименьшая стоимость кв. м в г. Выборг : 58 141 руб.\n",
    "\n",
    "Исследование объявлений в Санкт-Петербурге показало - средняя цена за 1 кв.м падает при удалении от центра. В центре стоимость жилья составляет почти 250 000 руб. за 1 кв.м, а на расстоянии 29 км - падает до 75 000 руб. за 1 кв.м."
   ]
  }
 ],
 "metadata": {
  "ExecuteTimeLog": [
   {
    "duration": 858,
    "start_time": "2023-09-25T07:47:44.654Z"
   },
   {
    "duration": 155,
    "start_time": "2023-09-25T07:48:22.675Z"
   },
   {
    "duration": 106,
    "start_time": "2023-09-25T07:48:49.949Z"
   },
   {
    "duration": 81,
    "start_time": "2023-09-25T07:48:57.799Z"
   },
   {
    "duration": 127,
    "start_time": "2023-09-25T07:51:59.008Z"
   },
   {
    "duration": 639,
    "start_time": "2023-09-25T07:53:41.039Z"
   },
   {
    "duration": 575,
    "start_time": "2023-09-25T07:53:59.719Z"
   },
   {
    "duration": 175,
    "start_time": "2023-09-25T07:54:52.195Z"
   },
   {
    "duration": 143,
    "start_time": "2023-09-25T07:55:00.143Z"
   },
   {
    "duration": 2752,
    "start_time": "2023-09-25T07:56:53.267Z"
   },
   {
    "duration": 182,
    "start_time": "2023-09-25T08:36:46.143Z"
   },
   {
    "duration": 151,
    "start_time": "2023-09-25T08:36:59.380Z"
   },
   {
    "duration": 169,
    "start_time": "2023-09-25T08:37:04.772Z"
   },
   {
    "duration": 192,
    "start_time": "2023-09-25T08:37:20.992Z"
   },
   {
    "duration": 176,
    "start_time": "2023-09-25T08:37:31.355Z"
   },
   {
    "duration": 305,
    "start_time": "2023-09-25T08:37:39.893Z"
   },
   {
    "duration": 305,
    "start_time": "2023-09-25T08:37:47.493Z"
   },
   {
    "duration": 257,
    "start_time": "2023-09-25T08:37:58.248Z"
   },
   {
    "duration": 239,
    "start_time": "2023-09-25T08:43:43.228Z"
   },
   {
    "duration": 283,
    "start_time": "2023-09-25T08:43:51.035Z"
   },
   {
    "duration": 475,
    "start_time": "2023-09-25T08:44:01.076Z"
   },
   {
    "duration": 174,
    "start_time": "2023-09-25T08:44:05.863Z"
   },
   {
    "duration": 268,
    "start_time": "2023-09-25T08:44:37.737Z"
   },
   {
    "duration": 189,
    "start_time": "2023-09-25T08:44:48.076Z"
   },
   {
    "duration": 201,
    "start_time": "2023-09-25T08:45:01.873Z"
   },
   {
    "duration": 159,
    "start_time": "2023-09-25T08:45:14.919Z"
   },
   {
    "duration": 155,
    "start_time": "2023-09-25T08:50:41.175Z"
   },
   {
    "duration": 680,
    "start_time": "2023-09-25T08:57:13.822Z"
   },
   {
    "duration": 0,
    "start_time": "2023-09-25T08:57:14.505Z"
   },
   {
    "duration": 131,
    "start_time": "2023-09-25T08:57:38.515Z"
   },
   {
    "duration": 156,
    "start_time": "2023-09-25T08:57:48.097Z"
   },
   {
    "duration": 156,
    "start_time": "2023-09-25T08:59:21.820Z"
   },
   {
    "duration": 552,
    "start_time": "2023-09-25T08:59:30.538Z"
   },
   {
    "duration": 2947,
    "start_time": "2023-09-25T08:59:31.093Z"
   },
   {
    "duration": 5,
    "start_time": "2023-09-25T09:00:55.151Z"
   },
   {
    "duration": 47,
    "start_time": "2023-09-25T09:01:23.517Z"
   },
   {
    "duration": 16,
    "start_time": "2023-09-25T09:24:52.537Z"
   },
   {
    "duration": 48,
    "start_time": "2023-09-25T13:02:04.471Z"
   },
   {
    "duration": 707,
    "start_time": "2023-09-25T13:02:11.112Z"
   },
   {
    "duration": 8,
    "start_time": "2023-09-25T13:02:11.821Z"
   },
   {
    "duration": 41,
    "start_time": "2023-09-25T13:02:11.831Z"
   },
   {
    "duration": 2723,
    "start_time": "2023-09-25T13:02:11.874Z"
   },
   {
    "duration": 10,
    "start_time": "2023-09-25T13:02:14.600Z"
   },
   {
    "duration": 19,
    "start_time": "2023-09-25T13:02:14.611Z"
   },
   {
    "duration": 74,
    "start_time": "2023-09-25T13:09:04.465Z"
   },
   {
    "duration": 155,
    "start_time": "2023-09-25T13:09:24.679Z"
   },
   {
    "duration": 152,
    "start_time": "2023-09-25T13:09:37.530Z"
   },
   {
    "duration": 177,
    "start_time": "2023-09-25T13:09:56.908Z"
   },
   {
    "duration": 10,
    "start_time": "2023-09-25T13:10:34.075Z"
   },
   {
    "duration": 5,
    "start_time": "2023-09-25T13:10:39.752Z"
   },
   {
    "duration": 11,
    "start_time": "2023-09-25T13:10:51.199Z"
   },
   {
    "duration": 5,
    "start_time": "2023-09-25T13:10:56.326Z"
   },
   {
    "duration": 4,
    "start_time": "2023-09-25T13:11:03.438Z"
   },
   {
    "duration": 101,
    "start_time": "2023-09-25T13:11:59.205Z"
   },
   {
    "duration": 4,
    "start_time": "2023-09-25T13:12:05.027Z"
   },
   {
    "duration": 11,
    "start_time": "2023-09-25T13:12:20.557Z"
   },
   {
    "duration": 7,
    "start_time": "2023-09-25T13:12:40.305Z"
   },
   {
    "duration": 9,
    "start_time": "2023-09-25T13:13:16.697Z"
   },
   {
    "duration": 6,
    "start_time": "2023-09-25T13:15:33.194Z"
   },
   {
    "duration": 492,
    "start_time": "2023-09-25T13:15:44.006Z"
   },
   {
    "duration": 9,
    "start_time": "2023-09-25T13:15:44.500Z"
   },
   {
    "duration": 42,
    "start_time": "2023-09-25T13:15:44.510Z"
   },
   {
    "duration": 2319,
    "start_time": "2023-09-25T13:15:44.554Z"
   },
   {
    "duration": 12,
    "start_time": "2023-09-25T13:15:46.875Z"
   },
   {
    "duration": 18,
    "start_time": "2023-09-25T13:15:46.889Z"
   },
   {
    "duration": 6,
    "start_time": "2023-09-25T13:15:46.909Z"
   },
   {
    "duration": 75,
    "start_time": "2023-09-25T13:18:25.300Z"
   },
   {
    "duration": 15,
    "start_time": "2023-09-25T13:18:29.853Z"
   },
   {
    "duration": 12,
    "start_time": "2023-09-25T13:19:03.387Z"
   },
   {
    "duration": 95,
    "start_time": "2023-09-25T13:24:15.756Z"
   },
   {
    "duration": 37,
    "start_time": "2023-09-25T13:29:16.620Z"
   },
   {
    "duration": 20,
    "start_time": "2023-09-25T13:29:28.316Z"
   },
   {
    "duration": 16,
    "start_time": "2023-09-25T13:29:36.689Z"
   },
   {
    "duration": 91,
    "start_time": "2023-09-25T13:30:32.877Z"
   },
   {
    "duration": 8,
    "start_time": "2023-09-25T13:30:36.916Z"
   },
   {
    "duration": 6,
    "start_time": "2023-09-25T13:30:56.349Z"
   },
   {
    "duration": 8,
    "start_time": "2023-09-25T13:32:40.261Z"
   },
   {
    "duration": 557,
    "start_time": "2023-09-25T13:32:47.350Z"
   },
   {
    "duration": 10,
    "start_time": "2023-09-25T13:32:47.909Z"
   },
   {
    "duration": 43,
    "start_time": "2023-09-25T13:32:47.920Z"
   },
   {
    "duration": 2304,
    "start_time": "2023-09-25T13:32:47.965Z"
   },
   {
    "duration": 11,
    "start_time": "2023-09-25T13:32:50.271Z"
   },
   {
    "duration": 25,
    "start_time": "2023-09-25T13:32:50.284Z"
   },
   {
    "duration": 43,
    "start_time": "2023-09-25T13:32:50.310Z"
   },
   {
    "duration": 55,
    "start_time": "2023-09-25T13:32:50.354Z"
   },
   {
    "duration": 74,
    "start_time": "2023-09-25T13:41:44.112Z"
   },
   {
    "duration": 6,
    "start_time": "2023-09-25T13:41:55.073Z"
   },
   {
    "duration": 11,
    "start_time": "2023-09-25T13:42:46.353Z"
   },
   {
    "duration": 6,
    "start_time": "2023-09-25T13:45:41.962Z"
   },
   {
    "duration": 10,
    "start_time": "2023-09-25T13:51:20.571Z"
   },
   {
    "duration": 9,
    "start_time": "2023-09-25T13:51:35.694Z"
   },
   {
    "duration": 527,
    "start_time": "2023-09-25T13:51:46.109Z"
   },
   {
    "duration": 9,
    "start_time": "2023-09-25T13:51:46.638Z"
   },
   {
    "duration": 65,
    "start_time": "2023-09-25T13:51:46.649Z"
   },
   {
    "duration": 2385,
    "start_time": "2023-09-25T13:51:46.716Z"
   },
   {
    "duration": 10,
    "start_time": "2023-09-25T13:51:49.104Z"
   },
   {
    "duration": 19,
    "start_time": "2023-09-25T13:51:49.116Z"
   },
   {
    "duration": 26,
    "start_time": "2023-09-25T13:51:49.137Z"
   },
   {
    "duration": 14,
    "start_time": "2023-09-25T13:51:49.164Z"
   },
   {
    "duration": 6,
    "start_time": "2023-09-25T13:55:33.196Z"
   },
   {
    "duration": 7,
    "start_time": "2023-09-25T13:57:52.183Z"
   },
   {
    "duration": 7,
    "start_time": "2023-09-25T13:58:22.960Z"
   },
   {
    "duration": 9,
    "start_time": "2023-09-25T13:58:38.310Z"
   },
   {
    "duration": 71,
    "start_time": "2023-09-25T14:12:48.435Z"
   },
   {
    "duration": 8,
    "start_time": "2023-09-25T14:19:28.941Z"
   },
   {
    "duration": 547,
    "start_time": "2023-09-25T14:19:40.797Z"
   },
   {
    "duration": 9,
    "start_time": "2023-09-25T14:19:41.346Z"
   },
   {
    "duration": 106,
    "start_time": "2023-09-25T14:19:41.356Z"
   },
   {
    "duration": 2521,
    "start_time": "2023-09-25T14:19:41.464Z"
   },
   {
    "duration": 11,
    "start_time": "2023-09-25T14:19:43.987Z"
   },
   {
    "duration": 14,
    "start_time": "2023-09-25T14:19:44.000Z"
   },
   {
    "duration": 15,
    "start_time": "2023-09-25T14:19:44.016Z"
   },
   {
    "duration": 11,
    "start_time": "2023-09-25T14:19:44.032Z"
   },
   {
    "duration": 37,
    "start_time": "2023-09-25T14:19:44.045Z"
   },
   {
    "duration": 82,
    "start_time": "2023-09-25T14:19:44.084Z"
   },
   {
    "duration": 14,
    "start_time": "2023-09-25T14:20:02.693Z"
   },
   {
    "duration": 16,
    "start_time": "2023-09-25T14:20:14.506Z"
   },
   {
    "duration": 517,
    "start_time": "2023-09-25T14:20:23.213Z"
   },
   {
    "duration": 9,
    "start_time": "2023-09-25T14:20:23.732Z"
   },
   {
    "duration": 52,
    "start_time": "2023-09-25T14:20:23.742Z"
   },
   {
    "duration": 2503,
    "start_time": "2023-09-25T14:20:23.797Z"
   },
   {
    "duration": 11,
    "start_time": "2023-09-25T14:20:26.302Z"
   },
   {
    "duration": 28,
    "start_time": "2023-09-25T14:20:26.315Z"
   },
   {
    "duration": 18,
    "start_time": "2023-09-25T14:20:26.346Z"
   },
   {
    "duration": 14,
    "start_time": "2023-09-25T14:20:26.366Z"
   },
   {
    "duration": 12,
    "start_time": "2023-09-25T14:20:26.387Z"
   },
   {
    "duration": 92,
    "start_time": "2023-09-25T14:20:26.402Z"
   },
   {
    "duration": 57,
    "start_time": "2023-09-26T08:36:03.550Z"
   },
   {
    "duration": 816,
    "start_time": "2023-09-26T08:36:26.500Z"
   },
   {
    "duration": 9,
    "start_time": "2023-09-26T08:36:27.319Z"
   },
   {
    "duration": 39,
    "start_time": "2023-09-26T08:36:27.330Z"
   },
   {
    "duration": 2625,
    "start_time": "2023-09-26T08:36:27.371Z"
   },
   {
    "duration": 12,
    "start_time": "2023-09-26T08:36:29.999Z"
   },
   {
    "duration": 110,
    "start_time": "2023-09-26T08:36:30.013Z"
   },
   {
    "duration": 276,
    "start_time": "2023-09-26T08:36:30.126Z"
   },
   {
    "duration": 112,
    "start_time": "2023-09-26T08:36:30.405Z"
   },
   {
    "duration": 65,
    "start_time": "2023-09-26T08:36:30.520Z"
   },
   {
    "duration": 68,
    "start_time": "2023-09-26T08:36:30.587Z"
   },
   {
    "duration": 26,
    "start_time": "2023-09-26T08:39:12.514Z"
   },
   {
    "duration": 97,
    "start_time": "2023-09-26T08:39:37.414Z"
   },
   {
    "duration": 9,
    "start_time": "2023-09-26T08:49:28.758Z"
   },
   {
    "duration": 9,
    "start_time": "2023-09-26T08:49:49.940Z"
   },
   {
    "duration": 566,
    "start_time": "2023-09-26T08:52:19.377Z"
   },
   {
    "duration": 10,
    "start_time": "2023-09-26T08:52:19.946Z"
   },
   {
    "duration": 136,
    "start_time": "2023-09-26T08:52:19.958Z"
   },
   {
    "duration": 2455,
    "start_time": "2023-09-26T08:52:20.096Z"
   },
   {
    "duration": 16,
    "start_time": "2023-09-26T08:52:22.554Z"
   },
   {
    "duration": 38,
    "start_time": "2023-09-26T08:52:22.573Z"
   },
   {
    "duration": 36,
    "start_time": "2023-09-26T08:52:22.613Z"
   },
   {
    "duration": 16,
    "start_time": "2023-09-26T08:52:22.651Z"
   },
   {
    "duration": 21,
    "start_time": "2023-09-26T08:52:22.670Z"
   },
   {
    "duration": 28,
    "start_time": "2023-09-26T08:52:22.693Z"
   },
   {
    "duration": 46,
    "start_time": "2023-09-26T09:03:39.283Z"
   },
   {
    "duration": 18,
    "start_time": "2023-09-26T09:03:50.866Z"
   },
   {
    "duration": 17,
    "start_time": "2023-09-26T09:05:51.191Z"
   },
   {
    "duration": 574,
    "start_time": "2023-09-26T09:05:56.781Z"
   },
   {
    "duration": 10,
    "start_time": "2023-09-26T09:05:57.358Z"
   },
   {
    "duration": 51,
    "start_time": "2023-09-26T09:05:57.370Z"
   },
   {
    "duration": 2385,
    "start_time": "2023-09-26T09:05:57.423Z"
   },
   {
    "duration": 11,
    "start_time": "2023-09-26T09:05:59.810Z"
   },
   {
    "duration": 10,
    "start_time": "2023-09-26T09:05:59.823Z"
   },
   {
    "duration": 15,
    "start_time": "2023-09-26T09:05:59.835Z"
   },
   {
    "duration": 15,
    "start_time": "2023-09-26T09:05:59.851Z"
   },
   {
    "duration": 47,
    "start_time": "2023-09-26T09:05:59.867Z"
   },
   {
    "duration": 11,
    "start_time": "2023-09-26T09:05:59.915Z"
   },
   {
    "duration": 21,
    "start_time": "2023-09-26T09:05:59.928Z"
   },
   {
    "duration": 14,
    "start_time": "2023-09-26T09:36:57.316Z"
   },
   {
    "duration": 525,
    "start_time": "2023-09-26T09:37:04.027Z"
   },
   {
    "duration": 9,
    "start_time": "2023-09-26T09:37:04.554Z"
   },
   {
    "duration": 63,
    "start_time": "2023-09-26T09:37:04.565Z"
   },
   {
    "duration": 2380,
    "start_time": "2023-09-26T09:37:04.631Z"
   },
   {
    "duration": 10,
    "start_time": "2023-09-26T09:37:07.014Z"
   },
   {
    "duration": 24,
    "start_time": "2023-09-26T09:37:07.025Z"
   },
   {
    "duration": 17,
    "start_time": "2023-09-26T09:37:07.051Z"
   },
   {
    "duration": 21,
    "start_time": "2023-09-26T09:37:07.070Z"
   },
   {
    "duration": 20,
    "start_time": "2023-09-26T09:37:07.092Z"
   },
   {
    "duration": 29,
    "start_time": "2023-09-26T09:37:07.114Z"
   },
   {
    "duration": 561,
    "start_time": "2023-09-26T09:39:08.907Z"
   },
   {
    "duration": 10,
    "start_time": "2023-09-26T09:39:09.470Z"
   },
   {
    "duration": 48,
    "start_time": "2023-09-26T09:39:09.481Z"
   },
   {
    "duration": 2320,
    "start_time": "2023-09-26T09:39:09.531Z"
   },
   {
    "duration": 10,
    "start_time": "2023-09-26T09:39:11.854Z"
   },
   {
    "duration": 29,
    "start_time": "2023-09-26T09:39:11.866Z"
   },
   {
    "duration": 34,
    "start_time": "2023-09-26T09:39:11.897Z"
   },
   {
    "duration": 11,
    "start_time": "2023-09-26T09:39:11.933Z"
   },
   {
    "duration": 18,
    "start_time": "2023-09-26T09:39:11.946Z"
   },
   {
    "duration": 15,
    "start_time": "2023-09-26T09:39:11.966Z"
   },
   {
    "duration": 533,
    "start_time": "2023-09-26T09:44:12.651Z"
   },
   {
    "duration": 10,
    "start_time": "2023-09-26T09:44:13.187Z"
   },
   {
    "duration": 38,
    "start_time": "2023-09-26T09:44:13.212Z"
   },
   {
    "duration": 2479,
    "start_time": "2023-09-26T09:44:13.252Z"
   },
   {
    "duration": 12,
    "start_time": "2023-09-26T09:44:15.733Z"
   },
   {
    "duration": 21,
    "start_time": "2023-09-26T09:44:15.747Z"
   },
   {
    "duration": 16,
    "start_time": "2023-09-26T09:44:15.771Z"
   },
   {
    "duration": 20,
    "start_time": "2023-09-26T09:44:15.789Z"
   },
   {
    "duration": 12,
    "start_time": "2023-09-26T09:44:15.812Z"
   },
   {
    "duration": 13,
    "start_time": "2023-09-26T09:44:15.827Z"
   },
   {
    "duration": 58,
    "start_time": "2023-09-26T14:06:14.004Z"
   },
   {
    "duration": 792,
    "start_time": "2023-09-26T14:06:19.980Z"
   },
   {
    "duration": 9,
    "start_time": "2023-09-26T14:06:20.775Z"
   },
   {
    "duration": 91,
    "start_time": "2023-09-26T14:06:20.787Z"
   },
   {
    "duration": 2683,
    "start_time": "2023-09-26T14:06:20.879Z"
   },
   {
    "duration": 12,
    "start_time": "2023-09-26T14:06:23.565Z"
   },
   {
    "duration": 36,
    "start_time": "2023-09-26T14:06:23.579Z"
   },
   {
    "duration": 19,
    "start_time": "2023-09-26T14:06:23.617Z"
   },
   {
    "duration": 23,
    "start_time": "2023-09-26T14:06:23.638Z"
   },
   {
    "duration": 17,
    "start_time": "2023-09-26T14:06:23.665Z"
   },
   {
    "duration": 23,
    "start_time": "2023-09-26T14:06:23.684Z"
   },
   {
    "duration": 47,
    "start_time": "2023-09-26T14:41:24.044Z"
   },
   {
    "duration": 523,
    "start_time": "2023-09-26T14:41:30.990Z"
   },
   {
    "duration": 9,
    "start_time": "2023-09-26T14:41:31.515Z"
   },
   {
    "duration": 87,
    "start_time": "2023-09-26T14:41:31.526Z"
   },
   {
    "duration": 2527,
    "start_time": "2023-09-26T14:41:31.614Z"
   },
   {
    "duration": 25,
    "start_time": "2023-09-26T14:41:34.143Z"
   },
   {
    "duration": 17,
    "start_time": "2023-09-26T14:41:34.170Z"
   },
   {
    "duration": 20,
    "start_time": "2023-09-26T14:41:34.189Z"
   },
   {
    "duration": 21,
    "start_time": "2023-09-26T14:41:34.211Z"
   },
   {
    "duration": 86,
    "start_time": "2023-09-26T14:41:34.234Z"
   },
   {
    "duration": 12,
    "start_time": "2023-09-26T14:41:34.322Z"
   },
   {
    "duration": 31,
    "start_time": "2023-09-26T14:41:46.535Z"
   },
   {
    "duration": 6,
    "start_time": "2023-09-26T14:42:01.740Z"
   },
   {
    "duration": 20,
    "start_time": "2023-09-26T14:42:38.293Z"
   },
   {
    "duration": 565,
    "start_time": "2023-09-26T14:45:19.215Z"
   },
   {
    "duration": 12,
    "start_time": "2023-09-26T14:45:19.782Z"
   },
   {
    "duration": 70,
    "start_time": "2023-09-26T14:45:19.796Z"
   },
   {
    "duration": 2642,
    "start_time": "2023-09-26T14:45:19.868Z"
   },
   {
    "duration": 11,
    "start_time": "2023-09-26T14:45:22.512Z"
   },
   {
    "duration": 33,
    "start_time": "2023-09-26T14:45:22.525Z"
   },
   {
    "duration": 23,
    "start_time": "2023-09-26T14:45:22.560Z"
   },
   {
    "duration": 9,
    "start_time": "2023-09-26T14:45:22.585Z"
   },
   {
    "duration": 49,
    "start_time": "2023-09-26T14:45:22.595Z"
   },
   {
    "duration": 43,
    "start_time": "2023-09-26T14:50:50.028Z"
   },
   {
    "duration": 643,
    "start_time": "2023-09-26T14:50:55.097Z"
   },
   {
    "duration": 16,
    "start_time": "2023-09-26T14:50:55.743Z"
   },
   {
    "duration": 49,
    "start_time": "2023-09-26T14:50:55.761Z"
   },
   {
    "duration": 2705,
    "start_time": "2023-09-26T14:50:55.813Z"
   },
   {
    "duration": 12,
    "start_time": "2023-09-26T14:50:58.520Z"
   },
   {
    "duration": 24,
    "start_time": "2023-09-26T14:50:58.534Z"
   },
   {
    "duration": 24,
    "start_time": "2023-09-26T14:50:58.560Z"
   },
   {
    "duration": 8,
    "start_time": "2023-09-26T14:50:58.586Z"
   },
   {
    "duration": 21,
    "start_time": "2023-09-26T14:50:58.596Z"
   },
   {
    "duration": 601,
    "start_time": "2023-09-26T14:52:46.321Z"
   },
   {
    "duration": 9,
    "start_time": "2023-09-26T14:52:46.924Z"
   },
   {
    "duration": 50,
    "start_time": "2023-09-26T14:52:46.934Z"
   },
   {
    "duration": 2592,
    "start_time": "2023-09-26T14:52:46.986Z"
   },
   {
    "duration": 11,
    "start_time": "2023-09-26T14:52:49.580Z"
   },
   {
    "duration": 12,
    "start_time": "2023-09-26T14:52:49.592Z"
   },
   {
    "duration": 28,
    "start_time": "2023-09-26T14:52:49.605Z"
   },
   {
    "duration": 144,
    "start_time": "2023-09-26T14:52:49.635Z"
   },
   {
    "duration": 48,
    "start_time": "2023-09-26T14:52:49.781Z"
   },
   {
    "duration": 877,
    "start_time": "2023-09-27T08:44:29.932Z"
   },
   {
    "duration": 10,
    "start_time": "2023-09-27T08:44:30.811Z"
   },
   {
    "duration": 111,
    "start_time": "2023-09-27T08:44:30.822Z"
   },
   {
    "duration": 3152,
    "start_time": "2023-09-27T08:44:30.935Z"
   },
   {
    "duration": 23,
    "start_time": "2023-09-27T08:44:34.091Z"
   },
   {
    "duration": 31,
    "start_time": "2023-09-27T08:44:34.116Z"
   },
   {
    "duration": 298,
    "start_time": "2023-09-27T08:44:34.150Z"
   },
   {
    "duration": 60,
    "start_time": "2023-09-27T08:44:34.451Z"
   },
   {
    "duration": 203,
    "start_time": "2023-09-27T08:44:34.513Z"
   },
   {
    "duration": 0,
    "start_time": "2023-09-27T08:44:34.718Z"
   },
   {
    "duration": 11,
    "start_time": "2023-09-27T08:49:23.310Z"
   },
   {
    "duration": 103,
    "start_time": "2023-09-27T08:50:17.750Z"
   },
   {
    "duration": 983,
    "start_time": "2023-09-27T08:50:58.865Z"
   },
   {
    "duration": 1156,
    "start_time": "2023-09-27T08:53:46.555Z"
   },
   {
    "duration": 546,
    "start_time": "2023-09-27T08:53:53.482Z"
   },
   {
    "duration": 8,
    "start_time": "2023-09-27T08:53:54.030Z"
   },
   {
    "duration": 27,
    "start_time": "2023-09-27T08:53:54.040Z"
   },
   {
    "duration": 2293,
    "start_time": "2023-09-27T08:53:54.068Z"
   },
   {
    "duration": 11,
    "start_time": "2023-09-27T08:53:56.363Z"
   },
   {
    "duration": 15,
    "start_time": "2023-09-27T08:53:56.376Z"
   },
   {
    "duration": 33,
    "start_time": "2023-09-27T08:53:56.392Z"
   },
   {
    "duration": 5,
    "start_time": "2023-09-27T08:53:56.427Z"
   },
   {
    "duration": 1562,
    "start_time": "2023-09-27T08:53:56.433Z"
   },
   {
    "duration": 0,
    "start_time": "2023-09-27T08:53:57.997Z"
   },
   {
    "duration": 980,
    "start_time": "2023-09-27T08:55:13.104Z"
   },
   {
    "duration": 1439,
    "start_time": "2023-09-27T08:55:24.834Z"
   },
   {
    "duration": 9,
    "start_time": "2023-09-27T08:55:39.680Z"
   },
   {
    "duration": 15,
    "start_time": "2023-09-27T08:56:03.785Z"
   },
   {
    "duration": 478,
    "start_time": "2023-09-27T08:56:20.238Z"
   },
   {
    "duration": 9,
    "start_time": "2023-09-27T08:56:20.717Z"
   },
   {
    "duration": 31,
    "start_time": "2023-09-27T08:56:20.727Z"
   },
   {
    "duration": 2369,
    "start_time": "2023-09-27T08:56:20.760Z"
   },
   {
    "duration": 12,
    "start_time": "2023-09-27T08:56:23.133Z"
   },
   {
    "duration": 20,
    "start_time": "2023-09-27T08:56:23.147Z"
   },
   {
    "duration": 18,
    "start_time": "2023-09-27T08:56:23.169Z"
   },
   {
    "duration": 15,
    "start_time": "2023-09-27T08:56:23.189Z"
   },
   {
    "duration": 17,
    "start_time": "2023-09-27T08:56:23.207Z"
   },
   {
    "duration": 14,
    "start_time": "2023-09-27T08:56:23.226Z"
   },
   {
    "duration": 16,
    "start_time": "2023-09-27T08:56:40.444Z"
   },
   {
    "duration": 17,
    "start_time": "2023-09-27T08:56:57.454Z"
   },
   {
    "duration": 15,
    "start_time": "2023-09-27T08:57:24.322Z"
   },
   {
    "duration": 521,
    "start_time": "2023-09-27T08:57:30.812Z"
   },
   {
    "duration": 8,
    "start_time": "2023-09-27T08:57:31.335Z"
   },
   {
    "duration": 63,
    "start_time": "2023-09-27T08:57:31.345Z"
   },
   {
    "duration": 2444,
    "start_time": "2023-09-27T08:57:31.409Z"
   },
   {
    "duration": 10,
    "start_time": "2023-09-27T08:57:33.856Z"
   },
   {
    "duration": 19,
    "start_time": "2023-09-27T08:57:33.867Z"
   },
   {
    "duration": 16,
    "start_time": "2023-09-27T08:57:33.888Z"
   },
   {
    "duration": 16,
    "start_time": "2023-09-27T08:57:33.905Z"
   },
   {
    "duration": 14,
    "start_time": "2023-09-27T08:57:33.923Z"
   },
   {
    "duration": 11,
    "start_time": "2023-09-27T08:57:33.939Z"
   },
   {
    "duration": 694,
    "start_time": "2023-09-27T09:04:38.547Z"
   },
   {
    "duration": 550,
    "start_time": "2023-09-27T09:04:53.960Z"
   },
   {
    "duration": 10,
    "start_time": "2023-09-27T09:04:54.512Z"
   },
   {
    "duration": 57,
    "start_time": "2023-09-27T09:04:54.524Z"
   },
   {
    "duration": 2262,
    "start_time": "2023-09-27T09:04:54.583Z"
   },
   {
    "duration": 12,
    "start_time": "2023-09-27T09:04:56.849Z"
   },
   {
    "duration": 45,
    "start_time": "2023-09-27T09:04:56.863Z"
   },
   {
    "duration": 112,
    "start_time": "2023-09-27T09:04:56.910Z"
   },
   {
    "duration": 0,
    "start_time": "2023-09-27T09:04:57.024Z"
   },
   {
    "duration": 0,
    "start_time": "2023-09-27T09:04:57.025Z"
   },
   {
    "duration": 0,
    "start_time": "2023-09-27T09:04:57.026Z"
   },
   {
    "duration": 478,
    "start_time": "2023-09-27T09:06:18.932Z"
   },
   {
    "duration": 8,
    "start_time": "2023-09-27T09:06:19.413Z"
   },
   {
    "duration": 61,
    "start_time": "2023-09-27T09:06:19.423Z"
   },
   {
    "duration": 2391,
    "start_time": "2023-09-27T09:06:19.486Z"
   },
   {
    "duration": 11,
    "start_time": "2023-09-27T09:06:21.879Z"
   },
   {
    "duration": 20,
    "start_time": "2023-09-27T09:06:21.892Z"
   },
   {
    "duration": 28,
    "start_time": "2023-09-27T09:06:21.914Z"
   },
   {
    "duration": 9,
    "start_time": "2023-09-27T09:06:21.944Z"
   },
   {
    "duration": 19,
    "start_time": "2023-09-27T09:06:21.954Z"
   },
   {
    "duration": 28,
    "start_time": "2023-09-27T09:06:21.975Z"
   },
   {
    "duration": 10,
    "start_time": "2023-09-27T09:31:09.998Z"
   },
   {
    "duration": 96,
    "start_time": "2023-09-27T09:36:23.816Z"
   },
   {
    "duration": 96,
    "start_time": "2023-09-27T09:36:35.218Z"
   },
   {
    "duration": 63,
    "start_time": "2023-09-27T11:34:35.204Z"
   },
   {
    "duration": 762,
    "start_time": "2023-09-27T11:34:40.793Z"
   },
   {
    "duration": 9,
    "start_time": "2023-09-27T11:34:41.557Z"
   },
   {
    "duration": 250,
    "start_time": "2023-09-27T11:34:41.568Z"
   },
   {
    "duration": 2930,
    "start_time": "2023-09-27T11:34:41.820Z"
   },
   {
    "duration": 10,
    "start_time": "2023-09-27T11:34:44.752Z"
   },
   {
    "duration": 117,
    "start_time": "2023-09-27T11:34:44.764Z"
   },
   {
    "duration": 74,
    "start_time": "2023-09-27T11:34:44.882Z"
   },
   {
    "duration": 65,
    "start_time": "2023-09-27T11:34:44.958Z"
   },
   {
    "duration": 421,
    "start_time": "2023-09-27T11:34:45.026Z"
   },
   {
    "duration": 606,
    "start_time": "2023-09-27T11:34:45.450Z"
   },
   {
    "duration": 64,
    "start_time": "2023-09-27T11:34:46.058Z"
   },
   {
    "duration": 481,
    "start_time": "2023-09-27T11:34:46.124Z"
   },
   {
    "duration": 104,
    "start_time": "2023-09-27T11:35:15.078Z"
   },
   {
    "duration": 601,
    "start_time": "2023-09-27T11:35:34.005Z"
   },
   {
    "duration": 8,
    "start_time": "2023-09-27T11:35:34.608Z"
   },
   {
    "duration": 47,
    "start_time": "2023-09-27T11:35:34.630Z"
   },
   {
    "duration": 2655,
    "start_time": "2023-09-27T11:35:34.679Z"
   },
   {
    "duration": 15,
    "start_time": "2023-09-27T11:35:37.337Z"
   },
   {
    "duration": 12,
    "start_time": "2023-09-27T11:35:37.354Z"
   },
   {
    "duration": 24,
    "start_time": "2023-09-27T11:35:37.368Z"
   },
   {
    "duration": 11,
    "start_time": "2023-09-27T11:35:37.393Z"
   },
   {
    "duration": 25,
    "start_time": "2023-09-27T11:35:37.405Z"
   },
   {
    "duration": 19,
    "start_time": "2023-09-27T11:35:37.432Z"
   },
   {
    "duration": 19,
    "start_time": "2023-09-27T11:35:37.453Z"
   },
   {
    "duration": 173,
    "start_time": "2023-09-27T11:35:37.474Z"
   },
   {
    "duration": 100,
    "start_time": "2023-09-27T11:35:41.126Z"
   },
   {
    "duration": 96,
    "start_time": "2023-09-27T11:36:47.318Z"
   },
   {
    "duration": 5,
    "start_time": "2023-09-27T11:44:23.329Z"
   },
   {
    "duration": 25,
    "start_time": "2023-09-27T11:45:12.282Z"
   },
   {
    "duration": 525,
    "start_time": "2023-09-27T11:45:25.673Z"
   },
   {
    "duration": 393,
    "start_time": "2023-09-27T11:45:30.042Z"
   },
   {
    "duration": 25,
    "start_time": "2023-09-27T11:45:39.080Z"
   },
   {
    "duration": 26,
    "start_time": "2023-09-27T11:45:44.210Z"
   },
   {
    "duration": 697,
    "start_time": "2023-09-27T11:45:48.823Z"
   },
   {
    "duration": 357,
    "start_time": "2023-09-27T11:45:54.903Z"
   },
   {
    "duration": 580,
    "start_time": "2023-09-27T11:45:58.584Z"
   },
   {
    "duration": 37,
    "start_time": "2023-09-27T11:46:10.307Z"
   },
   {
    "duration": 379,
    "start_time": "2023-09-27T11:47:24.678Z"
   },
   {
    "duration": 422,
    "start_time": "2023-09-27T11:47:54.705Z"
   },
   {
    "duration": 23,
    "start_time": "2023-09-27T11:48:15.438Z"
   },
   {
    "duration": 397,
    "start_time": "2023-09-27T11:48:23.251Z"
   },
   {
    "duration": 7,
    "start_time": "2023-09-27T11:49:45.955Z"
   },
   {
    "duration": 523,
    "start_time": "2023-09-27T11:50:35.370Z"
   },
   {
    "duration": 10,
    "start_time": "2023-09-27T11:50:35.896Z"
   },
   {
    "duration": 93,
    "start_time": "2023-09-27T11:50:35.908Z"
   },
   {
    "duration": 2487,
    "start_time": "2023-09-27T11:50:36.003Z"
   },
   {
    "duration": 11,
    "start_time": "2023-09-27T11:50:38.492Z"
   },
   {
    "duration": 175,
    "start_time": "2023-09-27T11:50:38.505Z"
   },
   {
    "duration": 13,
    "start_time": "2023-09-27T11:50:38.682Z"
   },
   {
    "duration": 6,
    "start_time": "2023-09-27T11:50:38.697Z"
   },
   {
    "duration": 14,
    "start_time": "2023-09-27T11:50:38.704Z"
   },
   {
    "duration": 43,
    "start_time": "2023-09-27T11:50:38.720Z"
   },
   {
    "duration": 15,
    "start_time": "2023-09-27T11:50:38.765Z"
   },
   {
    "duration": 96,
    "start_time": "2023-09-27T11:50:38.782Z"
   },
   {
    "duration": 9,
    "start_time": "2023-09-27T11:50:38.880Z"
   },
   {
    "duration": 73,
    "start_time": "2023-09-27T11:55:43.693Z"
   },
   {
    "duration": 502,
    "start_time": "2023-09-27T11:55:54.240Z"
   },
   {
    "duration": 10,
    "start_time": "2023-09-27T11:55:54.745Z"
   },
   {
    "duration": 34,
    "start_time": "2023-09-27T11:55:54.757Z"
   },
   {
    "duration": 2401,
    "start_time": "2023-09-27T11:55:54.793Z"
   },
   {
    "duration": 11,
    "start_time": "2023-09-27T11:55:57.197Z"
   },
   {
    "duration": 15,
    "start_time": "2023-09-27T11:55:57.210Z"
   },
   {
    "duration": 16,
    "start_time": "2023-09-27T11:55:57.227Z"
   },
   {
    "duration": 6,
    "start_time": "2023-09-27T11:55:57.246Z"
   },
   {
    "duration": 15,
    "start_time": "2023-09-27T11:55:57.254Z"
   },
   {
    "duration": 11,
    "start_time": "2023-09-27T11:55:57.270Z"
   },
   {
    "duration": 8,
    "start_time": "2023-09-27T11:55:57.283Z"
   },
   {
    "duration": 105,
    "start_time": "2023-09-27T11:55:57.328Z"
   },
   {
    "duration": 10,
    "start_time": "2023-09-27T11:55:57.437Z"
   },
   {
    "duration": 93,
    "start_time": "2023-09-27T11:55:57.449Z"
   },
   {
    "duration": 10,
    "start_time": "2023-09-27T11:58:16.912Z"
   },
   {
    "duration": 11,
    "start_time": "2023-09-27T11:59:47.925Z"
   },
   {
    "duration": 5,
    "start_time": "2023-09-27T12:03:20.562Z"
   },
   {
    "duration": 8,
    "start_time": "2023-09-27T12:03:33.471Z"
   },
   {
    "duration": 8,
    "start_time": "2023-09-27T12:08:35.294Z"
   },
   {
    "duration": 7,
    "start_time": "2023-09-27T12:09:29.676Z"
   },
   {
    "duration": 524,
    "start_time": "2023-09-27T12:09:47.273Z"
   },
   {
    "duration": 8,
    "start_time": "2023-09-27T12:09:47.799Z"
   },
   {
    "duration": 98,
    "start_time": "2023-09-27T12:09:47.808Z"
   },
   {
    "duration": 2375,
    "start_time": "2023-09-27T12:09:47.907Z"
   },
   {
    "duration": 11,
    "start_time": "2023-09-27T12:09:50.284Z"
   },
   {
    "duration": 190,
    "start_time": "2023-09-27T12:09:50.297Z"
   },
   {
    "duration": 31,
    "start_time": "2023-09-27T12:09:50.488Z"
   },
   {
    "duration": 25,
    "start_time": "2023-09-27T12:09:50.520Z"
   },
   {
    "duration": 48,
    "start_time": "2023-09-27T12:09:50.547Z"
   },
   {
    "duration": 56,
    "start_time": "2023-09-27T12:09:50.597Z"
   },
   {
    "duration": 34,
    "start_time": "2023-09-27T12:09:50.654Z"
   },
   {
    "duration": 138,
    "start_time": "2023-09-27T12:09:50.689Z"
   },
   {
    "duration": 15,
    "start_time": "2023-09-27T12:09:50.829Z"
   },
   {
    "duration": 60,
    "start_time": "2023-09-27T12:09:50.847Z"
   },
   {
    "duration": 56,
    "start_time": "2023-09-27T12:09:50.909Z"
   },
   {
    "duration": 66,
    "start_time": "2023-09-27T12:09:50.967Z"
   },
   {
    "duration": 130,
    "start_time": "2023-09-27T12:27:17.031Z"
   },
   {
    "duration": 98,
    "start_time": "2023-09-27T12:27:22.591Z"
   },
   {
    "duration": 21,
    "start_time": "2023-09-27T12:38:55.422Z"
   },
   {
    "duration": 574,
    "start_time": "2023-09-27T12:39:00.735Z"
   },
   {
    "duration": 20,
    "start_time": "2023-09-27T12:39:01.311Z"
   },
   {
    "duration": 130,
    "start_time": "2023-09-27T12:39:01.334Z"
   },
   {
    "duration": 2692,
    "start_time": "2023-09-27T12:39:01.465Z"
   },
   {
    "duration": 11,
    "start_time": "2023-09-27T12:39:04.159Z"
   },
   {
    "duration": 339,
    "start_time": "2023-09-27T12:39:04.171Z"
   },
   {
    "duration": 58,
    "start_time": "2023-09-27T12:39:04.512Z"
   },
   {
    "duration": 44,
    "start_time": "2023-09-27T12:39:04.572Z"
   },
   {
    "duration": 88,
    "start_time": "2023-09-27T12:39:04.618Z"
   },
   {
    "duration": 67,
    "start_time": "2023-09-27T12:39:04.708Z"
   },
   {
    "duration": 61,
    "start_time": "2023-09-27T12:39:04.777Z"
   },
   {
    "duration": 122,
    "start_time": "2023-09-27T12:39:04.840Z"
   },
   {
    "duration": 8,
    "start_time": "2023-09-27T12:39:04.964Z"
   },
   {
    "duration": 87,
    "start_time": "2023-09-27T12:39:04.974Z"
   },
   {
    "duration": 83,
    "start_time": "2023-09-27T12:39:05.063Z"
   },
   {
    "duration": 25,
    "start_time": "2023-09-27T12:39:05.148Z"
   },
   {
    "duration": 154,
    "start_time": "2023-09-27T12:39:05.175Z"
   },
   {
    "duration": 4,
    "start_time": "2023-09-27T12:49:45.769Z"
   },
   {
    "duration": 12,
    "start_time": "2023-09-27T12:50:25.020Z"
   },
   {
    "duration": 7,
    "start_time": "2023-09-27T12:50:39.178Z"
   },
   {
    "duration": 8,
    "start_time": "2023-09-27T12:50:52.552Z"
   },
   {
    "duration": 18,
    "start_time": "2023-09-27T12:51:30.268Z"
   },
   {
    "duration": 7,
    "start_time": "2023-09-27T12:51:42.460Z"
   },
   {
    "duration": 540,
    "start_time": "2023-09-27T12:51:57.156Z"
   },
   {
    "duration": 8,
    "start_time": "2023-09-27T12:51:57.698Z"
   },
   {
    "duration": 58,
    "start_time": "2023-09-27T12:51:57.707Z"
   },
   {
    "duration": 2436,
    "start_time": "2023-09-27T12:51:57.766Z"
   },
   {
    "duration": 10,
    "start_time": "2023-09-27T12:52:00.204Z"
   },
   {
    "duration": 64,
    "start_time": "2023-09-27T12:52:00.217Z"
   },
   {
    "duration": 73,
    "start_time": "2023-09-27T12:52:00.283Z"
   },
   {
    "duration": 57,
    "start_time": "2023-09-27T12:52:00.358Z"
   },
   {
    "duration": 85,
    "start_time": "2023-09-27T12:52:00.417Z"
   },
   {
    "duration": 72,
    "start_time": "2023-09-27T12:52:00.504Z"
   },
   {
    "duration": 110,
    "start_time": "2023-09-27T12:52:00.578Z"
   },
   {
    "duration": 144,
    "start_time": "2023-09-27T12:52:00.689Z"
   },
   {
    "duration": 10,
    "start_time": "2023-09-27T12:52:00.835Z"
   },
   {
    "duration": 203,
    "start_time": "2023-09-27T12:52:00.847Z"
   },
   {
    "duration": 164,
    "start_time": "2023-09-27T12:52:01.052Z"
   },
   {
    "duration": 271,
    "start_time": "2023-09-27T12:52:01.218Z"
   },
   {
    "duration": 232,
    "start_time": "2023-09-27T12:52:01.491Z"
   },
   {
    "duration": 0,
    "start_time": "2023-09-27T12:52:01.727Z"
   },
   {
    "duration": 581,
    "start_time": "2023-09-27T12:53:57.005Z"
   },
   {
    "duration": 9,
    "start_time": "2023-09-27T12:53:57.588Z"
   },
   {
    "duration": 47,
    "start_time": "2023-09-27T12:53:57.599Z"
   },
   {
    "duration": 2313,
    "start_time": "2023-09-27T12:53:57.649Z"
   },
   {
    "duration": 10,
    "start_time": "2023-09-27T12:53:59.966Z"
   },
   {
    "duration": 14,
    "start_time": "2023-09-27T12:53:59.978Z"
   },
   {
    "duration": 13,
    "start_time": "2023-09-27T12:53:59.994Z"
   },
   {
    "duration": 5,
    "start_time": "2023-09-27T12:54:00.009Z"
   },
   {
    "duration": 38,
    "start_time": "2023-09-27T12:54:00.016Z"
   },
   {
    "duration": 28,
    "start_time": "2023-09-27T12:54:00.056Z"
   },
   {
    "duration": 54,
    "start_time": "2023-09-27T12:54:00.086Z"
   },
   {
    "duration": 118,
    "start_time": "2023-09-27T12:54:00.142Z"
   },
   {
    "duration": 10,
    "start_time": "2023-09-27T12:54:00.262Z"
   },
   {
    "duration": 38,
    "start_time": "2023-09-27T12:54:00.275Z"
   },
   {
    "duration": 43,
    "start_time": "2023-09-27T12:54:00.315Z"
   },
   {
    "duration": 39,
    "start_time": "2023-09-27T12:54:00.359Z"
   },
   {
    "duration": 152,
    "start_time": "2023-09-27T12:54:00.400Z"
   },
   {
    "duration": 0,
    "start_time": "2023-09-27T12:54:00.554Z"
   },
   {
    "duration": 13,
    "start_time": "2023-09-27T12:54:08.346Z"
   },
   {
    "duration": 516,
    "start_time": "2023-09-27T12:56:43.462Z"
   },
   {
    "duration": 9,
    "start_time": "2023-09-27T12:56:43.979Z"
   },
   {
    "duration": 58,
    "start_time": "2023-09-27T12:56:43.989Z"
   },
   {
    "duration": 2750,
    "start_time": "2023-09-27T12:56:44.049Z"
   },
   {
    "duration": 11,
    "start_time": "2023-09-27T12:56:46.802Z"
   },
   {
    "duration": 25,
    "start_time": "2023-09-27T12:56:46.815Z"
   },
   {
    "duration": 33,
    "start_time": "2023-09-27T12:56:46.843Z"
   },
   {
    "duration": 8,
    "start_time": "2023-09-27T12:56:46.878Z"
   },
   {
    "duration": 15,
    "start_time": "2023-09-27T12:56:46.888Z"
   },
   {
    "duration": 29,
    "start_time": "2023-09-27T12:56:46.904Z"
   },
   {
    "duration": 19,
    "start_time": "2023-09-27T12:56:46.934Z"
   },
   {
    "duration": 160,
    "start_time": "2023-09-27T12:56:46.958Z"
   },
   {
    "duration": 13,
    "start_time": "2023-09-27T12:56:47.123Z"
   },
   {
    "duration": 28,
    "start_time": "2023-09-27T12:56:47.142Z"
   },
   {
    "duration": 13,
    "start_time": "2023-09-27T12:56:47.171Z"
   },
   {
    "duration": 93,
    "start_time": "2023-09-27T12:56:47.186Z"
   },
   {
    "duration": 191,
    "start_time": "2023-09-27T12:56:47.282Z"
   },
   {
    "duration": 0,
    "start_time": "2023-09-27T12:56:47.475Z"
   },
   {
    "duration": 8,
    "start_time": "2023-09-27T12:56:51.786Z"
   },
   {
    "duration": 115,
    "start_time": "2023-09-27T12:58:08.746Z"
   },
   {
    "duration": 213,
    "start_time": "2023-09-27T12:58:36.319Z"
   },
   {
    "duration": 162,
    "start_time": "2023-09-27T12:58:40.873Z"
   },
   {
    "duration": 140,
    "start_time": "2023-09-27T13:01:28.634Z"
   },
   {
    "duration": 138,
    "start_time": "2023-09-27T13:01:38.498Z"
   },
   {
    "duration": 138,
    "start_time": "2023-09-27T13:01:42.244Z"
   },
   {
    "duration": 355,
    "start_time": "2023-09-27T13:01:46.114Z"
   },
   {
    "duration": 261,
    "start_time": "2023-09-27T13:01:51.795Z"
   },
   {
    "duration": 480,
    "start_time": "2023-09-27T13:01:56.829Z"
   },
   {
    "duration": 263,
    "start_time": "2023-09-27T13:02:18.832Z"
   },
   {
    "duration": 124,
    "start_time": "2023-09-27T13:02:54.051Z"
   },
   {
    "duration": 227,
    "start_time": "2023-09-27T13:03:06.209Z"
   },
   {
    "duration": 351,
    "start_time": "2023-09-27T13:03:16.561Z"
   },
   {
    "duration": 8,
    "start_time": "2023-09-27T13:06:33.015Z"
   },
   {
    "duration": 102,
    "start_time": "2023-09-27T13:08:28.166Z"
   },
   {
    "duration": 99,
    "start_time": "2023-09-27T13:08:34.697Z"
   },
   {
    "duration": 96,
    "start_time": "2023-09-27T13:09:06.985Z"
   },
   {
    "duration": 348,
    "start_time": "2023-09-27T13:10:29.679Z"
   },
   {
    "duration": 234,
    "start_time": "2023-09-27T13:10:38.035Z"
   },
   {
    "duration": 257,
    "start_time": "2023-09-27T13:11:36.486Z"
   },
   {
    "duration": 110,
    "start_time": "2023-09-27T13:13:32.538Z"
   },
   {
    "duration": 815,
    "start_time": "2023-09-27T13:13:38.899Z"
   },
   {
    "duration": 8,
    "start_time": "2023-09-27T13:13:39.716Z"
   },
   {
    "duration": 73,
    "start_time": "2023-09-27T13:13:39.725Z"
   },
   {
    "duration": 2106,
    "start_time": "2023-09-27T13:13:39.800Z"
   },
   {
    "duration": 9,
    "start_time": "2023-09-27T13:13:41.908Z"
   },
   {
    "duration": 75,
    "start_time": "2023-09-27T13:13:41.919Z"
   },
   {
    "duration": 53,
    "start_time": "2023-09-27T13:13:41.995Z"
   },
   {
    "duration": 47,
    "start_time": "2023-09-27T13:13:42.050Z"
   },
   {
    "duration": 41,
    "start_time": "2023-09-27T13:13:42.098Z"
   },
   {
    "duration": 94,
    "start_time": "2023-09-27T13:13:42.141Z"
   },
   {
    "duration": 56,
    "start_time": "2023-09-27T13:13:42.236Z"
   },
   {
    "duration": 105,
    "start_time": "2023-09-27T13:13:42.294Z"
   },
   {
    "duration": 9,
    "start_time": "2023-09-27T13:13:42.400Z"
   },
   {
    "duration": 32,
    "start_time": "2023-09-27T13:13:42.423Z"
   },
   {
    "duration": 22,
    "start_time": "2023-09-27T13:13:42.457Z"
   },
   {
    "duration": 62,
    "start_time": "2023-09-27T13:13:42.481Z"
   },
   {
    "duration": 92,
    "start_time": "2023-09-27T13:13:42.545Z"
   },
   {
    "duration": 0,
    "start_time": "2023-09-27T13:13:42.639Z"
   },
   {
    "duration": 0,
    "start_time": "2023-09-27T13:13:42.640Z"
   },
   {
    "duration": 0,
    "start_time": "2023-09-27T13:13:42.641Z"
   },
   {
    "duration": 12,
    "start_time": "2023-09-27T13:14:20.462Z"
   },
   {
    "duration": 719,
    "start_time": "2023-09-27T13:14:43.953Z"
   },
   {
    "duration": 6,
    "start_time": "2023-09-27T13:14:44.674Z"
   },
   {
    "duration": 44,
    "start_time": "2023-09-27T13:14:44.682Z"
   },
   {
    "duration": 1958,
    "start_time": "2023-09-27T13:14:44.728Z"
   },
   {
    "duration": 12,
    "start_time": "2023-09-27T13:14:46.688Z"
   },
   {
    "duration": 106,
    "start_time": "2023-09-27T13:14:46.703Z"
   },
   {
    "duration": 142,
    "start_time": "2023-09-27T13:14:46.811Z"
   },
   {
    "duration": 20,
    "start_time": "2023-09-27T13:14:46.955Z"
   },
   {
    "duration": 87,
    "start_time": "2023-09-27T13:14:46.977Z"
   },
   {
    "duration": 84,
    "start_time": "2023-09-27T13:14:47.066Z"
   },
   {
    "duration": 34,
    "start_time": "2023-09-27T13:14:47.152Z"
   },
   {
    "duration": 95,
    "start_time": "2023-09-27T13:14:47.188Z"
   },
   {
    "duration": 8,
    "start_time": "2023-09-27T13:14:47.284Z"
   },
   {
    "duration": 21,
    "start_time": "2023-09-27T13:14:47.294Z"
   },
   {
    "duration": 82,
    "start_time": "2023-09-27T13:14:47.317Z"
   },
   {
    "duration": 40,
    "start_time": "2023-09-27T13:14:47.401Z"
   },
   {
    "duration": 64,
    "start_time": "2023-09-27T13:14:47.442Z"
   },
   {
    "duration": 33,
    "start_time": "2023-09-27T13:14:47.508Z"
   },
   {
    "duration": 137,
    "start_time": "2023-09-27T13:14:47.543Z"
   },
   {
    "duration": 0,
    "start_time": "2023-09-27T13:14:47.682Z"
   },
   {
    "duration": 761,
    "start_time": "2023-09-27T13:15:19.897Z"
   },
   {
    "duration": 319,
    "start_time": "2023-09-27T13:18:05.856Z"
   },
   {
    "duration": 11,
    "start_time": "2023-09-27T13:18:40.396Z"
   },
   {
    "duration": 13,
    "start_time": "2023-09-27T13:20:14.029Z"
   },
   {
    "duration": 808,
    "start_time": "2023-09-27T13:22:56.816Z"
   },
   {
    "duration": 6,
    "start_time": "2023-09-27T13:22:57.626Z"
   },
   {
    "duration": 50,
    "start_time": "2023-09-27T13:22:57.634Z"
   },
   {
    "duration": 2044,
    "start_time": "2023-09-27T13:22:57.686Z"
   },
   {
    "duration": 10,
    "start_time": "2023-09-27T13:22:59.732Z"
   },
   {
    "duration": 11,
    "start_time": "2023-09-27T13:22:59.743Z"
   },
   {
    "duration": 12,
    "start_time": "2023-09-27T13:22:59.755Z"
   },
   {
    "duration": 15,
    "start_time": "2023-09-27T13:22:59.769Z"
   },
   {
    "duration": 38,
    "start_time": "2023-09-27T13:22:59.786Z"
   },
   {
    "duration": 11,
    "start_time": "2023-09-27T13:22:59.826Z"
   },
   {
    "duration": 8,
    "start_time": "2023-09-27T13:22:59.839Z"
   },
   {
    "duration": 116,
    "start_time": "2023-09-27T13:22:59.849Z"
   },
   {
    "duration": 8,
    "start_time": "2023-09-27T13:22:59.967Z"
   },
   {
    "duration": 7,
    "start_time": "2023-09-27T13:22:59.978Z"
   },
   {
    "duration": 7,
    "start_time": "2023-09-27T13:22:59.987Z"
   },
   {
    "duration": 8,
    "start_time": "2023-09-27T13:23:00.025Z"
   },
   {
    "duration": 71,
    "start_time": "2023-09-27T13:23:00.034Z"
   },
   {
    "duration": 40,
    "start_time": "2023-09-27T13:23:00.107Z"
   },
   {
    "duration": 346,
    "start_time": "2023-09-27T13:23:00.149Z"
   },
   {
    "duration": 9,
    "start_time": "2023-09-27T13:23:00.497Z"
   },
   {
    "duration": 0,
    "start_time": "2023-09-27T13:24:31.097Z"
   },
   {
    "duration": 9,
    "start_time": "2023-09-27T13:33:26.783Z"
   },
   {
    "duration": 47,
    "start_time": "2023-09-27T13:34:24.463Z"
   },
   {
    "duration": 12,
    "start_time": "2023-09-27T13:34:54.461Z"
   },
   {
    "duration": 42,
    "start_time": "2023-09-27T13:35:06.088Z"
   },
   {
    "duration": 13,
    "start_time": "2023-09-27T13:35:34.965Z"
   },
   {
    "duration": 77,
    "start_time": "2023-09-27T13:35:42.265Z"
   },
   {
    "duration": 38,
    "start_time": "2023-09-27T13:36:22.005Z"
   },
   {
    "duration": 40,
    "start_time": "2023-09-27T13:36:58.649Z"
   },
   {
    "duration": 35,
    "start_time": "2023-09-27T13:37:07.129Z"
   },
   {
    "duration": 42,
    "start_time": "2023-09-27T13:37:10.951Z"
   },
   {
    "duration": 39,
    "start_time": "2023-09-27T13:37:15.861Z"
   },
   {
    "duration": 62,
    "start_time": "2023-09-27T13:37:56.967Z"
   },
   {
    "duration": 248,
    "start_time": "2023-09-27T13:39:01.515Z"
   },
   {
    "duration": 15,
    "start_time": "2023-09-27T13:39:23.167Z"
   },
   {
    "duration": 242,
    "start_time": "2023-09-27T13:39:42.233Z"
   },
   {
    "duration": 234,
    "start_time": "2023-09-27T13:39:49.787Z"
   },
   {
    "duration": 3849,
    "start_time": "2023-09-27T13:39:57.477Z"
   },
   {
    "duration": 167,
    "start_time": "2023-09-27T13:40:07.261Z"
   },
   {
    "duration": 195,
    "start_time": "2023-09-27T13:40:13.314Z"
   },
   {
    "duration": 164,
    "start_time": "2023-09-27T13:40:19.698Z"
   },
   {
    "duration": 1225,
    "start_time": "2023-09-27T13:40:30.509Z"
   },
   {
    "duration": 236,
    "start_time": "2023-09-27T13:40:38.273Z"
   },
   {
    "duration": 80,
    "start_time": "2023-09-27T13:41:21.467Z"
   },
   {
    "duration": 85,
    "start_time": "2023-09-27T13:43:48.555Z"
   },
   {
    "duration": 12,
    "start_time": "2023-09-27T13:43:55.110Z"
   },
   {
    "duration": 10,
    "start_time": "2023-09-27T13:44:05.530Z"
   },
   {
    "duration": 71,
    "start_time": "2023-09-27T13:44:11.868Z"
   },
   {
    "duration": 11,
    "start_time": "2023-09-27T13:45:09.684Z"
   },
   {
    "duration": 123,
    "start_time": "2023-09-27T13:59:07.630Z"
   },
   {
    "duration": 132,
    "start_time": "2023-09-27T13:59:22.919Z"
   },
   {
    "duration": 138,
    "start_time": "2023-09-27T14:00:54.508Z"
   },
   {
    "duration": 122,
    "start_time": "2023-09-27T14:01:16.566Z"
   },
   {
    "duration": 130,
    "start_time": "2023-09-27T14:01:40.857Z"
   },
   {
    "duration": 133,
    "start_time": "2023-09-27T14:01:46.076Z"
   },
   {
    "duration": 95,
    "start_time": "2023-09-27T14:03:23.963Z"
   },
   {
    "duration": 819,
    "start_time": "2023-09-27T14:03:44.286Z"
   },
   {
    "duration": 6,
    "start_time": "2023-09-27T14:03:45.108Z"
   },
   {
    "duration": 134,
    "start_time": "2023-09-27T14:03:45.116Z"
   },
   {
    "duration": 2209,
    "start_time": "2023-09-27T14:03:45.253Z"
   },
   {
    "duration": 11,
    "start_time": "2023-09-27T14:03:47.464Z"
   },
   {
    "duration": 44,
    "start_time": "2023-09-27T14:03:47.477Z"
   },
   {
    "duration": 46,
    "start_time": "2023-09-27T14:03:47.523Z"
   },
   {
    "duration": 30,
    "start_time": "2023-09-27T14:03:47.571Z"
   },
   {
    "duration": 36,
    "start_time": "2023-09-27T14:03:47.603Z"
   },
   {
    "duration": 30,
    "start_time": "2023-09-27T14:03:47.643Z"
   },
   {
    "duration": 43,
    "start_time": "2023-09-27T14:03:47.675Z"
   },
   {
    "duration": 122,
    "start_time": "2023-09-27T14:03:47.719Z"
   },
   {
    "duration": 9,
    "start_time": "2023-09-27T14:03:47.843Z"
   },
   {
    "duration": 49,
    "start_time": "2023-09-27T14:03:47.854Z"
   },
   {
    "duration": 64,
    "start_time": "2023-09-27T14:03:47.905Z"
   },
   {
    "duration": 74,
    "start_time": "2023-09-27T14:03:47.971Z"
   },
   {
    "duration": 25,
    "start_time": "2023-09-27T14:03:48.048Z"
   },
   {
    "duration": 56,
    "start_time": "2023-09-27T14:03:48.076Z"
   },
   {
    "duration": 275,
    "start_time": "2023-09-27T14:03:48.134Z"
   },
   {
    "duration": 17,
    "start_time": "2023-09-27T14:03:48.411Z"
   },
   {
    "duration": 241,
    "start_time": "2023-09-27T14:03:48.429Z"
   },
   {
    "duration": 156,
    "start_time": "2023-09-27T14:03:48.672Z"
   },
   {
    "duration": 257,
    "start_time": "2023-09-27T14:05:34.099Z"
   },
   {
    "duration": 107,
    "start_time": "2023-09-27T14:05:44.500Z"
   },
   {
    "duration": 112,
    "start_time": "2023-09-27T14:06:01.257Z"
   },
   {
    "duration": 117,
    "start_time": "2023-09-27T14:06:06.525Z"
   },
   {
    "duration": 190,
    "start_time": "2023-09-27T14:06:12.793Z"
   },
   {
    "duration": 109,
    "start_time": "2023-09-27T14:06:57.888Z"
   },
   {
    "duration": 113,
    "start_time": "2023-09-27T14:07:01.836Z"
   },
   {
    "duration": 107,
    "start_time": "2023-09-27T14:07:05.310Z"
   },
   {
    "duration": 184,
    "start_time": "2023-09-27T14:07:14.752Z"
   },
   {
    "duration": 28,
    "start_time": "2023-09-27T14:08:04.031Z"
   },
   {
    "duration": 798,
    "start_time": "2023-09-27T14:08:10.529Z"
   },
   {
    "duration": 6,
    "start_time": "2023-09-27T14:08:11.329Z"
   },
   {
    "duration": 62,
    "start_time": "2023-09-27T14:08:11.336Z"
   },
   {
    "duration": 1938,
    "start_time": "2023-09-27T14:08:11.400Z"
   },
   {
    "duration": 9,
    "start_time": "2023-09-27T14:08:13.340Z"
   },
   {
    "duration": 31,
    "start_time": "2023-09-27T14:08:13.350Z"
   },
   {
    "duration": 48,
    "start_time": "2023-09-27T14:08:13.383Z"
   },
   {
    "duration": 25,
    "start_time": "2023-09-27T14:08:13.433Z"
   },
   {
    "duration": 57,
    "start_time": "2023-09-27T14:08:13.459Z"
   },
   {
    "duration": 31,
    "start_time": "2023-09-27T14:08:13.518Z"
   },
   {
    "duration": 36,
    "start_time": "2023-09-27T14:08:13.550Z"
   },
   {
    "duration": 97,
    "start_time": "2023-09-27T14:08:13.587Z"
   },
   {
    "duration": 7,
    "start_time": "2023-09-27T14:08:13.686Z"
   },
   {
    "duration": 19,
    "start_time": "2023-09-27T14:08:13.695Z"
   },
   {
    "duration": 24,
    "start_time": "2023-09-27T14:08:13.716Z"
   },
   {
    "duration": 21,
    "start_time": "2023-09-27T14:08:13.741Z"
   },
   {
    "duration": 16,
    "start_time": "2023-09-27T14:08:13.764Z"
   },
   {
    "duration": 27,
    "start_time": "2023-09-27T14:08:13.782Z"
   },
   {
    "duration": 43,
    "start_time": "2023-09-27T14:08:13.811Z"
   },
   {
    "duration": 217,
    "start_time": "2023-09-27T14:08:13.856Z"
   },
   {
    "duration": 8,
    "start_time": "2023-09-27T14:08:14.075Z"
   },
   {
    "duration": 124,
    "start_time": "2023-09-27T14:08:14.084Z"
   },
   {
    "duration": 125,
    "start_time": "2023-09-27T14:08:14.210Z"
   },
   {
    "duration": 991,
    "start_time": "2023-09-27T14:09:16.204Z"
   },
   {
    "duration": 5,
    "start_time": "2023-09-27T14:09:17.197Z"
   },
   {
    "duration": 34,
    "start_time": "2023-09-27T14:09:17.203Z"
   },
   {
    "duration": 1903,
    "start_time": "2023-09-27T14:09:17.239Z"
   },
   {
    "duration": 10,
    "start_time": "2023-09-27T14:09:19.143Z"
   },
   {
    "duration": 19,
    "start_time": "2023-09-27T14:09:19.154Z"
   },
   {
    "duration": 15,
    "start_time": "2023-09-27T14:09:19.174Z"
   },
   {
    "duration": 8,
    "start_time": "2023-09-27T14:09:19.191Z"
   },
   {
    "duration": 29,
    "start_time": "2023-09-27T14:09:19.201Z"
   },
   {
    "duration": 29,
    "start_time": "2023-09-27T14:09:19.233Z"
   },
   {
    "duration": 47,
    "start_time": "2023-09-27T14:09:19.263Z"
   },
   {
    "duration": 7,
    "start_time": "2023-09-27T14:09:19.311Z"
   },
   {
    "duration": 89,
    "start_time": "2023-09-27T14:09:19.319Z"
   },
   {
    "duration": 14,
    "start_time": "2023-09-27T14:09:19.410Z"
   },
   {
    "duration": 6,
    "start_time": "2023-09-27T14:09:19.426Z"
   },
   {
    "duration": 8,
    "start_time": "2023-09-27T14:09:19.434Z"
   },
   {
    "duration": 16,
    "start_time": "2023-09-27T14:09:19.443Z"
   },
   {
    "duration": 13,
    "start_time": "2023-09-27T14:09:19.460Z"
   },
   {
    "duration": 31,
    "start_time": "2023-09-27T14:09:19.474Z"
   },
   {
    "duration": 244,
    "start_time": "2023-09-27T14:09:19.507Z"
   },
   {
    "duration": 9,
    "start_time": "2023-09-27T14:09:19.754Z"
   },
   {
    "duration": 159,
    "start_time": "2023-09-27T14:09:19.765Z"
   },
   {
    "duration": 118,
    "start_time": "2023-09-27T14:09:19.925Z"
   },
   {
    "duration": 212,
    "start_time": "2023-09-27T14:16:59.336Z"
   },
   {
    "duration": 114,
    "start_time": "2023-09-27T14:17:07.232Z"
   },
   {
    "duration": 105,
    "start_time": "2023-09-27T14:17:13.965Z"
   },
   {
    "duration": 239,
    "start_time": "2023-09-27T14:18:24.685Z"
   },
   {
    "duration": 11,
    "start_time": "2023-09-27T14:19:02.439Z"
   },
   {
    "duration": 794,
    "start_time": "2023-09-27T14:22:31.624Z"
   },
   {
    "duration": 5,
    "start_time": "2023-09-27T14:22:32.423Z"
   },
   {
    "duration": 45,
    "start_time": "2023-09-27T14:22:32.432Z"
   },
   {
    "duration": 1967,
    "start_time": "2023-09-27T14:22:32.479Z"
   },
   {
    "duration": 9,
    "start_time": "2023-09-27T14:22:34.448Z"
   },
   {
    "duration": 12,
    "start_time": "2023-09-27T14:22:34.459Z"
   },
   {
    "duration": 13,
    "start_time": "2023-09-27T14:22:34.473Z"
   },
   {
    "duration": 28,
    "start_time": "2023-09-27T14:22:34.487Z"
   },
   {
    "duration": 20,
    "start_time": "2023-09-27T14:22:34.517Z"
   },
   {
    "duration": 29,
    "start_time": "2023-09-27T14:22:34.539Z"
   },
   {
    "duration": 37,
    "start_time": "2023-09-27T14:22:34.570Z"
   },
   {
    "duration": 6,
    "start_time": "2023-09-27T14:22:34.608Z"
   },
   {
    "duration": 101,
    "start_time": "2023-09-27T14:22:34.616Z"
   },
   {
    "duration": 7,
    "start_time": "2023-09-27T14:22:34.719Z"
   },
   {
    "duration": 19,
    "start_time": "2023-09-27T14:22:34.728Z"
   },
   {
    "duration": 7,
    "start_time": "2023-09-27T14:22:34.749Z"
   },
   {
    "duration": 15,
    "start_time": "2023-09-27T14:22:34.758Z"
   },
   {
    "duration": 28,
    "start_time": "2023-09-27T14:22:34.775Z"
   },
   {
    "duration": 33,
    "start_time": "2023-09-27T14:22:34.805Z"
   },
   {
    "duration": 234,
    "start_time": "2023-09-27T14:22:34.839Z"
   },
   {
    "duration": 9,
    "start_time": "2023-09-27T14:22:35.075Z"
   },
   {
    "duration": 157,
    "start_time": "2023-09-27T14:22:35.086Z"
   },
   {
    "duration": 2,
    "start_time": "2023-09-27T14:22:35.245Z"
   },
   {
    "duration": 298,
    "start_time": "2023-09-27T14:22:35.248Z"
   },
   {
    "duration": 10,
    "start_time": "2023-09-27T14:22:35.547Z"
   },
   {
    "duration": 767,
    "start_time": "2023-09-27T14:22:51.665Z"
   },
   {
    "duration": 5,
    "start_time": "2023-09-27T14:22:52.434Z"
   },
   {
    "duration": 57,
    "start_time": "2023-09-27T14:22:52.441Z"
   },
   {
    "duration": 1917,
    "start_time": "2023-09-27T14:22:52.501Z"
   },
   {
    "duration": 11,
    "start_time": "2023-09-27T14:22:54.421Z"
   },
   {
    "duration": 14,
    "start_time": "2023-09-27T14:22:54.434Z"
   },
   {
    "duration": 11,
    "start_time": "2023-09-27T14:22:54.450Z"
   },
   {
    "duration": 14,
    "start_time": "2023-09-27T14:22:54.462Z"
   },
   {
    "duration": 32,
    "start_time": "2023-09-27T14:22:54.477Z"
   },
   {
    "duration": 31,
    "start_time": "2023-09-27T14:22:54.511Z"
   },
   {
    "duration": 114,
    "start_time": "2023-09-27T14:22:54.543Z"
   },
   {
    "duration": 8,
    "start_time": "2023-09-27T14:22:54.658Z"
   },
   {
    "duration": 108,
    "start_time": "2023-09-27T14:22:54.668Z"
   },
   {
    "duration": 8,
    "start_time": "2023-09-27T14:22:54.778Z"
   },
   {
    "duration": 16,
    "start_time": "2023-09-27T14:22:54.787Z"
   },
   {
    "duration": 19,
    "start_time": "2023-09-27T14:22:54.805Z"
   },
   {
    "duration": 16,
    "start_time": "2023-09-27T14:22:54.826Z"
   },
   {
    "duration": 14,
    "start_time": "2023-09-27T14:22:54.843Z"
   },
   {
    "duration": 18,
    "start_time": "2023-09-27T14:22:54.858Z"
   },
   {
    "duration": 252,
    "start_time": "2023-09-27T14:22:54.878Z"
   },
   {
    "duration": 9,
    "start_time": "2023-09-27T14:22:55.132Z"
   },
   {
    "duration": 143,
    "start_time": "2023-09-27T14:22:55.143Z"
   },
   {
    "duration": 108,
    "start_time": "2023-09-27T14:22:55.288Z"
   },
   {
    "duration": 310,
    "start_time": "2023-09-27T14:22:55.398Z"
   },
   {
    "duration": 16,
    "start_time": "2023-09-27T14:22:55.710Z"
   },
   {
    "duration": 44,
    "start_time": "2023-09-28T06:59:57.443Z"
   },
   {
    "duration": 1214,
    "start_time": "2023-09-28T07:00:04.249Z"
   },
   {
    "duration": 5,
    "start_time": "2023-09-28T07:00:05.465Z"
   },
   {
    "duration": 50,
    "start_time": "2023-09-28T07:00:05.471Z"
   },
   {
    "duration": 2073,
    "start_time": "2023-09-28T07:00:05.523Z"
   },
   {
    "duration": 10,
    "start_time": "2023-09-28T07:00:07.598Z"
   },
   {
    "duration": 83,
    "start_time": "2023-09-28T07:00:07.609Z"
   },
   {
    "duration": 15,
    "start_time": "2023-09-28T07:00:07.693Z"
   },
   {
    "duration": 6,
    "start_time": "2023-09-28T07:00:07.710Z"
   },
   {
    "duration": 22,
    "start_time": "2023-09-28T07:00:07.717Z"
   },
   {
    "duration": 20,
    "start_time": "2023-09-28T07:00:07.743Z"
   },
   {
    "duration": 37,
    "start_time": "2023-09-28T07:00:07.765Z"
   },
   {
    "duration": 7,
    "start_time": "2023-09-28T07:00:07.804Z"
   },
   {
    "duration": 102,
    "start_time": "2023-09-28T07:00:07.812Z"
   },
   {
    "duration": 8,
    "start_time": "2023-09-28T07:00:07.915Z"
   },
   {
    "duration": 19,
    "start_time": "2023-09-28T07:00:07.925Z"
   },
   {
    "duration": 9,
    "start_time": "2023-09-28T07:00:07.950Z"
   },
   {
    "duration": 13,
    "start_time": "2023-09-28T07:00:07.960Z"
   },
   {
    "duration": 346,
    "start_time": "2023-09-28T07:00:07.975Z"
   },
   {
    "duration": 10,
    "start_time": "2023-09-28T07:00:08.323Z"
   },
   {
    "duration": 295,
    "start_time": "2023-09-28T07:00:08.335Z"
   },
   {
    "duration": 9,
    "start_time": "2023-09-28T07:00:08.632Z"
   },
   {
    "duration": 146,
    "start_time": "2023-09-28T07:00:08.650Z"
   },
   {
    "duration": 193,
    "start_time": "2023-09-28T07:00:08.798Z"
   },
   {
    "duration": 271,
    "start_time": "2023-09-28T07:00:08.993Z"
   },
   {
    "duration": 9,
    "start_time": "2023-09-28T07:00:09.266Z"
   },
   {
    "duration": 335,
    "start_time": "2023-09-28T07:00:32.250Z"
   },
   {
    "duration": 310,
    "start_time": "2023-09-28T07:00:48.843Z"
   },
   {
    "duration": 390,
    "start_time": "2023-09-28T07:02:17.375Z"
   },
   {
    "duration": 1737,
    "start_time": "2023-09-28T07:06:30.323Z"
   },
   {
    "duration": 6,
    "start_time": "2023-09-28T07:06:32.062Z"
   },
   {
    "duration": 82,
    "start_time": "2023-09-28T07:06:32.070Z"
   },
   {
    "duration": 2066,
    "start_time": "2023-09-28T07:06:32.154Z"
   },
   {
    "duration": 10,
    "start_time": "2023-09-28T07:06:34.222Z"
   },
   {
    "duration": 342,
    "start_time": "2023-09-28T07:06:34.233Z"
   },
   {
    "duration": 458,
    "start_time": "2023-09-28T07:06:34.577Z"
   },
   {
    "duration": 178,
    "start_time": "2023-09-28T07:06:35.037Z"
   },
   {
    "duration": 160,
    "start_time": "2023-09-28T07:06:35.216Z"
   },
   {
    "duration": 204,
    "start_time": "2023-09-28T07:06:35.378Z"
   },
   {
    "duration": 274,
    "start_time": "2023-09-28T07:06:35.583Z"
   },
   {
    "duration": 256,
    "start_time": "2023-09-28T07:06:35.859Z"
   },
   {
    "duration": 420,
    "start_time": "2023-09-28T07:06:36.117Z"
   },
   {
    "duration": 525,
    "start_time": "2023-09-28T07:06:36.540Z"
   },
   {
    "duration": 120,
    "start_time": "2023-09-28T07:06:37.067Z"
   },
   {
    "duration": 32,
    "start_time": "2023-09-28T07:06:37.190Z"
   },
   {
    "duration": 38,
    "start_time": "2023-09-28T07:06:37.224Z"
   },
   {
    "duration": 468,
    "start_time": "2023-09-28T07:06:37.264Z"
   },
   {
    "duration": 7,
    "start_time": "2023-09-28T07:06:37.734Z"
   },
   {
    "duration": 390,
    "start_time": "2023-09-28T07:06:37.750Z"
   },
   {
    "duration": 144,
    "start_time": "2023-09-28T07:06:38.141Z"
   },
   {
    "duration": 277,
    "start_time": "2023-09-28T07:06:38.287Z"
   },
   {
    "duration": 120,
    "start_time": "2023-09-28T07:06:38.565Z"
   },
   {
    "duration": 384,
    "start_time": "2023-09-28T07:06:38.688Z"
   },
   {
    "duration": 13,
    "start_time": "2023-09-28T07:06:39.074Z"
   },
   {
    "duration": 114,
    "start_time": "2023-09-28T07:07:19.898Z"
   },
   {
    "duration": 69,
    "start_time": "2023-09-28T07:08:18.835Z"
   },
   {
    "duration": 66,
    "start_time": "2023-09-28T07:08:23.387Z"
   },
   {
    "duration": 105,
    "start_time": "2023-09-28T07:08:29.811Z"
   },
   {
    "duration": 94,
    "start_time": "2023-09-28T07:12:14.999Z"
   },
   {
    "duration": 10,
    "start_time": "2023-09-28T07:16:23.358Z"
   },
   {
    "duration": 1283,
    "start_time": "2023-09-28T07:16:32.357Z"
   },
   {
    "duration": 5,
    "start_time": "2023-09-28T07:16:33.642Z"
   },
   {
    "duration": 33,
    "start_time": "2023-09-28T07:16:33.649Z"
   },
   {
    "duration": 1804,
    "start_time": "2023-09-28T07:16:33.684Z"
   },
   {
    "duration": 10,
    "start_time": "2023-09-28T07:16:35.490Z"
   },
   {
    "duration": 21,
    "start_time": "2023-09-28T07:16:35.501Z"
   },
   {
    "duration": 17,
    "start_time": "2023-09-28T07:16:35.524Z"
   },
   {
    "duration": 19,
    "start_time": "2023-09-28T07:16:35.542Z"
   },
   {
    "duration": 20,
    "start_time": "2023-09-28T07:16:35.563Z"
   },
   {
    "duration": 34,
    "start_time": "2023-09-28T07:16:35.585Z"
   },
   {
    "duration": 39,
    "start_time": "2023-09-28T07:16:35.621Z"
   },
   {
    "duration": 8,
    "start_time": "2023-09-28T07:16:35.662Z"
   },
   {
    "duration": 114,
    "start_time": "2023-09-28T07:16:35.672Z"
   },
   {
    "duration": 10,
    "start_time": "2023-09-28T07:16:35.789Z"
   },
   {
    "duration": 40,
    "start_time": "2023-09-28T07:16:35.801Z"
   },
   {
    "duration": 10,
    "start_time": "2023-09-28T07:16:35.843Z"
   },
   {
    "duration": 27,
    "start_time": "2023-09-28T07:16:35.855Z"
   },
   {
    "duration": 474,
    "start_time": "2023-09-28T07:16:35.884Z"
   },
   {
    "duration": 8,
    "start_time": "2023-09-28T07:16:36.360Z"
   },
   {
    "duration": 122,
    "start_time": "2023-09-28T07:16:36.369Z"
   },
   {
    "duration": 9,
    "start_time": "2023-09-28T07:16:36.492Z"
   },
   {
    "duration": 105,
    "start_time": "2023-09-28T07:16:36.502Z"
   },
   {
    "duration": 9,
    "start_time": "2023-09-28T07:16:36.609Z"
   },
   {
    "duration": 1265,
    "start_time": "2023-09-28T07:19:56.679Z"
   },
   {
    "duration": 5,
    "start_time": "2023-09-28T07:19:57.946Z"
   },
   {
    "duration": 43,
    "start_time": "2023-09-28T07:19:57.956Z"
   },
   {
    "duration": 2003,
    "start_time": "2023-09-28T07:19:58.001Z"
   },
   {
    "duration": 9,
    "start_time": "2023-09-28T07:20:00.007Z"
   },
   {
    "duration": 62,
    "start_time": "2023-09-28T07:20:00.017Z"
   },
   {
    "duration": 64,
    "start_time": "2023-09-28T07:20:00.081Z"
   },
   {
    "duration": 48,
    "start_time": "2023-09-28T07:20:00.146Z"
   },
   {
    "duration": 99,
    "start_time": "2023-09-28T07:20:00.196Z"
   },
   {
    "duration": 100,
    "start_time": "2023-09-28T07:20:00.297Z"
   },
   {
    "duration": 83,
    "start_time": "2023-09-28T07:20:00.398Z"
   },
   {
    "duration": 16,
    "start_time": "2023-09-28T07:20:00.483Z"
   },
   {
    "duration": 121,
    "start_time": "2023-09-28T07:20:00.501Z"
   },
   {
    "duration": 8,
    "start_time": "2023-09-28T07:20:00.623Z"
   },
   {
    "duration": 28,
    "start_time": "2023-09-28T07:20:00.632Z"
   },
   {
    "duration": 35,
    "start_time": "2023-09-28T07:20:00.662Z"
   },
   {
    "duration": 56,
    "start_time": "2023-09-28T07:20:00.698Z"
   },
   {
    "duration": 361,
    "start_time": "2023-09-28T07:20:00.756Z"
   },
   {
    "duration": 8,
    "start_time": "2023-09-28T07:20:01.119Z"
   },
   {
    "duration": 215,
    "start_time": "2023-09-28T07:20:01.129Z"
   },
   {
    "duration": 83,
    "start_time": "2023-09-28T07:20:01.345Z"
   },
   {
    "duration": 95,
    "start_time": "2023-09-28T07:20:01.430Z"
   },
   {
    "duration": 0,
    "start_time": "2023-09-28T07:20:01.526Z"
   },
   {
    "duration": 0,
    "start_time": "2023-09-28T07:20:01.527Z"
   },
   {
    "duration": 1236,
    "start_time": "2023-09-28T07:20:21.474Z"
   },
   {
    "duration": 5,
    "start_time": "2023-09-28T07:20:22.712Z"
   },
   {
    "duration": 42,
    "start_time": "2023-09-28T07:20:22.718Z"
   },
   {
    "duration": 1834,
    "start_time": "2023-09-28T07:20:22.762Z"
   },
   {
    "duration": 13,
    "start_time": "2023-09-28T07:20:24.599Z"
   },
   {
    "duration": 12,
    "start_time": "2023-09-28T07:20:24.614Z"
   },
   {
    "duration": 15,
    "start_time": "2023-09-28T07:20:24.628Z"
   },
   {
    "duration": 12,
    "start_time": "2023-09-28T07:20:24.645Z"
   },
   {
    "duration": 38,
    "start_time": "2023-09-28T07:20:24.660Z"
   },
   {
    "duration": 15,
    "start_time": "2023-09-28T07:20:24.700Z"
   },
   {
    "duration": 53,
    "start_time": "2023-09-28T07:20:24.717Z"
   },
   {
    "duration": 6,
    "start_time": "2023-09-28T07:20:24.771Z"
   },
   {
    "duration": 98,
    "start_time": "2023-09-28T07:20:24.779Z"
   },
   {
    "duration": 8,
    "start_time": "2023-09-28T07:20:24.880Z"
   },
   {
    "duration": 21,
    "start_time": "2023-09-28T07:20:24.890Z"
   },
   {
    "duration": 20,
    "start_time": "2023-09-28T07:20:24.913Z"
   },
   {
    "duration": 35,
    "start_time": "2023-09-28T07:20:24.934Z"
   },
   {
    "duration": 314,
    "start_time": "2023-09-28T07:20:24.970Z"
   },
   {
    "duration": 8,
    "start_time": "2023-09-28T07:20:25.286Z"
   },
   {
    "duration": 109,
    "start_time": "2023-09-28T07:20:25.295Z"
   },
   {
    "duration": 8,
    "start_time": "2023-09-28T07:20:25.406Z"
   },
   {
    "duration": 121,
    "start_time": "2023-09-28T07:20:25.416Z"
   },
   {
    "duration": 19,
    "start_time": "2023-09-28T07:20:25.538Z"
   },
   {
    "duration": 52,
    "start_time": "2023-09-28T07:25:36.390Z"
   },
   {
    "duration": 97,
    "start_time": "2023-09-28T07:26:00.608Z"
   },
   {
    "duration": 37,
    "start_time": "2023-09-28T07:26:10.375Z"
   },
   {
    "duration": 27,
    "start_time": "2023-09-28T07:29:30.630Z"
   },
   {
    "duration": 30,
    "start_time": "2023-09-28T07:29:51.943Z"
   },
   {
    "duration": 30,
    "start_time": "2023-09-28T07:31:22.857Z"
   },
   {
    "duration": 110,
    "start_time": "2023-09-28T07:35:14.572Z"
   },
   {
    "duration": 126,
    "start_time": "2023-09-28T07:35:24.743Z"
   },
   {
    "duration": 215,
    "start_time": "2023-09-28T07:37:53.795Z"
   },
   {
    "duration": 82,
    "start_time": "2023-09-28T07:37:59.806Z"
   },
   {
    "duration": 9,
    "start_time": "2023-09-28T07:38:31.544Z"
   },
   {
    "duration": 31,
    "start_time": "2023-09-28T07:39:42.287Z"
   },
   {
    "duration": 29,
    "start_time": "2023-09-28T07:40:07.877Z"
   },
   {
    "duration": 15,
    "start_time": "2023-09-28T07:41:09.173Z"
   },
   {
    "duration": 144,
    "start_time": "2023-09-28T07:43:02.423Z"
   },
   {
    "duration": 39,
    "start_time": "2023-09-28T07:43:34.142Z"
   },
   {
    "duration": 59,
    "start_time": "2023-09-28T07:43:48.395Z"
   },
   {
    "duration": 53,
    "start_time": "2023-09-28T07:44:23.968Z"
   },
   {
    "duration": 53,
    "start_time": "2023-09-28T07:44:32.976Z"
   },
   {
    "duration": 58,
    "start_time": "2023-09-28T07:44:45.710Z"
   },
   {
    "duration": 24,
    "start_time": "2023-09-28T07:45:50.356Z"
   },
   {
    "duration": 32,
    "start_time": "2023-09-28T07:45:59.078Z"
   },
   {
    "duration": 33,
    "start_time": "2023-09-28T07:47:20.794Z"
   },
   {
    "duration": 29,
    "start_time": "2023-09-28T07:47:32.593Z"
   },
   {
    "duration": 1839,
    "start_time": "2023-09-28T07:52:38.296Z"
   },
   {
    "duration": 21,
    "start_time": "2023-09-28T07:54:42.556Z"
   },
   {
    "duration": 46,
    "start_time": "2023-09-28T07:58:20.189Z"
   },
   {
    "duration": 1307,
    "start_time": "2023-09-28T08:01:59.485Z"
   },
   {
    "duration": 6,
    "start_time": "2023-09-28T08:02:00.794Z"
   },
   {
    "duration": 68,
    "start_time": "2023-09-28T08:02:00.801Z"
   },
   {
    "duration": 2145,
    "start_time": "2023-09-28T08:02:00.871Z"
   },
   {
    "duration": 9,
    "start_time": "2023-09-28T08:02:03.019Z"
   },
   {
    "duration": 56,
    "start_time": "2023-09-28T08:02:03.029Z"
   },
   {
    "duration": 30,
    "start_time": "2023-09-28T08:02:03.086Z"
   },
   {
    "duration": 27,
    "start_time": "2023-09-28T08:02:03.117Z"
   },
   {
    "duration": 39,
    "start_time": "2023-09-28T08:02:03.146Z"
   },
   {
    "duration": 55,
    "start_time": "2023-09-28T08:02:03.187Z"
   },
   {
    "duration": 36,
    "start_time": "2023-09-28T08:02:03.244Z"
   },
   {
    "duration": 26,
    "start_time": "2023-09-28T08:02:03.281Z"
   },
   {
    "duration": 112,
    "start_time": "2023-09-28T08:02:03.308Z"
   },
   {
    "duration": 8,
    "start_time": "2023-09-28T08:02:03.424Z"
   },
   {
    "duration": 28,
    "start_time": "2023-09-28T08:02:03.434Z"
   },
   {
    "duration": 61,
    "start_time": "2023-09-28T08:02:03.464Z"
   },
   {
    "duration": 28,
    "start_time": "2023-09-28T08:02:03.527Z"
   },
   {
    "duration": 330,
    "start_time": "2023-09-28T08:02:03.557Z"
   },
   {
    "duration": 8,
    "start_time": "2023-09-28T08:02:03.888Z"
   },
   {
    "duration": 96,
    "start_time": "2023-09-28T08:02:03.897Z"
   },
   {
    "duration": 8,
    "start_time": "2023-09-28T08:02:03.995Z"
   },
   {
    "duration": 28,
    "start_time": "2023-09-28T08:02:04.004Z"
   },
   {
    "duration": 82,
    "start_time": "2023-09-28T08:02:04.034Z"
   },
   {
    "duration": 153,
    "start_time": "2023-09-28T08:02:04.117Z"
   },
   {
    "duration": 93,
    "start_time": "2023-09-28T08:02:04.272Z"
   },
   {
    "duration": 9,
    "start_time": "2023-09-28T08:02:04.367Z"
   },
   {
    "duration": 33,
    "start_time": "2023-09-28T08:02:04.378Z"
   },
   {
    "duration": 60,
    "start_time": "2023-09-28T08:02:04.413Z"
   },
   {
    "duration": 119,
    "start_time": "2023-09-28T08:02:04.474Z"
   },
   {
    "duration": 1414,
    "start_time": "2023-09-28T08:07:15.758Z"
   },
   {
    "duration": 5,
    "start_time": "2023-09-28T08:07:17.174Z"
   },
   {
    "duration": 128,
    "start_time": "2023-09-28T08:07:17.180Z"
   },
   {
    "duration": 1954,
    "start_time": "2023-09-28T08:07:17.310Z"
   },
   {
    "duration": 9,
    "start_time": "2023-09-28T08:07:19.267Z"
   },
   {
    "duration": 59,
    "start_time": "2023-09-28T08:07:19.277Z"
   },
   {
    "duration": 29,
    "start_time": "2023-09-28T08:07:19.338Z"
   },
   {
    "duration": 12,
    "start_time": "2023-09-28T08:07:19.368Z"
   },
   {
    "duration": 26,
    "start_time": "2023-09-28T08:07:19.381Z"
   },
   {
    "duration": 81,
    "start_time": "2023-09-28T08:07:19.408Z"
   },
   {
    "duration": 78,
    "start_time": "2023-09-28T08:07:19.491Z"
   },
   {
    "duration": 11,
    "start_time": "2023-09-28T08:07:19.571Z"
   },
   {
    "duration": 108,
    "start_time": "2023-09-28T08:07:19.584Z"
   },
   {
    "duration": 8,
    "start_time": "2023-09-28T08:07:19.695Z"
   },
   {
    "duration": 25,
    "start_time": "2023-09-28T08:07:19.705Z"
   },
   {
    "duration": 31,
    "start_time": "2023-09-28T08:07:19.732Z"
   },
   {
    "duration": 16,
    "start_time": "2023-09-28T08:07:19.764Z"
   },
   {
    "duration": 319,
    "start_time": "2023-09-28T08:07:19.781Z"
   },
   {
    "duration": 7,
    "start_time": "2023-09-28T08:07:20.102Z"
   },
   {
    "duration": 68,
    "start_time": "2023-09-28T08:07:20.110Z"
   },
   {
    "duration": 105,
    "start_time": "2023-09-28T08:07:20.180Z"
   },
   {
    "duration": 9,
    "start_time": "2023-09-28T08:07:20.287Z"
   },
   {
    "duration": 58,
    "start_time": "2023-09-28T08:07:20.298Z"
   },
   {
    "duration": 155,
    "start_time": "2023-09-28T08:07:20.358Z"
   },
   {
    "duration": 6,
    "start_time": "2023-09-28T08:13:22.973Z"
   },
   {
    "duration": 1331,
    "start_time": "2023-09-28T08:13:38.131Z"
   },
   {
    "duration": 5,
    "start_time": "2023-09-28T08:13:39.464Z"
   },
   {
    "duration": 23,
    "start_time": "2023-09-28T08:13:39.471Z"
   },
   {
    "duration": 1853,
    "start_time": "2023-09-28T08:13:39.495Z"
   },
   {
    "duration": 10,
    "start_time": "2023-09-28T08:13:41.350Z"
   },
   {
    "duration": 11,
    "start_time": "2023-09-28T08:13:41.361Z"
   },
   {
    "duration": 13,
    "start_time": "2023-09-28T08:13:41.374Z"
   },
   {
    "duration": 4,
    "start_time": "2023-09-28T08:13:41.388Z"
   },
   {
    "duration": 8,
    "start_time": "2023-09-28T08:13:41.393Z"
   },
   {
    "duration": 49,
    "start_time": "2023-09-28T08:13:41.402Z"
   },
   {
    "duration": 12,
    "start_time": "2023-09-28T08:13:41.453Z"
   },
   {
    "duration": 24,
    "start_time": "2023-09-28T08:13:41.466Z"
   },
   {
    "duration": 7,
    "start_time": "2023-09-28T08:13:41.492Z"
   },
   {
    "duration": 127,
    "start_time": "2023-09-28T08:13:41.502Z"
   },
   {
    "duration": 24,
    "start_time": "2023-09-28T08:13:41.631Z"
   },
   {
    "duration": 9,
    "start_time": "2023-09-28T08:13:41.658Z"
   },
   {
    "duration": 9,
    "start_time": "2023-09-28T08:13:41.668Z"
   },
   {
    "duration": 9,
    "start_time": "2023-09-28T08:13:41.679Z"
   },
   {
    "duration": 342,
    "start_time": "2023-09-28T08:13:41.690Z"
   },
   {
    "duration": 16,
    "start_time": "2023-09-28T08:13:42.034Z"
   },
   {
    "duration": 41,
    "start_time": "2023-09-28T08:13:42.051Z"
   },
   {
    "duration": 105,
    "start_time": "2023-09-28T08:13:42.093Z"
   },
   {
    "duration": 8,
    "start_time": "2023-09-28T08:13:42.200Z"
   },
   {
    "duration": 47,
    "start_time": "2023-09-28T08:13:42.210Z"
   },
   {
    "duration": 150,
    "start_time": "2023-09-28T08:13:42.259Z"
   },
   {
    "duration": 1255,
    "start_time": "2023-09-28T09:35:57.310Z"
   },
   {
    "duration": 5,
    "start_time": "2023-09-28T09:35:58.567Z"
   },
   {
    "duration": 35,
    "start_time": "2023-09-28T09:35:58.574Z"
   },
   {
    "duration": 38,
    "start_time": "2023-09-28T09:35:58.611Z"
   },
   {
    "duration": 1978,
    "start_time": "2023-09-28T09:35:58.650Z"
   },
   {
    "duration": 11,
    "start_time": "2023-09-28T09:36:00.631Z"
   },
   {
    "duration": 107,
    "start_time": "2023-09-28T09:36:00.644Z"
   },
   {
    "duration": 33,
    "start_time": "2023-09-28T09:36:00.753Z"
   },
   {
    "duration": 36,
    "start_time": "2023-09-28T09:36:00.788Z"
   },
   {
    "duration": 156,
    "start_time": "2023-09-28T09:36:00.827Z"
   },
   {
    "duration": 66,
    "start_time": "2023-09-28T09:36:00.985Z"
   },
   {
    "duration": 65,
    "start_time": "2023-09-28T09:36:01.052Z"
   },
   {
    "duration": 100,
    "start_time": "2023-09-28T09:36:01.119Z"
   },
   {
    "duration": 44,
    "start_time": "2023-09-28T09:36:01.220Z"
   },
   {
    "duration": 290,
    "start_time": "2023-09-28T09:36:01.266Z"
   },
   {
    "duration": 466,
    "start_time": "2023-09-28T09:36:01.558Z"
   },
   {
    "duration": 187,
    "start_time": "2023-09-28T09:36:02.025Z"
   },
   {
    "duration": 69,
    "start_time": "2023-09-28T09:36:02.213Z"
   },
   {
    "duration": 31,
    "start_time": "2023-09-28T09:36:02.284Z"
   },
   {
    "duration": 414,
    "start_time": "2023-09-28T09:36:02.316Z"
   },
   {
    "duration": 1629,
    "start_time": "2023-09-28T09:36:02.731Z"
   },
   {
    "duration": 0,
    "start_time": "2023-09-28T09:36:04.362Z"
   },
   {
    "duration": 0,
    "start_time": "2023-09-28T09:36:04.364Z"
   },
   {
    "duration": 0,
    "start_time": "2023-09-28T09:36:04.364Z"
   },
   {
    "duration": 0,
    "start_time": "2023-09-28T09:36:04.365Z"
   },
   {
    "duration": 0,
    "start_time": "2023-09-28T09:36:04.366Z"
   },
   {
    "duration": 1502,
    "start_time": "2023-09-28T09:40:44.008Z"
   },
   {
    "duration": 1295,
    "start_time": "2023-09-28T09:40:59.219Z"
   },
   {
    "duration": 5,
    "start_time": "2023-09-28T09:41:00.516Z"
   },
   {
    "duration": 86,
    "start_time": "2023-09-28T09:41:00.522Z"
   },
   {
    "duration": 26,
    "start_time": "2023-09-28T09:41:00.609Z"
   },
   {
    "duration": 1883,
    "start_time": "2023-09-28T09:41:00.637Z"
   },
   {
    "duration": 11,
    "start_time": "2023-09-28T09:41:02.522Z"
   },
   {
    "duration": 75,
    "start_time": "2023-09-28T09:41:02.535Z"
   },
   {
    "duration": 78,
    "start_time": "2023-09-28T09:41:02.612Z"
   },
   {
    "duration": 4,
    "start_time": "2023-09-28T09:41:02.692Z"
   },
   {
    "duration": 6,
    "start_time": "2023-09-28T09:41:02.697Z"
   },
   {
    "duration": 15,
    "start_time": "2023-09-28T09:41:02.705Z"
   },
   {
    "duration": 17,
    "start_time": "2023-09-28T09:41:02.721Z"
   },
   {
    "duration": 35,
    "start_time": "2023-09-28T09:41:02.739Z"
   },
   {
    "duration": 7,
    "start_time": "2023-09-28T09:41:02.777Z"
   },
   {
    "duration": 102,
    "start_time": "2023-09-28T09:41:02.785Z"
   },
   {
    "duration": 8,
    "start_time": "2023-09-28T09:41:02.889Z"
   },
   {
    "duration": 11,
    "start_time": "2023-09-28T09:41:02.898Z"
   },
   {
    "duration": 49,
    "start_time": "2023-09-28T09:41:02.911Z"
   },
   {
    "duration": 19,
    "start_time": "2023-09-28T09:41:02.962Z"
   },
   {
    "duration": 309,
    "start_time": "2023-09-28T09:41:02.983Z"
   },
   {
    "duration": 2841,
    "start_time": "2023-09-28T09:41:03.294Z"
   },
   {
    "duration": 0,
    "start_time": "2023-09-28T09:41:06.137Z"
   },
   {
    "duration": 0,
    "start_time": "2023-09-28T09:41:06.138Z"
   },
   {
    "duration": 0,
    "start_time": "2023-09-28T09:41:06.140Z"
   },
   {
    "duration": 0,
    "start_time": "2023-09-28T09:41:06.141Z"
   },
   {
    "duration": 0,
    "start_time": "2023-09-28T09:41:06.143Z"
   },
   {
    "duration": 56,
    "start_time": "2023-09-28T11:45:43.825Z"
   },
   {
    "duration": 1783,
    "start_time": "2023-09-28T11:45:50.143Z"
   },
   {
    "duration": 6,
    "start_time": "2023-09-28T11:45:51.928Z"
   },
   {
    "duration": 54,
    "start_time": "2023-09-28T11:45:51.936Z"
   },
   {
    "duration": 22,
    "start_time": "2023-09-28T11:45:51.991Z"
   },
   {
    "duration": 2132,
    "start_time": "2023-09-28T11:45:52.015Z"
   },
   {
    "duration": 10,
    "start_time": "2023-09-28T11:45:54.149Z"
   },
   {
    "duration": 29,
    "start_time": "2023-09-28T11:45:54.161Z"
   },
   {
    "duration": 33,
    "start_time": "2023-09-28T11:45:54.191Z"
   },
   {
    "duration": 14,
    "start_time": "2023-09-28T11:45:54.226Z"
   },
   {
    "duration": 20,
    "start_time": "2023-09-28T11:45:54.242Z"
   },
   {
    "duration": 55,
    "start_time": "2023-09-28T11:45:54.264Z"
   },
   {
    "duration": 37,
    "start_time": "2023-09-28T11:45:54.320Z"
   },
   {
    "duration": 56,
    "start_time": "2023-09-28T11:45:54.359Z"
   },
   {
    "duration": 16,
    "start_time": "2023-09-28T11:45:54.418Z"
   },
   {
    "duration": 170,
    "start_time": "2023-09-28T11:45:54.437Z"
   },
   {
    "duration": 11,
    "start_time": "2023-09-28T11:45:54.609Z"
   },
   {
    "duration": 26,
    "start_time": "2023-09-28T11:45:54.622Z"
   },
   {
    "duration": 20,
    "start_time": "2023-09-28T11:45:54.651Z"
   },
   {
    "duration": 10,
    "start_time": "2023-09-28T11:45:54.674Z"
   },
   {
    "duration": 348,
    "start_time": "2023-09-28T11:45:54.686Z"
   },
   {
    "duration": 15,
    "start_time": "2023-09-28T11:45:55.036Z"
   },
   {
    "duration": 194,
    "start_time": "2023-09-28T11:45:55.053Z"
   },
   {
    "duration": 0,
    "start_time": "2023-09-28T11:45:55.249Z"
   },
   {
    "duration": 0,
    "start_time": "2023-09-28T11:45:55.250Z"
   },
   {
    "duration": 0,
    "start_time": "2023-09-28T11:45:55.251Z"
   },
   {
    "duration": 0,
    "start_time": "2023-09-28T11:45:55.252Z"
   },
   {
    "duration": 56,
    "start_time": "2023-09-28T11:46:09.034Z"
   },
   {
    "duration": 44,
    "start_time": "2023-09-28T11:46:56.116Z"
   },
   {
    "duration": 45,
    "start_time": "2023-09-28T11:47:12.040Z"
   },
   {
    "duration": 1365,
    "start_time": "2023-09-28T11:48:02.129Z"
   },
   {
    "duration": 6,
    "start_time": "2023-09-28T11:48:03.496Z"
   },
   {
    "duration": 55,
    "start_time": "2023-09-28T11:48:03.504Z"
   },
   {
    "duration": 28,
    "start_time": "2023-09-28T11:48:03.561Z"
   },
   {
    "duration": 2220,
    "start_time": "2023-09-28T11:48:03.591Z"
   },
   {
    "duration": 11,
    "start_time": "2023-09-28T11:48:05.813Z"
   },
   {
    "duration": 111,
    "start_time": "2023-09-28T11:48:05.825Z"
   },
   {
    "duration": 113,
    "start_time": "2023-09-28T11:48:05.937Z"
   },
   {
    "duration": 137,
    "start_time": "2023-09-28T11:48:06.052Z"
   },
   {
    "duration": 56,
    "start_time": "2023-09-28T11:48:06.192Z"
   },
   {
    "duration": 31,
    "start_time": "2023-09-28T11:48:06.249Z"
   },
   {
    "duration": 50,
    "start_time": "2023-09-28T11:48:06.282Z"
   },
   {
    "duration": 68,
    "start_time": "2023-09-28T11:48:06.334Z"
   },
   {
    "duration": 10,
    "start_time": "2023-09-28T11:48:06.405Z"
   },
   {
    "duration": 115,
    "start_time": "2023-09-28T11:48:06.417Z"
   },
   {
    "duration": 18,
    "start_time": "2023-09-28T11:48:06.534Z"
   },
   {
    "duration": 25,
    "start_time": "2023-09-28T11:48:06.554Z"
   },
   {
    "duration": 25,
    "start_time": "2023-09-28T11:48:06.582Z"
   },
   {
    "duration": 31,
    "start_time": "2023-09-28T11:48:06.609Z"
   },
   {
    "duration": 347,
    "start_time": "2023-09-28T11:48:06.641Z"
   },
   {
    "duration": 8,
    "start_time": "2023-09-28T11:48:06.990Z"
   },
   {
    "duration": 168,
    "start_time": "2023-09-28T11:48:06.999Z"
   },
   {
    "duration": 11,
    "start_time": "2023-09-28T11:48:07.169Z"
   },
   {
    "duration": 62,
    "start_time": "2023-09-28T11:48:07.182Z"
   },
   {
    "duration": 157,
    "start_time": "2023-09-28T11:48:07.247Z"
   },
   {
    "duration": 10,
    "start_time": "2023-09-28T11:50:47.068Z"
   },
   {
    "duration": 1319,
    "start_time": "2023-09-28T11:52:40.276Z"
   },
   {
    "duration": 6,
    "start_time": "2023-09-28T11:52:41.597Z"
   },
   {
    "duration": 46,
    "start_time": "2023-09-28T11:52:41.604Z"
   },
   {
    "duration": 6,
    "start_time": "2023-09-28T11:52:41.653Z"
   },
   {
    "duration": 2128,
    "start_time": "2023-09-28T11:52:41.660Z"
   },
   {
    "duration": 13,
    "start_time": "2023-09-28T11:52:43.791Z"
   },
   {
    "duration": 25,
    "start_time": "2023-09-28T11:52:43.807Z"
   },
   {
    "duration": 70,
    "start_time": "2023-09-28T11:52:43.834Z"
   },
   {
    "duration": 7,
    "start_time": "2023-09-28T11:52:43.905Z"
   },
   {
    "duration": 40,
    "start_time": "2023-09-28T11:52:43.915Z"
   },
   {
    "duration": 18,
    "start_time": "2023-09-28T11:52:43.957Z"
   },
   {
    "duration": 22,
    "start_time": "2023-09-28T11:52:43.977Z"
   },
   {
    "duration": 49,
    "start_time": "2023-09-28T11:52:44.001Z"
   },
   {
    "duration": 7,
    "start_time": "2023-09-28T11:52:44.051Z"
   },
   {
    "duration": 106,
    "start_time": "2023-09-28T11:52:44.060Z"
   },
   {
    "duration": 8,
    "start_time": "2023-09-28T11:52:44.168Z"
   },
   {
    "duration": 14,
    "start_time": "2023-09-28T11:52:44.178Z"
   },
   {
    "duration": 18,
    "start_time": "2023-09-28T11:52:44.193Z"
   },
   {
    "duration": 19,
    "start_time": "2023-09-28T11:52:44.212Z"
   },
   {
    "duration": 410,
    "start_time": "2023-09-28T11:52:44.232Z"
   },
   {
    "duration": 9,
    "start_time": "2023-09-28T11:52:44.646Z"
   },
   {
    "duration": 23,
    "start_time": "2023-09-28T11:52:44.657Z"
   },
   {
    "duration": 116,
    "start_time": "2023-09-28T11:52:44.682Z"
   },
   {
    "duration": 10,
    "start_time": "2023-09-28T11:52:44.800Z"
   },
   {
    "duration": 58,
    "start_time": "2023-09-28T11:52:44.812Z"
   },
   {
    "duration": 167,
    "start_time": "2023-09-28T11:52:44.872Z"
   },
   {
    "duration": 91,
    "start_time": "2023-09-28T12:03:12.540Z"
   },
   {
    "duration": 147,
    "start_time": "2023-09-28T12:05:33.718Z"
   },
   {
    "duration": 166,
    "start_time": "2023-09-28T12:05:57.774Z"
   },
   {
    "duration": 112,
    "start_time": "2023-09-28T12:06:33.240Z"
   },
   {
    "duration": 157,
    "start_time": "2023-09-28T12:06:56.778Z"
   },
   {
    "duration": 5,
    "start_time": "2023-09-28T12:11:05.109Z"
   },
   {
    "duration": 98,
    "start_time": "2023-09-28T12:13:55.832Z"
   },
   {
    "duration": 19,
    "start_time": "2023-09-28T12:14:15.795Z"
   },
   {
    "duration": 13,
    "start_time": "2023-09-28T12:16:29.267Z"
   },
   {
    "duration": 1426,
    "start_time": "2023-09-28T12:17:21.294Z"
   },
   {
    "duration": 6,
    "start_time": "2023-09-28T12:17:22.722Z"
   },
   {
    "duration": 75,
    "start_time": "2023-09-28T12:17:22.730Z"
   },
   {
    "duration": 22,
    "start_time": "2023-09-28T12:17:22.807Z"
   },
   {
    "duration": 2335,
    "start_time": "2023-09-28T12:17:22.832Z"
   },
   {
    "duration": 10,
    "start_time": "2023-09-28T12:17:25.169Z"
   },
   {
    "duration": 26,
    "start_time": "2023-09-28T12:17:25.181Z"
   },
   {
    "duration": 27,
    "start_time": "2023-09-28T12:17:25.209Z"
   },
   {
    "duration": 21,
    "start_time": "2023-09-28T12:17:25.238Z"
   },
   {
    "duration": 15,
    "start_time": "2023-09-28T12:17:25.261Z"
   },
   {
    "duration": 51,
    "start_time": "2023-09-28T12:17:25.278Z"
   },
   {
    "duration": 22,
    "start_time": "2023-09-28T12:17:25.331Z"
   },
   {
    "duration": 40,
    "start_time": "2023-09-28T12:17:25.355Z"
   },
   {
    "duration": 31,
    "start_time": "2023-09-28T12:17:25.398Z"
   },
   {
    "duration": 102,
    "start_time": "2023-09-28T12:17:25.430Z"
   },
   {
    "duration": 15,
    "start_time": "2023-09-28T12:17:25.534Z"
   },
   {
    "duration": 8,
    "start_time": "2023-09-28T12:17:25.550Z"
   },
   {
    "duration": 18,
    "start_time": "2023-09-28T12:17:25.560Z"
   },
   {
    "duration": 21,
    "start_time": "2023-09-28T12:17:25.580Z"
   },
   {
    "duration": 347,
    "start_time": "2023-09-28T12:17:25.602Z"
   },
   {
    "duration": 7,
    "start_time": "2023-09-28T12:17:25.950Z"
   },
   {
    "duration": 176,
    "start_time": "2023-09-28T12:17:25.959Z"
   },
   {
    "duration": 14,
    "start_time": "2023-09-28T12:17:26.136Z"
   },
   {
    "duration": 329,
    "start_time": "2023-09-28T12:17:26.152Z"
   },
   {
    "duration": 13,
    "start_time": "2023-09-28T12:17:26.483Z"
   },
   {
    "duration": 63,
    "start_time": "2023-09-28T12:17:26.498Z"
   },
   {
    "duration": 152,
    "start_time": "2023-09-28T12:17:26.563Z"
   },
   {
    "duration": 6,
    "start_time": "2023-09-28T12:17:26.717Z"
   },
   {
    "duration": 144,
    "start_time": "2023-09-28T12:17:26.725Z"
   },
   {
    "duration": 11,
    "start_time": "2023-09-28T12:21:37.995Z"
   },
   {
    "duration": 5,
    "start_time": "2023-09-28T12:22:18.137Z"
   },
   {
    "duration": 18,
    "start_time": "2023-09-28T12:22:37.776Z"
   },
   {
    "duration": 5,
    "start_time": "2023-09-28T12:22:58.777Z"
   },
   {
    "duration": 9,
    "start_time": "2023-09-28T12:24:55.051Z"
   },
   {
    "duration": 10,
    "start_time": "2023-09-28T12:28:36.399Z"
   },
   {
    "duration": 20,
    "start_time": "2023-09-28T12:32:47.990Z"
   },
   {
    "duration": 149,
    "start_time": "2023-09-28T12:36:56.670Z"
   },
   {
    "duration": 28,
    "start_time": "2023-09-28T12:40:09.154Z"
   },
   {
    "duration": 54,
    "start_time": "2023-09-28T12:40:37.119Z"
   },
   {
    "duration": 21,
    "start_time": "2023-09-28T12:51:02.038Z"
   },
   {
    "duration": 37,
    "start_time": "2023-09-28T12:54:28.325Z"
   },
   {
    "duration": 9,
    "start_time": "2023-09-28T12:56:38.126Z"
   },
   {
    "duration": 8,
    "start_time": "2023-09-28T12:57:02.919Z"
   },
   {
    "duration": 11,
    "start_time": "2023-09-28T12:58:00.591Z"
   },
   {
    "duration": 12,
    "start_time": "2023-09-28T13:03:25.676Z"
   },
   {
    "duration": 45,
    "start_time": "2023-09-28T13:04:17.171Z"
   },
   {
    "duration": 13,
    "start_time": "2023-09-28T13:04:58.935Z"
   },
   {
    "duration": 20,
    "start_time": "2023-09-28T13:05:13.064Z"
   },
   {
    "duration": 9,
    "start_time": "2023-09-28T13:06:34.900Z"
   },
   {
    "duration": 8,
    "start_time": "2023-09-28T13:06:38.361Z"
   },
   {
    "duration": 10,
    "start_time": "2023-09-28T13:06:49.982Z"
   },
   {
    "duration": 13,
    "start_time": "2023-09-28T13:07:08.104Z"
   },
   {
    "duration": 11,
    "start_time": "2023-09-28T13:09:52.647Z"
   },
   {
    "duration": 6,
    "start_time": "2023-09-28T13:11:35.137Z"
   },
   {
    "duration": 9,
    "start_time": "2023-09-28T13:11:38.560Z"
   },
   {
    "duration": 1383,
    "start_time": "2023-09-28T13:12:34.621Z"
   },
   {
    "duration": 6,
    "start_time": "2023-09-28T13:12:36.006Z"
   },
   {
    "duration": 56,
    "start_time": "2023-09-28T13:12:36.015Z"
   },
   {
    "duration": 7,
    "start_time": "2023-09-28T13:12:36.073Z"
   },
   {
    "duration": 2169,
    "start_time": "2023-09-28T13:12:36.081Z"
   },
   {
    "duration": 10,
    "start_time": "2023-09-28T13:12:38.252Z"
   },
   {
    "duration": 44,
    "start_time": "2023-09-28T13:12:38.263Z"
   },
   {
    "duration": 28,
    "start_time": "2023-09-28T13:12:38.309Z"
   },
   {
    "duration": 19,
    "start_time": "2023-09-28T13:12:38.338Z"
   },
   {
    "duration": 19,
    "start_time": "2023-09-28T13:12:38.360Z"
   },
   {
    "duration": 17,
    "start_time": "2023-09-28T13:12:38.380Z"
   },
   {
    "duration": 19,
    "start_time": "2023-09-28T13:12:38.399Z"
   },
   {
    "duration": 36,
    "start_time": "2023-09-28T13:12:38.420Z"
   },
   {
    "duration": 7,
    "start_time": "2023-09-28T13:12:38.457Z"
   },
   {
    "duration": 107,
    "start_time": "2023-09-28T13:12:38.465Z"
   },
   {
    "duration": 9,
    "start_time": "2023-09-28T13:12:38.574Z"
   },
   {
    "duration": 9,
    "start_time": "2023-09-28T13:12:38.584Z"
   },
   {
    "duration": 24,
    "start_time": "2023-09-28T13:12:38.595Z"
   },
   {
    "duration": 19,
    "start_time": "2023-09-28T13:12:38.620Z"
   },
   {
    "duration": 470,
    "start_time": "2023-09-28T13:12:38.641Z"
   },
   {
    "duration": 6,
    "start_time": "2023-09-28T13:12:39.113Z"
   },
   {
    "duration": 164,
    "start_time": "2023-09-28T13:12:39.121Z"
   },
   {
    "duration": 8,
    "start_time": "2023-09-28T13:12:39.287Z"
   },
   {
    "duration": 190,
    "start_time": "2023-09-28T13:12:39.297Z"
   },
   {
    "duration": 9,
    "start_time": "2023-09-28T13:12:39.489Z"
   },
   {
    "duration": 64,
    "start_time": "2023-09-28T13:12:39.500Z"
   },
   {
    "duration": 283,
    "start_time": "2023-09-28T13:12:39.566Z"
   },
   {
    "duration": 8,
    "start_time": "2023-09-28T13:12:39.853Z"
   },
   {
    "duration": 215,
    "start_time": "2023-09-28T13:12:39.862Z"
   },
   {
    "duration": 11,
    "start_time": "2023-09-28T13:12:40.079Z"
   },
   {
    "duration": 38,
    "start_time": "2023-09-28T13:12:40.091Z"
   },
   {
    "duration": 42,
    "start_time": "2023-09-28T13:12:40.131Z"
   },
   {
    "duration": 95,
    "start_time": "2023-09-28T13:16:40.814Z"
   },
   {
    "duration": 13,
    "start_time": "2023-09-28T13:16:47.257Z"
   },
   {
    "duration": 11,
    "start_time": "2023-09-28T13:20:21.864Z"
   },
   {
    "duration": 10,
    "start_time": "2023-09-28T13:20:29.391Z"
   },
   {
    "duration": 1435,
    "start_time": "2023-09-28T13:20:35.222Z"
   },
   {
    "duration": 6,
    "start_time": "2023-09-28T13:20:36.660Z"
   },
   {
    "duration": 53,
    "start_time": "2023-09-28T13:20:36.667Z"
   },
   {
    "duration": 7,
    "start_time": "2023-09-28T13:20:36.722Z"
   },
   {
    "duration": 2036,
    "start_time": "2023-09-28T13:20:36.731Z"
   },
   {
    "duration": 11,
    "start_time": "2023-09-28T13:20:38.768Z"
   },
   {
    "duration": 67,
    "start_time": "2023-09-28T13:20:38.780Z"
   },
   {
    "duration": 32,
    "start_time": "2023-09-28T13:20:38.849Z"
   },
   {
    "duration": 38,
    "start_time": "2023-09-28T13:20:38.882Z"
   },
   {
    "duration": 15,
    "start_time": "2023-09-28T13:20:38.923Z"
   },
   {
    "duration": 19,
    "start_time": "2023-09-28T13:20:38.940Z"
   },
   {
    "duration": 37,
    "start_time": "2023-09-28T13:20:38.961Z"
   },
   {
    "duration": 35,
    "start_time": "2023-09-28T13:20:38.999Z"
   },
   {
    "duration": 10,
    "start_time": "2023-09-28T13:20:39.036Z"
   },
   {
    "duration": 131,
    "start_time": "2023-09-28T13:20:39.049Z"
   },
   {
    "duration": 9,
    "start_time": "2023-09-28T13:20:39.182Z"
   },
   {
    "duration": 11,
    "start_time": "2023-09-28T13:20:39.193Z"
   },
   {
    "duration": 23,
    "start_time": "2023-09-28T13:20:39.205Z"
   },
   {
    "duration": 18,
    "start_time": "2023-09-28T13:20:39.229Z"
   },
   {
    "duration": 364,
    "start_time": "2023-09-28T13:20:39.249Z"
   },
   {
    "duration": 9,
    "start_time": "2023-09-28T13:20:39.615Z"
   },
   {
    "duration": 173,
    "start_time": "2023-09-28T13:20:39.625Z"
   },
   {
    "duration": 11,
    "start_time": "2023-09-28T13:20:39.800Z"
   },
   {
    "duration": 188,
    "start_time": "2023-09-28T13:20:39.813Z"
   },
   {
    "duration": 11,
    "start_time": "2023-09-28T13:20:40.003Z"
   },
   {
    "duration": 58,
    "start_time": "2023-09-28T13:20:40.016Z"
   },
   {
    "duration": 165,
    "start_time": "2023-09-28T13:20:40.075Z"
   },
   {
    "duration": 6,
    "start_time": "2023-09-28T13:20:40.244Z"
   },
   {
    "duration": 47,
    "start_time": "2023-09-28T13:20:40.251Z"
   },
   {
    "duration": 172,
    "start_time": "2023-09-28T13:20:40.299Z"
   },
   {
    "duration": 11,
    "start_time": "2023-09-28T13:20:40.473Z"
   },
   {
    "duration": 49,
    "start_time": "2023-09-28T13:20:40.486Z"
   },
   {
    "duration": 54,
    "start_time": "2023-09-28T13:20:40.537Z"
   },
   {
    "duration": 13,
    "start_time": "2023-09-28T13:21:29.654Z"
   },
   {
    "duration": 134,
    "start_time": "2023-09-28T13:23:29.665Z"
   },
   {
    "duration": 221,
    "start_time": "2023-09-28T13:25:35.415Z"
   },
   {
    "duration": 9,
    "start_time": "2023-09-28T13:27:22.665Z"
   },
   {
    "duration": 127,
    "start_time": "2023-09-28T13:29:33.397Z"
   },
   {
    "duration": 8,
    "start_time": "2023-09-28T13:30:29.207Z"
   },
   {
    "duration": 1438,
    "start_time": "2023-09-28T13:31:23.319Z"
   },
   {
    "duration": 5,
    "start_time": "2023-09-28T13:31:24.759Z"
   },
   {
    "duration": 62,
    "start_time": "2023-09-28T13:31:24.766Z"
   },
   {
    "duration": 17,
    "start_time": "2023-09-28T13:31:24.830Z"
   },
   {
    "duration": 2115,
    "start_time": "2023-09-28T13:31:24.849Z"
   },
   {
    "duration": 9,
    "start_time": "2023-09-28T13:31:26.966Z"
   },
   {
    "duration": 44,
    "start_time": "2023-09-28T13:31:26.977Z"
   },
   {
    "duration": 52,
    "start_time": "2023-09-28T13:31:27.023Z"
   },
   {
    "duration": 68,
    "start_time": "2023-09-28T13:31:27.077Z"
   },
   {
    "duration": 137,
    "start_time": "2023-09-28T13:31:27.148Z"
   },
   {
    "duration": 28,
    "start_time": "2023-09-28T13:31:27.287Z"
   },
   {
    "duration": 46,
    "start_time": "2023-09-28T13:31:27.317Z"
   },
   {
    "duration": 8,
    "start_time": "2023-09-28T13:31:27.365Z"
   },
   {
    "duration": 120,
    "start_time": "2023-09-28T13:31:27.375Z"
   },
   {
    "duration": 8,
    "start_time": "2023-09-28T13:31:27.496Z"
   },
   {
    "duration": 31,
    "start_time": "2023-09-28T13:31:27.506Z"
   },
   {
    "duration": 59,
    "start_time": "2023-09-28T13:31:27.540Z"
   },
   {
    "duration": 50,
    "start_time": "2023-09-28T13:31:27.602Z"
   },
   {
    "duration": 374,
    "start_time": "2023-09-28T13:31:27.655Z"
   },
   {
    "duration": 19,
    "start_time": "2023-09-28T13:31:28.031Z"
   },
   {
    "duration": 173,
    "start_time": "2023-09-28T13:31:28.052Z"
   },
   {
    "duration": 20,
    "start_time": "2023-09-28T13:31:28.227Z"
   },
   {
    "duration": 173,
    "start_time": "2023-09-28T13:31:28.249Z"
   },
   {
    "duration": 10,
    "start_time": "2023-09-28T13:31:28.423Z"
   },
   {
    "duration": 58,
    "start_time": "2023-09-28T13:31:28.445Z"
   },
   {
    "duration": 159,
    "start_time": "2023-09-28T13:31:28.505Z"
   },
   {
    "duration": 7,
    "start_time": "2023-09-28T13:31:28.665Z"
   },
   {
    "duration": 53,
    "start_time": "2023-09-28T13:31:28.676Z"
   },
   {
    "duration": 153,
    "start_time": "2023-09-28T13:31:28.731Z"
   },
   {
    "duration": 12,
    "start_time": "2023-09-28T13:31:28.885Z"
   },
   {
    "duration": 28,
    "start_time": "2023-09-28T13:31:28.898Z"
   },
   {
    "duration": 41,
    "start_time": "2023-09-28T13:31:28.928Z"
   },
   {
    "duration": 162,
    "start_time": "2023-09-28T13:31:28.970Z"
   },
   {
    "duration": 16,
    "start_time": "2023-09-28T13:31:29.134Z"
   },
   {
    "duration": 238,
    "start_time": "2023-09-28T13:31:29.151Z"
   },
   {
    "duration": 10,
    "start_time": "2023-09-28T13:31:29.391Z"
   },
   {
    "duration": 77,
    "start_time": "2023-09-28T13:37:49.295Z"
   },
   {
    "duration": 114,
    "start_time": "2023-09-28T13:37:58.786Z"
   },
   {
    "duration": 9,
    "start_time": "2023-09-28T13:38:17.432Z"
   },
   {
    "duration": 8,
    "start_time": "2023-09-28T13:38:44.821Z"
   },
   {
    "duration": 11,
    "start_time": "2023-09-28T13:38:52.893Z"
   },
   {
    "duration": 9,
    "start_time": "2023-09-28T13:38:57.186Z"
   },
   {
    "duration": 1423,
    "start_time": "2023-09-28T13:39:04.772Z"
   },
   {
    "duration": 5,
    "start_time": "2023-09-28T13:39:06.197Z"
   },
   {
    "duration": 61,
    "start_time": "2023-09-28T13:39:06.204Z"
   },
   {
    "duration": 9,
    "start_time": "2023-09-28T13:39:06.268Z"
   },
   {
    "duration": 2267,
    "start_time": "2023-09-28T13:39:06.279Z"
   },
   {
    "duration": 15,
    "start_time": "2023-09-28T13:39:08.550Z"
   },
   {
    "duration": 40,
    "start_time": "2023-09-28T13:39:08.567Z"
   },
   {
    "duration": 47,
    "start_time": "2023-09-28T13:39:08.609Z"
   },
   {
    "duration": 75,
    "start_time": "2023-09-28T13:39:08.658Z"
   },
   {
    "duration": 74,
    "start_time": "2023-09-28T13:39:08.737Z"
   },
   {
    "duration": 41,
    "start_time": "2023-09-28T13:39:08.814Z"
   },
   {
    "duration": 40,
    "start_time": "2023-09-28T13:39:08.856Z"
   },
   {
    "duration": 10,
    "start_time": "2023-09-28T13:39:08.897Z"
   },
   {
    "duration": 146,
    "start_time": "2023-09-28T13:39:08.909Z"
   },
   {
    "duration": 11,
    "start_time": "2023-09-28T13:39:09.057Z"
   },
   {
    "duration": 9,
    "start_time": "2023-09-28T13:39:09.071Z"
   },
   {
    "duration": 10,
    "start_time": "2023-09-28T13:39:09.082Z"
   },
   {
    "duration": 8,
    "start_time": "2023-09-28T13:39:09.094Z"
   },
   {
    "duration": 384,
    "start_time": "2023-09-28T13:39:09.104Z"
   },
   {
    "duration": 7,
    "start_time": "2023-09-28T13:39:09.490Z"
   },
   {
    "duration": 193,
    "start_time": "2023-09-28T13:39:09.499Z"
   },
   {
    "duration": 10,
    "start_time": "2023-09-28T13:39:09.694Z"
   },
   {
    "duration": 208,
    "start_time": "2023-09-28T13:39:09.706Z"
   },
   {
    "duration": 10,
    "start_time": "2023-09-28T13:39:09.917Z"
   },
   {
    "duration": 150,
    "start_time": "2023-09-28T13:39:09.943Z"
   },
   {
    "duration": 157,
    "start_time": "2023-09-28T13:39:10.094Z"
   },
   {
    "duration": 5,
    "start_time": "2023-09-28T13:39:10.253Z"
   },
   {
    "duration": 58,
    "start_time": "2023-09-28T13:39:10.261Z"
   },
   {
    "duration": 164,
    "start_time": "2023-09-28T13:39:10.321Z"
   },
   {
    "duration": 13,
    "start_time": "2023-09-28T13:39:10.487Z"
   },
   {
    "duration": 21,
    "start_time": "2023-09-28T13:39:10.502Z"
   },
   {
    "duration": 46,
    "start_time": "2023-09-28T13:39:10.525Z"
   },
   {
    "duration": 143,
    "start_time": "2023-09-28T13:39:10.573Z"
   },
   {
    "duration": 8,
    "start_time": "2023-09-28T13:39:10.718Z"
   },
   {
    "duration": 255,
    "start_time": "2023-09-28T13:39:10.727Z"
   },
   {
    "duration": 8,
    "start_time": "2023-09-28T13:39:10.984Z"
   },
   {
    "duration": 12,
    "start_time": "2023-09-28T13:40:26.028Z"
   },
   {
    "duration": 1389,
    "start_time": "2023-09-28T13:40:48.999Z"
   },
   {
    "duration": 5,
    "start_time": "2023-09-28T13:40:50.390Z"
   },
   {
    "duration": 44,
    "start_time": "2023-09-28T13:40:50.397Z"
   },
   {
    "duration": 35,
    "start_time": "2023-09-28T13:40:50.443Z"
   },
   {
    "duration": 2142,
    "start_time": "2023-09-28T13:40:50.479Z"
   },
   {
    "duration": 22,
    "start_time": "2023-09-28T13:40:52.623Z"
   },
   {
    "duration": 23,
    "start_time": "2023-09-28T13:40:52.647Z"
   },
   {
    "duration": 32,
    "start_time": "2023-09-28T13:40:52.671Z"
   },
   {
    "duration": 18,
    "start_time": "2023-09-28T13:40:52.705Z"
   },
   {
    "duration": 43,
    "start_time": "2023-09-28T13:40:52.726Z"
   },
   {
    "duration": 33,
    "start_time": "2023-09-28T13:40:52.772Z"
   },
   {
    "duration": 51,
    "start_time": "2023-09-28T13:40:52.807Z"
   },
   {
    "duration": 9,
    "start_time": "2023-09-28T13:40:52.860Z"
   },
   {
    "duration": 129,
    "start_time": "2023-09-28T13:40:52.870Z"
   },
   {
    "duration": 16,
    "start_time": "2023-09-28T13:40:53.001Z"
   },
   {
    "duration": 125,
    "start_time": "2023-09-28T13:40:53.018Z"
   },
   {
    "duration": 22,
    "start_time": "2023-09-28T13:40:53.145Z"
   },
   {
    "duration": 18,
    "start_time": "2023-09-28T13:40:53.168Z"
   },
   {
    "duration": 377,
    "start_time": "2023-09-28T13:40:53.188Z"
   },
   {
    "duration": 7,
    "start_time": "2023-09-28T13:40:53.567Z"
   },
   {
    "duration": 193,
    "start_time": "2023-09-28T13:40:53.576Z"
   },
   {
    "duration": 13,
    "start_time": "2023-09-28T13:40:53.771Z"
   },
   {
    "duration": 214,
    "start_time": "2023-09-28T13:40:53.787Z"
   },
   {
    "duration": 9,
    "start_time": "2023-09-28T13:40:54.003Z"
   },
   {
    "duration": 100,
    "start_time": "2023-09-28T13:40:54.014Z"
   },
   {
    "duration": 156,
    "start_time": "2023-09-28T13:40:54.116Z"
   },
   {
    "duration": 6,
    "start_time": "2023-09-28T13:40:54.274Z"
   },
   {
    "duration": 32,
    "start_time": "2023-09-28T13:40:54.285Z"
   },
   {
    "duration": 226,
    "start_time": "2023-09-28T13:40:54.319Z"
   },
   {
    "duration": 15,
    "start_time": "2023-09-28T13:40:54.547Z"
   },
   {
    "duration": 15,
    "start_time": "2023-09-28T13:40:54.564Z"
   },
   {
    "duration": 58,
    "start_time": "2023-09-28T13:40:54.582Z"
   },
   {
    "duration": 176,
    "start_time": "2023-09-28T13:40:54.643Z"
   },
   {
    "duration": 9,
    "start_time": "2023-09-28T13:40:54.821Z"
   },
   {
    "duration": 296,
    "start_time": "2023-09-28T13:40:54.844Z"
   },
   {
    "duration": 12,
    "start_time": "2023-09-28T13:40:55.143Z"
   },
   {
    "duration": 12,
    "start_time": "2023-09-28T13:41:11.702Z"
   },
   {
    "duration": 182,
    "start_time": "2023-09-28T13:42:07.061Z"
   },
   {
    "duration": 138,
    "start_time": "2023-09-28T13:42:11.232Z"
   },
   {
    "duration": 176,
    "start_time": "2023-09-28T13:42:14.510Z"
   },
   {
    "duration": 267,
    "start_time": "2023-09-28T13:42:18.344Z"
   },
   {
    "duration": 172,
    "start_time": "2023-09-28T13:42:35.077Z"
   },
   {
    "duration": 155,
    "start_time": "2023-09-28T13:42:54.602Z"
   },
   {
    "duration": 165,
    "start_time": "2023-09-28T13:43:03.043Z"
   },
   {
    "duration": 152,
    "start_time": "2023-09-28T13:43:16.141Z"
   },
   {
    "duration": 159,
    "start_time": "2023-09-28T13:43:20.505Z"
   },
   {
    "duration": 287,
    "start_time": "2023-09-28T13:43:33.107Z"
   },
   {
    "duration": 150,
    "start_time": "2023-09-28T13:43:37.702Z"
   },
   {
    "duration": 138,
    "start_time": "2023-09-28T13:43:45.226Z"
   },
   {
    "duration": 10,
    "start_time": "2023-09-28T13:45:33.487Z"
   },
   {
    "duration": 26,
    "start_time": "2023-09-28T13:45:40.785Z"
   },
   {
    "duration": 107,
    "start_time": "2023-09-28T13:49:13.275Z"
   },
   {
    "duration": 10,
    "start_time": "2023-09-28T13:49:23.212Z"
   },
   {
    "duration": 122,
    "start_time": "2023-09-28T13:50:06.965Z"
   },
   {
    "duration": 1992,
    "start_time": "2023-09-28T13:51:22.917Z"
   },
   {
    "duration": 4,
    "start_time": "2023-09-28T13:51:45.973Z"
   },
   {
    "duration": 4,
    "start_time": "2023-09-28T13:51:50.915Z"
   },
   {
    "duration": 5,
    "start_time": "2023-09-28T13:52:05.334Z"
   },
   {
    "duration": 522,
    "start_time": "2023-09-28T13:54:25.465Z"
   },
   {
    "duration": 1340,
    "start_time": "2023-09-28T13:57:15.850Z"
   },
   {
    "duration": 5,
    "start_time": "2023-09-28T13:57:17.192Z"
   },
   {
    "duration": 34,
    "start_time": "2023-09-28T13:57:17.198Z"
   },
   {
    "duration": 16,
    "start_time": "2023-09-28T13:57:17.234Z"
   },
   {
    "duration": 2021,
    "start_time": "2023-09-28T13:57:17.255Z"
   },
   {
    "duration": 10,
    "start_time": "2023-09-28T13:57:19.278Z"
   },
   {
    "duration": 19,
    "start_time": "2023-09-28T13:57:19.289Z"
   },
   {
    "duration": 36,
    "start_time": "2023-09-28T13:57:19.309Z"
   },
   {
    "duration": 11,
    "start_time": "2023-09-28T13:57:19.346Z"
   },
   {
    "duration": 27,
    "start_time": "2023-09-28T13:57:19.358Z"
   },
   {
    "duration": 26,
    "start_time": "2023-09-28T13:57:19.386Z"
   },
   {
    "duration": 7,
    "start_time": "2023-09-28T13:57:19.413Z"
   },
   {
    "duration": 116,
    "start_time": "2023-09-28T13:57:19.444Z"
   },
   {
    "duration": 9,
    "start_time": "2023-09-28T13:57:19.563Z"
   },
   {
    "duration": 17,
    "start_time": "2023-09-28T13:57:19.574Z"
   },
   {
    "duration": 18,
    "start_time": "2023-09-28T13:57:19.593Z"
   },
   {
    "duration": 34,
    "start_time": "2023-09-28T13:57:19.613Z"
   },
   {
    "duration": 362,
    "start_time": "2023-09-28T13:57:19.648Z"
   },
   {
    "duration": 7,
    "start_time": "2023-09-28T13:57:20.012Z"
   },
   {
    "duration": 198,
    "start_time": "2023-09-28T13:57:20.020Z"
   },
   {
    "duration": 11,
    "start_time": "2023-09-28T13:57:20.219Z"
   },
   {
    "duration": 180,
    "start_time": "2023-09-28T13:57:20.244Z"
   },
   {
    "duration": 25,
    "start_time": "2023-09-28T13:57:20.426Z"
   },
   {
    "duration": 51,
    "start_time": "2023-09-28T13:57:20.453Z"
   },
   {
    "duration": 191,
    "start_time": "2023-09-28T13:57:20.506Z"
   },
   {
    "duration": 6,
    "start_time": "2023-09-28T13:57:20.699Z"
   },
   {
    "duration": 43,
    "start_time": "2023-09-28T13:57:20.706Z"
   },
   {
    "duration": 157,
    "start_time": "2023-09-28T13:57:20.751Z"
   },
   {
    "duration": 14,
    "start_time": "2023-09-28T13:57:20.909Z"
   },
   {
    "duration": 36,
    "start_time": "2023-09-28T13:57:20.925Z"
   },
   {
    "duration": 37,
    "start_time": "2023-09-28T13:57:20.963Z"
   },
   {
    "duration": 166,
    "start_time": "2023-09-28T13:57:21.003Z"
   },
   {
    "duration": 11,
    "start_time": "2023-09-28T13:57:21.171Z"
   },
   {
    "duration": 250,
    "start_time": "2023-09-28T13:57:21.184Z"
   },
   {
    "duration": 10,
    "start_time": "2023-09-28T13:57:21.444Z"
   },
   {
    "duration": 24,
    "start_time": "2023-09-28T13:57:21.455Z"
   },
   {
    "duration": 21,
    "start_time": "2023-09-28T13:57:21.481Z"
   },
   {
    "duration": 163,
    "start_time": "2023-09-28T13:57:21.504Z"
   },
   {
    "duration": 165,
    "start_time": "2023-09-28T13:57:30.668Z"
   },
   {
    "duration": 141,
    "start_time": "2023-09-28T13:57:39.456Z"
   },
   {
    "duration": 156,
    "start_time": "2023-09-28T13:57:57.487Z"
   },
   {
    "duration": 133,
    "start_time": "2023-09-28T13:58:11.890Z"
   },
   {
    "duration": 148,
    "start_time": "2023-09-28T13:59:56.144Z"
   },
   {
    "duration": 8,
    "start_time": "2023-09-28T14:04:42.898Z"
   },
   {
    "duration": 6,
    "start_time": "2023-09-28T14:05:07.457Z"
   },
   {
    "duration": 8,
    "start_time": "2023-09-28T14:05:13.860Z"
   },
   {
    "duration": 1284,
    "start_time": "2023-09-28T14:05:21.891Z"
   },
   {
    "duration": 6,
    "start_time": "2023-09-28T14:05:23.177Z"
   },
   {
    "duration": 29,
    "start_time": "2023-09-28T14:05:23.184Z"
   },
   {
    "duration": 6,
    "start_time": "2023-09-28T14:05:23.215Z"
   },
   {
    "duration": 2144,
    "start_time": "2023-09-28T14:05:23.223Z"
   },
   {
    "duration": 10,
    "start_time": "2023-09-28T14:05:25.369Z"
   },
   {
    "duration": 33,
    "start_time": "2023-09-28T14:05:25.380Z"
   },
   {
    "duration": 20,
    "start_time": "2023-09-28T14:05:25.414Z"
   },
   {
    "duration": 19,
    "start_time": "2023-09-28T14:05:25.435Z"
   },
   {
    "duration": 29,
    "start_time": "2023-09-28T14:05:25.455Z"
   },
   {
    "duration": 24,
    "start_time": "2023-09-28T14:05:25.485Z"
   },
   {
    "duration": 7,
    "start_time": "2023-09-28T14:05:25.511Z"
   },
   {
    "duration": 102,
    "start_time": "2023-09-28T14:05:25.520Z"
   },
   {
    "duration": 21,
    "start_time": "2023-09-28T14:05:25.625Z"
   },
   {
    "duration": 8,
    "start_time": "2023-09-28T14:05:25.648Z"
   },
   {
    "duration": 9,
    "start_time": "2023-09-28T14:05:25.658Z"
   },
   {
    "duration": 16,
    "start_time": "2023-09-28T14:05:25.669Z"
   },
   {
    "duration": 364,
    "start_time": "2023-09-28T14:05:25.687Z"
   },
   {
    "duration": 8,
    "start_time": "2023-09-28T14:05:26.053Z"
   },
   {
    "duration": 173,
    "start_time": "2023-09-28T14:05:26.063Z"
   },
   {
    "duration": 10,
    "start_time": "2023-09-28T14:05:26.238Z"
   },
   {
    "duration": 179,
    "start_time": "2023-09-28T14:05:26.250Z"
   },
   {
    "duration": 15,
    "start_time": "2023-09-28T14:05:26.431Z"
   },
   {
    "duration": 42,
    "start_time": "2023-09-28T14:05:26.448Z"
   },
   {
    "duration": 187,
    "start_time": "2023-09-28T14:05:26.491Z"
   },
   {
    "duration": 6,
    "start_time": "2023-09-28T14:05:26.680Z"
   },
   {
    "duration": 14,
    "start_time": "2023-09-28T14:05:26.688Z"
   },
   {
    "duration": 182,
    "start_time": "2023-09-28T14:05:26.704Z"
   },
   {
    "duration": 13,
    "start_time": "2023-09-28T14:05:26.887Z"
   },
   {
    "duration": 20,
    "start_time": "2023-09-28T14:05:26.902Z"
   },
   {
    "duration": 24,
    "start_time": "2023-09-28T14:05:26.924Z"
   },
   {
    "duration": 187,
    "start_time": "2023-09-28T14:05:26.950Z"
   },
   {
    "duration": 9,
    "start_time": "2023-09-28T14:05:27.143Z"
   },
   {
    "duration": 239,
    "start_time": "2023-09-28T14:05:27.153Z"
   },
   {
    "duration": 10,
    "start_time": "2023-09-28T14:05:27.394Z"
   },
   {
    "duration": 54,
    "start_time": "2023-09-28T14:05:27.405Z"
   },
   {
    "duration": 18,
    "start_time": "2023-09-28T14:05:27.460Z"
   },
   {
    "duration": 145,
    "start_time": "2023-09-28T14:05:27.480Z"
   },
   {
    "duration": 8,
    "start_time": "2023-09-28T14:05:27.627Z"
   },
   {
    "duration": 146,
    "start_time": "2023-09-28T14:10:58.428Z"
   },
   {
    "duration": 145,
    "start_time": "2023-09-28T14:11:23.900Z"
   },
   {
    "duration": 130,
    "start_time": "2023-09-28T14:21:42.027Z"
   },
   {
    "duration": 143,
    "start_time": "2023-09-28T14:23:21.364Z"
   },
   {
    "duration": 1297,
    "start_time": "2023-09-28T14:24:54.481Z"
   },
   {
    "duration": 6,
    "start_time": "2023-09-28T14:24:55.780Z"
   },
   {
    "duration": 45,
    "start_time": "2023-09-28T14:24:55.787Z"
   },
   {
    "duration": 15,
    "start_time": "2023-09-28T14:24:55.834Z"
   },
   {
    "duration": 2022,
    "start_time": "2023-09-28T14:24:55.851Z"
   },
   {
    "duration": 11,
    "start_time": "2023-09-28T14:24:57.874Z"
   },
   {
    "duration": 21,
    "start_time": "2023-09-28T14:24:57.887Z"
   },
   {
    "duration": 6,
    "start_time": "2023-09-28T14:24:57.909Z"
   },
   {
    "duration": 42,
    "start_time": "2023-09-28T14:24:57.917Z"
   },
   {
    "duration": 19,
    "start_time": "2023-09-28T14:24:57.961Z"
   },
   {
    "duration": 30,
    "start_time": "2023-09-28T14:24:57.982Z"
   },
   {
    "duration": 7,
    "start_time": "2023-09-28T14:24:58.014Z"
   },
   {
    "duration": 123,
    "start_time": "2023-09-28T14:24:58.022Z"
   },
   {
    "duration": 9,
    "start_time": "2023-09-28T14:24:58.148Z"
   },
   {
    "duration": 24,
    "start_time": "2023-09-28T14:24:58.159Z"
   },
   {
    "duration": 11,
    "start_time": "2023-09-28T14:24:58.185Z"
   },
   {
    "duration": 9,
    "start_time": "2023-09-28T14:24:58.197Z"
   },
   {
    "duration": 381,
    "start_time": "2023-09-28T14:24:58.208Z"
   },
   {
    "duration": 8,
    "start_time": "2023-09-28T14:24:58.591Z"
   },
   {
    "duration": 212,
    "start_time": "2023-09-28T14:24:58.601Z"
   },
   {
    "duration": 9,
    "start_time": "2023-09-28T14:24:58.814Z"
   },
   {
    "duration": 171,
    "start_time": "2023-09-28T14:24:58.824Z"
   },
   {
    "duration": 9,
    "start_time": "2023-09-28T14:24:58.996Z"
   },
   {
    "duration": 58,
    "start_time": "2023-09-28T14:24:59.007Z"
   },
   {
    "duration": 194,
    "start_time": "2023-09-28T14:24:59.066Z"
   },
   {
    "duration": 6,
    "start_time": "2023-09-28T14:24:59.262Z"
   },
   {
    "duration": 40,
    "start_time": "2023-09-28T14:24:59.270Z"
   },
   {
    "duration": 177,
    "start_time": "2023-09-28T14:24:59.311Z"
   },
   {
    "duration": 11,
    "start_time": "2023-09-28T14:24:59.490Z"
   },
   {
    "duration": 39,
    "start_time": "2023-09-28T14:24:59.503Z"
   },
   {
    "duration": 23,
    "start_time": "2023-09-28T14:24:59.544Z"
   },
   {
    "duration": 194,
    "start_time": "2023-09-28T14:24:59.569Z"
   },
   {
    "duration": 12,
    "start_time": "2023-09-28T14:24:59.766Z"
   },
   {
    "duration": 248,
    "start_time": "2023-09-28T14:24:59.780Z"
   },
   {
    "duration": 19,
    "start_time": "2023-09-28T14:25:00.029Z"
   },
   {
    "duration": 34,
    "start_time": "2023-09-28T14:25:00.050Z"
   },
   {
    "duration": 85,
    "start_time": "2023-09-28T14:25:00.086Z"
   },
   {
    "duration": 177,
    "start_time": "2023-09-28T14:25:00.174Z"
   },
   {
    "duration": 7,
    "start_time": "2023-09-28T14:25:00.353Z"
   },
   {
    "duration": 159,
    "start_time": "2023-09-28T14:25:00.362Z"
   },
   {
    "duration": 168,
    "start_time": "2023-09-28T14:25:00.525Z"
   },
   {
    "duration": 129,
    "start_time": "2023-09-28T14:26:16.105Z"
   },
   {
    "duration": 124,
    "start_time": "2023-09-28T14:30:08.379Z"
   },
   {
    "duration": 10,
    "start_time": "2023-09-28T14:30:58.336Z"
   },
   {
    "duration": 10,
    "start_time": "2023-09-28T14:31:25.443Z"
   },
   {
    "duration": 26,
    "start_time": "2023-09-28T14:31:40.851Z"
   },
   {
    "duration": 103,
    "start_time": "2023-09-28T14:34:11.820Z"
   },
   {
    "duration": 1255,
    "start_time": "2023-09-28T14:34:36.677Z"
   },
   {
    "duration": 5,
    "start_time": "2023-09-28T14:34:37.934Z"
   },
   {
    "duration": 59,
    "start_time": "2023-09-28T14:34:37.940Z"
   },
   {
    "duration": 11,
    "start_time": "2023-09-28T14:34:38.001Z"
   },
   {
    "duration": 1973,
    "start_time": "2023-09-28T14:34:38.013Z"
   },
   {
    "duration": 10,
    "start_time": "2023-09-28T14:34:39.988Z"
   },
   {
    "duration": 35,
    "start_time": "2023-09-28T14:34:39.999Z"
   },
   {
    "duration": 16,
    "start_time": "2023-09-28T14:34:40.036Z"
   },
   {
    "duration": 21,
    "start_time": "2023-09-28T14:34:40.054Z"
   },
   {
    "duration": 37,
    "start_time": "2023-09-28T14:34:40.078Z"
   },
   {
    "duration": 38,
    "start_time": "2023-09-28T14:34:40.116Z"
   },
   {
    "duration": 6,
    "start_time": "2023-09-28T14:34:40.155Z"
   },
   {
    "duration": 104,
    "start_time": "2023-09-28T14:34:40.163Z"
   },
   {
    "duration": 9,
    "start_time": "2023-09-28T14:34:40.268Z"
   },
   {
    "duration": 39,
    "start_time": "2023-09-28T14:34:40.279Z"
   },
   {
    "duration": 25,
    "start_time": "2023-09-28T14:34:40.320Z"
   },
   {
    "duration": 26,
    "start_time": "2023-09-28T14:34:40.347Z"
   },
   {
    "duration": 348,
    "start_time": "2023-09-28T14:34:40.375Z"
   },
   {
    "duration": 7,
    "start_time": "2023-09-28T14:34:40.726Z"
   },
   {
    "duration": 159,
    "start_time": "2023-09-28T14:34:40.734Z"
   },
   {
    "duration": 8,
    "start_time": "2023-09-28T14:34:40.895Z"
   },
   {
    "duration": 175,
    "start_time": "2023-09-28T14:34:40.905Z"
   },
   {
    "duration": 11,
    "start_time": "2023-09-28T14:34:41.084Z"
   },
   {
    "duration": 80,
    "start_time": "2023-09-28T14:34:41.097Z"
   },
   {
    "duration": 158,
    "start_time": "2023-09-28T14:34:41.178Z"
   },
   {
    "duration": 6,
    "start_time": "2023-09-28T14:34:41.338Z"
   },
   {
    "duration": 17,
    "start_time": "2023-09-28T14:34:41.346Z"
   },
   {
    "duration": 157,
    "start_time": "2023-09-28T14:34:41.366Z"
   },
   {
    "duration": 10,
    "start_time": "2023-09-28T14:34:41.524Z"
   },
   {
    "duration": 18,
    "start_time": "2023-09-28T14:34:41.543Z"
   },
   {
    "duration": 12,
    "start_time": "2023-09-28T14:34:41.563Z"
   },
   {
    "duration": 153,
    "start_time": "2023-09-28T14:34:41.576Z"
   },
   {
    "duration": 13,
    "start_time": "2023-09-28T14:34:41.731Z"
   },
   {
    "duration": 221,
    "start_time": "2023-09-28T14:34:41.746Z"
   },
   {
    "duration": 9,
    "start_time": "2023-09-28T14:34:41.969Z"
   },
   {
    "duration": 58,
    "start_time": "2023-09-28T14:34:41.979Z"
   },
   {
    "duration": 100,
    "start_time": "2023-09-28T14:34:42.039Z"
   },
   {
    "duration": 332,
    "start_time": "2023-09-28T14:34:42.140Z"
   },
   {
    "duration": 8,
    "start_time": "2023-09-28T14:34:42.474Z"
   },
   {
    "duration": 141,
    "start_time": "2023-09-28T14:34:42.483Z"
   },
   {
    "duration": 152,
    "start_time": "2023-09-28T14:34:42.625Z"
   },
   {
    "duration": 140,
    "start_time": "2023-09-28T14:34:42.779Z"
   },
   {
    "duration": 10,
    "start_time": "2023-09-28T14:34:42.920Z"
   },
   {
    "duration": 139,
    "start_time": "2023-09-28T14:34:42.943Z"
   },
   {
    "duration": 96,
    "start_time": "2023-09-28T14:34:59.834Z"
   },
   {
    "duration": 90,
    "start_time": "2023-09-28T14:35:06.094Z"
   },
   {
    "duration": 92,
    "start_time": "2023-09-28T14:36:28.291Z"
   },
   {
    "duration": 112,
    "start_time": "2023-09-28T14:36:40.355Z"
   },
   {
    "duration": 133,
    "start_time": "2023-09-28T14:36:58.847Z"
   },
   {
    "duration": 188,
    "start_time": "2023-09-28T14:37:14.529Z"
   },
   {
    "duration": 180,
    "start_time": "2023-09-28T14:37:36.837Z"
   },
   {
    "duration": 192,
    "start_time": "2023-09-28T14:38:06.689Z"
   },
   {
    "duration": 1280,
    "start_time": "2023-09-28T14:39:36.994Z"
   },
   {
    "duration": 6,
    "start_time": "2023-09-28T14:39:38.276Z"
   },
   {
    "duration": 33,
    "start_time": "2023-09-28T14:39:38.283Z"
   },
   {
    "duration": 19,
    "start_time": "2023-09-28T14:39:38.319Z"
   },
   {
    "duration": 2070,
    "start_time": "2023-09-28T14:39:38.339Z"
   },
   {
    "duration": 10,
    "start_time": "2023-09-28T14:39:40.411Z"
   },
   {
    "duration": 37,
    "start_time": "2023-09-28T14:39:40.423Z"
   },
   {
    "duration": 6,
    "start_time": "2023-09-28T14:39:40.462Z"
   },
   {
    "duration": 17,
    "start_time": "2023-09-28T14:39:40.469Z"
   },
   {
    "duration": 74,
    "start_time": "2023-09-28T14:39:40.488Z"
   },
   {
    "duration": 80,
    "start_time": "2023-09-28T14:39:40.564Z"
   },
   {
    "duration": 8,
    "start_time": "2023-09-28T14:39:40.645Z"
   },
   {
    "duration": 220,
    "start_time": "2023-09-28T14:39:40.654Z"
   },
   {
    "duration": 8,
    "start_time": "2023-09-28T14:39:40.876Z"
   },
   {
    "duration": 35,
    "start_time": "2023-09-28T14:39:40.885Z"
   },
   {
    "duration": 30,
    "start_time": "2023-09-28T14:39:40.922Z"
   },
   {
    "duration": 20,
    "start_time": "2023-09-28T14:39:40.954Z"
   },
   {
    "duration": 337,
    "start_time": "2023-09-28T14:39:40.976Z"
   },
   {
    "duration": 7,
    "start_time": "2023-09-28T14:39:41.314Z"
   },
   {
    "duration": 161,
    "start_time": "2023-09-28T14:39:41.322Z"
   },
   {
    "duration": 9,
    "start_time": "2023-09-28T14:39:41.484Z"
   },
   {
    "duration": 178,
    "start_time": "2023-09-28T14:39:41.494Z"
   },
   {
    "duration": 10,
    "start_time": "2023-09-28T14:39:41.674Z"
   },
   {
    "duration": 72,
    "start_time": "2023-09-28T14:39:41.686Z"
   },
   {
    "duration": 169,
    "start_time": "2023-09-28T14:39:41.760Z"
   },
   {
    "duration": 13,
    "start_time": "2023-09-28T14:39:41.931Z"
   },
   {
    "duration": 22,
    "start_time": "2023-09-28T14:39:41.946Z"
   },
   {
    "duration": 159,
    "start_time": "2023-09-28T14:39:41.973Z"
   },
   {
    "duration": 17,
    "start_time": "2023-09-28T14:39:42.134Z"
   },
   {
    "duration": 21,
    "start_time": "2023-09-28T14:39:42.152Z"
   },
   {
    "duration": 9,
    "start_time": "2023-09-28T14:39:42.175Z"
   },
   {
    "duration": 162,
    "start_time": "2023-09-28T14:39:42.185Z"
   },
   {
    "duration": 8,
    "start_time": "2023-09-28T14:39:42.349Z"
   },
   {
    "duration": 254,
    "start_time": "2023-09-28T14:39:42.359Z"
   },
   {
    "duration": 11,
    "start_time": "2023-09-28T14:39:42.615Z"
   },
   {
    "duration": 18,
    "start_time": "2023-09-28T14:39:42.628Z"
   },
   {
    "duration": 15,
    "start_time": "2023-09-28T14:39:42.648Z"
   },
   {
    "duration": 158,
    "start_time": "2023-09-28T14:39:42.665Z"
   },
   {
    "duration": 8,
    "start_time": "2023-09-28T14:39:42.825Z"
   },
   {
    "duration": 147,
    "start_time": "2023-09-28T14:39:42.834Z"
   },
   {
    "duration": 169,
    "start_time": "2023-09-28T14:39:42.983Z"
   },
   {
    "duration": 152,
    "start_time": "2023-09-28T14:39:43.154Z"
   },
   {
    "duration": 10,
    "start_time": "2023-09-28T14:39:43.307Z"
   },
   {
    "duration": 135,
    "start_time": "2023-09-28T14:39:43.319Z"
   },
   {
    "duration": 2065,
    "start_time": "2023-09-28T17:57:17.196Z"
   },
   {
    "duration": 8,
    "start_time": "2023-09-28T17:57:19.263Z"
   },
   {
    "duration": 33,
    "start_time": "2023-09-28T17:57:19.273Z"
   },
   {
    "duration": 8,
    "start_time": "2023-09-28T17:57:19.308Z"
   },
   {
    "duration": 2312,
    "start_time": "2023-09-28T17:57:19.317Z"
   },
   {
    "duration": 14,
    "start_time": "2023-09-28T17:57:21.631Z"
   },
   {
    "duration": 42,
    "start_time": "2023-09-28T17:57:21.647Z"
   },
   {
    "duration": 12,
    "start_time": "2023-09-28T17:57:21.691Z"
   },
   {
    "duration": 22,
    "start_time": "2023-09-28T17:57:21.705Z"
   },
   {
    "duration": 15,
    "start_time": "2023-09-28T17:57:21.730Z"
   },
   {
    "duration": 54,
    "start_time": "2023-09-28T17:57:21.747Z"
   },
   {
    "duration": 10,
    "start_time": "2023-09-28T17:57:21.803Z"
   },
   {
    "duration": 253,
    "start_time": "2023-09-28T17:57:21.815Z"
   },
   {
    "duration": 13,
    "start_time": "2023-09-28T17:57:22.070Z"
   },
   {
    "duration": 19,
    "start_time": "2023-09-28T17:57:22.085Z"
   },
   {
    "duration": 18,
    "start_time": "2023-09-28T17:57:22.106Z"
   },
   {
    "duration": 8,
    "start_time": "2023-09-28T17:57:22.126Z"
   },
   {
    "duration": 444,
    "start_time": "2023-09-28T17:57:22.136Z"
   },
   {
    "duration": 12,
    "start_time": "2023-09-28T17:57:22.581Z"
   },
   {
    "duration": 198,
    "start_time": "2023-09-28T17:57:22.595Z"
   },
   {
    "duration": 11,
    "start_time": "2023-09-28T17:57:22.795Z"
   },
   {
    "duration": 224,
    "start_time": "2023-09-28T17:57:22.808Z"
   },
   {
    "duration": 22,
    "start_time": "2023-09-28T17:57:23.034Z"
   },
   {
    "duration": 56,
    "start_time": "2023-09-28T17:57:23.059Z"
   },
   {
    "duration": 206,
    "start_time": "2023-09-28T17:57:23.117Z"
   },
   {
    "duration": 7,
    "start_time": "2023-09-28T17:57:23.328Z"
   },
   {
    "duration": 25,
    "start_time": "2023-09-28T17:57:23.336Z"
   },
   {
    "duration": 191,
    "start_time": "2023-09-28T17:57:23.367Z"
   },
   {
    "duration": 19,
    "start_time": "2023-09-28T17:57:23.560Z"
   },
   {
    "duration": 17,
    "start_time": "2023-09-28T17:57:23.581Z"
   },
   {
    "duration": 14,
    "start_time": "2023-09-28T17:57:23.601Z"
   },
   {
    "duration": 208,
    "start_time": "2023-09-28T17:57:23.621Z"
   },
   {
    "duration": 11,
    "start_time": "2023-09-28T17:57:23.831Z"
   },
   {
    "duration": 306,
    "start_time": "2023-09-28T17:57:23.851Z"
   },
   {
    "duration": 12,
    "start_time": "2023-09-28T17:57:24.167Z"
   },
   {
    "duration": 36,
    "start_time": "2023-09-28T17:57:24.181Z"
   },
   {
    "duration": 34,
    "start_time": "2023-09-28T17:57:24.219Z"
   },
   {
    "duration": 179,
    "start_time": "2023-09-28T17:57:24.255Z"
   },
   {
    "duration": 8,
    "start_time": "2023-09-28T17:57:24.436Z"
   },
   {
    "duration": 167,
    "start_time": "2023-09-28T17:57:24.446Z"
   },
   {
    "duration": 217,
    "start_time": "2023-09-28T17:57:24.615Z"
   },
   {
    "duration": 191,
    "start_time": "2023-09-28T17:57:24.834Z"
   },
   {
    "duration": 11,
    "start_time": "2023-09-28T17:57:25.027Z"
   },
   {
    "duration": 150,
    "start_time": "2023-09-28T17:57:25.050Z"
   },
   {
    "duration": 155,
    "start_time": "2023-09-28T17:57:40.238Z"
   },
   {
    "duration": 8,
    "start_time": "2023-09-28T17:58:01.218Z"
   },
   {
    "duration": 28,
    "start_time": "2023-09-28T17:58:09.077Z"
   },
   {
    "duration": 19,
    "start_time": "2023-09-28T17:59:04.969Z"
   },
   {
    "duration": 285,
    "start_time": "2023-09-28T18:00:10.226Z"
   },
   {
    "duration": 1564,
    "start_time": "2023-09-28T18:00:36.874Z"
   },
   {
    "duration": 17,
    "start_time": "2023-09-28T18:00:38.440Z"
   },
   {
    "duration": 70,
    "start_time": "2023-09-28T18:00:38.464Z"
   },
   {
    "duration": 15,
    "start_time": "2023-09-28T18:00:38.537Z"
   },
   {
    "duration": 2567,
    "start_time": "2023-09-28T18:00:38.557Z"
   },
   {
    "duration": 11,
    "start_time": "2023-09-28T18:00:41.126Z"
   },
   {
    "duration": 37,
    "start_time": "2023-09-28T18:00:41.139Z"
   },
   {
    "duration": 12,
    "start_time": "2023-09-28T18:00:41.179Z"
   },
   {
    "duration": 33,
    "start_time": "2023-09-28T18:00:41.193Z"
   },
   {
    "duration": 35,
    "start_time": "2023-09-28T18:00:41.227Z"
   },
   {
    "duration": 37,
    "start_time": "2023-09-28T18:00:41.265Z"
   },
   {
    "duration": 7,
    "start_time": "2023-09-28T18:00:41.304Z"
   },
   {
    "duration": 297,
    "start_time": "2023-09-28T18:00:41.313Z"
   },
   {
    "duration": 10,
    "start_time": "2023-09-28T18:00:41.614Z"
   },
   {
    "duration": 46,
    "start_time": "2023-09-28T18:00:41.626Z"
   },
   {
    "duration": 10,
    "start_time": "2023-09-28T18:00:41.676Z"
   },
   {
    "duration": 44,
    "start_time": "2023-09-28T18:00:41.688Z"
   },
   {
    "duration": 463,
    "start_time": "2023-09-28T18:00:41.734Z"
   },
   {
    "duration": 8,
    "start_time": "2023-09-28T18:00:42.210Z"
   },
   {
    "duration": 221,
    "start_time": "2023-09-28T18:00:42.220Z"
   },
   {
    "duration": 16,
    "start_time": "2023-09-28T18:00:42.443Z"
   },
   {
    "duration": 308,
    "start_time": "2023-09-28T18:00:42.461Z"
   },
   {
    "duration": 12,
    "start_time": "2023-09-28T18:00:42.772Z"
   },
   {
    "duration": 51,
    "start_time": "2023-09-28T18:00:42.787Z"
   },
   {
    "duration": 227,
    "start_time": "2023-09-28T18:00:42.839Z"
   },
   {
    "duration": 7,
    "start_time": "2023-09-28T18:00:43.068Z"
   },
   {
    "duration": 37,
    "start_time": "2023-09-28T18:00:43.077Z"
   },
   {
    "duration": 225,
    "start_time": "2023-09-28T18:00:43.116Z"
   },
   {
    "duration": 19,
    "start_time": "2023-09-28T18:00:43.343Z"
   },
   {
    "duration": 21,
    "start_time": "2023-09-28T18:00:43.367Z"
   },
   {
    "duration": 62,
    "start_time": "2023-09-28T18:00:43.391Z"
   },
   {
    "duration": 167,
    "start_time": "2023-09-28T18:00:43.454Z"
   },
   {
    "duration": 9,
    "start_time": "2023-09-28T18:00:43.624Z"
   },
   {
    "duration": 289,
    "start_time": "2023-09-28T18:00:43.635Z"
   },
   {
    "duration": 14,
    "start_time": "2023-09-28T18:00:43.925Z"
   },
   {
    "duration": 16,
    "start_time": "2023-09-28T18:00:43.953Z"
   },
   {
    "duration": 23,
    "start_time": "2023-09-28T18:00:43.971Z"
   },
   {
    "duration": 176,
    "start_time": "2023-09-28T18:00:43.995Z"
   },
   {
    "duration": 7,
    "start_time": "2023-09-28T18:00:44.172Z"
   },
   {
    "duration": 169,
    "start_time": "2023-09-28T18:00:44.181Z"
   },
   {
    "duration": 224,
    "start_time": "2023-09-28T18:00:44.355Z"
   },
   {
    "duration": 182,
    "start_time": "2023-09-28T18:00:44.582Z"
   },
   {
    "duration": 14,
    "start_time": "2023-09-28T18:00:44.766Z"
   },
   {
    "duration": 34,
    "start_time": "2023-09-28T18:00:44.782Z"
   },
   {
    "duration": 240,
    "start_time": "2023-09-28T18:01:23.600Z"
   },
   {
    "duration": 10,
    "start_time": "2023-09-28T18:01:30.984Z"
   },
   {
    "duration": 46,
    "start_time": "2023-09-29T07:17:30.272Z"
   },
   {
    "duration": 50,
    "start_time": "2023-09-29T07:18:46.839Z"
   },
   {
    "duration": 123,
    "start_time": "2023-09-29T07:18:58.394Z"
   },
   {
    "duration": 4,
    "start_time": "2023-09-29T07:18:58.518Z"
   },
   {
    "duration": 33,
    "start_time": "2023-09-29T07:18:58.524Z"
   },
   {
    "duration": 12,
    "start_time": "2023-09-29T07:18:58.559Z"
   },
   {
    "duration": 2032,
    "start_time": "2023-09-29T07:18:58.572Z"
   },
   {
    "duration": 9,
    "start_time": "2023-09-29T07:19:00.606Z"
   },
   {
    "duration": 56,
    "start_time": "2023-09-29T07:19:00.617Z"
   },
   {
    "duration": 105,
    "start_time": "2023-09-29T07:19:00.675Z"
   },
   {
    "duration": 57,
    "start_time": "2023-09-29T07:19:00.781Z"
   },
   {
    "duration": 55,
    "start_time": "2023-09-29T07:19:00.839Z"
   },
   {
    "duration": 100,
    "start_time": "2023-09-29T07:19:00.895Z"
   },
   {
    "duration": 41,
    "start_time": "2023-09-29T07:19:00.997Z"
   },
   {
    "duration": 231,
    "start_time": "2023-09-29T07:19:01.041Z"
   },
   {
    "duration": 5,
    "start_time": "2023-09-29T07:19:01.274Z"
   },
   {
    "duration": 52,
    "start_time": "2023-09-29T07:19:01.280Z"
   },
   {
    "duration": 60,
    "start_time": "2023-09-29T07:19:01.333Z"
   },
   {
    "duration": 39,
    "start_time": "2023-09-29T07:19:01.395Z"
   },
   {
    "duration": 71,
    "start_time": "2023-09-29T07:19:01.435Z"
   },
   {
    "duration": 364,
    "start_time": "2023-09-29T07:19:01.507Z"
   },
   {
    "duration": 7,
    "start_time": "2023-09-29T07:19:01.872Z"
   },
   {
    "duration": 146,
    "start_time": "2023-09-29T07:19:01.880Z"
   },
   {
    "duration": 8,
    "start_time": "2023-09-29T07:19:02.027Z"
   },
   {
    "duration": 184,
    "start_time": "2023-09-29T07:19:02.044Z"
   },
   {
    "duration": 8,
    "start_time": "2023-09-29T07:19:02.230Z"
   },
   {
    "duration": 52,
    "start_time": "2023-09-29T07:19:02.240Z"
   },
   {
    "duration": 165,
    "start_time": "2023-09-29T07:19:02.294Z"
   },
   {
    "duration": 5,
    "start_time": "2023-09-29T07:19:02.460Z"
   },
   {
    "duration": 26,
    "start_time": "2023-09-29T07:19:02.466Z"
   },
   {
    "duration": 138,
    "start_time": "2023-09-29T07:19:02.493Z"
   },
   {
    "duration": 24,
    "start_time": "2023-09-29T07:19:02.632Z"
   },
   {
    "duration": 43,
    "start_time": "2023-09-29T07:19:02.658Z"
   },
   {
    "duration": 31,
    "start_time": "2023-09-29T07:19:02.707Z"
   },
   {
    "duration": 179,
    "start_time": "2023-09-29T07:19:02.740Z"
   },
   {
    "duration": 8,
    "start_time": "2023-09-29T07:19:02.921Z"
   },
   {
    "duration": 207,
    "start_time": "2023-09-29T07:19:02.930Z"
   },
   {
    "duration": 14,
    "start_time": "2023-09-29T07:19:03.138Z"
   },
   {
    "duration": 37,
    "start_time": "2023-09-29T07:19:03.154Z"
   },
   {
    "duration": 19,
    "start_time": "2023-09-29T07:19:03.192Z"
   },
   {
    "duration": 168,
    "start_time": "2023-09-29T07:19:03.212Z"
   },
   {
    "duration": 6,
    "start_time": "2023-09-29T07:19:03.382Z"
   },
   {
    "duration": 130,
    "start_time": "2023-09-29T07:19:03.389Z"
   },
   {
    "duration": 143,
    "start_time": "2023-09-29T07:19:03.520Z"
   },
   {
    "duration": 140,
    "start_time": "2023-09-29T07:19:03.666Z"
   },
   {
    "duration": 9,
    "start_time": "2023-09-29T07:19:03.807Z"
   },
   {
    "duration": 8,
    "start_time": "2023-09-29T07:19:03.817Z"
   },
   {
    "duration": 1343,
    "start_time": "2023-09-29T07:26:01.429Z"
   },
   {
    "duration": 5,
    "start_time": "2023-09-29T07:26:02.774Z"
   },
   {
    "duration": 54,
    "start_time": "2023-09-29T07:26:02.781Z"
   },
   {
    "duration": 50,
    "start_time": "2023-09-29T07:26:02.836Z"
   },
   {
    "duration": 1970,
    "start_time": "2023-09-29T07:26:02.888Z"
   },
   {
    "duration": 13,
    "start_time": "2023-09-29T07:26:04.860Z"
   },
   {
    "duration": 28,
    "start_time": "2023-09-29T07:26:04.876Z"
   },
   {
    "duration": 6,
    "start_time": "2023-09-29T07:26:04.906Z"
   },
   {
    "duration": 26,
    "start_time": "2023-09-29T07:26:04.914Z"
   },
   {
    "duration": 23,
    "start_time": "2023-09-29T07:26:04.941Z"
   },
   {
    "duration": 37,
    "start_time": "2023-09-29T07:26:04.966Z"
   },
   {
    "duration": 21,
    "start_time": "2023-09-29T07:26:05.005Z"
   },
   {
    "duration": 327,
    "start_time": "2023-09-29T07:26:05.028Z"
   },
   {
    "duration": 8,
    "start_time": "2023-09-29T07:26:05.360Z"
   },
   {
    "duration": 19,
    "start_time": "2023-09-29T07:26:05.371Z"
   },
   {
    "duration": 12,
    "start_time": "2023-09-29T07:26:05.392Z"
   },
   {
    "duration": 10,
    "start_time": "2023-09-29T07:26:05.406Z"
   },
   {
    "duration": 35,
    "start_time": "2023-09-29T07:26:05.418Z"
   },
   {
    "duration": 365,
    "start_time": "2023-09-29T07:26:05.455Z"
   },
   {
    "duration": 8,
    "start_time": "2023-09-29T07:26:05.823Z"
   },
   {
    "duration": 178,
    "start_time": "2023-09-29T07:26:05.844Z"
   },
   {
    "duration": 8,
    "start_time": "2023-09-29T07:26:06.023Z"
   },
   {
    "duration": 194,
    "start_time": "2023-09-29T07:26:06.032Z"
   },
   {
    "duration": 19,
    "start_time": "2023-09-29T07:26:06.228Z"
   },
   {
    "duration": 72,
    "start_time": "2023-09-29T07:26:06.249Z"
   },
   {
    "duration": 161,
    "start_time": "2023-09-29T07:26:06.323Z"
   },
   {
    "duration": 6,
    "start_time": "2023-09-29T07:26:06.489Z"
   },
   {
    "duration": 33,
    "start_time": "2023-09-29T07:26:06.497Z"
   },
   {
    "duration": 173,
    "start_time": "2023-09-29T07:26:06.532Z"
   },
   {
    "duration": 13,
    "start_time": "2023-09-29T07:26:06.707Z"
   },
   {
    "duration": 23,
    "start_time": "2023-09-29T07:26:06.722Z"
   },
   {
    "duration": 15,
    "start_time": "2023-09-29T07:26:06.747Z"
   },
   {
    "duration": 153,
    "start_time": "2023-09-29T07:26:06.764Z"
   },
   {
    "duration": 9,
    "start_time": "2023-09-29T07:26:06.919Z"
   },
   {
    "duration": 272,
    "start_time": "2023-09-29T07:26:06.930Z"
   },
   {
    "duration": 11,
    "start_time": "2023-09-29T07:26:07.204Z"
   },
   {
    "duration": 9,
    "start_time": "2023-09-29T07:26:07.217Z"
   },
   {
    "duration": 21,
    "start_time": "2023-09-29T07:26:07.228Z"
   },
   {
    "duration": 197,
    "start_time": "2023-09-29T07:26:07.251Z"
   },
   {
    "duration": 7,
    "start_time": "2023-09-29T07:26:07.450Z"
   },
   {
    "duration": 172,
    "start_time": "2023-09-29T07:26:07.462Z"
   },
   {
    "duration": 204,
    "start_time": "2023-09-29T07:26:07.636Z"
   },
   {
    "duration": 135,
    "start_time": "2023-09-29T07:26:07.844Z"
   },
   {
    "duration": 10,
    "start_time": "2023-09-29T07:26:07.981Z"
   },
   {
    "duration": 13,
    "start_time": "2023-09-29T07:26:07.992Z"
   },
   {
    "duration": 6,
    "start_time": "2023-09-29T07:27:36.567Z"
   },
   {
    "duration": 5,
    "start_time": "2023-09-29T07:28:03.837Z"
   },
   {
    "duration": 6,
    "start_time": "2023-09-29T07:28:37.463Z"
   },
   {
    "duration": 9,
    "start_time": "2023-09-29T07:28:55.549Z"
   },
   {
    "duration": 10,
    "start_time": "2023-09-29T07:29:08.114Z"
   },
   {
    "duration": 1253,
    "start_time": "2023-09-29T07:29:30.531Z"
   },
   {
    "duration": 5,
    "start_time": "2023-09-29T07:29:31.786Z"
   },
   {
    "duration": 37,
    "start_time": "2023-09-29T07:29:31.793Z"
   },
   {
    "duration": 30,
    "start_time": "2023-09-29T07:29:31.832Z"
   },
   {
    "duration": 1798,
    "start_time": "2023-09-29T07:29:31.864Z"
   },
   {
    "duration": 9,
    "start_time": "2023-09-29T07:29:33.663Z"
   },
   {
    "duration": 30,
    "start_time": "2023-09-29T07:29:33.673Z"
   },
   {
    "duration": 18,
    "start_time": "2023-09-29T07:29:33.704Z"
   },
   {
    "duration": 22,
    "start_time": "2023-09-29T07:29:33.723Z"
   },
   {
    "duration": 54,
    "start_time": "2023-09-29T07:29:33.747Z"
   },
   {
    "duration": 55,
    "start_time": "2023-09-29T07:29:33.803Z"
   },
   {
    "duration": 15,
    "start_time": "2023-09-29T07:29:33.859Z"
   },
   {
    "duration": 237,
    "start_time": "2023-09-29T07:29:33.875Z"
   },
   {
    "duration": 6,
    "start_time": "2023-09-29T07:29:34.115Z"
   },
   {
    "duration": 21,
    "start_time": "2023-09-29T07:29:34.123Z"
   },
   {
    "duration": 35,
    "start_time": "2023-09-29T07:29:34.146Z"
   },
   {
    "duration": 28,
    "start_time": "2023-09-29T07:29:34.183Z"
   },
   {
    "duration": 9,
    "start_time": "2023-09-29T07:29:34.213Z"
   },
   {
    "duration": 304,
    "start_time": "2023-09-29T07:29:34.223Z"
   },
   {
    "duration": 6,
    "start_time": "2023-09-29T07:29:34.529Z"
   },
   {
    "duration": 273,
    "start_time": "2023-09-29T07:29:34.536Z"
   },
   {
    "duration": 9,
    "start_time": "2023-09-29T07:29:34.811Z"
   },
   {
    "duration": 153,
    "start_time": "2023-09-29T07:29:34.821Z"
   },
   {
    "duration": 10,
    "start_time": "2023-09-29T07:29:34.976Z"
   },
   {
    "duration": 60,
    "start_time": "2023-09-29T07:29:34.988Z"
   },
   {
    "duration": 156,
    "start_time": "2023-09-29T07:29:35.049Z"
   },
   {
    "duration": 5,
    "start_time": "2023-09-29T07:29:35.207Z"
   },
   {
    "duration": 49,
    "start_time": "2023-09-29T07:29:35.215Z"
   },
   {
    "duration": 152,
    "start_time": "2023-09-29T07:29:35.266Z"
   },
   {
    "duration": 11,
    "start_time": "2023-09-29T07:29:35.419Z"
   },
   {
    "duration": 54,
    "start_time": "2023-09-29T07:29:35.431Z"
   },
   {
    "duration": 26,
    "start_time": "2023-09-29T07:29:35.487Z"
   },
   {
    "duration": 155,
    "start_time": "2023-09-29T07:29:35.515Z"
   },
   {
    "duration": 8,
    "start_time": "2023-09-29T07:29:35.672Z"
   },
   {
    "duration": 244,
    "start_time": "2023-09-29T07:29:35.681Z"
   },
   {
    "duration": 44,
    "start_time": "2023-09-29T07:29:35.926Z"
   },
   {
    "duration": 19,
    "start_time": "2023-09-29T07:29:35.972Z"
   },
   {
    "duration": 17,
    "start_time": "2023-09-29T07:29:35.992Z"
   },
   {
    "duration": 149,
    "start_time": "2023-09-29T07:29:36.010Z"
   },
   {
    "duration": 6,
    "start_time": "2023-09-29T07:29:36.160Z"
   },
   {
    "duration": 130,
    "start_time": "2023-09-29T07:29:36.168Z"
   },
   {
    "duration": 145,
    "start_time": "2023-09-29T07:29:36.299Z"
   },
   {
    "duration": 128,
    "start_time": "2023-09-29T07:29:36.446Z"
   },
   {
    "duration": 9,
    "start_time": "2023-09-29T07:29:36.576Z"
   },
   {
    "duration": 9,
    "start_time": "2023-09-29T07:29:36.586Z"
   },
   {
    "duration": 12,
    "start_time": "2023-09-29T07:31:13.321Z"
   },
   {
    "duration": 108,
    "start_time": "2023-09-29T07:32:19.945Z"
   },
   {
    "duration": 1153,
    "start_time": "2023-09-29T07:32:31.487Z"
   },
   {
    "duration": 5,
    "start_time": "2023-09-29T07:32:32.641Z"
   },
   {
    "duration": 55,
    "start_time": "2023-09-29T07:32:32.647Z"
   },
   {
    "duration": 19,
    "start_time": "2023-09-29T07:32:32.704Z"
   },
   {
    "duration": 1809,
    "start_time": "2023-09-29T07:32:32.725Z"
   },
   {
    "duration": 10,
    "start_time": "2023-09-29T07:32:34.536Z"
   },
   {
    "duration": 45,
    "start_time": "2023-09-29T07:32:34.547Z"
   },
   {
    "duration": 9,
    "start_time": "2023-09-29T07:32:34.594Z"
   },
   {
    "duration": 11,
    "start_time": "2023-09-29T07:32:34.605Z"
   },
   {
    "duration": 14,
    "start_time": "2023-09-29T07:32:34.617Z"
   },
   {
    "duration": 29,
    "start_time": "2023-09-29T07:32:34.633Z"
   },
   {
    "duration": 5,
    "start_time": "2023-09-29T07:32:34.664Z"
   },
   {
    "duration": 199,
    "start_time": "2023-09-29T07:32:34.671Z"
   },
   {
    "duration": 5,
    "start_time": "2023-09-29T07:32:34.872Z"
   },
   {
    "duration": 9,
    "start_time": "2023-09-29T07:32:34.879Z"
   },
   {
    "duration": 11,
    "start_time": "2023-09-29T07:32:34.889Z"
   },
   {
    "duration": 17,
    "start_time": "2023-09-29T07:32:34.901Z"
   },
   {
    "duration": 17,
    "start_time": "2023-09-29T07:32:34.920Z"
   },
   {
    "duration": 308,
    "start_time": "2023-09-29T07:32:34.938Z"
   },
   {
    "duration": 6,
    "start_time": "2023-09-29T07:32:35.248Z"
   },
   {
    "duration": 131,
    "start_time": "2023-09-29T07:32:35.256Z"
   },
   {
    "duration": 8,
    "start_time": "2023-09-29T07:32:35.388Z"
   },
   {
    "duration": 158,
    "start_time": "2023-09-29T07:32:35.398Z"
   },
   {
    "duration": 9,
    "start_time": "2023-09-29T07:32:35.557Z"
   },
   {
    "duration": 59,
    "start_time": "2023-09-29T07:32:35.567Z"
   },
   {
    "duration": 140,
    "start_time": "2023-09-29T07:32:35.628Z"
   },
   {
    "duration": 5,
    "start_time": "2023-09-29T07:32:35.769Z"
   },
   {
    "duration": 32,
    "start_time": "2023-09-29T07:32:35.775Z"
   },
   {
    "duration": 142,
    "start_time": "2023-09-29T07:32:35.808Z"
   },
   {
    "duration": 10,
    "start_time": "2023-09-29T07:32:35.952Z"
   },
   {
    "duration": 21,
    "start_time": "2023-09-29T07:32:35.963Z"
   },
   {
    "duration": 13,
    "start_time": "2023-09-29T07:32:35.986Z"
   },
   {
    "duration": 123,
    "start_time": "2023-09-29T07:32:36.000Z"
   },
   {
    "duration": 7,
    "start_time": "2023-09-29T07:32:36.124Z"
   },
   {
    "duration": 220,
    "start_time": "2023-09-29T07:32:36.132Z"
   },
   {
    "duration": 8,
    "start_time": "2023-09-29T07:32:36.354Z"
   },
   {
    "duration": 7,
    "start_time": "2023-09-29T07:32:36.364Z"
   },
   {
    "duration": 6,
    "start_time": "2023-09-29T07:32:36.372Z"
   },
   {
    "duration": 176,
    "start_time": "2023-09-29T07:32:36.380Z"
   },
   {
    "duration": 5,
    "start_time": "2023-09-29T07:32:36.558Z"
   },
   {
    "duration": 184,
    "start_time": "2023-09-29T07:32:36.566Z"
   },
   {
    "duration": 202,
    "start_time": "2023-09-29T07:32:36.752Z"
   },
   {
    "duration": 133,
    "start_time": "2023-09-29T07:32:36.956Z"
   },
   {
    "duration": 10,
    "start_time": "2023-09-29T07:32:37.091Z"
   },
   {
    "duration": 119,
    "start_time": "2023-09-29T07:32:37.102Z"
   },
   {
    "duration": 117,
    "start_time": "2023-09-29T07:35:47.828Z"
   },
   {
    "duration": 155,
    "start_time": "2023-09-29T07:36:14.815Z"
   },
   {
    "duration": 113,
    "start_time": "2023-09-29T07:37:31.874Z"
   },
   {
    "duration": 124,
    "start_time": "2023-09-29T07:37:50.090Z"
   },
   {
    "duration": 111,
    "start_time": "2023-09-29T07:37:57.019Z"
   },
   {
    "duration": 119,
    "start_time": "2023-09-29T07:38:10.982Z"
   },
   {
    "duration": 123,
    "start_time": "2023-09-29T07:38:29.843Z"
   },
   {
    "duration": 108,
    "start_time": "2023-09-29T07:38:34.998Z"
   },
   {
    "duration": 12,
    "start_time": "2023-09-29T07:39:06.657Z"
   },
   {
    "duration": 10,
    "start_time": "2023-09-29T07:39:11.751Z"
   },
   {
    "duration": 11,
    "start_time": "2023-09-29T07:39:20.385Z"
   },
   {
    "duration": 25,
    "start_time": "2023-09-29T07:39:43.765Z"
   },
   {
    "duration": 33,
    "start_time": "2023-09-29T07:41:14.101Z"
   },
   {
    "duration": 8,
    "start_time": "2023-09-29T07:41:18.199Z"
   },
   {
    "duration": 19,
    "start_time": "2023-09-29T07:42:40.038Z"
   },
   {
    "duration": 26,
    "start_time": "2023-09-29T07:42:53.075Z"
   },
   {
    "duration": 22,
    "start_time": "2023-09-29T07:43:46.294Z"
   },
   {
    "duration": 19,
    "start_time": "2023-09-29T07:46:42.912Z"
   },
   {
    "duration": 19,
    "start_time": "2023-09-29T07:46:49.588Z"
   },
   {
    "duration": 1313,
    "start_time": "2023-09-29T07:48:49.319Z"
   },
   {
    "duration": 5,
    "start_time": "2023-09-29T07:48:50.634Z"
   },
   {
    "duration": 31,
    "start_time": "2023-09-29T07:48:50.641Z"
   },
   {
    "duration": 12,
    "start_time": "2023-09-29T07:48:50.674Z"
   },
   {
    "duration": 1896,
    "start_time": "2023-09-29T07:48:50.688Z"
   },
   {
    "duration": 9,
    "start_time": "2023-09-29T07:48:52.586Z"
   },
   {
    "duration": 13,
    "start_time": "2023-09-29T07:48:52.596Z"
   },
   {
    "duration": 5,
    "start_time": "2023-09-29T07:48:52.611Z"
   },
   {
    "duration": 14,
    "start_time": "2023-09-29T07:48:52.618Z"
   },
   {
    "duration": 22,
    "start_time": "2023-09-29T07:48:52.634Z"
   },
   {
    "duration": 30,
    "start_time": "2023-09-29T07:48:52.658Z"
   },
   {
    "duration": 7,
    "start_time": "2023-09-29T07:48:52.690Z"
   },
   {
    "duration": 242,
    "start_time": "2023-09-29T07:48:52.698Z"
   },
   {
    "duration": 5,
    "start_time": "2023-09-29T07:48:52.945Z"
   },
   {
    "duration": 12,
    "start_time": "2023-09-29T07:48:52.951Z"
   },
   {
    "duration": 37,
    "start_time": "2023-09-29T07:48:52.965Z"
   },
   {
    "duration": 32,
    "start_time": "2023-09-29T07:48:53.003Z"
   },
   {
    "duration": 23,
    "start_time": "2023-09-29T07:48:53.037Z"
   },
   {
    "duration": 325,
    "start_time": "2023-09-29T07:48:53.061Z"
   },
   {
    "duration": 6,
    "start_time": "2023-09-29T07:48:53.388Z"
   },
   {
    "duration": 178,
    "start_time": "2023-09-29T07:48:53.396Z"
   },
   {
    "duration": 9,
    "start_time": "2023-09-29T07:48:53.575Z"
   },
   {
    "duration": 160,
    "start_time": "2023-09-29T07:48:53.586Z"
   },
   {
    "duration": 9,
    "start_time": "2023-09-29T07:48:53.747Z"
   },
   {
    "duration": 50,
    "start_time": "2023-09-29T07:48:53.757Z"
   },
   {
    "duration": 156,
    "start_time": "2023-09-29T07:48:53.809Z"
   },
   {
    "duration": 5,
    "start_time": "2023-09-29T07:48:53.967Z"
   },
   {
    "duration": 32,
    "start_time": "2023-09-29T07:48:53.973Z"
   },
   {
    "duration": 193,
    "start_time": "2023-09-29T07:48:54.007Z"
   },
   {
    "duration": 14,
    "start_time": "2023-09-29T07:48:54.202Z"
   },
   {
    "duration": 20,
    "start_time": "2023-09-29T07:48:54.218Z"
   },
   {
    "duration": 24,
    "start_time": "2023-09-29T07:48:54.244Z"
   },
   {
    "duration": 146,
    "start_time": "2023-09-29T07:48:54.270Z"
   },
   {
    "duration": 8,
    "start_time": "2023-09-29T07:48:54.418Z"
   },
   {
    "duration": 217,
    "start_time": "2023-09-29T07:48:54.427Z"
   },
   {
    "duration": 9,
    "start_time": "2023-09-29T07:48:54.645Z"
   },
   {
    "duration": 18,
    "start_time": "2023-09-29T07:48:54.656Z"
   },
   {
    "duration": 12,
    "start_time": "2023-09-29T07:48:54.676Z"
   },
   {
    "duration": 136,
    "start_time": "2023-09-29T07:48:54.690Z"
   },
   {
    "duration": 17,
    "start_time": "2023-09-29T07:48:54.828Z"
   },
   {
    "duration": 120,
    "start_time": "2023-09-29T07:48:54.849Z"
   },
   {
    "duration": 153,
    "start_time": "2023-09-29T07:48:54.971Z"
   },
   {
    "duration": 146,
    "start_time": "2023-09-29T07:48:55.126Z"
   },
   {
    "duration": 10,
    "start_time": "2023-09-29T07:48:55.274Z"
   },
   {
    "duration": 120,
    "start_time": "2023-09-29T07:48:55.286Z"
   },
   {
    "duration": 7,
    "start_time": "2023-09-29T07:50:55.644Z"
   },
   {
    "duration": 27,
    "start_time": "2023-09-29T08:07:58.283Z"
   },
   {
    "duration": 1381,
    "start_time": "2023-09-29T08:08:41.911Z"
   },
   {
    "duration": 6,
    "start_time": "2023-09-29T08:08:43.293Z"
   },
   {
    "duration": 23,
    "start_time": "2023-09-29T08:08:43.300Z"
   },
   {
    "duration": 26,
    "start_time": "2023-09-29T08:08:43.325Z"
   },
   {
    "duration": 2006,
    "start_time": "2023-09-29T08:08:43.353Z"
   },
   {
    "duration": 11,
    "start_time": "2023-09-29T08:08:45.361Z"
   },
   {
    "duration": 14,
    "start_time": "2023-09-29T08:08:45.374Z"
   },
   {
    "duration": 5,
    "start_time": "2023-09-29T08:08:45.389Z"
   },
   {
    "duration": 12,
    "start_time": "2023-09-29T08:08:45.395Z"
   },
   {
    "duration": 40,
    "start_time": "2023-09-29T08:08:45.410Z"
   },
   {
    "duration": 32,
    "start_time": "2023-09-29T08:08:45.454Z"
   },
   {
    "duration": 6,
    "start_time": "2023-09-29T08:08:45.487Z"
   },
   {
    "duration": 242,
    "start_time": "2023-09-29T08:08:45.495Z"
   },
   {
    "duration": 19,
    "start_time": "2023-09-29T08:08:45.739Z"
   },
   {
    "duration": 8,
    "start_time": "2023-09-29T08:08:45.760Z"
   },
   {
    "duration": 7,
    "start_time": "2023-09-29T08:08:45.770Z"
   },
   {
    "duration": 19,
    "start_time": "2023-09-29T08:08:45.778Z"
   },
   {
    "duration": 14,
    "start_time": "2023-09-29T08:08:45.799Z"
   },
   {
    "duration": 341,
    "start_time": "2023-09-29T08:08:45.814Z"
   },
   {
    "duration": 7,
    "start_time": "2023-09-29T08:08:46.157Z"
   },
   {
    "duration": 234,
    "start_time": "2023-09-29T08:08:46.165Z"
   },
   {
    "duration": 8,
    "start_time": "2023-09-29T08:08:46.400Z"
   },
   {
    "duration": 164,
    "start_time": "2023-09-29T08:08:46.409Z"
   },
   {
    "duration": 9,
    "start_time": "2023-09-29T08:08:46.575Z"
   },
   {
    "duration": 37,
    "start_time": "2023-09-29T08:08:46.586Z"
   },
   {
    "duration": 172,
    "start_time": "2023-09-29T08:08:46.624Z"
   },
   {
    "duration": 5,
    "start_time": "2023-09-29T08:08:46.798Z"
   },
   {
    "duration": 17,
    "start_time": "2023-09-29T08:08:46.806Z"
   },
   {
    "duration": 159,
    "start_time": "2023-09-29T08:08:46.825Z"
   },
   {
    "duration": 9,
    "start_time": "2023-09-29T08:08:46.986Z"
   },
   {
    "duration": 20,
    "start_time": "2023-09-29T08:08:46.997Z"
   },
   {
    "duration": 9,
    "start_time": "2023-09-29T08:08:47.018Z"
   },
   {
    "duration": 149,
    "start_time": "2023-09-29T08:08:47.028Z"
   },
   {
    "duration": 9,
    "start_time": "2023-09-29T08:08:47.178Z"
   },
   {
    "duration": 226,
    "start_time": "2023-09-29T08:08:47.189Z"
   },
   {
    "duration": 9,
    "start_time": "2023-09-29T08:08:47.417Z"
   },
   {
    "duration": 30,
    "start_time": "2023-09-29T08:08:47.428Z"
   },
   {
    "duration": 16,
    "start_time": "2023-09-29T08:08:47.460Z"
   },
   {
    "duration": 136,
    "start_time": "2023-09-29T08:08:47.478Z"
   },
   {
    "duration": 5,
    "start_time": "2023-09-29T08:08:47.616Z"
   },
   {
    "duration": 134,
    "start_time": "2023-09-29T08:08:47.623Z"
   },
   {
    "duration": 130,
    "start_time": "2023-09-29T08:08:47.759Z"
   },
   {
    "duration": 141,
    "start_time": "2023-09-29T08:08:47.890Z"
   },
   {
    "duration": 26,
    "start_time": "2023-09-29T08:08:48.032Z"
   },
   {
    "duration": 127,
    "start_time": "2023-09-29T08:08:48.060Z"
   },
   {
    "duration": 28,
    "start_time": "2023-09-29T08:09:03.304Z"
   },
   {
    "duration": 7,
    "start_time": "2023-09-29T08:14:02.687Z"
   },
   {
    "duration": 27,
    "start_time": "2023-09-29T08:14:08.514Z"
   },
   {
    "duration": 1193,
    "start_time": "2023-09-29T08:14:22.440Z"
   },
   {
    "duration": 5,
    "start_time": "2023-09-29T08:14:23.635Z"
   },
   {
    "duration": 36,
    "start_time": "2023-09-29T08:14:23.641Z"
   },
   {
    "duration": 7,
    "start_time": "2023-09-29T08:14:23.679Z"
   },
   {
    "duration": 1918,
    "start_time": "2023-09-29T08:14:23.688Z"
   },
   {
    "duration": 9,
    "start_time": "2023-09-29T08:14:25.608Z"
   },
   {
    "duration": 48,
    "start_time": "2023-09-29T08:14:25.619Z"
   },
   {
    "duration": 16,
    "start_time": "2023-09-29T08:14:25.669Z"
   },
   {
    "duration": 9,
    "start_time": "2023-09-29T08:14:25.687Z"
   },
   {
    "duration": 9,
    "start_time": "2023-09-29T08:14:25.697Z"
   },
   {
    "duration": 22,
    "start_time": "2023-09-29T08:14:25.707Z"
   },
   {
    "duration": 5,
    "start_time": "2023-09-29T08:14:25.731Z"
   },
   {
    "duration": 218,
    "start_time": "2023-09-29T08:14:25.738Z"
   },
   {
    "duration": 6,
    "start_time": "2023-09-29T08:14:25.959Z"
   },
   {
    "duration": 14,
    "start_time": "2023-09-29T08:14:25.966Z"
   },
   {
    "duration": 8,
    "start_time": "2023-09-29T08:14:25.981Z"
   },
   {
    "duration": 6,
    "start_time": "2023-09-29T08:14:25.990Z"
   },
   {
    "duration": 9,
    "start_time": "2023-09-29T08:14:25.997Z"
   },
   {
    "duration": 370,
    "start_time": "2023-09-29T08:14:26.007Z"
   },
   {
    "duration": 7,
    "start_time": "2023-09-29T08:14:26.378Z"
   },
   {
    "duration": 148,
    "start_time": "2023-09-29T08:14:26.387Z"
   },
   {
    "duration": 22,
    "start_time": "2023-09-29T08:14:26.537Z"
   },
   {
    "duration": 148,
    "start_time": "2023-09-29T08:14:26.561Z"
   },
   {
    "duration": 8,
    "start_time": "2023-09-29T08:14:26.711Z"
   },
   {
    "duration": 56,
    "start_time": "2023-09-29T08:14:26.721Z"
   },
   {
    "duration": 150,
    "start_time": "2023-09-29T08:14:26.779Z"
   },
   {
    "duration": 5,
    "start_time": "2023-09-29T08:14:26.930Z"
   },
   {
    "duration": 29,
    "start_time": "2023-09-29T08:14:26.936Z"
   },
   {
    "duration": 142,
    "start_time": "2023-09-29T08:14:26.967Z"
   },
   {
    "duration": 10,
    "start_time": "2023-09-29T08:14:27.111Z"
   },
   {
    "duration": 9,
    "start_time": "2023-09-29T08:14:27.122Z"
   },
   {
    "duration": 26,
    "start_time": "2023-09-29T08:14:27.132Z"
   },
   {
    "duration": 129,
    "start_time": "2023-09-29T08:14:27.160Z"
   },
   {
    "duration": 8,
    "start_time": "2023-09-29T08:14:27.291Z"
   },
   {
    "duration": 256,
    "start_time": "2023-09-29T08:14:27.301Z"
   },
   {
    "duration": 8,
    "start_time": "2023-09-29T08:14:27.559Z"
   },
   {
    "duration": 7,
    "start_time": "2023-09-29T08:14:27.569Z"
   },
   {
    "duration": 5,
    "start_time": "2023-09-29T08:14:27.577Z"
   },
   {
    "duration": 138,
    "start_time": "2023-09-29T08:14:27.583Z"
   },
   {
    "duration": 6,
    "start_time": "2023-09-29T08:14:27.723Z"
   },
   {
    "duration": 128,
    "start_time": "2023-09-29T08:14:27.732Z"
   },
   {
    "duration": 140,
    "start_time": "2023-09-29T08:14:27.862Z"
   },
   {
    "duration": 124,
    "start_time": "2023-09-29T08:14:28.003Z"
   },
   {
    "duration": 29,
    "start_time": "2023-09-29T08:14:28.129Z"
   },
   {
    "duration": 7,
    "start_time": "2023-09-29T08:14:28.159Z"
   },
   {
    "duration": 122,
    "start_time": "2023-09-29T08:14:28.167Z"
   },
   {
    "duration": 3,
    "start_time": "2023-09-29T08:15:07.139Z"
   },
   {
    "duration": 26,
    "start_time": "2023-09-29T08:15:09.758Z"
   },
   {
    "duration": 31,
    "start_time": "2023-09-29T08:15:20.308Z"
   },
   {
    "duration": 1232,
    "start_time": "2023-09-29T08:15:28.782Z"
   },
   {
    "duration": 5,
    "start_time": "2023-09-29T08:15:30.016Z"
   },
   {
    "duration": 74,
    "start_time": "2023-09-29T08:15:30.023Z"
   },
   {
    "duration": 68,
    "start_time": "2023-09-29T08:15:30.098Z"
   },
   {
    "duration": 1990,
    "start_time": "2023-09-29T08:15:30.168Z"
   },
   {
    "duration": 10,
    "start_time": "2023-09-29T08:15:32.160Z"
   },
   {
    "duration": 17,
    "start_time": "2023-09-29T08:15:32.171Z"
   },
   {
    "duration": 6,
    "start_time": "2023-09-29T08:15:32.190Z"
   },
   {
    "duration": 25,
    "start_time": "2023-09-29T08:15:32.197Z"
   },
   {
    "duration": 16,
    "start_time": "2023-09-29T08:15:32.224Z"
   },
   {
    "duration": 27,
    "start_time": "2023-09-29T08:15:32.242Z"
   },
   {
    "duration": 7,
    "start_time": "2023-09-29T08:15:32.271Z"
   },
   {
    "duration": 256,
    "start_time": "2023-09-29T08:15:32.279Z"
   },
   {
    "duration": 6,
    "start_time": "2023-09-29T08:15:32.544Z"
   },
   {
    "duration": 23,
    "start_time": "2023-09-29T08:15:32.552Z"
   },
   {
    "duration": 23,
    "start_time": "2023-09-29T08:15:32.577Z"
   },
   {
    "duration": 17,
    "start_time": "2023-09-29T08:15:32.602Z"
   },
   {
    "duration": 8,
    "start_time": "2023-09-29T08:15:32.621Z"
   },
   {
    "duration": 334,
    "start_time": "2023-09-29T08:15:32.631Z"
   },
   {
    "duration": 9,
    "start_time": "2023-09-29T08:15:32.966Z"
   },
   {
    "duration": 162,
    "start_time": "2023-09-29T08:15:32.976Z"
   },
   {
    "duration": 22,
    "start_time": "2023-09-29T08:15:33.140Z"
   },
   {
    "duration": 153,
    "start_time": "2023-09-29T08:15:33.163Z"
   },
   {
    "duration": 8,
    "start_time": "2023-09-29T08:15:33.318Z"
   },
   {
    "duration": 50,
    "start_time": "2023-09-29T08:15:33.327Z"
   },
   {
    "duration": 144,
    "start_time": "2023-09-29T08:15:33.379Z"
   },
   {
    "duration": 5,
    "start_time": "2023-09-29T08:15:33.525Z"
   },
   {
    "duration": 34,
    "start_time": "2023-09-29T08:15:33.531Z"
   },
   {
    "duration": 136,
    "start_time": "2023-09-29T08:15:33.567Z"
   },
   {
    "duration": 10,
    "start_time": "2023-09-29T08:15:33.705Z"
   },
   {
    "duration": 16,
    "start_time": "2023-09-29T08:15:33.717Z"
   },
   {
    "duration": 36,
    "start_time": "2023-09-29T08:15:33.735Z"
   },
   {
    "duration": 125,
    "start_time": "2023-09-29T08:15:33.773Z"
   },
   {
    "duration": 8,
    "start_time": "2023-09-29T08:15:33.899Z"
   },
   {
    "duration": 280,
    "start_time": "2023-09-29T08:15:33.908Z"
   },
   {
    "duration": 14,
    "start_time": "2023-09-29T08:15:34.190Z"
   },
   {
    "duration": 11,
    "start_time": "2023-09-29T08:15:34.205Z"
   },
   {
    "duration": 28,
    "start_time": "2023-09-29T08:15:34.219Z"
   },
   {
    "duration": 166,
    "start_time": "2023-09-29T08:15:34.250Z"
   },
   {
    "duration": 6,
    "start_time": "2023-09-29T08:15:34.417Z"
   },
   {
    "duration": 133,
    "start_time": "2023-09-29T08:15:34.427Z"
   },
   {
    "duration": 134,
    "start_time": "2023-09-29T08:15:34.561Z"
   },
   {
    "duration": 134,
    "start_time": "2023-09-29T08:15:34.697Z"
   },
   {
    "duration": 26,
    "start_time": "2023-09-29T08:15:34.832Z"
   },
   {
    "duration": 111,
    "start_time": "2023-09-29T08:15:34.860Z"
   },
   {
    "duration": 3,
    "start_time": "2023-09-29T08:17:22.133Z"
   },
   {
    "duration": 137,
    "start_time": "2023-09-29T08:18:15.923Z"
   },
   {
    "duration": 10,
    "start_time": "2023-09-29T08:18:45.494Z"
   },
   {
    "duration": 167,
    "start_time": "2023-09-29T08:18:58.414Z"
   },
   {
    "duration": 10,
    "start_time": "2023-09-29T08:23:53.575Z"
   },
   {
    "duration": 13,
    "start_time": "2023-09-29T08:24:05.934Z"
   },
   {
    "duration": 112,
    "start_time": "2023-09-29T08:27:02.812Z"
   },
   {
    "duration": 10,
    "start_time": "2023-09-29T08:27:41.799Z"
   },
   {
    "duration": 1233,
    "start_time": "2023-09-29T08:32:56.653Z"
   },
   {
    "duration": 1159,
    "start_time": "2023-09-29T08:33:10.171Z"
   },
   {
    "duration": 4,
    "start_time": "2023-09-29T08:33:11.332Z"
   },
   {
    "duration": 22,
    "start_time": "2023-09-29T08:33:11.338Z"
   },
   {
    "duration": 6,
    "start_time": "2023-09-29T08:33:11.362Z"
   },
   {
    "duration": 1945,
    "start_time": "2023-09-29T08:33:11.369Z"
   },
   {
    "duration": 9,
    "start_time": "2023-09-29T08:33:13.315Z"
   },
   {
    "duration": 11,
    "start_time": "2023-09-29T08:33:13.326Z"
   },
   {
    "duration": 5,
    "start_time": "2023-09-29T08:33:13.338Z"
   },
   {
    "duration": 20,
    "start_time": "2023-09-29T08:33:13.345Z"
   },
   {
    "duration": 13,
    "start_time": "2023-09-29T08:33:13.369Z"
   },
   {
    "duration": 35,
    "start_time": "2023-09-29T08:33:13.383Z"
   },
   {
    "duration": 6,
    "start_time": "2023-09-29T08:33:13.419Z"
   },
   {
    "duration": 200,
    "start_time": "2023-09-29T08:33:13.426Z"
   },
   {
    "duration": 5,
    "start_time": "2023-09-29T08:33:13.627Z"
   },
   {
    "duration": 16,
    "start_time": "2023-09-29T08:33:13.633Z"
   },
   {
    "duration": 21,
    "start_time": "2023-09-29T08:33:13.650Z"
   },
   {
    "duration": 17,
    "start_time": "2023-09-29T08:33:13.673Z"
   },
   {
    "duration": 29,
    "start_time": "2023-09-29T08:33:13.691Z"
   },
   {
    "duration": 324,
    "start_time": "2023-09-29T08:33:13.722Z"
   },
   {
    "duration": 8,
    "start_time": "2023-09-29T08:33:14.049Z"
   },
   {
    "duration": 202,
    "start_time": "2023-09-29T08:33:14.059Z"
   },
   {
    "duration": 13,
    "start_time": "2023-09-29T08:33:14.263Z"
   },
   {
    "duration": 180,
    "start_time": "2023-09-29T08:33:14.278Z"
   },
   {
    "duration": 11,
    "start_time": "2023-09-29T08:33:14.460Z"
   },
   {
    "duration": 59,
    "start_time": "2023-09-29T08:33:14.472Z"
   },
   {
    "duration": 153,
    "start_time": "2023-09-29T08:33:14.532Z"
   },
   {
    "duration": 5,
    "start_time": "2023-09-29T08:33:14.687Z"
   },
   {
    "duration": 23,
    "start_time": "2023-09-29T08:33:14.695Z"
   },
   {
    "duration": 144,
    "start_time": "2023-09-29T08:33:14.719Z"
   },
   {
    "duration": 13,
    "start_time": "2023-09-29T08:33:14.865Z"
   },
   {
    "duration": 10,
    "start_time": "2023-09-29T08:33:14.879Z"
   },
   {
    "duration": 16,
    "start_time": "2023-09-29T08:33:14.890Z"
   },
   {
    "duration": 160,
    "start_time": "2023-09-29T08:33:14.907Z"
   },
   {
    "duration": 9,
    "start_time": "2023-09-29T08:33:15.069Z"
   },
   {
    "duration": 250,
    "start_time": "2023-09-29T08:33:15.080Z"
   },
   {
    "duration": 18,
    "start_time": "2023-09-29T08:33:15.331Z"
   },
   {
    "duration": 6,
    "start_time": "2023-09-29T08:33:15.351Z"
   },
   {
    "duration": 5,
    "start_time": "2023-09-29T08:33:15.359Z"
   },
   {
    "duration": 147,
    "start_time": "2023-09-29T08:33:15.366Z"
   },
   {
    "duration": 6,
    "start_time": "2023-09-29T08:33:15.515Z"
   },
   {
    "duration": 128,
    "start_time": "2023-09-29T08:33:15.523Z"
   },
   {
    "duration": 149,
    "start_time": "2023-09-29T08:33:15.652Z"
   },
   {
    "duration": 132,
    "start_time": "2023-09-29T08:33:15.803Z"
   },
   {
    "duration": 13,
    "start_time": "2023-09-29T08:33:15.943Z"
   },
   {
    "duration": 1400,
    "start_time": "2023-09-29T08:33:15.958Z"
   },
   {
    "duration": 170,
    "start_time": "2023-09-29T08:33:17.360Z"
   },
   {
    "duration": 15,
    "start_time": "2023-09-29T08:33:17.531Z"
   },
   {
    "duration": 13,
    "start_time": "2023-09-29T08:33:17.547Z"
   },
   {
    "duration": 66,
    "start_time": "2023-09-29T08:53:41.235Z"
   },
   {
    "duration": 113,
    "start_time": "2023-09-29T08:56:33.369Z"
   },
   {
    "duration": 5,
    "start_time": "2023-09-29T08:57:54.727Z"
   },
   {
    "duration": 1140,
    "start_time": "2023-09-29T08:58:14.888Z"
   },
   {
    "duration": 5,
    "start_time": "2023-09-29T08:58:16.030Z"
   },
   {
    "duration": 27,
    "start_time": "2023-09-29T08:58:16.036Z"
   },
   {
    "duration": 6,
    "start_time": "2023-09-29T08:58:16.065Z"
   },
   {
    "duration": 1868,
    "start_time": "2023-09-29T08:58:16.074Z"
   },
   {
    "duration": 9,
    "start_time": "2023-09-29T08:58:17.944Z"
   },
   {
    "duration": 45,
    "start_time": "2023-09-29T08:58:17.954Z"
   },
   {
    "duration": 14,
    "start_time": "2023-09-29T08:58:18.001Z"
   },
   {
    "duration": 25,
    "start_time": "2023-09-29T08:58:18.016Z"
   },
   {
    "duration": 21,
    "start_time": "2023-09-29T08:58:18.042Z"
   },
   {
    "duration": 32,
    "start_time": "2023-09-29T08:58:18.064Z"
   },
   {
    "duration": 22,
    "start_time": "2023-09-29T08:58:18.097Z"
   },
   {
    "duration": 207,
    "start_time": "2023-09-29T08:58:18.120Z"
   },
   {
    "duration": 4,
    "start_time": "2023-09-29T08:58:18.331Z"
   },
   {
    "duration": 7,
    "start_time": "2023-09-29T08:58:18.345Z"
   },
   {
    "duration": 6,
    "start_time": "2023-09-29T08:58:18.354Z"
   },
   {
    "duration": 7,
    "start_time": "2023-09-29T08:58:18.361Z"
   },
   {
    "duration": 20,
    "start_time": "2023-09-29T08:58:18.369Z"
   },
   {
    "duration": 324,
    "start_time": "2023-09-29T08:58:18.390Z"
   },
   {
    "duration": 6,
    "start_time": "2023-09-29T08:58:18.716Z"
   },
   {
    "duration": 140,
    "start_time": "2023-09-29T08:58:18.723Z"
   },
   {
    "duration": 10,
    "start_time": "2023-09-29T08:58:18.864Z"
   },
   {
    "duration": 171,
    "start_time": "2023-09-29T08:58:18.875Z"
   },
   {
    "duration": 9,
    "start_time": "2023-09-29T08:58:19.048Z"
   },
   {
    "duration": 55,
    "start_time": "2023-09-29T08:58:19.059Z"
   },
   {
    "duration": 139,
    "start_time": "2023-09-29T08:58:19.115Z"
   },
   {
    "duration": 5,
    "start_time": "2023-09-29T08:58:19.256Z"
   },
   {
    "duration": 30,
    "start_time": "2023-09-29T08:58:19.263Z"
   },
   {
    "duration": 142,
    "start_time": "2023-09-29T08:58:19.295Z"
   },
   {
    "duration": 13,
    "start_time": "2023-09-29T08:58:19.438Z"
   },
   {
    "duration": 6,
    "start_time": "2023-09-29T08:58:19.453Z"
   },
   {
    "duration": 10,
    "start_time": "2023-09-29T08:58:19.460Z"
   },
   {
    "duration": 139,
    "start_time": "2023-09-29T08:58:19.471Z"
   },
   {
    "duration": 9,
    "start_time": "2023-09-29T08:58:19.612Z"
   },
   {
    "duration": 205,
    "start_time": "2023-09-29T08:58:19.623Z"
   },
   {
    "duration": 15,
    "start_time": "2023-09-29T08:58:19.830Z"
   },
   {
    "duration": 7,
    "start_time": "2023-09-29T08:58:19.846Z"
   },
   {
    "duration": 14,
    "start_time": "2023-09-29T08:58:19.854Z"
   },
   {
    "duration": 139,
    "start_time": "2023-09-29T08:58:19.869Z"
   },
   {
    "duration": 7,
    "start_time": "2023-09-29T08:58:20.010Z"
   },
   {
    "duration": 125,
    "start_time": "2023-09-29T08:58:20.021Z"
   },
   {
    "duration": 142,
    "start_time": "2023-09-29T08:58:20.148Z"
   },
   {
    "duration": 137,
    "start_time": "2023-09-29T08:58:20.292Z"
   },
   {
    "duration": 16,
    "start_time": "2023-09-29T08:58:20.431Z"
   },
   {
    "duration": 1316,
    "start_time": "2023-09-29T08:58:20.449Z"
   },
   {
    "duration": 81,
    "start_time": "2023-09-29T08:58:21.767Z"
   },
   {
    "duration": 154,
    "start_time": "2023-09-29T08:58:21.849Z"
   },
   {
    "duration": 10,
    "start_time": "2023-09-29T08:58:22.005Z"
   },
   {
    "duration": 10,
    "start_time": "2023-09-29T08:58:22.017Z"
   },
   {
    "duration": 5,
    "start_time": "2023-09-29T08:58:22.044Z"
   },
   {
    "duration": 6,
    "start_time": "2023-09-29T09:01:13.535Z"
   },
   {
    "duration": 6,
    "start_time": "2023-09-29T09:01:35.590Z"
   },
   {
    "duration": 13,
    "start_time": "2023-09-29T09:09:40.144Z"
   },
   {
    "duration": 142,
    "start_time": "2023-09-29T09:12:48.378Z"
   },
   {
    "duration": 9,
    "start_time": "2023-09-29T09:13:47.069Z"
   },
   {
    "duration": 120,
    "start_time": "2023-09-29T09:16:28.578Z"
   },
   {
    "duration": 4,
    "start_time": "2023-09-29T09:29:39.676Z"
   },
   {
    "duration": 99,
    "start_time": "2023-09-29T09:30:11.296Z"
   },
   {
    "duration": 406,
    "start_time": "2023-09-29T09:30:40.180Z"
   },
   {
    "duration": 49,
    "start_time": "2023-09-29T11:29:45.658Z"
   },
   {
    "duration": 1644,
    "start_time": "2023-09-29T11:29:51.257Z"
   },
   {
    "duration": 5,
    "start_time": "2023-09-29T11:29:52.904Z"
   },
   {
    "duration": 101,
    "start_time": "2023-09-29T11:29:52.911Z"
   },
   {
    "duration": 26,
    "start_time": "2023-09-29T11:29:53.014Z"
   },
   {
    "duration": 2051,
    "start_time": "2023-09-29T11:29:53.042Z"
   },
   {
    "duration": 10,
    "start_time": "2023-09-29T11:29:55.095Z"
   },
   {
    "duration": 56,
    "start_time": "2023-09-29T11:29:55.106Z"
   },
   {
    "duration": 45,
    "start_time": "2023-09-29T11:29:55.164Z"
   },
   {
    "duration": 16,
    "start_time": "2023-09-29T11:29:55.211Z"
   },
   {
    "duration": 56,
    "start_time": "2023-09-29T11:29:55.229Z"
   },
   {
    "duration": 27,
    "start_time": "2023-09-29T11:29:55.286Z"
   },
   {
    "duration": 8,
    "start_time": "2023-09-29T11:29:55.314Z"
   },
   {
    "duration": 265,
    "start_time": "2023-09-29T11:29:55.324Z"
   },
   {
    "duration": 6,
    "start_time": "2023-09-29T11:29:55.592Z"
   },
   {
    "duration": 22,
    "start_time": "2023-09-29T11:29:55.600Z"
   },
   {
    "duration": 21,
    "start_time": "2023-09-29T11:29:55.623Z"
   },
   {
    "duration": 20,
    "start_time": "2023-09-29T11:29:55.646Z"
   },
   {
    "duration": 24,
    "start_time": "2023-09-29T11:29:55.668Z"
   },
   {
    "duration": 335,
    "start_time": "2023-09-29T11:29:55.694Z"
   },
   {
    "duration": 10,
    "start_time": "2023-09-29T11:29:56.032Z"
   },
   {
    "duration": 175,
    "start_time": "2023-09-29T11:29:56.056Z"
   },
   {
    "duration": 9,
    "start_time": "2023-09-29T11:29:56.234Z"
   },
   {
    "duration": 179,
    "start_time": "2023-09-29T11:29:56.244Z"
   },
   {
    "duration": 10,
    "start_time": "2023-09-29T11:29:56.425Z"
   },
   {
    "duration": 56,
    "start_time": "2023-09-29T11:29:56.437Z"
   },
   {
    "duration": 172,
    "start_time": "2023-09-29T11:29:56.495Z"
   },
   {
    "duration": 6,
    "start_time": "2023-09-29T11:29:56.668Z"
   },
   {
    "duration": 25,
    "start_time": "2023-09-29T11:29:56.676Z"
   },
   {
    "duration": 155,
    "start_time": "2023-09-29T11:29:56.702Z"
   },
   {
    "duration": 11,
    "start_time": "2023-09-29T11:29:56.859Z"
   },
   {
    "duration": 7,
    "start_time": "2023-09-29T11:29:56.872Z"
   },
   {
    "duration": 10,
    "start_time": "2023-09-29T11:29:56.881Z"
   },
   {
    "duration": 187,
    "start_time": "2023-09-29T11:29:56.892Z"
   },
   {
    "duration": 9,
    "start_time": "2023-09-29T11:29:57.081Z"
   },
   {
    "duration": 251,
    "start_time": "2023-09-29T11:29:57.092Z"
   },
   {
    "duration": 13,
    "start_time": "2023-09-29T11:29:57.346Z"
   },
   {
    "duration": 8,
    "start_time": "2023-09-29T11:29:57.361Z"
   },
   {
    "duration": 6,
    "start_time": "2023-09-29T11:29:57.371Z"
   },
   {
    "duration": 159,
    "start_time": "2023-09-29T11:29:57.378Z"
   },
   {
    "duration": 21,
    "start_time": "2023-09-29T11:29:57.539Z"
   },
   {
    "duration": 135,
    "start_time": "2023-09-29T11:29:57.564Z"
   },
   {
    "duration": 162,
    "start_time": "2023-09-29T11:29:57.701Z"
   },
   {
    "duration": 183,
    "start_time": "2023-09-29T11:29:57.865Z"
   },
   {
    "duration": 17,
    "start_time": "2023-09-29T11:29:58.051Z"
   },
   {
    "duration": 1547,
    "start_time": "2023-09-29T11:29:58.070Z"
   },
   {
    "duration": 84,
    "start_time": "2023-09-29T11:29:59.619Z"
   },
   {
    "duration": 160,
    "start_time": "2023-09-29T11:29:59.705Z"
   },
   {
    "duration": 12,
    "start_time": "2023-09-29T11:29:59.866Z"
   },
   {
    "duration": 29,
    "start_time": "2023-09-29T11:29:59.879Z"
   },
   {
    "duration": 5,
    "start_time": "2023-09-29T11:29:59.910Z"
   },
   {
    "duration": 19,
    "start_time": "2023-09-29T11:29:59.916Z"
   },
   {
    "duration": 171,
    "start_time": "2023-09-29T11:29:59.936Z"
   },
   {
    "duration": 10,
    "start_time": "2023-09-29T11:30:00.110Z"
   },
   {
    "duration": 536,
    "start_time": "2023-09-29T11:30:00.122Z"
   },
   {
    "duration": 245,
    "start_time": "2023-09-29T11:30:05.522Z"
   },
   {
    "duration": 6,
    "start_time": "2023-09-29T11:34:51.730Z"
   },
   {
    "duration": 152,
    "start_time": "2023-09-29T11:35:17.498Z"
   },
   {
    "duration": 146,
    "start_time": "2023-09-29T11:36:15.884Z"
   },
   {
    "duration": 156,
    "start_time": "2023-09-29T11:36:39.945Z"
   },
   {
    "duration": 184,
    "start_time": "2023-09-29T11:36:48.858Z"
   },
   {
    "duration": 139,
    "start_time": "2023-09-29T11:37:07.384Z"
   },
   {
    "duration": 144,
    "start_time": "2023-09-29T11:37:10.626Z"
   },
   {
    "duration": 18,
    "start_time": "2023-09-29T11:39:46.433Z"
   },
   {
    "duration": 9,
    "start_time": "2023-09-29T11:39:57.229Z"
   },
   {
    "duration": 10,
    "start_time": "2023-09-29T11:40:12.045Z"
   },
   {
    "duration": 45,
    "start_time": "2023-09-29T11:41:23.031Z"
   },
   {
    "duration": 43,
    "start_time": "2023-09-29T11:41:43.281Z"
   },
   {
    "duration": 39,
    "start_time": "2023-09-29T11:42:14.108Z"
   },
   {
    "duration": 38,
    "start_time": "2023-09-29T11:42:55.395Z"
   },
   {
    "duration": 37,
    "start_time": "2023-09-29T11:43:23.531Z"
   },
   {
    "duration": 55,
    "start_time": "2023-09-29T11:43:44.974Z"
   },
   {
    "duration": 88,
    "start_time": "2023-09-29T11:44:02.469Z"
   },
   {
    "duration": 40,
    "start_time": "2023-09-29T11:44:20.033Z"
   },
   {
    "duration": 46,
    "start_time": "2023-09-29T11:44:23.150Z"
   },
   {
    "duration": 45,
    "start_time": "2023-09-29T11:44:27.752Z"
   },
   {
    "duration": 1413,
    "start_time": "2023-09-29T11:44:38.017Z"
   },
   {
    "duration": 5,
    "start_time": "2023-09-29T11:44:39.432Z"
   },
   {
    "duration": 38,
    "start_time": "2023-09-29T11:44:39.439Z"
   },
   {
    "duration": 7,
    "start_time": "2023-09-29T11:44:39.480Z"
   },
   {
    "duration": 2097,
    "start_time": "2023-09-29T11:44:39.488Z"
   },
   {
    "duration": 11,
    "start_time": "2023-09-29T11:44:41.587Z"
   },
   {
    "duration": 21,
    "start_time": "2023-09-29T11:44:41.599Z"
   },
   {
    "duration": 5,
    "start_time": "2023-09-29T11:44:41.621Z"
   },
   {
    "duration": 11,
    "start_time": "2023-09-29T11:44:41.627Z"
   },
   {
    "duration": 24,
    "start_time": "2023-09-29T11:44:41.640Z"
   },
   {
    "duration": 26,
    "start_time": "2023-09-29T11:44:41.665Z"
   },
   {
    "duration": 7,
    "start_time": "2023-09-29T11:44:41.692Z"
   },
   {
    "duration": 237,
    "start_time": "2023-09-29T11:44:41.700Z"
   },
   {
    "duration": 7,
    "start_time": "2023-09-29T11:44:41.939Z"
   },
   {
    "duration": 9,
    "start_time": "2023-09-29T11:44:41.956Z"
   },
   {
    "duration": 8,
    "start_time": "2023-09-29T11:44:41.967Z"
   },
   {
    "duration": 8,
    "start_time": "2023-09-29T11:44:41.977Z"
   },
   {
    "duration": 17,
    "start_time": "2023-09-29T11:44:41.986Z"
   },
   {
    "duration": 378,
    "start_time": "2023-09-29T11:44:42.005Z"
   },
   {
    "duration": 8,
    "start_time": "2023-09-29T11:44:42.385Z"
   },
   {
    "duration": 186,
    "start_time": "2023-09-29T11:44:42.395Z"
   },
   {
    "duration": 11,
    "start_time": "2023-09-29T11:44:42.583Z"
   },
   {
    "duration": 193,
    "start_time": "2023-09-29T11:44:42.596Z"
   },
   {
    "duration": 12,
    "start_time": "2023-09-29T11:44:42.791Z"
   },
   {
    "duration": 85,
    "start_time": "2023-09-29T11:44:42.805Z"
   },
   {
    "duration": 175,
    "start_time": "2023-09-29T11:44:42.891Z"
   },
   {
    "duration": 5,
    "start_time": "2023-09-29T11:44:43.068Z"
   },
   {
    "duration": 20,
    "start_time": "2023-09-29T11:44:43.077Z"
   },
   {
    "duration": 177,
    "start_time": "2023-09-29T11:44:43.099Z"
   },
   {
    "duration": 11,
    "start_time": "2023-09-29T11:44:43.278Z"
   },
   {
    "duration": 9,
    "start_time": "2023-09-29T11:44:43.290Z"
   },
   {
    "duration": 12,
    "start_time": "2023-09-29T11:44:43.301Z"
   },
   {
    "duration": 164,
    "start_time": "2023-09-29T11:44:43.315Z"
   },
   {
    "duration": 9,
    "start_time": "2023-09-29T11:44:43.481Z"
   },
   {
    "duration": 266,
    "start_time": "2023-09-29T11:44:43.492Z"
   },
   {
    "duration": 10,
    "start_time": "2023-09-29T11:44:43.760Z"
   },
   {
    "duration": 9,
    "start_time": "2023-09-29T11:44:43.772Z"
   },
   {
    "duration": 6,
    "start_time": "2023-09-29T11:44:43.782Z"
   },
   {
    "duration": 168,
    "start_time": "2023-09-29T11:44:43.790Z"
   },
   {
    "duration": 7,
    "start_time": "2023-09-29T11:44:43.960Z"
   },
   {
    "duration": 142,
    "start_time": "2023-09-29T11:44:43.969Z"
   },
   {
    "duration": 169,
    "start_time": "2023-09-29T11:44:44.113Z"
   },
   {
    "duration": 150,
    "start_time": "2023-09-29T11:44:44.284Z"
   },
   {
    "duration": 25,
    "start_time": "2023-09-29T11:44:44.435Z"
   },
   {
    "duration": 1444,
    "start_time": "2023-09-29T11:44:44.461Z"
   },
   {
    "duration": 81,
    "start_time": "2023-09-29T11:44:45.907Z"
   },
   {
    "duration": 176,
    "start_time": "2023-09-29T11:44:45.989Z"
   },
   {
    "duration": 11,
    "start_time": "2023-09-29T11:44:46.167Z"
   },
   {
    "duration": 14,
    "start_time": "2023-09-29T11:44:46.180Z"
   },
   {
    "duration": 6,
    "start_time": "2023-09-29T11:44:46.195Z"
   },
   {
    "duration": 21,
    "start_time": "2023-09-29T11:44:46.202Z"
   },
   {
    "duration": 185,
    "start_time": "2023-09-29T11:44:46.225Z"
   },
   {
    "duration": 10,
    "start_time": "2023-09-29T11:44:46.412Z"
   },
   {
    "duration": 71,
    "start_time": "2023-09-29T11:44:46.424Z"
   },
   {
    "duration": 483,
    "start_time": "2023-09-29T11:44:46.497Z"
   },
   {
    "duration": 6,
    "start_time": "2023-09-29T11:44:46.982Z"
   },
   {
    "duration": 179,
    "start_time": "2023-09-29T11:44:46.990Z"
   },
   {
    "duration": 126,
    "start_time": "2023-09-29T11:44:47.171Z"
   },
   {
    "duration": 46,
    "start_time": "2023-09-29T11:44:56.701Z"
   },
   {
    "duration": 40,
    "start_time": "2023-09-29T11:45:07.075Z"
   },
   {
    "duration": 49,
    "start_time": "2023-09-29T11:45:27.976Z"
   },
   {
    "duration": 48,
    "start_time": "2023-09-29T11:45:37.466Z"
   },
   {
    "duration": 48,
    "start_time": "2023-09-29T11:45:45.243Z"
   },
   {
    "duration": 50,
    "start_time": "2023-09-29T11:47:14.865Z"
   },
   {
    "duration": 54,
    "start_time": "2023-09-29T11:51:17.457Z"
   },
   {
    "duration": 78,
    "start_time": "2023-09-29T11:51:51.587Z"
   },
   {
    "duration": 1412,
    "start_time": "2023-09-29T11:52:32.805Z"
   },
   {
    "duration": 6,
    "start_time": "2023-09-29T11:52:34.219Z"
   },
   {
    "duration": 35,
    "start_time": "2023-09-29T11:52:34.227Z"
   },
   {
    "duration": 8,
    "start_time": "2023-09-29T11:52:34.264Z"
   },
   {
    "duration": 2040,
    "start_time": "2023-09-29T11:52:34.273Z"
   },
   {
    "duration": 11,
    "start_time": "2023-09-29T11:52:36.315Z"
   },
   {
    "duration": 14,
    "start_time": "2023-09-29T11:52:36.327Z"
   },
   {
    "duration": 5,
    "start_time": "2023-09-29T11:52:36.343Z"
   },
   {
    "duration": 15,
    "start_time": "2023-09-29T11:52:36.350Z"
   },
   {
    "duration": 11,
    "start_time": "2023-09-29T11:52:36.368Z"
   },
   {
    "duration": 25,
    "start_time": "2023-09-29T11:52:36.381Z"
   },
   {
    "duration": 6,
    "start_time": "2023-09-29T11:52:36.409Z"
   },
   {
    "duration": 253,
    "start_time": "2023-09-29T11:52:36.417Z"
   },
   {
    "duration": 5,
    "start_time": "2023-09-29T11:52:36.672Z"
   },
   {
    "duration": 20,
    "start_time": "2023-09-29T11:52:36.679Z"
   },
   {
    "duration": 8,
    "start_time": "2023-09-29T11:52:36.701Z"
   },
   {
    "duration": 8,
    "start_time": "2023-09-29T11:52:36.710Z"
   },
   {
    "duration": 7,
    "start_time": "2023-09-29T11:52:36.720Z"
   },
   {
    "duration": 388,
    "start_time": "2023-09-29T11:52:36.728Z"
   },
   {
    "duration": 7,
    "start_time": "2023-09-29T11:52:37.117Z"
   },
   {
    "duration": 166,
    "start_time": "2023-09-29T11:52:37.126Z"
   },
   {
    "duration": 9,
    "start_time": "2023-09-29T11:52:37.294Z"
   },
   {
    "duration": 182,
    "start_time": "2023-09-29T11:52:37.305Z"
   },
   {
    "duration": 10,
    "start_time": "2023-09-29T11:52:37.490Z"
   },
   {
    "duration": 65,
    "start_time": "2023-09-29T11:52:37.502Z"
   },
   {
    "duration": 176,
    "start_time": "2023-09-29T11:52:37.569Z"
   },
   {
    "duration": 12,
    "start_time": "2023-09-29T11:52:37.747Z"
   },
   {
    "duration": 15,
    "start_time": "2023-09-29T11:52:37.764Z"
   },
   {
    "duration": 169,
    "start_time": "2023-09-29T11:52:37.780Z"
   },
   {
    "duration": 14,
    "start_time": "2023-09-29T11:52:37.952Z"
   },
   {
    "duration": 21,
    "start_time": "2023-09-29T11:52:37.968Z"
   },
   {
    "duration": 22,
    "start_time": "2023-09-29T11:52:37.991Z"
   },
   {
    "duration": 158,
    "start_time": "2023-09-29T11:52:38.014Z"
   },
   {
    "duration": 10,
    "start_time": "2023-09-29T11:52:38.174Z"
   },
   {
    "duration": 278,
    "start_time": "2023-09-29T11:52:38.185Z"
   },
   {
    "duration": 10,
    "start_time": "2023-09-29T11:52:38.465Z"
   },
   {
    "duration": 12,
    "start_time": "2023-09-29T11:52:38.477Z"
   },
   {
    "duration": 18,
    "start_time": "2023-09-29T11:52:38.491Z"
   },
   {
    "duration": 153,
    "start_time": "2023-09-29T11:52:38.511Z"
   },
   {
    "duration": 8,
    "start_time": "2023-09-29T11:52:38.666Z"
   },
   {
    "duration": 153,
    "start_time": "2023-09-29T11:52:38.676Z"
   },
   {
    "duration": 205,
    "start_time": "2023-09-29T11:52:38.832Z"
   },
   {
    "duration": 157,
    "start_time": "2023-09-29T11:52:39.039Z"
   },
   {
    "duration": 11,
    "start_time": "2023-09-29T11:52:39.198Z"
   },
   {
    "duration": 1436,
    "start_time": "2023-09-29T11:52:39.211Z"
   },
   {
    "duration": 76,
    "start_time": "2023-09-29T11:52:40.657Z"
   },
   {
    "duration": 180,
    "start_time": "2023-09-29T11:52:40.735Z"
   },
   {
    "duration": 12,
    "start_time": "2023-09-29T11:52:40.918Z"
   },
   {
    "duration": 31,
    "start_time": "2023-09-29T11:52:40.931Z"
   },
   {
    "duration": 5,
    "start_time": "2023-09-29T11:52:40.964Z"
   },
   {
    "duration": 21,
    "start_time": "2023-09-29T11:52:40.971Z"
   },
   {
    "duration": 176,
    "start_time": "2023-09-29T11:52:40.994Z"
   },
   {
    "duration": 10,
    "start_time": "2023-09-29T11:52:41.172Z"
   },
   {
    "duration": 74,
    "start_time": "2023-09-29T11:52:41.184Z"
   },
   {
    "duration": 80,
    "start_time": "2023-09-29T11:52:41.260Z"
   },
   {
    "duration": 202,
    "start_time": "2023-09-29T11:52:41.342Z"
   },
   {
    "duration": 19,
    "start_time": "2023-09-29T11:52:41.546Z"
   },
   {
    "duration": 284,
    "start_time": "2023-09-29T11:52:41.566Z"
   },
   {
    "duration": 119,
    "start_time": "2023-09-29T11:52:41.856Z"
   },
   {
    "duration": 83,
    "start_time": "2023-09-29T11:54:14.415Z"
   },
   {
    "duration": 15,
    "start_time": "2023-09-29T11:57:01.206Z"
   },
   {
    "duration": 1414,
    "start_time": "2023-09-29T11:57:23.015Z"
   },
   {
    "duration": 6,
    "start_time": "2023-09-29T11:57:24.431Z"
   },
   {
    "duration": 43,
    "start_time": "2023-09-29T11:57:24.439Z"
   },
   {
    "duration": 10,
    "start_time": "2023-09-29T11:57:24.485Z"
   },
   {
    "duration": 2097,
    "start_time": "2023-09-29T11:57:24.496Z"
   },
   {
    "duration": 12,
    "start_time": "2023-09-29T11:57:26.595Z"
   },
   {
    "duration": 19,
    "start_time": "2023-09-29T11:57:26.609Z"
   },
   {
    "duration": 5,
    "start_time": "2023-09-29T11:57:26.629Z"
   },
   {
    "duration": 30,
    "start_time": "2023-09-29T11:57:26.636Z"
   },
   {
    "duration": 12,
    "start_time": "2023-09-29T11:57:26.669Z"
   },
   {
    "duration": 25,
    "start_time": "2023-09-29T11:57:26.683Z"
   },
   {
    "duration": 7,
    "start_time": "2023-09-29T11:57:26.709Z"
   },
   {
    "duration": 264,
    "start_time": "2023-09-29T11:57:26.718Z"
   },
   {
    "duration": 7,
    "start_time": "2023-09-29T11:57:26.984Z"
   },
   {
    "duration": 27,
    "start_time": "2023-09-29T11:57:26.993Z"
   },
   {
    "duration": 23,
    "start_time": "2023-09-29T11:57:27.022Z"
   },
   {
    "duration": 15,
    "start_time": "2023-09-29T11:57:27.047Z"
   },
   {
    "duration": 9,
    "start_time": "2023-09-29T11:57:27.064Z"
   },
   {
    "duration": 361,
    "start_time": "2023-09-29T11:57:27.074Z"
   },
   {
    "duration": 7,
    "start_time": "2023-09-29T11:57:27.437Z"
   },
   {
    "duration": 178,
    "start_time": "2023-09-29T11:57:27.446Z"
   },
   {
    "duration": 10,
    "start_time": "2023-09-29T11:57:27.626Z"
   },
   {
    "duration": 187,
    "start_time": "2023-09-29T11:57:27.637Z"
   },
   {
    "duration": 9,
    "start_time": "2023-09-29T11:57:27.826Z"
   },
   {
    "duration": 62,
    "start_time": "2023-09-29T11:57:27.837Z"
   },
   {
    "duration": 194,
    "start_time": "2023-09-29T11:57:27.901Z"
   },
   {
    "duration": 6,
    "start_time": "2023-09-29T11:57:28.097Z"
   },
   {
    "duration": 16,
    "start_time": "2023-09-29T11:57:28.107Z"
   },
   {
    "duration": 178,
    "start_time": "2023-09-29T11:57:28.125Z"
   },
   {
    "duration": 14,
    "start_time": "2023-09-29T11:57:28.305Z"
   },
   {
    "duration": 14,
    "start_time": "2023-09-29T11:57:28.321Z"
   },
   {
    "duration": 28,
    "start_time": "2023-09-29T11:57:28.337Z"
   },
   {
    "duration": 158,
    "start_time": "2023-09-29T11:57:28.366Z"
   },
   {
    "duration": 10,
    "start_time": "2023-09-29T11:57:28.526Z"
   },
   {
    "duration": 282,
    "start_time": "2023-09-29T11:57:28.537Z"
   },
   {
    "duration": 13,
    "start_time": "2023-09-29T11:57:28.822Z"
   },
   {
    "duration": 27,
    "start_time": "2023-09-29T11:57:28.837Z"
   },
   {
    "duration": 7,
    "start_time": "2023-09-29T11:57:28.867Z"
   },
   {
    "duration": 184,
    "start_time": "2023-09-29T11:57:28.877Z"
   },
   {
    "duration": 8,
    "start_time": "2023-09-29T11:57:29.063Z"
   },
   {
    "duration": 157,
    "start_time": "2023-09-29T11:57:29.072Z"
   },
   {
    "duration": 156,
    "start_time": "2023-09-29T11:57:29.231Z"
   },
   {
    "duration": 145,
    "start_time": "2023-09-29T11:57:29.389Z"
   },
   {
    "duration": 24,
    "start_time": "2023-09-29T11:57:29.536Z"
   },
   {
    "duration": 1511,
    "start_time": "2023-09-29T11:57:29.562Z"
   },
   {
    "duration": 89,
    "start_time": "2023-09-29T11:57:31.075Z"
   },
   {
    "duration": 165,
    "start_time": "2023-09-29T11:57:31.166Z"
   },
   {
    "duration": 11,
    "start_time": "2023-09-29T11:57:31.333Z"
   },
   {
    "duration": 102,
    "start_time": "2023-09-29T11:57:31.346Z"
   },
   {
    "duration": 53,
    "start_time": "2023-09-29T11:57:31.450Z"
   },
   {
    "duration": 58,
    "start_time": "2023-09-29T11:57:31.505Z"
   },
   {
    "duration": 219,
    "start_time": "2023-09-29T11:57:31.565Z"
   },
   {
    "duration": 11,
    "start_time": "2023-09-29T11:57:31.785Z"
   },
   {
    "duration": 52,
    "start_time": "2023-09-29T11:57:31.797Z"
   },
   {
    "duration": 33,
    "start_time": "2023-09-29T11:57:31.850Z"
   },
   {
    "duration": 511,
    "start_time": "2023-09-29T11:57:31.885Z"
   },
   {
    "duration": 7,
    "start_time": "2023-09-29T11:57:32.398Z"
   },
   {
    "duration": 163,
    "start_time": "2023-09-29T11:57:32.406Z"
   },
   {
    "duration": 111,
    "start_time": "2023-09-29T11:57:32.572Z"
   },
   {
    "duration": 45,
    "start_time": "2023-09-29T11:57:43.332Z"
   },
   {
    "duration": 1425,
    "start_time": "2023-09-29T12:01:48.959Z"
   },
   {
    "duration": 6,
    "start_time": "2023-09-29T12:01:50.386Z"
   },
   {
    "duration": 78,
    "start_time": "2023-09-29T12:01:50.393Z"
   },
   {
    "duration": 62,
    "start_time": "2023-09-29T12:01:50.474Z"
   },
   {
    "duration": 45,
    "start_time": "2023-09-29T12:01:50.538Z"
   },
   {
    "duration": 2236,
    "start_time": "2023-09-29T12:01:50.585Z"
   },
   {
    "duration": 13,
    "start_time": "2023-09-29T12:01:52.824Z"
   },
   {
    "duration": 29,
    "start_time": "2023-09-29T12:01:52.839Z"
   },
   {
    "duration": 7,
    "start_time": "2023-09-29T12:01:52.872Z"
   },
   {
    "duration": 24,
    "start_time": "2023-09-29T12:01:52.880Z"
   },
   {
    "duration": 29,
    "start_time": "2023-09-29T12:01:52.905Z"
   },
   {
    "duration": 43,
    "start_time": "2023-09-29T12:01:52.937Z"
   },
   {
    "duration": 7,
    "start_time": "2023-09-29T12:01:52.982Z"
   },
   {
    "duration": 282,
    "start_time": "2023-09-29T12:01:52.991Z"
   },
   {
    "duration": 6,
    "start_time": "2023-09-29T12:01:53.276Z"
   },
   {
    "duration": 11,
    "start_time": "2023-09-29T12:01:53.284Z"
   },
   {
    "duration": 11,
    "start_time": "2023-09-29T12:01:53.296Z"
   },
   {
    "duration": 23,
    "start_time": "2023-09-29T12:01:53.309Z"
   },
   {
    "duration": 28,
    "start_time": "2023-09-29T12:01:53.334Z"
   },
   {
    "duration": 360,
    "start_time": "2023-09-29T12:01:53.369Z"
   },
   {
    "duration": 7,
    "start_time": "2023-09-29T12:01:53.731Z"
   },
   {
    "duration": 185,
    "start_time": "2023-09-29T12:01:53.740Z"
   },
   {
    "duration": 10,
    "start_time": "2023-09-29T12:01:53.927Z"
   },
   {
    "duration": 193,
    "start_time": "2023-09-29T12:01:53.939Z"
   },
   {
    "duration": 10,
    "start_time": "2023-09-29T12:01:54.134Z"
   },
   {
    "duration": 62,
    "start_time": "2023-09-29T12:01:54.155Z"
   },
   {
    "duration": 182,
    "start_time": "2023-09-29T12:01:54.219Z"
   },
   {
    "duration": 5,
    "start_time": "2023-09-29T12:01:54.403Z"
   },
   {
    "duration": 40,
    "start_time": "2023-09-29T12:01:54.410Z"
   },
   {
    "duration": 152,
    "start_time": "2023-09-29T12:01:54.452Z"
   },
   {
    "duration": 12,
    "start_time": "2023-09-29T12:01:54.605Z"
   },
   {
    "duration": 17,
    "start_time": "2023-09-29T12:01:54.618Z"
   },
   {
    "duration": 30,
    "start_time": "2023-09-29T12:01:54.637Z"
   },
   {
    "duration": 164,
    "start_time": "2023-09-29T12:01:54.669Z"
   },
   {
    "duration": 8,
    "start_time": "2023-09-29T12:01:54.835Z"
   },
   {
    "duration": 259,
    "start_time": "2023-09-29T12:01:54.857Z"
   },
   {
    "duration": 12,
    "start_time": "2023-09-29T12:01:55.118Z"
   },
   {
    "duration": 40,
    "start_time": "2023-09-29T12:01:55.131Z"
   },
   {
    "duration": 5,
    "start_time": "2023-09-29T12:01:55.173Z"
   },
   {
    "duration": 151,
    "start_time": "2023-09-29T12:01:55.179Z"
   },
   {
    "duration": 8,
    "start_time": "2023-09-29T12:01:55.331Z"
   },
   {
    "duration": 147,
    "start_time": "2023-09-29T12:01:55.340Z"
   },
   {
    "duration": 164,
    "start_time": "2023-09-29T12:01:55.489Z"
   },
   {
    "duration": 169,
    "start_time": "2023-09-29T12:01:55.656Z"
   },
   {
    "duration": 11,
    "start_time": "2023-09-29T12:01:55.827Z"
   },
   {
    "duration": 1543,
    "start_time": "2023-09-29T12:01:55.840Z"
   },
   {
    "duration": 85,
    "start_time": "2023-09-29T12:01:57.385Z"
   },
   {
    "duration": 168,
    "start_time": "2023-09-29T12:01:57.472Z"
   },
   {
    "duration": 29,
    "start_time": "2023-09-29T12:01:57.642Z"
   },
   {
    "duration": 12,
    "start_time": "2023-09-29T12:01:57.673Z"
   },
   {
    "duration": 16,
    "start_time": "2023-09-29T12:01:57.686Z"
   },
   {
    "duration": 21,
    "start_time": "2023-09-29T12:01:57.704Z"
   },
   {
    "duration": 170,
    "start_time": "2023-09-29T12:01:57.727Z"
   },
   {
    "duration": 11,
    "start_time": "2023-09-29T12:01:57.898Z"
   },
   {
    "duration": 79,
    "start_time": "2023-09-29T12:01:57.911Z"
   },
   {
    "duration": 3,
    "start_time": "2023-09-29T12:01:57.992Z"
   },
   {
    "duration": 503,
    "start_time": "2023-09-29T12:01:57.997Z"
   },
   {
    "duration": 7,
    "start_time": "2023-09-29T12:01:58.502Z"
   },
   {
    "duration": 187,
    "start_time": "2023-09-29T12:01:58.510Z"
   },
   {
    "duration": 136,
    "start_time": "2023-09-29T12:01:58.698Z"
   },
   {
    "duration": 52,
    "start_time": "2023-09-29T12:05:00.145Z"
   },
   {
    "duration": 1354,
    "start_time": "2023-09-29T12:05:13.807Z"
   },
   {
    "duration": 6,
    "start_time": "2023-09-29T12:05:15.163Z"
   },
   {
    "duration": 99,
    "start_time": "2023-09-29T12:05:15.171Z"
   },
   {
    "duration": 50,
    "start_time": "2023-09-29T12:05:15.272Z"
   },
   {
    "duration": 2237,
    "start_time": "2023-09-29T12:05:15.324Z"
   },
   {
    "duration": 11,
    "start_time": "2023-09-29T12:05:17.563Z"
   },
   {
    "duration": 15,
    "start_time": "2023-09-29T12:05:17.576Z"
   },
   {
    "duration": 5,
    "start_time": "2023-09-29T12:05:17.592Z"
   },
   {
    "duration": 21,
    "start_time": "2023-09-29T12:05:17.599Z"
   },
   {
    "duration": 11,
    "start_time": "2023-09-29T12:05:17.622Z"
   },
   {
    "duration": 28,
    "start_time": "2023-09-29T12:05:17.655Z"
   },
   {
    "duration": 8,
    "start_time": "2023-09-29T12:05:17.684Z"
   },
   {
    "duration": 238,
    "start_time": "2023-09-29T12:05:17.693Z"
   },
   {
    "duration": 6,
    "start_time": "2023-09-29T12:05:17.933Z"
   },
   {
    "duration": 23,
    "start_time": "2023-09-29T12:05:17.940Z"
   },
   {
    "duration": 16,
    "start_time": "2023-09-29T12:05:17.965Z"
   },
   {
    "duration": 10,
    "start_time": "2023-09-29T12:05:17.984Z"
   },
   {
    "duration": 10,
    "start_time": "2023-09-29T12:05:17.996Z"
   },
   {
    "duration": 366,
    "start_time": "2023-09-29T12:05:18.008Z"
   },
   {
    "duration": 8,
    "start_time": "2023-09-29T12:05:18.375Z"
   },
   {
    "duration": 175,
    "start_time": "2023-09-29T12:05:18.385Z"
   },
   {
    "duration": 8,
    "start_time": "2023-09-29T12:05:18.562Z"
   },
   {
    "duration": 187,
    "start_time": "2023-09-29T12:05:18.572Z"
   },
   {
    "duration": 9,
    "start_time": "2023-09-29T12:05:18.761Z"
   },
   {
    "duration": 52,
    "start_time": "2023-09-29T12:05:18.772Z"
   },
   {
    "duration": 237,
    "start_time": "2023-09-29T12:05:18.827Z"
   },
   {
    "duration": 6,
    "start_time": "2023-09-29T12:05:19.066Z"
   },
   {
    "duration": 13,
    "start_time": "2023-09-29T12:05:19.076Z"
   },
   {
    "duration": 175,
    "start_time": "2023-09-29T12:05:19.090Z"
   },
   {
    "duration": 12,
    "start_time": "2023-09-29T12:05:19.267Z"
   },
   {
    "duration": 7,
    "start_time": "2023-09-29T12:05:19.281Z"
   },
   {
    "duration": 11,
    "start_time": "2023-09-29T12:05:19.290Z"
   },
   {
    "duration": 178,
    "start_time": "2023-09-29T12:05:19.303Z"
   },
   {
    "duration": 13,
    "start_time": "2023-09-29T12:05:19.483Z"
   },
   {
    "duration": 13,
    "start_time": "2023-09-29T12:05:19.498Z"
   },
   {
    "duration": 11,
    "start_time": "2023-09-29T12:05:19.513Z"
   },
   {
    "duration": 267,
    "start_time": "2023-09-29T12:05:19.525Z"
   },
   {
    "duration": 10,
    "start_time": "2023-09-29T12:05:19.794Z"
   },
   {
    "duration": 8,
    "start_time": "2023-09-29T12:05:19.806Z"
   },
   {
    "duration": 6,
    "start_time": "2023-09-29T12:05:19.816Z"
   },
   {
    "duration": 186,
    "start_time": "2023-09-29T12:05:19.823Z"
   },
   {
    "duration": 8,
    "start_time": "2023-09-29T12:05:20.012Z"
   },
   {
    "duration": 154,
    "start_time": "2023-09-29T12:05:20.022Z"
   },
   {
    "duration": 163,
    "start_time": "2023-09-29T12:05:20.178Z"
   },
   {
    "duration": 157,
    "start_time": "2023-09-29T12:05:20.343Z"
   },
   {
    "duration": 12,
    "start_time": "2023-09-29T12:05:20.502Z"
   },
   {
    "duration": 1414,
    "start_time": "2023-09-29T12:05:20.516Z"
   },
   {
    "duration": 94,
    "start_time": "2023-09-29T12:05:21.932Z"
   },
   {
    "duration": 166,
    "start_time": "2023-09-29T12:05:22.028Z"
   },
   {
    "duration": 12,
    "start_time": "2023-09-29T12:05:22.196Z"
   },
   {
    "duration": 11,
    "start_time": "2023-09-29T12:05:22.210Z"
   },
   {
    "duration": 5,
    "start_time": "2023-09-29T12:05:22.223Z"
   },
   {
    "duration": 42,
    "start_time": "2023-09-29T12:05:22.230Z"
   },
   {
    "duration": 163,
    "start_time": "2023-09-29T12:05:22.274Z"
   },
   {
    "duration": 18,
    "start_time": "2023-09-29T12:05:22.439Z"
   },
   {
    "duration": 52,
    "start_time": "2023-09-29T12:05:22.459Z"
   },
   {
    "duration": 2,
    "start_time": "2023-09-29T12:05:22.512Z"
   },
   {
    "duration": 473,
    "start_time": "2023-09-29T12:05:22.516Z"
   },
   {
    "duration": 6,
    "start_time": "2023-09-29T12:05:22.991Z"
   },
   {
    "duration": 166,
    "start_time": "2023-09-29T12:05:22.999Z"
   },
   {
    "duration": 1345,
    "start_time": "2023-09-29T12:05:57.188Z"
   },
   {
    "duration": 6,
    "start_time": "2023-09-29T12:05:58.535Z"
   },
   {
    "duration": 34,
    "start_time": "2023-09-29T12:05:58.542Z"
   },
   {
    "duration": 7,
    "start_time": "2023-09-29T12:05:58.579Z"
   },
   {
    "duration": 2188,
    "start_time": "2023-09-29T12:05:58.589Z"
   },
   {
    "duration": 10,
    "start_time": "2023-09-29T12:06:00.780Z"
   },
   {
    "duration": 57,
    "start_time": "2023-09-29T12:06:00.791Z"
   },
   {
    "duration": 45,
    "start_time": "2023-09-29T12:06:00.850Z"
   },
   {
    "duration": 78,
    "start_time": "2023-09-29T12:06:00.897Z"
   },
   {
    "duration": 85,
    "start_time": "2023-09-29T12:06:00.977Z"
   },
   {
    "duration": 93,
    "start_time": "2023-09-29T12:06:01.064Z"
   },
   {
    "duration": 55,
    "start_time": "2023-09-29T12:06:01.158Z"
   },
   {
    "duration": 274,
    "start_time": "2023-09-29T12:06:01.215Z"
   },
   {
    "duration": 6,
    "start_time": "2023-09-29T12:06:01.492Z"
   },
   {
    "duration": 446,
    "start_time": "2023-09-29T12:06:01.500Z"
   },
   {
    "duration": 126,
    "start_time": "2023-09-29T12:06:01.948Z"
   },
   {
    "duration": 134,
    "start_time": "2023-09-29T12:06:02.076Z"
   },
   {
    "duration": 82,
    "start_time": "2023-09-29T12:06:02.211Z"
   },
   {
    "duration": 378,
    "start_time": "2023-09-29T12:06:02.295Z"
   },
   {
    "duration": 7,
    "start_time": "2023-09-29T12:06:02.675Z"
   },
   {
    "duration": 245,
    "start_time": "2023-09-29T12:06:02.684Z"
   },
   {
    "duration": 9,
    "start_time": "2023-09-29T12:06:02.931Z"
   },
   {
    "duration": 216,
    "start_time": "2023-09-29T12:06:02.942Z"
   },
   {
    "duration": 10,
    "start_time": "2023-09-29T12:06:03.160Z"
   },
   {
    "duration": 76,
    "start_time": "2023-09-29T12:06:03.172Z"
   },
   {
    "duration": 169,
    "start_time": "2023-09-29T12:06:03.250Z"
   },
   {
    "duration": 6,
    "start_time": "2023-09-29T12:06:03.421Z"
   },
   {
    "duration": 45,
    "start_time": "2023-09-29T12:06:03.428Z"
   },
   {
    "duration": 151,
    "start_time": "2023-09-29T12:06:03.474Z"
   },
   {
    "duration": 13,
    "start_time": "2023-09-29T12:06:03.627Z"
   },
   {
    "duration": 21,
    "start_time": "2023-09-29T12:06:03.642Z"
   },
   {
    "duration": 16,
    "start_time": "2023-09-29T12:06:03.665Z"
   },
   {
    "duration": 162,
    "start_time": "2023-09-29T12:06:03.683Z"
   },
   {
    "duration": 16,
    "start_time": "2023-09-29T12:06:03.846Z"
   },
   {
    "duration": 268,
    "start_time": "2023-09-29T12:06:03.864Z"
   },
   {
    "duration": 24,
    "start_time": "2023-09-29T12:06:04.134Z"
   },
   {
    "duration": 11,
    "start_time": "2023-09-29T12:06:04.159Z"
   },
   {
    "duration": 7,
    "start_time": "2023-09-29T12:06:04.171Z"
   },
   {
    "duration": 176,
    "start_time": "2023-09-29T12:06:04.180Z"
   },
   {
    "duration": 7,
    "start_time": "2023-09-29T12:06:04.358Z"
   },
   {
    "duration": 135,
    "start_time": "2023-09-29T12:06:04.369Z"
   },
   {
    "duration": 159,
    "start_time": "2023-09-29T12:06:04.505Z"
   },
   {
    "duration": 158,
    "start_time": "2023-09-29T12:06:04.666Z"
   },
   {
    "duration": 13,
    "start_time": "2023-09-29T12:06:04.826Z"
   },
   {
    "duration": 1445,
    "start_time": "2023-09-29T12:06:04.841Z"
   },
   {
    "duration": 12,
    "start_time": "2023-09-29T12:06:06.288Z"
   },
   {
    "duration": 90,
    "start_time": "2023-09-29T12:06:06.301Z"
   },
   {
    "duration": 173,
    "start_time": "2023-09-29T12:06:06.393Z"
   },
   {
    "duration": 11,
    "start_time": "2023-09-29T12:06:06.568Z"
   },
   {
    "duration": 22,
    "start_time": "2023-09-29T12:06:06.580Z"
   },
   {
    "duration": 18,
    "start_time": "2023-09-29T12:06:06.604Z"
   },
   {
    "duration": 60,
    "start_time": "2023-09-29T12:06:06.623Z"
   },
   {
    "duration": 166,
    "start_time": "2023-09-29T12:06:06.684Z"
   },
   {
    "duration": 10,
    "start_time": "2023-09-29T12:06:06.856Z"
   },
   {
    "duration": 53,
    "start_time": "2023-09-29T12:06:06.868Z"
   },
   {
    "duration": 3,
    "start_time": "2023-09-29T12:06:06.923Z"
   },
   {
    "duration": 502,
    "start_time": "2023-09-29T12:06:06.928Z"
   },
   {
    "duration": 6,
    "start_time": "2023-09-29T12:06:07.432Z"
   },
   {
    "duration": 163,
    "start_time": "2023-09-29T12:06:07.440Z"
   },
   {
    "duration": 45,
    "start_time": "2023-09-29T12:06:24.813Z"
   },
   {
    "duration": 10,
    "start_time": "2023-09-29T12:08:10.211Z"
   },
   {
    "duration": 9,
    "start_time": "2023-09-29T12:08:39.369Z"
   },
   {
    "duration": 1419,
    "start_time": "2023-09-29T12:08:49.708Z"
   },
   {
    "duration": 6,
    "start_time": "2023-09-29T12:08:51.129Z"
   },
   {
    "duration": 39,
    "start_time": "2023-09-29T12:08:51.139Z"
   },
   {
    "duration": 6,
    "start_time": "2023-09-29T12:08:51.181Z"
   },
   {
    "duration": 2208,
    "start_time": "2023-09-29T12:08:51.189Z"
   },
   {
    "duration": 12,
    "start_time": "2023-09-29T12:08:53.399Z"
   },
   {
    "duration": 16,
    "start_time": "2023-09-29T12:08:53.413Z"
   },
   {
    "duration": 24,
    "start_time": "2023-09-29T12:08:53.431Z"
   },
   {
    "duration": 23,
    "start_time": "2023-09-29T12:08:53.457Z"
   },
   {
    "duration": 22,
    "start_time": "2023-09-29T12:08:53.482Z"
   },
   {
    "duration": 47,
    "start_time": "2023-09-29T12:08:53.506Z"
   },
   {
    "duration": 7,
    "start_time": "2023-09-29T12:08:53.555Z"
   },
   {
    "duration": 245,
    "start_time": "2023-09-29T12:08:53.566Z"
   },
   {
    "duration": 6,
    "start_time": "2023-09-29T12:08:53.813Z"
   },
   {
    "duration": 27,
    "start_time": "2023-09-29T12:08:53.821Z"
   },
   {
    "duration": 27,
    "start_time": "2023-09-29T12:08:53.850Z"
   },
   {
    "duration": 50,
    "start_time": "2023-09-29T12:08:53.879Z"
   },
   {
    "duration": 42,
    "start_time": "2023-09-29T12:08:53.931Z"
   },
   {
    "duration": 360,
    "start_time": "2023-09-29T12:08:53.975Z"
   },
   {
    "duration": 19,
    "start_time": "2023-09-29T12:08:54.337Z"
   },
   {
    "duration": 165,
    "start_time": "2023-09-29T12:08:54.358Z"
   },
   {
    "duration": 10,
    "start_time": "2023-09-29T12:08:54.525Z"
   },
   {
    "duration": 202,
    "start_time": "2023-09-29T12:08:54.536Z"
   },
   {
    "duration": 17,
    "start_time": "2023-09-29T12:08:54.740Z"
   },
   {
    "duration": 47,
    "start_time": "2023-09-29T12:08:54.759Z"
   },
   {
    "duration": 191,
    "start_time": "2023-09-29T12:08:54.808Z"
   },
   {
    "duration": 6,
    "start_time": "2023-09-29T12:08:55.001Z"
   },
   {
    "duration": 33,
    "start_time": "2023-09-29T12:08:55.009Z"
   },
   {
    "duration": 182,
    "start_time": "2023-09-29T12:08:55.044Z"
   },
   {
    "duration": 28,
    "start_time": "2023-09-29T12:08:55.228Z"
   },
   {
    "duration": 8,
    "start_time": "2023-09-29T12:08:55.259Z"
   },
   {
    "duration": 16,
    "start_time": "2023-09-29T12:08:55.269Z"
   },
   {
    "duration": 183,
    "start_time": "2023-09-29T12:08:55.287Z"
   },
   {
    "duration": 10,
    "start_time": "2023-09-29T12:08:55.472Z"
   },
   {
    "duration": 275,
    "start_time": "2023-09-29T12:08:55.484Z"
   },
   {
    "duration": 12,
    "start_time": "2023-09-29T12:08:55.761Z"
   },
   {
    "duration": 16,
    "start_time": "2023-09-29T12:08:55.775Z"
   },
   {
    "duration": 10,
    "start_time": "2023-09-29T12:08:55.794Z"
   },
   {
    "duration": 181,
    "start_time": "2023-09-29T12:08:55.806Z"
   },
   {
    "duration": 7,
    "start_time": "2023-09-29T12:08:55.993Z"
   },
   {
    "duration": 169,
    "start_time": "2023-09-29T12:08:56.002Z"
   },
   {
    "duration": 168,
    "start_time": "2023-09-29T12:08:56.173Z"
   },
   {
    "duration": 162,
    "start_time": "2023-09-29T12:08:56.343Z"
   },
   {
    "duration": 12,
    "start_time": "2023-09-29T12:08:56.507Z"
   },
   {
    "duration": 1566,
    "start_time": "2023-09-29T12:08:56.521Z"
   },
   {
    "duration": 6,
    "start_time": "2023-09-29T12:08:58.089Z"
   },
   {
    "duration": 175,
    "start_time": "2023-09-29T12:08:58.097Z"
   },
   {
    "duration": 12,
    "start_time": "2023-09-29T12:08:58.273Z"
   },
   {
    "duration": 20,
    "start_time": "2023-09-29T12:08:58.286Z"
   },
   {
    "duration": 6,
    "start_time": "2023-09-29T12:08:58.307Z"
   },
   {
    "duration": 24,
    "start_time": "2023-09-29T12:08:58.315Z"
   },
   {
    "duration": 162,
    "start_time": "2023-09-29T12:08:58.355Z"
   },
   {
    "duration": 10,
    "start_time": "2023-09-29T12:08:58.519Z"
   },
   {
    "duration": 28,
    "start_time": "2023-09-29T12:08:58.530Z"
   },
   {
    "duration": 62,
    "start_time": "2023-09-29T12:08:58.560Z"
   },
   {
    "duration": 499,
    "start_time": "2023-09-29T12:08:58.624Z"
   },
   {
    "duration": 7,
    "start_time": "2023-09-29T12:08:59.125Z"
   },
   {
    "duration": 185,
    "start_time": "2023-09-29T12:08:59.133Z"
   },
   {
    "duration": 6,
    "start_time": "2023-09-29T12:09:25.343Z"
   },
   {
    "duration": 1428,
    "start_time": "2023-09-29T12:09:36.596Z"
   },
   {
    "duration": 7,
    "start_time": "2023-09-29T12:09:38.026Z"
   },
   {
    "duration": 61,
    "start_time": "2023-09-29T12:09:38.036Z"
   },
   {
    "duration": 28,
    "start_time": "2023-09-29T12:09:38.099Z"
   },
   {
    "duration": 2228,
    "start_time": "2023-09-29T12:09:38.129Z"
   },
   {
    "duration": 12,
    "start_time": "2023-09-29T12:09:40.359Z"
   },
   {
    "duration": 19,
    "start_time": "2023-09-29T12:09:40.373Z"
   },
   {
    "duration": 7,
    "start_time": "2023-09-29T12:09:40.394Z"
   },
   {
    "duration": 25,
    "start_time": "2023-09-29T12:09:40.403Z"
   },
   {
    "duration": 33,
    "start_time": "2023-09-29T12:09:40.432Z"
   },
   {
    "duration": 52,
    "start_time": "2023-09-29T12:09:40.467Z"
   },
   {
    "duration": 6,
    "start_time": "2023-09-29T12:09:40.521Z"
   },
   {
    "duration": 221,
    "start_time": "2023-09-29T12:09:40.529Z"
   },
   {
    "duration": 6,
    "start_time": "2023-09-29T12:09:40.752Z"
   },
   {
    "duration": 39,
    "start_time": "2023-09-29T12:09:40.760Z"
   },
   {
    "duration": 14,
    "start_time": "2023-09-29T12:09:40.801Z"
   },
   {
    "duration": 28,
    "start_time": "2023-09-29T12:09:40.817Z"
   },
   {
    "duration": 12,
    "start_time": "2023-09-29T12:09:40.847Z"
   },
   {
    "duration": 357,
    "start_time": "2023-09-29T12:09:40.861Z"
   },
   {
    "duration": 8,
    "start_time": "2023-09-29T12:09:41.221Z"
   },
   {
    "duration": 172,
    "start_time": "2023-09-29T12:09:41.231Z"
   },
   {
    "duration": 10,
    "start_time": "2023-09-29T12:09:41.405Z"
   },
   {
    "duration": 191,
    "start_time": "2023-09-29T12:09:41.417Z"
   },
   {
    "duration": 11,
    "start_time": "2023-09-29T12:09:41.610Z"
   },
   {
    "duration": 62,
    "start_time": "2023-09-29T12:09:41.623Z"
   },
   {
    "duration": 170,
    "start_time": "2023-09-29T12:09:41.687Z"
   },
   {
    "duration": 6,
    "start_time": "2023-09-29T12:09:41.859Z"
   },
   {
    "duration": 19,
    "start_time": "2023-09-29T12:09:41.869Z"
   },
   {
    "duration": 166,
    "start_time": "2023-09-29T12:09:41.890Z"
   },
   {
    "duration": 12,
    "start_time": "2023-09-29T12:09:42.058Z"
   },
   {
    "duration": 11,
    "start_time": "2023-09-29T12:09:42.072Z"
   },
   {
    "duration": 15,
    "start_time": "2023-09-29T12:09:42.085Z"
   },
   {
    "duration": 170,
    "start_time": "2023-09-29T12:09:42.102Z"
   },
   {
    "duration": 11,
    "start_time": "2023-09-29T12:09:42.274Z"
   },
   {
    "duration": 271,
    "start_time": "2023-09-29T12:09:42.287Z"
   },
   {
    "duration": 10,
    "start_time": "2023-09-29T12:09:42.560Z"
   },
   {
    "duration": 24,
    "start_time": "2023-09-29T12:09:42.571Z"
   },
   {
    "duration": 18,
    "start_time": "2023-09-29T12:09:42.597Z"
   },
   {
    "duration": 172,
    "start_time": "2023-09-29T12:09:42.617Z"
   },
   {
    "duration": 8,
    "start_time": "2023-09-29T12:09:42.791Z"
   },
   {
    "duration": 143,
    "start_time": "2023-09-29T12:09:42.801Z"
   },
   {
    "duration": 162,
    "start_time": "2023-09-29T12:09:42.946Z"
   },
   {
    "duration": 161,
    "start_time": "2023-09-29T12:09:43.110Z"
   },
   {
    "duration": 11,
    "start_time": "2023-09-29T12:09:43.273Z"
   },
   {
    "duration": 1478,
    "start_time": "2023-09-29T12:09:43.286Z"
   },
   {
    "duration": 5,
    "start_time": "2023-09-29T12:09:44.766Z"
   },
   {
    "duration": 177,
    "start_time": "2023-09-29T12:09:44.773Z"
   },
   {
    "duration": 14,
    "start_time": "2023-09-29T12:09:44.951Z"
   },
   {
    "duration": 322,
    "start_time": "2023-09-29T12:09:44.967Z"
   },
   {
    "duration": 202,
    "start_time": "2023-09-29T12:09:45.291Z"
   },
   {
    "duration": 17,
    "start_time": "2023-09-29T12:09:45.495Z"
   },
   {
    "duration": 155,
    "start_time": "2023-09-29T12:09:45.514Z"
   },
   {
    "duration": 83,
    "start_time": "2023-09-29T12:09:45.671Z"
   },
   {
    "duration": 45,
    "start_time": "2023-09-29T12:09:45.756Z"
   },
   {
    "duration": 15,
    "start_time": "2023-09-29T12:09:45.803Z"
   },
   {
    "duration": 367,
    "start_time": "2023-09-29T12:09:45.819Z"
   },
   {
    "duration": 6,
    "start_time": "2023-09-29T12:09:46.188Z"
   },
   {
    "duration": 171,
    "start_time": "2023-09-29T12:09:46.196Z"
   },
   {
    "duration": 22,
    "start_time": "2023-09-29T12:11:02.027Z"
   },
   {
    "duration": 38,
    "start_time": "2023-09-29T12:11:28.520Z"
   },
   {
    "duration": 115,
    "start_time": "2023-09-29T12:11:55.957Z"
   },
   {
    "duration": 46,
    "start_time": "2023-09-29T12:12:02.956Z"
   },
   {
    "duration": 43,
    "start_time": "2023-09-29T12:12:17.059Z"
   },
   {
    "duration": 62,
    "start_time": "2023-09-29T12:12:28.241Z"
   },
   {
    "duration": 161,
    "start_time": "2023-09-29T12:13:17.809Z"
   },
   {
    "duration": 7,
    "start_time": "2023-09-29T12:15:06.143Z"
   },
   {
    "duration": 5,
    "start_time": "2023-09-29T12:15:16.087Z"
   },
   {
    "duration": 6,
    "start_time": "2023-09-29T12:15:32.128Z"
   },
   {
    "duration": 7,
    "start_time": "2023-09-29T12:16:09.420Z"
   },
   {
    "duration": 1396,
    "start_time": "2023-09-29T12:16:14.740Z"
   },
   {
    "duration": 5,
    "start_time": "2023-09-29T12:16:16.138Z"
   },
   {
    "duration": 40,
    "start_time": "2023-09-29T12:16:16.157Z"
   },
   {
    "duration": 47,
    "start_time": "2023-09-29T12:16:16.199Z"
   },
   {
    "duration": 2145,
    "start_time": "2023-09-29T12:16:16.248Z"
   },
   {
    "duration": 12,
    "start_time": "2023-09-29T12:16:18.395Z"
   },
   {
    "duration": 15,
    "start_time": "2023-09-29T12:16:18.408Z"
   },
   {
    "duration": 6,
    "start_time": "2023-09-29T12:16:18.425Z"
   },
   {
    "duration": 30,
    "start_time": "2023-09-29T12:16:18.434Z"
   },
   {
    "duration": 19,
    "start_time": "2023-09-29T12:16:18.466Z"
   },
   {
    "duration": 25,
    "start_time": "2023-09-29T12:16:18.486Z"
   },
   {
    "duration": 7,
    "start_time": "2023-09-29T12:16:18.512Z"
   },
   {
    "duration": 264,
    "start_time": "2023-09-29T12:16:18.520Z"
   },
   {
    "duration": 5,
    "start_time": "2023-09-29T12:16:18.787Z"
   },
   {
    "duration": 18,
    "start_time": "2023-09-29T12:16:18.793Z"
   },
   {
    "duration": 20,
    "start_time": "2023-09-29T12:16:18.813Z"
   },
   {
    "duration": 22,
    "start_time": "2023-09-29T12:16:18.835Z"
   },
   {
    "duration": 10,
    "start_time": "2023-09-29T12:16:18.860Z"
   },
   {
    "duration": 374,
    "start_time": "2023-09-29T12:16:18.873Z"
   },
   {
    "duration": 13,
    "start_time": "2023-09-29T12:16:19.249Z"
   },
   {
    "duration": 176,
    "start_time": "2023-09-29T12:16:19.264Z"
   },
   {
    "duration": 20,
    "start_time": "2023-09-29T12:16:19.442Z"
   },
   {
    "duration": 183,
    "start_time": "2023-09-29T12:16:19.464Z"
   },
   {
    "duration": 11,
    "start_time": "2023-09-29T12:16:19.656Z"
   },
   {
    "duration": 53,
    "start_time": "2023-09-29T12:16:19.669Z"
   },
   {
    "duration": 182,
    "start_time": "2023-09-29T12:16:19.725Z"
   },
   {
    "duration": 6,
    "start_time": "2023-09-29T12:16:19.909Z"
   },
   {
    "duration": 15,
    "start_time": "2023-09-29T12:16:19.917Z"
   },
   {
    "duration": 184,
    "start_time": "2023-09-29T12:16:19.934Z"
   },
   {
    "duration": 12,
    "start_time": "2023-09-29T12:16:20.120Z"
   },
   {
    "duration": 23,
    "start_time": "2023-09-29T12:16:20.134Z"
   },
   {
    "duration": 11,
    "start_time": "2023-09-29T12:16:20.159Z"
   },
   {
    "duration": 164,
    "start_time": "2023-09-29T12:16:20.172Z"
   },
   {
    "duration": 20,
    "start_time": "2023-09-29T12:16:20.337Z"
   },
   {
    "duration": 264,
    "start_time": "2023-09-29T12:16:20.359Z"
   },
   {
    "duration": 10,
    "start_time": "2023-09-29T12:16:20.624Z"
   },
   {
    "duration": 25,
    "start_time": "2023-09-29T12:16:20.635Z"
   },
   {
    "duration": 5,
    "start_time": "2023-09-29T12:16:20.662Z"
   },
   {
    "duration": 154,
    "start_time": "2023-09-29T12:16:20.669Z"
   },
   {
    "duration": 7,
    "start_time": "2023-09-29T12:16:20.825Z"
   },
   {
    "duration": 150,
    "start_time": "2023-09-29T12:16:20.836Z"
   },
   {
    "duration": 156,
    "start_time": "2023-09-29T12:16:20.988Z"
   },
   {
    "duration": 155,
    "start_time": "2023-09-29T12:16:21.146Z"
   },
   {
    "duration": 12,
    "start_time": "2023-09-29T12:16:21.303Z"
   },
   {
    "duration": 1428,
    "start_time": "2023-09-29T12:16:21.316Z"
   },
   {
    "duration": 7,
    "start_time": "2023-09-29T12:16:22.756Z"
   },
   {
    "duration": 180,
    "start_time": "2023-09-29T12:16:22.765Z"
   },
   {
    "duration": 18,
    "start_time": "2023-09-29T12:16:22.947Z"
   },
   {
    "duration": 34,
    "start_time": "2023-09-29T12:16:22.967Z"
   },
   {
    "duration": 17,
    "start_time": "2023-09-29T12:16:23.002Z"
   },
   {
    "duration": 27,
    "start_time": "2023-09-29T12:16:23.021Z"
   },
   {
    "duration": 175,
    "start_time": "2023-09-29T12:16:23.050Z"
   },
   {
    "duration": 10,
    "start_time": "2023-09-29T12:16:23.227Z"
   },
   {
    "duration": 352,
    "start_time": "2023-09-29T12:16:23.239Z"
   },
   {
    "duration": 6,
    "start_time": "2023-09-29T12:16:23.594Z"
   },
   {
    "duration": 194,
    "start_time": "2023-09-29T12:16:23.602Z"
   },
   {
    "duration": 155,
    "start_time": "2023-09-29T12:21:03.816Z"
   },
   {
    "duration": 27,
    "start_time": "2023-09-29T12:25:37.040Z"
   },
   {
    "duration": 132,
    "start_time": "2023-09-29T12:32:31.615Z"
   },
   {
    "duration": 1409,
    "start_time": "2023-09-29T12:32:53.555Z"
   },
   {
    "duration": 5,
    "start_time": "2023-09-29T12:32:54.966Z"
   },
   {
    "duration": 47,
    "start_time": "2023-09-29T12:32:54.973Z"
   },
   {
    "duration": 9,
    "start_time": "2023-09-29T12:32:55.022Z"
   },
   {
    "duration": 2132,
    "start_time": "2023-09-29T12:32:55.033Z"
   },
   {
    "duration": 12,
    "start_time": "2023-09-29T12:32:57.168Z"
   },
   {
    "duration": 15,
    "start_time": "2023-09-29T12:32:57.182Z"
   },
   {
    "duration": 7,
    "start_time": "2023-09-29T12:32:57.199Z"
   },
   {
    "duration": 14,
    "start_time": "2023-09-29T12:32:57.208Z"
   },
   {
    "duration": 43,
    "start_time": "2023-09-29T12:32:57.223Z"
   },
   {
    "duration": 36,
    "start_time": "2023-09-29T12:32:57.268Z"
   },
   {
    "duration": 246,
    "start_time": "2023-09-29T12:32:57.306Z"
   },
   {
    "duration": 253,
    "start_time": "2023-09-29T12:32:57.555Z"
   },
   {
    "duration": 6,
    "start_time": "2023-09-29T12:32:57.813Z"
   },
   {
    "duration": 218,
    "start_time": "2023-09-29T12:32:57.821Z"
   },
   {
    "duration": 25,
    "start_time": "2023-09-29T12:32:58.041Z"
   },
   {
    "duration": 17,
    "start_time": "2023-09-29T12:32:58.069Z"
   },
   {
    "duration": 21,
    "start_time": "2023-09-29T12:32:58.087Z"
   },
   {
    "duration": 352,
    "start_time": "2023-09-29T12:32:58.111Z"
   },
   {
    "duration": 7,
    "start_time": "2023-09-29T12:32:58.465Z"
   },
   {
    "duration": 166,
    "start_time": "2023-09-29T12:32:58.473Z"
   },
   {
    "duration": 19,
    "start_time": "2023-09-29T12:32:58.640Z"
   },
   {
    "duration": 187,
    "start_time": "2023-09-29T12:32:58.660Z"
   },
   {
    "duration": 13,
    "start_time": "2023-09-29T12:32:58.857Z"
   },
   {
    "duration": 63,
    "start_time": "2023-09-29T12:32:58.873Z"
   },
   {
    "duration": 188,
    "start_time": "2023-09-29T12:32:58.938Z"
   },
   {
    "duration": 5,
    "start_time": "2023-09-29T12:32:59.128Z"
   },
   {
    "duration": 29,
    "start_time": "2023-09-29T12:32:59.135Z"
   },
   {
    "duration": 183,
    "start_time": "2023-09-29T12:32:59.165Z"
   },
   {
    "duration": 16,
    "start_time": "2023-09-29T12:32:59.350Z"
   },
   {
    "duration": 22,
    "start_time": "2023-09-29T12:32:59.368Z"
   },
   {
    "duration": 23,
    "start_time": "2023-09-29T12:32:59.392Z"
   },
   {
    "duration": 184,
    "start_time": "2023-09-29T12:32:59.416Z"
   },
   {
    "duration": 10,
    "start_time": "2023-09-29T12:32:59.602Z"
   },
   {
    "duration": 280,
    "start_time": "2023-09-29T12:32:59.614Z"
   },
   {
    "duration": 10,
    "start_time": "2023-09-29T12:32:59.896Z"
   },
   {
    "duration": 30,
    "start_time": "2023-09-29T12:32:59.907Z"
   },
   {
    "duration": 24,
    "start_time": "2023-09-29T12:32:59.939Z"
   },
   {
    "duration": 160,
    "start_time": "2023-09-29T12:32:59.965Z"
   },
   {
    "duration": 7,
    "start_time": "2023-09-29T12:33:00.127Z"
   },
   {
    "duration": 442,
    "start_time": "2023-09-29T12:33:00.139Z"
   },
   {
    "duration": 171,
    "start_time": "2023-09-29T12:33:00.583Z"
   },
   {
    "duration": 162,
    "start_time": "2023-09-29T12:33:00.756Z"
   },
   {
    "duration": 49,
    "start_time": "2023-09-29T12:33:00.920Z"
   },
   {
    "duration": 1604,
    "start_time": "2023-09-29T12:33:00.971Z"
   },
   {
    "duration": 6,
    "start_time": "2023-09-29T12:33:02.577Z"
   },
   {
    "duration": 167,
    "start_time": "2023-09-29T12:33:02.585Z"
   },
   {
    "duration": 12,
    "start_time": "2023-09-29T12:33:02.754Z"
   },
   {
    "duration": 15,
    "start_time": "2023-09-29T12:33:02.769Z"
   },
   {
    "duration": 21,
    "start_time": "2023-09-29T12:33:02.786Z"
   },
   {
    "duration": 34,
    "start_time": "2023-09-29T12:33:02.809Z"
   },
   {
    "duration": 161,
    "start_time": "2023-09-29T12:33:02.846Z"
   },
   {
    "duration": 10,
    "start_time": "2023-09-29T12:33:03.009Z"
   },
   {
    "duration": 373,
    "start_time": "2023-09-29T12:33:03.020Z"
   },
   {
    "duration": 6,
    "start_time": "2023-09-29T12:33:03.395Z"
   },
   {
    "duration": 218,
    "start_time": "2023-09-29T12:33:03.404Z"
   },
   {
    "duration": 161,
    "start_time": "2023-09-29T12:33:03.624Z"
   },
   {
    "duration": 417,
    "start_time": "2023-09-29T12:35:35.470Z"
   },
   {
    "duration": 317,
    "start_time": "2023-09-29T12:35:58.233Z"
   },
   {
    "duration": 69,
    "start_time": "2023-09-29T12:37:15.980Z"
   },
   {
    "duration": 64,
    "start_time": "2023-09-29T12:37:33.770Z"
   },
   {
    "duration": 13,
    "start_time": "2023-09-29T12:37:41.317Z"
   },
   {
    "duration": 1365,
    "start_time": "2023-09-29T12:37:46.791Z"
   },
   {
    "duration": 6,
    "start_time": "2023-09-29T12:37:48.158Z"
   },
   {
    "duration": 36,
    "start_time": "2023-09-29T12:37:48.166Z"
   },
   {
    "duration": 28,
    "start_time": "2023-09-29T12:37:48.204Z"
   },
   {
    "duration": 2260,
    "start_time": "2023-09-29T12:37:48.233Z"
   },
   {
    "duration": 12,
    "start_time": "2023-09-29T12:37:50.495Z"
   },
   {
    "duration": 18,
    "start_time": "2023-09-29T12:37:50.509Z"
   },
   {
    "duration": 6,
    "start_time": "2023-09-29T12:37:50.529Z"
   },
   {
    "duration": 43,
    "start_time": "2023-09-29T12:37:50.537Z"
   },
   {
    "duration": 38,
    "start_time": "2023-09-29T12:37:50.584Z"
   },
   {
    "duration": 44,
    "start_time": "2023-09-29T12:37:50.624Z"
   },
   {
    "duration": 7,
    "start_time": "2023-09-29T12:37:50.669Z"
   },
   {
    "duration": 239,
    "start_time": "2023-09-29T12:37:50.678Z"
   },
   {
    "duration": 6,
    "start_time": "2023-09-29T12:37:50.919Z"
   },
   {
    "duration": 30,
    "start_time": "2023-09-29T12:37:50.926Z"
   },
   {
    "duration": 26,
    "start_time": "2023-09-29T12:37:50.957Z"
   },
   {
    "duration": 13,
    "start_time": "2023-09-29T12:37:50.985Z"
   },
   {
    "duration": 12,
    "start_time": "2023-09-29T12:37:50.999Z"
   },
   {
    "duration": 344,
    "start_time": "2023-09-29T12:37:51.014Z"
   },
   {
    "duration": 7,
    "start_time": "2023-09-29T12:37:51.360Z"
   },
   {
    "duration": 207,
    "start_time": "2023-09-29T12:37:51.369Z"
   },
   {
    "duration": 9,
    "start_time": "2023-09-29T12:37:51.578Z"
   },
   {
    "duration": 189,
    "start_time": "2023-09-29T12:37:51.589Z"
   },
   {
    "duration": 11,
    "start_time": "2023-09-29T12:37:51.779Z"
   },
   {
    "duration": 65,
    "start_time": "2023-09-29T12:37:51.792Z"
   },
   {
    "duration": 173,
    "start_time": "2023-09-29T12:37:51.859Z"
   },
   {
    "duration": 6,
    "start_time": "2023-09-29T12:37:52.034Z"
   },
   {
    "duration": 30,
    "start_time": "2023-09-29T12:37:52.059Z"
   },
   {
    "duration": 166,
    "start_time": "2023-09-29T12:37:52.091Z"
   },
   {
    "duration": 15,
    "start_time": "2023-09-29T12:37:52.259Z"
   },
   {
    "duration": 21,
    "start_time": "2023-09-29T12:37:52.276Z"
   },
   {
    "duration": 24,
    "start_time": "2023-09-29T12:37:52.299Z"
   },
   {
    "duration": 167,
    "start_time": "2023-09-29T12:37:52.324Z"
   },
   {
    "duration": 11,
    "start_time": "2023-09-29T12:37:52.494Z"
   },
   {
    "duration": 275,
    "start_time": "2023-09-29T12:37:52.507Z"
   },
   {
    "duration": 9,
    "start_time": "2023-09-29T12:37:52.784Z"
   },
   {
    "duration": 17,
    "start_time": "2023-09-29T12:37:52.795Z"
   },
   {
    "duration": 9,
    "start_time": "2023-09-29T12:37:52.814Z"
   },
   {
    "duration": 175,
    "start_time": "2023-09-29T12:37:52.826Z"
   },
   {
    "duration": 7,
    "start_time": "2023-09-29T12:37:53.003Z"
   },
   {
    "duration": 146,
    "start_time": "2023-09-29T12:37:53.012Z"
   },
   {
    "duration": 164,
    "start_time": "2023-09-29T12:37:53.160Z"
   },
   {
    "duration": 163,
    "start_time": "2023-09-29T12:37:53.326Z"
   },
   {
    "duration": 13,
    "start_time": "2023-09-29T12:37:53.491Z"
   },
   {
    "duration": 1496,
    "start_time": "2023-09-29T12:37:53.506Z"
   },
   {
    "duration": 8,
    "start_time": "2023-09-29T12:37:55.004Z"
   },
   {
    "duration": 175,
    "start_time": "2023-09-29T12:37:55.013Z"
   },
   {
    "duration": 11,
    "start_time": "2023-09-29T12:37:55.190Z"
   },
   {
    "duration": 17,
    "start_time": "2023-09-29T12:37:55.202Z"
   },
   {
    "duration": 8,
    "start_time": "2023-09-29T12:37:55.221Z"
   },
   {
    "duration": 36,
    "start_time": "2023-09-29T12:37:55.230Z"
   },
   {
    "duration": 163,
    "start_time": "2023-09-29T12:37:55.268Z"
   },
   {
    "duration": 10,
    "start_time": "2023-09-29T12:37:55.433Z"
   },
   {
    "duration": 348,
    "start_time": "2023-09-29T12:37:55.444Z"
   },
   {
    "duration": 6,
    "start_time": "2023-09-29T12:37:55.793Z"
   },
   {
    "duration": 191,
    "start_time": "2023-09-29T12:37:55.801Z"
   },
   {
    "duration": 150,
    "start_time": "2023-09-29T12:37:55.994Z"
   },
   {
    "duration": 438,
    "start_time": "2023-09-29T12:37:56.147Z"
   },
   {
    "duration": 384,
    "start_time": "2023-09-29T12:38:14.986Z"
   },
   {
    "duration": 11,
    "start_time": "2023-09-29T12:40:14.526Z"
   },
   {
    "duration": 6,
    "start_time": "2023-09-29T12:40:22.350Z"
   },
   {
    "duration": 15,
    "start_time": "2023-09-29T12:42:15.120Z"
   },
   {
    "duration": 11,
    "start_time": "2023-09-29T12:42:27.461Z"
   },
   {
    "duration": 5,
    "start_time": "2023-09-29T12:42:33.436Z"
   },
   {
    "duration": 10,
    "start_time": "2023-09-29T12:43:24.402Z"
   },
   {
    "duration": 8,
    "start_time": "2023-09-29T12:43:33.448Z"
   },
   {
    "duration": 1388,
    "start_time": "2023-09-29T12:43:52.845Z"
   },
   {
    "duration": 5,
    "start_time": "2023-09-29T12:43:54.236Z"
   },
   {
    "duration": 40,
    "start_time": "2023-09-29T12:43:54.243Z"
   },
   {
    "duration": 8,
    "start_time": "2023-09-29T12:43:54.285Z"
   },
   {
    "duration": 2082,
    "start_time": "2023-09-29T12:43:54.295Z"
   },
   {
    "duration": 11,
    "start_time": "2023-09-29T12:43:56.380Z"
   },
   {
    "duration": 21,
    "start_time": "2023-09-29T12:43:56.393Z"
   },
   {
    "duration": 15,
    "start_time": "2023-09-29T12:43:56.415Z"
   },
   {
    "duration": 11,
    "start_time": "2023-09-29T12:43:56.431Z"
   },
   {
    "duration": 26,
    "start_time": "2023-09-29T12:43:56.444Z"
   },
   {
    "duration": 26,
    "start_time": "2023-09-29T12:43:56.472Z"
   },
   {
    "duration": 7,
    "start_time": "2023-09-29T12:43:56.500Z"
   },
   {
    "duration": 226,
    "start_time": "2023-09-29T12:43:56.508Z"
   },
   {
    "duration": 5,
    "start_time": "2023-09-29T12:43:56.736Z"
   },
   {
    "duration": 28,
    "start_time": "2023-09-29T12:43:56.743Z"
   },
   {
    "duration": 15,
    "start_time": "2023-09-29T12:43:56.772Z"
   },
   {
    "duration": 8,
    "start_time": "2023-09-29T12:43:56.788Z"
   },
   {
    "duration": 20,
    "start_time": "2023-09-29T12:43:56.798Z"
   },
   {
    "duration": 361,
    "start_time": "2023-09-29T12:43:56.820Z"
   },
   {
    "duration": 7,
    "start_time": "2023-09-29T12:43:57.183Z"
   },
   {
    "duration": 160,
    "start_time": "2023-09-29T12:43:57.191Z"
   },
   {
    "duration": 10,
    "start_time": "2023-09-29T12:43:57.356Z"
   },
   {
    "duration": 174,
    "start_time": "2023-09-29T12:43:57.368Z"
   },
   {
    "duration": 15,
    "start_time": "2023-09-29T12:43:57.544Z"
   },
   {
    "duration": 42,
    "start_time": "2023-09-29T12:43:57.561Z"
   },
   {
    "duration": 184,
    "start_time": "2023-09-29T12:43:57.605Z"
   },
   {
    "duration": 6,
    "start_time": "2023-09-29T12:43:57.792Z"
   },
   {
    "duration": 15,
    "start_time": "2023-09-29T12:43:57.803Z"
   },
   {
    "duration": 12,
    "start_time": "2023-09-29T12:43:57.820Z"
   },
   {
    "duration": 189,
    "start_time": "2023-09-29T12:43:57.834Z"
   },
   {
    "duration": 14,
    "start_time": "2023-09-29T12:43:58.026Z"
   },
   {
    "duration": 9,
    "start_time": "2023-09-29T12:43:58.057Z"
   },
   {
    "duration": 15,
    "start_time": "2023-09-29T12:43:58.068Z"
   },
   {
    "duration": 166,
    "start_time": "2023-09-29T12:43:58.085Z"
   },
   {
    "duration": 9,
    "start_time": "2023-09-29T12:43:58.257Z"
   },
   {
    "duration": 258,
    "start_time": "2023-09-29T12:43:58.268Z"
   },
   {
    "duration": 10,
    "start_time": "2023-09-29T12:43:58.528Z"
   },
   {
    "duration": 24,
    "start_time": "2023-09-29T12:43:58.540Z"
   },
   {
    "duration": 6,
    "start_time": "2023-09-29T12:43:58.566Z"
   },
   {
    "duration": 190,
    "start_time": "2023-09-29T12:43:58.574Z"
   },
   {
    "duration": 8,
    "start_time": "2023-09-29T12:43:58.766Z"
   },
   {
    "duration": 181,
    "start_time": "2023-09-29T12:43:58.775Z"
   },
   {
    "duration": 163,
    "start_time": "2023-09-29T12:43:58.959Z"
   },
   {
    "duration": 157,
    "start_time": "2023-09-29T12:43:59.124Z"
   },
   {
    "duration": 11,
    "start_time": "2023-09-29T12:43:59.283Z"
   },
   {
    "duration": 1484,
    "start_time": "2023-09-29T12:43:59.296Z"
   },
   {
    "duration": 8,
    "start_time": "2023-09-29T12:44:00.782Z"
   },
   {
    "duration": 335,
    "start_time": "2023-09-29T12:44:00.792Z"
   },
   {
    "duration": 13,
    "start_time": "2023-09-29T12:44:01.129Z"
   },
   {
    "duration": 27,
    "start_time": "2023-09-29T12:44:01.162Z"
   },
   {
    "duration": 52,
    "start_time": "2023-09-29T12:44:01.191Z"
   },
   {
    "duration": 37,
    "start_time": "2023-09-29T12:44:01.245Z"
   },
   {
    "duration": 162,
    "start_time": "2023-09-29T12:44:01.284Z"
   },
   {
    "duration": 10,
    "start_time": "2023-09-29T12:44:01.448Z"
   },
   {
    "duration": 357,
    "start_time": "2023-09-29T12:44:01.459Z"
   },
   {
    "duration": 6,
    "start_time": "2023-09-29T12:44:01.818Z"
   },
   {
    "duration": 210,
    "start_time": "2023-09-29T12:44:01.825Z"
   },
   {
    "duration": 163,
    "start_time": "2023-09-29T12:44:02.037Z"
   },
   {
    "duration": 6,
    "start_time": "2023-09-29T12:44:02.202Z"
   },
   {
    "duration": 160,
    "start_time": "2023-09-29T12:44:02.210Z"
   },
   {
    "duration": 124,
    "start_time": "2023-09-29T12:45:30.414Z"
   },
   {
    "duration": 121,
    "start_time": "2023-09-29T12:49:14.545Z"
   },
   {
    "duration": 185,
    "start_time": "2023-09-29T12:52:32.043Z"
   },
   {
    "duration": 10,
    "start_time": "2023-09-29T12:53:21.620Z"
   },
   {
    "duration": 13,
    "start_time": "2023-09-29T12:53:38.814Z"
   },
   {
    "duration": 16,
    "start_time": "2023-09-29T13:12:40.654Z"
   },
   {
    "duration": 15,
    "start_time": "2023-09-29T13:13:16.087Z"
   },
   {
    "duration": 17,
    "start_time": "2023-09-29T13:13:25.511Z"
   },
   {
    "duration": 157,
    "start_time": "2023-09-29T13:14:50.845Z"
   },
   {
    "duration": 17,
    "start_time": "2023-09-29T13:14:58.638Z"
   },
   {
    "duration": 24,
    "start_time": "2023-09-29T13:15:13.306Z"
   },
   {
    "duration": 16,
    "start_time": "2023-09-29T13:15:20.745Z"
   },
   {
    "duration": 13,
    "start_time": "2023-09-29T13:17:10.878Z"
   },
   {
    "duration": 144,
    "start_time": "2023-09-29T13:18:02.879Z"
   },
   {
    "duration": 1334,
    "start_time": "2023-09-29T13:18:05.977Z"
   },
   {
    "duration": 1112,
    "start_time": "2023-09-29T13:24:41.743Z"
   },
   {
    "duration": 1651,
    "start_time": "2023-09-29T13:36:25.638Z"
   },
   {
    "duration": 1588,
    "start_time": "2023-09-29T13:36:45.994Z"
   },
   {
    "duration": 1559,
    "start_time": "2023-09-29T13:36:56.642Z"
   },
   {
    "duration": 1506,
    "start_time": "2023-09-29T13:37:08.450Z"
   },
   {
    "duration": 6,
    "start_time": "2023-09-29T13:37:09.958Z"
   },
   {
    "duration": 32,
    "start_time": "2023-09-29T13:37:09.966Z"
   },
   {
    "duration": 23,
    "start_time": "2023-09-29T13:37:10.001Z"
   },
   {
    "duration": 2219,
    "start_time": "2023-09-29T13:37:10.026Z"
   },
   {
    "duration": 11,
    "start_time": "2023-09-29T13:37:12.247Z"
   },
   {
    "duration": 15,
    "start_time": "2023-09-29T13:37:12.260Z"
   },
   {
    "duration": 7,
    "start_time": "2023-09-29T13:37:12.277Z"
   },
   {
    "duration": 17,
    "start_time": "2023-09-29T13:37:12.286Z"
   },
   {
    "duration": 13,
    "start_time": "2023-09-29T13:37:12.306Z"
   },
   {
    "duration": 61,
    "start_time": "2023-09-29T13:37:12.321Z"
   },
   {
    "duration": 6,
    "start_time": "2023-09-29T13:37:12.384Z"
   },
   {
    "duration": 247,
    "start_time": "2023-09-29T13:37:12.392Z"
   },
   {
    "duration": 16,
    "start_time": "2023-09-29T13:37:12.642Z"
   },
   {
    "duration": 24,
    "start_time": "2023-09-29T13:37:12.660Z"
   },
   {
    "duration": 16,
    "start_time": "2023-09-29T13:37:12.685Z"
   },
   {
    "duration": 8,
    "start_time": "2023-09-29T13:37:12.703Z"
   },
   {
    "duration": 17,
    "start_time": "2023-09-29T13:37:12.713Z"
   },
   {
    "duration": 383,
    "start_time": "2023-09-29T13:37:12.732Z"
   },
   {
    "duration": 7,
    "start_time": "2023-09-29T13:37:13.117Z"
   },
   {
    "duration": 171,
    "start_time": "2023-09-29T13:37:13.126Z"
   },
   {
    "duration": 10,
    "start_time": "2023-09-29T13:37:13.299Z"
   },
   {
    "duration": 192,
    "start_time": "2023-09-29T13:37:13.311Z"
   },
   {
    "duration": 12,
    "start_time": "2023-09-29T13:37:13.506Z"
   },
   {
    "duration": 83,
    "start_time": "2023-09-29T13:37:13.519Z"
   },
   {
    "duration": 183,
    "start_time": "2023-09-29T13:37:13.603Z"
   },
   {
    "duration": 6,
    "start_time": "2023-09-29T13:37:13.788Z"
   },
   {
    "duration": 24,
    "start_time": "2023-09-29T13:37:13.797Z"
   },
   {
    "duration": 7,
    "start_time": "2023-09-29T13:37:13.823Z"
   },
   {
    "duration": 181,
    "start_time": "2023-09-29T13:37:13.831Z"
   },
   {
    "duration": 12,
    "start_time": "2023-09-29T13:37:14.014Z"
   },
   {
    "duration": 29,
    "start_time": "2023-09-29T13:37:14.028Z"
   },
   {
    "duration": 11,
    "start_time": "2023-09-29T13:37:14.059Z"
   },
   {
    "duration": 162,
    "start_time": "2023-09-29T13:37:14.072Z"
   },
   {
    "duration": 21,
    "start_time": "2023-09-29T13:37:14.236Z"
   },
   {
    "duration": 264,
    "start_time": "2023-09-29T13:37:14.259Z"
   },
   {
    "duration": 10,
    "start_time": "2023-09-29T13:37:14.525Z"
   },
   {
    "duration": 24,
    "start_time": "2023-09-29T13:37:14.536Z"
   },
   {
    "duration": 7,
    "start_time": "2023-09-29T13:37:14.562Z"
   },
   {
    "duration": 172,
    "start_time": "2023-09-29T13:37:14.570Z"
   },
   {
    "duration": 15,
    "start_time": "2023-09-29T13:37:14.744Z"
   },
   {
    "duration": 142,
    "start_time": "2023-09-29T13:37:14.761Z"
   },
   {
    "duration": 172,
    "start_time": "2023-09-29T13:37:14.905Z"
   },
   {
    "duration": 157,
    "start_time": "2023-09-29T13:37:15.079Z"
   },
   {
    "duration": 25,
    "start_time": "2023-09-29T13:37:15.238Z"
   },
   {
    "duration": 1501,
    "start_time": "2023-09-29T13:37:15.265Z"
   },
   {
    "duration": 6,
    "start_time": "2023-09-29T13:37:16.768Z"
   },
   {
    "duration": 183,
    "start_time": "2023-09-29T13:37:16.776Z"
   },
   {
    "duration": 13,
    "start_time": "2023-09-29T13:37:16.961Z"
   },
   {
    "duration": 13,
    "start_time": "2023-09-29T13:37:16.976Z"
   },
   {
    "duration": 7,
    "start_time": "2023-09-29T13:37:16.991Z"
   },
   {
    "duration": 67,
    "start_time": "2023-09-29T13:37:17.000Z"
   },
   {
    "duration": 164,
    "start_time": "2023-09-29T13:37:17.069Z"
   },
   {
    "duration": 10,
    "start_time": "2023-09-29T13:37:17.235Z"
   },
   {
    "duration": 355,
    "start_time": "2023-09-29T13:37:17.247Z"
   },
   {
    "duration": 57,
    "start_time": "2023-09-29T13:37:17.604Z"
   },
   {
    "duration": 303,
    "start_time": "2023-09-29T13:37:17.664Z"
   },
   {
    "duration": 236,
    "start_time": "2023-09-29T13:37:17.970Z"
   },
   {
    "duration": 6,
    "start_time": "2023-09-29T13:37:18.208Z"
   },
   {
    "duration": 1953,
    "start_time": "2023-09-29T13:37:18.216Z"
   },
   {
    "duration": 373,
    "start_time": "2023-09-29T13:37:48.895Z"
   },
   {
    "duration": 329,
    "start_time": "2023-09-29T13:37:55.984Z"
   },
   {
    "duration": 475,
    "start_time": "2023-09-29T13:38:19.190Z"
   },
   {
    "duration": 7,
    "start_time": "2023-09-29T13:38:38.972Z"
   },
   {
    "duration": 468,
    "start_time": "2023-09-29T13:38:47.120Z"
   },
   {
    "duration": 372,
    "start_time": "2023-09-29T13:39:03.462Z"
   },
   {
    "duration": 329,
    "start_time": "2023-09-29T13:39:41.534Z"
   },
   {
    "duration": 453,
    "start_time": "2023-09-29T13:40:09.682Z"
   },
   {
    "duration": 331,
    "start_time": "2023-09-29T13:40:14.884Z"
   },
   {
    "duration": 467,
    "start_time": "2023-09-29T13:40:32.633Z"
   },
   {
    "duration": 1522,
    "start_time": "2023-09-29T13:40:56.393Z"
   },
   {
    "duration": 1666,
    "start_time": "2023-09-29T13:41:13.012Z"
   },
   {
    "duration": 16,
    "start_time": "2023-09-29T13:42:31.491Z"
   },
   {
    "duration": 1342,
    "start_time": "2023-09-29T13:43:13.586Z"
   },
   {
    "duration": 7,
    "start_time": "2023-09-29T13:43:14.930Z"
   },
   {
    "duration": 41,
    "start_time": "2023-09-29T13:43:14.938Z"
   },
   {
    "duration": 7,
    "start_time": "2023-09-29T13:43:14.982Z"
   },
   {
    "duration": 2286,
    "start_time": "2023-09-29T13:43:14.991Z"
   },
   {
    "duration": 12,
    "start_time": "2023-09-29T13:43:17.279Z"
   },
   {
    "duration": 70,
    "start_time": "2023-09-29T13:43:17.293Z"
   },
   {
    "duration": 6,
    "start_time": "2023-09-29T13:43:17.365Z"
   },
   {
    "duration": 13,
    "start_time": "2023-09-29T13:43:17.373Z"
   },
   {
    "duration": 18,
    "start_time": "2023-09-29T13:43:17.388Z"
   },
   {
    "duration": 34,
    "start_time": "2023-09-29T13:43:17.407Z"
   },
   {
    "duration": 7,
    "start_time": "2023-09-29T13:43:17.456Z"
   },
   {
    "duration": 277,
    "start_time": "2023-09-29T13:43:17.464Z"
   },
   {
    "duration": 5,
    "start_time": "2023-09-29T13:43:17.743Z"
   },
   {
    "duration": 11,
    "start_time": "2023-09-29T13:43:17.757Z"
   },
   {
    "duration": 19,
    "start_time": "2023-09-29T13:43:17.769Z"
   },
   {
    "duration": 24,
    "start_time": "2023-09-29T13:43:17.790Z"
   },
   {
    "duration": 8,
    "start_time": "2023-09-29T13:43:17.815Z"
   },
   {
    "duration": 382,
    "start_time": "2023-09-29T13:43:17.825Z"
   },
   {
    "duration": 8,
    "start_time": "2023-09-29T13:43:18.209Z"
   },
   {
    "duration": 217,
    "start_time": "2023-09-29T13:43:18.219Z"
   },
   {
    "duration": 20,
    "start_time": "2023-09-29T13:43:18.437Z"
   },
   {
    "duration": 172,
    "start_time": "2023-09-29T13:43:18.459Z"
   },
   {
    "duration": 11,
    "start_time": "2023-09-29T13:43:18.633Z"
   },
   {
    "duration": 67,
    "start_time": "2023-09-29T13:43:18.656Z"
   },
   {
    "duration": 189,
    "start_time": "2023-09-29T13:43:18.724Z"
   },
   {
    "duration": 7,
    "start_time": "2023-09-29T13:43:18.916Z"
   },
   {
    "duration": 34,
    "start_time": "2023-09-29T13:43:18.927Z"
   },
   {
    "duration": 12,
    "start_time": "2023-09-29T13:43:18.963Z"
   },
   {
    "duration": 191,
    "start_time": "2023-09-29T13:43:18.977Z"
   },
   {
    "duration": 11,
    "start_time": "2023-09-29T13:43:19.170Z"
   },
   {
    "duration": 12,
    "start_time": "2023-09-29T13:43:19.182Z"
   },
   {
    "duration": 9,
    "start_time": "2023-09-29T13:43:19.196Z"
   },
   {
    "duration": 162,
    "start_time": "2023-09-29T13:43:19.207Z"
   },
   {
    "duration": 9,
    "start_time": "2023-09-29T13:43:19.371Z"
   },
   {
    "duration": 253,
    "start_time": "2023-09-29T13:43:19.381Z"
   },
   {
    "duration": 23,
    "start_time": "2023-09-29T13:43:19.636Z"
   },
   {
    "duration": 7,
    "start_time": "2023-09-29T13:43:19.661Z"
   },
   {
    "duration": 26,
    "start_time": "2023-09-29T13:43:19.670Z"
   },
   {
    "duration": 160,
    "start_time": "2023-09-29T13:43:19.698Z"
   },
   {
    "duration": 6,
    "start_time": "2023-09-29T13:43:19.860Z"
   },
   {
    "duration": 138,
    "start_time": "2023-09-29T13:43:19.868Z"
   },
   {
    "duration": 162,
    "start_time": "2023-09-29T13:43:20.008Z"
   },
   {
    "duration": 150,
    "start_time": "2023-09-29T13:43:20.172Z"
   },
   {
    "duration": 12,
    "start_time": "2023-09-29T13:43:20.324Z"
   },
   {
    "duration": 1477,
    "start_time": "2023-09-29T13:43:20.338Z"
   },
   {
    "duration": 6,
    "start_time": "2023-09-29T13:43:21.817Z"
   },
   {
    "duration": 184,
    "start_time": "2023-09-29T13:43:21.825Z"
   },
   {
    "duration": 10,
    "start_time": "2023-09-29T13:43:22.011Z"
   },
   {
    "duration": 16,
    "start_time": "2023-09-29T13:43:22.022Z"
   },
   {
    "duration": 19,
    "start_time": "2023-09-29T13:43:22.040Z"
   },
   {
    "duration": 23,
    "start_time": "2023-09-29T13:43:22.061Z"
   },
   {
    "duration": 170,
    "start_time": "2023-09-29T13:43:22.086Z"
   },
   {
    "duration": 11,
    "start_time": "2023-09-29T13:43:22.258Z"
   },
   {
    "duration": 356,
    "start_time": "2023-09-29T13:43:22.271Z"
   },
   {
    "duration": 7,
    "start_time": "2023-09-29T13:43:22.629Z"
   },
   {
    "duration": 209,
    "start_time": "2023-09-29T13:43:22.637Z"
   },
   {
    "duration": 166,
    "start_time": "2023-09-29T13:43:22.848Z"
   },
   {
    "duration": 5,
    "start_time": "2023-09-29T13:43:23.016Z"
   },
   {
    "duration": 34,
    "start_time": "2023-09-29T13:43:23.023Z"
   },
   {
    "duration": 7,
    "start_time": "2023-09-29T13:47:55.530Z"
   },
   {
    "duration": 13,
    "start_time": "2023-09-29T13:48:01.640Z"
   },
   {
    "duration": 12,
    "start_time": "2023-09-29T13:48:32.488Z"
   },
   {
    "duration": 12,
    "start_time": "2023-09-29T13:48:52.606Z"
   },
   {
    "duration": 9,
    "start_time": "2023-09-29T13:49:01.233Z"
   },
   {
    "duration": 105,
    "start_time": "2023-09-29T13:54:42.633Z"
   },
   {
    "duration": 16,
    "start_time": "2023-09-29T13:55:46.430Z"
   },
   {
    "duration": 12,
    "start_time": "2023-09-29T13:55:53.317Z"
   },
   {
    "duration": 12,
    "start_time": "2023-09-29T13:56:40.152Z"
   },
   {
    "duration": 1508,
    "start_time": "2023-09-29T13:56:48.746Z"
   },
   {
    "duration": 6,
    "start_time": "2023-09-29T13:56:50.256Z"
   },
   {
    "duration": 59,
    "start_time": "2023-09-29T13:56:50.264Z"
   },
   {
    "duration": 26,
    "start_time": "2023-09-29T13:56:50.325Z"
   },
   {
    "duration": 2220,
    "start_time": "2023-09-29T13:56:50.353Z"
   },
   {
    "duration": 11,
    "start_time": "2023-09-29T13:56:52.575Z"
   },
   {
    "duration": 51,
    "start_time": "2023-09-29T13:56:52.587Z"
   },
   {
    "duration": 30,
    "start_time": "2023-09-29T13:56:52.641Z"
   },
   {
    "duration": 30,
    "start_time": "2023-09-29T13:56:52.674Z"
   },
   {
    "duration": 52,
    "start_time": "2023-09-29T13:56:52.707Z"
   },
   {
    "duration": 57,
    "start_time": "2023-09-29T13:56:52.760Z"
   },
   {
    "duration": 7,
    "start_time": "2023-09-29T13:56:52.819Z"
   },
   {
    "duration": 269,
    "start_time": "2023-09-29T13:56:52.828Z"
   },
   {
    "duration": 6,
    "start_time": "2023-09-29T13:56:53.099Z"
   },
   {
    "duration": 63,
    "start_time": "2023-09-29T13:56:53.107Z"
   },
   {
    "duration": 42,
    "start_time": "2023-09-29T13:56:53.172Z"
   },
   {
    "duration": 25,
    "start_time": "2023-09-29T13:56:53.216Z"
   },
   {
    "duration": 41,
    "start_time": "2023-09-29T13:56:53.243Z"
   },
   {
    "duration": 378,
    "start_time": "2023-09-29T13:56:53.287Z"
   },
   {
    "duration": 8,
    "start_time": "2023-09-29T13:56:53.668Z"
   },
   {
    "duration": 181,
    "start_time": "2023-09-29T13:56:53.678Z"
   },
   {
    "duration": 11,
    "start_time": "2023-09-29T13:56:53.861Z"
   },
   {
    "duration": 227,
    "start_time": "2023-09-29T13:56:53.874Z"
   },
   {
    "duration": 10,
    "start_time": "2023-09-29T13:56:54.102Z"
   },
   {
    "duration": 62,
    "start_time": "2023-09-29T13:56:54.114Z"
   },
   {
    "duration": 190,
    "start_time": "2023-09-29T13:56:54.177Z"
   },
   {
    "duration": 6,
    "start_time": "2023-09-29T13:56:54.368Z"
   },
   {
    "duration": 29,
    "start_time": "2023-09-29T13:56:54.378Z"
   },
   {
    "duration": 27,
    "start_time": "2023-09-29T13:56:54.409Z"
   },
   {
    "duration": 174,
    "start_time": "2023-09-29T13:56:54.438Z"
   },
   {
    "duration": 11,
    "start_time": "2023-09-29T13:56:54.614Z"
   },
   {
    "duration": 29,
    "start_time": "2023-09-29T13:56:54.628Z"
   },
   {
    "duration": 37,
    "start_time": "2023-09-29T13:56:54.659Z"
   },
   {
    "duration": 177,
    "start_time": "2023-09-29T13:56:54.699Z"
   },
   {
    "duration": 13,
    "start_time": "2023-09-29T13:56:54.878Z"
   },
   {
    "duration": 289,
    "start_time": "2023-09-29T13:56:54.893Z"
   },
   {
    "duration": 10,
    "start_time": "2023-09-29T13:56:55.184Z"
   },
   {
    "duration": 30,
    "start_time": "2023-09-29T13:56:55.196Z"
   },
   {
    "duration": 27,
    "start_time": "2023-09-29T13:56:55.228Z"
   },
   {
    "duration": 161,
    "start_time": "2023-09-29T13:56:55.257Z"
   },
   {
    "duration": 8,
    "start_time": "2023-09-29T13:56:55.420Z"
   },
   {
    "duration": 160,
    "start_time": "2023-09-29T13:56:55.430Z"
   },
   {
    "duration": 167,
    "start_time": "2023-09-29T13:56:55.592Z"
   },
   {
    "duration": 175,
    "start_time": "2023-09-29T13:56:55.761Z"
   },
   {
    "duration": 21,
    "start_time": "2023-09-29T13:56:55.938Z"
   },
   {
    "duration": 1454,
    "start_time": "2023-09-29T13:56:55.961Z"
   },
   {
    "duration": 6,
    "start_time": "2023-09-29T13:56:57.417Z"
   },
   {
    "duration": 167,
    "start_time": "2023-09-29T13:56:57.424Z"
   },
   {
    "duration": 10,
    "start_time": "2023-09-29T13:56:57.593Z"
   },
   {
    "duration": 15,
    "start_time": "2023-09-29T13:56:57.604Z"
   },
   {
    "duration": 12,
    "start_time": "2023-09-29T13:56:57.621Z"
   },
   {
    "duration": 34,
    "start_time": "2023-09-29T13:56:57.635Z"
   },
   {
    "duration": 164,
    "start_time": "2023-09-29T13:56:57.670Z"
   },
   {
    "duration": 20,
    "start_time": "2023-09-29T13:56:57.836Z"
   },
   {
    "duration": 380,
    "start_time": "2023-09-29T13:56:57.858Z"
   },
   {
    "duration": 6,
    "start_time": "2023-09-29T13:56:58.239Z"
   },
   {
    "duration": 174,
    "start_time": "2023-09-29T13:56:58.257Z"
   },
   {
    "duration": 154,
    "start_time": "2023-09-29T13:56:58.433Z"
   },
   {
    "duration": 7,
    "start_time": "2023-09-29T13:56:58.589Z"
   },
   {
    "duration": 20,
    "start_time": "2023-09-29T13:56:58.598Z"
   },
   {
    "duration": 133,
    "start_time": "2023-09-29T13:56:58.620Z"
   },
   {
    "duration": 16,
    "start_time": "2023-09-29T13:59:12.442Z"
   },
   {
    "duration": 987,
    "start_time": "2023-09-29T14:01:17.896Z"
   },
   {
    "duration": 1023,
    "start_time": "2023-09-29T14:01:31.099Z"
   },
   {
    "duration": 1056,
    "start_time": "2023-09-29T14:02:21.587Z"
   },
   {
    "duration": 12,
    "start_time": "2023-09-29T14:02:35.033Z"
   },
   {
    "duration": 1504,
    "start_time": "2023-09-29T14:04:20.940Z"
   },
   {
    "duration": 11,
    "start_time": "2023-09-29T14:04:22.446Z"
   },
   {
    "duration": 26,
    "start_time": "2023-09-29T14:04:22.459Z"
   },
   {
    "duration": 7,
    "start_time": "2023-09-29T14:04:22.488Z"
   },
   {
    "duration": 2364,
    "start_time": "2023-09-29T14:04:22.497Z"
   },
   {
    "duration": 19,
    "start_time": "2023-09-29T14:04:24.864Z"
   },
   {
    "duration": 15,
    "start_time": "2023-09-29T14:04:24.885Z"
   },
   {
    "duration": 8,
    "start_time": "2023-09-29T14:04:24.902Z"
   },
   {
    "duration": 52,
    "start_time": "2023-09-29T14:04:24.913Z"
   },
   {
    "duration": 18,
    "start_time": "2023-09-29T14:04:24.969Z"
   },
   {
    "duration": 40,
    "start_time": "2023-09-29T14:04:24.990Z"
   },
   {
    "duration": 7,
    "start_time": "2023-09-29T14:04:25.057Z"
   },
   {
    "duration": 254,
    "start_time": "2023-09-29T14:04:25.066Z"
   },
   {
    "duration": 7,
    "start_time": "2023-09-29T14:04:25.322Z"
   },
   {
    "duration": 27,
    "start_time": "2023-09-29T14:04:25.331Z"
   },
   {
    "duration": 13,
    "start_time": "2023-09-29T14:04:25.360Z"
   },
   {
    "duration": 18,
    "start_time": "2023-09-29T14:04:25.375Z"
   },
   {
    "duration": 16,
    "start_time": "2023-09-29T14:04:25.395Z"
   },
   {
    "duration": 371,
    "start_time": "2023-09-29T14:04:25.413Z"
   },
   {
    "duration": 9,
    "start_time": "2023-09-29T14:04:25.785Z"
   },
   {
    "duration": 188,
    "start_time": "2023-09-29T14:04:25.796Z"
   },
   {
    "duration": 12,
    "start_time": "2023-09-29T14:04:25.986Z"
   },
   {
    "duration": 197,
    "start_time": "2023-09-29T14:04:26.000Z"
   },
   {
    "duration": 11,
    "start_time": "2023-09-29T14:04:26.199Z"
   },
   {
    "duration": 61,
    "start_time": "2023-09-29T14:04:26.213Z"
   },
   {
    "duration": 187,
    "start_time": "2023-09-29T14:04:26.276Z"
   },
   {
    "duration": 6,
    "start_time": "2023-09-29T14:04:26.465Z"
   },
   {
    "duration": 28,
    "start_time": "2023-09-29T14:04:26.478Z"
   },
   {
    "duration": 8,
    "start_time": "2023-09-29T14:04:26.508Z"
   },
   {
    "duration": 189,
    "start_time": "2023-09-29T14:04:26.518Z"
   },
   {
    "duration": 15,
    "start_time": "2023-09-29T14:04:26.709Z"
   },
   {
    "duration": 8,
    "start_time": "2023-09-29T14:04:26.726Z"
   },
   {
    "duration": 30,
    "start_time": "2023-09-29T14:04:26.736Z"
   },
   {
    "duration": 172,
    "start_time": "2023-09-29T14:04:26.768Z"
   },
   {
    "duration": 22,
    "start_time": "2023-09-29T14:04:26.942Z"
   },
   {
    "duration": 274,
    "start_time": "2023-09-29T14:04:26.966Z"
   },
   {
    "duration": 22,
    "start_time": "2023-09-29T14:04:27.242Z"
   },
   {
    "duration": 9,
    "start_time": "2023-09-29T14:04:27.266Z"
   },
   {
    "duration": 8,
    "start_time": "2023-09-29T14:04:27.277Z"
   },
   {
    "duration": 183,
    "start_time": "2023-09-29T14:04:27.287Z"
   },
   {
    "duration": 8,
    "start_time": "2023-09-29T14:04:27.471Z"
   },
   {
    "duration": 148,
    "start_time": "2023-09-29T14:04:27.480Z"
   },
   {
    "duration": 169,
    "start_time": "2023-09-29T14:04:27.630Z"
   },
   {
    "duration": 163,
    "start_time": "2023-09-29T14:04:27.801Z"
   },
   {
    "duration": 15,
    "start_time": "2023-09-29T14:04:27.966Z"
   },
   {
    "duration": 1701,
    "start_time": "2023-09-29T14:04:27.983Z"
   },
   {
    "duration": 8,
    "start_time": "2023-09-29T14:04:29.686Z"
   },
   {
    "duration": 183,
    "start_time": "2023-09-29T14:04:29.696Z"
   },
   {
    "duration": 14,
    "start_time": "2023-09-29T14:04:29.880Z"
   },
   {
    "duration": 18,
    "start_time": "2023-09-29T14:04:29.896Z"
   },
   {
    "duration": 7,
    "start_time": "2023-09-29T14:04:29.917Z"
   },
   {
    "duration": 40,
    "start_time": "2023-09-29T14:04:29.926Z"
   },
   {
    "duration": 174,
    "start_time": "2023-09-29T14:04:29.968Z"
   },
   {
    "duration": 18,
    "start_time": "2023-09-29T14:04:30.144Z"
   },
   {
    "duration": 425,
    "start_time": "2023-09-29T14:04:30.165Z"
   },
   {
    "duration": 7,
    "start_time": "2023-09-29T14:04:30.593Z"
   },
   {
    "duration": 234,
    "start_time": "2023-09-29T14:04:30.601Z"
   },
   {
    "duration": 169,
    "start_time": "2023-09-29T14:04:30.837Z"
   },
   {
    "duration": 21,
    "start_time": "2023-09-29T14:04:31.009Z"
   },
   {
    "duration": 65,
    "start_time": "2023-09-29T14:04:31.032Z"
   },
   {
    "duration": 58,
    "start_time": "2023-09-29T14:04:31.099Z"
   },
   {
    "duration": 14,
    "start_time": "2023-09-29T14:04:49.777Z"
   },
   {
    "duration": 1127,
    "start_time": "2023-09-29T14:05:28.424Z"
   },
   {
    "duration": 27,
    "start_time": "2023-09-29T14:06:08.230Z"
   },
   {
    "duration": 15,
    "start_time": "2023-09-29T14:06:23.954Z"
   },
   {
    "duration": 1088,
    "start_time": "2023-09-29T14:06:42.718Z"
   },
   {
    "duration": 18,
    "start_time": "2023-09-29T14:07:07.161Z"
   },
   {
    "duration": 22,
    "start_time": "2023-09-29T14:10:00.729Z"
   },
   {
    "duration": 12,
    "start_time": "2023-09-29T14:10:09.057Z"
   },
   {
    "duration": 12,
    "start_time": "2023-09-29T14:10:20.101Z"
   },
   {
    "duration": 15,
    "start_time": "2023-09-29T14:10:55.122Z"
   },
   {
    "duration": 32,
    "start_time": "2023-09-29T14:11:16.660Z"
   },
   {
    "duration": 47,
    "start_time": "2023-09-29T14:12:14.974Z"
   },
   {
    "duration": 45,
    "start_time": "2023-09-29T14:12:25.157Z"
   },
   {
    "duration": 49,
    "start_time": "2023-09-29T14:13:02.578Z"
   },
   {
    "duration": 48,
    "start_time": "2023-09-29T14:13:37.330Z"
   },
   {
    "duration": 63,
    "start_time": "2023-09-29T14:14:29.796Z"
   },
   {
    "duration": 145,
    "start_time": "2023-09-29T14:16:06.012Z"
   },
   {
    "duration": 43,
    "start_time": "2023-09-29T14:16:14.415Z"
   },
   {
    "duration": 108,
    "start_time": "2023-09-29T14:17:18.679Z"
   },
   {
    "duration": 1066,
    "start_time": "2023-09-29T14:17:23.181Z"
   },
   {
    "duration": 49,
    "start_time": "2023-09-29T14:18:28.080Z"
   },
   {
    "duration": 43,
    "start_time": "2023-09-29T14:18:43.988Z"
   },
   {
    "duration": 48,
    "start_time": "2023-09-29T14:19:11.159Z"
   },
   {
    "duration": 57,
    "start_time": "2023-09-29T14:19:17.357Z"
   },
   {
    "duration": 44,
    "start_time": "2023-09-29T14:19:20.567Z"
   },
   {
    "duration": 1370,
    "start_time": "2023-09-29T14:19:35.988Z"
   },
   {
    "duration": 6,
    "start_time": "2023-09-29T14:19:37.360Z"
   },
   {
    "duration": 33,
    "start_time": "2023-09-29T14:19:37.368Z"
   },
   {
    "duration": 7,
    "start_time": "2023-09-29T14:19:37.404Z"
   },
   {
    "duration": 2240,
    "start_time": "2023-09-29T14:19:37.413Z"
   },
   {
    "duration": 12,
    "start_time": "2023-09-29T14:19:39.655Z"
   },
   {
    "duration": 15,
    "start_time": "2023-09-29T14:19:39.668Z"
   },
   {
    "duration": 6,
    "start_time": "2023-09-29T14:19:39.684Z"
   },
   {
    "duration": 14,
    "start_time": "2023-09-29T14:19:39.691Z"
   },
   {
    "duration": 50,
    "start_time": "2023-09-29T14:19:39.708Z"
   },
   {
    "duration": 27,
    "start_time": "2023-09-29T14:19:39.760Z"
   },
   {
    "duration": 7,
    "start_time": "2023-09-29T14:19:39.789Z"
   },
   {
    "duration": 256,
    "start_time": "2023-09-29T14:19:39.797Z"
   },
   {
    "duration": 6,
    "start_time": "2023-09-29T14:19:40.057Z"
   },
   {
    "duration": 23,
    "start_time": "2023-09-29T14:19:40.064Z"
   },
   {
    "duration": 12,
    "start_time": "2023-09-29T14:19:40.089Z"
   },
   {
    "duration": 15,
    "start_time": "2023-09-29T14:19:40.102Z"
   },
   {
    "duration": 8,
    "start_time": "2023-09-29T14:19:40.119Z"
   },
   {
    "duration": 370,
    "start_time": "2023-09-29T14:19:40.129Z"
   },
   {
    "duration": 8,
    "start_time": "2023-09-29T14:19:40.501Z"
   },
   {
    "duration": 204,
    "start_time": "2023-09-29T14:19:40.511Z"
   },
   {
    "duration": 10,
    "start_time": "2023-09-29T14:19:40.717Z"
   },
   {
    "duration": 195,
    "start_time": "2023-09-29T14:19:40.729Z"
   },
   {
    "duration": 10,
    "start_time": "2023-09-29T14:19:40.926Z"
   },
   {
    "duration": 62,
    "start_time": "2023-09-29T14:19:40.938Z"
   },
   {
    "duration": 177,
    "start_time": "2023-09-29T14:19:41.002Z"
   },
   {
    "duration": 6,
    "start_time": "2023-09-29T14:19:41.181Z"
   },
   {
    "duration": 29,
    "start_time": "2023-09-29T14:19:41.190Z"
   },
   {
    "duration": 20,
    "start_time": "2023-09-29T14:19:41.221Z"
   },
   {
    "duration": 188,
    "start_time": "2023-09-29T14:19:41.242Z"
   },
   {
    "duration": 12,
    "start_time": "2023-09-29T14:19:41.432Z"
   },
   {
    "duration": 12,
    "start_time": "2023-09-29T14:19:41.455Z"
   },
   {
    "duration": 22,
    "start_time": "2023-09-29T14:19:41.469Z"
   },
   {
    "duration": 170,
    "start_time": "2023-09-29T14:19:41.493Z"
   },
   {
    "duration": 11,
    "start_time": "2023-09-29T14:19:41.665Z"
   },
   {
    "duration": 284,
    "start_time": "2023-09-29T14:19:41.678Z"
   },
   {
    "duration": 10,
    "start_time": "2023-09-29T14:19:41.964Z"
   },
   {
    "duration": 12,
    "start_time": "2023-09-29T14:19:41.976Z"
   },
   {
    "duration": 8,
    "start_time": "2023-09-29T14:19:41.990Z"
   },
   {
    "duration": 178,
    "start_time": "2023-09-29T14:19:42.001Z"
   },
   {
    "duration": 8,
    "start_time": "2023-09-29T14:19:42.180Z"
   },
   {
    "duration": 146,
    "start_time": "2023-09-29T14:19:42.189Z"
   },
   {
    "duration": 169,
    "start_time": "2023-09-29T14:19:42.337Z"
   },
   {
    "duration": 161,
    "start_time": "2023-09-29T14:19:42.508Z"
   },
   {
    "duration": 11,
    "start_time": "2023-09-29T14:19:42.671Z"
   },
   {
    "duration": 1513,
    "start_time": "2023-09-29T14:19:42.684Z"
   },
   {
    "duration": 8,
    "start_time": "2023-09-29T14:19:44.199Z"
   },
   {
    "duration": 201,
    "start_time": "2023-09-29T14:19:44.209Z"
   },
   {
    "duration": 12,
    "start_time": "2023-09-29T14:19:44.412Z"
   },
   {
    "duration": 32,
    "start_time": "2023-09-29T14:19:44.426Z"
   },
   {
    "duration": 8,
    "start_time": "2023-09-29T14:19:44.460Z"
   },
   {
    "duration": 16,
    "start_time": "2023-09-29T14:19:44.469Z"
   },
   {
    "duration": 184,
    "start_time": "2023-09-29T14:19:44.487Z"
   },
   {
    "duration": 10,
    "start_time": "2023-09-29T14:19:44.673Z"
   },
   {
    "duration": 366,
    "start_time": "2023-09-29T14:19:44.685Z"
   },
   {
    "duration": 7,
    "start_time": "2023-09-29T14:19:45.053Z"
   },
   {
    "duration": 194,
    "start_time": "2023-09-29T14:19:45.062Z"
   },
   {
    "duration": 164,
    "start_time": "2023-09-29T14:19:45.259Z"
   },
   {
    "duration": 6,
    "start_time": "2023-09-29T14:19:45.425Z"
   },
   {
    "duration": 32,
    "start_time": "2023-09-29T14:19:45.433Z"
   },
   {
    "duration": 47,
    "start_time": "2023-09-29T14:19:45.467Z"
   },
   {
    "duration": 48,
    "start_time": "2023-09-29T14:20:06.727Z"
   },
   {
    "duration": 54,
    "start_time": "2023-09-29T14:20:16.765Z"
   },
   {
    "duration": 102,
    "start_time": "2023-09-29T14:20:49.826Z"
   },
   {
    "duration": 150,
    "start_time": "2023-09-29T14:20:54.978Z"
   },
   {
    "duration": 58,
    "start_time": "2023-09-29T14:21:01.165Z"
   },
   {
    "duration": 45,
    "start_time": "2023-09-29T14:23:22.452Z"
   },
   {
    "duration": 45,
    "start_time": "2023-09-29T14:26:49.164Z"
   },
   {
    "duration": 16,
    "start_time": "2023-09-29T14:28:33.889Z"
   },
   {
    "duration": 25,
    "start_time": "2023-09-29T14:28:46.889Z"
   },
   {
    "duration": 1180,
    "start_time": "2023-09-29T14:29:44.883Z"
   },
   {
    "duration": 466,
    "start_time": "2023-09-29T14:30:32.454Z"
   },
   {
    "duration": 1375,
    "start_time": "2023-09-29T14:33:55.094Z"
   },
   {
    "duration": 7,
    "start_time": "2023-09-29T14:33:56.472Z"
   },
   {
    "duration": 47,
    "start_time": "2023-09-29T14:33:56.481Z"
   },
   {
    "duration": 8,
    "start_time": "2023-09-29T14:33:56.531Z"
   },
   {
    "duration": 2298,
    "start_time": "2023-09-29T14:33:56.557Z"
   },
   {
    "duration": 14,
    "start_time": "2023-09-29T14:33:58.858Z"
   },
   {
    "duration": 25,
    "start_time": "2023-09-29T14:33:58.875Z"
   },
   {
    "duration": 7,
    "start_time": "2023-09-29T14:33:58.902Z"
   },
   {
    "duration": 45,
    "start_time": "2023-09-29T14:33:58.912Z"
   },
   {
    "duration": 22,
    "start_time": "2023-09-29T14:33:58.962Z"
   },
   {
    "duration": 32,
    "start_time": "2023-09-29T14:33:58.986Z"
   },
   {
    "duration": 37,
    "start_time": "2023-09-29T14:33:59.020Z"
   },
   {
    "duration": 262,
    "start_time": "2023-09-29T14:33:59.060Z"
   },
   {
    "duration": 9,
    "start_time": "2023-09-29T14:33:59.325Z"
   },
   {
    "duration": 33,
    "start_time": "2023-09-29T14:33:59.337Z"
   },
   {
    "duration": 17,
    "start_time": "2023-09-29T14:33:59.371Z"
   },
   {
    "duration": 13,
    "start_time": "2023-09-29T14:33:59.391Z"
   },
   {
    "duration": 19,
    "start_time": "2023-09-29T14:33:59.406Z"
   },
   {
    "duration": 370,
    "start_time": "2023-09-29T14:33:59.427Z"
   },
   {
    "duration": 8,
    "start_time": "2023-09-29T14:33:59.800Z"
   },
   {
    "duration": 187,
    "start_time": "2023-09-29T14:33:59.810Z"
   },
   {
    "duration": 9,
    "start_time": "2023-09-29T14:34:00.000Z"
   },
   {
    "duration": 267,
    "start_time": "2023-09-29T14:34:00.012Z"
   },
   {
    "duration": 10,
    "start_time": "2023-09-29T14:34:00.281Z"
   },
   {
    "duration": 85,
    "start_time": "2023-09-29T14:34:00.292Z"
   },
   {
    "duration": 194,
    "start_time": "2023-09-29T14:34:00.379Z"
   },
   {
    "duration": 7,
    "start_time": "2023-09-29T14:34:00.575Z"
   },
   {
    "duration": 82,
    "start_time": "2023-09-29T14:34:00.586Z"
   },
   {
    "duration": 93,
    "start_time": "2023-09-29T14:34:00.670Z"
   },
   {
    "duration": 265,
    "start_time": "2023-09-29T14:34:00.765Z"
   },
   {
    "duration": 13,
    "start_time": "2023-09-29T14:34:01.032Z"
   },
   {
    "duration": 36,
    "start_time": "2023-09-29T14:34:01.058Z"
   },
   {
    "duration": 101,
    "start_time": "2023-09-29T14:34:01.096Z"
   },
   {
    "duration": 242,
    "start_time": "2023-09-29T14:34:01.199Z"
   },
   {
    "duration": 19,
    "start_time": "2023-09-29T14:34:01.442Z"
   },
   {
    "duration": 272,
    "start_time": "2023-09-29T14:34:01.463Z"
   },
   {
    "duration": 21,
    "start_time": "2023-09-29T14:34:01.737Z"
   },
   {
    "duration": 64,
    "start_time": "2023-09-29T14:34:01.761Z"
   },
   {
    "duration": 29,
    "start_time": "2023-09-29T14:34:01.827Z"
   },
   {
    "duration": 179,
    "start_time": "2023-09-29T14:34:01.859Z"
   },
   {
    "duration": 17,
    "start_time": "2023-09-29T14:34:02.041Z"
   },
   {
    "duration": 213,
    "start_time": "2023-09-29T14:34:02.061Z"
   },
   {
    "duration": 197,
    "start_time": "2023-09-29T14:34:02.276Z"
   },
   {
    "duration": 172,
    "start_time": "2023-09-29T14:34:02.475Z"
   },
   {
    "duration": 18,
    "start_time": "2023-09-29T14:34:02.650Z"
   },
   {
    "duration": 1711,
    "start_time": "2023-09-29T14:34:02.671Z"
   },
   {
    "duration": 8,
    "start_time": "2023-09-29T14:34:04.384Z"
   },
   {
    "duration": 183,
    "start_time": "2023-09-29T14:34:04.394Z"
   },
   {
    "duration": 13,
    "start_time": "2023-09-29T14:34:04.578Z"
   },
   {
    "duration": 15,
    "start_time": "2023-09-29T14:34:04.593Z"
   },
   {
    "duration": 10,
    "start_time": "2023-09-29T14:34:04.611Z"
   },
   {
    "duration": 50,
    "start_time": "2023-09-29T14:34:04.624Z"
   },
   {
    "duration": 176,
    "start_time": "2023-09-29T14:34:04.676Z"
   },
   {
    "duration": 15,
    "start_time": "2023-09-29T14:34:04.857Z"
   },
   {
    "duration": 374,
    "start_time": "2023-09-29T14:34:04.874Z"
   },
   {
    "duration": 11,
    "start_time": "2023-09-29T14:34:05.250Z"
   },
   {
    "duration": 204,
    "start_time": "2023-09-29T14:34:05.262Z"
   },
   {
    "duration": 169,
    "start_time": "2023-09-29T14:34:05.469Z"
   },
   {
    "duration": 19,
    "start_time": "2023-09-29T14:34:05.641Z"
   },
   {
    "duration": 39,
    "start_time": "2023-09-29T14:34:05.663Z"
   },
   {
    "duration": 88,
    "start_time": "2023-09-29T14:34:05.705Z"
   },
   {
    "duration": 34,
    "start_time": "2023-09-29T14:34:05.794Z"
   },
   {
    "duration": 500,
    "start_time": "2023-09-29T14:34:05.831Z"
   },
   {
    "duration": 330,
    "start_time": "2023-09-29T14:38:27.280Z"
   },
   {
    "duration": 57,
    "start_time": "2023-09-30T12:06:55.787Z"
   },
   {
    "duration": 1207,
    "start_time": "2023-09-30T12:07:03.083Z"
   },
   {
    "duration": 5,
    "start_time": "2023-09-30T12:07:04.292Z"
   },
   {
    "duration": 25,
    "start_time": "2023-09-30T12:07:04.298Z"
   },
   {
    "duration": 19,
    "start_time": "2023-09-30T12:07:04.325Z"
   },
   {
    "duration": 1768,
    "start_time": "2023-09-30T12:07:04.346Z"
   },
   {
    "duration": 9,
    "start_time": "2023-09-30T12:07:06.115Z"
   },
   {
    "duration": 22,
    "start_time": "2023-09-30T12:07:06.126Z"
   },
   {
    "duration": 5,
    "start_time": "2023-09-30T12:07:06.149Z"
   },
   {
    "duration": 25,
    "start_time": "2023-09-30T12:07:06.156Z"
   },
   {
    "duration": 20,
    "start_time": "2023-09-30T12:07:06.182Z"
   },
   {
    "duration": 23,
    "start_time": "2023-09-30T12:07:06.203Z"
   },
   {
    "duration": 6,
    "start_time": "2023-09-30T12:07:06.227Z"
   },
   {
    "duration": 227,
    "start_time": "2023-09-30T12:07:06.235Z"
   },
   {
    "duration": 5,
    "start_time": "2023-09-30T12:07:06.464Z"
   },
   {
    "duration": 10,
    "start_time": "2023-09-30T12:07:06.471Z"
   },
   {
    "duration": 10,
    "start_time": "2023-09-30T12:07:06.482Z"
   },
   {
    "duration": 17,
    "start_time": "2023-09-30T12:07:06.494Z"
   },
   {
    "duration": 8,
    "start_time": "2023-09-30T12:07:06.512Z"
   },
   {
    "duration": 324,
    "start_time": "2023-09-30T12:07:06.544Z"
   },
   {
    "duration": 6,
    "start_time": "2023-09-30T12:07:06.870Z"
   },
   {
    "duration": 152,
    "start_time": "2023-09-30T12:07:06.878Z"
   },
   {
    "duration": 20,
    "start_time": "2023-09-30T12:07:07.031Z"
   },
   {
    "duration": 160,
    "start_time": "2023-09-30T12:07:07.052Z"
   },
   {
    "duration": 10,
    "start_time": "2023-09-30T12:07:07.214Z"
   },
   {
    "duration": 56,
    "start_time": "2023-09-30T12:07:07.226Z"
   },
   {
    "duration": 150,
    "start_time": "2023-09-30T12:07:07.284Z"
   },
   {
    "duration": 10,
    "start_time": "2023-09-30T12:07:07.436Z"
   },
   {
    "duration": 13,
    "start_time": "2023-09-30T12:07:07.447Z"
   },
   {
    "duration": 8,
    "start_time": "2023-09-30T12:07:07.461Z"
   },
   {
    "duration": 149,
    "start_time": "2023-09-30T12:07:07.470Z"
   },
   {
    "duration": 10,
    "start_time": "2023-09-30T12:07:07.620Z"
   },
   {
    "duration": 23,
    "start_time": "2023-09-30T12:07:07.631Z"
   },
   {
    "duration": 16,
    "start_time": "2023-09-30T12:07:07.656Z"
   },
   {
    "duration": 140,
    "start_time": "2023-09-30T12:07:07.675Z"
   },
   {
    "duration": 8,
    "start_time": "2023-09-30T12:07:07.816Z"
   },
   {
    "duration": 199,
    "start_time": "2023-09-30T12:07:07.825Z"
   },
   {
    "duration": 8,
    "start_time": "2023-09-30T12:07:08.025Z"
   },
   {
    "duration": 7,
    "start_time": "2023-09-30T12:07:08.044Z"
   },
   {
    "duration": 4,
    "start_time": "2023-09-30T12:07:08.053Z"
   },
   {
    "duration": 137,
    "start_time": "2023-09-30T12:07:08.058Z"
   },
   {
    "duration": 12,
    "start_time": "2023-09-30T12:07:08.202Z"
   },
   {
    "duration": 8,
    "start_time": "2023-09-30T12:07:08.216Z"
   },
   {
    "duration": 127,
    "start_time": "2023-09-30T12:07:08.225Z"
   },
   {
    "duration": 128,
    "start_time": "2023-09-30T12:07:08.354Z"
   },
   {
    "duration": 134,
    "start_time": "2023-09-30T12:07:08.484Z"
   },
   {
    "duration": 10,
    "start_time": "2023-09-30T12:07:08.620Z"
   },
   {
    "duration": 1251,
    "start_time": "2023-09-30T12:07:08.631Z"
   },
   {
    "duration": 6,
    "start_time": "2023-09-30T12:07:09.884Z"
   },
   {
    "duration": 159,
    "start_time": "2023-09-30T12:07:09.892Z"
   },
   {
    "duration": 10,
    "start_time": "2023-09-30T12:07:10.053Z"
   },
   {
    "duration": 21,
    "start_time": "2023-09-30T12:07:10.065Z"
   },
   {
    "duration": 21,
    "start_time": "2023-09-30T12:07:10.087Z"
   },
   {
    "duration": 14,
    "start_time": "2023-09-30T12:07:10.109Z"
   },
   {
    "duration": 146,
    "start_time": "2023-09-30T12:07:10.125Z"
   },
   {
    "duration": 10,
    "start_time": "2023-09-30T12:07:10.272Z"
   },
   {
    "duration": 296,
    "start_time": "2023-09-30T12:07:10.283Z"
   },
   {
    "duration": 6,
    "start_time": "2023-09-30T12:07:10.580Z"
   },
   {
    "duration": 149,
    "start_time": "2023-09-30T12:07:10.588Z"
   },
   {
    "duration": 125,
    "start_time": "2023-09-30T12:07:10.744Z"
   },
   {
    "duration": 5,
    "start_time": "2023-09-30T12:07:10.871Z"
   },
   {
    "duration": 14,
    "start_time": "2023-09-30T12:07:10.877Z"
   },
   {
    "duration": 56,
    "start_time": "2023-09-30T12:07:10.892Z"
   },
   {
    "duration": 18,
    "start_time": "2023-09-30T12:07:10.949Z"
   },
   {
    "duration": 367,
    "start_time": "2023-09-30T12:07:10.968Z"
   },
   {
    "duration": 55,
    "start_time": "2023-09-30T15:09:19.134Z"
   },
   {
    "duration": 1777,
    "start_time": "2023-09-30T15:09:26.745Z"
   },
   {
    "duration": 6,
    "start_time": "2023-09-30T15:09:28.524Z"
   },
   {
    "duration": 46,
    "start_time": "2023-09-30T15:09:28.532Z"
   },
   {
    "duration": 8,
    "start_time": "2023-09-30T15:09:28.580Z"
   },
   {
    "duration": 2152,
    "start_time": "2023-09-30T15:09:28.590Z"
   },
   {
    "duration": 10,
    "start_time": "2023-09-30T15:09:30.744Z"
   },
   {
    "duration": 86,
    "start_time": "2023-09-30T15:09:30.756Z"
   },
   {
    "duration": 50,
    "start_time": "2023-09-30T15:09:30.844Z"
   },
   {
    "duration": 42,
    "start_time": "2023-09-30T15:09:30.895Z"
   },
   {
    "duration": 76,
    "start_time": "2023-09-30T15:09:30.939Z"
   },
   {
    "duration": 71,
    "start_time": "2023-09-30T15:09:31.017Z"
   },
   {
    "duration": 18,
    "start_time": "2023-09-30T15:09:31.090Z"
   },
   {
    "duration": 260,
    "start_time": "2023-09-30T15:09:31.110Z"
   },
   {
    "duration": 6,
    "start_time": "2023-09-30T15:09:31.375Z"
   },
   {
    "duration": 38,
    "start_time": "2023-09-30T15:09:31.383Z"
   },
   {
    "duration": 40,
    "start_time": "2023-09-30T15:09:31.423Z"
   },
   {
    "duration": 45,
    "start_time": "2023-09-30T15:09:31.466Z"
   },
   {
    "duration": 80,
    "start_time": "2023-09-30T15:09:31.513Z"
   },
   {
    "duration": 446,
    "start_time": "2023-09-30T15:09:31.595Z"
   },
   {
    "duration": 7,
    "start_time": "2023-09-30T15:09:32.046Z"
   },
   {
    "duration": 177,
    "start_time": "2023-09-30T15:09:32.055Z"
   },
   {
    "duration": 15,
    "start_time": "2023-09-30T15:09:32.234Z"
   },
   {
    "duration": 197,
    "start_time": "2023-09-30T15:09:32.251Z"
   },
   {
    "duration": 10,
    "start_time": "2023-09-30T15:09:32.450Z"
   },
   {
    "duration": 65,
    "start_time": "2023-09-30T15:09:32.462Z"
   },
   {
    "duration": 185,
    "start_time": "2023-09-30T15:09:32.529Z"
   },
   {
    "duration": 6,
    "start_time": "2023-09-30T15:09:32.716Z"
   },
   {
    "duration": 37,
    "start_time": "2023-09-30T15:09:32.724Z"
   },
   {
    "duration": 68,
    "start_time": "2023-09-30T15:09:32.763Z"
   },
   {
    "duration": 208,
    "start_time": "2023-09-30T15:09:32.834Z"
   },
   {
    "duration": 11,
    "start_time": "2023-09-30T15:09:33.044Z"
   },
   {
    "duration": 20,
    "start_time": "2023-09-30T15:09:33.057Z"
   },
   {
    "duration": 30,
    "start_time": "2023-09-30T15:09:33.078Z"
   },
   {
    "duration": 142,
    "start_time": "2023-09-30T15:09:33.110Z"
   },
   {
    "duration": 8,
    "start_time": "2023-09-30T15:09:33.254Z"
   },
   {
    "duration": 482,
    "start_time": "2023-09-30T15:09:33.264Z"
   },
   {
    "duration": 10,
    "start_time": "2023-09-30T15:09:33.747Z"
   },
   {
    "duration": 7,
    "start_time": "2023-09-30T15:09:33.759Z"
   },
   {
    "duration": 11,
    "start_time": "2023-09-30T15:09:33.768Z"
   },
   {
    "duration": 172,
    "start_time": "2023-09-30T15:09:33.781Z"
   },
   {
    "duration": 6,
    "start_time": "2023-09-30T15:09:33.958Z"
   },
   {
    "duration": 142,
    "start_time": "2023-09-30T15:09:33.965Z"
   },
   {
    "duration": 171,
    "start_time": "2023-09-30T15:09:34.109Z"
   },
   {
    "duration": 162,
    "start_time": "2023-09-30T15:09:34.281Z"
   },
   {
    "duration": 12,
    "start_time": "2023-09-30T15:09:34.446Z"
   },
   {
    "duration": 1510,
    "start_time": "2023-09-30T15:09:34.459Z"
   },
   {
    "duration": 6,
    "start_time": "2023-09-30T15:09:35.971Z"
   },
   {
    "duration": 172,
    "start_time": "2023-09-30T15:09:35.978Z"
   },
   {
    "duration": 11,
    "start_time": "2023-09-30T15:09:36.151Z"
   },
   {
    "duration": 10,
    "start_time": "2023-09-30T15:09:36.164Z"
   },
   {
    "duration": 6,
    "start_time": "2023-09-30T15:09:36.175Z"
   },
   {
    "duration": 13,
    "start_time": "2023-09-30T15:09:36.182Z"
   },
   {
    "duration": 197,
    "start_time": "2023-09-30T15:09:36.197Z"
   },
   {
    "duration": 10,
    "start_time": "2023-09-30T15:09:36.395Z"
   },
   {
    "duration": 371,
    "start_time": "2023-09-30T15:09:36.407Z"
   },
   {
    "duration": 7,
    "start_time": "2023-09-30T15:09:36.779Z"
   },
   {
    "duration": 183,
    "start_time": "2023-09-30T15:09:36.787Z"
   },
   {
    "duration": 164,
    "start_time": "2023-09-30T15:09:36.972Z"
   },
   {
    "duration": 9,
    "start_time": "2023-09-30T15:09:37.138Z"
   },
   {
    "duration": 22,
    "start_time": "2023-09-30T15:09:37.149Z"
   },
   {
    "duration": 45,
    "start_time": "2023-09-30T15:09:37.172Z"
   },
   {
    "duration": 39,
    "start_time": "2023-09-30T15:09:37.219Z"
   },
   {
    "duration": 430,
    "start_time": "2023-09-30T15:09:37.260Z"
   },
   {
    "duration": 12,
    "start_time": "2023-09-30T15:13:35.164Z"
   },
   {
    "duration": 12,
    "start_time": "2023-09-30T15:13:46.231Z"
   },
   {
    "duration": 11,
    "start_time": "2023-09-30T15:14:46.663Z"
   },
   {
    "duration": 11,
    "start_time": "2023-09-30T15:14:59.368Z"
   },
   {
    "duration": 120,
    "start_time": "2023-09-30T15:16:32.453Z"
   },
   {
    "duration": 11,
    "start_time": "2023-09-30T15:16:44.005Z"
   },
   {
    "duration": 12,
    "start_time": "2023-09-30T15:16:53.651Z"
   },
   {
    "duration": 11,
    "start_time": "2023-09-30T15:16:58.891Z"
   },
   {
    "duration": 87,
    "start_time": "2023-09-30T19:49:00.462Z"
   },
   {
    "duration": 15,
    "start_time": "2023-09-30T19:57:40.861Z"
   },
   {
    "duration": 16,
    "start_time": "2023-09-30T19:58:53.792Z"
   },
   {
    "duration": 143,
    "start_time": "2023-09-30T19:59:49.791Z"
   },
   {
    "duration": 18,
    "start_time": "2023-09-30T20:00:17.296Z"
   },
   {
    "duration": 149,
    "start_time": "2023-09-30T20:00:45.638Z"
   },
   {
    "duration": 288,
    "start_time": "2023-09-30T20:00:50.281Z"
   },
   {
    "duration": 1422,
    "start_time": "2023-09-30T20:01:08.106Z"
   },
   {
    "duration": 6,
    "start_time": "2023-09-30T20:01:09.530Z"
   },
   {
    "duration": 63,
    "start_time": "2023-09-30T20:01:09.547Z"
   },
   {
    "duration": 43,
    "start_time": "2023-09-30T20:01:09.613Z"
   },
   {
    "duration": 2248,
    "start_time": "2023-09-30T20:01:09.657Z"
   },
   {
    "duration": 16,
    "start_time": "2023-09-30T20:01:11.907Z"
   },
   {
    "duration": 19,
    "start_time": "2023-09-30T20:01:11.925Z"
   },
   {
    "duration": 16,
    "start_time": "2023-09-30T20:01:11.946Z"
   },
   {
    "duration": 17,
    "start_time": "2023-09-30T20:01:11.964Z"
   },
   {
    "duration": 18,
    "start_time": "2023-09-30T20:01:11.983Z"
   },
   {
    "duration": 52,
    "start_time": "2023-09-30T20:01:12.003Z"
   },
   {
    "duration": 7,
    "start_time": "2023-09-30T20:01:12.057Z"
   },
   {
    "duration": 249,
    "start_time": "2023-09-30T20:01:12.066Z"
   },
   {
    "duration": 6,
    "start_time": "2023-09-30T20:01:12.317Z"
   },
   {
    "duration": 23,
    "start_time": "2023-09-30T20:01:12.325Z"
   },
   {
    "duration": 13,
    "start_time": "2023-09-30T20:01:12.350Z"
   },
   {
    "duration": 8,
    "start_time": "2023-09-30T20:01:12.365Z"
   },
   {
    "duration": 9,
    "start_time": "2023-09-30T20:01:12.374Z"
   },
   {
    "duration": 382,
    "start_time": "2023-09-30T20:01:12.386Z"
   },
   {
    "duration": 7,
    "start_time": "2023-09-30T20:01:12.770Z"
   },
   {
    "duration": 177,
    "start_time": "2023-09-30T20:01:12.779Z"
   },
   {
    "duration": 10,
    "start_time": "2023-09-30T20:01:12.958Z"
   },
   {
    "duration": 185,
    "start_time": "2023-09-30T20:01:12.970Z"
   },
   {
    "duration": 10,
    "start_time": "2023-09-30T20:01:13.157Z"
   },
   {
    "duration": 60,
    "start_time": "2023-09-30T20:01:13.169Z"
   },
   {
    "duration": 195,
    "start_time": "2023-09-30T20:01:13.231Z"
   },
   {
    "duration": 6,
    "start_time": "2023-09-30T20:01:13.428Z"
   },
   {
    "duration": 12,
    "start_time": "2023-09-30T20:01:13.446Z"
   },
   {
    "duration": 14,
    "start_time": "2023-09-30T20:01:13.460Z"
   },
   {
    "duration": 166,
    "start_time": "2023-09-30T20:01:13.476Z"
   },
   {
    "duration": 12,
    "start_time": "2023-09-30T20:01:13.646Z"
   },
   {
    "duration": 33,
    "start_time": "2023-09-30T20:01:13.659Z"
   },
   {
    "duration": 22,
    "start_time": "2023-09-30T20:01:13.695Z"
   },
   {
    "duration": 150,
    "start_time": "2023-09-30T20:01:13.719Z"
   },
   {
    "duration": 9,
    "start_time": "2023-09-30T20:01:13.871Z"
   },
   {
    "duration": 253,
    "start_time": "2023-09-30T20:01:13.882Z"
   },
   {
    "duration": 17,
    "start_time": "2023-09-30T20:01:14.137Z"
   },
   {
    "duration": 9,
    "start_time": "2023-09-30T20:01:14.155Z"
   },
   {
    "duration": 13,
    "start_time": "2023-09-30T20:01:14.166Z"
   },
   {
    "duration": 272,
    "start_time": "2023-09-30T20:01:14.181Z"
   },
   {
    "duration": 7,
    "start_time": "2023-09-30T20:01:14.454Z"
   },
   {
    "duration": 16,
    "start_time": "2023-09-30T20:01:14.462Z"
   },
   {
    "duration": 146,
    "start_time": "2023-09-30T20:01:14.480Z"
   },
   {
    "duration": 167,
    "start_time": "2023-09-30T20:01:14.628Z"
   },
   {
    "duration": 158,
    "start_time": "2023-09-30T20:01:14.797Z"
   },
   {
    "duration": 11,
    "start_time": "2023-09-30T20:01:14.957Z"
   },
   {
    "duration": 1642,
    "start_time": "2023-09-30T20:01:14.970Z"
   },
   {
    "duration": 6,
    "start_time": "2023-09-30T20:01:16.614Z"
   },
   {
    "duration": 178,
    "start_time": "2023-09-30T20:01:16.622Z"
   },
   {
    "duration": 13,
    "start_time": "2023-09-30T20:01:16.802Z"
   },
   {
    "duration": 30,
    "start_time": "2023-09-30T20:01:16.817Z"
   },
   {
    "duration": 8,
    "start_time": "2023-09-30T20:01:16.848Z"
   },
   {
    "duration": 21,
    "start_time": "2023-09-30T20:01:16.857Z"
   },
   {
    "duration": 176,
    "start_time": "2023-09-30T20:01:16.879Z"
   },
   {
    "duration": 9,
    "start_time": "2023-09-30T20:01:17.057Z"
   },
   {
    "duration": 447,
    "start_time": "2023-09-30T20:01:17.068Z"
   },
   {
    "duration": 5,
    "start_time": "2023-09-30T20:01:17.517Z"
   },
   {
    "duration": 186,
    "start_time": "2023-09-30T20:01:17.524Z"
   },
   {
    "duration": 296,
    "start_time": "2023-09-30T20:01:17.712Z"
   },
   {
    "duration": 7,
    "start_time": "2023-09-30T20:01:18.010Z"
   },
   {
    "duration": 34,
    "start_time": "2023-09-30T20:01:18.018Z"
   },
   {
    "duration": 103,
    "start_time": "2023-09-30T20:01:18.054Z"
   },
   {
    "duration": 21,
    "start_time": "2023-09-30T20:01:18.159Z"
   },
   {
    "duration": 377,
    "start_time": "2023-09-30T20:01:18.182Z"
   },
   {
    "duration": 0,
    "start_time": "2023-09-30T20:03:22.122Z"
   },
   {
    "duration": 147,
    "start_time": "2023-09-30T20:05:29.552Z"
   },
   {
    "duration": 261,
    "start_time": "2023-09-30T20:05:40.765Z"
   },
   {
    "duration": 168,
    "start_time": "2023-09-30T20:10:27.694Z"
   },
   {
    "duration": 351,
    "start_time": "2023-09-30T20:11:00.122Z"
   },
   {
    "duration": 5,
    "start_time": "2023-09-30T20:11:46.624Z"
   },
   {
    "duration": 1467,
    "start_time": "2023-09-30T20:12:00.142Z"
   },
   {
    "duration": 6,
    "start_time": "2023-09-30T20:12:01.611Z"
   },
   {
    "duration": 74,
    "start_time": "2023-09-30T20:12:01.619Z"
   },
   {
    "duration": 29,
    "start_time": "2023-09-30T20:12:01.696Z"
   },
   {
    "duration": 2166,
    "start_time": "2023-09-30T20:12:01.727Z"
   },
   {
    "duration": 10,
    "start_time": "2023-09-30T20:12:03.895Z"
   },
   {
    "duration": 80,
    "start_time": "2023-09-30T20:12:03.907Z"
   },
   {
    "duration": 19,
    "start_time": "2023-09-30T20:12:03.988Z"
   },
   {
    "duration": 85,
    "start_time": "2023-09-30T20:12:04.009Z"
   },
   {
    "duration": 30,
    "start_time": "2023-09-30T20:12:04.097Z"
   },
   {
    "duration": 53,
    "start_time": "2023-09-30T20:12:04.129Z"
   },
   {
    "duration": 12,
    "start_time": "2023-09-30T20:12:04.184Z"
   },
   {
    "duration": 268,
    "start_time": "2023-09-30T20:12:04.198Z"
   },
   {
    "duration": 5,
    "start_time": "2023-09-30T20:12:04.468Z"
   },
   {
    "duration": 15,
    "start_time": "2023-09-30T20:12:04.475Z"
   },
   {
    "duration": 30,
    "start_time": "2023-09-30T20:12:04.491Z"
   },
   {
    "duration": 23,
    "start_time": "2023-09-30T20:12:04.523Z"
   },
   {
    "duration": 33,
    "start_time": "2023-09-30T20:12:04.548Z"
   },
   {
    "duration": 363,
    "start_time": "2023-09-30T20:12:04.583Z"
   },
   {
    "duration": 7,
    "start_time": "2023-09-30T20:12:04.948Z"
   },
   {
    "duration": 174,
    "start_time": "2023-09-30T20:12:04.957Z"
   },
   {
    "duration": 18,
    "start_time": "2023-09-30T20:12:05.133Z"
   },
   {
    "duration": 225,
    "start_time": "2023-09-30T20:12:05.153Z"
   },
   {
    "duration": 10,
    "start_time": "2023-09-30T20:12:05.380Z"
   },
   {
    "duration": 64,
    "start_time": "2023-09-30T20:12:05.392Z"
   },
   {
    "duration": 179,
    "start_time": "2023-09-30T20:12:05.459Z"
   },
   {
    "duration": 9,
    "start_time": "2023-09-30T20:12:05.640Z"
   },
   {
    "duration": 29,
    "start_time": "2023-09-30T20:12:05.654Z"
   },
   {
    "duration": 16,
    "start_time": "2023-09-30T20:12:05.685Z"
   },
   {
    "duration": 164,
    "start_time": "2023-09-30T20:12:05.703Z"
   },
   {
    "duration": 12,
    "start_time": "2023-09-30T20:12:05.868Z"
   },
   {
    "duration": 20,
    "start_time": "2023-09-30T20:12:05.882Z"
   },
   {
    "duration": 39,
    "start_time": "2023-09-30T20:12:05.904Z"
   },
   {
    "duration": 153,
    "start_time": "2023-09-30T20:12:05.945Z"
   },
   {
    "duration": 11,
    "start_time": "2023-09-30T20:12:06.100Z"
   },
   {
    "duration": 258,
    "start_time": "2023-09-30T20:12:06.113Z"
   },
   {
    "duration": 9,
    "start_time": "2023-09-30T20:12:06.373Z"
   },
   {
    "duration": 32,
    "start_time": "2023-09-30T20:12:06.384Z"
   },
   {
    "duration": 7,
    "start_time": "2023-09-30T20:12:06.418Z"
   },
   {
    "duration": 350,
    "start_time": "2023-09-30T20:12:06.427Z"
   },
   {
    "duration": 5,
    "start_time": "2023-09-30T20:12:06.779Z"
   },
   {
    "duration": 9,
    "start_time": "2023-09-30T20:12:06.786Z"
   },
   {
    "duration": 23,
    "start_time": "2023-09-30T20:12:06.797Z"
   },
   {
    "duration": 169,
    "start_time": "2023-09-30T20:12:06.822Z"
   },
   {
    "duration": 167,
    "start_time": "2023-09-30T20:12:06.994Z"
   },
   {
    "duration": 163,
    "start_time": "2023-09-30T20:12:07.163Z"
   },
   {
    "duration": 23,
    "start_time": "2023-09-30T20:12:07.329Z"
   },
   {
    "duration": 1474,
    "start_time": "2023-09-30T20:12:07.354Z"
   },
   {
    "duration": 18,
    "start_time": "2023-09-30T20:12:08.829Z"
   },
   {
    "duration": 177,
    "start_time": "2023-09-30T20:12:08.849Z"
   },
   {
    "duration": 19,
    "start_time": "2023-09-30T20:12:09.028Z"
   },
   {
    "duration": 13,
    "start_time": "2023-09-30T20:12:09.049Z"
   },
   {
    "duration": 10,
    "start_time": "2023-09-30T20:12:09.064Z"
   },
   {
    "duration": 16,
    "start_time": "2023-09-30T20:12:09.076Z"
   },
   {
    "duration": 187,
    "start_time": "2023-09-30T20:12:09.094Z"
   },
   {
    "duration": 9,
    "start_time": "2023-09-30T20:12:09.283Z"
   },
   {
    "duration": 365,
    "start_time": "2023-09-30T20:12:09.294Z"
   },
   {
    "duration": 6,
    "start_time": "2023-09-30T20:12:09.662Z"
   },
   {
    "duration": 183,
    "start_time": "2023-09-30T20:12:09.669Z"
   },
   {
    "duration": 287,
    "start_time": "2023-09-30T20:12:09.853Z"
   },
   {
    "duration": 8,
    "start_time": "2023-09-30T20:12:10.142Z"
   },
   {
    "duration": 168,
    "start_time": "2023-09-30T20:12:10.151Z"
   },
   {
    "duration": 78,
    "start_time": "2023-09-30T20:12:10.321Z"
   },
   {
    "duration": 54,
    "start_time": "2023-09-30T20:12:10.401Z"
   },
   {
    "duration": 328,
    "start_time": "2023-09-30T20:12:10.457Z"
   },
   {
    "duration": 313,
    "start_time": "2023-09-30T20:16:37.872Z"
   },
   {
    "duration": 311,
    "start_time": "2023-09-30T20:16:48.323Z"
   },
   {
    "duration": 327,
    "start_time": "2023-09-30T20:16:54.044Z"
   },
   {
    "duration": 13,
    "start_time": "2023-09-30T20:22:14.243Z"
   },
   {
    "duration": 1364,
    "start_time": "2023-09-30T20:23:02.374Z"
   },
   {
    "duration": 8,
    "start_time": "2023-09-30T20:23:03.740Z"
   },
   {
    "duration": 46,
    "start_time": "2023-09-30T20:23:03.750Z"
   },
   {
    "duration": 22,
    "start_time": "2023-09-30T20:23:03.798Z"
   },
   {
    "duration": 2241,
    "start_time": "2023-09-30T20:23:03.821Z"
   },
   {
    "duration": 14,
    "start_time": "2023-09-30T20:23:06.064Z"
   },
   {
    "duration": 31,
    "start_time": "2023-09-30T20:23:06.080Z"
   },
   {
    "duration": 7,
    "start_time": "2023-09-30T20:23:06.113Z"
   },
   {
    "duration": 19,
    "start_time": "2023-09-30T20:23:06.122Z"
   },
   {
    "duration": 12,
    "start_time": "2023-09-30T20:23:06.146Z"
   },
   {
    "duration": 48,
    "start_time": "2023-09-30T20:23:06.160Z"
   },
   {
    "duration": 8,
    "start_time": "2023-09-30T20:23:06.209Z"
   },
   {
    "duration": 237,
    "start_time": "2023-09-30T20:23:06.219Z"
   },
   {
    "duration": 7,
    "start_time": "2023-09-30T20:23:06.457Z"
   },
   {
    "duration": 134,
    "start_time": "2023-09-30T20:23:06.466Z"
   },
   {
    "duration": 32,
    "start_time": "2023-09-30T20:23:06.602Z"
   },
   {
    "duration": 13,
    "start_time": "2023-09-30T20:23:06.636Z"
   },
   {
    "duration": 26,
    "start_time": "2023-09-30T20:23:06.651Z"
   },
   {
    "duration": 374,
    "start_time": "2023-09-30T20:23:06.679Z"
   },
   {
    "duration": 8,
    "start_time": "2023-09-30T20:23:07.055Z"
   },
   {
    "duration": 183,
    "start_time": "2023-09-30T20:23:07.065Z"
   },
   {
    "duration": 9,
    "start_time": "2023-09-30T20:23:07.250Z"
   },
   {
    "duration": 187,
    "start_time": "2023-09-30T20:23:07.260Z"
   },
   {
    "duration": 9,
    "start_time": "2023-09-30T20:23:07.448Z"
   },
   {
    "duration": 60,
    "start_time": "2023-09-30T20:23:07.459Z"
   },
   {
    "duration": 179,
    "start_time": "2023-09-30T20:23:07.520Z"
   },
   {
    "duration": 6,
    "start_time": "2023-09-30T20:23:07.700Z"
   },
   {
    "duration": 29,
    "start_time": "2023-09-30T20:23:07.711Z"
   },
   {
    "duration": 9,
    "start_time": "2023-09-30T20:23:07.741Z"
   },
   {
    "duration": 173,
    "start_time": "2023-09-30T20:23:07.752Z"
   },
   {
    "duration": 19,
    "start_time": "2023-09-30T20:23:07.927Z"
   },
   {
    "duration": 9,
    "start_time": "2023-09-30T20:23:07.948Z"
   },
   {
    "duration": 13,
    "start_time": "2023-09-30T20:23:07.959Z"
   },
   {
    "duration": 176,
    "start_time": "2023-09-30T20:23:07.974Z"
   },
   {
    "duration": 10,
    "start_time": "2023-09-30T20:23:08.151Z"
   },
   {
    "duration": 259,
    "start_time": "2023-09-30T20:23:08.162Z"
   },
   {
    "duration": 9,
    "start_time": "2023-09-30T20:23:08.423Z"
   },
   {
    "duration": 19,
    "start_time": "2023-09-30T20:23:08.434Z"
   },
   {
    "duration": 6,
    "start_time": "2023-09-30T20:23:08.454Z"
   },
   {
    "duration": 358,
    "start_time": "2023-09-30T20:23:08.462Z"
   },
   {
    "duration": 28,
    "start_time": "2023-09-30T20:23:08.823Z"
   },
   {
    "duration": 7,
    "start_time": "2023-09-30T20:23:08.852Z"
   },
   {
    "duration": 29,
    "start_time": "2023-09-30T20:23:08.861Z"
   },
   {
    "duration": 5,
    "start_time": "2023-09-30T20:23:08.892Z"
   },
   {
    "duration": 8,
    "start_time": "2023-09-30T20:23:08.899Z"
   },
   {
    "duration": 161,
    "start_time": "2023-09-30T20:23:08.909Z"
   },
   {
    "duration": 179,
    "start_time": "2023-09-30T20:23:09.072Z"
   },
   {
    "duration": 162,
    "start_time": "2023-09-30T20:23:09.253Z"
   },
   {
    "duration": 11,
    "start_time": "2023-09-30T20:23:09.417Z"
   },
   {
    "duration": 1545,
    "start_time": "2023-09-30T20:23:09.430Z"
   },
   {
    "duration": 8,
    "start_time": "2023-09-30T20:23:10.977Z"
   },
   {
    "duration": 189,
    "start_time": "2023-09-30T20:23:10.987Z"
   },
   {
    "duration": 14,
    "start_time": "2023-09-30T20:23:11.178Z"
   },
   {
    "duration": 26,
    "start_time": "2023-09-30T20:23:11.194Z"
   },
   {
    "duration": 29,
    "start_time": "2023-09-30T20:23:11.223Z"
   },
   {
    "duration": 15,
    "start_time": "2023-09-30T20:23:11.255Z"
   },
   {
    "duration": 177,
    "start_time": "2023-09-30T20:23:11.272Z"
   },
   {
    "duration": 10,
    "start_time": "2023-09-30T20:23:11.450Z"
   },
   {
    "duration": 368,
    "start_time": "2023-09-30T20:23:11.462Z"
   },
   {
    "duration": 17,
    "start_time": "2023-09-30T20:23:11.832Z"
   },
   {
    "duration": 195,
    "start_time": "2023-09-30T20:23:11.851Z"
   },
   {
    "duration": 284,
    "start_time": "2023-09-30T20:23:12.048Z"
   },
   {
    "duration": 16,
    "start_time": "2023-09-30T20:23:12.334Z"
   },
   {
    "duration": 19,
    "start_time": "2023-09-30T20:23:12.351Z"
   },
   {
    "duration": 46,
    "start_time": "2023-09-30T20:23:12.372Z"
   },
   {
    "duration": 48,
    "start_time": "2023-09-30T20:23:12.419Z"
   },
   {
    "duration": 331,
    "start_time": "2023-09-30T20:23:12.469Z"
   },
   {
    "duration": 3,
    "start_time": "2023-09-30T20:24:18.765Z"
   },
   {
    "duration": 10,
    "start_time": "2023-09-30T20:24:29.435Z"
   },
   {
    "duration": 1385,
    "start_time": "2023-09-30T20:24:41.914Z"
   },
   {
    "duration": 6,
    "start_time": "2023-09-30T20:24:43.301Z"
   },
   {
    "duration": 37,
    "start_time": "2023-09-30T20:24:43.309Z"
   },
   {
    "duration": 8,
    "start_time": "2023-09-30T20:24:43.348Z"
   },
   {
    "duration": 2225,
    "start_time": "2023-09-30T20:24:43.357Z"
   },
   {
    "duration": 11,
    "start_time": "2023-09-30T20:24:45.584Z"
   },
   {
    "duration": 15,
    "start_time": "2023-09-30T20:24:45.596Z"
   },
   {
    "duration": 5,
    "start_time": "2023-09-30T20:24:45.613Z"
   },
   {
    "duration": 19,
    "start_time": "2023-09-30T20:24:45.620Z"
   },
   {
    "duration": 17,
    "start_time": "2023-09-30T20:24:45.642Z"
   },
   {
    "duration": 26,
    "start_time": "2023-09-30T20:24:45.661Z"
   },
   {
    "duration": 7,
    "start_time": "2023-09-30T20:24:45.689Z"
   },
   {
    "duration": 264,
    "start_time": "2023-09-30T20:24:45.697Z"
   },
   {
    "duration": 7,
    "start_time": "2023-09-30T20:24:45.963Z"
   },
   {
    "duration": 13,
    "start_time": "2023-09-30T20:24:45.971Z"
   },
   {
    "duration": 7,
    "start_time": "2023-09-30T20:24:45.986Z"
   },
   {
    "duration": 9,
    "start_time": "2023-09-30T20:24:45.995Z"
   },
   {
    "duration": 47,
    "start_time": "2023-09-30T20:24:46.005Z"
   },
   {
    "duration": 369,
    "start_time": "2023-09-30T20:24:46.054Z"
   },
   {
    "duration": 7,
    "start_time": "2023-09-30T20:24:46.425Z"
   },
   {
    "duration": 179,
    "start_time": "2023-09-30T20:24:46.434Z"
   },
   {
    "duration": 9,
    "start_time": "2023-09-30T20:24:46.615Z"
   },
   {
    "duration": 181,
    "start_time": "2023-09-30T20:24:46.626Z"
   },
   {
    "duration": 13,
    "start_time": "2023-09-30T20:24:46.809Z"
   },
   {
    "duration": 73,
    "start_time": "2023-09-30T20:24:46.824Z"
   },
   {
    "duration": 177,
    "start_time": "2023-09-30T20:24:46.899Z"
   },
   {
    "duration": 7,
    "start_time": "2023-09-30T20:24:47.078Z"
   },
   {
    "duration": 20,
    "start_time": "2023-09-30T20:24:47.090Z"
   },
   {
    "duration": 10,
    "start_time": "2023-09-30T20:24:47.112Z"
   },
   {
    "duration": 191,
    "start_time": "2023-09-30T20:24:47.124Z"
   },
   {
    "duration": 12,
    "start_time": "2023-09-30T20:24:47.317Z"
   },
   {
    "duration": 21,
    "start_time": "2023-09-30T20:24:47.331Z"
   },
   {
    "duration": 17,
    "start_time": "2023-09-30T20:24:47.353Z"
   },
   {
    "duration": 158,
    "start_time": "2023-09-30T20:24:47.373Z"
   },
   {
    "duration": 20,
    "start_time": "2023-09-30T20:24:47.533Z"
   },
   {
    "duration": 250,
    "start_time": "2023-09-30T20:24:47.555Z"
   },
   {
    "duration": 9,
    "start_time": "2023-09-30T20:24:47.807Z"
   },
   {
    "duration": 14,
    "start_time": "2023-09-30T20:24:47.818Z"
   },
   {
    "duration": 6,
    "start_time": "2023-09-30T20:24:47.847Z"
   },
   {
    "duration": 356,
    "start_time": "2023-09-30T20:24:47.854Z"
   },
   {
    "duration": 4,
    "start_time": "2023-09-30T20:24:48.211Z"
   },
   {
    "duration": 13,
    "start_time": "2023-09-30T20:24:48.217Z"
   },
   {
    "duration": 10,
    "start_time": "2023-09-30T20:24:48.247Z"
   },
   {
    "duration": 18,
    "start_time": "2023-09-30T20:24:48.259Z"
   },
   {
    "duration": 9,
    "start_time": "2023-09-30T20:24:48.278Z"
   },
   {
    "duration": 140,
    "start_time": "2023-09-30T20:24:48.288Z"
   },
   {
    "duration": 160,
    "start_time": "2023-09-30T20:24:48.430Z"
   },
   {
    "duration": 154,
    "start_time": "2023-09-30T20:24:48.592Z"
   },
   {
    "duration": 13,
    "start_time": "2023-09-30T20:24:48.748Z"
   },
   {
    "duration": 1505,
    "start_time": "2023-09-30T20:24:48.763Z"
   },
   {
    "duration": 6,
    "start_time": "2023-09-30T20:24:50.270Z"
   },
   {
    "duration": 207,
    "start_time": "2023-09-30T20:24:50.277Z"
   },
   {
    "duration": 13,
    "start_time": "2023-09-30T20:24:50.486Z"
   },
   {
    "duration": 19,
    "start_time": "2023-09-30T20:24:50.501Z"
   },
   {
    "duration": 29,
    "start_time": "2023-09-30T20:24:50.523Z"
   },
   {
    "duration": 36,
    "start_time": "2023-09-30T20:24:50.554Z"
   },
   {
    "duration": 160,
    "start_time": "2023-09-30T20:24:50.592Z"
   },
   {
    "duration": 10,
    "start_time": "2023-09-30T20:24:50.754Z"
   },
   {
    "duration": 365,
    "start_time": "2023-09-30T20:24:50.766Z"
   },
   {
    "duration": 14,
    "start_time": "2023-09-30T20:24:51.133Z"
   },
   {
    "duration": 209,
    "start_time": "2023-09-30T20:24:51.149Z"
   },
   {
    "duration": 289,
    "start_time": "2023-09-30T20:24:51.360Z"
   },
   {
    "duration": 8,
    "start_time": "2023-09-30T20:24:51.651Z"
   },
   {
    "duration": 68,
    "start_time": "2023-09-30T20:24:51.660Z"
   },
   {
    "duration": 146,
    "start_time": "2023-09-30T20:24:51.730Z"
   },
   {
    "duration": 24,
    "start_time": "2023-09-30T20:24:51.878Z"
   },
   {
    "duration": 370,
    "start_time": "2023-09-30T20:24:51.904Z"
   },
   {
    "duration": 4,
    "start_time": "2023-09-30T20:26:15.183Z"
   },
   {
    "duration": 9,
    "start_time": "2023-09-30T20:26:18.493Z"
   },
   {
    "duration": 1691,
    "start_time": "2023-10-01T04:46:41.882Z"
   },
   {
    "duration": 7,
    "start_time": "2023-10-01T04:46:43.575Z"
   },
   {
    "duration": 24,
    "start_time": "2023-10-01T04:46:43.583Z"
   },
   {
    "duration": 6,
    "start_time": "2023-10-01T04:46:43.608Z"
   },
   {
    "duration": 1867,
    "start_time": "2023-10-01T04:46:43.623Z"
   },
   {
    "duration": 10,
    "start_time": "2023-10-01T04:46:45.491Z"
   },
   {
    "duration": 61,
    "start_time": "2023-10-01T04:46:45.502Z"
   },
   {
    "duration": 5,
    "start_time": "2023-10-01T04:46:45.564Z"
   },
   {
    "duration": 10,
    "start_time": "2023-10-01T04:46:45.570Z"
   },
   {
    "duration": 12,
    "start_time": "2023-10-01T04:46:45.581Z"
   },
   {
    "duration": 24,
    "start_time": "2023-10-01T04:46:45.595Z"
   },
   {
    "duration": 6,
    "start_time": "2023-10-01T04:46:45.620Z"
   },
   {
    "duration": 230,
    "start_time": "2023-10-01T04:46:45.628Z"
   },
   {
    "duration": 7,
    "start_time": "2023-10-01T04:46:45.862Z"
   },
   {
    "duration": 9,
    "start_time": "2023-10-01T04:46:45.871Z"
   },
   {
    "duration": 7,
    "start_time": "2023-10-01T04:46:45.881Z"
   },
   {
    "duration": 6,
    "start_time": "2023-10-01T04:46:45.889Z"
   },
   {
    "duration": 30,
    "start_time": "2023-10-01T04:46:45.897Z"
   },
   {
    "duration": 335,
    "start_time": "2023-10-01T04:46:45.929Z"
   },
   {
    "duration": 6,
    "start_time": "2023-10-01T04:46:46.266Z"
   },
   {
    "duration": 156,
    "start_time": "2023-10-01T04:46:46.274Z"
   },
   {
    "duration": 9,
    "start_time": "2023-10-01T04:46:46.432Z"
   },
   {
    "duration": 162,
    "start_time": "2023-10-01T04:46:46.442Z"
   },
   {
    "duration": 19,
    "start_time": "2023-10-01T04:46:46.605Z"
   },
   {
    "duration": 39,
    "start_time": "2023-10-01T04:46:46.625Z"
   },
   {
    "duration": 162,
    "start_time": "2023-10-01T04:46:46.665Z"
   },
   {
    "duration": 6,
    "start_time": "2023-10-01T04:46:46.828Z"
   },
   {
    "duration": 18,
    "start_time": "2023-10-01T04:46:46.836Z"
   },
   {
    "duration": 7,
    "start_time": "2023-10-01T04:46:46.856Z"
   },
   {
    "duration": 182,
    "start_time": "2023-10-01T04:46:46.865Z"
   },
   {
    "duration": 10,
    "start_time": "2023-10-01T04:46:47.049Z"
   },
   {
    "duration": 12,
    "start_time": "2023-10-01T04:46:47.061Z"
   },
   {
    "duration": 8,
    "start_time": "2023-10-01T04:46:47.075Z"
   },
   {
    "duration": 147,
    "start_time": "2023-10-01T04:46:47.084Z"
   },
   {
    "duration": 8,
    "start_time": "2023-10-01T04:46:47.233Z"
   },
   {
    "duration": 230,
    "start_time": "2023-10-01T04:46:47.243Z"
   },
   {
    "duration": 10,
    "start_time": "2023-10-01T04:46:47.475Z"
   },
   {
    "duration": 8,
    "start_time": "2023-10-01T04:46:47.487Z"
   },
   {
    "duration": 30,
    "start_time": "2023-10-01T04:46:47.497Z"
   },
   {
    "duration": 289,
    "start_time": "2023-10-01T04:46:47.528Z"
   },
   {
    "duration": 9,
    "start_time": "2023-10-01T04:46:47.823Z"
   },
   {
    "duration": 4,
    "start_time": "2023-10-01T04:46:47.834Z"
   },
   {
    "duration": 9,
    "start_time": "2023-10-01T04:46:47.839Z"
   },
   {
    "duration": 5,
    "start_time": "2023-10-01T04:46:47.849Z"
   },
   {
    "duration": 7,
    "start_time": "2023-10-01T04:46:47.855Z"
   },
   {
    "duration": 143,
    "start_time": "2023-10-01T04:46:47.864Z"
   },
   {
    "duration": 141,
    "start_time": "2023-10-01T04:46:48.009Z"
   },
   {
    "duration": 139,
    "start_time": "2023-10-01T04:46:48.152Z"
   },
   {
    "duration": 9,
    "start_time": "2023-10-01T04:46:48.293Z"
   },
   {
    "duration": 1283,
    "start_time": "2023-10-01T04:46:48.304Z"
   },
   {
    "duration": 6,
    "start_time": "2023-10-01T04:46:49.588Z"
   },
   {
    "duration": 162,
    "start_time": "2023-10-01T04:46:49.596Z"
   },
   {
    "duration": 11,
    "start_time": "2023-10-01T04:46:49.760Z"
   },
   {
    "duration": 18,
    "start_time": "2023-10-01T04:46:49.772Z"
   },
   {
    "duration": 6,
    "start_time": "2023-10-01T04:46:49.791Z"
   },
   {
    "duration": 32,
    "start_time": "2023-10-01T04:46:49.798Z"
   },
   {
    "duration": 138,
    "start_time": "2023-10-01T04:46:49.831Z"
   },
   {
    "duration": 9,
    "start_time": "2023-10-01T04:46:49.971Z"
   },
   {
    "duration": 327,
    "start_time": "2023-10-01T04:46:49.981Z"
   },
   {
    "duration": 6,
    "start_time": "2023-10-01T04:46:50.309Z"
   },
   {
    "duration": 176,
    "start_time": "2023-10-01T04:46:50.317Z"
   },
   {
    "duration": 242,
    "start_time": "2023-10-01T04:46:50.494Z"
   },
   {
    "duration": 6,
    "start_time": "2023-10-01T04:46:50.738Z"
   },
   {
    "duration": 28,
    "start_time": "2023-10-01T04:46:50.745Z"
   },
   {
    "duration": 39,
    "start_time": "2023-10-01T04:46:50.775Z"
   },
   {
    "duration": 25,
    "start_time": "2023-10-01T04:46:50.816Z"
   },
   {
    "duration": 285,
    "start_time": "2023-10-01T04:46:50.843Z"
   },
   {
    "duration": 286,
    "start_time": "2023-10-01T04:48:27.340Z"
   },
   {
    "duration": 8,
    "start_time": "2023-10-01T04:49:48.312Z"
   },
   {
    "duration": 1316,
    "start_time": "2023-10-01T04:49:54.114Z"
   },
   {
    "duration": 6,
    "start_time": "2023-10-01T04:49:55.432Z"
   },
   {
    "duration": 25,
    "start_time": "2023-10-01T04:49:55.439Z"
   },
   {
    "duration": 8,
    "start_time": "2023-10-01T04:49:55.466Z"
   },
   {
    "duration": 1923,
    "start_time": "2023-10-01T04:49:55.475Z"
   },
   {
    "duration": 10,
    "start_time": "2023-10-01T04:49:57.399Z"
   },
   {
    "duration": 22,
    "start_time": "2023-10-01T04:49:57.411Z"
   },
   {
    "duration": 6,
    "start_time": "2023-10-01T04:49:57.435Z"
   },
   {
    "duration": 13,
    "start_time": "2023-10-01T04:49:57.443Z"
   },
   {
    "duration": 18,
    "start_time": "2023-10-01T04:49:57.459Z"
   },
   {
    "duration": 27,
    "start_time": "2023-10-01T04:49:57.479Z"
   },
   {
    "duration": 8,
    "start_time": "2023-10-01T04:49:57.524Z"
   },
   {
    "duration": 212,
    "start_time": "2023-10-01T04:49:57.534Z"
   },
   {
    "duration": 5,
    "start_time": "2023-10-01T04:49:57.747Z"
   },
   {
    "duration": 145,
    "start_time": "2023-10-01T04:49:57.753Z"
   },
   {
    "duration": 170,
    "start_time": "2023-10-01T04:49:57.900Z"
   },
   {
    "duration": 64,
    "start_time": "2023-10-01T04:49:58.071Z"
   },
   {
    "duration": 94,
    "start_time": "2023-10-01T04:49:58.137Z"
   },
   {
    "duration": 353,
    "start_time": "2023-10-01T04:49:58.233Z"
   },
   {
    "duration": 6,
    "start_time": "2023-10-01T04:49:58.588Z"
   },
   {
    "duration": 218,
    "start_time": "2023-10-01T04:49:58.595Z"
   },
   {
    "duration": 15,
    "start_time": "2023-10-01T04:49:58.815Z"
   },
   {
    "duration": 162,
    "start_time": "2023-10-01T04:49:58.831Z"
   },
   {
    "duration": 9,
    "start_time": "2023-10-01T04:49:58.995Z"
   },
   {
    "duration": 51,
    "start_time": "2023-10-01T04:49:59.006Z"
   },
   {
    "duration": 167,
    "start_time": "2023-10-01T04:49:59.059Z"
   },
   {
    "duration": 6,
    "start_time": "2023-10-01T04:49:59.227Z"
   },
   {
    "duration": 26,
    "start_time": "2023-10-01T04:49:59.236Z"
   },
   {
    "duration": 6,
    "start_time": "2023-10-01T04:49:59.264Z"
   },
   {
    "duration": 141,
    "start_time": "2023-10-01T04:49:59.272Z"
   },
   {
    "duration": 18,
    "start_time": "2023-10-01T04:49:59.415Z"
   },
   {
    "duration": 28,
    "start_time": "2023-10-01T04:49:59.434Z"
   },
   {
    "duration": 22,
    "start_time": "2023-10-01T04:49:59.463Z"
   },
   {
    "duration": 128,
    "start_time": "2023-10-01T04:49:59.487Z"
   },
   {
    "duration": 13,
    "start_time": "2023-10-01T04:49:59.616Z"
   },
   {
    "duration": 248,
    "start_time": "2023-10-01T04:49:59.631Z"
   },
   {
    "duration": 8,
    "start_time": "2023-10-01T04:49:59.881Z"
   },
   {
    "duration": 7,
    "start_time": "2023-10-01T04:49:59.891Z"
   },
   {
    "duration": 25,
    "start_time": "2023-10-01T04:49:59.900Z"
   },
   {
    "duration": 311,
    "start_time": "2023-10-01T04:49:59.927Z"
   },
   {
    "duration": 10,
    "start_time": "2023-10-01T04:50:00.239Z"
   },
   {
    "duration": 26,
    "start_time": "2023-10-01T04:50:00.250Z"
   },
   {
    "duration": 39,
    "start_time": "2023-10-01T04:50:00.277Z"
   },
   {
    "duration": 79,
    "start_time": "2023-10-01T04:50:00.318Z"
   },
   {
    "duration": 48,
    "start_time": "2023-10-01T04:50:00.399Z"
   },
   {
    "duration": 139,
    "start_time": "2023-10-01T04:50:00.448Z"
   },
   {
    "duration": 143,
    "start_time": "2023-10-01T04:50:00.589Z"
   },
   {
    "duration": 138,
    "start_time": "2023-10-01T04:50:00.733Z"
   },
   {
    "duration": 11,
    "start_time": "2023-10-01T04:50:00.872Z"
   },
   {
    "duration": 1395,
    "start_time": "2023-10-01T04:50:00.885Z"
   },
   {
    "duration": 5,
    "start_time": "2023-10-01T04:50:02.282Z"
   },
   {
    "duration": 192,
    "start_time": "2023-10-01T04:50:02.289Z"
   },
   {
    "duration": 11,
    "start_time": "2023-10-01T04:50:02.483Z"
   },
   {
    "duration": 305,
    "start_time": "2023-10-01T04:50:02.495Z"
   },
   {
    "duration": 251,
    "start_time": "2023-10-01T04:50:02.802Z"
   },
   {
    "duration": 99,
    "start_time": "2023-10-01T04:50:03.055Z"
   },
   {
    "duration": 318,
    "start_time": "2023-10-01T04:50:03.156Z"
   },
   {
    "duration": 58,
    "start_time": "2023-10-01T04:50:03.476Z"
   },
   {
    "duration": 696,
    "start_time": "2023-10-01T04:50:03.536Z"
   },
   {
    "duration": 5,
    "start_time": "2023-10-01T04:50:04.234Z"
   },
   {
    "duration": 394,
    "start_time": "2023-10-01T04:50:04.241Z"
   },
   {
    "duration": 510,
    "start_time": "2023-10-01T04:50:04.636Z"
   },
   {
    "duration": 7,
    "start_time": "2023-10-01T04:50:05.147Z"
   },
   {
    "duration": 81,
    "start_time": "2023-10-01T04:50:05.155Z"
   },
   {
    "duration": 379,
    "start_time": "2023-10-01T04:50:05.238Z"
   },
   {
    "duration": 221,
    "start_time": "2023-10-01T04:50:05.619Z"
   },
   {
    "duration": 392,
    "start_time": "2023-10-01T04:50:05.842Z"
   },
   {
    "duration": 1298,
    "start_time": "2023-10-01T04:56:21.796Z"
   },
   {
    "duration": 5,
    "start_time": "2023-10-01T04:56:23.096Z"
   },
   {
    "duration": 58,
    "start_time": "2023-10-01T04:56:23.103Z"
   },
   {
    "duration": 15,
    "start_time": "2023-10-01T04:56:23.163Z"
   },
   {
    "duration": 1910,
    "start_time": "2023-10-01T04:56:23.180Z"
   },
   {
    "duration": 11,
    "start_time": "2023-10-01T04:56:25.091Z"
   },
   {
    "duration": 37,
    "start_time": "2023-10-01T04:56:25.105Z"
   },
   {
    "duration": 6,
    "start_time": "2023-10-01T04:56:25.143Z"
   },
   {
    "duration": 30,
    "start_time": "2023-10-01T04:56:25.150Z"
   },
   {
    "duration": 33,
    "start_time": "2023-10-01T04:56:25.182Z"
   },
   {
    "duration": 38,
    "start_time": "2023-10-01T04:56:25.216Z"
   },
   {
    "duration": 9,
    "start_time": "2023-10-01T04:56:25.256Z"
   },
   {
    "duration": 208,
    "start_time": "2023-10-01T04:56:25.266Z"
   },
   {
    "duration": 5,
    "start_time": "2023-10-01T04:56:25.476Z"
   },
   {
    "duration": 14,
    "start_time": "2023-10-01T04:56:25.482Z"
   },
   {
    "duration": 11,
    "start_time": "2023-10-01T04:56:25.498Z"
   },
   {
    "duration": 27,
    "start_time": "2023-10-01T04:56:25.511Z"
   },
   {
    "duration": 16,
    "start_time": "2023-10-01T04:56:25.540Z"
   },
   {
    "duration": 349,
    "start_time": "2023-10-01T04:56:25.557Z"
   },
   {
    "duration": 6,
    "start_time": "2023-10-01T04:56:25.908Z"
   },
   {
    "duration": 162,
    "start_time": "2023-10-01T04:56:25.924Z"
   },
   {
    "duration": 8,
    "start_time": "2023-10-01T04:56:26.087Z"
   },
   {
    "duration": 160,
    "start_time": "2023-10-01T04:56:26.096Z"
   },
   {
    "duration": 9,
    "start_time": "2023-10-01T04:56:26.258Z"
   },
   {
    "duration": 68,
    "start_time": "2023-10-01T04:56:26.268Z"
   },
   {
    "duration": 158,
    "start_time": "2023-10-01T04:56:26.338Z"
   },
   {
    "duration": 6,
    "start_time": "2023-10-01T04:56:26.498Z"
   },
   {
    "duration": 24,
    "start_time": "2023-10-01T04:56:26.507Z"
   },
   {
    "duration": 17,
    "start_time": "2023-10-01T04:56:26.533Z"
   },
   {
    "duration": 164,
    "start_time": "2023-10-01T04:56:26.551Z"
   },
   {
    "duration": 11,
    "start_time": "2023-10-01T04:56:26.724Z"
   },
   {
    "duration": 33,
    "start_time": "2023-10-01T04:56:26.736Z"
   },
   {
    "duration": 19,
    "start_time": "2023-10-01T04:56:26.771Z"
   },
   {
    "duration": 135,
    "start_time": "2023-10-01T04:56:26.791Z"
   },
   {
    "duration": 9,
    "start_time": "2023-10-01T04:56:26.928Z"
   },
   {
    "duration": 220,
    "start_time": "2023-10-01T04:56:26.938Z"
   },
   {
    "duration": 9,
    "start_time": "2023-10-01T04:56:27.160Z"
   },
   {
    "duration": 12,
    "start_time": "2023-10-01T04:56:27.170Z"
   },
   {
    "duration": 18,
    "start_time": "2023-10-01T04:56:27.184Z"
   },
   {
    "duration": 288,
    "start_time": "2023-10-01T04:56:27.204Z"
   },
   {
    "duration": 8,
    "start_time": "2023-10-01T04:56:27.494Z"
   },
   {
    "duration": 20,
    "start_time": "2023-10-01T04:56:27.503Z"
   },
   {
    "duration": 30,
    "start_time": "2023-10-01T04:56:27.525Z"
   },
   {
    "duration": 4,
    "start_time": "2023-10-01T04:56:27.557Z"
   },
   {
    "duration": 29,
    "start_time": "2023-10-01T04:56:27.562Z"
   },
   {
    "duration": 111,
    "start_time": "2023-10-01T04:56:27.592Z"
   },
   {
    "duration": 142,
    "start_time": "2023-10-01T04:56:27.704Z"
   },
   {
    "duration": 138,
    "start_time": "2023-10-01T04:56:27.847Z"
   },
   {
    "duration": 10,
    "start_time": "2023-10-01T04:56:27.986Z"
   },
   {
    "duration": 1265,
    "start_time": "2023-10-01T04:56:27.997Z"
   },
   {
    "duration": 5,
    "start_time": "2023-10-01T04:56:29.264Z"
   },
   {
    "duration": 155,
    "start_time": "2023-10-01T04:56:29.270Z"
   },
   {
    "duration": 10,
    "start_time": "2023-10-01T04:56:29.426Z"
   },
   {
    "duration": 16,
    "start_time": "2023-10-01T04:56:29.437Z"
   },
   {
    "duration": 23,
    "start_time": "2023-10-01T04:56:29.455Z"
   },
   {
    "duration": 24,
    "start_time": "2023-10-01T04:56:29.479Z"
   },
   {
    "duration": 132,
    "start_time": "2023-10-01T04:56:29.504Z"
   },
   {
    "duration": 9,
    "start_time": "2023-10-01T04:56:29.638Z"
   },
   {
    "duration": 313,
    "start_time": "2023-10-01T04:56:29.649Z"
   },
   {
    "duration": 5,
    "start_time": "2023-10-01T04:56:29.964Z"
   },
   {
    "duration": 158,
    "start_time": "2023-10-01T04:56:29.970Z"
   },
   {
    "duration": 270,
    "start_time": "2023-10-01T04:56:30.129Z"
   },
   {
    "duration": 5,
    "start_time": "2023-10-01T04:56:30.401Z"
   },
   {
    "duration": 50,
    "start_time": "2023-10-01T04:56:30.408Z"
   },
   {
    "duration": 102,
    "start_time": "2023-10-01T04:56:30.460Z"
   },
   {
    "duration": 40,
    "start_time": "2023-10-01T04:56:30.563Z"
   },
   {
    "duration": 308,
    "start_time": "2023-10-01T04:56:30.605Z"
   },
   {
    "duration": 5,
    "start_time": "2023-10-01T04:59:52.211Z"
   },
   {
    "duration": 115,
    "start_time": "2023-10-01T05:01:48.349Z"
   },
   {
    "duration": 7,
    "start_time": "2023-10-01T05:01:58.650Z"
   },
   {
    "duration": 202,
    "start_time": "2023-10-01T05:02:13.608Z"
   },
   {
    "duration": 1282,
    "start_time": "2023-10-01T05:02:27.758Z"
   },
   {
    "duration": 5,
    "start_time": "2023-10-01T05:02:29.042Z"
   },
   {
    "duration": 72,
    "start_time": "2023-10-01T05:02:29.048Z"
   },
   {
    "duration": 50,
    "start_time": "2023-10-01T05:02:29.121Z"
   },
   {
    "duration": 1917,
    "start_time": "2023-10-01T05:02:29.173Z"
   },
   {
    "duration": 10,
    "start_time": "2023-10-01T05:02:31.092Z"
   },
   {
    "duration": 254,
    "start_time": "2023-10-01T05:02:31.104Z"
   },
   {
    "duration": 746,
    "start_time": "2023-10-01T05:02:31.360Z"
   },
   {
    "duration": 0,
    "start_time": "2023-10-01T05:02:32.109Z"
   },
   {
    "duration": 0,
    "start_time": "2023-10-01T05:02:32.110Z"
   },
   {
    "duration": 0,
    "start_time": "2023-10-01T05:02:32.111Z"
   },
   {
    "duration": 0,
    "start_time": "2023-10-01T05:02:32.112Z"
   },
   {
    "duration": 0,
    "start_time": "2023-10-01T05:02:32.113Z"
   },
   {
    "duration": 0,
    "start_time": "2023-10-01T05:02:32.123Z"
   },
   {
    "duration": 1,
    "start_time": "2023-10-01T05:02:32.124Z"
   },
   {
    "duration": 0,
    "start_time": "2023-10-01T05:02:32.125Z"
   },
   {
    "duration": 0,
    "start_time": "2023-10-01T05:02:32.126Z"
   },
   {
    "duration": 0,
    "start_time": "2023-10-01T05:02:32.127Z"
   },
   {
    "duration": 0,
    "start_time": "2023-10-01T05:02:32.128Z"
   },
   {
    "duration": 0,
    "start_time": "2023-10-01T05:02:32.129Z"
   },
   {
    "duration": 0,
    "start_time": "2023-10-01T05:02:32.130Z"
   },
   {
    "duration": 0,
    "start_time": "2023-10-01T05:02:32.131Z"
   },
   {
    "duration": 0,
    "start_time": "2023-10-01T05:02:32.132Z"
   },
   {
    "duration": 0,
    "start_time": "2023-10-01T05:02:32.133Z"
   },
   {
    "duration": 0,
    "start_time": "2023-10-01T05:02:32.134Z"
   },
   {
    "duration": 0,
    "start_time": "2023-10-01T05:02:32.135Z"
   },
   {
    "duration": 0,
    "start_time": "2023-10-01T05:02:32.135Z"
   },
   {
    "duration": 0,
    "start_time": "2023-10-01T05:02:32.137Z"
   },
   {
    "duration": 0,
    "start_time": "2023-10-01T05:02:32.137Z"
   },
   {
    "duration": 0,
    "start_time": "2023-10-01T05:02:32.138Z"
   },
   {
    "duration": 0,
    "start_time": "2023-10-01T05:02:32.139Z"
   },
   {
    "duration": 0,
    "start_time": "2023-10-01T05:02:32.141Z"
   },
   {
    "duration": 0,
    "start_time": "2023-10-01T05:02:32.141Z"
   },
   {
    "duration": 0,
    "start_time": "2023-10-01T05:02:32.142Z"
   },
   {
    "duration": 0,
    "start_time": "2023-10-01T05:02:32.143Z"
   },
   {
    "duration": 0,
    "start_time": "2023-10-01T05:02:32.144Z"
   },
   {
    "duration": 0,
    "start_time": "2023-10-01T05:02:32.145Z"
   },
   {
    "duration": 0,
    "start_time": "2023-10-01T05:02:32.145Z"
   },
   {
    "duration": 0,
    "start_time": "2023-10-01T05:02:32.146Z"
   },
   {
    "duration": 0,
    "start_time": "2023-10-01T05:02:32.147Z"
   },
   {
    "duration": 0,
    "start_time": "2023-10-01T05:02:32.148Z"
   },
   {
    "duration": 0,
    "start_time": "2023-10-01T05:02:32.149Z"
   },
   {
    "duration": 0,
    "start_time": "2023-10-01T05:02:32.150Z"
   },
   {
    "duration": 0,
    "start_time": "2023-10-01T05:02:32.151Z"
   },
   {
    "duration": 0,
    "start_time": "2023-10-01T05:02:32.152Z"
   },
   {
    "duration": 0,
    "start_time": "2023-10-01T05:02:32.153Z"
   },
   {
    "duration": 0,
    "start_time": "2023-10-01T05:02:32.153Z"
   },
   {
    "duration": 0,
    "start_time": "2023-10-01T05:02:32.154Z"
   },
   {
    "duration": 0,
    "start_time": "2023-10-01T05:02:32.155Z"
   },
   {
    "duration": 0,
    "start_time": "2023-10-01T05:02:32.156Z"
   },
   {
    "duration": 0,
    "start_time": "2023-10-01T05:02:32.157Z"
   },
   {
    "duration": 0,
    "start_time": "2023-10-01T05:02:32.158Z"
   },
   {
    "duration": 0,
    "start_time": "2023-10-01T05:02:32.159Z"
   },
   {
    "duration": 0,
    "start_time": "2023-10-01T05:02:32.159Z"
   },
   {
    "duration": 0,
    "start_time": "2023-10-01T05:02:32.160Z"
   },
   {
    "duration": 0,
    "start_time": "2023-10-01T05:02:32.161Z"
   },
   {
    "duration": 0,
    "start_time": "2023-10-01T05:02:32.162Z"
   },
   {
    "duration": 0,
    "start_time": "2023-10-01T05:02:32.163Z"
   },
   {
    "duration": 0,
    "start_time": "2023-10-01T05:02:32.224Z"
   },
   {
    "duration": 0,
    "start_time": "2023-10-01T05:02:32.225Z"
   },
   {
    "duration": 0,
    "start_time": "2023-10-01T05:02:32.227Z"
   },
   {
    "duration": 0,
    "start_time": "2023-10-01T05:02:32.228Z"
   },
   {
    "duration": 0,
    "start_time": "2023-10-01T05:02:32.230Z"
   },
   {
    "duration": 0,
    "start_time": "2023-10-01T05:02:32.231Z"
   },
   {
    "duration": 0,
    "start_time": "2023-10-01T05:02:32.233Z"
   },
   {
    "duration": 0,
    "start_time": "2023-10-01T05:02:32.234Z"
   },
   {
    "duration": 0,
    "start_time": "2023-10-01T05:02:32.235Z"
   },
   {
    "duration": 0,
    "start_time": "2023-10-01T05:02:32.237Z"
   },
   {
    "duration": 1781,
    "start_time": "2023-10-01T05:03:09.477Z"
   },
   {
    "duration": 5,
    "start_time": "2023-10-01T05:03:11.260Z"
   },
   {
    "duration": 39,
    "start_time": "2023-10-01T05:03:11.266Z"
   },
   {
    "duration": 8,
    "start_time": "2023-10-01T05:03:11.307Z"
   },
   {
    "duration": 1975,
    "start_time": "2023-10-01T05:03:11.323Z"
   },
   {
    "duration": 10,
    "start_time": "2023-10-01T05:03:13.299Z"
   },
   {
    "duration": 14,
    "start_time": "2023-10-01T05:03:13.311Z"
   },
   {
    "duration": 4,
    "start_time": "2023-10-01T05:03:13.327Z"
   },
   {
    "duration": 21,
    "start_time": "2023-10-01T05:03:13.333Z"
   },
   {
    "duration": 36,
    "start_time": "2023-10-01T05:03:13.356Z"
   },
   {
    "duration": 15,
    "start_time": "2023-10-01T05:03:13.393Z"
   },
   {
    "duration": 26,
    "start_time": "2023-10-01T05:03:13.410Z"
   },
   {
    "duration": 7,
    "start_time": "2023-10-01T05:03:13.437Z"
   },
   {
    "duration": 218,
    "start_time": "2023-10-01T05:03:13.447Z"
   },
   {
    "duration": 6,
    "start_time": "2023-10-01T05:03:13.666Z"
   },
   {
    "duration": 14,
    "start_time": "2023-10-01T05:03:13.673Z"
   },
   {
    "duration": 9,
    "start_time": "2023-10-01T05:03:13.688Z"
   },
   {
    "duration": 7,
    "start_time": "2023-10-01T05:03:13.698Z"
   },
   {
    "duration": 24,
    "start_time": "2023-10-01T05:03:13.706Z"
   },
   {
    "duration": 325,
    "start_time": "2023-10-01T05:03:13.732Z"
   },
   {
    "duration": 7,
    "start_time": "2023-10-01T05:03:14.058Z"
   },
   {
    "duration": 149,
    "start_time": "2023-10-01T05:03:14.067Z"
   },
   {
    "duration": 9,
    "start_time": "2023-10-01T05:03:14.223Z"
   },
   {
    "duration": 160,
    "start_time": "2023-10-01T05:03:14.233Z"
   },
   {
    "duration": 9,
    "start_time": "2023-10-01T05:03:14.395Z"
   },
   {
    "duration": 67,
    "start_time": "2023-10-01T05:03:14.405Z"
   },
   {
    "duration": 136,
    "start_time": "2023-10-01T05:03:14.473Z"
   },
   {
    "duration": 4,
    "start_time": "2023-10-01T05:03:14.611Z"
   },
   {
    "duration": 20,
    "start_time": "2023-10-01T05:03:14.623Z"
   },
   {
    "duration": 7,
    "start_time": "2023-10-01T05:03:14.644Z"
   },
   {
    "duration": 133,
    "start_time": "2023-10-01T05:03:14.652Z"
   },
   {
    "duration": 10,
    "start_time": "2023-10-01T05:03:14.787Z"
   },
   {
    "duration": 21,
    "start_time": "2023-10-01T05:03:14.798Z"
   },
   {
    "duration": 16,
    "start_time": "2023-10-01T05:03:14.821Z"
   },
   {
    "duration": 131,
    "start_time": "2023-10-01T05:03:14.839Z"
   },
   {
    "duration": 7,
    "start_time": "2023-10-01T05:03:14.972Z"
   },
   {
    "duration": 227,
    "start_time": "2023-10-01T05:03:14.981Z"
   },
   {
    "duration": 16,
    "start_time": "2023-10-01T05:03:15.210Z"
   },
   {
    "duration": 7,
    "start_time": "2023-10-01T05:03:15.228Z"
   },
   {
    "duration": 6,
    "start_time": "2023-10-01T05:03:15.237Z"
   },
   {
    "duration": 321,
    "start_time": "2023-10-01T05:03:15.247Z"
   },
   {
    "duration": 9,
    "start_time": "2023-10-01T05:03:15.569Z"
   },
   {
    "duration": 17,
    "start_time": "2023-10-01T05:03:15.579Z"
   },
   {
    "duration": 15,
    "start_time": "2023-10-01T05:03:15.597Z"
   },
   {
    "duration": 14,
    "start_time": "2023-10-01T05:03:15.613Z"
   },
   {
    "duration": 24,
    "start_time": "2023-10-01T05:03:15.629Z"
   },
   {
    "duration": 126,
    "start_time": "2023-10-01T05:03:15.654Z"
   },
   {
    "duration": 170,
    "start_time": "2023-10-01T05:03:15.782Z"
   },
   {
    "duration": 136,
    "start_time": "2023-10-01T05:03:15.954Z"
   },
   {
    "duration": 11,
    "start_time": "2023-10-01T05:03:16.091Z"
   },
   {
    "duration": 1297,
    "start_time": "2023-10-01T05:03:16.103Z"
   },
   {
    "duration": 5,
    "start_time": "2023-10-01T05:03:17.402Z"
   },
   {
    "duration": 149,
    "start_time": "2023-10-01T05:03:17.408Z"
   },
   {
    "duration": 10,
    "start_time": "2023-10-01T05:03:17.559Z"
   },
   {
    "duration": 9,
    "start_time": "2023-10-01T05:03:17.570Z"
   },
   {
    "duration": 4,
    "start_time": "2023-10-01T05:03:17.581Z"
   },
   {
    "duration": 39,
    "start_time": "2023-10-01T05:03:17.586Z"
   },
   {
    "duration": 153,
    "start_time": "2023-10-01T05:03:17.626Z"
   },
   {
    "duration": 9,
    "start_time": "2023-10-01T05:03:17.781Z"
   },
   {
    "duration": 333,
    "start_time": "2023-10-01T05:03:17.792Z"
   },
   {
    "duration": 6,
    "start_time": "2023-10-01T05:03:18.127Z"
   },
   {
    "duration": 156,
    "start_time": "2023-10-01T05:03:18.135Z"
   },
   {
    "duration": 261,
    "start_time": "2023-10-01T05:03:18.293Z"
   },
   {
    "duration": 7,
    "start_time": "2023-10-01T05:03:18.556Z"
   },
   {
    "duration": 38,
    "start_time": "2023-10-01T05:03:18.565Z"
   },
   {
    "duration": 45,
    "start_time": "2023-10-01T05:03:18.605Z"
   },
   {
    "duration": 20,
    "start_time": "2023-10-01T05:03:18.652Z"
   },
   {
    "duration": 296,
    "start_time": "2023-10-01T05:03:18.674Z"
   },
   {
    "duration": 188,
    "start_time": "2023-10-01T05:04:15.254Z"
   },
   {
    "duration": 1224,
    "start_time": "2023-10-01T05:07:43.241Z"
   },
   {
    "duration": 5,
    "start_time": "2023-10-01T05:07:44.467Z"
   },
   {
    "duration": 113,
    "start_time": "2023-10-01T05:07:44.473Z"
   },
   {
    "duration": 77,
    "start_time": "2023-10-01T05:07:44.588Z"
   },
   {
    "duration": 1983,
    "start_time": "2023-10-01T05:07:44.667Z"
   },
   {
    "duration": 9,
    "start_time": "2023-10-01T05:07:46.652Z"
   },
   {
    "duration": 27,
    "start_time": "2023-10-01T05:07:46.663Z"
   },
   {
    "duration": 4,
    "start_time": "2023-10-01T05:07:46.692Z"
   },
   {
    "duration": 27,
    "start_time": "2023-10-01T05:07:46.698Z"
   },
   {
    "duration": 13,
    "start_time": "2023-10-01T05:07:46.726Z"
   },
   {
    "duration": 37,
    "start_time": "2023-10-01T05:07:46.740Z"
   },
   {
    "duration": 39,
    "start_time": "2023-10-01T05:07:46.779Z"
   },
   {
    "duration": 8,
    "start_time": "2023-10-01T05:07:46.820Z"
   },
   {
    "duration": 206,
    "start_time": "2023-10-01T05:07:46.831Z"
   },
   {
    "duration": 4,
    "start_time": "2023-10-01T05:07:47.039Z"
   },
   {
    "duration": 56,
    "start_time": "2023-10-01T05:07:47.045Z"
   },
   {
    "duration": 11,
    "start_time": "2023-10-01T05:07:47.103Z"
   },
   {
    "duration": 9,
    "start_time": "2023-10-01T05:07:47.116Z"
   },
   {
    "duration": 13,
    "start_time": "2023-10-01T05:07:47.127Z"
   },
   {
    "duration": 319,
    "start_time": "2023-10-01T05:07:47.141Z"
   },
   {
    "duration": 6,
    "start_time": "2023-10-01T05:07:47.462Z"
   },
   {
    "duration": 154,
    "start_time": "2023-10-01T05:07:47.470Z"
   },
   {
    "duration": 9,
    "start_time": "2023-10-01T05:07:47.625Z"
   },
   {
    "duration": 161,
    "start_time": "2023-10-01T05:07:47.635Z"
   },
   {
    "duration": 26,
    "start_time": "2023-10-01T05:07:47.797Z"
   },
   {
    "duration": 68,
    "start_time": "2023-10-01T05:07:47.825Z"
   },
   {
    "duration": 141,
    "start_time": "2023-10-01T05:07:47.895Z"
   },
   {
    "duration": 4,
    "start_time": "2023-10-01T05:07:48.038Z"
   },
   {
    "duration": 56,
    "start_time": "2023-10-01T05:07:48.044Z"
   },
   {
    "duration": 28,
    "start_time": "2023-10-01T05:07:48.102Z"
   },
   {
    "duration": 203,
    "start_time": "2023-10-01T05:07:48.132Z"
   },
   {
    "duration": 11,
    "start_time": "2023-10-01T05:07:48.336Z"
   },
   {
    "duration": 122,
    "start_time": "2023-10-01T05:07:48.348Z"
   },
   {
    "duration": 57,
    "start_time": "2023-10-01T05:07:48.472Z"
   },
   {
    "duration": 186,
    "start_time": "2023-10-01T05:07:48.531Z"
   },
   {
    "duration": 9,
    "start_time": "2023-10-01T05:07:48.723Z"
   },
   {
    "duration": 273,
    "start_time": "2023-10-01T05:07:48.734Z"
   },
   {
    "duration": 20,
    "start_time": "2023-10-01T05:07:49.009Z"
   },
   {
    "duration": 7,
    "start_time": "2023-10-01T05:07:49.030Z"
   },
   {
    "duration": 65,
    "start_time": "2023-10-01T05:07:49.039Z"
   },
   {
    "duration": 327,
    "start_time": "2023-10-01T05:07:49.108Z"
   },
   {
    "duration": 10,
    "start_time": "2023-10-01T05:07:49.437Z"
   },
   {
    "duration": 63,
    "start_time": "2023-10-01T05:07:49.448Z"
   },
   {
    "duration": 24,
    "start_time": "2023-10-01T05:07:49.513Z"
   },
   {
    "duration": 24,
    "start_time": "2023-10-01T05:07:49.539Z"
   },
   {
    "duration": 17,
    "start_time": "2023-10-01T05:07:49.565Z"
   },
   {
    "duration": 110,
    "start_time": "2023-10-01T05:07:49.584Z"
   },
   {
    "duration": 147,
    "start_time": "2023-10-01T05:07:49.696Z"
   },
   {
    "duration": 133,
    "start_time": "2023-10-01T05:07:49.844Z"
   },
   {
    "duration": 10,
    "start_time": "2023-10-01T05:07:49.979Z"
   },
   {
    "duration": 1338,
    "start_time": "2023-10-01T05:07:49.990Z"
   },
   {
    "duration": 6,
    "start_time": "2023-10-01T05:07:51.329Z"
   },
   {
    "duration": 162,
    "start_time": "2023-10-01T05:07:51.336Z"
   },
   {
    "duration": 11,
    "start_time": "2023-10-01T05:07:51.499Z"
   },
   {
    "duration": 29,
    "start_time": "2023-10-01T05:07:51.511Z"
   },
   {
    "duration": 37,
    "start_time": "2023-10-01T05:07:51.541Z"
   },
   {
    "duration": 19,
    "start_time": "2023-10-01T05:07:51.579Z"
   },
   {
    "duration": 143,
    "start_time": "2023-10-01T05:07:51.599Z"
   },
   {
    "duration": 9,
    "start_time": "2023-10-01T05:07:51.743Z"
   },
   {
    "duration": 323,
    "start_time": "2023-10-01T05:07:51.754Z"
   },
   {
    "duration": 5,
    "start_time": "2023-10-01T05:07:52.079Z"
   },
   {
    "duration": 391,
    "start_time": "2023-10-01T05:07:52.085Z"
   },
   {
    "duration": 305,
    "start_time": "2023-10-01T05:07:52.477Z"
   },
   {
    "duration": 5,
    "start_time": "2023-10-01T05:07:52.783Z"
   },
   {
    "duration": 129,
    "start_time": "2023-10-01T05:07:52.790Z"
   },
   {
    "duration": 207,
    "start_time": "2023-10-01T05:07:52.921Z"
   },
   {
    "duration": 104,
    "start_time": "2023-10-01T05:07:53.129Z"
   },
   {
    "duration": 290,
    "start_time": "2023-10-01T05:07:53.235Z"
   }
  ],
  "kernelspec": {
   "display_name": "Python 3 (ipykernel)",
   "language": "python",
   "name": "python3"
  },
  "language_info": {
   "codemirror_mode": {
    "name": "ipython",
    "version": 3
   },
   "file_extension": ".py",
   "mimetype": "text/x-python",
   "name": "python",
   "nbconvert_exporter": "python",
   "pygments_lexer": "ipython3",
   "version": "3.9.5"
  },
  "toc": {
   "base_numbering": 1,
   "nav_menu": {},
   "number_sections": true,
   "sideBar": true,
   "skip_h1_title": true,
   "title_cell": "Table of Contents",
   "title_sidebar": "Contents",
   "toc_cell": false,
   "toc_position": {
    "height": "calc(100% - 180px)",
    "left": "10px",
    "top": "150px",
    "width": "250.594px"
   },
   "toc_section_display": true,
   "toc_window_display": true
  }
 },
 "nbformat": 4,
 "nbformat_minor": 2
}
