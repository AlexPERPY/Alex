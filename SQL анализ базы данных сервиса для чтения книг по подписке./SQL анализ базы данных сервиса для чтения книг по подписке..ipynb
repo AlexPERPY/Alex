{
 "cells": [
  {
   "cell_type": "markdown",
   "id": "d72d2a28",
   "metadata": {},
   "source": [
    "# Проект SQL по анализу базы данных сервиса для чтения книг по подписке."
   ]
  },
  {
   "cell_type": "markdown",
   "id": "08b4fc23",
   "metadata": {},
   "source": [
    "## \n",
    "Коронавирус застал мир врасплох, изменив привычный порядок вещей. В свободное время жители городов больше не выходят на улицу, не посещают кафе и торговые центры. Зато стало больше времени для книг. Это заметили стартаперы — и бросились создавать приложения для тех, кто любит читать.\n",
    "\n",
    "Наша компания решила быть на волне и купила крупный сервис для чтения книг по подписке. Наша первая задача как аналитика — проанализировать базу данных.\n",
    "В ней — информация о книгах, издательствах, авторах, а также пользовательские обзоры книг. Эти данные помогут сформулировать ценностное предложение для нового продукта."
   ]
  },
  {
   "cell_type": "markdown",
   "id": "6a89af93",
   "metadata": {},
   "source": [
    "### Импортируем библиотеки и пишем функцию для работы с SQL."
   ]
  },
  {
   "cell_type": "code",
   "execution_count": 1,
   "id": "1347974d",
   "metadata": {},
   "outputs": [],
   "source": [
    "# импортируем библиотеки\n",
    "import pandas as pd\n",
    "import sqlalchemy as sa\n",
    "# устанавливаем параметры\n",
    "db_config = {\n",
    "'user': 'praktikum_student', # имя пользователя\n",
    "'pwd': 'Sdf4$2;d-d30pp', # пароль\n",
    "'host': 'rc1b-wcoijxj3yxfsf3fs.mdb.yandexcloud.net',\n",
    "'port': 6432, # порт подключения\n",
    "'db': 'data-analyst-final-project-db' # название базы данных\n",
    "}\n",
    "connection_string = 'postgresql://{user}:{pwd}@{host}:{port}/{db}'.format(**db_config)\n",
    "# сохраняем коннектор\n",
    "engine = sa.create_engine(connection_string, connect_args={'sslmode':'require'})\n",
    "# чтобы выполнить SQL-запрос, пишем функцию с использованием Pandas\n",
    "def get_sql_data(query:str, engine:sa.engine.base.Engine=engine) -> pd.DataFrame:\n",
    "    '''Открываем соединение, получаем данные из sql, закрываем соединение'''\n",
    "    with engine.connect() as con:\n",
    "        return pd.read_sql(sql=sa.text(query), con = con)\n"
   ]
  },
  {
   "cell_type": "markdown",
   "id": "2cb0a950",
   "metadata": {},
   "source": [
    "### Знакомимся с данными."
   ]
  },
  {
   "cell_type": "markdown",
   "id": "c3fbffbc",
   "metadata": {},
   "source": [
    "#### Описание данных\n",
    "\n",
    "Таблица books\n",
    "\n",
    "Содержит данные о книгах:\n",
    "* book_id — идентификатор книги;\n",
    "* author_id — идентификатор автора;\n",
    "* title — название книги;\n",
    "* num_pages — количество страниц;\n",
    "* publication_date — дата публикации книги;\n",
    "* publisher_id — идентификатор издателя.\n",
    "\n",
    "Таблица authors\n",
    "\n",
    "Содержит данные об авторах:\n",
    "* author_id — идентификатор автора;\n",
    "* author — имя автора.\n",
    "\n",
    "Таблица publishers\n",
    "\n",
    "Содержит данные об издательствах:\n",
    "* publisher_id — идентификатор издательства;\n",
    "* publisher — название издательства;\n",
    "\n",
    "Таблица ratings\n",
    "\n",
    "Содержит данные о пользовательских оценках книг:\n",
    "* rating_id — идентификатор оценки;\n",
    "* book_id — идентификатор книги;\n",
    "* username — имя пользователя, оставившего оценку;\n",
    "* rating — оценка книги.\n",
    "\n",
    "Таблица reviews\n",
    "\n",
    "Содержит данные о пользовательских обзорах:\n",
    "* review_id — идентификатор обзора;\n",
    "* book_id — идентификатор книги;\n",
    "* username — имя автора обзора;\n",
    "* text — текст обзора."
   ]
  },
  {
   "cell_type": "markdown",
   "id": "50970d2a",
   "metadata": {},
   "source": [
    "#### Структура данных."
   ]
  },
  {
   "cell_type": "code",
   "execution_count": 2,
   "id": "22509b3f",
   "metadata": {},
   "outputs": [
    {
     "data": {
      "text/html": [
       "<img src=\"https://pictures.s3.yandex.net/resources/scheme_1589269096.png\"/>"
      ],
      "text/plain": [
       "<IPython.core.display.Image object>"
      ]
     },
     "execution_count": 2,
     "metadata": {},
     "output_type": "execute_result"
    }
   ],
   "source": [
    "from IPython.display import Image\n",
    "from IPython.core.display import HTML \n",
    "Image(url= \"https://pictures.s3.yandex.net/resources/scheme_1589269096.png\")"
   ]
  },
  {
   "cell_type": "markdown",
   "id": "e27295cd",
   "metadata": {},
   "source": [
    "#### Таблица books."
   ]
  },
  {
   "cell_type": "markdown",
   "id": "d166fc5d",
   "metadata": {},
   "source": [
    "Выведем первые 5 строк из таблицы books и посчитаем количество строк."
   ]
  },
  {
   "cell_type": "code",
   "execution_count": 3,
   "id": "d1c6704a",
   "metadata": {},
   "outputs": [
    {
     "data": {
      "text/html": [
       "<div>\n",
       "<style scoped>\n",
       "    .dataframe tbody tr th:only-of-type {\n",
       "        vertical-align: middle;\n",
       "    }\n",
       "\n",
       "    .dataframe tbody tr th {\n",
       "        vertical-align: top;\n",
       "    }\n",
       "\n",
       "    .dataframe thead th {\n",
       "        text-align: right;\n",
       "    }\n",
       "</style>\n",
       "<table border=\"1\" class=\"dataframe\">\n",
       "  <thead>\n",
       "    <tr style=\"text-align: right;\">\n",
       "      <th></th>\n",
       "      <th>book_id</th>\n",
       "      <th>author_id</th>\n",
       "      <th>title</th>\n",
       "      <th>num_pages</th>\n",
       "      <th>publication_date</th>\n",
       "      <th>publisher_id</th>\n",
       "    </tr>\n",
       "  </thead>\n",
       "  <tbody>\n",
       "    <tr>\n",
       "      <th>0</th>\n",
       "      <td>1</td>\n",
       "      <td>546</td>\n",
       "      <td>'Salem's Lot</td>\n",
       "      <td>594</td>\n",
       "      <td>2005-11-01</td>\n",
       "      <td>93</td>\n",
       "    </tr>\n",
       "    <tr>\n",
       "      <th>1</th>\n",
       "      <td>2</td>\n",
       "      <td>465</td>\n",
       "      <td>1 000 Places to See Before You Die</td>\n",
       "      <td>992</td>\n",
       "      <td>2003-05-22</td>\n",
       "      <td>336</td>\n",
       "    </tr>\n",
       "    <tr>\n",
       "      <th>2</th>\n",
       "      <td>3</td>\n",
       "      <td>407</td>\n",
       "      <td>13 Little Blue Envelopes (Little Blue Envelope...</td>\n",
       "      <td>322</td>\n",
       "      <td>2010-12-21</td>\n",
       "      <td>135</td>\n",
       "    </tr>\n",
       "    <tr>\n",
       "      <th>3</th>\n",
       "      <td>4</td>\n",
       "      <td>82</td>\n",
       "      <td>1491: New Revelations of the Americas Before C...</td>\n",
       "      <td>541</td>\n",
       "      <td>2006-10-10</td>\n",
       "      <td>309</td>\n",
       "    </tr>\n",
       "    <tr>\n",
       "      <th>4</th>\n",
       "      <td>5</td>\n",
       "      <td>125</td>\n",
       "      <td>1776</td>\n",
       "      <td>386</td>\n",
       "      <td>2006-07-04</td>\n",
       "      <td>268</td>\n",
       "    </tr>\n",
       "  </tbody>\n",
       "</table>\n",
       "</div>"
      ],
      "text/plain": [
       "   book_id  author_id                                              title  \\\n",
       "0        1        546                                       'Salem's Lot   \n",
       "1        2        465                 1 000 Places to See Before You Die   \n",
       "2        3        407  13 Little Blue Envelopes (Little Blue Envelope...   \n",
       "3        4         82  1491: New Revelations of the Americas Before C...   \n",
       "4        5        125                                               1776   \n",
       "\n",
       "   num_pages publication_date  publisher_id  \n",
       "0        594       2005-11-01            93  \n",
       "1        992       2003-05-22           336  \n",
       "2        322       2010-12-21           135  \n",
       "3        541       2006-10-10           309  \n",
       "4        386       2006-07-04           268  "
      ]
     },
     "execution_count": 3,
     "metadata": {},
     "output_type": "execute_result"
    }
   ],
   "source": [
    "# формируем запрос и выводим данные\n",
    "query = '''\n",
    "SELECT * \n",
    "FROM books \n",
    "LIMIT 5'''\n",
    "get_sql_data(query)"
   ]
  },
  {
   "cell_type": "code",
   "execution_count": 4,
   "id": "86d534e5",
   "metadata": {},
   "outputs": [
    {
     "data": {
      "text/html": [
       "<div>\n",
       "<style scoped>\n",
       "    .dataframe tbody tr th:only-of-type {\n",
       "        vertical-align: middle;\n",
       "    }\n",
       "\n",
       "    .dataframe tbody tr th {\n",
       "        vertical-align: top;\n",
       "    }\n",
       "\n",
       "    .dataframe thead th {\n",
       "        text-align: right;\n",
       "    }\n",
       "</style>\n",
       "<table border=\"1\" class=\"dataframe\">\n",
       "  <thead>\n",
       "    <tr style=\"text-align: right;\">\n",
       "      <th></th>\n",
       "      <th>count</th>\n",
       "    </tr>\n",
       "  </thead>\n",
       "  <tbody>\n",
       "    <tr>\n",
       "      <th>0</th>\n",
       "      <td>1000</td>\n",
       "    </tr>\n",
       "  </tbody>\n",
       "</table>\n",
       "</div>"
      ],
      "text/plain": [
       "   count\n",
       "0   1000"
      ]
     },
     "execution_count": 4,
     "metadata": {},
     "output_type": "execute_result"
    }
   ],
   "source": [
    "query = '''\n",
    "SELECT COUNT(*)\n",
    "FROM books \n",
    "LIMIT 5\n",
    "'''\n",
    "get_sql_data(query)"
   ]
  },
  {
   "cell_type": "markdown",
   "id": "22e50dea",
   "metadata": {},
   "source": [
    "В таблице books 1000 строк."
   ]
  },
  {
   "cell_type": "markdown",
   "id": "bc824bad",
   "metadata": {},
   "source": [
    "#### Таблица authors."
   ]
  },
  {
   "cell_type": "markdown",
   "id": "11a77694",
   "metadata": {},
   "source": [
    "Выведем первые 5 строк из таблицы authors и посчитаем количество строк."
   ]
  },
  {
   "cell_type": "code",
   "execution_count": 5,
   "id": "18e53b11",
   "metadata": {},
   "outputs": [
    {
     "data": {
      "text/html": [
       "<div>\n",
       "<style scoped>\n",
       "    .dataframe tbody tr th:only-of-type {\n",
       "        vertical-align: middle;\n",
       "    }\n",
       "\n",
       "    .dataframe tbody tr th {\n",
       "        vertical-align: top;\n",
       "    }\n",
       "\n",
       "    .dataframe thead th {\n",
       "        text-align: right;\n",
       "    }\n",
       "</style>\n",
       "<table border=\"1\" class=\"dataframe\">\n",
       "  <thead>\n",
       "    <tr style=\"text-align: right;\">\n",
       "      <th></th>\n",
       "      <th>author_id</th>\n",
       "      <th>author</th>\n",
       "    </tr>\n",
       "  </thead>\n",
       "  <tbody>\n",
       "    <tr>\n",
       "      <th>0</th>\n",
       "      <td>1</td>\n",
       "      <td>A.S. Byatt</td>\n",
       "    </tr>\n",
       "    <tr>\n",
       "      <th>1</th>\n",
       "      <td>2</td>\n",
       "      <td>Aesop/Laura Harris/Laura Gibbs</td>\n",
       "    </tr>\n",
       "    <tr>\n",
       "      <th>2</th>\n",
       "      <td>3</td>\n",
       "      <td>Agatha Christie</td>\n",
       "    </tr>\n",
       "    <tr>\n",
       "      <th>3</th>\n",
       "      <td>4</td>\n",
       "      <td>Alan Brennert</td>\n",
       "    </tr>\n",
       "    <tr>\n",
       "      <th>4</th>\n",
       "      <td>5</td>\n",
       "      <td>Alan Moore/David   Lloyd</td>\n",
       "    </tr>\n",
       "  </tbody>\n",
       "</table>\n",
       "</div>"
      ],
      "text/plain": [
       "   author_id                          author\n",
       "0          1                      A.S. Byatt\n",
       "1          2  Aesop/Laura Harris/Laura Gibbs\n",
       "2          3                 Agatha Christie\n",
       "3          4                   Alan Brennert\n",
       "4          5        Alan Moore/David   Lloyd"
      ]
     },
     "execution_count": 5,
     "metadata": {},
     "output_type": "execute_result"
    }
   ],
   "source": [
    "query = '''\n",
    "SELECT * \n",
    "FROM authors \n",
    "LIMIT 5'''\n",
    "get_sql_data(query)"
   ]
  },
  {
   "cell_type": "code",
   "execution_count": 6,
   "id": "9b5a7cc1",
   "metadata": {},
   "outputs": [
    {
     "data": {
      "text/html": [
       "<div>\n",
       "<style scoped>\n",
       "    .dataframe tbody tr th:only-of-type {\n",
       "        vertical-align: middle;\n",
       "    }\n",
       "\n",
       "    .dataframe tbody tr th {\n",
       "        vertical-align: top;\n",
       "    }\n",
       "\n",
       "    .dataframe thead th {\n",
       "        text-align: right;\n",
       "    }\n",
       "</style>\n",
       "<table border=\"1\" class=\"dataframe\">\n",
       "  <thead>\n",
       "    <tr style=\"text-align: right;\">\n",
       "      <th></th>\n",
       "      <th>count</th>\n",
       "    </tr>\n",
       "  </thead>\n",
       "  <tbody>\n",
       "    <tr>\n",
       "      <th>0</th>\n",
       "      <td>636</td>\n",
       "    </tr>\n",
       "  </tbody>\n",
       "</table>\n",
       "</div>"
      ],
      "text/plain": [
       "   count\n",
       "0    636"
      ]
     },
     "execution_count": 6,
     "metadata": {},
     "output_type": "execute_result"
    }
   ],
   "source": [
    "query = '''\n",
    "SELECT COUNT(*)\n",
    "FROM authors \n",
    "LIMIT 5\n",
    "'''\n",
    "get_sql_data(query)"
   ]
  },
  {
   "cell_type": "markdown",
   "id": "90f4d453",
   "metadata": {},
   "source": [
    "В таблице authors 636 строк."
   ]
  },
  {
   "cell_type": "markdown",
   "id": "41fbc565",
   "metadata": {},
   "source": [
    "#### Таблица publishers."
   ]
  },
  {
   "cell_type": "markdown",
   "id": "d121dbd6",
   "metadata": {},
   "source": [
    "Выведем первые 5 строк из таблицы publishers и посчитаем количество строк."
   ]
  },
  {
   "cell_type": "code",
   "execution_count": 7,
   "id": "b59ba7e9",
   "metadata": {},
   "outputs": [
    {
     "data": {
      "text/html": [
       "<div>\n",
       "<style scoped>\n",
       "    .dataframe tbody tr th:only-of-type {\n",
       "        vertical-align: middle;\n",
       "    }\n",
       "\n",
       "    .dataframe tbody tr th {\n",
       "        vertical-align: top;\n",
       "    }\n",
       "\n",
       "    .dataframe thead th {\n",
       "        text-align: right;\n",
       "    }\n",
       "</style>\n",
       "<table border=\"1\" class=\"dataframe\">\n",
       "  <thead>\n",
       "    <tr style=\"text-align: right;\">\n",
       "      <th></th>\n",
       "      <th>publisher_id</th>\n",
       "      <th>publisher</th>\n",
       "    </tr>\n",
       "  </thead>\n",
       "  <tbody>\n",
       "    <tr>\n",
       "      <th>0</th>\n",
       "      <td>1</td>\n",
       "      <td>Ace</td>\n",
       "    </tr>\n",
       "    <tr>\n",
       "      <th>1</th>\n",
       "      <td>2</td>\n",
       "      <td>Ace Book</td>\n",
       "    </tr>\n",
       "    <tr>\n",
       "      <th>2</th>\n",
       "      <td>3</td>\n",
       "      <td>Ace Books</td>\n",
       "    </tr>\n",
       "    <tr>\n",
       "      <th>3</th>\n",
       "      <td>4</td>\n",
       "      <td>Ace Hardcover</td>\n",
       "    </tr>\n",
       "    <tr>\n",
       "      <th>4</th>\n",
       "      <td>5</td>\n",
       "      <td>Addison Wesley Publishing Company</td>\n",
       "    </tr>\n",
       "  </tbody>\n",
       "</table>\n",
       "</div>"
      ],
      "text/plain": [
       "   publisher_id                          publisher\n",
       "0             1                                Ace\n",
       "1             2                           Ace Book\n",
       "2             3                          Ace Books\n",
       "3             4                      Ace Hardcover\n",
       "4             5  Addison Wesley Publishing Company"
      ]
     },
     "execution_count": 7,
     "metadata": {},
     "output_type": "execute_result"
    }
   ],
   "source": [
    "query = '''\n",
    "SELECT * \n",
    "FROM publishers \n",
    "LIMIT 5'''\n",
    "get_sql_data(query)"
   ]
  },
  {
   "cell_type": "code",
   "execution_count": 8,
   "id": "758d1a11",
   "metadata": {},
   "outputs": [
    {
     "data": {
      "text/html": [
       "<div>\n",
       "<style scoped>\n",
       "    .dataframe tbody tr th:only-of-type {\n",
       "        vertical-align: middle;\n",
       "    }\n",
       "\n",
       "    .dataframe tbody tr th {\n",
       "        vertical-align: top;\n",
       "    }\n",
       "\n",
       "    .dataframe thead th {\n",
       "        text-align: right;\n",
       "    }\n",
       "</style>\n",
       "<table border=\"1\" class=\"dataframe\">\n",
       "  <thead>\n",
       "    <tr style=\"text-align: right;\">\n",
       "      <th></th>\n",
       "      <th>count</th>\n",
       "    </tr>\n",
       "  </thead>\n",
       "  <tbody>\n",
       "    <tr>\n",
       "      <th>0</th>\n",
       "      <td>340</td>\n",
       "    </tr>\n",
       "  </tbody>\n",
       "</table>\n",
       "</div>"
      ],
      "text/plain": [
       "   count\n",
       "0    340"
      ]
     },
     "execution_count": 8,
     "metadata": {},
     "output_type": "execute_result"
    }
   ],
   "source": [
    "query = '''\n",
    "SELECT COUNT(*)\n",
    "FROM publishers \n",
    "LIMIT 5\n",
    "'''\n",
    "get_sql_data(query)"
   ]
  },
  {
   "cell_type": "markdown",
   "id": "be634825",
   "metadata": {},
   "source": [
    "В таблице publishers 340 строк."
   ]
  },
  {
   "cell_type": "markdown",
   "id": "dd2fb3ff",
   "metadata": {},
   "source": [
    "#### Таблица ratings."
   ]
  },
  {
   "cell_type": "markdown",
   "id": "bf9aa28d",
   "metadata": {},
   "source": [
    "Выведем первые 5 строк из таблицы ratings и посчитаем количество строк."
   ]
  },
  {
   "cell_type": "code",
   "execution_count": 9,
   "id": "6e3a95f8",
   "metadata": {},
   "outputs": [
    {
     "data": {
      "text/html": [
       "<div>\n",
       "<style scoped>\n",
       "    .dataframe tbody tr th:only-of-type {\n",
       "        vertical-align: middle;\n",
       "    }\n",
       "\n",
       "    .dataframe tbody tr th {\n",
       "        vertical-align: top;\n",
       "    }\n",
       "\n",
       "    .dataframe thead th {\n",
       "        text-align: right;\n",
       "    }\n",
       "</style>\n",
       "<table border=\"1\" class=\"dataframe\">\n",
       "  <thead>\n",
       "    <tr style=\"text-align: right;\">\n",
       "      <th></th>\n",
       "      <th>rating_id</th>\n",
       "      <th>book_id</th>\n",
       "      <th>username</th>\n",
       "      <th>rating</th>\n",
       "    </tr>\n",
       "  </thead>\n",
       "  <tbody>\n",
       "    <tr>\n",
       "      <th>0</th>\n",
       "      <td>1</td>\n",
       "      <td>1</td>\n",
       "      <td>ryanfranco</td>\n",
       "      <td>4</td>\n",
       "    </tr>\n",
       "    <tr>\n",
       "      <th>1</th>\n",
       "      <td>2</td>\n",
       "      <td>1</td>\n",
       "      <td>grantpatricia</td>\n",
       "      <td>2</td>\n",
       "    </tr>\n",
       "    <tr>\n",
       "      <th>2</th>\n",
       "      <td>3</td>\n",
       "      <td>1</td>\n",
       "      <td>brandtandrea</td>\n",
       "      <td>5</td>\n",
       "    </tr>\n",
       "    <tr>\n",
       "      <th>3</th>\n",
       "      <td>4</td>\n",
       "      <td>2</td>\n",
       "      <td>lorichen</td>\n",
       "      <td>3</td>\n",
       "    </tr>\n",
       "    <tr>\n",
       "      <th>4</th>\n",
       "      <td>5</td>\n",
       "      <td>2</td>\n",
       "      <td>mariokeller</td>\n",
       "      <td>2</td>\n",
       "    </tr>\n",
       "  </tbody>\n",
       "</table>\n",
       "</div>"
      ],
      "text/plain": [
       "   rating_id  book_id       username  rating\n",
       "0          1        1     ryanfranco       4\n",
       "1          2        1  grantpatricia       2\n",
       "2          3        1   brandtandrea       5\n",
       "3          4        2       lorichen       3\n",
       "4          5        2    mariokeller       2"
      ]
     },
     "execution_count": 9,
     "metadata": {},
     "output_type": "execute_result"
    }
   ],
   "source": [
    "query = '''\n",
    "SELECT * \n",
    "FROM ratings \n",
    "LIMIT 5'''\n",
    "get_sql_data(query)"
   ]
  },
  {
   "cell_type": "code",
   "execution_count": 10,
   "id": "c952e7fe",
   "metadata": {},
   "outputs": [
    {
     "data": {
      "text/html": [
       "<div>\n",
       "<style scoped>\n",
       "    .dataframe tbody tr th:only-of-type {\n",
       "        vertical-align: middle;\n",
       "    }\n",
       "\n",
       "    .dataframe tbody tr th {\n",
       "        vertical-align: top;\n",
       "    }\n",
       "\n",
       "    .dataframe thead th {\n",
       "        text-align: right;\n",
       "    }\n",
       "</style>\n",
       "<table border=\"1\" class=\"dataframe\">\n",
       "  <thead>\n",
       "    <tr style=\"text-align: right;\">\n",
       "      <th></th>\n",
       "      <th>count</th>\n",
       "    </tr>\n",
       "  </thead>\n",
       "  <tbody>\n",
       "    <tr>\n",
       "      <th>0</th>\n",
       "      <td>6456</td>\n",
       "    </tr>\n",
       "  </tbody>\n",
       "</table>\n",
       "</div>"
      ],
      "text/plain": [
       "   count\n",
       "0   6456"
      ]
     },
     "execution_count": 10,
     "metadata": {},
     "output_type": "execute_result"
    }
   ],
   "source": [
    "query = '''\n",
    "SELECT COUNT(*)\n",
    "FROM ratings \n",
    "LIMIT 5\n",
    "'''\n",
    "get_sql_data(query)"
   ]
  },
  {
   "cell_type": "markdown",
   "id": "2e10b1d9",
   "metadata": {},
   "source": [
    "В таблице ratings 6456 строк."
   ]
  },
  {
   "cell_type": "markdown",
   "id": "f59ad53f",
   "metadata": {},
   "source": [
    "#### Таблица reviews."
   ]
  },
  {
   "cell_type": "markdown",
   "id": "3ea38521",
   "metadata": {},
   "source": [
    "Выведем первые 5 строк из таблицы reviews и посчитаем количество строк."
   ]
  },
  {
   "cell_type": "code",
   "execution_count": 11,
   "id": "090d522b",
   "metadata": {},
   "outputs": [
    {
     "data": {
      "text/html": [
       "<div>\n",
       "<style scoped>\n",
       "    .dataframe tbody tr th:only-of-type {\n",
       "        vertical-align: middle;\n",
       "    }\n",
       "\n",
       "    .dataframe tbody tr th {\n",
       "        vertical-align: top;\n",
       "    }\n",
       "\n",
       "    .dataframe thead th {\n",
       "        text-align: right;\n",
       "    }\n",
       "</style>\n",
       "<table border=\"1\" class=\"dataframe\">\n",
       "  <thead>\n",
       "    <tr style=\"text-align: right;\">\n",
       "      <th></th>\n",
       "      <th>review_id</th>\n",
       "      <th>book_id</th>\n",
       "      <th>username</th>\n",
       "      <th>text</th>\n",
       "    </tr>\n",
       "  </thead>\n",
       "  <tbody>\n",
       "    <tr>\n",
       "      <th>0</th>\n",
       "      <td>1</td>\n",
       "      <td>1</td>\n",
       "      <td>brandtandrea</td>\n",
       "      <td>Mention society tell send professor analysis. ...</td>\n",
       "    </tr>\n",
       "    <tr>\n",
       "      <th>1</th>\n",
       "      <td>2</td>\n",
       "      <td>1</td>\n",
       "      <td>ryanfranco</td>\n",
       "      <td>Foot glass pretty audience hit themselves. Amo...</td>\n",
       "    </tr>\n",
       "    <tr>\n",
       "      <th>2</th>\n",
       "      <td>3</td>\n",
       "      <td>2</td>\n",
       "      <td>lorichen</td>\n",
       "      <td>Listen treat keep worry. Miss husband tax but ...</td>\n",
       "    </tr>\n",
       "    <tr>\n",
       "      <th>3</th>\n",
       "      <td>4</td>\n",
       "      <td>3</td>\n",
       "      <td>johnsonamanda</td>\n",
       "      <td>Finally month interesting blue could nature cu...</td>\n",
       "    </tr>\n",
       "    <tr>\n",
       "      <th>4</th>\n",
       "      <td>5</td>\n",
       "      <td>3</td>\n",
       "      <td>scotttamara</td>\n",
       "      <td>Nation purpose heavy give wait song will. List...</td>\n",
       "    </tr>\n",
       "  </tbody>\n",
       "</table>\n",
       "</div>"
      ],
      "text/plain": [
       "   review_id  book_id       username  \\\n",
       "0          1        1   brandtandrea   \n",
       "1          2        1     ryanfranco   \n",
       "2          3        2       lorichen   \n",
       "3          4        3  johnsonamanda   \n",
       "4          5        3    scotttamara   \n",
       "\n",
       "                                                text  \n",
       "0  Mention society tell send professor analysis. ...  \n",
       "1  Foot glass pretty audience hit themselves. Amo...  \n",
       "2  Listen treat keep worry. Miss husband tax but ...  \n",
       "3  Finally month interesting blue could nature cu...  \n",
       "4  Nation purpose heavy give wait song will. List...  "
      ]
     },
     "execution_count": 11,
     "metadata": {},
     "output_type": "execute_result"
    }
   ],
   "source": [
    "query = '''\n",
    "SELECT * \n",
    "FROM reviews \n",
    "LIMIT 5'''\n",
    "get_sql_data(query)"
   ]
  },
  {
   "cell_type": "code",
   "execution_count": 12,
   "id": "78eca142",
   "metadata": {},
   "outputs": [
    {
     "data": {
      "text/html": [
       "<div>\n",
       "<style scoped>\n",
       "    .dataframe tbody tr th:only-of-type {\n",
       "        vertical-align: middle;\n",
       "    }\n",
       "\n",
       "    .dataframe tbody tr th {\n",
       "        vertical-align: top;\n",
       "    }\n",
       "\n",
       "    .dataframe thead th {\n",
       "        text-align: right;\n",
       "    }\n",
       "</style>\n",
       "<table border=\"1\" class=\"dataframe\">\n",
       "  <thead>\n",
       "    <tr style=\"text-align: right;\">\n",
       "      <th></th>\n",
       "      <th>count</th>\n",
       "    </tr>\n",
       "  </thead>\n",
       "  <tbody>\n",
       "    <tr>\n",
       "      <th>0</th>\n",
       "      <td>2793</td>\n",
       "    </tr>\n",
       "  </tbody>\n",
       "</table>\n",
       "</div>"
      ],
      "text/plain": [
       "   count\n",
       "0   2793"
      ]
     },
     "execution_count": 12,
     "metadata": {},
     "output_type": "execute_result"
    }
   ],
   "source": [
    "query = '''\n",
    "SELECT COUNT(*)\n",
    "FROM reviews \n",
    "LIMIT 5\n",
    "'''\n",
    "get_sql_data(query)"
   ]
  },
  {
   "cell_type": "markdown",
   "id": "4954582c",
   "metadata": {},
   "source": [
    "В таблице reviews 2793 строки."
   ]
  },
  {
   "cell_type": "markdown",
   "id": "4c9e6666",
   "metadata": {},
   "source": [
    "### Исследуем данные."
   ]
  },
  {
   "cell_type": "markdown",
   "id": "42f32c54",
   "metadata": {},
   "source": [
    "#### Посчитаем, сколько книг вышло после 1 января 2000 года."
   ]
  },
  {
   "cell_type": "code",
   "execution_count": 13,
   "id": "3067de47",
   "metadata": {},
   "outputs": [
    {
     "data": {
      "text/html": [
       "<div>\n",
       "<style scoped>\n",
       "    .dataframe tbody tr th:only-of-type {\n",
       "        vertical-align: middle;\n",
       "    }\n",
       "\n",
       "    .dataframe tbody tr th {\n",
       "        vertical-align: top;\n",
       "    }\n",
       "\n",
       "    .dataframe thead th {\n",
       "        text-align: right;\n",
       "    }\n",
       "</style>\n",
       "<table border=\"1\" class=\"dataframe\">\n",
       "  <thead>\n",
       "    <tr style=\"text-align: right;\">\n",
       "      <th></th>\n",
       "      <th>count</th>\n",
       "    </tr>\n",
       "  </thead>\n",
       "  <tbody>\n",
       "    <tr>\n",
       "      <th>0</th>\n",
       "      <td>819</td>\n",
       "    </tr>\n",
       "  </tbody>\n",
       "</table>\n",
       "</div>"
      ],
      "text/plain": [
       "   count\n",
       "0    819"
      ]
     },
     "execution_count": 13,
     "metadata": {},
     "output_type": "execute_result"
    }
   ],
   "source": [
    "query = '''\n",
    "SELECT COUNT(*)\n",
    "FROM books \n",
    "WHERE publication_date::date > '2000-01-01'\n",
    "'''\n",
    "get_sql_data(query)"
   ]
  },
  {
   "cell_type": "markdown",
   "id": "1fccdded",
   "metadata": {},
   "source": [
    "После 1 января 2000 года вышло 819 книг."
   ]
  },
  {
   "cell_type": "markdown",
   "id": "471f8944",
   "metadata": {},
   "source": [
    "#### Для каждой книги посчитаем количество обзоров и среднюю оценку."
   ]
  },
  {
   "cell_type": "code",
   "execution_count": 14,
   "id": "848703f4",
   "metadata": {},
   "outputs": [
    {
     "data": {
      "text/html": [
       "<div>\n",
       "<style scoped>\n",
       "    .dataframe tbody tr th:only-of-type {\n",
       "        vertical-align: middle;\n",
       "    }\n",
       "\n",
       "    .dataframe tbody tr th {\n",
       "        vertical-align: top;\n",
       "    }\n",
       "\n",
       "    .dataframe thead th {\n",
       "        text-align: right;\n",
       "    }\n",
       "</style>\n",
       "<table border=\"1\" class=\"dataframe\">\n",
       "  <thead>\n",
       "    <tr style=\"text-align: right;\">\n",
       "      <th></th>\n",
       "      <th>title</th>\n",
       "      <th>avg_rating</th>\n",
       "      <th>count_rev</th>\n",
       "    </tr>\n",
       "  </thead>\n",
       "  <tbody>\n",
       "    <tr>\n",
       "      <th>0</th>\n",
       "      <td>Twilight (Twilight  #1)</td>\n",
       "      <td>3.66</td>\n",
       "      <td>1120</td>\n",
       "    </tr>\n",
       "    <tr>\n",
       "      <th>1</th>\n",
       "      <td>The Hobbit  or There and Back Again</td>\n",
       "      <td>4.13</td>\n",
       "      <td>528</td>\n",
       "    </tr>\n",
       "    <tr>\n",
       "      <th>2</th>\n",
       "      <td>The Catcher in the Rye</td>\n",
       "      <td>3.83</td>\n",
       "      <td>516</td>\n",
       "    </tr>\n",
       "    <tr>\n",
       "      <th>3</th>\n",
       "      <td>Harry Potter and the Prisoner of Azkaban (Harr...</td>\n",
       "      <td>4.41</td>\n",
       "      <td>492</td>\n",
       "    </tr>\n",
       "    <tr>\n",
       "      <th>4</th>\n",
       "      <td>Harry Potter and the Chamber of Secrets (Harry...</td>\n",
       "      <td>4.29</td>\n",
       "      <td>480</td>\n",
       "    </tr>\n",
       "    <tr>\n",
       "      <th>5</th>\n",
       "      <td>Angels &amp; Demons (Robert Langdon  #1)</td>\n",
       "      <td>3.68</td>\n",
       "      <td>420</td>\n",
       "    </tr>\n",
       "    <tr>\n",
       "      <th>6</th>\n",
       "      <td>Harry Potter and the Order of the Phoenix (Har...</td>\n",
       "      <td>4.19</td>\n",
       "      <td>375</td>\n",
       "    </tr>\n",
       "    <tr>\n",
       "      <th>7</th>\n",
       "      <td>The Lightning Thief (Percy Jackson and the Oly...</td>\n",
       "      <td>4.08</td>\n",
       "      <td>372</td>\n",
       "    </tr>\n",
       "    <tr>\n",
       "      <th>8</th>\n",
       "      <td>The Fellowship of the Ring (The Lord of the Ri...</td>\n",
       "      <td>4.39</td>\n",
       "      <td>370</td>\n",
       "    </tr>\n",
       "    <tr>\n",
       "      <th>9</th>\n",
       "      <td>Animal Farm</td>\n",
       "      <td>3.73</td>\n",
       "      <td>370</td>\n",
       "    </tr>\n",
       "  </tbody>\n",
       "</table>\n",
       "</div>"
      ],
      "text/plain": [
       "                                               title  avg_rating  count_rev\n",
       "0                            Twilight (Twilight  #1)        3.66       1120\n",
       "1                The Hobbit  or There and Back Again        4.13        528\n",
       "2                             The Catcher in the Rye        3.83        516\n",
       "3  Harry Potter and the Prisoner of Azkaban (Harr...        4.41        492\n",
       "4  Harry Potter and the Chamber of Secrets (Harry...        4.29        480\n",
       "5               Angels & Demons (Robert Langdon  #1)        3.68        420\n",
       "6  Harry Potter and the Order of the Phoenix (Har...        4.19        375\n",
       "7  The Lightning Thief (Percy Jackson and the Oly...        4.08        372\n",
       "8  The Fellowship of the Ring (The Lord of the Ri...        4.39        370\n",
       "9                                        Animal Farm        3.73        370"
      ]
     },
     "execution_count": 14,
     "metadata": {},
     "output_type": "execute_result"
    }
   ],
   "source": [
    "query = '''\n",
    "SELECT b.title,\n",
    "       ROUND(AVG(ra.rating),2) AS avg_rating,\n",
    "       COUNT(r.review_id) AS count_rev\n",
    "FROM books AS b\n",
    "LEFT JOIN reviews AS r ON b.book_id=r.book_id\n",
    "LEFT JOIN ratings AS ra ON b.book_id=ra.book_id\n",
    "GROUP BY title\n",
    "ORDER BY count_rev DESC, avg_rating DESC\n",
    "LIMIT 10;\n",
    "'''\n",
    "get_sql_data(query)"
   ]
  },
  {
   "cell_type": "markdown",
   "id": "5f60a66f",
   "metadata": {},
   "source": [
    "Самая обозреваемая книга - Сумерки, часть 1.\n",
    "\n",
    "На втором месте Хоббит, или Туда и обратно.\n",
    "\n",
    "Третье место - Над пропастью во ржи.\n",
    "\n",
    "В целом можно сказать что самые обозреваемые книги в основном из жанра фэнтези - 7 из 10."
   ]
  },
  {
   "cell_type": "markdown",
   "id": "305b920f",
   "metadata": {},
   "source": [
    "#### Определим издательство, которое выпустило наибольшее число книг толще 50 страниц — так мы исключим из анализа брошюры."
   ]
  },
  {
   "cell_type": "code",
   "execution_count": 15,
   "id": "26cb1849",
   "metadata": {},
   "outputs": [
    {
     "data": {
      "text/html": [
       "<div>\n",
       "<style scoped>\n",
       "    .dataframe tbody tr th:only-of-type {\n",
       "        vertical-align: middle;\n",
       "    }\n",
       "\n",
       "    .dataframe tbody tr th {\n",
       "        vertical-align: top;\n",
       "    }\n",
       "\n",
       "    .dataframe thead th {\n",
       "        text-align: right;\n",
       "    }\n",
       "</style>\n",
       "<table border=\"1\" class=\"dataframe\">\n",
       "  <thead>\n",
       "    <tr style=\"text-align: right;\">\n",
       "      <th></th>\n",
       "      <th>publisher</th>\n",
       "      <th>publisher_id</th>\n",
       "      <th>count</th>\n",
       "    </tr>\n",
       "  </thead>\n",
       "  <tbody>\n",
       "    <tr>\n",
       "      <th>0</th>\n",
       "      <td>Penguin Books</td>\n",
       "      <td>212</td>\n",
       "      <td>42</td>\n",
       "    </tr>\n",
       "    <tr>\n",
       "      <th>1</th>\n",
       "      <td>Vintage</td>\n",
       "      <td>309</td>\n",
       "      <td>31</td>\n",
       "    </tr>\n",
       "    <tr>\n",
       "      <th>2</th>\n",
       "      <td>Grand Central Publishing</td>\n",
       "      <td>116</td>\n",
       "      <td>25</td>\n",
       "    </tr>\n",
       "    <tr>\n",
       "      <th>3</th>\n",
       "      <td>Penguin Classics</td>\n",
       "      <td>217</td>\n",
       "      <td>24</td>\n",
       "    </tr>\n",
       "    <tr>\n",
       "      <th>4</th>\n",
       "      <td>Bantam</td>\n",
       "      <td>35</td>\n",
       "      <td>19</td>\n",
       "    </tr>\n",
       "  </tbody>\n",
       "</table>\n",
       "</div>"
      ],
      "text/plain": [
       "                  publisher  publisher_id  count\n",
       "0             Penguin Books           212     42\n",
       "1                   Vintage           309     31\n",
       "2  Grand Central Publishing           116     25\n",
       "3          Penguin Classics           217     24\n",
       "4                    Bantam            35     19"
      ]
     },
     "execution_count": 15,
     "metadata": {},
     "output_type": "execute_result"
    }
   ],
   "source": [
    "query = '''\n",
    "SELECT p.publisher,\n",
    "       b.publisher_id,\n",
    "       COUNT(b.book_id)\n",
    "FROM books AS b\n",
    "LEFT JOIN publishers AS p ON b.publisher_id=p.publisher_id\n",
    "WHERE num_pages > 50\n",
    "GROUP BY p.publisher,b.publisher_id\n",
    "ORDER BY COUNT(b.book_id) DESC\n",
    "LIMIT 5;\n",
    "'''\n",
    "get_sql_data(query)"
   ]
  },
  {
   "cell_type": "markdown",
   "id": "c2a6ac7c",
   "metadata": {},
   "source": [
    "Издательство, которое выпустило наибольшее число книг толще 50 страниц - Penguin Books, 42 книги."
   ]
  },
  {
   "cell_type": "markdown",
   "id": "6229989d",
   "metadata": {},
   "source": [
    "#### Определим автора с самой высокой средней оценкой книг — учитываем только книги с 50 и более оценками."
   ]
  },
  {
   "cell_type": "code",
   "execution_count": 16,
   "id": "a8e853d4",
   "metadata": {},
   "outputs": [
    {
     "data": {
      "text/html": [
       "<div>\n",
       "<style scoped>\n",
       "    .dataframe tbody tr th:only-of-type {\n",
       "        vertical-align: middle;\n",
       "    }\n",
       "\n",
       "    .dataframe tbody tr th {\n",
       "        vertical-align: top;\n",
       "    }\n",
       "\n",
       "    .dataframe thead th {\n",
       "        text-align: right;\n",
       "    }\n",
       "</style>\n",
       "<table border=\"1\" class=\"dataframe\">\n",
       "  <thead>\n",
       "    <tr style=\"text-align: right;\">\n",
       "      <th></th>\n",
       "      <th>author</th>\n",
       "      <th>round</th>\n",
       "    </tr>\n",
       "  </thead>\n",
       "  <tbody>\n",
       "    <tr>\n",
       "      <th>0</th>\n",
       "      <td>J.K. Rowling/Mary GrandPré</td>\n",
       "      <td>4.41</td>\n",
       "    </tr>\n",
       "  </tbody>\n",
       "</table>\n",
       "</div>"
      ],
      "text/plain": [
       "                       author  round\n",
       "0  J.K. Rowling/Mary GrandPré   4.41"
      ]
     },
     "execution_count": 16,
     "metadata": {},
     "output_type": "execute_result"
    }
   ],
   "source": [
    "query = '''\n",
    "SELECT a.author,\n",
    "       ROUND(AVG(ra.rating),2)\n",
    "FROM books AS b\n",
    "LEFT JOIN authors AS a ON b.author_id=a.author_id\n",
    "LEFT JOIN ratings AS ra ON b.book_id=ra.book_id\n",
    "GROUP BY b.book_id,a.author,b.author_id\n",
    "HAVING COUNT(rating_id) >= 50\n",
    "ORDER BY AVG(ra.rating) DESC\n",
    "LIMIT 1;\n",
    "'''\n",
    "get_sql_data(query)"
   ]
  },
  {
   "cell_type": "markdown",
   "id": "adf1b1fa",
   "metadata": {},
   "source": [
    "Автор с самой высокой средней оценкой книг - J.K. Rowling/Mary GrandPré, среди книг с 50 и более оценками."
   ]
  },
  {
   "cell_type": "markdown",
   "id": "132d252e",
   "metadata": {},
   "source": [
    "#### Посчитаем среднее количество обзоров от пользователей, которые поставили больше 48 оценок."
   ]
  },
  {
   "cell_type": "code",
   "execution_count": 17,
   "id": "fbd82bbd",
   "metadata": {},
   "outputs": [
    {
     "data": {
      "text/html": [
       "<div>\n",
       "<style scoped>\n",
       "    .dataframe tbody tr th:only-of-type {\n",
       "        vertical-align: middle;\n",
       "    }\n",
       "\n",
       "    .dataframe tbody tr th {\n",
       "        vertical-align: top;\n",
       "    }\n",
       "\n",
       "    .dataframe thead th {\n",
       "        text-align: right;\n",
       "    }\n",
       "</style>\n",
       "<table border=\"1\" class=\"dataframe\">\n",
       "  <thead>\n",
       "    <tr style=\"text-align: right;\">\n",
       "      <th></th>\n",
       "      <th>avg</th>\n",
       "    </tr>\n",
       "  </thead>\n",
       "  <tbody>\n",
       "    <tr>\n",
       "      <th>0</th>\n",
       "      <td>24.0</td>\n",
       "    </tr>\n",
       "  </tbody>\n",
       "</table>\n",
       "</div>"
      ],
      "text/plain": [
       "    avg\n",
       "0  24.0"
      ]
     },
     "execution_count": 17,
     "metadata": {},
     "output_type": "execute_result"
    }
   ],
   "source": [
    "query = '''\n",
    "SELECT AVG(slice.rev_count)\n",
    "FROM (SELECT username,\n",
    "             COUNT(review_id) AS rev_count\n",
    "      FROM reviews\n",
    "      WHERE username IN (SELECT username\n",
    "                         FROM ratings\n",
    "                         GROUP BY username\n",
    "                         HAVING COUNT(rating_id) > 48)\n",
    "     GROUP BY username) AS slice\n",
    "'''\n",
    "get_sql_data(query)"
   ]
  },
  {
   "cell_type": "markdown",
   "id": "e7afef90",
   "metadata": {},
   "source": [
    "Cреднее количество обзоров от пользователей, которые поставили больше 48 оценок - 24."
   ]
  }
 ],
 "metadata": {
  "ExecuteTimeLog": [
   {
    "duration": 11763,
    "start_time": "2024-02-26T10:25:12.844Z"
   },
   {
    "duration": 59,
    "start_time": "2024-02-26T10:25:46.499Z"
   },
   {
    "duration": 85,
    "start_time": "2024-02-26T10:26:57.425Z"
   },
   {
    "duration": 16,
    "start_time": "2024-02-26T10:30:21.185Z"
   },
   {
    "duration": 11,
    "start_time": "2024-02-26T10:30:57.313Z"
   },
   {
    "duration": 11,
    "start_time": "2024-02-26T10:31:15.964Z"
   },
   {
    "duration": 10,
    "start_time": "2024-02-26T10:31:54.352Z"
   },
   {
    "duration": 12,
    "start_time": "2024-02-26T10:32:17.140Z"
   },
   {
    "duration": 5,
    "start_time": "2024-02-26T10:32:19.615Z"
   },
   {
    "duration": 47,
    "start_time": "2024-02-26T10:34:38.904Z"
   },
   {
    "duration": 11898,
    "start_time": "2024-02-26T10:43:57.401Z"
   },
   {
    "duration": 41,
    "start_time": "2024-02-26T10:44:09.301Z"
   },
   {
    "duration": 10,
    "start_time": "2024-02-26T10:44:09.343Z"
   },
   {
    "duration": 84,
    "start_time": "2024-02-26T10:44:09.354Z"
   },
   {
    "duration": 8,
    "start_time": "2024-02-26T10:44:09.440Z"
   },
   {
    "duration": 10,
    "start_time": "2024-02-26T10:44:40.474Z"
   },
   {
    "duration": 9,
    "start_time": "2024-02-26T10:44:42.374Z"
   },
   {
    "duration": 11,
    "start_time": "2024-02-26T10:45:32.399Z"
   },
   {
    "duration": 10,
    "start_time": "2024-02-26T10:45:35.374Z"
   },
   {
    "duration": 12,
    "start_time": "2024-02-26T10:45:52.853Z"
   },
   {
    "duration": 10,
    "start_time": "2024-02-26T10:45:55.974Z"
   },
   {
    "duration": 11396,
    "start_time": "2024-02-26T10:46:32.366Z"
   },
   {
    "duration": 61,
    "start_time": "2024-02-26T10:46:43.764Z"
   },
   {
    "duration": 9,
    "start_time": "2024-02-26T10:46:43.826Z"
   },
   {
    "duration": 22,
    "start_time": "2024-02-26T10:46:43.836Z"
   },
   {
    "duration": 15,
    "start_time": "2024-02-26T10:46:43.860Z"
   },
   {
    "duration": 32,
    "start_time": "2024-02-26T10:46:43.876Z"
   },
   {
    "duration": 11,
    "start_time": "2024-02-26T10:46:43.910Z"
   },
   {
    "duration": 20,
    "start_time": "2024-02-26T10:46:43.922Z"
   },
   {
    "duration": 10,
    "start_time": "2024-02-26T10:46:43.943Z"
   },
   {
    "duration": 11,
    "start_time": "2024-02-26T10:46:43.954Z"
   },
   {
    "duration": 14,
    "start_time": "2024-02-26T10:46:43.967Z"
   },
   {
    "duration": 13,
    "start_time": "2024-02-26T11:52:31.448Z"
   },
   {
    "duration": 10,
    "start_time": "2024-02-26T11:54:30.885Z"
   },
   {
    "duration": 12,
    "start_time": "2024-02-26T12:01:52.585Z"
   },
   {
    "duration": 4,
    "start_time": "2024-02-26T12:07:51.853Z"
   },
   {
    "duration": 11995,
    "start_time": "2024-02-26T12:09:02.323Z"
   },
   {
    "duration": 7,
    "start_time": "2024-02-26T12:09:14.320Z"
   },
   {
    "duration": 60,
    "start_time": "2024-02-26T12:09:14.329Z"
   },
   {
    "duration": 11,
    "start_time": "2024-02-26T12:09:14.391Z"
   },
   {
    "duration": 17,
    "start_time": "2024-02-26T12:09:14.405Z"
   },
   {
    "duration": 9,
    "start_time": "2024-02-26T12:09:14.427Z"
   },
   {
    "duration": 25,
    "start_time": "2024-02-26T12:09:14.437Z"
   },
   {
    "duration": 10,
    "start_time": "2024-02-26T12:09:14.464Z"
   },
   {
    "duration": 16,
    "start_time": "2024-02-26T12:09:14.475Z"
   },
   {
    "duration": 9,
    "start_time": "2024-02-26T12:09:14.492Z"
   },
   {
    "duration": 15,
    "start_time": "2024-02-26T12:09:14.502Z"
   },
   {
    "duration": 9,
    "start_time": "2024-02-26T12:09:14.518Z"
   },
   {
    "duration": 16,
    "start_time": "2024-02-26T12:09:14.528Z"
   },
   {
    "duration": 28,
    "start_time": "2024-02-26T12:22:14.632Z"
   },
   {
    "duration": 27,
    "start_time": "2024-02-26T12:25:29.421Z"
   },
   {
    "duration": 28,
    "start_time": "2024-02-26T12:26:02.878Z"
   },
   {
    "duration": 28,
    "start_time": "2024-02-26T12:27:30.626Z"
   },
   {
    "duration": 25,
    "start_time": "2024-02-26T12:28:07.082Z"
   },
   {
    "duration": 42,
    "start_time": "2024-02-26T12:28:55.856Z"
   },
   {
    "duration": 22,
    "start_time": "2024-02-26T12:29:06.202Z"
   },
   {
    "duration": 107,
    "start_time": "2024-02-26T12:31:24.331Z"
   },
   {
    "duration": 86,
    "start_time": "2024-02-26T12:40:17.351Z"
   },
   {
    "duration": 11,
    "start_time": "2024-02-26T12:40:46.263Z"
   },
   {
    "duration": 11388,
    "start_time": "2024-02-26T12:43:38.508Z"
   },
   {
    "duration": 8,
    "start_time": "2024-02-26T12:43:49.898Z"
   },
   {
    "duration": 39,
    "start_time": "2024-02-26T12:43:49.907Z"
   },
   {
    "duration": 8,
    "start_time": "2024-02-26T12:43:49.947Z"
   },
   {
    "duration": 9,
    "start_time": "2024-02-26T12:43:49.957Z"
   },
   {
    "duration": 8,
    "start_time": "2024-02-26T12:43:49.967Z"
   },
   {
    "duration": 19,
    "start_time": "2024-02-26T12:43:49.977Z"
   },
   {
    "duration": 25,
    "start_time": "2024-02-26T12:43:49.997Z"
   },
   {
    "duration": 15,
    "start_time": "2024-02-26T12:43:50.023Z"
   },
   {
    "duration": 13,
    "start_time": "2024-02-26T12:43:50.039Z"
   },
   {
    "duration": 23,
    "start_time": "2024-02-26T12:43:50.054Z"
   },
   {
    "duration": 9,
    "start_time": "2024-02-26T12:43:50.079Z"
   },
   {
    "duration": 14,
    "start_time": "2024-02-26T12:43:50.090Z"
   },
   {
    "duration": 24,
    "start_time": "2024-02-26T12:43:50.107Z"
   },
   {
    "duration": 10,
    "start_time": "2024-02-26T12:43:50.132Z"
   },
   {
    "duration": 87,
    "start_time": "2024-02-26T12:45:28.571Z"
   },
   {
    "duration": 12,
    "start_time": "2024-02-26T12:46:02.341Z"
   },
   {
    "duration": 15,
    "start_time": "2024-02-26T12:56:39.131Z"
   },
   {
    "duration": 17,
    "start_time": "2024-02-26T12:58:21.254Z"
   },
   {
    "duration": 112,
    "start_time": "2024-02-26T12:59:58.377Z"
   },
   {
    "duration": 17,
    "start_time": "2024-02-26T13:03:40.482Z"
   },
   {
    "duration": 106,
    "start_time": "2024-02-26T13:04:32.592Z"
   },
   {
    "duration": 16,
    "start_time": "2024-02-26T13:04:43.958Z"
   },
   {
    "duration": 15,
    "start_time": "2024-02-26T13:05:06.152Z"
   },
   {
    "duration": 15,
    "start_time": "2024-02-26T13:05:16.061Z"
   },
   {
    "duration": 18,
    "start_time": "2024-02-26T13:06:46.814Z"
   },
   {
    "duration": 21,
    "start_time": "2024-02-26T13:07:25.494Z"
   },
   {
    "duration": 16,
    "start_time": "2024-02-26T13:07:33.024Z"
   },
   {
    "duration": 16,
    "start_time": "2024-02-26T13:22:04.398Z"
   },
   {
    "duration": 12,
    "start_time": "2024-02-26T13:22:47.312Z"
   },
   {
    "duration": 12,
    "start_time": "2024-02-26T13:22:57.143Z"
   },
   {
    "duration": 13,
    "start_time": "2024-02-26T13:24:32.099Z"
   },
   {
    "duration": 13844,
    "start_time": "2024-02-26T13:26:59.810Z"
   },
   {
    "duration": 8,
    "start_time": "2024-02-26T13:27:13.656Z"
   },
   {
    "duration": 70,
    "start_time": "2024-02-26T13:27:13.665Z"
   },
   {
    "duration": 9,
    "start_time": "2024-02-26T13:27:13.737Z"
   },
   {
    "duration": 9,
    "start_time": "2024-02-26T13:27:13.748Z"
   },
   {
    "duration": 11,
    "start_time": "2024-02-26T13:27:13.758Z"
   },
   {
    "duration": 21,
    "start_time": "2024-02-26T13:27:13.771Z"
   },
   {
    "duration": 8,
    "start_time": "2024-02-26T13:27:13.794Z"
   },
   {
    "duration": 15,
    "start_time": "2024-02-26T13:27:13.803Z"
   },
   {
    "duration": 9,
    "start_time": "2024-02-26T13:27:13.819Z"
   },
   {
    "duration": 12,
    "start_time": "2024-02-26T13:27:13.829Z"
   },
   {
    "duration": 9,
    "start_time": "2024-02-26T13:27:13.842Z"
   },
   {
    "duration": 20,
    "start_time": "2024-02-26T13:27:13.852Z"
   },
   {
    "duration": 24,
    "start_time": "2024-02-26T13:27:13.887Z"
   },
   {
    "duration": 11,
    "start_time": "2024-02-26T13:27:13.913Z"
   },
   {
    "duration": 21,
    "start_time": "2024-02-26T13:27:13.925Z"
   },
   {
    "duration": 12,
    "start_time": "2024-02-26T13:27:13.947Z"
   }
  ],
  "kernelspec": {
   "display_name": "Python 3 (ipykernel)",
   "language": "python",
   "name": "python3"
  },
  "language_info": {
   "codemirror_mode": {
    "name": "ipython",
    "version": 3
   },
   "file_extension": ".py",
   "mimetype": "text/x-python",
   "name": "python",
   "nbconvert_exporter": "python",
   "pygments_lexer": "ipython3",
   "version": "3.9.5"
  },
  "toc": {
   "base_numbering": 1,
   "nav_menu": {},
   "number_sections": true,
   "sideBar": true,
   "skip_h1_title": true,
   "title_cell": "Table of Contents",
   "title_sidebar": "Contents",
   "toc_cell": false,
   "toc_position": {},
   "toc_section_display": true,
   "toc_window_display": true
  }
 },
 "nbformat": 4,
 "nbformat_minor": 5
}
