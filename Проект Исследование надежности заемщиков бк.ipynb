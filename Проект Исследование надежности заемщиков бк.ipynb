{
 "cells": [
  {
   "cell_type": "markdown",
   "id": "386f2ae7",
   "metadata": {
    "deletable": false,
    "editable": false,
    "id": "386f2ae7"
   },
   "source": [
    "# Исследование надежности заемщиков\n"
   ]
  },
  {
   "cell_type": "markdown",
   "id": "ffe86f65",
   "metadata": {
    "deletable": false,
    "editable": false,
    "id": "ffe86f65"
   },
   "source": [
    "Во второй части проекта вы выполните шаги 3 и 4. Их вручную проверит ревьюер.\n",
    "Чтобы вам не пришлось писать код заново для шагов 1 и 2, мы добавили авторские решения в ячейки с кодом. \n",
    "\n"
   ]
  },
  {
   "cell_type": "markdown",
   "id": "26613308",
   "metadata": {
    "deletable": false,
    "editable": false,
    "id": "26613308"
   },
   "source": [
    "## Откройте таблицу и изучите общую информацию о данных"
   ]
  },
  {
   "cell_type": "markdown",
   "id": "3c9f838e",
   "metadata": {
    "deletable": false,
    "editable": false,
    "id": "3c9f838e"
   },
   "source": [
    "**Задание 1. Импортируйте библиотеку pandas. Считайте данные из csv-файла в датафрейм и сохраните в переменную `data`. Путь к файлу:**\n",
    "\n",
    "`/datasets/data.csv`"
   ]
  },
  {
   "cell_type": "code",
   "execution_count": 1,
   "id": "77a68a90",
   "metadata": {
    "deletable": false,
    "id": "77a68a90"
   },
   "outputs": [],
   "source": [
    "import pandas as pd\n",
    "\n",
    "try:\n",
    "    data = pd.read_csv('/datasets/data.csv')\n",
    "except:\n",
    "    data = pd.read_csv('https://code.s3.yandex.net/datasets/data.csv')"
   ]
  },
  {
   "cell_type": "markdown",
   "id": "45365635",
   "metadata": {
    "deletable": false,
    "editable": false,
    "id": "45365635"
   },
   "source": [
    "**Задание 2. Выведите первые 20 строчек датафрейма `data` на экран.**"
   ]
  },
  {
   "cell_type": "code",
   "execution_count": 2,
   "id": "b0451a9a",
   "metadata": {
    "deletable": false,
    "id": "b0451a9a",
    "outputId": "1a8f3ef2-d323-4ec2-ddf7-89670b5944c4"
   },
   "outputs": [
    {
     "data": {
      "text/html": [
       "<div>\n",
       "<style scoped>\n",
       "    .dataframe tbody tr th:only-of-type {\n",
       "        vertical-align: middle;\n",
       "    }\n",
       "\n",
       "    .dataframe tbody tr th {\n",
       "        vertical-align: top;\n",
       "    }\n",
       "\n",
       "    .dataframe thead th {\n",
       "        text-align: right;\n",
       "    }\n",
       "</style>\n",
       "<table border=\"1\" class=\"dataframe\">\n",
       "  <thead>\n",
       "    <tr style=\"text-align: right;\">\n",
       "      <th></th>\n",
       "      <th>children</th>\n",
       "      <th>days_employed</th>\n",
       "      <th>dob_years</th>\n",
       "      <th>education</th>\n",
       "      <th>education_id</th>\n",
       "      <th>family_status</th>\n",
       "      <th>family_status_id</th>\n",
       "      <th>gender</th>\n",
       "      <th>income_type</th>\n",
       "      <th>debt</th>\n",
       "      <th>total_income</th>\n",
       "      <th>purpose</th>\n",
       "    </tr>\n",
       "  </thead>\n",
       "  <tbody>\n",
       "    <tr>\n",
       "      <th>0</th>\n",
       "      <td>1</td>\n",
       "      <td>-8437.673028</td>\n",
       "      <td>42</td>\n",
       "      <td>высшее</td>\n",
       "      <td>0</td>\n",
       "      <td>женат / замужем</td>\n",
       "      <td>0</td>\n",
       "      <td>F</td>\n",
       "      <td>сотрудник</td>\n",
       "      <td>0</td>\n",
       "      <td>253875.639453</td>\n",
       "      <td>покупка жилья</td>\n",
       "    </tr>\n",
       "    <tr>\n",
       "      <th>1</th>\n",
       "      <td>1</td>\n",
       "      <td>-4024.803754</td>\n",
       "      <td>36</td>\n",
       "      <td>среднее</td>\n",
       "      <td>1</td>\n",
       "      <td>женат / замужем</td>\n",
       "      <td>0</td>\n",
       "      <td>F</td>\n",
       "      <td>сотрудник</td>\n",
       "      <td>0</td>\n",
       "      <td>112080.014102</td>\n",
       "      <td>приобретение автомобиля</td>\n",
       "    </tr>\n",
       "    <tr>\n",
       "      <th>2</th>\n",
       "      <td>0</td>\n",
       "      <td>-5623.422610</td>\n",
       "      <td>33</td>\n",
       "      <td>Среднее</td>\n",
       "      <td>1</td>\n",
       "      <td>женат / замужем</td>\n",
       "      <td>0</td>\n",
       "      <td>M</td>\n",
       "      <td>сотрудник</td>\n",
       "      <td>0</td>\n",
       "      <td>145885.952297</td>\n",
       "      <td>покупка жилья</td>\n",
       "    </tr>\n",
       "    <tr>\n",
       "      <th>3</th>\n",
       "      <td>3</td>\n",
       "      <td>-4124.747207</td>\n",
       "      <td>32</td>\n",
       "      <td>среднее</td>\n",
       "      <td>1</td>\n",
       "      <td>женат / замужем</td>\n",
       "      <td>0</td>\n",
       "      <td>M</td>\n",
       "      <td>сотрудник</td>\n",
       "      <td>0</td>\n",
       "      <td>267628.550329</td>\n",
       "      <td>дополнительное образование</td>\n",
       "    </tr>\n",
       "    <tr>\n",
       "      <th>4</th>\n",
       "      <td>0</td>\n",
       "      <td>340266.072047</td>\n",
       "      <td>53</td>\n",
       "      <td>среднее</td>\n",
       "      <td>1</td>\n",
       "      <td>гражданский брак</td>\n",
       "      <td>1</td>\n",
       "      <td>F</td>\n",
       "      <td>пенсионер</td>\n",
       "      <td>0</td>\n",
       "      <td>158616.077870</td>\n",
       "      <td>сыграть свадьбу</td>\n",
       "    </tr>\n",
       "    <tr>\n",
       "      <th>5</th>\n",
       "      <td>0</td>\n",
       "      <td>-926.185831</td>\n",
       "      <td>27</td>\n",
       "      <td>высшее</td>\n",
       "      <td>0</td>\n",
       "      <td>гражданский брак</td>\n",
       "      <td>1</td>\n",
       "      <td>M</td>\n",
       "      <td>компаньон</td>\n",
       "      <td>0</td>\n",
       "      <td>255763.565419</td>\n",
       "      <td>покупка жилья</td>\n",
       "    </tr>\n",
       "    <tr>\n",
       "      <th>6</th>\n",
       "      <td>0</td>\n",
       "      <td>-2879.202052</td>\n",
       "      <td>43</td>\n",
       "      <td>высшее</td>\n",
       "      <td>0</td>\n",
       "      <td>женат / замужем</td>\n",
       "      <td>0</td>\n",
       "      <td>F</td>\n",
       "      <td>компаньон</td>\n",
       "      <td>0</td>\n",
       "      <td>240525.971920</td>\n",
       "      <td>операции с жильем</td>\n",
       "    </tr>\n",
       "    <tr>\n",
       "      <th>7</th>\n",
       "      <td>0</td>\n",
       "      <td>-152.779569</td>\n",
       "      <td>50</td>\n",
       "      <td>СРЕДНЕЕ</td>\n",
       "      <td>1</td>\n",
       "      <td>женат / замужем</td>\n",
       "      <td>0</td>\n",
       "      <td>M</td>\n",
       "      <td>сотрудник</td>\n",
       "      <td>0</td>\n",
       "      <td>135823.934197</td>\n",
       "      <td>образование</td>\n",
       "    </tr>\n",
       "    <tr>\n",
       "      <th>8</th>\n",
       "      <td>2</td>\n",
       "      <td>-6929.865299</td>\n",
       "      <td>35</td>\n",
       "      <td>ВЫСШЕЕ</td>\n",
       "      <td>0</td>\n",
       "      <td>гражданский брак</td>\n",
       "      <td>1</td>\n",
       "      <td>F</td>\n",
       "      <td>сотрудник</td>\n",
       "      <td>0</td>\n",
       "      <td>95856.832424</td>\n",
       "      <td>на проведение свадьбы</td>\n",
       "    </tr>\n",
       "    <tr>\n",
       "      <th>9</th>\n",
       "      <td>0</td>\n",
       "      <td>-2188.756445</td>\n",
       "      <td>41</td>\n",
       "      <td>среднее</td>\n",
       "      <td>1</td>\n",
       "      <td>женат / замужем</td>\n",
       "      <td>0</td>\n",
       "      <td>M</td>\n",
       "      <td>сотрудник</td>\n",
       "      <td>0</td>\n",
       "      <td>144425.938277</td>\n",
       "      <td>покупка жилья для семьи</td>\n",
       "    </tr>\n",
       "    <tr>\n",
       "      <th>10</th>\n",
       "      <td>2</td>\n",
       "      <td>-4171.483647</td>\n",
       "      <td>36</td>\n",
       "      <td>высшее</td>\n",
       "      <td>0</td>\n",
       "      <td>женат / замужем</td>\n",
       "      <td>0</td>\n",
       "      <td>M</td>\n",
       "      <td>компаньон</td>\n",
       "      <td>0</td>\n",
       "      <td>113943.491460</td>\n",
       "      <td>покупка недвижимости</td>\n",
       "    </tr>\n",
       "    <tr>\n",
       "      <th>11</th>\n",
       "      <td>0</td>\n",
       "      <td>-792.701887</td>\n",
       "      <td>40</td>\n",
       "      <td>среднее</td>\n",
       "      <td>1</td>\n",
       "      <td>женат / замужем</td>\n",
       "      <td>0</td>\n",
       "      <td>F</td>\n",
       "      <td>сотрудник</td>\n",
       "      <td>0</td>\n",
       "      <td>77069.234271</td>\n",
       "      <td>покупка коммерческой недвижимости</td>\n",
       "    </tr>\n",
       "    <tr>\n",
       "      <th>12</th>\n",
       "      <td>0</td>\n",
       "      <td>NaN</td>\n",
       "      <td>65</td>\n",
       "      <td>среднее</td>\n",
       "      <td>1</td>\n",
       "      <td>гражданский брак</td>\n",
       "      <td>1</td>\n",
       "      <td>M</td>\n",
       "      <td>пенсионер</td>\n",
       "      <td>0</td>\n",
       "      <td>NaN</td>\n",
       "      <td>сыграть свадьбу</td>\n",
       "    </tr>\n",
       "    <tr>\n",
       "      <th>13</th>\n",
       "      <td>0</td>\n",
       "      <td>-1846.641941</td>\n",
       "      <td>54</td>\n",
       "      <td>неоконченное высшее</td>\n",
       "      <td>2</td>\n",
       "      <td>женат / замужем</td>\n",
       "      <td>0</td>\n",
       "      <td>F</td>\n",
       "      <td>сотрудник</td>\n",
       "      <td>0</td>\n",
       "      <td>130458.228857</td>\n",
       "      <td>приобретение автомобиля</td>\n",
       "    </tr>\n",
       "    <tr>\n",
       "      <th>14</th>\n",
       "      <td>0</td>\n",
       "      <td>-1844.956182</td>\n",
       "      <td>56</td>\n",
       "      <td>высшее</td>\n",
       "      <td>0</td>\n",
       "      <td>гражданский брак</td>\n",
       "      <td>1</td>\n",
       "      <td>F</td>\n",
       "      <td>компаньон</td>\n",
       "      <td>1</td>\n",
       "      <td>165127.911772</td>\n",
       "      <td>покупка жилой недвижимости</td>\n",
       "    </tr>\n",
       "    <tr>\n",
       "      <th>15</th>\n",
       "      <td>1</td>\n",
       "      <td>-972.364419</td>\n",
       "      <td>26</td>\n",
       "      <td>среднее</td>\n",
       "      <td>1</td>\n",
       "      <td>женат / замужем</td>\n",
       "      <td>0</td>\n",
       "      <td>F</td>\n",
       "      <td>сотрудник</td>\n",
       "      <td>0</td>\n",
       "      <td>116820.904450</td>\n",
       "      <td>строительство собственной недвижимости</td>\n",
       "    </tr>\n",
       "    <tr>\n",
       "      <th>16</th>\n",
       "      <td>0</td>\n",
       "      <td>-1719.934226</td>\n",
       "      <td>35</td>\n",
       "      <td>среднее</td>\n",
       "      <td>1</td>\n",
       "      <td>женат / замужем</td>\n",
       "      <td>0</td>\n",
       "      <td>F</td>\n",
       "      <td>сотрудник</td>\n",
       "      <td>0</td>\n",
       "      <td>289202.704229</td>\n",
       "      <td>недвижимость</td>\n",
       "    </tr>\n",
       "    <tr>\n",
       "      <th>17</th>\n",
       "      <td>0</td>\n",
       "      <td>-2369.999720</td>\n",
       "      <td>33</td>\n",
       "      <td>высшее</td>\n",
       "      <td>0</td>\n",
       "      <td>гражданский брак</td>\n",
       "      <td>1</td>\n",
       "      <td>M</td>\n",
       "      <td>сотрудник</td>\n",
       "      <td>0</td>\n",
       "      <td>90410.586745</td>\n",
       "      <td>строительство недвижимости</td>\n",
       "    </tr>\n",
       "    <tr>\n",
       "      <th>18</th>\n",
       "      <td>0</td>\n",
       "      <td>400281.136913</td>\n",
       "      <td>53</td>\n",
       "      <td>среднее</td>\n",
       "      <td>1</td>\n",
       "      <td>вдовец / вдова</td>\n",
       "      <td>2</td>\n",
       "      <td>F</td>\n",
       "      <td>пенсионер</td>\n",
       "      <td>0</td>\n",
       "      <td>56823.777243</td>\n",
       "      <td>на покупку подержанного автомобиля</td>\n",
       "    </tr>\n",
       "    <tr>\n",
       "      <th>19</th>\n",
       "      <td>0</td>\n",
       "      <td>-10038.818549</td>\n",
       "      <td>48</td>\n",
       "      <td>СРЕДНЕЕ</td>\n",
       "      <td>1</td>\n",
       "      <td>в разводе</td>\n",
       "      <td>3</td>\n",
       "      <td>F</td>\n",
       "      <td>сотрудник</td>\n",
       "      <td>0</td>\n",
       "      <td>242831.107982</td>\n",
       "      <td>на покупку своего автомобиля</td>\n",
       "    </tr>\n",
       "  </tbody>\n",
       "</table>\n",
       "</div>"
      ],
      "text/plain": [
       "    children  days_employed  dob_years            education  education_id  \\\n",
       "0          1   -8437.673028         42               высшее             0   \n",
       "1          1   -4024.803754         36              среднее             1   \n",
       "2          0   -5623.422610         33              Среднее             1   \n",
       "3          3   -4124.747207         32              среднее             1   \n",
       "4          0  340266.072047         53              среднее             1   \n",
       "5          0    -926.185831         27               высшее             0   \n",
       "6          0   -2879.202052         43               высшее             0   \n",
       "7          0    -152.779569         50              СРЕДНЕЕ             1   \n",
       "8          2   -6929.865299         35               ВЫСШЕЕ             0   \n",
       "9          0   -2188.756445         41              среднее             1   \n",
       "10         2   -4171.483647         36               высшее             0   \n",
       "11         0    -792.701887         40              среднее             1   \n",
       "12         0            NaN         65              среднее             1   \n",
       "13         0   -1846.641941         54  неоконченное высшее             2   \n",
       "14         0   -1844.956182         56               высшее             0   \n",
       "15         1    -972.364419         26              среднее             1   \n",
       "16         0   -1719.934226         35              среднее             1   \n",
       "17         0   -2369.999720         33               высшее             0   \n",
       "18         0  400281.136913         53              среднее             1   \n",
       "19         0  -10038.818549         48              СРЕДНЕЕ             1   \n",
       "\n",
       "       family_status  family_status_id gender income_type  debt  \\\n",
       "0    женат / замужем                 0      F   сотрудник     0   \n",
       "1    женат / замужем                 0      F   сотрудник     0   \n",
       "2    женат / замужем                 0      M   сотрудник     0   \n",
       "3    женат / замужем                 0      M   сотрудник     0   \n",
       "4   гражданский брак                 1      F   пенсионер     0   \n",
       "5   гражданский брак                 1      M   компаньон     0   \n",
       "6    женат / замужем                 0      F   компаньон     0   \n",
       "7    женат / замужем                 0      M   сотрудник     0   \n",
       "8   гражданский брак                 1      F   сотрудник     0   \n",
       "9    женат / замужем                 0      M   сотрудник     0   \n",
       "10   женат / замужем                 0      M   компаньон     0   \n",
       "11   женат / замужем                 0      F   сотрудник     0   \n",
       "12  гражданский брак                 1      M   пенсионер     0   \n",
       "13   женат / замужем                 0      F   сотрудник     0   \n",
       "14  гражданский брак                 1      F   компаньон     1   \n",
       "15   женат / замужем                 0      F   сотрудник     0   \n",
       "16   женат / замужем                 0      F   сотрудник     0   \n",
       "17  гражданский брак                 1      M   сотрудник     0   \n",
       "18    вдовец / вдова                 2      F   пенсионер     0   \n",
       "19         в разводе                 3      F   сотрудник     0   \n",
       "\n",
       "     total_income                                 purpose  \n",
       "0   253875.639453                           покупка жилья  \n",
       "1   112080.014102                 приобретение автомобиля  \n",
       "2   145885.952297                           покупка жилья  \n",
       "3   267628.550329              дополнительное образование  \n",
       "4   158616.077870                         сыграть свадьбу  \n",
       "5   255763.565419                           покупка жилья  \n",
       "6   240525.971920                       операции с жильем  \n",
       "7   135823.934197                             образование  \n",
       "8    95856.832424                   на проведение свадьбы  \n",
       "9   144425.938277                 покупка жилья для семьи  \n",
       "10  113943.491460                    покупка недвижимости  \n",
       "11   77069.234271       покупка коммерческой недвижимости  \n",
       "12            NaN                         сыграть свадьбу  \n",
       "13  130458.228857                 приобретение автомобиля  \n",
       "14  165127.911772              покупка жилой недвижимости  \n",
       "15  116820.904450  строительство собственной недвижимости  \n",
       "16  289202.704229                            недвижимость  \n",
       "17   90410.586745              строительство недвижимости  \n",
       "18   56823.777243      на покупку подержанного автомобиля  \n",
       "19  242831.107982            на покупку своего автомобиля  "
      ]
     },
     "execution_count": 2,
     "metadata": {},
     "output_type": "execute_result"
    }
   ],
   "source": [
    "data.head(20)"
   ]
  },
  {
   "cell_type": "markdown",
   "id": "0ed8f27f",
   "metadata": {
    "deletable": false,
    "editable": false,
    "id": "0ed8f27f"
   },
   "source": [
    "**Задание 3. Выведите основную информацию о датафрейме с помощью метода `info()`.**"
   ]
  },
  {
   "cell_type": "code",
   "execution_count": 3,
   "id": "ab3f863b",
   "metadata": {
    "deletable": false,
    "id": "ab3f863b",
    "outputId": "15376089-8dad-46c9-b520-c05248d43158"
   },
   "outputs": [
    {
     "name": "stdout",
     "output_type": "stream",
     "text": [
      "<class 'pandas.core.frame.DataFrame'>\n",
      "RangeIndex: 21525 entries, 0 to 21524\n",
      "Data columns (total 12 columns):\n",
      " #   Column            Non-Null Count  Dtype  \n",
      "---  ------            --------------  -----  \n",
      " 0   children          21525 non-null  int64  \n",
      " 1   days_employed     19351 non-null  float64\n",
      " 2   dob_years         21525 non-null  int64  \n",
      " 3   education         21525 non-null  object \n",
      " 4   education_id      21525 non-null  int64  \n",
      " 5   family_status     21525 non-null  object \n",
      " 6   family_status_id  21525 non-null  int64  \n",
      " 7   gender            21525 non-null  object \n",
      " 8   income_type       21525 non-null  object \n",
      " 9   debt              21525 non-null  int64  \n",
      " 10  total_income      19351 non-null  float64\n",
      " 11  purpose           21525 non-null  object \n",
      "dtypes: float64(2), int64(5), object(5)\n",
      "memory usage: 2.0+ MB\n"
     ]
    }
   ],
   "source": [
    "data.info()"
   ]
  },
  {
   "cell_type": "markdown",
   "id": "60e3e22d",
   "metadata": {
    "deletable": false,
    "editable": false,
    "id": "60e3e22d"
   },
   "source": [
    "## Предобработка данных"
   ]
  },
  {
   "cell_type": "markdown",
   "id": "03dc170c",
   "metadata": {
    "deletable": false,
    "editable": false,
    "id": "03dc170c"
   },
   "source": [
    "### Удаление пропусков"
   ]
  },
  {
   "cell_type": "markdown",
   "id": "a4f54eef",
   "metadata": {
    "deletable": false,
    "editable": false,
    "id": "a4f54eef"
   },
   "source": [
    "**Задание 4. Выведите количество пропущенных значений для каждого столбца. Используйте комбинацию двух методов.**"
   ]
  },
  {
   "cell_type": "code",
   "execution_count": 4,
   "id": "2dc372b2",
   "metadata": {
    "deletable": false,
    "id": "2dc372b2",
    "outputId": "81f4d817-781c-465c-ed15-91ce4446810d"
   },
   "outputs": [
    {
     "data": {
      "text/plain": [
       "children               0\n",
       "days_employed       2174\n",
       "dob_years              0\n",
       "education              0\n",
       "education_id           0\n",
       "family_status          0\n",
       "family_status_id       0\n",
       "gender                 0\n",
       "income_type            0\n",
       "debt                   0\n",
       "total_income        2174\n",
       "purpose                0\n",
       "dtype: int64"
      ]
     },
     "execution_count": 4,
     "metadata": {},
     "output_type": "execute_result"
    }
   ],
   "source": [
    "data.isna().sum()"
   ]
  },
  {
   "cell_type": "markdown",
   "id": "14f011b1",
   "metadata": {
    "deletable": false,
    "editable": false,
    "id": "14f011b1"
   },
   "source": [
    "**Задание 5. В двух столбцах есть пропущенные значения. Один из них — `days_employed`. Пропуски в этом столбце вы обработаете на следующем этапе. Другой столбец с пропущенными значениями — `total_income` — хранит данные о доходах. На сумму дохода сильнее всего влияет тип занятости, поэтому заполнить пропуски в этом столбце нужно медианным значением по каждому типу из столбца `income_type`. Например, у человека с типом занятости `сотрудник` пропуск в столбце `total_income` должен быть заполнен медианным доходом среди всех записей с тем же типом.**"
   ]
  },
  {
   "cell_type": "code",
   "execution_count": 5,
   "id": "bdabfb6e",
   "metadata": {
    "deletable": false,
    "id": "bdabfb6e"
   },
   "outputs": [],
   "source": [
    "for t in data['income_type'].unique():\n",
    "    data.loc[(data['income_type'] == t) & (data['total_income'].isna()), 'total_income'] = \\\n",
    "    data.loc[(data['income_type'] == t), 'total_income'].median()"
   ]
  },
  {
   "cell_type": "markdown",
   "id": "5be34059",
   "metadata": {
    "deletable": false,
    "editable": false,
    "id": "5be34059"
   },
   "source": [
    "### Обработка аномальных значений"
   ]
  },
  {
   "cell_type": "markdown",
   "id": "a87606cb",
   "metadata": {
    "deletable": false,
    "editable": false,
    "id": "a87606cb"
   },
   "source": [
    "**Задание 6. В данных могут встречаться артефакты (аномалии) — значения, которые не отражают действительность и появились по какой-то ошибке. таким артефактом будет отрицательное количество дней трудового стажа в столбце `days_employed`. Для реальных данных это нормально. Обработайте значения в этом столбце: замените все отрицательные значения положительными с помощью метода `abs()`.**"
   ]
  },
  {
   "cell_type": "code",
   "execution_count": 6,
   "id": "020c46cc",
   "metadata": {
    "deletable": false,
    "id": "020c46cc"
   },
   "outputs": [],
   "source": [
    "data['days_employed'] = data['days_employed'].abs()"
   ]
  },
  {
   "cell_type": "markdown",
   "id": "45538a3a",
   "metadata": {
    "deletable": false,
    "editable": false,
    "id": "45538a3a"
   },
   "source": [
    "**Задание 7. Для каждого типа занятости выведите медианное значение трудового стажа `days_employed` в днях.**"
   ]
  },
  {
   "cell_type": "code",
   "execution_count": 7,
   "id": "cd3e6328",
   "metadata": {
    "deletable": false,
    "id": "cd3e6328",
    "outputId": "801ef80e-522b-4668-f34e-565af7432bcf"
   },
   "outputs": [
    {
     "data": {
      "text/plain": [
       "income_type\n",
       "безработный        366413.652744\n",
       "в декрете            3296.759962\n",
       "госслужащий          2689.368353\n",
       "компаньон            1547.382223\n",
       "пенсионер          365213.306266\n",
       "предприниматель       520.848083\n",
       "сотрудник            1574.202821\n",
       "студент               578.751554\n",
       "Name: days_employed, dtype: float64"
      ]
     },
     "execution_count": 7,
     "metadata": {},
     "output_type": "execute_result"
    }
   ],
   "source": [
    "data.groupby('income_type')['days_employed'].agg('median')"
   ]
  },
  {
   "cell_type": "markdown",
   "id": "90c5f058",
   "metadata": {
    "deletable": false,
    "editable": false,
    "id": "90c5f058"
   },
   "source": [
    "У двух типов (безработные и пенсионеры) получатся аномально большие значения. Исправить такие значения сложно, поэтому оставьте их как есть."
   ]
  },
  {
   "cell_type": "markdown",
   "id": "9652e50d",
   "metadata": {
    "deletable": false,
    "editable": false,
    "id": "9652e50d"
   },
   "source": [
    "**Задание 8. Выведите перечень уникальных значений столбца `children`.**"
   ]
  },
  {
   "cell_type": "code",
   "execution_count": 8,
   "id": "dbb37b8e",
   "metadata": {
    "deletable": false,
    "id": "dbb37b8e",
    "outputId": "6975b15c-7f95-4697-d16d-a0c79b657b03"
   },
   "outputs": [
    {
     "data": {
      "text/plain": [
       "array([ 1,  0,  3,  2, -1,  4, 20,  5])"
      ]
     },
     "execution_count": 8,
     "metadata": {},
     "output_type": "execute_result"
    }
   ],
   "source": [
    "data['children'].unique()"
   ]
  },
  {
   "cell_type": "markdown",
   "id": "2b8b0715",
   "metadata": {
    "deletable": false,
    "editable": false,
    "id": "2b8b0715"
   },
   "source": [
    "**Задание 9. В столбце `children` есть два аномальных значения. Удалите строки, в которых встречаются такие аномальные значения из датафрейма `data`.**"
   ]
  },
  {
   "cell_type": "code",
   "execution_count": 9,
   "id": "20009df8",
   "metadata": {
    "deletable": false,
    "id": "20009df8"
   },
   "outputs": [],
   "source": [
    "data = data[(data['children'] != -1) & (data['children'] != 20)]"
   ]
  },
  {
   "cell_type": "markdown",
   "id": "8c6ac9f1",
   "metadata": {
    "deletable": false,
    "editable": false,
    "id": "8c6ac9f1"
   },
   "source": [
    "**Задание 10. Ещё раз выведите перечень уникальных значений столбца `children`, чтобы убедиться, что артефакты удалены.**"
   ]
  },
  {
   "cell_type": "code",
   "execution_count": 10,
   "id": "07337b81",
   "metadata": {
    "deletable": false,
    "id": "07337b81",
    "outputId": "b2097101-d49d-44d9-901b-32a65c9463d1"
   },
   "outputs": [
    {
     "data": {
      "text/plain": [
       "array([1, 0, 3, 2, 4, 5])"
      ]
     },
     "execution_count": 10,
     "metadata": {},
     "output_type": "execute_result"
    }
   ],
   "source": [
    "data['children'].unique()"
   ]
  },
  {
   "cell_type": "markdown",
   "id": "ee3f52d4",
   "metadata": {
    "deletable": false,
    "editable": false,
    "id": "ee3f52d4"
   },
   "source": [
    "### Удаление пропусков (продолжение)"
   ]
  },
  {
   "cell_type": "markdown",
   "id": "a700b0e4",
   "metadata": {
    "deletable": false,
    "editable": false,
    "id": "a700b0e4"
   },
   "source": [
    "**Задание 11. Заполните пропуски в столбце `days_employed` медианными значениями по каждого типа занятости `income_type`.**"
   ]
  },
  {
   "cell_type": "code",
   "execution_count": 11,
   "id": "61946b83",
   "metadata": {
    "deletable": false,
    "id": "61946b83"
   },
   "outputs": [],
   "source": [
    "for t in data['income_type'].unique():\n",
    "    data.loc[(data['income_type'] == t) & (data['days_employed'].isna()), 'days_employed'] = \\\n",
    "    data.loc[(data['income_type'] == t), 'days_employed'].median()"
   ]
  },
  {
   "cell_type": "markdown",
   "id": "550dcd9b",
   "metadata": {
    "deletable": false,
    "editable": false,
    "id": "550dcd9b"
   },
   "source": [
    "**Задание 12. Убедитесь, что все пропуски заполнены. Проверьте себя и ещё раз выведите количество пропущенных значений для каждого столбца с помощью двух методов.**"
   ]
  },
  {
   "cell_type": "code",
   "execution_count": 12,
   "id": "937c7014",
   "metadata": {
    "deletable": false,
    "id": "937c7014",
    "outputId": "8da1e4e1-358e-4e87-98c9-f261bce0a7b2"
   },
   "outputs": [
    {
     "data": {
      "text/plain": [
       "children            0\n",
       "days_employed       0\n",
       "dob_years           0\n",
       "education           0\n",
       "education_id        0\n",
       "family_status       0\n",
       "family_status_id    0\n",
       "gender              0\n",
       "income_type         0\n",
       "debt                0\n",
       "total_income        0\n",
       "purpose             0\n",
       "dtype: int64"
      ]
     },
     "execution_count": 12,
     "metadata": {},
     "output_type": "execute_result"
    }
   ],
   "source": [
    "data.isna().sum()"
   ]
  },
  {
   "cell_type": "markdown",
   "id": "d522e295",
   "metadata": {
    "deletable": false,
    "editable": false,
    "id": "d522e295"
   },
   "source": [
    "### Изменение типов данных"
   ]
  },
  {
   "cell_type": "markdown",
   "id": "c229c581",
   "metadata": {
    "deletable": false,
    "editable": false,
    "id": "c229c581"
   },
   "source": [
    "**Задание 13. Замените вещественный тип данных в столбце `total_income` на целочисленный с помощью метода `astype()`.**"
   ]
  },
  {
   "cell_type": "code",
   "execution_count": 13,
   "id": "31036462",
   "metadata": {
    "deletable": false,
    "id": "31036462"
   },
   "outputs": [],
   "source": [
    "data['total_income'] = data['total_income'].astype(int)"
   ]
  },
  {
   "cell_type": "markdown",
   "id": "b8e3d1d9",
   "metadata": {
    "deletable": false,
    "editable": false,
    "id": "b8e3d1d9"
   },
   "source": [
    "### Обработка дубликатов"
   ]
  },
  {
   "cell_type": "markdown",
   "id": "9be53c49",
   "metadata": {
    "deletable": false,
    "editable": false,
    "id": "9be53c49"
   },
   "source": [
    "**Задание 14. Обработайте неявные дубликаты в столбце `education`. В этом столбце есть одни и те же значения, но записанные по-разному: с использованием заглавных и строчных букв. Приведите их к нижнему регистру.**"
   ]
  },
  {
   "cell_type": "code",
   "execution_count": 14,
   "id": "d89e73e1",
   "metadata": {
    "deletable": false,
    "id": "d89e73e1"
   },
   "outputs": [],
   "source": [
    "data['education'] = data['education'].str.lower()"
   ]
  },
  {
   "cell_type": "markdown",
   "id": "01d4500e",
   "metadata": {
    "deletable": false,
    "editable": false,
    "id": "01d4500e"
   },
   "source": [
    "**Задание 15. Выведите на экран количество строк-дубликатов в данных. Если такие строки присутствуют, удалите их.**"
   ]
  },
  {
   "cell_type": "code",
   "execution_count": 15,
   "id": "e10efb23",
   "metadata": {
    "deletable": false,
    "id": "e10efb23",
    "outputId": "9684deba-1934-42d1-99e1-cda61740f822"
   },
   "outputs": [
    {
     "data": {
      "text/plain": [
       "71"
      ]
     },
     "execution_count": 15,
     "metadata": {},
     "output_type": "execute_result"
    }
   ],
   "source": [
    "data.duplicated().sum()"
   ]
  },
  {
   "cell_type": "code",
   "execution_count": 16,
   "id": "df853f20",
   "metadata": {
    "deletable": false,
    "id": "df853f20"
   },
   "outputs": [],
   "source": [
    "data = data.drop_duplicates()"
   ]
  },
  {
   "cell_type": "markdown",
   "id": "627be38f",
   "metadata": {
    "deletable": false,
    "editable": false,
    "id": "627be38f"
   },
   "source": [
    "### Категоризация данных"
   ]
  },
  {
   "cell_type": "markdown",
   "id": "4684c3e0",
   "metadata": {
    "deletable": false,
    "editable": false,
    "id": "4684c3e0"
   },
   "source": [
    "**Задание 16. На основании диапазонов, указанных ниже, создайте в датафрейме `data` столбец `total_income_category` с категориями:**\n",
    "\n",
    "- 0–30000 — `'E'`;\n",
    "- 30001–50000 — `'D'`;\n",
    "- 50001–200000 — `'C'`;\n",
    "- 200001–1000000 — `'B'`;\n",
    "- 1000001 и выше — `'A'`.\n",
    "\n",
    "\n",
    "**Например, кредитополучателю с доходом 25000 нужно назначить категорию `'E'`, а клиенту, получающему 235000, — `'B'`. Используйте собственную функцию с именем `categorize_income()` и метод `apply()`.**"
   ]
  },
  {
   "cell_type": "code",
   "execution_count": 17,
   "id": "78965238",
   "metadata": {
    "deletable": false,
    "id": "78965238"
   },
   "outputs": [],
   "source": [
    "def categorize_income(income):\n",
    "    try:\n",
    "        if 0 <= income <= 30000:\n",
    "            return 'E'\n",
    "        elif 30001 <= income <= 50000:\n",
    "            return 'D'\n",
    "        elif 50001 <= income <= 200000:\n",
    "            return 'C'\n",
    "        elif 200001 <= income <= 1000000:\n",
    "            return 'B'\n",
    "        elif income >= 1000001:\n",
    "            return 'A'\n",
    "    except:\n",
    "        pass"
   ]
  },
  {
   "cell_type": "code",
   "execution_count": 18,
   "id": "0980ada1",
   "metadata": {
    "deletable": false,
    "id": "0980ada1"
   },
   "outputs": [],
   "source": [
    "data['total_income_category'] = data['total_income'].apply(categorize_income)"
   ]
  },
  {
   "cell_type": "markdown",
   "id": "9917bba0",
   "metadata": {
    "deletable": false,
    "editable": false,
    "id": "9917bba0"
   },
   "source": [
    "**Задание 17. Выведите на экран перечень уникальных целей взятия кредита из столбца `purpose`.**"
   ]
  },
  {
   "cell_type": "code",
   "execution_count": 19,
   "id": "ee07b65e",
   "metadata": {
    "deletable": false,
    "id": "ee07b65e",
    "outputId": "673c12d9-7d7e-4ae0-9812-c622c89dd244"
   },
   "outputs": [
    {
     "data": {
      "text/plain": [
       "array(['покупка жилья', 'приобретение автомобиля',\n",
       "       'дополнительное образование', 'сыграть свадьбу',\n",
       "       'операции с жильем', 'образование', 'на проведение свадьбы',\n",
       "       'покупка жилья для семьи', 'покупка недвижимости',\n",
       "       'покупка коммерческой недвижимости', 'покупка жилой недвижимости',\n",
       "       'строительство собственной недвижимости', 'недвижимость',\n",
       "       'строительство недвижимости', 'на покупку подержанного автомобиля',\n",
       "       'на покупку своего автомобиля',\n",
       "       'операции с коммерческой недвижимостью',\n",
       "       'строительство жилой недвижимости', 'жилье',\n",
       "       'операции со своей недвижимостью', 'автомобили',\n",
       "       'заняться образованием', 'сделка с подержанным автомобилем',\n",
       "       'получение образования', 'автомобиль', 'свадьба',\n",
       "       'получение дополнительного образования', 'покупка своего жилья',\n",
       "       'операции с недвижимостью', 'получение высшего образования',\n",
       "       'свой автомобиль', 'сделка с автомобилем',\n",
       "       'профильное образование', 'высшее образование',\n",
       "       'покупка жилья для сдачи', 'на покупку автомобиля', 'ремонт жилью',\n",
       "       'заняться высшим образованием'], dtype=object)"
      ]
     },
     "execution_count": 19,
     "metadata": {},
     "output_type": "execute_result"
    }
   ],
   "source": [
    "data['purpose'].unique()"
   ]
  },
  {
   "cell_type": "markdown",
   "id": "52b79d56",
   "metadata": {
    "deletable": false,
    "editable": false,
    "id": "52b79d56"
   },
   "source": [
    "**Задание 18. Создайте функцию, которая на основании данных из столбца `purpose` сформирует новый столбец `purpose_category`, в который войдут следующие категории:**\n",
    "\n",
    "- `'операции с автомобилем'`,\n",
    "- `'операции с недвижимостью'`,\n",
    "- `'проведение свадьбы'`,\n",
    "- `'получение образования'`.\n",
    "\n",
    "**Например, если в столбце `purpose` находится подстрока `'на покупку автомобиля'`, то в столбце `purpose_category` должна появиться строка `'операции с автомобилем'`.**\n",
    "\n",
    "**Используйте собственную функцию с именем `categorize_purpose()` и метод `apply()`. Изучите данные в столбце `purpose` и определите, какие подстроки помогут вам правильно определить категорию.**"
   ]
  },
  {
   "cell_type": "code",
   "execution_count": 20,
   "id": "be41da5d",
   "metadata": {
    "deletable": false,
    "id": "be41da5d"
   },
   "outputs": [],
   "source": [
    "def categorize_purpose(row):\n",
    "    try:\n",
    "        if 'автом' in row:\n",
    "            return 'операции с автомобилем'\n",
    "        elif 'жил' in row or 'недвиж' in row:\n",
    "            return 'операции с недвижимостью'\n",
    "        elif 'свад' in row:\n",
    "            return 'проведение свадьбы'\n",
    "        elif 'образов' in row:\n",
    "            return 'получение образования'\n",
    "    except:\n",
    "        return 'нет категории'"
   ]
  },
  {
   "cell_type": "code",
   "execution_count": 21,
   "id": "94c4a19a",
   "metadata": {
    "deletable": false,
    "id": "94c4a19a"
   },
   "outputs": [],
   "source": [
    "data['purpose_category'] = data['purpose'].apply(categorize_purpose)"
   ]
  },
  {
   "cell_type": "markdown",
   "id": "3d596c34",
   "metadata": {
    "deletable": false,
    "editable": false,
    "id": "3d596c34"
   },
   "source": [
    "### Шаг 3. Исследуйте данные и ответьте на вопросы"
   ]
  },
  {
   "cell_type": "markdown",
   "id": "648db036",
   "metadata": {
    "deletable": false,
    "editable": false,
    "id": "648db036"
   },
   "source": [
    "#### 3.1 Есть ли зависимость между количеством детей и возвратом кредита в срок?"
   ]
  },
  {
   "cell_type": "code",
   "execution_count": 22,
   "id": "7fcff25e",
   "metadata": {
    "deletable": false,
    "id": "7fcff25e"
   },
   "outputs": [
    {
     "name": "stdout",
     "output_type": "stream",
     "text": [
      "           debt       ratio\n",
      "          count   sum      \n",
      "children                   \n",
      "4            41     4  9.8%\n",
      "2          2052   194  9.5%\n",
      "1          4808   444  9.2%\n",
      "3           330    27  8.2%\n",
      "0         14091  1063  7.5%\n",
      "5             9     0  0.0%\n"
     ]
    }
   ],
   "source": [
    "#children_count = data.groupby('children')['children'].count() # Посчитаем количество заемщиков с детьми по категориям по количеству детей\n",
    "#display(children_count)\n",
    "#children_debt_group = data.groupby('children')['debt'].sum() # Посчитаем количество заемщиков с задолженностью по каждой группе\n",
    "#display(children_debt_group)\n",
    "#children_dependency = children_debt_group / children_count # Посчитаем долю заемщиков с задолженностью в каждой группе\n",
    "#children_dependency[0]\n",
    "#print(f'Доля заемщиков с задолженностью в группе заемщиков без детей составляет {children_dependency[0]:.1%}')\n",
    "#print(f'Доля заемщиков с задолженностью в группе заемщиков с 1 ребенком составляет {children_dependency[1]:.1%}')\n",
    "#print(f'Доля заемщиков с задолженностью в группе заемщиков с 2 детьми составляет {children_dependency[2]:.1%}')\n",
    "#print(f'Доля заемщиков с задолженностью в группе заемщиков с 3 детьми составляет {children_dependency[3]:.1%}')\n",
    "#print(f'Доля заемщиков с задолженностью в группе заемщиков с 4 детьми составляет {children_dependency[4]:.1%}')\n",
    "#print(f'Доля заемщиков с задолженностью в группе заемщиков с 5 детьми составляет {children_dependency[5]:.1%}')\n",
    "# Ваш код будет здесь. Вы можете создавать новые ячейки.\n",
    "data_children_groupe = data.groupby(['children']).agg({'debt':['count','sum']})\n",
    "data_children_groupe['ratio'] = data_children_groupe['debt']['sum']/data_children_groupe['debt']['count']\n",
    "data_children_groupe['ratio'] = data_children_groupe['ratio'].transform(lambda x: '{:,.1%}'.format(x))\n",
    "print(data_children_groupe.sort_values(by='ratio', ascending=False))\n",
    "\n"
   ]
  },
  {
   "cell_type": "markdown",
   "id": "2eb9088e",
   "metadata": {
    "deletable": false,
    "id": "2eb9088e"
   },
   "source": [
    "**Вывод:** \n",
    "\n",
    "     Зависимость между количеством детей и возвратом кредита в срок - есть: \n",
    "    * Доля заемщиков с задолженностью, в группах с детьми - от 8.2% до 9.8%\n",
    "    * Доля заемщиков с задолженностью в группе заемщиков без детей - 7.5%\n",
    "    \n"
   ]
  },
  {
   "cell_type": "markdown",
   "id": "74c9b3a7",
   "metadata": {
    "deletable": false,
    "editable": false,
    "id": "74c9b3a7"
   },
   "source": [
    "#### 3.2 Есть ли зависимость между семейным положением и возвратом кредита в срок?"
   ]
  },
  {
   "cell_type": "code",
   "execution_count": 23,
   "id": "ea9e00d3",
   "metadata": {},
   "outputs": [],
   "source": [
    "def categorize_family_status(row):\n",
    "    try:\n",
    "        if 'женат / замужем' in row or 'вдовец / вдова' in row or 'в разводе' in row:\n",
    "            return '0' \n",
    "        elif 'Не женат / не замужем' in row or 'гражданский брак' in row:\n",
    "            return '1'\n",
    "    except:\n",
    "        return 'нет категории'"
   ]
  },
  {
   "cell_type": "code",
   "execution_count": 24,
   "id": "73182f02",
   "metadata": {},
   "outputs": [],
   "source": [
    "data['family_status_id'] = data['family_status'].apply(categorize_family_status)"
   ]
  },
  {
   "cell_type": "code",
   "execution_count": 25,
   "id": "8098ab3b",
   "metadata": {
    "deletable": false,
    "id": "8098ab3b"
   },
   "outputs": [
    {
     "name": "stdout",
     "output_type": "stream",
     "text": [
      "                   debt       ratio\n",
      "                  count   sum      \n",
      "family_status_id                   \n",
      "1                  6930   658  9.5%\n",
      "0                 14401  1074  7.5%\n"
     ]
    }
   ],
   "source": [
    "#family_status_count = data.groupby('family_status')['family_status'].count() # Сгруппируем и посчитаем количество заемщиков по категориям по семейному положению\n",
    "#display(family_status_count)\n",
    "#family_status_debt_group = data.groupby('family_status')['debt'].sum() # Посчитаем количество заемщиков с задолженностью по каждой группе\n",
    "#display(family_status_debt_group)\n",
    "#family_status_dependency = family_status_debt_group / family_status_count # Посчитаем долю заемщиков с задолженностью в каждой группе\n",
    "#display(family_status_dependency)\n",
    "#print(f'Доля заемщиков с задолженностью в группе семейных заемщиков составляет {family_status_dependency[4]:.1%}') \n",
    "#print(f'Доля заемщиков с задолженностью в группе несемейных заемщиков составляет {family_status_dependency[0:3].mean():.1%}') # средняя доля по всем несемейным заемщикам\n",
    "# Ваш код будет здесь. Вы можете создавать новые ячейки.\n",
    "\n",
    "data_family_status_groupe = data.groupby(['family_status_id']).agg({'debt':['count','sum']})\n",
    "data_family_status_groupe['ratio'] = data_family_status_groupe['debt']['sum']/data_family_status_groupe['debt']['count']\n",
    "data_family_status_groupe['ratio'] = data_family_status_groupe['ratio'].transform(lambda x: '{:,.1%}'.format(x))\n",
    "print(data_family_status_groupe.sort_values(by='ratio', ascending=False))\n"
   ]
  },
  {
   "cell_type": "markdown",
   "id": "c389ca63",
   "metadata": {
    "deletable": false,
    "id": "c389ca63"
   },
   "source": [
    "**Вывод:** \n",
    "\n",
    "     Зависимость между семейным положением и возвратом кредита в срок есть: \n",
    "    * Доля заемщиков с задолженностью в группе когда-либо состоявших в официальном браке составляет 7.5%\n",
    "    * Доля заемщиков с задолженностью в группе не состоявших в официальном браке составляет 9.5%\n",
    "\n",
    "    \n"
   ]
  },
  {
   "cell_type": "markdown",
   "id": "9529de68",
   "metadata": {
    "deletable": false,
    "editable": false,
    "id": "9529de68"
   },
   "source": [
    "#### 3.3 Есть ли зависимость между уровнем дохода и возвратом кредита в срок?"
   ]
  },
  {
   "cell_type": "code",
   "execution_count": 26,
   "id": "8787f44a",
   "metadata": {
    "deletable": false,
    "id": "8787f44a"
   },
   "outputs": [
    {
     "name": "stdout",
     "output_type": "stream",
     "text": [
      "                        debt       ratio\n",
      "                       count   sum      \n",
      "total_income_category                   \n",
      "E                         22     2  9.1%\n",
      "C                      15921  1353  8.5%\n",
      "A                         25     2  8.0%\n",
      "B                       5014   354  7.1%\n",
      "D                        349    21  6.0%\n"
     ]
    }
   ],
   "source": [
    "#total_income_category_count = data.groupby('total_income_category')['total_income_category'].count() # Сгруппируем и посчитаем количество заемщиков по категориям по уровню дохода\n",
    "#display(total_income_category_count)\n",
    "#total_income_category_debt_group = data.groupby('total_income_category')['debt'].sum() # Посчитаем количество заемщиков с задолженностью по каждой группе\n",
    "#display(total_income_category_debt_group)\n",
    "#total_income_category_dependency = total_income_category_debt_group / total_income_category_count # Посчитаем долю заемщиков с задолженностью в каждой группе\n",
    "#display(total_income_category_dependency)\n",
    "#print(f'Доля заемщиков с задолженностью в группе B {total_income_category_dependency[1]:.1%}') \n",
    "#print(f'Доля заемщиков с задолженностью в группе C {total_income_category_dependency[2]:.1%}')  \n",
    "#print(f'Доля заемщиков с задолженностью в группе D {total_income_category_dependency[3]:.1%}')  \n",
    "# Ваш код будет здесь. Вы можете создавать новые ячейки.\n",
    "data_total_income_groupe = data.groupby(['total_income_category']).agg({'debt':['count','sum']})\n",
    "data_total_income_groupe['ratio'] = data_total_income_groupe['debt']['sum']/data_total_income_groupe['debt']['count']\n",
    "data_total_income_groupe['ratio'] = data_total_income_groupe['ratio'].transform(lambda x: '{:,.1%}'.format(x))\n",
    "print(data_total_income_groupe.sort_values(by='ratio', ascending=False))"
   ]
  },
  {
   "cell_type": "markdown",
   "id": "6dd14b57",
   "metadata": {
    "deletable": false,
    "id": "6dd14b57"
   },
   "source": [
    "**Вывод:** \n",
    "\n",
    "     Зависимость между уровнем дохода и возвратом кредита в срок - есть: \n",
    "    * Самая большая доля заемщиков с задолженностью в группе С - 8,5%\n",
    "    * Самая маленькая доля заемщиков с задолженностью в группе D - 6 %\n",
    "    \n",
    "Данные по задолженностям в группе заемщиков A и E не репрезентативные, их количество в выборке менее 1%."
   ]
  },
  {
   "cell_type": "markdown",
   "id": "1dcc9b12",
   "metadata": {
    "deletable": false,
    "editable": false,
    "id": "1dcc9b12"
   },
   "source": [
    "#### 3.4 Как разные цели кредита влияют на его возврат в срок?"
   ]
  },
  {
   "cell_type": "code",
   "execution_count": 27,
   "id": "c602bc8b",
   "metadata": {
    "deletable": false,
    "id": "c602bc8b"
   },
   "outputs": [
    {
     "name": "stdout",
     "output_type": "stream",
     "text": [
      "                           debt      ratio\n",
      "                          count  sum      \n",
      "purpose_category                          \n",
      "операции с автомобилем     4279  400  9.3%\n",
      "получение образования      3988  369  9.3%\n",
      "проведение свадьбы         2313  183  7.9%\n",
      "операции с недвижимостью  10751  780  7.3%\n"
     ]
    }
   ],
   "source": [
    "#purpose_category_count = data.groupby('purpose_category')['purpose_category'].count() # Сгруппируем и посчитаем количество заемщиков по категориям по целям кредита\n",
    "#display(purpose_category_count)\n",
    "#purpose_category_debt_group = data.groupby('purpose_category')['debt'].sum() # Посчитаем количество заемщиков с задолженностью по каждой группе\n",
    "#display(purpose_category_debt_group)\n",
    "#purpose_category_dependency = purpose_category_debt_group / purpose_category_count # Посчитаем долю заемщиков с задолженностью в каждой группе\n",
    "#display(purpose_category_dependency)\n",
    "#print(f'Доля заемщиков с задолженностью в группе \"операции с автомобилем\" {purpose_category_dependency[0]:.1%}')\n",
    "#print(f'Доля заемщиков с задолженностью в группе \"операции с недвижимостью\" {purpose_category_dependency[1]:.1%}')\n",
    "#print(f'Доля заемщиков с задолженностью в группе \"получение образования\" {purpose_category_dependency[2]:.1%}')\n",
    "#print(f'Доля заемщиков с задолженностью в группе \"проведение свадьбы\" {purpose_category_dependency[3]:.1%}')# Ваш код будет здесь. Вы можете создавать новые ячейки.\n",
    "data_purpose_groupe = data.groupby(['purpose_category']).agg({'debt':['count','sum']})\n",
    "data_purpose_groupe['ratio'] = data_purpose_groupe['debt']['sum']/data_purpose_groupe['debt']['count']\n",
    "data_purpose_groupe['ratio'] = data_purpose_groupe['ratio'].transform(lambda x: '{:,.1%}'.format(x))\n",
    "print(data_purpose_groupe.sort_values(by='ratio', ascending=False))"
   ]
  },
  {
   "cell_type": "markdown",
   "id": "cf05ed63",
   "metadata": {
    "deletable": false,
    "id": "cf05ed63"
   },
   "source": [
    "**Вывод:** \n",
    "\n",
    "     Зависимость между целью кредита и возвратом кредита в срок - есть: \n",
    "    * Самая большая доля заемщиков с задолженностью в группах \"операции с автомобилем\" и \"получение образования\" - 9,3%\n",
    "    * Самая маленькая доля заемщиков с задолженностью в группах: \"операции с недвижимостью\" -7.3% и \"проведение свадьбы\" -7.9%\n",
    "    \n"
   ]
  },
  {
   "cell_type": "markdown",
   "id": "46c1f10b",
   "metadata": {
    "deletable": false,
    "editable": false,
    "id": "46c1f10b"
   },
   "source": [
    "#### 3.5 Приведите возможные причины появления пропусков в исходных данных."
   ]
  },
  {
   "cell_type": "raw",
   "id": "9076ffe1",
   "metadata": {
    "deletable": false,
    "id": "3697d2a9"
   },
   "source": [
    "*Ответ:* количество пропусков в изначальном датафрейме в столбце days_employed равно количеству пропусков в столбце total_income, что говорит нам о том, что не указывали трудовой стаж люди с отсутствием дохода."
   ]
  },
  {
   "cell_type": "markdown",
   "id": "3137d257",
   "metadata": {
    "deletable": false,
    "editable": false,
    "id": "3137d257"
   },
   "source": [
    "#### 3.6 Объясните, почему заполнить пропуски медианным значением — лучшее решение для количественных переменных."
   ]
  },
  {
   "cell_type": "markdown",
   "id": "cf40012a",
   "metadata": {
    "deletable": false,
    "id": "cf40012a"
   },
   "source": [
    "*Ответ:* Медиана корректно характеризует данные, когда некоторые значения сильно выделяются среди большинства. Если Билл Гейтс заходит в бар, то в среднем каждый находящийся в баре человек не становится долларовым миллионером))"
   ]
  },
  {
   "cell_type": "markdown",
   "id": "57bc304e",
   "metadata": {
    "deletable": false,
    "editable": false,
    "id": "57bc304e"
   },
   "source": [
    "### Шаг 4: общий вывод."
   ]
  },
  {
   "cell_type": "markdown",
   "id": "1ab75d1c",
   "metadata": {
    "deletable": false,
    "id": "1ab75d1c"
   },
   "source": [
    "В начале исследования мы встретили артефакты (аномалии) в столбце days_employed — отрицательное количество дней трудового стажа .Мы обработали эти значения - заменили все отрицательные значения положительными.\n",
    "\n",
    "Далее мы обнаружили пропуски в изначальных данных, в столбце days_employed и в столбце total_income. Пропущенные значения мы заменили медианными, как наиболее устойчивыми к выбросам.\n",
    "\n",
    "Затем удалили дубликаты в столбце education,но сначала привели данные в столбце к нижнему регистру.\n",
    "\n",
    "После, при помощи функций мы присвоили категории заемщикам по уровню дохода и целям кредитования.\n",
    "\n",
    "Мы проверили четыре гипотезы и установили:\n",
    "\n",
    "Зависимость между количеством детей и возвратом кредита в срок - есть: \n",
    "* Доля заемщиков с задолженностью, в группах с детьми - от 8.2% до 9.8%\n",
    "* Доля заемщиков с задолженностью в группе заемщиков без детей - 7.5%\n",
    "Первая гипотеза полностью подтвердилась.\n",
    "\n",
    "Зависимость между семейным положением и возвратом кредита в срок есть: \n",
    "* Доля заемщиков с задолженностью в группе когда-либо состоявших в официальном браке составляет 7.6%\n",
    "* Доля заемщиков с задолженностью в группе не состоявших в официальном браке составляет 8.9%\n",
    "Таким образом, вторая гипотеза полностью подтвердилась.\n",
    "\n",
    "Зависимость между уровнем дохода и возвратом кредита в срок - есть: \n",
    "* Самая большая доля заемщиков с задолженностью в группе С - 8,5%\n",
    "* Самая маленькая доля заемщиков с задолженностью в группе D - 6 %\n",
    "\n",
    "Данные по задолженностям в группе заемщиков A и E не репрезентативные, их количество в выборке менее 1%.\n",
    "\n",
    "Третья гипотеза полностью подтвердилась. \n",
    "\n",
    "Зависимость между целью кредита и возвратом кредита в срок - есть: \n",
    "* Самая большая доля заемщиков с задолженностью в группах \"операции с автомобилем\" и \"получение образования\" - 9,3%\n",
    "* Самая маленькая доля заемщиков с задолженностью в группах: \"операции с недвижимостью\" -7.3% и \"проведение свадьбы\" -7.9%\n",
    "Четвертая гипотеза полностью подтвердилась.\n",
    "\n",
    "Итог исследования показывает, что хороший клиент не имеет детей,когда-либо состоял в официальном браке, имеет доход 30001–50000 рублей, целью кредитования является \"операции с недвижимостью\" или \"проведение свадьбы\".\n",
    "\n",
    "В свою очередь плохой клиент имеет детей, не состоял в официальном браке, имеет доход 50001–200000 руб., целью кредитования является \"операции с автомобилем\" или \"получение образования\"."
   ]
  }
 ],
 "metadata": {
  "ExecuteTimeLog": [
   {
    "duration": 689,
    "start_time": "2023-09-12T07:47:11.968Z"
   },
   {
    "duration": 21,
    "start_time": "2023-09-12T07:47:12.660Z"
   },
   {
    "duration": 13,
    "start_time": "2023-09-12T07:47:12.685Z"
   },
   {
    "duration": 8,
    "start_time": "2023-09-12T07:47:12.700Z"
   },
   {
    "duration": 54,
    "start_time": "2023-09-12T07:47:12.710Z"
   },
   {
    "duration": 3,
    "start_time": "2023-09-12T07:47:12.765Z"
   },
   {
    "duration": 9,
    "start_time": "2023-09-12T07:47:12.769Z"
   },
   {
    "duration": 17,
    "start_time": "2023-09-12T07:47:12.780Z"
   },
   {
    "duration": 8,
    "start_time": "2023-09-12T07:47:12.799Z"
   },
   {
    "duration": 5,
    "start_time": "2023-09-12T07:47:12.808Z"
   },
   {
    "duration": 39,
    "start_time": "2023-09-12T07:47:12.814Z"
   },
   {
    "duration": 9,
    "start_time": "2023-09-12T07:47:12.854Z"
   },
   {
    "duration": 6,
    "start_time": "2023-09-12T07:47:12.864Z"
   },
   {
    "duration": 13,
    "start_time": "2023-09-12T07:47:12.871Z"
   },
   {
    "duration": 24,
    "start_time": "2023-09-12T07:47:12.885Z"
   },
   {
    "duration": 15,
    "start_time": "2023-09-12T07:47:12.910Z"
   },
   {
    "duration": 3,
    "start_time": "2023-09-12T07:47:12.927Z"
   },
   {
    "duration": 27,
    "start_time": "2023-09-12T07:47:12.931Z"
   },
   {
    "duration": 8,
    "start_time": "2023-09-12T07:47:12.959Z"
   },
   {
    "duration": 4,
    "start_time": "2023-09-12T07:47:12.969Z"
   },
   {
    "duration": 11,
    "start_time": "2023-09-12T07:47:12.974Z"
   },
   {
    "duration": 3,
    "start_time": "2023-09-12T07:47:12.986Z"
   },
   {
    "duration": 7,
    "start_time": "2023-09-12T07:47:12.990Z"
   },
   {
    "duration": 4,
    "start_time": "2023-09-12T07:47:12.999Z"
   },
   {
    "duration": 17,
    "start_time": "2023-09-12T07:47:13.005Z"
   },
   {
    "duration": 474,
    "start_time": "2023-09-12T07:47:23.221Z"
   },
   {
    "duration": 17,
    "start_time": "2023-09-12T07:47:23.697Z"
   },
   {
    "duration": 28,
    "start_time": "2023-09-12T07:47:23.716Z"
   },
   {
    "duration": 15,
    "start_time": "2023-09-12T07:47:23.746Z"
   },
   {
    "duration": 43,
    "start_time": "2023-09-12T07:47:23.762Z"
   },
   {
    "duration": 3,
    "start_time": "2023-09-12T07:47:23.807Z"
   },
   {
    "duration": 13,
    "start_time": "2023-09-12T07:47:23.811Z"
   },
   {
    "duration": 19,
    "start_time": "2023-09-12T07:47:23.825Z"
   },
   {
    "duration": 12,
    "start_time": "2023-09-12T07:47:23.846Z"
   },
   {
    "duration": 5,
    "start_time": "2023-09-12T07:47:23.862Z"
   },
   {
    "duration": 38,
    "start_time": "2023-09-12T07:47:23.868Z"
   },
   {
    "duration": 9,
    "start_time": "2023-09-12T07:47:23.907Z"
   },
   {
    "duration": 28,
    "start_time": "2023-09-12T07:47:23.917Z"
   },
   {
    "duration": 15,
    "start_time": "2023-09-12T07:47:23.947Z"
   },
   {
    "duration": 17,
    "start_time": "2023-09-12T07:47:23.963Z"
   },
   {
    "duration": 14,
    "start_time": "2023-09-12T07:47:23.981Z"
   },
   {
    "duration": 6,
    "start_time": "2023-09-12T07:47:23.996Z"
   },
   {
    "duration": 25,
    "start_time": "2023-09-12T07:47:24.003Z"
   },
   {
    "duration": 23,
    "start_time": "2023-09-12T07:47:24.029Z"
   },
   {
    "duration": 19,
    "start_time": "2023-09-12T07:47:24.053Z"
   },
   {
    "duration": 24,
    "start_time": "2023-09-12T07:47:24.074Z"
   },
   {
    "duration": 11,
    "start_time": "2023-09-12T07:47:24.100Z"
   },
   {
    "duration": 12,
    "start_time": "2023-09-12T07:47:24.112Z"
   },
   {
    "duration": 27,
    "start_time": "2023-09-12T07:47:24.125Z"
   },
   {
    "duration": 18,
    "start_time": "2023-09-12T07:47:24.153Z"
   },
   {
    "duration": 425,
    "start_time": "2023-09-12T07:47:47.891Z"
   },
   {
    "duration": 19,
    "start_time": "2023-09-12T07:47:48.318Z"
   },
   {
    "duration": 45,
    "start_time": "2023-09-12T07:47:48.339Z"
   },
   {
    "duration": 18,
    "start_time": "2023-09-12T07:47:48.386Z"
   },
   {
    "duration": 48,
    "start_time": "2023-09-12T07:47:48.405Z"
   },
   {
    "duration": 3,
    "start_time": "2023-09-12T07:47:48.455Z"
   },
   {
    "duration": 19,
    "start_time": "2023-09-12T07:47:48.460Z"
   },
   {
    "duration": 17,
    "start_time": "2023-09-12T07:47:48.480Z"
   },
   {
    "duration": 38,
    "start_time": "2023-09-12T07:47:48.498Z"
   },
   {
    "duration": 32,
    "start_time": "2023-09-12T07:47:48.539Z"
   },
   {
    "duration": 61,
    "start_time": "2023-09-12T07:47:48.572Z"
   },
   {
    "duration": 10,
    "start_time": "2023-09-12T07:47:48.634Z"
   },
   {
    "duration": 39,
    "start_time": "2023-09-12T07:47:48.645Z"
   },
   {
    "duration": 18,
    "start_time": "2023-09-12T07:47:48.685Z"
   },
   {
    "duration": 26,
    "start_time": "2023-09-12T07:47:48.704Z"
   },
   {
    "duration": 15,
    "start_time": "2023-09-12T07:47:48.732Z"
   },
   {
    "duration": 8,
    "start_time": "2023-09-12T07:47:48.748Z"
   },
   {
    "duration": 26,
    "start_time": "2023-09-12T07:47:48.757Z"
   },
   {
    "duration": 23,
    "start_time": "2023-09-12T07:47:48.785Z"
   },
   {
    "duration": 19,
    "start_time": "2023-09-12T07:47:48.809Z"
   },
   {
    "duration": 14,
    "start_time": "2023-09-12T07:47:48.829Z"
   },
   {
    "duration": 22,
    "start_time": "2023-09-12T07:47:48.844Z"
   },
   {
    "duration": 12,
    "start_time": "2023-09-12T07:47:48.867Z"
   },
   {
    "duration": 9,
    "start_time": "2023-09-12T07:47:48.880Z"
   },
   {
    "duration": 17,
    "start_time": "2023-09-12T07:47:48.890Z"
   },
   {
    "duration": 5,
    "start_time": "2023-09-12T07:51:47.183Z"
   },
   {
    "duration": 6,
    "start_time": "2023-09-12T07:52:03.581Z"
   },
   {
    "duration": 7,
    "start_time": "2023-09-12T07:58:09.864Z"
   },
   {
    "duration": 8,
    "start_time": "2023-09-12T07:59:13.077Z"
   },
   {
    "duration": 8,
    "start_time": "2023-09-12T08:09:42.672Z"
   },
   {
    "duration": 8,
    "start_time": "2023-09-12T08:10:43.848Z"
   },
   {
    "duration": 10,
    "start_time": "2023-09-12T08:13:07.724Z"
   },
   {
    "duration": 10,
    "start_time": "2023-09-12T08:13:41.601Z"
   },
   {
    "duration": 10,
    "start_time": "2023-09-12T08:14:01.037Z"
   },
   {
    "duration": 8,
    "start_time": "2023-09-12T08:18:11.131Z"
   },
   {
    "duration": 8,
    "start_time": "2023-09-12T08:20:25.162Z"
   },
   {
    "duration": 12,
    "start_time": "2023-09-12T08:21:52.480Z"
   },
   {
    "duration": 9,
    "start_time": "2023-09-12T08:22:37.621Z"
   },
   {
    "duration": 12,
    "start_time": "2023-09-12T08:24:28.644Z"
   },
   {
    "duration": 11,
    "start_time": "2023-09-12T08:27:57.422Z"
   },
   {
    "duration": 622,
    "start_time": "2023-09-12T11:58:43.384Z"
   },
   {
    "duration": 33,
    "start_time": "2023-09-12T11:58:44.009Z"
   },
   {
    "duration": 17,
    "start_time": "2023-09-12T11:58:44.044Z"
   },
   {
    "duration": 13,
    "start_time": "2023-09-12T11:58:44.063Z"
   },
   {
    "duration": 42,
    "start_time": "2023-09-12T11:58:44.078Z"
   },
   {
    "duration": 3,
    "start_time": "2023-09-12T11:58:44.122Z"
   },
   {
    "duration": 16,
    "start_time": "2023-09-12T11:58:44.127Z"
   },
   {
    "duration": 26,
    "start_time": "2023-09-12T11:58:44.145Z"
   },
   {
    "duration": 32,
    "start_time": "2023-09-12T11:58:44.173Z"
   },
   {
    "duration": 25,
    "start_time": "2023-09-12T11:58:44.207Z"
   },
   {
    "duration": 53,
    "start_time": "2023-09-12T11:58:44.233Z"
   },
   {
    "duration": 16,
    "start_time": "2023-09-12T11:58:44.289Z"
   },
   {
    "duration": 4,
    "start_time": "2023-09-12T11:58:44.307Z"
   },
   {
    "duration": 17,
    "start_time": "2023-09-12T11:58:44.314Z"
   },
   {
    "duration": 35,
    "start_time": "2023-09-12T11:58:44.333Z"
   },
   {
    "duration": 18,
    "start_time": "2023-09-12T11:58:44.371Z"
   },
   {
    "duration": 4,
    "start_time": "2023-09-12T11:58:44.391Z"
   },
   {
    "duration": 31,
    "start_time": "2023-09-12T11:58:44.397Z"
   },
   {
    "duration": 12,
    "start_time": "2023-09-12T11:58:44.430Z"
   },
   {
    "duration": 7,
    "start_time": "2023-09-12T11:58:44.444Z"
   },
   {
    "duration": 24,
    "start_time": "2023-09-12T11:58:44.453Z"
   },
   {
    "duration": 12,
    "start_time": "2023-09-12T11:58:44.479Z"
   },
   {
    "duration": 12,
    "start_time": "2023-09-12T11:58:44.493Z"
   },
   {
    "duration": 9,
    "start_time": "2023-09-12T11:58:44.510Z"
   },
   {
    "duration": 10,
    "start_time": "2023-09-12T11:58:44.521Z"
   },
   {
    "duration": 79,
    "start_time": "2023-09-12T12:00:26.484Z"
   },
   {
    "duration": 6,
    "start_time": "2023-09-12T12:00:59.523Z"
   },
   {
    "duration": 18,
    "start_time": "2023-09-12T12:01:05.707Z"
   },
   {
    "duration": 16,
    "start_time": "2023-09-12T12:02:08.621Z"
   },
   {
    "duration": 12,
    "start_time": "2023-09-12T12:17:17.539Z"
   },
   {
    "duration": 16,
    "start_time": "2023-09-12T12:17:30.081Z"
   },
   {
    "duration": 21,
    "start_time": "2023-09-12T12:19:03.400Z"
   },
   {
    "duration": 15,
    "start_time": "2023-09-12T12:19:24.303Z"
   },
   {
    "duration": 16,
    "start_time": "2023-09-12T12:20:19.183Z"
   },
   {
    "duration": 534,
    "start_time": "2023-09-12T12:25:36.442Z"
   },
   {
    "duration": 23,
    "start_time": "2023-09-12T12:25:36.978Z"
   },
   {
    "duration": 35,
    "start_time": "2023-09-12T12:25:37.003Z"
   },
   {
    "duration": 25,
    "start_time": "2023-09-12T12:25:37.040Z"
   },
   {
    "duration": 53,
    "start_time": "2023-09-12T12:25:37.067Z"
   },
   {
    "duration": 5,
    "start_time": "2023-09-12T12:25:37.122Z"
   },
   {
    "duration": 15,
    "start_time": "2023-09-12T12:25:37.129Z"
   },
   {
    "duration": 6,
    "start_time": "2023-09-12T12:25:37.146Z"
   },
   {
    "duration": 19,
    "start_time": "2023-09-12T12:25:37.154Z"
   },
   {
    "duration": 5,
    "start_time": "2023-09-12T12:25:37.176Z"
   },
   {
    "duration": 50,
    "start_time": "2023-09-12T12:25:37.183Z"
   },
   {
    "duration": 32,
    "start_time": "2023-09-12T12:25:37.236Z"
   },
   {
    "duration": 10,
    "start_time": "2023-09-12T12:25:37.270Z"
   },
   {
    "duration": 19,
    "start_time": "2023-09-12T12:25:37.281Z"
   },
   {
    "duration": 31,
    "start_time": "2023-09-12T12:25:37.302Z"
   },
   {
    "duration": 18,
    "start_time": "2023-09-12T12:25:37.335Z"
   },
   {
    "duration": 18,
    "start_time": "2023-09-12T12:25:37.355Z"
   },
   {
    "duration": 38,
    "start_time": "2023-09-12T12:25:37.374Z"
   },
   {
    "duration": 15,
    "start_time": "2023-09-12T12:25:37.413Z"
   },
   {
    "duration": 6,
    "start_time": "2023-09-12T12:25:37.430Z"
   },
   {
    "duration": 16,
    "start_time": "2023-09-12T12:25:37.437Z"
   },
   {
    "duration": 20,
    "start_time": "2023-09-12T12:25:37.454Z"
   },
   {
    "duration": 22,
    "start_time": "2023-09-12T12:25:37.476Z"
   },
   {
    "duration": 2,
    "start_time": "2023-09-12T12:25:37.500Z"
   },
   {
    "duration": 33,
    "start_time": "2023-09-12T12:25:37.503Z"
   },
   {
    "duration": 14,
    "start_time": "2023-09-12T12:29:19.533Z"
   },
   {
    "duration": 18,
    "start_time": "2023-09-12T12:32:05.520Z"
   },
   {
    "duration": 25,
    "start_time": "2023-09-12T12:33:56.773Z"
   },
   {
    "duration": 16,
    "start_time": "2023-09-12T12:35:10.986Z"
   },
   {
    "duration": 12,
    "start_time": "2023-09-12T13:25:09.243Z"
   },
   {
    "duration": 14,
    "start_time": "2023-09-12T13:28:02.348Z"
   },
   {
    "duration": 13,
    "start_time": "2023-09-12T13:28:14.877Z"
   },
   {
    "duration": 16,
    "start_time": "2023-09-12T13:28:22.489Z"
   },
   {
    "duration": 11,
    "start_time": "2023-09-12T13:28:32.845Z"
   },
   {
    "duration": 13,
    "start_time": "2023-09-12T13:40:33.673Z"
   },
   {
    "duration": 557,
    "start_time": "2023-09-13T12:28:29.469Z"
   },
   {
    "duration": 26,
    "start_time": "2023-09-13T12:28:30.029Z"
   },
   {
    "duration": 84,
    "start_time": "2023-09-13T12:28:30.057Z"
   },
   {
    "duration": 32,
    "start_time": "2023-09-13T12:28:30.144Z"
   },
   {
    "duration": 81,
    "start_time": "2023-09-13T12:28:30.178Z"
   },
   {
    "duration": 22,
    "start_time": "2023-09-13T12:28:30.261Z"
   },
   {
    "duration": 54,
    "start_time": "2023-09-13T12:28:30.285Z"
   },
   {
    "duration": 44,
    "start_time": "2023-09-13T12:28:30.341Z"
   },
   {
    "duration": 81,
    "start_time": "2023-09-13T12:28:30.387Z"
   },
   {
    "duration": 116,
    "start_time": "2023-09-13T12:28:30.472Z"
   },
   {
    "duration": 147,
    "start_time": "2023-09-13T12:28:30.590Z"
   },
   {
    "duration": 65,
    "start_time": "2023-09-13T12:28:30.739Z"
   },
   {
    "duration": 66,
    "start_time": "2023-09-13T12:28:30.805Z"
   },
   {
    "duration": 49,
    "start_time": "2023-09-13T12:28:30.873Z"
   },
   {
    "duration": 82,
    "start_time": "2023-09-13T12:28:30.924Z"
   },
   {
    "duration": 37,
    "start_time": "2023-09-13T12:28:31.008Z"
   },
   {
    "duration": 24,
    "start_time": "2023-09-13T12:28:31.047Z"
   },
   {
    "duration": 130,
    "start_time": "2023-09-13T12:28:31.073Z"
   },
   {
    "duration": 48,
    "start_time": "2023-09-13T12:28:31.205Z"
   },
   {
    "duration": 67,
    "start_time": "2023-09-13T12:28:31.255Z"
   },
   {
    "duration": 74,
    "start_time": "2023-09-13T12:28:31.324Z"
   },
   {
    "duration": 51,
    "start_time": "2023-09-13T12:28:31.400Z"
   },
   {
    "duration": 49,
    "start_time": "2023-09-13T12:28:31.453Z"
   },
   {
    "duration": 58,
    "start_time": "2023-09-13T12:28:31.504Z"
   },
   {
    "duration": 54,
    "start_time": "2023-09-13T12:28:31.564Z"
   },
   {
    "duration": 111,
    "start_time": "2023-09-13T12:40:18.588Z"
   },
   {
    "duration": 87,
    "start_time": "2023-09-15T08:48:37.967Z"
   },
   {
    "duration": 8,
    "start_time": "2023-09-15T08:48:46.084Z"
   },
   {
    "duration": 735,
    "start_time": "2023-09-16T11:49:52.475Z"
   },
   {
    "duration": 26,
    "start_time": "2023-09-16T11:49:53.213Z"
   },
   {
    "duration": 40,
    "start_time": "2023-09-16T11:49:53.241Z"
   },
   {
    "duration": 27,
    "start_time": "2023-09-16T11:49:53.285Z"
   },
   {
    "duration": 52,
    "start_time": "2023-09-16T11:49:53.314Z"
   },
   {
    "duration": 4,
    "start_time": "2023-09-16T11:49:53.368Z"
   },
   {
    "duration": 200,
    "start_time": "2023-09-16T11:49:53.375Z"
   },
   {
    "duration": 165,
    "start_time": "2023-09-16T11:49:53.577Z"
   },
   {
    "duration": 142,
    "start_time": "2023-09-16T11:49:53.744Z"
   },
   {
    "duration": 59,
    "start_time": "2023-09-16T11:49:53.889Z"
   },
   {
    "duration": 65,
    "start_time": "2023-09-16T11:49:53.950Z"
   },
   {
    "duration": 15,
    "start_time": "2023-09-16T11:49:54.017Z"
   },
   {
    "duration": 49,
    "start_time": "2023-09-16T11:49:54.033Z"
   },
   {
    "duration": 83,
    "start_time": "2023-09-16T11:49:54.084Z"
   },
   {
    "duration": 71,
    "start_time": "2023-09-16T11:49:54.169Z"
   },
   {
    "duration": 76,
    "start_time": "2023-09-16T11:49:54.242Z"
   },
   {
    "duration": 44,
    "start_time": "2023-09-16T11:49:54.320Z"
   },
   {
    "duration": 40,
    "start_time": "2023-09-16T11:49:54.366Z"
   },
   {
    "duration": 155,
    "start_time": "2023-09-16T11:49:54.408Z"
   },
   {
    "duration": 61,
    "start_time": "2023-09-16T11:49:54.566Z"
   },
   {
    "duration": 139,
    "start_time": "2023-09-16T11:49:54.630Z"
   },
   {
    "duration": 51,
    "start_time": "2023-09-16T11:49:54.771Z"
   },
   {
    "duration": 86,
    "start_time": "2023-09-16T11:49:54.824Z"
   },
   {
    "duration": 39,
    "start_time": "2023-09-16T11:49:54.912Z"
   },
   {
    "duration": 70,
    "start_time": "2023-09-16T11:49:54.953Z"
   },
   {
    "duration": 11,
    "start_time": "2023-09-16T11:50:29.938Z"
   },
   {
    "duration": 19,
    "start_time": "2023-09-16T11:52:22.825Z"
   },
   {
    "duration": 27,
    "start_time": "2023-09-16T11:52:38.129Z"
   },
   {
    "duration": 96,
    "start_time": "2023-09-16T12:02:59.038Z"
   },
   {
    "duration": 85,
    "start_time": "2023-09-16T12:03:07.133Z"
   },
   {
    "duration": 16,
    "start_time": "2023-09-16T12:03:22.282Z"
   },
   {
    "duration": 22,
    "start_time": "2023-09-16T12:03:28.804Z"
   },
   {
    "duration": 7,
    "start_time": "2023-09-16T12:07:45.150Z"
   },
   {
    "duration": 7,
    "start_time": "2023-09-16T12:09:57.204Z"
   },
   {
    "duration": 12,
    "start_time": "2023-09-16T12:10:04.362Z"
   },
   {
    "duration": 11,
    "start_time": "2023-09-16T12:10:30.619Z"
   },
   {
    "duration": 1414,
    "start_time": "2023-09-16T12:11:33.827Z"
   },
   {
    "duration": 10,
    "start_time": "2023-09-16T12:12:44.497Z"
   },
   {
    "duration": 8,
    "start_time": "2023-09-16T12:12:50.655Z"
   },
   {
    "duration": 12,
    "start_time": "2023-09-16T12:12:56.614Z"
   },
   {
    "duration": 22,
    "start_time": "2023-09-16T12:13:45.714Z"
   },
   {
    "duration": 12,
    "start_time": "2023-09-16T12:18:20.615Z"
   },
   {
    "duration": 1651,
    "start_time": "2023-09-16T12:20:44.857Z"
   },
   {
    "duration": 16,
    "start_time": "2023-09-16T12:21:51.737Z"
   },
   {
    "duration": 119,
    "start_time": "2023-09-16T12:23:46.434Z"
   },
   {
    "duration": 228,
    "start_time": "2023-09-16T12:24:09.115Z"
   },
   {
    "duration": 84,
    "start_time": "2023-09-16T12:24:28.720Z"
   },
   {
    "duration": 14,
    "start_time": "2023-09-16T12:24:41.905Z"
   },
   {
    "duration": 76,
    "start_time": "2023-09-16T12:39:06.464Z"
   },
   {
    "duration": 78,
    "start_time": "2023-09-16T12:41:23.046Z"
   },
   {
    "duration": 22,
    "start_time": "2023-09-16T12:42:59.596Z"
   },
   {
    "duration": 18,
    "start_time": "2023-09-16T12:45:06.334Z"
   },
   {
    "duration": 19,
    "start_time": "2023-09-16T12:54:23.163Z"
   },
   {
    "duration": 19,
    "start_time": "2023-09-16T12:54:40.652Z"
   },
   {
    "duration": 17,
    "start_time": "2023-09-16T12:54:55.910Z"
   },
   {
    "duration": 17,
    "start_time": "2023-09-16T13:02:13.119Z"
   },
   {
    "duration": 397,
    "start_time": "2023-09-16T13:12:04.551Z"
   },
   {
    "duration": 19,
    "start_time": "2023-09-16T13:12:18.541Z"
   },
   {
    "duration": 18,
    "start_time": "2023-09-16T13:12:52.969Z"
   },
   {
    "duration": 5,
    "start_time": "2023-09-16T13:14:28.727Z"
   },
   {
    "duration": 9,
    "start_time": "2023-09-16T13:14:44.131Z"
   },
   {
    "duration": 84,
    "start_time": "2023-09-16T13:33:00.975Z"
   },
   {
    "duration": 22,
    "start_time": "2023-09-16T13:34:09.660Z"
   },
   {
    "duration": 25,
    "start_time": "2023-09-16T13:34:24.934Z"
   },
   {
    "duration": 10,
    "start_time": "2023-09-16T13:34:43.535Z"
   },
   {
    "duration": 10,
    "start_time": "2023-09-16T13:35:19.225Z"
   },
   {
    "duration": 553,
    "start_time": "2023-09-16T13:35:27.804Z"
   },
   {
    "duration": 24,
    "start_time": "2023-09-16T13:35:28.359Z"
   },
   {
    "duration": 29,
    "start_time": "2023-09-16T13:35:28.402Z"
   },
   {
    "duration": 11,
    "start_time": "2023-09-16T13:35:28.433Z"
   },
   {
    "duration": 69,
    "start_time": "2023-09-16T13:35:28.445Z"
   },
   {
    "duration": 5,
    "start_time": "2023-09-16T13:35:28.517Z"
   },
   {
    "duration": 40,
    "start_time": "2023-09-16T13:35:28.524Z"
   },
   {
    "duration": 11,
    "start_time": "2023-09-16T13:35:28.566Z"
   },
   {
    "duration": 36,
    "start_time": "2023-09-16T13:35:28.579Z"
   },
   {
    "duration": 31,
    "start_time": "2023-09-16T13:35:28.619Z"
   },
   {
    "duration": 75,
    "start_time": "2023-09-16T13:35:28.652Z"
   },
   {
    "duration": 15,
    "start_time": "2023-09-16T13:35:28.729Z"
   },
   {
    "duration": 31,
    "start_time": "2023-09-16T13:35:28.746Z"
   },
   {
    "duration": 36,
    "start_time": "2023-09-16T13:35:28.778Z"
   },
   {
    "duration": 46,
    "start_time": "2023-09-16T13:35:28.816Z"
   },
   {
    "duration": 23,
    "start_time": "2023-09-16T13:35:28.864Z"
   },
   {
    "duration": 4,
    "start_time": "2023-09-16T13:35:28.888Z"
   },
   {
    "duration": 72,
    "start_time": "2023-09-16T13:35:28.894Z"
   },
   {
    "duration": 21,
    "start_time": "2023-09-16T13:35:28.968Z"
   },
   {
    "duration": 36,
    "start_time": "2023-09-16T13:35:28.991Z"
   },
   {
    "duration": 40,
    "start_time": "2023-09-16T13:35:29.029Z"
   },
   {
    "duration": 72,
    "start_time": "2023-09-16T13:35:29.071Z"
   },
   {
    "duration": 20,
    "start_time": "2023-09-16T13:35:29.145Z"
   },
   {
    "duration": 23,
    "start_time": "2023-09-16T13:35:29.167Z"
   },
   {
    "duration": 56,
    "start_time": "2023-09-16T13:35:29.192Z"
   },
   {
    "duration": 27,
    "start_time": "2023-09-16T13:35:47.069Z"
   },
   {
    "duration": 17,
    "start_time": "2023-09-16T13:36:22.163Z"
   },
   {
    "duration": 576,
    "start_time": "2023-09-16T13:37:02.886Z"
   },
   {
    "duration": 27,
    "start_time": "2023-09-16T13:37:03.464Z"
   },
   {
    "duration": 35,
    "start_time": "2023-09-16T13:37:03.501Z"
   },
   {
    "duration": 20,
    "start_time": "2023-09-16T13:37:03.538Z"
   },
   {
    "duration": 213,
    "start_time": "2023-09-16T13:37:03.561Z"
   },
   {
    "duration": 9,
    "start_time": "2023-09-16T13:37:03.777Z"
   },
   {
    "duration": 779,
    "start_time": "2023-09-16T13:37:03.788Z"
   },
   {
    "duration": 44,
    "start_time": "2023-09-16T13:37:04.572Z"
   },
   {
    "duration": 170,
    "start_time": "2023-09-16T13:37:04.621Z"
   },
   {
    "duration": 51,
    "start_time": "2023-09-16T13:37:04.793Z"
   },
   {
    "duration": 70,
    "start_time": "2023-09-16T13:37:04.846Z"
   },
   {
    "duration": 21,
    "start_time": "2023-09-16T13:37:04.919Z"
   },
   {
    "duration": 45,
    "start_time": "2023-09-16T13:37:04.943Z"
   },
   {
    "duration": 27,
    "start_time": "2023-09-16T13:37:04.993Z"
   },
   {
    "duration": 48,
    "start_time": "2023-09-16T13:37:05.023Z"
   },
   {
    "duration": 18,
    "start_time": "2023-09-16T13:37:05.073Z"
   },
   {
    "duration": 10,
    "start_time": "2023-09-16T13:37:05.093Z"
   },
   {
    "duration": 28,
    "start_time": "2023-09-16T13:37:05.104Z"
   },
   {
    "duration": 18,
    "start_time": "2023-09-16T13:37:05.133Z"
   },
   {
    "duration": 22,
    "start_time": "2023-09-16T13:37:05.153Z"
   },
   {
    "duration": 183,
    "start_time": "2023-09-16T13:37:05.177Z"
   },
   {
    "duration": 31,
    "start_time": "2023-09-16T13:37:05.362Z"
   },
   {
    "duration": 21,
    "start_time": "2023-09-16T13:37:05.395Z"
   },
   {
    "duration": 16,
    "start_time": "2023-09-16T13:37:05.418Z"
   },
   {
    "duration": 41,
    "start_time": "2023-09-16T13:37:05.436Z"
   },
   {
    "duration": 20,
    "start_time": "2023-09-16T13:37:30.733Z"
   },
   {
    "duration": 25,
    "start_time": "2023-09-16T13:37:58.093Z"
   },
   {
    "duration": 27,
    "start_time": "2023-09-16T13:41:36.632Z"
   },
   {
    "duration": 15,
    "start_time": "2023-09-16T13:42:13.865Z"
   },
   {
    "duration": 27,
    "start_time": "2023-09-16T13:42:41.023Z"
   },
   {
    "duration": 26,
    "start_time": "2023-09-16T13:51:46.177Z"
   },
   {
    "duration": 18,
    "start_time": "2023-09-16T13:52:10.118Z"
   },
   {
    "duration": 18,
    "start_time": "2023-09-16T15:16:36.356Z"
   },
   {
    "duration": 22,
    "start_time": "2023-09-16T15:16:49.416Z"
   },
   {
    "duration": 19,
    "start_time": "2023-09-16T15:23:49.739Z"
   },
   {
    "duration": 19,
    "start_time": "2023-09-16T15:24:09.636Z"
   },
   {
    "duration": 14,
    "start_time": "2023-09-16T16:42:20.822Z"
   },
   {
    "duration": 22,
    "start_time": "2023-09-16T16:46:15.435Z"
   },
   {
    "duration": 27,
    "start_time": "2023-09-16T16:46:33.885Z"
   },
   {
    "duration": 33,
    "start_time": "2023-09-16T16:47:20.836Z"
   },
   {
    "duration": 36,
    "start_time": "2023-09-16T16:48:14.722Z"
   },
   {
    "duration": 35,
    "start_time": "2023-09-16T16:49:36.158Z"
   },
   {
    "duration": 31,
    "start_time": "2023-09-16T16:53:41.843Z"
   },
   {
    "duration": 28,
    "start_time": "2023-09-16T16:54:01.632Z"
   },
   {
    "duration": 80,
    "start_time": "2023-09-16T16:54:47.725Z"
   },
   {
    "duration": 23,
    "start_time": "2023-09-16T16:55:06.498Z"
   },
   {
    "duration": 24,
    "start_time": "2023-09-16T16:55:46.414Z"
   },
   {
    "duration": 26,
    "start_time": "2023-09-16T16:58:39.872Z"
   },
   {
    "duration": 1349,
    "start_time": "2023-09-16T16:59:59.243Z"
   },
   {
    "duration": 27,
    "start_time": "2023-09-16T17:02:52.625Z"
   },
   {
    "duration": 1549,
    "start_time": "2023-09-16T17:03:22.734Z"
   },
   {
    "duration": 2005,
    "start_time": "2023-09-16T17:03:51.368Z"
   },
   {
    "duration": 25,
    "start_time": "2023-09-16T17:04:01.046Z"
   },
   {
    "duration": 27,
    "start_time": "2023-09-16T17:05:05.544Z"
   },
   {
    "duration": 3702,
    "start_time": "2023-09-16T17:05:27.606Z"
   },
   {
    "duration": 27,
    "start_time": "2023-09-16T17:05:51.244Z"
   },
   {
    "duration": 2378,
    "start_time": "2023-09-16T17:06:58.989Z"
   },
   {
    "duration": 499,
    "start_time": "2023-09-16T17:07:09.714Z"
   },
   {
    "duration": 22,
    "start_time": "2023-09-16T17:07:10.215Z"
   },
   {
    "duration": 40,
    "start_time": "2023-09-16T17:07:10.239Z"
   },
   {
    "duration": 22,
    "start_time": "2023-09-16T17:07:10.281Z"
   },
   {
    "duration": 70,
    "start_time": "2023-09-16T17:07:10.305Z"
   },
   {
    "duration": 4,
    "start_time": "2023-09-16T17:07:10.377Z"
   },
   {
    "duration": 46,
    "start_time": "2023-09-16T17:07:10.382Z"
   },
   {
    "duration": 15,
    "start_time": "2023-09-16T17:07:10.429Z"
   },
   {
    "duration": 17,
    "start_time": "2023-09-16T17:07:10.446Z"
   },
   {
    "duration": 16,
    "start_time": "2023-09-16T17:07:10.467Z"
   },
   {
    "duration": 76,
    "start_time": "2023-09-16T17:07:10.484Z"
   },
   {
    "duration": 13,
    "start_time": "2023-09-16T17:07:10.562Z"
   },
   {
    "duration": 6,
    "start_time": "2023-09-16T17:07:10.576Z"
   },
   {
    "duration": 75,
    "start_time": "2023-09-16T17:07:10.584Z"
   },
   {
    "duration": 47,
    "start_time": "2023-09-16T17:07:10.661Z"
   },
   {
    "duration": 43,
    "start_time": "2023-09-16T17:07:10.710Z"
   },
   {
    "duration": 34,
    "start_time": "2023-09-16T17:07:10.755Z"
   },
   {
    "duration": 22,
    "start_time": "2023-09-16T17:07:10.791Z"
   },
   {
    "duration": 9,
    "start_time": "2023-09-16T17:07:10.815Z"
   },
   {
    "duration": 11,
    "start_time": "2023-09-16T17:07:10.825Z"
   },
   {
    "duration": 13,
    "start_time": "2023-09-16T17:07:10.838Z"
   },
   {
    "duration": 18,
    "start_time": "2023-09-16T17:07:10.852Z"
   },
   {
    "duration": 39,
    "start_time": "2023-09-16T17:07:10.872Z"
   },
   {
    "duration": 18,
    "start_time": "2023-09-16T17:07:10.912Z"
   },
   {
    "duration": 30,
    "start_time": "2023-09-16T17:07:10.931Z"
   },
   {
    "duration": 18,
    "start_time": "2023-09-16T17:07:10.963Z"
   },
   {
    "duration": 1894,
    "start_time": "2023-09-16T17:07:10.982Z"
   },
   {
    "duration": 3143,
    "start_time": "2023-09-16T17:07:31.666Z"
   },
   {
    "duration": 27,
    "start_time": "2023-09-16T17:07:44.434Z"
   },
   {
    "duration": 20,
    "start_time": "2023-09-16T17:08:02.454Z"
   },
   {
    "duration": 3098,
    "start_time": "2023-09-16T17:08:11.274Z"
   },
   {
    "duration": 29,
    "start_time": "2023-09-16T17:08:39.764Z"
   },
   {
    "duration": 43,
    "start_time": "2023-09-16T17:09:40.470Z"
   },
   {
    "duration": 22,
    "start_time": "2023-09-16T17:09:50.470Z"
   },
   {
    "duration": 518,
    "start_time": "2023-09-16T17:11:06.618Z"
   },
   {
    "duration": 24,
    "start_time": "2023-09-16T17:11:07.139Z"
   },
   {
    "duration": 17,
    "start_time": "2023-09-16T17:11:07.165Z"
   },
   {
    "duration": 34,
    "start_time": "2023-09-16T17:11:07.184Z"
   },
   {
    "duration": 39,
    "start_time": "2023-09-16T17:11:07.220Z"
   },
   {
    "duration": 3,
    "start_time": "2023-09-16T17:11:07.261Z"
   },
   {
    "duration": 22,
    "start_time": "2023-09-16T17:11:07.266Z"
   },
   {
    "duration": 6,
    "start_time": "2023-09-16T17:11:07.302Z"
   },
   {
    "duration": 20,
    "start_time": "2023-09-16T17:11:07.310Z"
   },
   {
    "duration": 24,
    "start_time": "2023-09-16T17:11:07.334Z"
   },
   {
    "duration": 59,
    "start_time": "2023-09-16T17:11:07.359Z"
   },
   {
    "duration": 12,
    "start_time": "2023-09-16T17:11:07.420Z"
   },
   {
    "duration": 7,
    "start_time": "2023-09-16T17:11:07.433Z"
   },
   {
    "duration": 17,
    "start_time": "2023-09-16T17:11:07.441Z"
   },
   {
    "duration": 27,
    "start_time": "2023-09-16T17:11:07.459Z"
   },
   {
    "duration": 27,
    "start_time": "2023-09-16T17:11:07.487Z"
   },
   {
    "duration": 4,
    "start_time": "2023-09-16T17:11:07.516Z"
   },
   {
    "duration": 30,
    "start_time": "2023-09-16T17:11:07.521Z"
   },
   {
    "duration": 5,
    "start_time": "2023-09-16T17:11:07.553Z"
   },
   {
    "duration": 9,
    "start_time": "2023-09-16T17:11:07.560Z"
   },
   {
    "duration": 17,
    "start_time": "2023-09-16T17:11:07.571Z"
   },
   {
    "duration": 27,
    "start_time": "2023-09-16T17:11:07.590Z"
   },
   {
    "duration": 24,
    "start_time": "2023-09-16T17:11:07.619Z"
   },
   {
    "duration": 19,
    "start_time": "2023-09-16T17:11:07.645Z"
   },
   {
    "duration": 40,
    "start_time": "2023-09-16T17:11:07.666Z"
   },
   {
    "duration": 14,
    "start_time": "2023-09-16T17:11:07.708Z"
   },
   {
    "duration": 54,
    "start_time": "2023-09-16T17:11:07.723Z"
   },
   {
    "duration": 32,
    "start_time": "2023-09-16T17:11:46.856Z"
   },
   {
    "duration": 40,
    "start_time": "2023-09-16T17:11:56.105Z"
   },
   {
    "duration": 15,
    "start_time": "2023-09-16T17:12:52.247Z"
   },
   {
    "duration": 18,
    "start_time": "2023-09-16T17:14:21.545Z"
   },
   {
    "duration": 32,
    "start_time": "2023-09-16T17:14:30.414Z"
   },
   {
    "duration": 106,
    "start_time": "2023-09-16T17:15:42.285Z"
   },
   {
    "duration": 252,
    "start_time": "2023-09-16T17:15:58.830Z"
   },
   {
    "duration": 15,
    "start_time": "2023-09-16T17:16:20.935Z"
   },
   {
    "duration": 19,
    "start_time": "2023-09-16T17:16:29.332Z"
   },
   {
    "duration": 38,
    "start_time": "2023-09-16T17:18:16.915Z"
   },
   {
    "duration": 181,
    "start_time": "2023-09-16T17:21:01.486Z"
   },
   {
    "duration": 45,
    "start_time": "2023-09-16T17:21:18.130Z"
   },
   {
    "duration": 23,
    "start_time": "2023-09-16T17:22:13.985Z"
   },
   {
    "duration": 524,
    "start_time": "2023-09-16T17:22:43.619Z"
   },
   {
    "duration": 25,
    "start_time": "2023-09-16T17:22:44.146Z"
   },
   {
    "duration": 34,
    "start_time": "2023-09-16T17:22:44.173Z"
   },
   {
    "duration": 13,
    "start_time": "2023-09-16T17:22:44.209Z"
   },
   {
    "duration": 61,
    "start_time": "2023-09-16T17:22:44.225Z"
   },
   {
    "duration": 4,
    "start_time": "2023-09-16T17:22:44.288Z"
   },
   {
    "duration": 17,
    "start_time": "2023-09-16T17:22:44.294Z"
   },
   {
    "duration": 6,
    "start_time": "2023-09-16T17:22:44.314Z"
   },
   {
    "duration": 45,
    "start_time": "2023-09-16T17:22:44.322Z"
   },
   {
    "duration": 19,
    "start_time": "2023-09-16T17:22:44.369Z"
   },
   {
    "duration": 64,
    "start_time": "2023-09-16T17:22:44.390Z"
   },
   {
    "duration": 13,
    "start_time": "2023-09-16T17:22:44.456Z"
   },
   {
    "duration": 35,
    "start_time": "2023-09-16T17:22:44.471Z"
   },
   {
    "duration": 35,
    "start_time": "2023-09-16T17:22:44.510Z"
   },
   {
    "duration": 40,
    "start_time": "2023-09-16T17:22:44.548Z"
   },
   {
    "duration": 24,
    "start_time": "2023-09-16T17:22:44.591Z"
   },
   {
    "duration": 6,
    "start_time": "2023-09-16T17:22:44.617Z"
   },
   {
    "duration": 19,
    "start_time": "2023-09-16T17:22:44.625Z"
   },
   {
    "duration": 9,
    "start_time": "2023-09-16T17:22:44.646Z"
   },
   {
    "duration": 6,
    "start_time": "2023-09-16T17:22:44.658Z"
   },
   {
    "duration": 37,
    "start_time": "2023-09-16T17:22:44.666Z"
   },
   {
    "duration": 42,
    "start_time": "2023-09-16T17:22:44.706Z"
   },
   {
    "duration": 30,
    "start_time": "2023-09-16T17:22:44.750Z"
   },
   {
    "duration": 30,
    "start_time": "2023-09-16T17:22:44.783Z"
   },
   {
    "duration": 25,
    "start_time": "2023-09-16T17:22:44.815Z"
   },
   {
    "duration": 22,
    "start_time": "2023-09-16T17:22:44.842Z"
   },
   {
    "duration": 41,
    "start_time": "2023-09-16T17:22:44.866Z"
   },
   {
    "duration": 7,
    "start_time": "2023-09-16T17:28:44.905Z"
   },
   {
    "duration": 71,
    "start_time": "2023-09-16T17:30:41.139Z"
   },
   {
    "duration": 502,
    "start_time": "2023-09-16T17:30:51.410Z"
   },
   {
    "duration": 23,
    "start_time": "2023-09-16T17:30:51.914Z"
   },
   {
    "duration": 30,
    "start_time": "2023-09-16T17:30:51.938Z"
   },
   {
    "duration": 30,
    "start_time": "2023-09-16T17:30:51.970Z"
   },
   {
    "duration": 57,
    "start_time": "2023-09-16T17:30:52.001Z"
   },
   {
    "duration": 3,
    "start_time": "2023-09-16T17:30:52.060Z"
   },
   {
    "duration": 32,
    "start_time": "2023-09-16T17:30:52.064Z"
   },
   {
    "duration": 20,
    "start_time": "2023-09-16T17:30:52.097Z"
   },
   {
    "duration": 23,
    "start_time": "2023-09-16T17:30:52.119Z"
   },
   {
    "duration": 14,
    "start_time": "2023-09-16T17:30:52.146Z"
   },
   {
    "duration": 57,
    "start_time": "2023-09-16T17:30:52.162Z"
   },
   {
    "duration": 12,
    "start_time": "2023-09-16T17:30:52.221Z"
   },
   {
    "duration": 38,
    "start_time": "2023-09-16T17:30:52.235Z"
   },
   {
    "duration": 24,
    "start_time": "2023-09-16T17:30:52.275Z"
   },
   {
    "duration": 43,
    "start_time": "2023-09-16T17:30:52.300Z"
   },
   {
    "duration": 31,
    "start_time": "2023-09-16T17:30:52.345Z"
   },
   {
    "duration": 15,
    "start_time": "2023-09-16T17:30:52.377Z"
   },
   {
    "duration": 33,
    "start_time": "2023-09-16T17:30:52.394Z"
   },
   {
    "duration": 24,
    "start_time": "2023-09-16T17:30:52.428Z"
   },
   {
    "duration": 17,
    "start_time": "2023-09-16T17:30:52.454Z"
   },
   {
    "duration": 37,
    "start_time": "2023-09-16T17:30:52.472Z"
   },
   {
    "duration": 32,
    "start_time": "2023-09-16T17:30:52.511Z"
   },
   {
    "duration": 37,
    "start_time": "2023-09-16T17:30:52.545Z"
   },
   {
    "duration": 69,
    "start_time": "2023-09-16T17:30:52.584Z"
   },
   {
    "duration": 51,
    "start_time": "2023-09-16T17:30:52.655Z"
   },
   {
    "duration": 56,
    "start_time": "2023-09-16T17:30:52.708Z"
   },
   {
    "duration": 19,
    "start_time": "2023-09-16T17:30:52.766Z"
   },
   {
    "duration": 43,
    "start_time": "2023-09-16T17:30:52.788Z"
   },
   {
    "duration": 19,
    "start_time": "2023-09-16T17:31:27.570Z"
   },
   {
    "duration": 13,
    "start_time": "2023-09-16T17:38:53.739Z"
   },
   {
    "duration": 481,
    "start_time": "2023-09-16T17:39:02.837Z"
   },
   {
    "duration": 23,
    "start_time": "2023-09-16T17:39:03.320Z"
   },
   {
    "duration": 310,
    "start_time": "2023-09-16T17:39:03.345Z"
   },
   {
    "duration": 62,
    "start_time": "2023-09-16T17:39:03.657Z"
   },
   {
    "duration": 57,
    "start_time": "2023-09-16T17:39:03.721Z"
   },
   {
    "duration": 4,
    "start_time": "2023-09-16T17:39:03.779Z"
   },
   {
    "duration": 20,
    "start_time": "2023-09-16T17:39:03.784Z"
   },
   {
    "duration": 19,
    "start_time": "2023-09-16T17:39:03.805Z"
   },
   {
    "duration": 33,
    "start_time": "2023-09-16T17:39:03.826Z"
   },
   {
    "duration": 15,
    "start_time": "2023-09-16T17:39:03.861Z"
   },
   {
    "duration": 141,
    "start_time": "2023-09-16T17:39:03.878Z"
   },
   {
    "duration": 27,
    "start_time": "2023-09-16T17:39:04.021Z"
   },
   {
    "duration": 81,
    "start_time": "2023-09-16T17:39:04.049Z"
   },
   {
    "duration": 173,
    "start_time": "2023-09-16T17:39:04.133Z"
   },
   {
    "duration": 36,
    "start_time": "2023-09-16T17:39:04.308Z"
   },
   {
    "duration": 19,
    "start_time": "2023-09-16T17:39:04.346Z"
   },
   {
    "duration": 4,
    "start_time": "2023-09-16T17:39:04.367Z"
   },
   {
    "duration": 29,
    "start_time": "2023-09-16T17:39:04.372Z"
   },
   {
    "duration": 8,
    "start_time": "2023-09-16T17:39:04.403Z"
   },
   {
    "duration": 4,
    "start_time": "2023-09-16T17:39:04.413Z"
   },
   {
    "duration": 34,
    "start_time": "2023-09-16T17:39:04.418Z"
   },
   {
    "duration": 25,
    "start_time": "2023-09-16T17:39:04.454Z"
   },
   {
    "duration": 16,
    "start_time": "2023-09-16T17:39:04.481Z"
   },
   {
    "duration": 24,
    "start_time": "2023-09-16T17:39:04.499Z"
   },
   {
    "duration": 29,
    "start_time": "2023-09-16T17:39:04.525Z"
   },
   {
    "duration": 23,
    "start_time": "2023-09-16T17:39:04.557Z"
   },
   {
    "duration": 32,
    "start_time": "2023-09-16T17:39:04.583Z"
   },
   {
    "duration": 17,
    "start_time": "2023-09-16T17:39:04.617Z"
   },
   {
    "duration": 39,
    "start_time": "2023-09-16T17:39:04.636Z"
   },
   {
    "duration": 27,
    "start_time": "2023-09-16T17:39:15.103Z"
   },
   {
    "duration": 4,
    "start_time": "2023-09-16T17:41:27.061Z"
   },
   {
    "duration": 65,
    "start_time": "2023-09-16T17:46:21.663Z"
   },
   {
    "duration": 483,
    "start_time": "2023-09-16T17:46:29.540Z"
   },
   {
    "duration": 24,
    "start_time": "2023-09-16T17:46:30.025Z"
   },
   {
    "duration": 102,
    "start_time": "2023-09-16T17:46:30.051Z"
   },
   {
    "duration": 55,
    "start_time": "2023-09-16T17:46:30.156Z"
   },
   {
    "duration": 96,
    "start_time": "2023-09-16T17:46:30.213Z"
   },
   {
    "duration": 20,
    "start_time": "2023-09-16T17:46:30.311Z"
   },
   {
    "duration": 68,
    "start_time": "2023-09-16T17:46:30.333Z"
   },
   {
    "duration": 61,
    "start_time": "2023-09-16T17:46:30.403Z"
   },
   {
    "duration": 41,
    "start_time": "2023-09-16T17:46:30.465Z"
   },
   {
    "duration": 137,
    "start_time": "2023-09-16T17:46:30.509Z"
   },
   {
    "duration": 91,
    "start_time": "2023-09-16T17:46:30.648Z"
   },
   {
    "duration": 89,
    "start_time": "2023-09-16T17:46:30.741Z"
   },
   {
    "duration": 64,
    "start_time": "2023-09-16T17:46:30.832Z"
   },
   {
    "duration": 54,
    "start_time": "2023-09-16T17:46:30.898Z"
   },
   {
    "duration": 53,
    "start_time": "2023-09-16T17:46:30.954Z"
   },
   {
    "duration": 55,
    "start_time": "2023-09-16T17:46:31.009Z"
   },
   {
    "duration": 27,
    "start_time": "2023-09-16T17:46:31.066Z"
   },
   {
    "duration": 60,
    "start_time": "2023-09-16T17:46:31.094Z"
   },
   {
    "duration": 56,
    "start_time": "2023-09-16T17:46:31.156Z"
   },
   {
    "duration": 54,
    "start_time": "2023-09-16T17:46:31.213Z"
   },
   {
    "duration": 55,
    "start_time": "2023-09-16T17:46:31.269Z"
   },
   {
    "duration": 50,
    "start_time": "2023-09-16T17:46:31.326Z"
   },
   {
    "duration": 83,
    "start_time": "2023-09-16T17:46:31.378Z"
   },
   {
    "duration": 54,
    "start_time": "2023-09-16T17:46:31.463Z"
   },
   {
    "duration": 58,
    "start_time": "2023-09-16T17:46:31.519Z"
   },
   {
    "duration": 57,
    "start_time": "2023-09-16T17:46:31.579Z"
   },
   {
    "duration": 113,
    "start_time": "2023-09-16T17:46:31.638Z"
   },
   {
    "duration": 24,
    "start_time": "2023-09-16T17:46:31.754Z"
   },
   {
    "duration": 36,
    "start_time": "2023-09-16T17:46:31.779Z"
   },
   {
    "duration": 104,
    "start_time": "2023-09-16T17:46:31.817Z"
   },
   {
    "duration": 153,
    "start_time": "2023-09-16T17:46:31.923Z"
   },
   {
    "duration": 26,
    "start_time": "2023-09-16T17:46:55.026Z"
   },
   {
    "duration": 87,
    "start_time": "2023-09-16T19:33:01.295Z"
   },
   {
    "duration": 26,
    "start_time": "2023-09-16T19:33:16.448Z"
   },
   {
    "duration": 25,
    "start_time": "2023-09-16T19:40:29.748Z"
   },
   {
    "duration": 47,
    "start_time": "2023-09-16T19:40:55.367Z"
   },
   {
    "duration": 23,
    "start_time": "2023-09-16T19:41:23.356Z"
   }
  ],
  "colab": {
   "provenance": []
  },
  "kernelspec": {
   "display_name": "Python 3 (ipykernel)",
   "language": "python",
   "name": "python3"
  },
  "language_info": {
   "codemirror_mode": {
    "name": "ipython",
    "version": 3
   },
   "file_extension": ".py",
   "mimetype": "text/x-python",
   "name": "python",
   "nbconvert_exporter": "python",
   "pygments_lexer": "ipython3",
   "version": "3.9.5"
  },
  "toc": {
   "base_numbering": 1,
   "nav_menu": {},
   "number_sections": true,
   "sideBar": true,
   "skip_h1_title": true,
   "title_cell": "Table of Contents",
   "title_sidebar": "Contents",
   "toc_cell": false,
   "toc_position": {},
   "toc_section_display": true,
   "toc_window_display": false
  }
 },
 "nbformat": 4,
 "nbformat_minor": 5
}
