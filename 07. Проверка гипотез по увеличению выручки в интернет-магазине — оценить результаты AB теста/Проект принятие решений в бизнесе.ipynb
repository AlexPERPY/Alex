{
 "cells": [
  {
   "cell_type": "markdown",
   "metadata": {},
   "source": [
    "# Проект: Принятие решений в бизнесе."
   ]
  },
  {
   "cell_type": "markdown",
   "metadata": {},
   "source": [
    "## Описание проекта.\n",
    "\n",
    "Я аналитик крупного интернет-магазина. Вместе с отделом маркетинга мы подготовили список гипотез для увеличения выручки.\n",
    "Нужно приоритизировать гипотезы, запустить A/B-тест и проанализировать результаты. "
   ]
  },
  {
   "cell_type": "markdown",
   "metadata": {},
   "source": [
    "## Цель проекта.\n",
    "Приоритизировать гипотезы и принять решение по результатам A/B-теста."
   ]
  },
  {
   "cell_type": "markdown",
   "metadata": {},
   "source": [
    "## Описание данных.\n",
    "\n",
    "Данные для первой части\n",
    "\n",
    "Файл /datasets/hypothesis.csv. \n",
    "\n",
    "* Hypothesis — краткое описание гипотезы;\n",
    "* Reach — охват пользователей по 10-балльной шкале;\n",
    "* Impact — влияние на пользователей по 10-балльной шкале;\n",
    "* Confidence — уверенность в гипотезе по 10-балльной шкале;\n",
    "* Efforts — затраты ресурсов на проверку гипотезы по 10-балльной шкале. Чем больше значение Efforts, тем дороже проверка гипотезы.\n",
    "\n",
    "Данные для второй части\n",
    "\n",
    "Файл /datasets/orders.csv.\n",
    "\n",
    "* transactionId — идентификатор заказа;\n",
    "*  — идентификатор пользователя, совершившего заказ;\n",
    "* date — дата, когда был совершён заказ;\n",
    "* revenue — выручка заказа;\n",
    "* group — группа A/B-теста, в которую попал заказ.\n",
    "\n",
    "Файл /datasets/visitors.csv.\n",
    "\n",
    "* date — дата;\n",
    "* group — группа A/B-теста;\n",
    "* visitors — количество пользователей в указанную дату в указанной группе A/B-теста"
   ]
  },
  {
   "cell_type": "markdown",
   "metadata": {},
   "source": [
    "## План работы:\n",
    "\n",
    "* Загрузим данные и подготовим их к анализу:\n",
    "\n",
    "Пути к файлам\n",
    "1. /datasets/hypothesis.csv;\n",
    "2. /datasets/orders.csv;\n",
    "3. /datasets/visitors.csv.\n",
    "\n",
    "Изучим данные и выполним предобработку:\n",
    "1. Обработаем пропуски и дубликаты.\n",
    "2. Убедимся, что типы данных во всех колонках соответствуют сохранённым в них значениям.\n",
    "\n",
    "Часть 1. Приоритизация гипотез.\n",
    "\n",
    "В файле /datasets/hypothesis.csv 9 гипотез по увеличению выручки интернет-магазина с указанными параметрами Reach, Impact, Confidence, Effort.\n",
    "\n",
    "Задача\n",
    "\n",
    "* Шаг 1. Примените фреймворк ICE для приоритизации гипотез. Отсортируйте их по убыванию приоритета.\n",
    "* Шаг 2. Примените фреймворк RICE для приоритизации гипотез. Отсортируйте их по убыванию приоритета.\n",
    "* Шаг 3. Укажите, как изменилась приоритизация гипотез при применении RICE вместо ICE. Объясните, почему так произошло.\n",
    "\n",
    "Часть 2. Анализ A/B-теста\n",
    "\n",
    "Вы провели A/B-тест и получили результаты, которые описаны в файлах /datasets/orders.csv и /datasets/visitors.csv.\n",
    "\n",
    "Задача\n",
    "\n",
    "* Шаг 1. Проанализируйте A/B-тест:\n",
    "1. Постройте график кумулятивной выручки по группам. Сделайте выводы и предположения.\n",
    "2. Постройте график кумулятивного среднего чека по группам. Сделайте выводы и предположения.\n",
    "3. Постройте график относительного изменения кумулятивного среднего чека группы B к группе A. Сделайте выводы и предположения.\n",
    "4. Постройте график кумулятивного среднего количества заказов на посетителя по группам. Сделайте выводы и предположения.\n",
    "5. Постройте график относительного изменения кумулятивного среднего количества заказов на посетителя группы B к группе A. Сделайте выводы и предположения.\n",
    "7. Постройте точечный график количества заказов по пользователям. Сделайте выводы и предположения.\n",
    "8. Посчитайте 95-й и 99-й перцентили количества заказов на пользователя. Выберите границу для определения аномальных пользователей.\n",
    "9. Постройте точечный график стоимостей заказов. Сделайте выводы и предположения.\n",
    "10. Посчитайте 95-й и 99-й перцентили стоимости заказов. Выберите границу для определения аномальных заказов.\n",
    "11. Посчитайте статистическую значимость различий в среднем количестве заказов на посетителя между группами по «сырым» данным. Сделайте выводы и предположения.\n",
    "13. Посчитайте статистическую значимость различий в среднем чеке заказа между группами по «сырым» данным. Сделайте выводы и предположения.\n",
    "14. Посчитайте статистическую значимость различий в среднем количестве заказов на посетителя между группами по «очищенным» данным. Сделайте выводы и предположения.\n",
    "15. Посчитайте статистическую значимость различий в среднем чеке заказа между группами по «очищенным» данным. Сделайте выводы и предположения.\n",
    "\n",
    "* Шаг 2. Примите решение по результатам теста и объясните его. Варианты решений:\n",
    "1. Остановить тест, зафиксировать победу одной из групп.\n",
    "2. Остановить тест, зафиксировать отсутствие различий между группами.\n",
    "3. Продолжить тест."
   ]
  },
  {
   "cell_type": "markdown",
   "metadata": {},
   "source": [
    "### Загрузим данные и подготовим их к анализу."
   ]
  },
  {
   "cell_type": "markdown",
   "metadata": {},
   "source": [
    "#### Импортируем необходимые для исследования библиотеки."
   ]
  },
  {
   "cell_type": "code",
   "execution_count": 1,
   "metadata": {},
   "outputs": [],
   "source": [
    "import pandas as pd\n",
    "from datetime import datetime, timedelta\n",
    "import matplotlib.pyplot as plt\n",
    "import numpy as np\n",
    "import seaborn as sns\n",
    "import scipy.stats as stats\n",
    "import datetime as dt"
   ]
  },
  {
   "cell_type": "code",
   "execution_count": 2,
   "metadata": {},
   "outputs": [
    {
     "name": "stdout",
     "output_type": "stream",
     "text": [
      "<class 'pandas.core.frame.DataFrame'>\n",
      "RangeIndex: 9 entries, 0 to 8\n",
      "Data columns (total 5 columns):\n",
      " #   Column      Non-Null Count  Dtype \n",
      "---  ------      --------------  ----- \n",
      " 0   Hypothesis  9 non-null      object\n",
      " 1   Reach       9 non-null      int64 \n",
      " 2   Impact      9 non-null      int64 \n",
      " 3   Confidence  9 non-null      int64 \n",
      " 4   Efforts     9 non-null      int64 \n",
      "dtypes: int64(4), object(1)\n",
      "memory usage: 488.0+ bytes\n",
      "<class 'pandas.core.frame.DataFrame'>\n",
      "RangeIndex: 1197 entries, 0 to 1196\n",
      "Data columns (total 5 columns):\n",
      " #   Column         Non-Null Count  Dtype \n",
      "---  ------         --------------  ----- \n",
      " 0   transactionId  1197 non-null   int64 \n",
      " 1   visitorId      1197 non-null   int64 \n",
      " 2   date           1197 non-null   object\n",
      " 3   revenue        1197 non-null   int64 \n",
      " 4   group          1197 non-null   object\n",
      "dtypes: int64(3), object(2)\n",
      "memory usage: 46.9+ KB\n",
      "<class 'pandas.core.frame.DataFrame'>\n",
      "RangeIndex: 62 entries, 0 to 61\n",
      "Data columns (total 3 columns):\n",
      " #   Column    Non-Null Count  Dtype \n",
      "---  ------    --------------  ----- \n",
      " 0   date      62 non-null     object\n",
      " 1   group     62 non-null     object\n",
      " 2   visitors  62 non-null     int64 \n",
      "dtypes: int64(1), object(2)\n",
      "memory usage: 1.6+ KB\n"
     ]
    },
    {
     "data": {
      "text/plain": [
       "(None, None, None)"
      ]
     },
     "execution_count": 2,
     "metadata": {},
     "output_type": "execute_result"
    }
   ],
   "source": [
    "hypothesis,orders,visitors = (\n",
    "    pd.read_csv('/datasets/hypothesis.csv'),  # гипотезы\n",
    "    pd.read_csv('/datasets/orders.csv'),  # журнал заказов\n",
    "    pd.read_csv('/datasets/visitors.csv'),  # количество пользователей в указанную дату в указанной группе A/B-теста\n",
    ")\n",
    "hypothesis.info(),orders.info(),visitors.info()"
   ]
  },
  {
   "cell_type": "code",
   "execution_count": 3,
   "metadata": {},
   "outputs": [
    {
     "data": {
      "text/html": [
       "<div>\n",
       "<style scoped>\n",
       "    .dataframe tbody tr th:only-of-type {\n",
       "        vertical-align: middle;\n",
       "    }\n",
       "\n",
       "    .dataframe tbody tr th {\n",
       "        vertical-align: top;\n",
       "    }\n",
       "\n",
       "    .dataframe thead th {\n",
       "        text-align: right;\n",
       "    }\n",
       "</style>\n",
       "<table border=\"1\" class=\"dataframe\">\n",
       "  <thead>\n",
       "    <tr style=\"text-align: right;\">\n",
       "      <th></th>\n",
       "      <th>Hypothesis</th>\n",
       "      <th>Reach</th>\n",
       "      <th>Impact</th>\n",
       "      <th>Confidence</th>\n",
       "      <th>Efforts</th>\n",
       "    </tr>\n",
       "  </thead>\n",
       "  <tbody>\n",
       "    <tr>\n",
       "      <th>0</th>\n",
       "      <td>Добавить два новых канала привлечения трафика,...</td>\n",
       "      <td>3</td>\n",
       "      <td>10</td>\n",
       "      <td>8</td>\n",
       "      <td>6</td>\n",
       "    </tr>\n",
       "    <tr>\n",
       "      <th>1</th>\n",
       "      <td>Запустить собственную службу доставки, что сок...</td>\n",
       "      <td>2</td>\n",
       "      <td>5</td>\n",
       "      <td>4</td>\n",
       "      <td>10</td>\n",
       "    </tr>\n",
       "    <tr>\n",
       "      <th>2</th>\n",
       "      <td>Добавить блоки рекомендаций товаров на сайт ин...</td>\n",
       "      <td>8</td>\n",
       "      <td>3</td>\n",
       "      <td>7</td>\n",
       "      <td>3</td>\n",
       "    </tr>\n",
       "    <tr>\n",
       "      <th>3</th>\n",
       "      <td>Изменить структура категорий, что увеличит кон...</td>\n",
       "      <td>8</td>\n",
       "      <td>3</td>\n",
       "      <td>3</td>\n",
       "      <td>8</td>\n",
       "    </tr>\n",
       "    <tr>\n",
       "      <th>4</th>\n",
       "      <td>Изменить цвет фона главной страницы, чтобы уве...</td>\n",
       "      <td>3</td>\n",
       "      <td>1</td>\n",
       "      <td>1</td>\n",
       "      <td>1</td>\n",
       "    </tr>\n",
       "  </tbody>\n",
       "</table>\n",
       "</div>"
      ],
      "text/plain": [
       "                                          Hypothesis  Reach  Impact  \\\n",
       "0  Добавить два новых канала привлечения трафика,...      3      10   \n",
       "1  Запустить собственную службу доставки, что сок...      2       5   \n",
       "2  Добавить блоки рекомендаций товаров на сайт ин...      8       3   \n",
       "3  Изменить структура категорий, что увеличит кон...      8       3   \n",
       "4  Изменить цвет фона главной страницы, чтобы уве...      3       1   \n",
       "\n",
       "   Confidence  Efforts  \n",
       "0           8        6  \n",
       "1           4       10  \n",
       "2           7        3  \n",
       "3           3        8  \n",
       "4           1        1  "
      ]
     },
     "metadata": {},
     "output_type": "display_data"
    },
    {
     "data": {
      "text/html": [
       "<div>\n",
       "<style scoped>\n",
       "    .dataframe tbody tr th:only-of-type {\n",
       "        vertical-align: middle;\n",
       "    }\n",
       "\n",
       "    .dataframe tbody tr th {\n",
       "        vertical-align: top;\n",
       "    }\n",
       "\n",
       "    .dataframe thead th {\n",
       "        text-align: right;\n",
       "    }\n",
       "</style>\n",
       "<table border=\"1\" class=\"dataframe\">\n",
       "  <thead>\n",
       "    <tr style=\"text-align: right;\">\n",
       "      <th></th>\n",
       "      <th>transactionId</th>\n",
       "      <th>visitorId</th>\n",
       "      <th>date</th>\n",
       "      <th>revenue</th>\n",
       "      <th>group</th>\n",
       "    </tr>\n",
       "  </thead>\n",
       "  <tbody>\n",
       "    <tr>\n",
       "      <th>0</th>\n",
       "      <td>3667963787</td>\n",
       "      <td>3312258926</td>\n",
       "      <td>2019-08-15</td>\n",
       "      <td>1650</td>\n",
       "      <td>B</td>\n",
       "    </tr>\n",
       "    <tr>\n",
       "      <th>1</th>\n",
       "      <td>2804400009</td>\n",
       "      <td>3642806036</td>\n",
       "      <td>2019-08-15</td>\n",
       "      <td>730</td>\n",
       "      <td>B</td>\n",
       "    </tr>\n",
       "    <tr>\n",
       "      <th>2</th>\n",
       "      <td>2961555356</td>\n",
       "      <td>4069496402</td>\n",
       "      <td>2019-08-15</td>\n",
       "      <td>400</td>\n",
       "      <td>A</td>\n",
       "    </tr>\n",
       "    <tr>\n",
       "      <th>3</th>\n",
       "      <td>3797467345</td>\n",
       "      <td>1196621759</td>\n",
       "      <td>2019-08-15</td>\n",
       "      <td>9759</td>\n",
       "      <td>B</td>\n",
       "    </tr>\n",
       "    <tr>\n",
       "      <th>4</th>\n",
       "      <td>2282983706</td>\n",
       "      <td>2322279887</td>\n",
       "      <td>2019-08-15</td>\n",
       "      <td>2308</td>\n",
       "      <td>B</td>\n",
       "    </tr>\n",
       "  </tbody>\n",
       "</table>\n",
       "</div>"
      ],
      "text/plain": [
       "   transactionId   visitorId        date  revenue group\n",
       "0     3667963787  3312258926  2019-08-15     1650     B\n",
       "1     2804400009  3642806036  2019-08-15      730     B\n",
       "2     2961555356  4069496402  2019-08-15      400     A\n",
       "3     3797467345  1196621759  2019-08-15     9759     B\n",
       "4     2282983706  2322279887  2019-08-15     2308     B"
      ]
     },
     "metadata": {},
     "output_type": "display_data"
    },
    {
     "data": {
      "text/html": [
       "<div>\n",
       "<style scoped>\n",
       "    .dataframe tbody tr th:only-of-type {\n",
       "        vertical-align: middle;\n",
       "    }\n",
       "\n",
       "    .dataframe tbody tr th {\n",
       "        vertical-align: top;\n",
       "    }\n",
       "\n",
       "    .dataframe thead th {\n",
       "        text-align: right;\n",
       "    }\n",
       "</style>\n",
       "<table border=\"1\" class=\"dataframe\">\n",
       "  <thead>\n",
       "    <tr style=\"text-align: right;\">\n",
       "      <th></th>\n",
       "      <th>date</th>\n",
       "      <th>group</th>\n",
       "      <th>visitors</th>\n",
       "    </tr>\n",
       "  </thead>\n",
       "  <tbody>\n",
       "    <tr>\n",
       "      <th>0</th>\n",
       "      <td>2019-08-01</td>\n",
       "      <td>A</td>\n",
       "      <td>719</td>\n",
       "    </tr>\n",
       "    <tr>\n",
       "      <th>1</th>\n",
       "      <td>2019-08-02</td>\n",
       "      <td>A</td>\n",
       "      <td>619</td>\n",
       "    </tr>\n",
       "    <tr>\n",
       "      <th>2</th>\n",
       "      <td>2019-08-03</td>\n",
       "      <td>A</td>\n",
       "      <td>507</td>\n",
       "    </tr>\n",
       "    <tr>\n",
       "      <th>3</th>\n",
       "      <td>2019-08-04</td>\n",
       "      <td>A</td>\n",
       "      <td>717</td>\n",
       "    </tr>\n",
       "    <tr>\n",
       "      <th>4</th>\n",
       "      <td>2019-08-05</td>\n",
       "      <td>A</td>\n",
       "      <td>756</td>\n",
       "    </tr>\n",
       "  </tbody>\n",
       "</table>\n",
       "</div>"
      ],
      "text/plain": [
       "         date group  visitors\n",
       "0  2019-08-01     A       719\n",
       "1  2019-08-02     A       619\n",
       "2  2019-08-03     A       507\n",
       "3  2019-08-04     A       717\n",
       "4  2019-08-05     A       756"
      ]
     },
     "metadata": {},
     "output_type": "display_data"
    }
   ],
   "source": [
    "display(hypothesis.head(),orders.head(),visitors.head())\n",
    "pd.set_option('display.max_columns', None)"
   ]
  },
  {
   "cell_type": "markdown",
   "metadata": {},
   "source": [
    "После первичного знакомства с данными можем сказать:\n",
    "* в датафреймах нет пропусков;\n",
    "* названия столбцов нужно привести к общему стилю;\n",
    "* тип данных в date в фреймах visitors и orders необходимо заменить на datetime, сделаем это позже при анализе А/В теста."
   ]
  },
  {
   "cell_type": "markdown",
   "metadata": {},
   "source": [
    "#### Приведем названия колонок к нижнему регистру, общему стилю и проверим результат:"
   ]
  },
  {
   "cell_type": "code",
   "execution_count": 4,
   "metadata": {},
   "outputs": [
    {
     "name": "stdout",
     "output_type": "stream",
     "text": [
      "<class 'pandas.core.frame.DataFrame'>\n",
      "RangeIndex: 9 entries, 0 to 8\n",
      "Data columns (total 5 columns):\n",
      " #   Column      Non-Null Count  Dtype \n",
      "---  ------      --------------  ----- \n",
      " 0   hypothesis  9 non-null      object\n",
      " 1   reach       9 non-null      int64 \n",
      " 2   impact      9 non-null      int64 \n",
      " 3   confidence  9 non-null      int64 \n",
      " 4   efforts     9 non-null      int64 \n",
      "dtypes: int64(4), object(1)\n",
      "memory usage: 488.0+ bytes\n",
      "<class 'pandas.core.frame.DataFrame'>\n",
      "RangeIndex: 1197 entries, 0 to 1196\n",
      "Data columns (total 5 columns):\n",
      " #   Column          Non-Null Count  Dtype \n",
      "---  ------          --------------  ----- \n",
      " 0   transaction_id  1197 non-null   int64 \n",
      " 1   visitor_id      1197 non-null   int64 \n",
      " 2   date            1197 non-null   object\n",
      " 3   revenue         1197 non-null   int64 \n",
      " 4   group           1197 non-null   object\n",
      "dtypes: int64(3), object(2)\n",
      "memory usage: 46.9+ KB\n",
      "<class 'pandas.core.frame.DataFrame'>\n",
      "RangeIndex: 62 entries, 0 to 61\n",
      "Data columns (total 3 columns):\n",
      " #   Column    Non-Null Count  Dtype \n",
      "---  ------    --------------  ----- \n",
      " 0   date      62 non-null     object\n",
      " 1   group     62 non-null     object\n",
      " 2   visitors  62 non-null     int64 \n",
      "dtypes: int64(1), object(2)\n",
      "memory usage: 1.6+ KB\n"
     ]
    },
    {
     "data": {
      "text/plain": [
       "(None, None, None)"
      ]
     },
     "execution_count": 4,
     "metadata": {},
     "output_type": "execute_result"
    }
   ],
   "source": [
    "hypothesis.columns = [x.lower().replace(' ', '_') for x in hypothesis.columns]\n",
    "orders.columns = [x.lower().replace(' ', '_') for x in orders.columns]\n",
    "visitors.columns = [x.lower().replace(' ', '_') for x in visitors.columns]\n",
    "orders.rename(columns ={'transactionid': 'transaction_id', 'visitorid': 'visitor_id'}, inplace = True)\n",
    "\n",
    "hypothesis.info(),orders.info(),visitors.info()"
   ]
  },
  {
   "cell_type": "markdown",
   "metadata": {},
   "source": [
    "#### Проверим таблицы на наличие дубликатов."
   ]
  },
  {
   "cell_type": "code",
   "execution_count": 5,
   "metadata": {},
   "outputs": [
    {
     "data": {
      "text/plain": [
       "0"
      ]
     },
     "metadata": {},
     "output_type": "display_data"
    },
    {
     "data": {
      "text/plain": [
       "0"
      ]
     },
     "metadata": {},
     "output_type": "display_data"
    },
    {
     "data": {
      "text/plain": [
       "0"
      ]
     },
     "metadata": {},
     "output_type": "display_data"
    }
   ],
   "source": [
    "display(hypothesis.duplicated().sum())\n",
    "display(orders.duplicated().sum())\n",
    "display(visitors.duplicated().sum())"
   ]
  },
  {
   "cell_type": "markdown",
   "metadata": {},
   "source": [
    "Дубликаты отсутствуют."
   ]
  },
  {
   "cell_type": "markdown",
   "metadata": {},
   "source": [
    "### Часть 1. Приоритизация гипотез.\n",
    "\n",
    "В файле /datasets/hypothesis.csv 9 гипотез по увеличению выручки интернет-магазина с указанными параметрами Reach, Impact, Confidence, Effort."
   ]
  },
  {
   "cell_type": "markdown",
   "metadata": {},
   "source": [
    "#### Шаг 1. Применим фреймворк ICE для приоритизации гипотез. Отсортируем их по убыванию приоритета.\n"
   ]
  },
  {
   "cell_type": "code",
   "execution_count": 6,
   "metadata": {},
   "outputs": [
    {
     "name": "stdout",
     "output_type": "stream",
     "text": [
      "                                                                                                     hypothesis  \\\n",
      "8                                                       Запустить акцию, дающую скидку на товар в день рождения   \n",
      "0            Добавить два новых канала привлечения трафика, что позволит привлекать на 30% больше пользователей   \n",
      "7              Добавить форму подписки на все основные страницы, чтобы собрать базу клиентов для email-рассылок   \n",
      "6          Показать на главной странице баннеры с актуальными акциями и распродажами, чтобы увеличить конверсию   \n",
      "2  Добавить блоки рекомендаций товаров на сайт интернет магазина, чтобы повысить конверсию и средний чек заказа   \n",
      "1                                     Запустить собственную службу доставки, что сократит срок доставки заказов   \n",
      "5                      Добавить страницу отзывов клиентов о магазине, что позволит увеличить количество заказов   \n",
      "3           Изменить структура категорий, что увеличит конверсию, т.к. пользователи быстрее найдут нужный товар   \n",
      "4                              Изменить цвет фона главной страницы, чтобы увеличить вовлеченность пользователей   \n",
      "\n",
      "   reach  impact  confidence  efforts    ICE  \n",
      "8      1       9           9        5  16.20  \n",
      "0      3      10           8        6  13.33  \n",
      "7     10       7           8        5  11.20  \n",
      "6      5       3           8        3   8.00  \n",
      "2      8       3           7        3   7.00  \n",
      "1      2       5           4       10   2.00  \n",
      "5      3       2           2        3   1.33  \n",
      "3      8       3           3        8   1.12  \n",
      "4      3       1           1        1   1.00  \n",
      "                                                                                                     hypothesis  \\\n",
      "8                                                       Запустить акцию, дающую скидку на товар в день рождения   \n",
      "0            Добавить два новых канала привлечения трафика, что позволит привлекать на 30% больше пользователей   \n",
      "7              Добавить форму подписки на все основные страницы, чтобы собрать базу клиентов для email-рассылок   \n",
      "6          Показать на главной странице баннеры с актуальными акциями и распродажами, чтобы увеличить конверсию   \n",
      "2  Добавить блоки рекомендаций товаров на сайт интернет магазина, чтобы повысить конверсию и средний чек заказа   \n",
      "1                                     Запустить собственную службу доставки, что сократит срок доставки заказов   \n",
      "5                      Добавить страницу отзывов клиентов о магазине, что позволит увеличить количество заказов   \n",
      "3           Изменить структура категорий, что увеличит конверсию, т.к. пользователи быстрее найдут нужный товар   \n",
      "4                              Изменить цвет фона главной страницы, чтобы увеличить вовлеченность пользователей   \n",
      "\n",
      "     ICE  \n",
      "8  16.20  \n",
      "0  13.33  \n",
      "7  11.20  \n",
      "6   8.00  \n",
      "2   7.00  \n",
      "1   2.00  \n",
      "5   1.33  \n",
      "3   1.12  \n",
      "4   1.00  \n"
     ]
    }
   ],
   "source": [
    "hypothesis['ICE'] = (hypothesis['impact']*hypothesis['confidence']/hypothesis['efforts']).round(2)\n",
    "pd.set_option(\"max_colwidth\", 999)\n",
    "print(hypothesis.sort_values(by='ICE',ascending=False))\n",
    "print(hypothesis[['hypothesis','ICE']].sort_values(by='ICE',ascending=False))\n"
   ]
  },
  {
   "cell_type": "markdown",
   "metadata": {},
   "source": [
    "В результате применения фреймворка ICE - лидируют гипотезы с индексами 8, 0, 7."
   ]
  },
  {
   "cell_type": "markdown",
   "metadata": {},
   "source": [
    "#### Шаг 2. Применим фреймворк RICE для приоритизации гипотез. Отсортируем их по убыванию приоритета.\n"
   ]
  },
  {
   "cell_type": "code",
   "execution_count": 7,
   "metadata": {},
   "outputs": [
    {
     "name": "stdout",
     "output_type": "stream",
     "text": [
      "                                                                                                     hypothesis  \\\n",
      "7              Добавить форму подписки на все основные страницы, чтобы собрать базу клиентов для email-рассылок   \n",
      "2  Добавить блоки рекомендаций товаров на сайт интернет магазина, чтобы повысить конверсию и средний чек заказа   \n",
      "0            Добавить два новых канала привлечения трафика, что позволит привлекать на 30% больше пользователей   \n",
      "6          Показать на главной странице баннеры с актуальными акциями и распродажами, чтобы увеличить конверсию   \n",
      "8                                                       Запустить акцию, дающую скидку на товар в день рождения   \n",
      "3           Изменить структура категорий, что увеличит конверсию, т.к. пользователи быстрее найдут нужный товар   \n",
      "1                                     Запустить собственную службу доставки, что сократит срок доставки заказов   \n",
      "5                      Добавить страницу отзывов клиентов о магазине, что позволит увеличить количество заказов   \n",
      "4                              Изменить цвет фона главной страницы, чтобы увеличить вовлеченность пользователей   \n",
      "\n",
      "   reach  impact  confidence  efforts    ICE   RICE  \n",
      "7     10       7           8        5  11.20  112.0  \n",
      "2      8       3           7        3   7.00   56.0  \n",
      "0      3      10           8        6  13.33   40.0  \n",
      "6      5       3           8        3   8.00   40.0  \n",
      "8      1       9           9        5  16.20   16.2  \n",
      "3      8       3           3        8   1.12    9.0  \n",
      "1      2       5           4       10   2.00    4.0  \n",
      "5      3       2           2        3   1.33    4.0  \n",
      "4      3       1           1        1   1.00    3.0  \n",
      "                                                                                                     hypothesis  \\\n",
      "7              Добавить форму подписки на все основные страницы, чтобы собрать базу клиентов для email-рассылок   \n",
      "2  Добавить блоки рекомендаций товаров на сайт интернет магазина, чтобы повысить конверсию и средний чек заказа   \n",
      "0            Добавить два новых канала привлечения трафика, что позволит привлекать на 30% больше пользователей   \n",
      "6          Показать на главной странице баннеры с актуальными акциями и распродажами, чтобы увеличить конверсию   \n",
      "8                                                       Запустить акцию, дающую скидку на товар в день рождения   \n",
      "3           Изменить структура категорий, что увеличит конверсию, т.к. пользователи быстрее найдут нужный товар   \n",
      "1                                     Запустить собственную службу доставки, что сократит срок доставки заказов   \n",
      "5                      Добавить страницу отзывов клиентов о магазине, что позволит увеличить количество заказов   \n",
      "4                              Изменить цвет фона главной страницы, чтобы увеличить вовлеченность пользователей   \n",
      "\n",
      "    RICE  \n",
      "7  112.0  \n",
      "2   56.0  \n",
      "0   40.0  \n",
      "6   40.0  \n",
      "8   16.2  \n",
      "3    9.0  \n",
      "1    4.0  \n",
      "5    4.0  \n",
      "4    3.0  \n"
     ]
    }
   ],
   "source": [
    "hypothesis['RICE'] = (hypothesis['reach']*hypothesis['impact']*hypothesis['confidence']/hypothesis['efforts']).round(2)\n",
    "pd.set_option(\"max_colwidth\", 999)\n",
    "print(hypothesis.sort_values(by='RICE',ascending=False))\n",
    "print(hypothesis[['hypothesis','RICE']].sort_values(by='RICE',ascending=False))"
   ]
  },
  {
   "cell_type": "markdown",
   "metadata": {},
   "source": [
    "В результате применения фреймворка RICE - лидируют гипотезы с индексами 7, 2, 0."
   ]
  },
  {
   "cell_type": "markdown",
   "metadata": {},
   "source": [
    "#### Шаг 3. Укажем, как изменилась приоритизация гипотез при применении RICE вместо ICE. Объясним, почему так произошло."
   ]
  },
  {
   "cell_type": "markdown",
   "metadata": {},
   "source": [
    "В результате применения фреймворка ICE - лидируют гипотезы с индексами 8, 0, 7, а результате применения фреймворка RICE - лидируют гипотезы с индексами 7, 2, 0. \n",
    "\n",
    "Это произошло из-за высокого значения параметра reach у гипотез с индексами 7, 2, 0 по сравнению с гипотезами с индексами 8, 0, 7."
   ]
  },
  {
   "cell_type": "markdown",
   "metadata": {},
   "source": [
    "### Часть 2. Анализ A/B-теста.\n",
    "\n",
    "Мы провели A/B-тест и получили результаты, которые описаны в файлах /datasets/orders.csv и /datasets/visitors.csv."
   ]
  },
  {
   "cell_type": "markdown",
   "metadata": {},
   "source": [
    "#### Шаг 1. Проанализируем A/B-тест:\n"
   ]
  },
  {
   "cell_type": "markdown",
   "metadata": {},
   "source": [
    "Создадим фрейм с коммулятивными данными."
   ]
  },
  {
   "cell_type": "code",
   "execution_count": 8,
   "metadata": {},
   "outputs": [
    {
     "name": "stdout",
     "output_type": "stream",
     "text": [
      "   transaction_id  visitor_id       date  revenue group\n",
      "0      3667963787  3312258926 2019-08-15     1650     B\n",
      "1      2804400009  3642806036 2019-08-15      730     B\n",
      "2      2961555356  4069496402 2019-08-15      400     A\n",
      "3      3797467345  1196621759 2019-08-15     9759     B\n",
      "4      2282983706  2322279887 2019-08-15     2308     B\n",
      "        date group  visitors\n",
      "0 2019-08-01     A       719\n",
      "1 2019-08-02     A       619\n",
      "2 2019-08-03     A       507\n",
      "3 2019-08-04     A       717\n",
      "4 2019-08-05     A       756\n",
      "        date group  orders  buyers  revenue  visitors\n",
      "0 2019-08-01     A      24      20   148579       719\n",
      "1 2019-08-01     B      21      20   101217       713\n",
      "2 2019-08-02     A      44      38   242401      1338\n",
      "3 2019-08-02     B      45      43   266748      1294\n",
      "4 2019-08-03     A      68      62   354874      1845\n"
     ]
    }
   ],
   "source": [
    "#приведем столбцы к фармату datetime\n",
    "orders['date'] = orders['date'].map(lambda x: dt.datetime.strptime(x, '%Y-%m-%d'))\n",
    "visitors['date'] = visitors['date'].map(lambda x: dt.datetime.strptime(x, '%Y-%m-%d'))\n",
    "\n",
    "print(orders.head(5))\n",
    "print(visitors.head(5))\n",
    "\n",
    "#создаем массив уникальных пар значений дат и групп теста\n",
    "datesGroups = orders[['date','group']].drop_duplicates()\n",
    "\n",
    "#получаем агрегированные кумулятивные по дням данные о заказах \n",
    "ordersAggregated = datesGroups.apply(lambda x: orders[np.logical_and(orders['date'] <= x['date'], orders['group'] == x['group'])]\\\n",
    ".agg({'date' : 'max', 'group' : 'max', 'transaction_id' : 'nunique', 'visitor_id' : 'nunique', 'revenue' : 'sum'}), axis=1).sort_values(by=['date','group'])\n",
    "\n",
    "#получаем агрегированные кумулятивные по дням данные о посетителях\n",
    "visitorsAggregated = datesGroups.apply(lambda x: visitors[np.logical_and(visitors['date'] <= x['date'], visitors['group'] == x['group'])].agg({'date' : 'max', 'group' : 'max', 'visitors' : 'sum'}), axis=1).sort_values(by=['date','group'])\n",
    "\n",
    "# объединяем кумулятивные данные в одной таблице и присваиваем ее столбцам понятные названия\n",
    "cumulativeData = ordersAggregated.merge(visitorsAggregated, left_on=['date', 'group'], right_on=['date', 'group'])\n",
    "cumulativeData.columns = ['date', 'group', 'orders', 'buyers', 'revenue', 'visitors']\n",
    "\n",
    "print(cumulativeData.head())"
   ]
  },
  {
   "cell_type": "markdown",
   "metadata": {},
   "source": [
    "##### Построим график кумулятивной выручки по группам. Сделаем выводы и предположения.\n"
   ]
  },
  {
   "cell_type": "code",
   "execution_count": 9,
   "metadata": {},
   "outputs": [
    {
     "data": {
      "image/png": "[encoded data removed]",
      "text/plain": [
       "<Figure size 1008x432 with 1 Axes>"
      ]
     },
     "metadata": {
      "needs_background": "light"
     },
     "output_type": "display_data"
    }
   ],
   "source": [
    "# датафрейм с кумулятивным количеством заказов и кумулятивной выручкой по дням в группе А\n",
    "cumulativeRevenueA = cumulativeData[cumulativeData['group']=='A'][['date','revenue', 'orders']]\n",
    "\n",
    "# датафрейм с кумулятивным количеством заказов и кумулятивной выручкой по дням в группе B\n",
    "cumulativeRevenueB = cumulativeData[cumulativeData['group']=='B'][['date','revenue', 'orders']]\n",
    "\n",
    "plt.figure(figsize=(14, 6))\n",
    "# Строим график выручки группы А\n",
    "plt.plot(cumulativeRevenueA['date'], cumulativeRevenueA['revenue'], label='A')\n",
    "\n",
    "# Строим график выручки группы B\n",
    "plt.plot(cumulativeRevenueB['date'], cumulativeRevenueB['revenue'], label='B')\n",
    "plt.title('График кумулятивной выручки по группам')\n",
    "plt.xticks(cumulativeRevenueA['date'].unique(), rotation=45)\n",
    "plt.legend()\n",
    "plt.xlabel('Дата')\n",
    "plt.ylabel('Выручка')\n",
    "plt.grid()\n",
    "plt.show()"
   ]
  },
  {
   "cell_type": "markdown",
   "metadata": {},
   "source": [
    "Вывод. Выручка по группе B выше чем в группе А со второго дня теста. Резкий скачек выручки 18 августа может быть связан с дорогими заказами и повышением количества заказов."
   ]
  },
  {
   "cell_type": "markdown",
   "metadata": {},
   "source": [
    "##### Построим график кумулятивного среднего чека по группам. Сделаем выводы и предположения.\n"
   ]
  },
  {
   "cell_type": "code",
   "execution_count": 10,
   "metadata": {},
   "outputs": [
    {
     "data": {
      "image/png": "[encoded data removed]",
      "text/plain": [
       "<Figure size 1008x432 with 1 Axes>"
      ]
     },
     "metadata": {
      "needs_background": "light"
     },
     "output_type": "display_data"
    }
   ],
   "source": [
    "plt.figure(figsize=(14, 6))\n",
    "plt.plot(cumulativeRevenueA['date'], cumulativeRevenueA['revenue']/cumulativeRevenueA['orders'], label='A')\n",
    "plt.plot(cumulativeRevenueB['date'], cumulativeRevenueB['revenue']/cumulativeRevenueB['orders'], label='B')\n",
    "plt.title('График кумулятивного среднего чека по группам')\n",
    "plt.xticks(cumulativeRevenueA['date'].unique(), rotation=45)\n",
    "plt.legend() \n",
    "plt.xlabel('Дата')\n",
    "plt.ylabel('Средний чек')\n",
    "plt.grid()\n",
    "plt.show() "
   ]
  },
  {
   "cell_type": "markdown",
   "metadata": {},
   "source": [
    "Вывод. Средний чек по группе B выше чем в группе А со второго дня теста. Резкий скачек выручки 18 августа связан с дорогими заказами. Группа А находилась выше с 11 по 13 августа. К концу теста обе группы стабилизировались."
   ]
  },
  {
   "cell_type": "markdown",
   "metadata": {},
   "source": [
    "##### Построим график относительного изменения кумулятивного среднего чека группы B к группе A. Сделаем выводы и предположения.\n"
   ]
  },
  {
   "cell_type": "code",
   "execution_count": 11,
   "metadata": {},
   "outputs": [
    {
     "data": {
      "image/png": "[encoded data removed]",
      "text/plain": [
       "<Figure size 1008x432 with 1 Axes>"
      ]
     },
     "metadata": {
      "needs_background": "light"
     },
     "output_type": "display_data"
    }
   ],
   "source": [
    "# собираем данные в одном датафрейме\n",
    "mergedCumulativeRevenue = cumulativeRevenueA.merge(cumulativeRevenueB, left_on='date', right_on='date', how='left', suffixes=['A', 'B'])\n",
    "\n",
    "plt.figure(figsize=(14, 6))\n",
    "# cтроим отношение средних чеков\n",
    "plt.plot(mergedCumulativeRevenue['date'], (mergedCumulativeRevenue['revenueB']/mergedCumulativeRevenue['ordersB'])/(mergedCumulativeRevenue['revenueA']/mergedCumulativeRevenue['ordersA'])-1)\n",
    "\n",
    "# добавляем ось X\n",
    "plt.axhline(y=0, color='black', linestyle='--') \n",
    "plt.title('График относительного изменения кумулятивного среднего чека группы B к группе A')\n",
    "plt.xticks(cumulativeRevenueA['date'].unique(), rotation=45)\n",
    "plt.xlabel('Дата')\n",
    "plt.ylabel('Относительное изменение')\n",
    "plt.grid()\n",
    "plt.show() "
   ]
  },
  {
   "cell_type": "markdown",
   "metadata": {},
   "source": [
    "Вывод. Видим резкие скачки с 2 августа и с 18 августа, они связаны с дорогими заказами."
   ]
  },
  {
   "cell_type": "markdown",
   "metadata": {},
   "source": [
    "##### Построим график кумулятивного среднего количества заказов на посетителя по группам. Сделаем выводы и предположения.\n"
   ]
  },
  {
   "cell_type": "code",
   "execution_count": 12,
   "metadata": {},
   "outputs": [
    {
     "data": {
      "image/png": "[encoded data removed]",
      "text/plain": [
       "<Figure size 1008x432 with 1 Axes>"
      ]
     },
     "metadata": {
      "needs_background": "light"
     },
     "output_type": "display_data"
    }
   ],
   "source": [
    "# считаем кумулятивную конверсию\n",
    "cumulativeData['conversion'] = cumulativeData['orders']/cumulativeData['visitors']\n",
    "\n",
    "# отделяем данные по группе A\n",
    "cumulativeDataA = cumulativeData[cumulativeData['group']=='A']\n",
    "\n",
    "# отделяем данные по группе B\n",
    "cumulativeDataB = cumulativeData[cumulativeData['group']=='B']\n",
    "\n",
    "plt.figure(figsize=(14, 6))\n",
    "# строим графики\n",
    "plt.plot(cumulativeDataA['date'], cumulativeDataA['conversion'], label='A')\n",
    "plt.plot(cumulativeDataB['date'], cumulativeDataB['conversion'], label='B')\n",
    "plt.legend()\n",
    "plt.title('График кумулятивного среднего количества заказов на посетителя по группам')\n",
    "plt.xticks(cumulativeRevenueA['date'].unique(), rotation=45)\n",
    "plt.xlabel('Дата')\n",
    "plt.ylabel('Кумулятивное среднее количество заказов')\n",
    "plt.grid()\n",
    "plt.show() "
   ]
  },
  {
   "cell_type": "markdown",
   "metadata": {},
   "source": [
    "В начале теста группа А имела наибольшую конверсию, но с 5 августа группа В вышла вперед и сохранила лидерство до 31 августа."
   ]
  },
  {
   "cell_type": "markdown",
   "metadata": {},
   "source": [
    "##### Построим график относительного изменения кумулятивного среднего количества заказов на посетителя группы B к группе A.Сделаем выводы и предположения.\n"
   ]
  },
  {
   "cell_type": "code",
   "execution_count": 13,
   "metadata": {},
   "outputs": [
    {
     "data": {
      "image/png": "[encoded data removed]",
      "text/plain": [
       "<Figure size 1008x432 with 1 Axes>"
      ]
     },
     "metadata": {
      "needs_background": "light"
     },
     "output_type": "display_data"
    }
   ],
   "source": [
    "mergedCumulativeConversions = cumulativeDataA[['date','conversion']].merge(cumulativeDataB[['date','conversion']], left_on='date', right_on='date', how='left', suffixes=['A', 'B'])\n",
    "\n",
    "plt.figure(figsize=(14, 6))\n",
    "plt.plot(mergedCumulativeConversions['date'], mergedCumulativeConversions['conversionB']/mergedCumulativeConversions['conversionA']-1, label=\"Относительный прирост конверсии группы B относительно группы A\")\n",
    "\n",
    "\n",
    "plt.axhline(y=0, color='black', linestyle='--')\n",
    "plt.axhline(y=0.2, color='grey', linestyle='--')\n",
    "plt.title('График относительного изменения кумулятивного среднего количества заказов на посетителя группы B к группе A')\n",
    "plt.xticks(cumulativeRevenueA['date'].unique(), rotation=45)\n",
    "plt.xlabel('Дата')\n",
    "plt.ylabel('Относительное изменение кумулятивного среднего количества заказов')\n",
    "plt.grid()\n",
    "plt.show() "
   ]
  },
  {
   "cell_type": "markdown",
   "metadata": {},
   "source": [
    "Вывод. График показывает, группа В лидирует с 5 по 31 августа."
   ]
  },
  {
   "cell_type": "markdown",
   "metadata": {},
   "source": [
    "##### Построим точечный график количества заказов по пользователям. Сделаем выводы и предположения.\n"
   ]
  },
  {
   "cell_type": "code",
   "execution_count": 14,
   "metadata": {},
   "outputs": [
    {
     "name": "stdout",
     "output_type": "stream",
     "text": [
      "          userId  orders\n",
      "1023  4256040402      11\n",
      "591   2458001652      11\n",
      "569   2378935119       9\n",
      "487   2038680547       8\n",
      "44     199603092       5\n",
      "744   3062433592       5\n",
      "55     237748145       5\n",
      "917   3803269165       5\n",
      "299   1230306981       5\n",
      "897   3717692402       5\n"
     ]
    },
    {
     "data": {
      "image/png": "[encoded data removed]",
      "text/plain": [
       "<Figure size 1008x432 with 1 Axes>"
      ]
     },
     "metadata": {
      "needs_background": "light"
     },
     "output_type": "display_data"
    }
   ],
   "source": [
    "ordersByUsers = orders.groupby('visitor_id', as_index=False).agg({'transaction_id' : 'nunique',})\n",
    "ordersByUsers.columns = ['userId', 'orders']\n",
    "print(ordersByUsers.sort_values(by='orders',ascending=False).head(10))\n",
    "\n",
    "plt.figure(figsize=(14, 6))\n",
    "# серия из чисел от 0 до количества наблюдений в ordersByUsers\n",
    "x_values = pd.Series(range(0, len(ordersByUsers)))\n",
    "plt.scatter(x_values,ordersByUsers['orders'])\n",
    "plt.title('График количества заказов по пользователям')\n",
    "plt.ylabel('Количество заказов по пользователям')\n",
    "plt.grid()\n",
    "plt.show() "
   ]
  },
  {
   "cell_type": "markdown",
   "metadata": {},
   "source": [
    "Очень маленькое количество пользователей, сделавших больше 2-х заказов. "
   ]
  },
  {
   "cell_type": "markdown",
   "metadata": {},
   "source": [
    "##### Посчитаем 95-й и 99-й перцентили количества заказов на пользователя. Выберем границу для определения аномальных пользователей.\n"
   ]
  },
  {
   "cell_type": "code",
   "execution_count": 15,
   "metadata": {},
   "outputs": [
    {
     "name": "stdout",
     "output_type": "stream",
     "text": [
      "[1. 2. 4.]\n"
     ]
    }
   ],
   "source": [
    "print(np.percentile(ordersByUsers['orders'], [90, 95, 99])) #находит перцентили."
   ]
  },
  {
   "cell_type": "markdown",
   "metadata": {},
   "source": [
    "5% пользователей оформляли больше 2х заказов, 1% оформляли больше 4х заказов. Граница для определения аномальных пользователей более 2-х заказов."
   ]
  },
  {
   "cell_type": "markdown",
   "metadata": {},
   "source": [
    "##### Построим точечный график стоимостей заказов. Сделаем выводы и предположения.\n"
   ]
  },
  {
   "cell_type": "code",
   "execution_count": 16,
   "metadata": {},
   "outputs": [
    {
     "data": {
      "image/png": "[encoded data removed]",
      "text/plain": [
       "<Figure size 1008x432 with 1 Axes>"
      ]
     },
     "metadata": {
      "needs_background": "light"
     },
     "output_type": "display_data"
    }
   ],
   "source": [
    "# серия из чисел от 0 до количества наблюдений в orders['revenue']\n",
    "x_values = pd.Series(range(0, len(orders['revenue'])))\n",
    "plt.figure(figsize=(14, 6))\n",
    "plt.scatter(x_values, orders['revenue']) \n",
    "plt.title('График стоимостей заказов')\n",
    "plt.grid()\n",
    "plt.show()"
   ]
  },
  {
   "cell_type": "markdown",
   "metadata": {},
   "source": [
    "Видим аномальные значения на 200 000 и свыше 1,2 млн. "
   ]
  },
  {
   "cell_type": "markdown",
   "metadata": {},
   "source": [
    "##### Посчитаем 95-й и 99-й перцентили стоимости заказов. Выберем границу для определения аномальных заказов.\n"
   ]
  },
  {
   "cell_type": "code",
   "execution_count": 17,
   "metadata": {},
   "outputs": [
    {
     "name": "stdout",
     "output_type": "stream",
     "text": [
      "[28000.  58233.2]\n"
     ]
    }
   ],
   "source": [
    "print(np.percentile(orders['revenue'] , [95, 99]))"
   ]
  },
  {
   "cell_type": "markdown",
   "metadata": {},
   "source": [
    "5% пользователей потратили более 28 000, 1% пользователей потратили более 58 200. Граница для определения аномальных заказов - 28 000."
   ]
  },
  {
   "cell_type": "markdown",
   "metadata": {},
   "source": [
    "##### Посчитаем статистическую значимость различий в среднем количестве заказов на посетителя между группами по «сырым» данным. Сделаем выводы и предположения.\n",
    "\n",
    "Выборки будем проверять критерием Манна-Уитни. Значение alpha примем 0.05.\n",
    "\n",
    "* Н0 - в среднем количестве заказов между группами нет статистически значимых различий\n",
    "* Н1 - в среднем количестве заказов между группами существуют статистически значимые различия\n"
   ]
  },
  {
   "cell_type": "code",
   "execution_count": 18,
   "metadata": {},
   "outputs": [
    {
     "name": "stdout",
     "output_type": "stream",
     "text": [
      "alpha равно 0.05\n",
      "p-значение равно 0.01679\n",
      "Относительный прирост среднего группы В относительно конверсии группы А равно 0.138\n"
     ]
    }
   ],
   "source": [
    "visitorsADaily = visitors[visitors['group'] == 'A'][['date', 'visitors']]\n",
    "visitorsADaily.columns = ['date', 'visitorsPerDateA']\n",
    "\n",
    "visitorsACummulative = visitorsADaily.apply(\n",
    "    lambda x: visitorsADaily[visitorsADaily['date'] <= x['date']].agg(\n",
    "        {'date': 'max', 'visitorsPerDateA': 'sum'}\n",
    "    ),\n",
    "    axis=1,\n",
    ")\n",
    "visitorsACummulative.columns = ['date', 'visitorsCummulativeA']\n",
    "\n",
    "visitorsBDaily = visitors[visitors['group'] == 'B'][['date', 'visitors']]\n",
    "visitorsBDaily.columns = ['date', 'visitorsPerDateB']\n",
    "\n",
    "visitorsBCummulative = visitorsBDaily.apply(\n",
    "    lambda x: visitorsBDaily[visitorsBDaily['date'] <= x['date']].agg(\n",
    "        {'date': 'max', 'visitorsPerDateB': 'sum'}\n",
    "    ),\n",
    "    axis=1,\n",
    ")\n",
    "visitorsBCummulative.columns = ['date', 'visitorsCummulativeB']\n",
    "\n",
    "ordersADaily = (\n",
    "    orders[orders['group'] == 'A'][['date', 'transaction_id', 'visitor_id', 'revenue']]\n",
    "    .groupby('date', as_index=False)\n",
    "    .agg({'transaction_id': pd.Series.nunique, 'revenue': 'sum'})\n",
    ")\n",
    "ordersADaily.columns = ['date', 'ordersPerDateA', 'revenuePerDateA']\n",
    "\n",
    "ordersACummulative = ordersADaily.apply(\n",
    "    lambda x: ordersADaily[ordersADaily['date'] <= x['date']].agg(\n",
    "        {'date': 'max', 'ordersPerDateA': 'sum', 'revenuePerDateA': 'sum'}\n",
    "    ),\n",
    "    axis=1,\n",
    ").sort_values(by=['date'])\n",
    "ordersACummulative.columns = [\n",
    "    'date',\n",
    "    'ordersCummulativeA',\n",
    "    'revenueCummulativeA',\n",
    "]\n",
    "\n",
    "ordersBDaily = (\n",
    "    orders[orders['group'] == 'B'][['date', 'transaction_id', 'visitor_id', 'revenue']]\n",
    "    .groupby('date', as_index=False)\n",
    "    .agg({'transaction_id': pd.Series.nunique, 'revenue': 'sum'})\n",
    ")\n",
    "ordersBDaily.columns = ['date', 'ordersPerDateB', 'revenuePerDateB']\n",
    "\n",
    "ordersBCummulative = ordersBDaily.apply(\n",
    "    lambda x: ordersBDaily[ordersBDaily['date'] <= x['date']].agg(\n",
    "        {'date': 'max', 'ordersPerDateB': 'sum', 'revenuePerDateB': 'sum'}\n",
    "    ),\n",
    "    axis=1,\n",
    ").sort_values(by=['date'])\n",
    "ordersBCummulative.columns = [\n",
    "    'date',\n",
    "    'ordersCummulativeB',\n",
    "    'revenueCummulativeB',\n",
    "]\n",
    "\n",
    "data = (\n",
    "    ordersADaily.merge(\n",
    "        ordersBDaily, left_on='date', right_on='date', how='left'\n",
    "    )\n",
    "    .merge(ordersACummulative, left_on='date', right_on='date', how='left')\n",
    "    .merge(ordersBCummulative, left_on='date', right_on='date', how='left')\n",
    "    .merge(visitorsADaily, left_on='date', right_on='date', how='left')\n",
    "    .merge(visitorsBDaily, left_on='date', right_on='date', how='left')\n",
    "    .merge(visitorsACummulative, left_on='date', right_on='date', how='left')\n",
    "    .merge(visitorsBCummulative, left_on='date', right_on='date', how='left')\n",
    ")\n",
    "\n",
    "ordersByUsersA = (\n",
    "    orders[orders['group'] == 'A']\n",
    "    .groupby('visitor_id', as_index=False)\n",
    "    .agg({'transaction_id': pd.Series.nunique})\n",
    ")\n",
    "ordersByUsersA.columns = ['userId', 'orders']\n",
    "\n",
    "ordersByUsersB = (\n",
    "    orders[orders['group'] == 'B']\n",
    "    .groupby('visitor_id', as_index=False)\n",
    "    .agg({'transaction_id': pd.Series.nunique})\n",
    ")\n",
    "ordersByUsersB.columns = ['userId', 'orders'] \n",
    "\n",
    "sampleA = pd.concat([ordersByUsersA['orders'],pd.Series(0, index=np.arange(data['visitorsPerDateA'].sum() - len(ordersByUsersA['orders'])), name='orders')],axis=0)\n",
    "\n",
    "sampleB = pd.concat([ordersByUsersB['orders'],pd.Series(0, index=np.arange(data['visitorsPerDateB'].sum() - len(ordersByUsersB['orders'])), name='orders')],axis=0) \n",
    "\n",
    "print('alpha равно 0.05')\n",
    "\n",
    "print(\"p-значение равно\",\"{0:.5f}\".format(stats.mannwhitneyu(sampleA, sampleB)[1]))\n",
    "\n",
    "print(\"Относительный прирост среднего группы В относительно конверсии группы А равно\",\"{0:.3f}\".format(sampleB.mean() / sampleA.mean() - 1))"
   ]
  },
  {
   "cell_type": "markdown",
   "metadata": {},
   "source": [
    "Вывод. p-value значительно меньше 0,05 - значит нулевую гипотезу следует отвергнуть. Анализ сырых данных показывает что в среднем количестве заказов между группами существут статистически значимые различия."
   ]
  },
  {
   "cell_type": "markdown",
   "metadata": {},
   "source": [
    "##### Посчитаем статистическую значимость различий в среднем чеке заказа между группами по \"сырым\" данным. Сделаем выводы и предположения.\n",
    "\n",
    "Выборки будем проверять критерием Манна-Уитни. Значение alpha примем 0.05.\n",
    "\n",
    "* Н0 - в среднем чеке заказа между группами нет статистически значимых различий\n",
    "* Н1 - в среднем чеке заказа между группами существуют статистически значимые различия\n"
   ]
  },
  {
   "cell_type": "code",
   "execution_count": 19,
   "metadata": {},
   "outputs": [
    {
     "name": "stdout",
     "output_type": "stream",
     "text": [
      "alpha равно 0.05\n",
      "p-значение равно 0.729\n",
      "Относительное различие среднего чека группы В относительно группы А равно 0.259\n"
     ]
    }
   ],
   "source": [
    "print('alpha равно 0.05')\n",
    "print(\"p-значение равно\",'{0:.3f}'.format(stats.mannwhitneyu(orders[orders['group']=='A']['revenue'], orders[orders['group']=='B']['revenue'])[1]))\n",
    "print(\"Относительное различие среднего чека группы В относительно группы А равно\",'{0:.3f}'.format(orders[orders['group']=='B']['revenue'].mean()/orders[orders['group']=='A']['revenue'].mean()-1)) "
   ]
  },
  {
   "cell_type": "markdown",
   "metadata": {},
   "source": [
    "Вывод. p-value значительно больше 0,05 - значит нулевая гипотеза подтверждена. Анализ сырых данных показывает что относительное различие среднего чека группы В относительно группы А не имеет статистически значимых различий."
   ]
  },
  {
   "cell_type": "markdown",
   "metadata": {},
   "source": [
    "##### Посчитаем статистическую значимость различий в среднем количестве заказов на посетителя между группами по «очищенным» данным. Сделаем выводы и предположения.\n",
    "\n",
    "Выборки будем проверять критерием Манна-Уитни. Значение alpha примем 0.05.\n",
    "\n",
    "* Н0 - в среднем количестве заказов между группами нет статистически значимых различий\n",
    "* Н1 - в среднем количестве заказов между группами существуют статистически значимые различия\n"
   ]
  },
  {
   "cell_type": "code",
   "execution_count": 20,
   "metadata": {},
   "outputs": [
    {
     "name": "stdout",
     "output_type": "stream",
     "text": [
      "alpha равно 0.05\n",
      "p-значение равно 0.013\n",
      "Относительный прирост среднего группы В относительно конверсии группы А равно 0.173\n"
     ]
    }
   ],
   "source": [
    "ordersByUsersA = (\n",
    "    orders[orders['group'] == 'A']\n",
    "    .groupby('visitor_id', as_index=False)\n",
    "    .agg({'transaction_id': pd.Series.nunique})\n",
    ")\n",
    "ordersByUsersA.columns = ['visitor_id', 'transaction_id']\n",
    "\n",
    "ordersByUsersB = (\n",
    "    orders[orders['group'] == 'B']\n",
    "    .groupby('visitor_id', as_index=False)\n",
    "    .agg({'transaction_id': pd.Series.nunique})\n",
    ")\n",
    "ordersByUsersB.columns = ['visitor_id', 'transaction_id']\n",
    "\n",
    "usersWithManyOrders = pd.concat(\n",
    "    [\n",
    "        ordersByUsersA[ordersByUsersA['transaction_id'] > 2]['visitor_id'],\n",
    "        ordersByUsersB[ordersByUsersB['transaction_id'] > 2]['visitor_id'],\n",
    "    ],\n",
    "    axis=0,\n",
    ")\n",
    "usersWithExpensiveOrders = orders[orders['revenue'] > 28000]['visitor_id']\n",
    "abnormalUsers = (\n",
    "    pd.concat([usersWithManyOrders, usersWithExpensiveOrders], axis=0)\n",
    "    .drop_duplicates()\n",
    "    .sort_values()\n",
    ")\n",
    "\n",
    "#print(abnormalUsers.head(5))\n",
    "\n",
    "sampleAFiltered = pd.concat(\n",
    "    [\n",
    "        ordersByUsersA[\n",
    "            np.logical_not(ordersByUsersA['visitor_id'].isin(abnormalUsers))\n",
    "        ]['transaction_id'],\n",
    "        pd.Series(\n",
    "            0,\n",
    "            index=np.arange(\n",
    "                data['visitorsPerDateA'].sum() - len(ordersByUsersA['transaction_id'])\n",
    "            ),\n",
    "            name='orders',\n",
    "        ),\n",
    "    ],\n",
    "    axis=0,\n",
    ")\n",
    "\n",
    "sampleBFiltered = pd.concat(\n",
    "    [\n",
    "        ordersByUsersB[\n",
    "            np.logical_not(ordersByUsersB['visitor_id'].isin(abnormalUsers))\n",
    "        ]['transaction_id'],\n",
    "        pd.Series(\n",
    "            0,\n",
    "            index=np.arange(\n",
    "                data['visitorsPerDateB'].sum() - len(ordersByUsersB['transaction_id'])\n",
    "            ),\n",
    "            name='orders',\n",
    "        ),\n",
    "    ],\n",
    "    axis=0,\n",
    ") \n",
    "print('alpha равно 0.05')\n",
    "print(\"p-значение равно\",'{0:.3f}'.format(stats.mannwhitneyu(sampleAFiltered, sampleBFiltered)[1]))\n",
    "print(\"Относительный прирост среднего группы В относительно конверсии группы А равно\",'{0:.3f}'.format(sampleBFiltered.mean()/sampleAFiltered.mean()-1)) "
   ]
  },
  {
   "cell_type": "markdown",
   "metadata": {},
   "source": [
    "Вывод. p-value значительно меньше 0,05 - значит нулевую гипотезу следует отвергнуть. Анализ очищенных данных показывает что в среднем количестве заказов между группами существут статистически значимые различия."
   ]
  },
  {
   "cell_type": "markdown",
   "metadata": {},
   "source": [
    "##### Посчитаем статистическую значимость различий в среднем чеке заказа между группами по «очищенным» данным. Сделаем выводы и предположения.\n",
    "\n",
    "Выборки будем проверять критерием Манна-Уитни. Значение alpha примем 0.05.\n",
    "\n",
    "* Н0 - в среднем чеке заказа между группами нет статистически значимых различий\n",
    "* Н1 - в среднем чеке заказа между группами существуют статистически значимые различия\n",
    "\n"
   ]
  },
  {
   "cell_type": "code",
   "execution_count": 21,
   "metadata": {},
   "outputs": [
    {
     "name": "stdout",
     "output_type": "stream",
     "text": [
      "alpha равно 0.05\n",
      "p-значение равно 0.738\n",
      "Относительное различие среднего чека группы В относительно группы А равно -0.020\n"
     ]
    }
   ],
   "source": [
    "print('alpha равно 0.05')\n",
    "print(\"p-значение равно\",\n",
    "    '{0:.3f}'.format(\n",
    "        stats.mannwhitneyu(\n",
    "            orders[\n",
    "                np.logical_and(\n",
    "                    orders['group'] == 'A',\n",
    "                    np.logical_not(orders['visitor_id'].isin(abnormalUsers)),\n",
    "                )\n",
    "            ]['revenue'],\n",
    "            orders[\n",
    "                np.logical_and(\n",
    "                    orders['group'] == 'B',\n",
    "                    np.logical_not(orders['visitor_id'].isin(abnormalUsers)),\n",
    "                )\n",
    "            ]['revenue'],\n",
    "        )[1]\n",
    "    )\n",
    ")\n",
    "\n",
    "print(\"Относительное различие среднего чека группы В относительно группы А равно\",\n",
    "    \"{0:.3f}\".format(\n",
    "        orders[\n",
    "            np.logical_and(\n",
    "                orders['group'] == 'B',\n",
    "                np.logical_not(orders['visitor_id'].isin(abnormalUsers)),\n",
    "            )\n",
    "        ]['revenue'].mean()\n",
    "        / orders[\n",
    "            np.logical_and(\n",
    "                orders['group'] == 'A',\n",
    "                np.logical_not(orders['visitor_id'].isin(abnormalUsers)),\n",
    "            )\n",
    "        ]['revenue'].mean()\n",
    "        - 1\n",
    "    )\n",
    ") "
   ]
  },
  {
   "cell_type": "markdown",
   "metadata": {},
   "source": [
    "Вывод. p-value значительно больше 0,05 - значит нулевая гипотеза подтверждена. Анализ сырых данных показывает что относительное различие среднего чека группы В относительно группы А не имеет статистически значимых различий."
   ]
  },
  {
   "cell_type": "markdown",
   "metadata": {},
   "source": [
    "#### Шаг 2. Примем решение по результатам теста и объясним его. \n",
    "\n",
    "Варианты решений:\n",
    "\n",
    "* Остановить тест, зафиксировать победу одной из групп.\n",
    "* Остановить тест, зафиксировать отсутствие различий между группами.\n",
    "* Продолжить тест."
   ]
  },
  {
   "cell_type": "markdown",
   "metadata": {},
   "source": [
    "На основании данных:\n",
    "\n",
    "1. Различие в среднем количестве заказов между группами по \"очищенным\" и \"сырым\" данным - статистически значимое.\n",
    "2. Различие в среднем чеке между группами по \"очищенным\" и \"сырым\" данным - статистически не значимое.\n",
    "3. Различие среднего количества заказов на посетителя исходя из графика, показывает что результаты группы B лучше группы A на 14%.\n",
    "\n",
    "Нам следует остановить тест, зафиксировать победу группы В."
   ]
  },
  {
   "cell_type": "markdown",
   "metadata": {},
   "source": [
    "## Общий вывод.\n",
    "\n",
    "Целью проекта было:\n",
    "* приоритизировать гипотезы\n",
    "* принять решение по результатам A/B-теста\n",
    "\n",
    "Перед анализом данных мы провели предобработку:\n",
    "\n",
    "* привели названия колонок к нижнему регистру и общему стилю;\n",
    "* проверили данные на наличие дубликатов - дубликаты отсутствуют.\n",
    "\n",
    "По фреймворку RICE приорететнее оказались гипотезы с индексами 7, 2, 0:\n",
    "\n",
    "7. \"Добавить форму подписки на все основные страницы, чтобы собрать базу клиентов для email-рассылок\"\n",
    "2. \"Добавить блоки рекомендаций товаров на сайт интернет магазина, чтобы повысить конверсию и средний чек заказа\"\n",
    "0. \"Добавить два новых канала привлечения трафика, что позволит привлекать на 30% больше пользователей\"\n",
    "\n",
    "На основании данных:\n",
    "\n",
    "1. Различие в среднем количестве заказов между группами по \"очищенным\" и \"сырым\" данным - статистически значимое.\n",
    "2. Различие в среднем чеке между группами по \"очищенным\" и \"сырым\" данным - статистически не значимое.\n",
    "3. Различие среднего количества заказов на посетителя исходя из графика, показывает что результаты группы B лучше группы A на 14%.\n",
    "\n",
    "Нам следует остановить тест, зафиксировать победу группы В.\n"
   ]
  }
 ],
 "metadata": {
  "ExecuteTimeLog": [
   {
    "duration": 4,
    "start_time": "2023-12-18T07:04:16.343Z"
   },
   {
    "duration": 1255,
    "start_time": "2023-12-18T07:04:52.446Z"
   },
   {
    "duration": 261,
    "start_time": "2023-12-18T07:07:31.012Z"
   },
   {
    "duration": 1110,
    "start_time": "2023-12-18T07:07:42.380Z"
   },
   {
    "duration": 176,
    "start_time": "2023-12-18T07:07:43.492Z"
   },
   {
    "duration": 137,
    "start_time": "2023-12-18T07:07:54.426Z"
   },
   {
    "duration": 21,
    "start_time": "2023-12-18T07:14:54.568Z"
   },
   {
    "duration": 3,
    "start_time": "2023-12-18T07:26:07.311Z"
   },
   {
    "duration": 11,
    "start_time": "2023-12-18T07:29:49.294Z"
   },
   {
    "duration": 24,
    "start_time": "2023-12-18T07:30:02.745Z"
   },
   {
    "duration": 23,
    "start_time": "2023-12-18T07:31:22.359Z"
   },
   {
    "duration": 28,
    "start_time": "2023-12-18T07:31:45.409Z"
   },
   {
    "duration": 1095,
    "start_time": "2023-12-18T07:32:56.985Z"
   },
   {
    "duration": 98,
    "start_time": "2023-12-18T07:32:58.082Z"
   },
   {
    "duration": 18,
    "start_time": "2023-12-18T07:32:58.181Z"
   },
   {
    "duration": 23,
    "start_time": "2023-12-18T07:32:58.200Z"
   },
   {
    "duration": 4,
    "start_time": "2023-12-18T07:35:16.721Z"
   },
   {
    "duration": 23,
    "start_time": "2023-12-18T07:35:23.117Z"
   },
   {
    "duration": 24,
    "start_time": "2023-12-18T07:35:50.576Z"
   },
   {
    "duration": 1099,
    "start_time": "2023-12-18T07:35:56.277Z"
   },
   {
    "duration": 95,
    "start_time": "2023-12-18T07:35:57.378Z"
   },
   {
    "duration": 16,
    "start_time": "2023-12-18T07:35:57.477Z"
   },
   {
    "duration": 33,
    "start_time": "2023-12-18T07:35:57.494Z"
   },
   {
    "duration": 24,
    "start_time": "2023-12-18T07:36:33.225Z"
   },
   {
    "duration": 23,
    "start_time": "2023-12-18T07:37:14.548Z"
   },
   {
    "duration": 25,
    "start_time": "2023-12-18T07:38:43.432Z"
   },
   {
    "duration": 8,
    "start_time": "2023-12-18T07:40:04.216Z"
   },
   {
    "duration": 2,
    "start_time": "2023-12-18T07:43:02.102Z"
   },
   {
    "duration": 9,
    "start_time": "2023-12-18T07:46:24.048Z"
   },
   {
    "duration": 7,
    "start_time": "2023-12-18T07:47:28.188Z"
   },
   {
    "duration": 7,
    "start_time": "2023-12-18T07:47:43.024Z"
   },
   {
    "duration": 8,
    "start_time": "2023-12-18T07:47:46.405Z"
   },
   {
    "duration": 99,
    "start_time": "2023-12-18T07:49:36.977Z"
   },
   {
    "duration": 9,
    "start_time": "2023-12-18T07:49:45.824Z"
   },
   {
    "duration": 7,
    "start_time": "2023-12-18T07:50:12.308Z"
   },
   {
    "duration": 7,
    "start_time": "2023-12-18T07:50:41.200Z"
   },
   {
    "duration": 7,
    "start_time": "2023-12-18T07:51:09.891Z"
   },
   {
    "duration": 1048,
    "start_time": "2023-12-18T07:51:15.844Z"
   },
   {
    "duration": 97,
    "start_time": "2023-12-18T07:51:16.896Z"
   },
   {
    "duration": 18,
    "start_time": "2023-12-18T07:51:16.994Z"
   },
   {
    "duration": 25,
    "start_time": "2023-12-18T07:51:17.013Z"
   },
   {
    "duration": 11,
    "start_time": "2023-12-18T07:51:17.040Z"
   },
   {
    "duration": 13,
    "start_time": "2023-12-18T07:51:17.052Z"
   },
   {
    "duration": 7,
    "start_time": "2023-12-18T07:51:50.092Z"
   },
   {
    "duration": 6,
    "start_time": "2023-12-18T07:51:58.348Z"
   },
   {
    "duration": 7,
    "start_time": "2023-12-18T07:52:34.235Z"
   },
   {
    "duration": 39,
    "start_time": "2023-12-18T07:55:12.185Z"
   },
   {
    "duration": 10,
    "start_time": "2023-12-18T08:00:15.288Z"
   },
   {
    "duration": 9,
    "start_time": "2023-12-18T08:00:30.454Z"
   },
   {
    "duration": 1039,
    "start_time": "2023-12-18T08:00:56.634Z"
   },
   {
    "duration": 96,
    "start_time": "2023-12-18T08:00:57.675Z"
   },
   {
    "duration": 16,
    "start_time": "2023-12-18T08:00:57.772Z"
   },
   {
    "duration": 26,
    "start_time": "2023-12-18T08:00:57.790Z"
   },
   {
    "duration": 20,
    "start_time": "2023-12-18T08:00:57.818Z"
   },
   {
    "duration": 23,
    "start_time": "2023-12-18T08:00:57.840Z"
   },
   {
    "duration": 20,
    "start_time": "2023-12-18T08:00:57.864Z"
   },
   {
    "duration": 10,
    "start_time": "2023-12-18T08:01:19.116Z"
   },
   {
    "duration": 92,
    "start_time": "2023-12-18T08:02:06.586Z"
   },
   {
    "duration": 10,
    "start_time": "2023-12-18T08:02:23.649Z"
   },
   {
    "duration": 10,
    "start_time": "2023-12-18T08:03:42.313Z"
   },
   {
    "duration": 10,
    "start_time": "2023-12-18T08:03:58.498Z"
   },
   {
    "duration": 10,
    "start_time": "2023-12-18T08:04:07.019Z"
   },
   {
    "duration": 1047,
    "start_time": "2023-12-18T08:04:13.335Z"
   },
   {
    "duration": 95,
    "start_time": "2023-12-18T08:04:14.384Z"
   },
   {
    "duration": 16,
    "start_time": "2023-12-18T08:04:14.480Z"
   },
   {
    "duration": 34,
    "start_time": "2023-12-18T08:04:14.497Z"
   },
   {
    "duration": 15,
    "start_time": "2023-12-18T08:04:14.533Z"
   },
   {
    "duration": 11,
    "start_time": "2023-12-18T08:04:14.549Z"
   },
   {
    "duration": 11,
    "start_time": "2023-12-18T08:04:14.561Z"
   },
   {
    "duration": 281,
    "start_time": "2023-12-18T08:25:26.426Z"
   },
   {
    "duration": 192,
    "start_time": "2023-12-18T08:25:58.220Z"
   },
   {
    "duration": 126,
    "start_time": "2023-12-18T08:26:16.541Z"
   },
   {
    "duration": 113,
    "start_time": "2023-12-18T08:26:36.357Z"
   },
   {
    "duration": 253,
    "start_time": "2023-12-18T08:27:15.214Z"
   },
   {
    "duration": 230,
    "start_time": "2023-12-18T08:28:10.145Z"
   },
   {
    "duration": 225,
    "start_time": "2023-12-18T08:28:42.410Z"
   },
   {
    "duration": 302,
    "start_time": "2023-12-18T08:29:15.709Z"
   },
   {
    "duration": 226,
    "start_time": "2023-12-18T08:35:37.960Z"
   },
   {
    "duration": 1372,
    "start_time": "2023-12-18T10:36:26.217Z"
   },
   {
    "duration": 219,
    "start_time": "2023-12-18T10:36:27.591Z"
   },
   {
    "duration": 20,
    "start_time": "2023-12-18T10:36:27.812Z"
   },
   {
    "duration": 26,
    "start_time": "2023-12-18T10:36:27.833Z"
   },
   {
    "duration": 9,
    "start_time": "2023-12-18T10:36:27.862Z"
   },
   {
    "duration": 27,
    "start_time": "2023-12-18T10:36:27.872Z"
   },
   {
    "duration": 30,
    "start_time": "2023-12-18T10:36:27.901Z"
   },
   {
    "duration": 291,
    "start_time": "2023-12-18T10:36:27.933Z"
   },
   {
    "duration": 12,
    "start_time": "2023-12-18T10:37:10.978Z"
   },
   {
    "duration": 12,
    "start_time": "2023-12-18T10:37:17.817Z"
   },
   {
    "duration": 370,
    "start_time": "2023-12-18T10:42:04.744Z"
   },
   {
    "duration": 205,
    "start_time": "2023-12-18T10:45:40.557Z"
   },
   {
    "duration": 47,
    "start_time": "2023-12-18T10:46:48.360Z"
   },
   {
    "duration": 239,
    "start_time": "2023-12-18T10:48:59.130Z"
   },
   {
    "duration": 208,
    "start_time": "2023-12-18T10:51:13.232Z"
   },
   {
    "duration": 1238,
    "start_time": "2023-12-18T10:51:25.066Z"
   },
   {
    "duration": 98,
    "start_time": "2023-12-18T10:51:26.306Z"
   },
   {
    "duration": 20,
    "start_time": "2023-12-18T10:51:26.406Z"
   },
   {
    "duration": 28,
    "start_time": "2023-12-18T10:51:26.428Z"
   },
   {
    "duration": 25,
    "start_time": "2023-12-18T10:51:26.458Z"
   },
   {
    "duration": 20,
    "start_time": "2023-12-18T10:51:26.485Z"
   },
   {
    "duration": 33,
    "start_time": "2023-12-18T10:51:26.507Z"
   },
   {
    "duration": 346,
    "start_time": "2023-12-18T10:51:26.542Z"
   },
   {
    "duration": 297,
    "start_time": "2023-12-18T10:52:57.945Z"
   },
   {
    "duration": 269,
    "start_time": "2023-12-18T10:53:32.534Z"
   },
   {
    "duration": 1274,
    "start_time": "2023-12-18T10:53:38.537Z"
   },
   {
    "duration": 106,
    "start_time": "2023-12-18T10:53:39.815Z"
   },
   {
    "duration": 28,
    "start_time": "2023-12-18T10:53:39.923Z"
   },
   {
    "duration": 40,
    "start_time": "2023-12-18T10:53:39.953Z"
   },
   {
    "duration": 48,
    "start_time": "2023-12-18T10:53:39.996Z"
   },
   {
    "duration": 25,
    "start_time": "2023-12-18T10:53:40.046Z"
   },
   {
    "duration": 71,
    "start_time": "2023-12-18T10:53:40.073Z"
   },
   {
    "duration": 796,
    "start_time": "2023-12-18T10:53:40.146Z"
   },
   {
    "duration": 295,
    "start_time": "2023-12-18T10:56:12.389Z"
   },
   {
    "duration": 208,
    "start_time": "2023-12-18T10:57:46.645Z"
   },
   {
    "duration": 316,
    "start_time": "2023-12-18T10:58:57.361Z"
   },
   {
    "duration": 313,
    "start_time": "2023-12-18T10:59:07.138Z"
   },
   {
    "duration": 308,
    "start_time": "2023-12-18T10:59:16.816Z"
   },
   {
    "duration": 359,
    "start_time": "2023-12-18T11:00:03.142Z"
   },
   {
    "duration": 391,
    "start_time": "2023-12-18T11:00:28.915Z"
   },
   {
    "duration": 451,
    "start_time": "2023-12-18T11:00:41.412Z"
   },
   {
    "duration": 357,
    "start_time": "2023-12-18T11:00:46.044Z"
   },
   {
    "duration": 367,
    "start_time": "2023-12-18T11:00:49.618Z"
   },
   {
    "duration": 354,
    "start_time": "2023-12-18T11:03:58.163Z"
   },
   {
    "duration": 362,
    "start_time": "2023-12-18T11:04:05.920Z"
   },
   {
    "duration": 218,
    "start_time": "2023-12-18T11:04:47.622Z"
   },
   {
    "duration": 363,
    "start_time": "2023-12-18T11:05:23.452Z"
   },
   {
    "duration": 319,
    "start_time": "2023-12-18T11:08:27.638Z"
   },
   {
    "duration": 525,
    "start_time": "2023-12-18T11:09:09.129Z"
   },
   {
    "duration": 453,
    "start_time": "2023-12-18T11:09:16.283Z"
   },
   {
    "duration": 191,
    "start_time": "2023-12-18T11:13:20.482Z"
   },
   {
    "duration": 277,
    "start_time": "2023-12-18T11:13:48.023Z"
   },
   {
    "duration": 559,
    "start_time": "2023-12-18T11:14:31.285Z"
   },
   {
    "duration": 334,
    "start_time": "2023-12-18T11:14:48.149Z"
   },
   {
    "duration": 456,
    "start_time": "2023-12-18T11:17:48.211Z"
   },
   {
    "duration": 342,
    "start_time": "2023-12-18T11:18:24.229Z"
   },
   {
    "duration": 383,
    "start_time": "2023-12-18T11:18:52.909Z"
   },
   {
    "duration": 389,
    "start_time": "2023-12-18T11:21:55.178Z"
   },
   {
    "duration": 490,
    "start_time": "2023-12-18T11:22:37.810Z"
   },
   {
    "duration": 514,
    "start_time": "2023-12-18T11:22:48.823Z"
   },
   {
    "duration": 13,
    "start_time": "2023-12-18T11:27:02.741Z"
   },
   {
    "duration": 13,
    "start_time": "2023-12-18T11:33:32.919Z"
   },
   {
    "duration": 136,
    "start_time": "2023-12-18T11:37:55.174Z"
   },
   {
    "duration": 251,
    "start_time": "2023-12-18T11:38:19.686Z"
   },
   {
    "duration": 5,
    "start_time": "2023-12-18T11:40:02.911Z"
   },
   {
    "duration": 178,
    "start_time": "2023-12-18T11:45:46.412Z"
   },
   {
    "duration": 172,
    "start_time": "2023-12-18T11:45:57.933Z"
   },
   {
    "duration": 4,
    "start_time": "2023-12-18T11:47:38.399Z"
   },
   {
    "duration": 18,
    "start_time": "2023-12-18T12:43:10.197Z"
   },
   {
    "duration": 141,
    "start_time": "2023-12-18T12:45:44.508Z"
   },
   {
    "duration": 115,
    "start_time": "2023-12-18T12:47:19.371Z"
   },
   {
    "duration": 134,
    "start_time": "2023-12-18T12:49:19.441Z"
   },
   {
    "duration": 376,
    "start_time": "2023-12-18T12:50:03.304Z"
   },
   {
    "duration": 428,
    "start_time": "2023-12-18T12:51:55.186Z"
   },
   {
    "duration": 379,
    "start_time": "2023-12-18T12:52:04.650Z"
   },
   {
    "duration": 416,
    "start_time": "2023-12-18T12:52:43.541Z"
   },
   {
    "duration": 13,
    "start_time": "2023-12-18T12:57:08.874Z"
   },
   {
    "duration": 14,
    "start_time": "2023-12-18T12:57:59.946Z"
   },
   {
    "duration": 905,
    "start_time": "2023-12-18T13:02:47.984Z"
   },
   {
    "duration": 812,
    "start_time": "2023-12-18T13:03:16.586Z"
   },
   {
    "duration": 921,
    "start_time": "2023-12-18T13:03:29.623Z"
   },
   {
    "duration": 25,
    "start_time": "2023-12-18T13:04:24.222Z"
   },
   {
    "duration": 981,
    "start_time": "2023-12-18T13:04:57.082Z"
   },
   {
    "duration": 1026,
    "start_time": "2023-12-18T13:05:59.930Z"
   },
   {
    "duration": 145,
    "start_time": "2023-12-18T13:06:14.821Z"
   },
   {
    "duration": 149,
    "start_time": "2023-12-18T13:06:26.941Z"
   },
   {
    "duration": 153,
    "start_time": "2023-12-18T13:07:04.322Z"
   },
   {
    "duration": 1064,
    "start_time": "2023-12-18T13:08:28.898Z"
   },
   {
    "duration": 231,
    "start_time": "2023-12-18T13:08:58.150Z"
   },
   {
    "duration": 171,
    "start_time": "2023-12-18T13:10:16.852Z"
   },
   {
    "duration": 176,
    "start_time": "2023-12-18T13:10:31.222Z"
   },
   {
    "duration": 955,
    "start_time": "2023-12-18T13:14:30.398Z"
   },
   {
    "duration": 16,
    "start_time": "2023-12-18T13:14:51.419Z"
   },
   {
    "duration": 15,
    "start_time": "2023-12-18T13:15:26.988Z"
   },
   {
    "duration": 1308,
    "start_time": "2023-12-18T13:58:04.378Z"
   },
   {
    "duration": 203,
    "start_time": "2023-12-18T13:58:05.689Z"
   },
   {
    "duration": 18,
    "start_time": "2023-12-18T13:58:05.893Z"
   },
   {
    "duration": 25,
    "start_time": "2023-12-18T13:58:05.912Z"
   },
   {
    "duration": 9,
    "start_time": "2023-12-18T13:58:05.940Z"
   },
   {
    "duration": 12,
    "start_time": "2023-12-18T13:58:05.950Z"
   },
   {
    "duration": 11,
    "start_time": "2023-12-18T13:58:05.963Z"
   },
   {
    "duration": 322,
    "start_time": "2023-12-18T13:58:05.976Z"
   },
   {
    "duration": 393,
    "start_time": "2023-12-18T13:58:06.299Z"
   },
   {
    "duration": 321,
    "start_time": "2023-12-18T13:58:06.694Z"
   },
   {
    "duration": 446,
    "start_time": "2023-12-18T13:58:07.017Z"
   },
   {
    "duration": 325,
    "start_time": "2023-12-18T13:58:07.465Z"
   },
   {
    "duration": 457,
    "start_time": "2023-12-18T13:58:07.792Z"
   },
   {
    "duration": 137,
    "start_time": "2023-12-18T13:58:08.251Z"
   },
   {
    "duration": 4,
    "start_time": "2023-12-18T13:58:08.390Z"
   },
   {
    "duration": 171,
    "start_time": "2023-12-18T13:58:08.395Z"
   },
   {
    "duration": 5,
    "start_time": "2023-12-18T13:58:08.567Z"
   },
   {
    "duration": 439,
    "start_time": "2023-12-18T13:58:08.573Z"
   },
   {
    "duration": 10,
    "start_time": "2023-12-18T13:58:09.013Z"
   },
   {
    "duration": 161,
    "start_time": "2023-12-18T13:58:09.024Z"
   },
   {
    "duration": 25,
    "start_time": "2023-12-18T13:58:09.187Z"
   },
   {
    "duration": 50,
    "start_time": "2023-12-19T07:32:14.636Z"
   },
   {
    "duration": 1352,
    "start_time": "2023-12-19T07:32:20.737Z"
   },
   {
    "duration": 207,
    "start_time": "2023-12-19T07:32:22.091Z"
   },
   {
    "duration": 19,
    "start_time": "2023-12-19T07:32:22.300Z"
   },
   {
    "duration": 27,
    "start_time": "2023-12-19T07:32:22.320Z"
   },
   {
    "duration": 32,
    "start_time": "2023-12-19T07:32:22.350Z"
   },
   {
    "duration": 42,
    "start_time": "2023-12-19T07:32:22.384Z"
   },
   {
    "duration": 14,
    "start_time": "2023-12-19T07:32:22.428Z"
   },
   {
    "duration": 318,
    "start_time": "2023-12-19T07:32:22.444Z"
   },
   {
    "duration": 497,
    "start_time": "2023-12-19T07:32:22.764Z"
   },
   {
    "duration": 0,
    "start_time": "2023-12-19T07:32:23.263Z"
   },
   {
    "duration": 0,
    "start_time": "2023-12-19T07:32:23.264Z"
   },
   {
    "duration": 0,
    "start_time": "2023-12-19T07:32:23.265Z"
   },
   {
    "duration": 0,
    "start_time": "2023-12-19T07:32:23.266Z"
   },
   {
    "duration": 0,
    "start_time": "2023-12-19T07:32:23.267Z"
   },
   {
    "duration": 0,
    "start_time": "2023-12-19T07:32:23.268Z"
   },
   {
    "duration": 0,
    "start_time": "2023-12-19T07:32:23.269Z"
   },
   {
    "duration": 0,
    "start_time": "2023-12-19T07:32:23.271Z"
   },
   {
    "duration": 0,
    "start_time": "2023-12-19T07:32:23.272Z"
   },
   {
    "duration": 0,
    "start_time": "2023-12-19T07:32:23.274Z"
   },
   {
    "duration": 0,
    "start_time": "2023-12-19T07:32:23.275Z"
   },
   {
    "duration": 0,
    "start_time": "2023-12-19T07:32:23.300Z"
   },
   {
    "duration": 330,
    "start_time": "2023-12-19T07:32:37.176Z"
   },
   {
    "duration": 1143,
    "start_time": "2023-12-19T07:32:43.660Z"
   },
   {
    "duration": 94,
    "start_time": "2023-12-19T07:32:44.804Z"
   },
   {
    "duration": 18,
    "start_time": "2023-12-19T07:32:44.903Z"
   },
   {
    "duration": 27,
    "start_time": "2023-12-19T07:32:44.922Z"
   },
   {
    "duration": 14,
    "start_time": "2023-12-19T07:32:44.951Z"
   },
   {
    "duration": 42,
    "start_time": "2023-12-19T07:32:44.967Z"
   },
   {
    "duration": 69,
    "start_time": "2023-12-19T07:32:45.011Z"
   },
   {
    "duration": 382,
    "start_time": "2023-12-19T07:32:45.082Z"
   },
   {
    "duration": 407,
    "start_time": "2023-12-19T07:32:45.466Z"
   },
   {
    "duration": 349,
    "start_time": "2023-12-19T07:32:45.875Z"
   },
   {
    "duration": 691,
    "start_time": "2023-12-19T07:32:46.225Z"
   },
   {
    "duration": 732,
    "start_time": "2023-12-19T07:32:46.918Z"
   },
   {
    "duration": 565,
    "start_time": "2023-12-19T07:32:47.700Z"
   },
   {
    "duration": 152,
    "start_time": "2023-12-19T07:32:48.266Z"
   },
   {
    "duration": 4,
    "start_time": "2023-12-19T07:32:48.419Z"
   },
   {
    "duration": 168,
    "start_time": "2023-12-19T07:32:48.425Z"
   },
   {
    "duration": 6,
    "start_time": "2023-12-19T07:32:48.595Z"
   },
   {
    "duration": 442,
    "start_time": "2023-12-19T07:32:48.603Z"
   },
   {
    "duration": 10,
    "start_time": "2023-12-19T07:32:49.047Z"
   },
   {
    "duration": 163,
    "start_time": "2023-12-19T07:32:49.058Z"
   },
   {
    "duration": 14,
    "start_time": "2023-12-19T07:32:49.223Z"
   },
   {
    "duration": 325,
    "start_time": "2023-12-19T07:33:55.248Z"
   },
   {
    "duration": 328,
    "start_time": "2023-12-19T07:34:30.252Z"
   },
   {
    "duration": 453,
    "start_time": "2023-12-19T07:34:56.283Z"
   },
   {
    "duration": 374,
    "start_time": "2023-12-19T07:35:55.658Z"
   },
   {
    "duration": 491,
    "start_time": "2023-12-19T07:36:26.009Z"
   },
   {
    "duration": 427,
    "start_time": "2023-12-19T07:36:34.642Z"
   },
   {
    "duration": 458,
    "start_time": "2023-12-19T07:39:17.102Z"
   },
   {
    "duration": 202,
    "start_time": "2023-12-19T07:41:09.836Z"
   },
   {
    "duration": 159,
    "start_time": "2023-12-19T07:41:31.578Z"
   },
   {
    "duration": 155,
    "start_time": "2023-12-19T07:42:24.133Z"
   },
   {
    "duration": 448,
    "start_time": "2023-12-19T07:49:22.701Z"
   },
   {
    "duration": 372,
    "start_time": "2023-12-19T07:49:36.561Z"
   },
   {
    "duration": 16,
    "start_time": "2023-12-19T07:50:47.943Z"
   },
   {
    "duration": 164,
    "start_time": "2023-12-19T07:50:58.614Z"
   },
   {
    "duration": 18,
    "start_time": "2023-12-19T07:51:14.567Z"
   },
   {
    "duration": 1295,
    "start_time": "2023-12-19T10:34:36.745Z"
   },
   {
    "duration": 205,
    "start_time": "2023-12-19T10:34:38.042Z"
   },
   {
    "duration": 23,
    "start_time": "2023-12-19T10:34:38.248Z"
   },
   {
    "duration": 23,
    "start_time": "2023-12-19T10:34:38.272Z"
   },
   {
    "duration": 24,
    "start_time": "2023-12-19T10:34:38.296Z"
   },
   {
    "duration": 33,
    "start_time": "2023-12-19T10:34:38.321Z"
   },
   {
    "duration": 14,
    "start_time": "2023-12-19T10:34:38.355Z"
   },
   {
    "duration": 267,
    "start_time": "2023-12-19T10:34:38.370Z"
   },
   {
    "duration": 368,
    "start_time": "2023-12-19T10:34:38.639Z"
   },
   {
    "duration": 335,
    "start_time": "2023-12-19T10:34:39.009Z"
   },
   {
    "duration": 459,
    "start_time": "2023-12-19T10:34:39.351Z"
   },
   {
    "duration": 322,
    "start_time": "2023-12-19T10:34:39.811Z"
   },
   {
    "duration": 425,
    "start_time": "2023-12-19T10:34:40.135Z"
   },
   {
    "duration": 143,
    "start_time": "2023-12-19T10:34:40.562Z"
   },
   {
    "duration": 4,
    "start_time": "2023-12-19T10:34:40.707Z"
   },
   {
    "duration": 148,
    "start_time": "2023-12-19T10:34:40.712Z"
   },
   {
    "duration": 3,
    "start_time": "2023-12-19T10:34:40.861Z"
   },
   {
    "duration": 398,
    "start_time": "2023-12-19T10:34:40.866Z"
   },
   {
    "duration": 10,
    "start_time": "2023-12-19T10:34:41.266Z"
   },
   {
    "duration": 159,
    "start_time": "2023-12-19T10:34:41.277Z"
   },
   {
    "duration": 21,
    "start_time": "2023-12-19T10:34:41.438Z"
   }
  ],
  "kernelspec": {
   "display_name": "Python 3 (ipykernel)",
   "language": "python",
   "name": "python3"
  },
  "language_info": {
   "codemirror_mode": {
    "name": "ipython",
    "version": 3
   },
   "file_extension": ".py",
   "mimetype": "text/x-python",
   "name": "python",
   "nbconvert_exporter": "python",
   "pygments_lexer": "ipython3",
   "version": "3.9.5"
  },
  "toc": {
   "base_numbering": 1,
   "nav_menu": {},
   "number_sections": true,
   "sideBar": true,
   "skip_h1_title": true,
   "title_cell": "Table of Contents",
   "title_sidebar": "Contents",
   "toc_cell": false,
   "toc_position": {
    "height": "calc(100% - 180px)",
    "left": "10px",
    "top": "150px",
    "width": "261px"
   },
   "toc_section_display": true,
   "toc_window_display": true
  }
 },
 "nbformat": 4,
 "nbformat_minor": 2
}
